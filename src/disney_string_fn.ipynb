{
    "metadata": {
        "kernelspec": {
            "name": "SQL",
            "display_name": "SQL",
            "language": "sql"
        },
        "language_info": {
            "name": "sql",
            "version": ""
        }
    },
    "nbformat_minor": 2,
    "nbformat": 4,
    "cells": [
        {
            "cell_type": "markdown",
            "source": [
                "# string manipulation: UPPER(), LOWER(), LEN(), SUBSTRING(), CHARINDEX(), LEFT()\n",
                "## Server: Microsoft SQL Server\n",
                "## Database: disney\n",
                "## Author: Prasert Kanawattanachai\n",
                "## YouTube: https://youtu.be/nFCqMax9VKA"
            ],
            "metadata": {}
        },
        {
            "cell_type": "code",
            "source": [
                "SELECT top 5\n",
                "    movie_title,\n",
                "    upper(movie_title),\n",
                "    lower(movie_title),\n",
                "    len(movie_title), -- length,\n",
                "    SUBSTRING(movie_title, 1, 10) + '...',\n",
                "    SUBSTRING(movie_title, 5, 10) + '...'\n",
                " from movie_gross"
            ],
            "metadata": {},
            "outputs": [
                {
                    "output_type": "display_data",
                    "data": {
                        "text/html": "(5 rows affected)"
                    },
                    "metadata": {}
                },
                {
                    "output_type": "display_data",
                    "data": {
                        "text/html": "Total execution time: 00:00:00.083"
                    },
                    "metadata": {}
                },
                {
                    "output_type": "execute_result",
                    "execution_count": 6,
                    "data": {
                        "application/vnd.dataresource+json": {
                            "schema": {
                                "fields": [
                                    {
                                        "name": "movie_title"
                                    },
                                    {
                                        "name": "(No column name)"
                                    },
                                    {
                                        "name": "(No column name)"
                                    },
                                    {
                                        "name": "(No column name)"
                                    },
                                    {
                                        "name": "(No column name)"
                                    },
                                    {
                                        "name": "(No column name)"
                                    }
                                ]
                            },
                            "data": [
                                {
                                    "0": "Snow White and the Seven Dwarfs",
                                    "1": "SNOW WHITE AND THE SEVEN DWARFS",
                                    "2": "snow white and the seven dwarfs",
                                    "3": "31",
                                    "4": "Snow White...",
                                    "5": " White and..."
                                },
                                {
                                    "0": "Pinocchio",
                                    "1": "PINOCCHIO",
                                    "2": "pinocchio",
                                    "3": "9",
                                    "4": "Pinocchio...",
                                    "5": "cchio..."
                                },
                                {
                                    "0": "Fantasia",
                                    "1": "FANTASIA",
                                    "2": "fantasia",
                                    "3": "8",
                                    "4": "Fantasia...",
                                    "5": "asia..."
                                },
                                {
                                    "0": "Song of the South",
                                    "1": "SONG OF THE SOUTH",
                                    "2": "song of the south",
                                    "3": "17",
                                    "4": "Song of th...",
                                    "5": " of the So..."
                                },
                                {
                                    "0": "Cinderella",
                                    "1": "CINDERELLA",
                                    "2": "cinderella",
                                    "3": "10",
                                    "4": "Cinderella...",
                                    "5": "erella..."
                                }
                            ]
                        },
                        "text/html": "<table><tr><th>movie_title</th><th>(No column name)</th><th>(No column name)</th><th>(No column name)</th><th>(No column name)</th><th>(No column name)</th></tr><tr><td>Snow White and the Seven Dwarfs</td><td>SNOW WHITE AND THE SEVEN DWARFS</td><td>snow white and the seven dwarfs</td><td>31</td><td>Snow White...</td><td> White and...</td></tr><tr><td>Pinocchio</td><td>PINOCCHIO</td><td>pinocchio</td><td>9</td><td>Pinocchio...</td><td>cchio...</td></tr><tr><td>Fantasia</td><td>FANTASIA</td><td>fantasia</td><td>8</td><td>Fantasia...</td><td>asia...</td></tr><tr><td>Song of the South</td><td>SONG OF THE SOUTH</td><td>song of the south</td><td>17</td><td>Song of th...</td><td> of the So...</td></tr><tr><td>Cinderella</td><td>CINDERELLA</td><td>cinderella</td><td>10</td><td>Cinderella...</td><td>erella...</td></tr></table>"
                    },
                    "metadata": {}
                }
            ],
            "execution_count": 6
        },
        {
            "cell_type": "code",
            "source": [
                "select top 1 with ties\n",
                "    movie_title,\n",
                "    len(movie_title) [length]\n",
                "    from movie_gross\n",
                "    order by [length] desc"
            ],
            "metadata": {},
            "outputs": [
                {
                    "output_type": "display_data",
                    "data": {
                        "text/html": "(2 rows affected)"
                    },
                    "metadata": {}
                },
                {
                    "output_type": "display_data",
                    "data": {
                        "text/html": "Total execution time: 00:00:00.134"
                    },
                    "metadata": {}
                },
                {
                    "output_type": "execute_result",
                    "execution_count": 8,
                    "data": {
                        "application/vnd.dataresource+json": {
                            "schema": {
                                "fields": [
                                    {
                                        "name": "movie_title"
                                    },
                                    {
                                        "name": "length"
                                    }
                                ]
                            },
                            "data": [
                                {
                                    "0": "The Princess Diaries 2: Royal Engagement",
                                    "1": "40"
                                },
                                {
                                    "0": "The Chronicles of Narnia: Prince Caspian",
                                    "1": "40"
                                }
                            ]
                        },
                        "text/html": "<table><tr><th>movie_title</th><th>length</th></tr><tr><td>The Princess Diaries 2: Royal Engagement</td><td>40</td></tr><tr><td>The Chronicles of Narnia: Prince Caspian</td><td>40</td></tr></table>"
                    },
                    "metadata": {}
                }
            ],
            "execution_count": 8
        },
        {
            "cell_type": "code",
            "source": "select top 5 * from director",
            "metadata": {},
            "outputs": [
                {
                    "output_type": "display_data",
                    "data": {
                        "text/html": "(5 rows affected)"
                    },
                    "metadata": {}
                },
                {
                    "output_type": "display_data",
                    "data": {
                        "text/html": "Total execution time: 00:00:00.087"
                    },
                    "metadata": {}
                },
                {
                    "output_type": "execute_result",
                    "execution_count": 9,
                    "data": {
                        "application/vnd.dataresource+json": {
                            "schema": {
                                "fields": [
                                    {
                                        "name": "movie_title"
                                    },
                                    {
                                        "name": "director"
                                    }
                                ]
                            },
                            "data": [
                                {
                                    "0": "Snow White and the Seven Dwarfs",
                                    "1": "David Hand"
                                },
                                {
                                    "0": "Pinocchio",
                                    "1": "Ben Sharpsteen"
                                },
                                {
                                    "0": "Fantasia",
                                    "1": "full credits"
                                },
                                {
                                    "0": "Dumbo",
                                    "1": "Ben Sharpsteen"
                                },
                                {
                                    "0": "Bambi",
                                    "1": "David Hand"
                                }
                            ]
                        },
                        "text/html": "<table><tr><th>movie_title</th><th>director</th></tr><tr><td>Snow White and the Seven Dwarfs</td><td>David Hand</td></tr><tr><td>Pinocchio</td><td>Ben Sharpsteen</td></tr><tr><td>Fantasia</td><td>full credits</td></tr><tr><td>Dumbo</td><td>Ben Sharpsteen</td></tr><tr><td>Bambi</td><td>David Hand</td></tr></table>"
                    },
                    "metadata": {}
                }
            ],
            "execution_count": 9
        },
        {
            "cell_type": "code",
            "source": [
                "select top 5 \n",
                "    movie_title, director,\n",
                "    charindex(' ', director) [space],\n",
                "    substring(director, 1, charindex(' ', director) - 1) [first_name],\n",
                "    substring(director, charindex(' ', director) + 1, 100) [last_name],\n",
                "    left(director, charindex(' ', director) - 1)\n",
                "    from director"
            ],
            "metadata": {},
            "outputs": [
                {
                    "output_type": "display_data",
                    "data": {
                        "text/html": "(5 rows affected)"
                    },
                    "metadata": {}
                },
                {
                    "output_type": "display_data",
                    "data": {
                        "text/html": "Total execution time: 00:00:00.060"
                    },
                    "metadata": {}
                },
                {
                    "output_type": "execute_result",
                    "execution_count": 14,
                    "data": {
                        "application/vnd.dataresource+json": {
                            "schema": {
                                "fields": [
                                    {
                                        "name": "movie_title"
                                    },
                                    {
                                        "name": "director"
                                    },
                                    {
                                        "name": "space"
                                    },
                                    {
                                        "name": "first_name"
                                    },
                                    {
                                        "name": "last_name"
                                    },
                                    {
                                        "name": "(No column name)"
                                    }
                                ]
                            },
                            "data": [
                                {
                                    "0": "Snow White and the Seven Dwarfs",
                                    "1": "David Hand",
                                    "2": "6",
                                    "3": "David",
                                    "4": "Hand",
                                    "5": "David"
                                },
                                {
                                    "0": "Pinocchio",
                                    "1": "Ben Sharpsteen",
                                    "2": "4",
                                    "3": "Ben",
                                    "4": "Sharpsteen",
                                    "5": "Ben"
                                },
                                {
                                    "0": "Fantasia",
                                    "1": "full credits",
                                    "2": "5",
                                    "3": "full",
                                    "4": "credits",
                                    "5": "full"
                                },
                                {
                                    "0": "Dumbo",
                                    "1": "Ben Sharpsteen",
                                    "2": "4",
                                    "3": "Ben",
                                    "4": "Sharpsteen",
                                    "5": "Ben"
                                },
                                {
                                    "0": "Bambi",
                                    "1": "David Hand",
                                    "2": "6",
                                    "3": "David",
                                    "4": "Hand",
                                    "5": "David"
                                }
                            ]
                        },
                        "text/html": "<table><tr><th>movie_title</th><th>director</th><th>space</th><th>first_name</th><th>last_name</th><th>(No column name)</th></tr><tr><td>Snow White and the Seven Dwarfs</td><td>David Hand</td><td>6</td><td>David</td><td>Hand</td><td>David</td></tr><tr><td>Pinocchio</td><td>Ben Sharpsteen</td><td>4</td><td>Ben</td><td>Sharpsteen</td><td>Ben</td></tr><tr><td>Fantasia</td><td>full credits</td><td>5</td><td>full</td><td>credits</td><td>full</td></tr><tr><td>Dumbo</td><td>Ben Sharpsteen</td><td>4</td><td>Ben</td><td>Sharpsteen</td><td>Ben</td></tr><tr><td>Bambi</td><td>David Hand</td><td>6</td><td>David</td><td>Hand</td><td>David</td></tr></table>"
                    },
                    "metadata": {}
                }
            ],
            "execution_count": 14
        },
        {
            "cell_type": "code",
            "source": [
                "select \n",
                "    movie_title, \n",
                "    substring(director, 1, charindex(' ', director) - 1) [first_name],\n",
                "    substring(director, charindex(' ', director) + 1, 100) [last_name],\n",
                "    upper(substring(director, charindex(' ', director) + 1, 100)) [LNAME],\n",
                "    upper(substring(director, charindex(' ', director) + 1, 100)) + ', ' + LEFT(substring(director, 1, charindex(' ', director) - 1), 1) + '.'\n",
                "    from director\n",
                "    order by [last_name]"
            ],
            "metadata": {},
            "outputs": [
                {
                    "output_type": "display_data",
                    "data": {
                        "text/html": "(56 rows affected)"
                    },
                    "metadata": {}
                },
                {
                    "output_type": "display_data",
                    "data": {
                        "text/html": "Total execution time: 00:00:00.062"
                    },
                    "metadata": {}
                },
                {
                    "output_type": "execute_result",
                    "execution_count": 20,
                    "data": {
                        "application/vnd.dataresource+json": {
                            "schema": {
                                "fields": [
                                    {
                                        "name": "movie_title"
                                    },
                                    {
                                        "name": "first_name"
                                    },
                                    {
                                        "name": "last_name"
                                    },
                                    {
                                        "name": "LNAME"
                                    },
                                    {
                                        "name": "(No column name)"
                                    }
                                ]
                            },
                            "data": [
                                {
                                    "0": "The Lion King",
                                    "1": "Roger",
                                    "2": "Allers",
                                    "3": "ALLERS",
                                    "4": "ALLERS, R."
                                },
                                {
                                    "0": "The Black Cauldron",
                                    "1": "Ted",
                                    "2": "Berman",
                                    "3": "BERMAN",
                                    "4": "BERMAN, T."
                                },
                                {
                                    "0": "Tarzan",
                                    "1": "Chris",
                                    "2": "Buck",
                                    "3": "BUCK",
                                    "4": "BUCK, C."
                                },
                                {
                                    "0": "Frozen",
                                    "1": "Chris",
                                    "2": "Buck",
                                    "3": "BUCK",
                                    "4": "BUCK, C."
                                },
                                {
                                    "0": "Moana",
                                    "1": "Ron",
                                    "2": "Clements",
                                    "3": "CLEMENTS",
                                    "4": "CLEMENTS, R."
                                },
                                {
                                    "0": "The Princess and the Frog",
                                    "1": "Ron",
                                    "2": "Clements",
                                    "3": "CLEMENTS",
                                    "4": "CLEMENTS, R."
                                },
                                {
                                    "0": "Treasure Planet",
                                    "1": "Ron",
                                    "2": "Clements",
                                    "3": "CLEMENTS",
                                    "4": "CLEMENTS, R."
                                },
                                {
                                    "0": "Hercules",
                                    "1": "Ron",
                                    "2": "Clements",
                                    "3": "CLEMENTS",
                                    "4": "CLEMENTS, R."
                                },
                                {
                                    "0": "Aladdin",
                                    "1": "Ron",
                                    "2": "Clements",
                                    "3": "CLEMENTS",
                                    "4": "CLEMENTS, R."
                                },
                                {
                                    "0": "The Great Mouse Detective",
                                    "1": "Ron",
                                    "2": "Clements",
                                    "3": "CLEMENTS",
                                    "4": "CLEMENTS, R."
                                },
                                {
                                    "0": "The Little Mermaid",
                                    "1": "Ron",
                                    "2": "Clements",
                                    "3": "CLEMENTS",
                                    "4": "CLEMENTS, R."
                                },
                                {
                                    "0": "Mulan",
                                    "1": "Barry",
                                    "2": "Cook",
                                    "3": "COOK",
                                    "4": "COOK, B."
                                },
                                {
                                    "0": "Fantasia 2000",
                                    "1": "full",
                                    "2": "credits",
                                    "3": "CREDITS",
                                    "4": "CREDITS, f."
                                },
                                {
                                    "0": "Fantasia",
                                    "1": "full",
                                    "2": "credits",
                                    "3": "CREDITS",
                                    "4": "CREDITS, f."
                                },
                                {
                                    "0": "The Emperor's New Groove",
                                    "1": "Mark",
                                    "2": "Dindal",
                                    "3": "DINDAL",
                                    "4": "DINDAL, M."
                                },
                                {
                                    "0": "Chicken Little",
                                    "1": "Mark",
                                    "2": "Dindal",
                                    "3": "DINDAL",
                                    "4": "DINDAL, M."
                                },
                                {
                                    "0": "The Three Caballeros",
                                    "1": "Norman",
                                    "2": "Ferguson",
                                    "3": "FERGUSON",
                                    "4": "FERGUSON, N."
                                },
                                {
                                    "0": "Home on the Range",
                                    "1": "Will",
                                    "2": "Finn",
                                    "3": "FINN",
                                    "4": "FINN, W."
                                },
                                {
                                    "0": "Pocahontas",
                                    "1": "Mike",
                                    "2": "Gabriel",
                                    "3": "GABRIEL",
                                    "4": "GABRIEL, M."
                                },
                                {
                                    "0": "The Rescuers Down Under",
                                    "1": "Mike",
                                    "2": "Gabriel",
                                    "3": "GABRIEL",
                                    "4": "GABRIEL, M."
                                },
                                {
                                    "0": "Melody Time",
                                    "1": "Clyde",
                                    "2": "Geronimi",
                                    "3": "GERONIMI",
                                    "4": "GERONIMI, C."
                                },
                                {
                                    "0": "Alice in Wonderland",
                                    "1": "Clyde",
                                    "2": "Geronimi",
                                    "3": "GERONIMI",
                                    "4": "GERONIMI, C."
                                },
                                {
                                    "0": "Sleeping Beauty",
                                    "1": "Clyde",
                                    "2": "Geronimi",
                                    "3": "GERONIMI",
                                    "4": "GERONIMI, C."
                                },
                                {
                                    "0": "Tangled",
                                    "1": "Nathan",
                                    "2": "Greno",
                                    "3": "GRENO",
                                    "4": "GRENO, N."
                                },
                                {
                                    "0": "Big Hero 6",
                                    "1": "Don",
                                    "2": "Hall",
                                    "3": "HALL",
                                    "4": "HALL, D."
                                },
                                {
                                    "0": "Bambi",
                                    "1": "David",
                                    "2": "Hand",
                                    "3": "HAND",
                                    "4": "HAND, D."
                                },
                                {
                                    "0": "Snow White and the Seven Dwarfs",
                                    "1": "David",
                                    "2": "Hand",
                                    "3": "HAND",
                                    "4": "HAND, D."
                                },
                                {
                                    "0": "Zootopia",
                                    "1": "Byron",
                                    "2": "Howard",
                                    "3": "HOWARD",
                                    "4": "HOWARD, B."
                                },
                                {
                                    "0": "Winnie the Pooh",
                                    "1": "Stephen",
                                    "2": "J. Anderson",
                                    "3": "J. ANDERSON",
                                    "4": "J. ANDERSON, S."
                                },
                                {
                                    "0": "Meet the Robinsons",
                                    "1": "Stephen",
                                    "2": "J. Anderson",
                                    "3": "J. ANDERSON",
                                    "4": "J. ANDERSON, S."
                                },
                                {
                                    "0": "Cinderella",
                                    "1": "Wilfred",
                                    "2": "Jackson",
                                    "3": "JACKSON",
                                    "4": "JACKSON, W."
                                },
                                {
                                    "0": "The Adventures of Ichabod and Mr. Toad",
                                    "1": "Jack",
                                    "2": "Kinney",
                                    "3": "KINNEY",
                                    "4": "KINNEY, J."
                                },
                                {
                                    "0": "Saludos Amigos",
                                    "1": "Jack",
                                    "2": "Kinney",
                                    "3": "KINNEY",
                                    "4": "KINNEY, J."
                                },
                                {
                                    "0": "Make Mine Music",
                                    "1": "Jack",
                                    "2": "Kinney",
                                    "3": "KINNEY",
                                    "4": "KINNEY, J."
                                },
                                {
                                    "0": "Fun and Fancy Free",
                                    "1": "Jack",
                                    "2": "Kinney",
                                    "3": "KINNEY",
                                    "4": "KINNEY, J."
                                },
                                {
                                    "0": "Peter Pan",
                                    "1": "Hamilton",
                                    "2": "Luske",
                                    "3": "LUSKE",
                                    "4": "LUSKE, H."
                                },
                                {
                                    "0": "Lady and the Tramp",
                                    "1": "Hamilton",
                                    "2": "Luske",
                                    "3": "LUSKE",
                                    "4": "LUSKE, H."
                                },
                                {
                                    "0": "Wreck-It Ralph",
                                    "1": "Rich",
                                    "2": "Moore",
                                    "3": "MOORE",
                                    "4": "MOORE, R."
                                },
                                {
                                    "0": "101 Dalmatians",
                                    "1": "Wolfgang",
                                    "2": "Reitherman",
                                    "3": "REITHERMAN",
                                    "4": "REITHERMAN, W."
                                },
                                {
                                    "0": "The Sword in the Stone",
                                    "1": "Wolfgang",
                                    "2": "Reitherman",
                                    "3": "REITHERMAN",
                                    "4": "REITHERMAN, W."
                                },
                                {
                                    "0": "The Jungle Book",
                                    "1": "Wolfgang",
                                    "2": "Reitherman",
                                    "3": "REITHERMAN",
                                    "4": "REITHERMAN, W."
                                },
                                {
                                    "0": "The Aristocats",
                                    "1": "Wolfgang",
                                    "2": "Reitherman",
                                    "3": "REITHERMAN",
                                    "4": "REITHERMAN, W."
                                },
                                {
                                    "0": "Robin Hood",
                                    "1": "Wolfgang",
                                    "2": "Reitherman",
                                    "3": "REITHERMAN",
                                    "4": "REITHERMAN, W."
                                },
                                {
                                    "0": "The Many Adventures of Winnie the Pooh",
                                    "1": "Wolfgang",
                                    "2": "Reitherman",
                                    "3": "REITHERMAN",
                                    "4": "REITHERMAN, W."
                                },
                                {
                                    "0": "The Rescuers",
                                    "1": "Wolfgang",
                                    "2": "Reitherman",
                                    "3": "REITHERMAN",
                                    "4": "REITHERMAN, W."
                                },
                                {
                                    "0": "Lilo & Stitch",
                                    "1": "Chris",
                                    "2": "Sanders",
                                    "3": "SANDERS",
                                    "4": "SANDERS, C."
                                },
                                {
                                    "0": "Oliver & Company",
                                    "1": "George",
                                    "2": "Scribner",
                                    "3": "SCRIBNER",
                                    "4": "SCRIBNER, G."
                                },
                                {
                                    "0": "Pinocchio",
                                    "1": "Ben",
                                    "2": "Sharpsteen",
                                    "3": "SHARPSTEEN",
                                    "4": "SHARPSTEEN, B."
                                },
                                {
                                    "0": "Dumbo",
                                    "1": "Ben",
                                    "2": "Sharpsteen",
                                    "3": "SHARPSTEEN",
                                    "4": "SHARPSTEEN, B."
                                },
                                {
                                    "0": "The Fox and the Hound",
                                    "1": "Art",
                                    "2": "Stevens",
                                    "3": "STEVENS",
                                    "4": "STEVENS, A."
                                },
                                {
                                    "0": "Beauty and the Beast",
                                    "1": "Gary",
                                    "2": "Trousdale",
                                    "3": "TROUSDALE",
                                    "4": "TROUSDALE, G."
                                },
                                {
                                    "0": "The Hunchback of Notre Dame",
                                    "1": "Gary",
                                    "2": "Trousdale",
                                    "3": "TROUSDALE",
                                    "4": "TROUSDALE, G."
                                },
                                {
                                    "0": "Atlantis: The Lost Empire",
                                    "1": "Gary",
                                    "2": "Trousdale",
                                    "3": "TROUSDALE",
                                    "4": "TROUSDALE, G."
                                },
                                {
                                    "0": "Brother Bear",
                                    "1": "Robert",
                                    "2": "Walker",
                                    "3": "WALKER",
                                    "4": "WALKER, R."
                                },
                                {
                                    "0": "Bolt",
                                    "1": "Chris",
                                    "2": "Williams",
                                    "3": "WILLIAMS",
                                    "4": "WILLIAMS, C."
                                },
                                {
                                    "0": "Dinosaur",
                                    "1": "Ralph",
                                    "2": "Zondag",
                                    "3": "ZONDAG",
                                    "4": "ZONDAG, R."
                                }
                            ]
                        },
                        "text/html": "<table><tr><th>movie_title</th><th>first_name</th><th>last_name</th><th>LNAME</th><th>(No column name)</th></tr><tr><td>The Lion King</td><td>Roger</td><td>Allers</td><td>ALLERS</td><td>ALLERS, R.</td></tr><tr><td>The Black Cauldron</td><td>Ted</td><td>Berman</td><td>BERMAN</td><td>BERMAN, T.</td></tr><tr><td>Tarzan</td><td>Chris</td><td>Buck</td><td>BUCK</td><td>BUCK, C.</td></tr><tr><td>Frozen</td><td>Chris</td><td>Buck</td><td>BUCK</td><td>BUCK, C.</td></tr><tr><td>Moana</td><td>Ron</td><td>Clements</td><td>CLEMENTS</td><td>CLEMENTS, R.</td></tr><tr><td>The Princess and the Frog</td><td>Ron</td><td>Clements</td><td>CLEMENTS</td><td>CLEMENTS, R.</td></tr><tr><td>Treasure Planet</td><td>Ron</td><td>Clements</td><td>CLEMENTS</td><td>CLEMENTS, R.</td></tr><tr><td>Hercules</td><td>Ron</td><td>Clements</td><td>CLEMENTS</td><td>CLEMENTS, R.</td></tr><tr><td>Aladdin</td><td>Ron</td><td>Clements</td><td>CLEMENTS</td><td>CLEMENTS, R.</td></tr><tr><td>The Great Mouse Detective</td><td>Ron</td><td>Clements</td><td>CLEMENTS</td><td>CLEMENTS, R.</td></tr><tr><td>The Little Mermaid</td><td>Ron</td><td>Clements</td><td>CLEMENTS</td><td>CLEMENTS, R.</td></tr><tr><td>Mulan</td><td>Barry</td><td>Cook</td><td>COOK</td><td>COOK, B.</td></tr><tr><td>Fantasia 2000</td><td>full</td><td>credits</td><td>CREDITS</td><td>CREDITS, f.</td></tr><tr><td>Fantasia</td><td>full</td><td>credits</td><td>CREDITS</td><td>CREDITS, f.</td></tr><tr><td>The Emperor's New Groove</td><td>Mark</td><td>Dindal</td><td>DINDAL</td><td>DINDAL, M.</td></tr><tr><td>Chicken Little</td><td>Mark</td><td>Dindal</td><td>DINDAL</td><td>DINDAL, M.</td></tr><tr><td>The Three Caballeros</td><td>Norman</td><td>Ferguson</td><td>FERGUSON</td><td>FERGUSON, N.</td></tr><tr><td>Home on the Range</td><td>Will</td><td>Finn</td><td>FINN</td><td>FINN, W.</td></tr><tr><td>Pocahontas</td><td>Mike</td><td>Gabriel</td><td>GABRIEL</td><td>GABRIEL, M.</td></tr><tr><td>The Rescuers Down Under</td><td>Mike</td><td>Gabriel</td><td>GABRIEL</td><td>GABRIEL, M.</td></tr><tr><td>Melody Time</td><td>Clyde</td><td>Geronimi</td><td>GERONIMI</td><td>GERONIMI, C.</td></tr><tr><td>Alice in Wonderland</td><td>Clyde</td><td>Geronimi</td><td>GERONIMI</td><td>GERONIMI, C.</td></tr><tr><td>Sleeping Beauty</td><td>Clyde</td><td>Geronimi</td><td>GERONIMI</td><td>GERONIMI, C.</td></tr><tr><td>Tangled</td><td>Nathan</td><td>Greno</td><td>GRENO</td><td>GRENO, N.</td></tr><tr><td>Big Hero 6</td><td>Don</td><td>Hall</td><td>HALL</td><td>HALL, D.</td></tr><tr><td>Bambi</td><td>David</td><td>Hand</td><td>HAND</td><td>HAND, D.</td></tr><tr><td>Snow White and the Seven Dwarfs</td><td>David</td><td>Hand</td><td>HAND</td><td>HAND, D.</td></tr><tr><td>Zootopia</td><td>Byron</td><td>Howard</td><td>HOWARD</td><td>HOWARD, B.</td></tr><tr><td>Winnie the Pooh</td><td>Stephen</td><td>J. Anderson</td><td>J. ANDERSON</td><td>J. ANDERSON, S.</td></tr><tr><td>Meet the Robinsons</td><td>Stephen</td><td>J. Anderson</td><td>J. ANDERSON</td><td>J. ANDERSON, S.</td></tr><tr><td>Cinderella</td><td>Wilfred</td><td>Jackson</td><td>JACKSON</td><td>JACKSON, W.</td></tr><tr><td>The Adventures of Ichabod and Mr. Toad</td><td>Jack</td><td>Kinney</td><td>KINNEY</td><td>KINNEY, J.</td></tr><tr><td>Saludos Amigos</td><td>Jack</td><td>Kinney</td><td>KINNEY</td><td>KINNEY, J.</td></tr><tr><td>Make Mine Music</td><td>Jack</td><td>Kinney</td><td>KINNEY</td><td>KINNEY, J.</td></tr><tr><td>Fun and Fancy Free</td><td>Jack</td><td>Kinney</td><td>KINNEY</td><td>KINNEY, J.</td></tr><tr><td>Peter Pan</td><td>Hamilton</td><td>Luske</td><td>LUSKE</td><td>LUSKE, H.</td></tr><tr><td>Lady and the Tramp</td><td>Hamilton</td><td>Luske</td><td>LUSKE</td><td>LUSKE, H.</td></tr><tr><td>Wreck-It Ralph</td><td>Rich</td><td>Moore</td><td>MOORE</td><td>MOORE, R.</td></tr><tr><td>101 Dalmatians</td><td>Wolfgang</td><td>Reitherman</td><td>REITHERMAN</td><td>REITHERMAN, W.</td></tr><tr><td>The Sword in the Stone</td><td>Wolfgang</td><td>Reitherman</td><td>REITHERMAN</td><td>REITHERMAN, W.</td></tr><tr><td>The Jungle Book</td><td>Wolfgang</td><td>Reitherman</td><td>REITHERMAN</td><td>REITHERMAN, W.</td></tr><tr><td>The Aristocats</td><td>Wolfgang</td><td>Reitherman</td><td>REITHERMAN</td><td>REITHERMAN, W.</td></tr><tr><td>Robin Hood</td><td>Wolfgang</td><td>Reitherman</td><td>REITHERMAN</td><td>REITHERMAN, W.</td></tr><tr><td>The Many Adventures of Winnie the Pooh</td><td>Wolfgang</td><td>Reitherman</td><td>REITHERMAN</td><td>REITHERMAN, W.</td></tr><tr><td>The Rescuers</td><td>Wolfgang</td><td>Reitherman</td><td>REITHERMAN</td><td>REITHERMAN, W.</td></tr><tr><td>Lilo &amp; Stitch</td><td>Chris</td><td>Sanders</td><td>SANDERS</td><td>SANDERS, C.</td></tr><tr><td>Oliver &amp; Company</td><td>George</td><td>Scribner</td><td>SCRIBNER</td><td>SCRIBNER, G.</td></tr><tr><td>Pinocchio</td><td>Ben</td><td>Sharpsteen</td><td>SHARPSTEEN</td><td>SHARPSTEEN, B.</td></tr><tr><td>Dumbo</td><td>Ben</td><td>Sharpsteen</td><td>SHARPSTEEN</td><td>SHARPSTEEN, B.</td></tr><tr><td>The Fox and the Hound</td><td>Art</td><td>Stevens</td><td>STEVENS</td><td>STEVENS, A.</td></tr><tr><td>Beauty and the Beast</td><td>Gary</td><td>Trousdale</td><td>TROUSDALE</td><td>TROUSDALE, G.</td></tr><tr><td>The Hunchback of Notre Dame</td><td>Gary</td><td>Trousdale</td><td>TROUSDALE</td><td>TROUSDALE, G.</td></tr><tr><td>Atlantis: The Lost Empire</td><td>Gary</td><td>Trousdale</td><td>TROUSDALE</td><td>TROUSDALE, G.</td></tr><tr><td>Brother Bear</td><td>Robert</td><td>Walker</td><td>WALKER</td><td>WALKER, R.</td></tr><tr><td>Bolt</td><td>Chris</td><td>Williams</td><td>WILLIAMS</td><td>WILLIAMS, C.</td></tr><tr><td>Dinosaur</td><td>Ralph</td><td>Zondag</td><td>ZONDAG</td><td>ZONDAG, R.</td></tr></table>"
                    },
                    "metadata": {}
                }
            ],
            "execution_count": 20
        },
        {
            "cell_type": "code",
            "source": "",
            "metadata": {},
            "outputs": [],
            "execution_count": 0
        }
    ]
}