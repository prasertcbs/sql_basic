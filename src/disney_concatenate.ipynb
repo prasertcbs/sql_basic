{
    "metadata": {
        "kernelspec": {
            "name": "SQL",
            "display_name": "SQL",
            "language": "sql"
        },
        "language_info": {
            "name": "sql",
            "version": ""
        }
    },
    "nbformat_minor": 2,
    "nbformat": 4,
    "cells": [
        {
            "cell_type": "markdown",
            "source": [
                "# concatenate: CONCAT()\n",
                "## Server: Microsoft SQL Server\n",
                "## Database: disney\n",
                "## Author: Prasert Kanawattanachai\n",
                "## YouTube: https://youtu.be/oYeRMxmnUf8"
            ],
            "metadata": {}
        },
        {
            "cell_type": "code",
            "source": "select top 10 * from movie_gross",
            "metadata": {},
            "outputs": [
                {
                    "output_type": "display_data",
                    "data": {
                        "text/html": "(10 rows affected)"
                    },
                    "metadata": {}
                },
                {
                    "output_type": "display_data",
                    "data": {
                        "text/html": "Total execution time: 00:00:00.207"
                    },
                    "metadata": {}
                },
                {
                    "output_type": "execute_result",
                    "execution_count": 1,
                    "data": {
                        "application/vnd.dataresource+json": {
                            "schema": {
                                "fields": [
                                    {
                                        "name": "movie_title"
                                    },
                                    {
                                        "name": "release_date"
                                    },
                                    {
                                        "name": "genre"
                                    },
                                    {
                                        "name": "mpaa_rating"
                                    },
                                    {
                                        "name": "total_gross"
                                    },
                                    {
                                        "name": "inflation_adjusted_gross"
                                    }
                                ]
                            },
                            "data": [
                                {
                                    "0": "Snow White and the Seven Dwarfs",
                                    "1": "1937-12-21",
                                    "2": "Musical",
                                    "3": "G",
                                    "4": "184925485",
                                    "5": "5228953251"
                                },
                                {
                                    "0": "Pinocchio",
                                    "1": "1940-02-09",
                                    "2": "Adventure",
                                    "3": "G",
                                    "4": "84300000",
                                    "5": "2188229052"
                                },
                                {
                                    "0": "Fantasia",
                                    "1": "1940-11-13",
                                    "2": "Musical",
                                    "3": "G",
                                    "4": "83320000",
                                    "5": "2187090808"
                                },
                                {
                                    "0": "Song of the South",
                                    "1": "1946-11-12",
                                    "2": "Adventure",
                                    "3": "G",
                                    "4": "65000000",
                                    "5": "1078510579"
                                },
                                {
                                    "0": "Cinderella",
                                    "1": "1950-02-15",
                                    "2": "Drama",
                                    "3": "G",
                                    "4": "85000000",
                                    "5": "920608730"
                                },
                                {
                                    "0": "20,000 Leagues Under the Sea",
                                    "1": "1954-12-23",
                                    "2": "Adventure",
                                    "3": "NULL",
                                    "4": "28200000",
                                    "5": "528279994"
                                },
                                {
                                    "0": "Lady and the Tramp",
                                    "1": "1955-06-22",
                                    "2": "Drama",
                                    "3": "G",
                                    "4": "93600000",
                                    "5": "1236035515"
                                },
                                {
                                    "0": "Sleeping Beauty",
                                    "1": "1959-01-29",
                                    "2": "Drama",
                                    "3": "NULL",
                                    "4": "9464608",
                                    "5": "21505832"
                                },
                                {
                                    "0": "101 Dalmatians",
                                    "1": "1961-01-25",
                                    "2": "Comedy",
                                    "3": "G",
                                    "4": "153000000",
                                    "5": "1362870985"
                                },
                                {
                                    "0": "The Absent Minded Professor",
                                    "1": "1961-03-16",
                                    "2": "Comedy",
                                    "3": "NULL",
                                    "4": "25381407",
                                    "5": "310094574"
                                }
                            ]
                        },
                        "text/html": "<table><tr><th>movie_title</th><th>release_date</th><th>genre</th><th>mpaa_rating</th><th>total_gross</th><th>inflation_adjusted_gross</th></tr><tr><td>Snow White and the Seven Dwarfs</td><td>1937-12-21</td><td>Musical</td><td>G</td><td>184925485</td><td>5228953251</td></tr><tr><td>Pinocchio</td><td>1940-02-09</td><td>Adventure</td><td>G</td><td>84300000</td><td>2188229052</td></tr><tr><td>Fantasia</td><td>1940-11-13</td><td>Musical</td><td>G</td><td>83320000</td><td>2187090808</td></tr><tr><td>Song of the South</td><td>1946-11-12</td><td>Adventure</td><td>G</td><td>65000000</td><td>1078510579</td></tr><tr><td>Cinderella</td><td>1950-02-15</td><td>Drama</td><td>G</td><td>85000000</td><td>920608730</td></tr><tr><td>20,000 Leagues Under the Sea</td><td>1954-12-23</td><td>Adventure</td><td>NULL</td><td>28200000</td><td>528279994</td></tr><tr><td>Lady and the Tramp</td><td>1955-06-22</td><td>Drama</td><td>G</td><td>93600000</td><td>1236035515</td></tr><tr><td>Sleeping Beauty</td><td>1959-01-29</td><td>Drama</td><td>NULL</td><td>9464608</td><td>21505832</td></tr><tr><td>101 Dalmatians</td><td>1961-01-25</td><td>Comedy</td><td>G</td><td>153000000</td><td>1362870985</td></tr><tr><td>The Absent Minded Professor</td><td>1961-03-16</td><td>Comedy</td><td>NULL</td><td>25381407</td><td>310094574</td></tr></table>"
                    },
                    "metadata": {}
                }
            ],
            "execution_count": 1
        },
        {
            "cell_type": "code",
            "source": [
                "select top 5 movie_title + ' ' + genre\n",
                "    from movie_gross"
            ],
            "metadata": {},
            "outputs": [
                {
                    "output_type": "display_data",
                    "data": {
                        "text/html": "(5 rows affected)"
                    },
                    "metadata": {}
                },
                {
                    "output_type": "display_data",
                    "data": {
                        "text/html": "Total execution time: 00:00:00.003"
                    },
                    "metadata": {}
                },
                {
                    "output_type": "execute_result",
                    "execution_count": 3,
                    "data": {
                        "application/vnd.dataresource+json": {
                            "schema": {
                                "fields": [
                                    {
                                        "name": "(No column name)"
                                    }
                                ]
                            },
                            "data": [
                                {
                                    "0": "Snow White and the Seven Dwarfs Musical"
                                },
                                {
                                    "0": "Pinocchio Adventure"
                                },
                                {
                                    "0": "Fantasia Musical"
                                },
                                {
                                    "0": "Song of the South Adventure"
                                },
                                {
                                    "0": "Cinderella Drama"
                                }
                            ]
                        },
                        "text/html": "<table><tr><th>(No column name)</th></tr><tr><td>Snow White and the Seven Dwarfs Musical</td></tr><tr><td>Pinocchio Adventure</td></tr><tr><td>Fantasia Musical</td></tr><tr><td>Song of the South Adventure</td></tr><tr><td>Cinderella Drama</td></tr></table>"
                    },
                    "metadata": {}
                }
            ],
            "execution_count": 3
        },
        {
            "cell_type": "code",
            "source": [
                "select top 5 movie_title + ' (' + genre + ')'\n",
                "    from movie_gross"
            ],
            "metadata": {},
            "outputs": [
                {
                    "output_type": "display_data",
                    "data": {
                        "text/html": "(5 rows affected)"
                    },
                    "metadata": {}
                },
                {
                    "output_type": "display_data",
                    "data": {
                        "text/html": "Total execution time: 00:00:00.005"
                    },
                    "metadata": {}
                },
                {
                    "output_type": "execute_result",
                    "execution_count": 4,
                    "data": {
                        "application/vnd.dataresource+json": {
                            "schema": {
                                "fields": [
                                    {
                                        "name": "(No column name)"
                                    }
                                ]
                            },
                            "data": [
                                {
                                    "0": "Snow White and the Seven Dwarfs (Musical)"
                                },
                                {
                                    "0": "Pinocchio (Adventure)"
                                },
                                {
                                    "0": "Fantasia (Musical)"
                                },
                                {
                                    "0": "Song of the South (Adventure)"
                                },
                                {
                                    "0": "Cinderella (Drama)"
                                }
                            ]
                        },
                        "text/html": "<table><tr><th>(No column name)</th></tr><tr><td>Snow White and the Seven Dwarfs (Musical)</td></tr><tr><td>Pinocchio (Adventure)</td></tr><tr><td>Fantasia (Musical)</td></tr><tr><td>Song of the South (Adventure)</td></tr><tr><td>Cinderella (Drama)</td></tr></table>"
                    },
                    "metadata": {}
                }
            ],
            "execution_count": 4
        },
        {
            "cell_type": "code",
            "source": [
                "select top 5 movie_title + release_date \n",
                "    from movie_gross"
            ],
            "metadata": {},
            "outputs": [
                {
                    "output_type": "error",
                    "ename": "",
                    "evalue": "Msg 402, Level 16, State 1, Line 1\nThe data types varchar and date are incompatible in the add operator.",
                    "traceback": []
                },
                {
                    "output_type": "display_data",
                    "data": {
                        "text/html": "Total execution time: 00:00:00.020"
                    },
                    "metadata": {}
                }
            ],
            "execution_count": 5
        },
        {
            "cell_type": "code",
            "source": [
                "select top 5 \n",
                "    concat(movie_title, ' (', release_date, ')'),\n",
                "    concat(movie_title, ' (', year(release_date), ')') \n",
                "    from movie_gross"
            ],
            "metadata": {},
            "outputs": [
                {
                    "output_type": "display_data",
                    "data": {
                        "text/html": "(5 rows affected)"
                    },
                    "metadata": {}
                },
                {
                    "output_type": "display_data",
                    "data": {
                        "text/html": "Total execution time: 00:00:00.004"
                    },
                    "metadata": {}
                },
                {
                    "output_type": "execute_result",
                    "execution_count": 8,
                    "data": {
                        "application/vnd.dataresource+json": {
                            "schema": {
                                "fields": [
                                    {
                                        "name": "(No column name)"
                                    },
                                    {
                                        "name": "(No column name)"
                                    }
                                ]
                            },
                            "data": [
                                {
                                    "0": "Snow White and the Seven Dwarfs (1937-12-21)",
                                    "1": "Snow White and the Seven Dwarfs (1937)"
                                },
                                {
                                    "0": "Pinocchio (1940-02-09)",
                                    "1": "Pinocchio (1940)"
                                },
                                {
                                    "0": "Fantasia (1940-11-13)",
                                    "1": "Fantasia (1940)"
                                },
                                {
                                    "0": "Song of the South (1946-11-12)",
                                    "1": "Song of the South (1946)"
                                },
                                {
                                    "0": "Cinderella (1950-02-15)",
                                    "1": "Cinderella (1950)"
                                }
                            ]
                        },
                        "text/html": "<table><tr><th>(No column name)</th><th>(No column name)</th></tr><tr><td>Snow White and the Seven Dwarfs (1937-12-21)</td><td>Snow White and the Seven Dwarfs (1937)</td></tr><tr><td>Pinocchio (1940-02-09)</td><td>Pinocchio (1940)</td></tr><tr><td>Fantasia (1940-11-13)</td><td>Fantasia (1940)</td></tr><tr><td>Song of the South (1946-11-12)</td><td>Song of the South (1946)</td></tr><tr><td>Cinderella (1950-02-15)</td><td>Cinderella (1950)</td></tr></table>"
                    },
                    "metadata": {}
                }
            ],
            "execution_count": 8
        },
        {
            "cell_type": "code",
            "source": [
                "select top 5 \n",
                "    movie_title, total_gross,\n",
                "    concat(movie_title, ' (', total_gross, ')'),\n",
                "    concat(movie_title, ' (', format(total_gross, 'N0'), ')'),\n",
                "    concat(movie_title, ' (', format(total_gross, '#,##0 USD'), ')')\n",
                "    from movie_gross"
            ],
            "metadata": {},
            "outputs": [
                {
                    "output_type": "display_data",
                    "data": {
                        "text/html": "(5 rows affected)"
                    },
                    "metadata": {}
                },
                {
                    "output_type": "display_data",
                    "data": {
                        "text/html": "Total execution time: 00:00:00.010"
                    },
                    "metadata": {}
                },
                {
                    "output_type": "execute_result",
                    "execution_count": 15,
                    "data": {
                        "application/vnd.dataresource+json": {
                            "schema": {
                                "fields": [
                                    {
                                        "name": "movie_title"
                                    },
                                    {
                                        "name": "total_gross"
                                    },
                                    {
                                        "name": "(No column name)"
                                    },
                                    {
                                        "name": "(No column name)"
                                    },
                                    {
                                        "name": "(No column name)"
                                    }
                                ]
                            },
                            "data": [
                                {
                                    "0": "Snow White and the Seven Dwarfs",
                                    "1": "184925485",
                                    "2": "Snow White and the Seven Dwarfs (184925485)",
                                    "3": "Snow White and the Seven Dwarfs (184,925,485)",
                                    "4": "Snow White and the Seven Dwarfs (184,925,485 USD)"
                                },
                                {
                                    "0": "Pinocchio",
                                    "1": "84300000",
                                    "2": "Pinocchio (84300000)",
                                    "3": "Pinocchio (84,300,000)",
                                    "4": "Pinocchio (84,300,000 USD)"
                                },
                                {
                                    "0": "Fantasia",
                                    "1": "83320000",
                                    "2": "Fantasia (83320000)",
                                    "3": "Fantasia (83,320,000)",
                                    "4": "Fantasia (83,320,000 USD)"
                                },
                                {
                                    "0": "Song of the South",
                                    "1": "65000000",
                                    "2": "Song of the South (65000000)",
                                    "3": "Song of the South (65,000,000)",
                                    "4": "Song of the South (65,000,000 USD)"
                                },
                                {
                                    "0": "Cinderella",
                                    "1": "85000000",
                                    "2": "Cinderella (85000000)",
                                    "3": "Cinderella (85,000,000)",
                                    "4": "Cinderella (85,000,000 USD)"
                                }
                            ]
                        },
                        "text/html": "<table><tr><th>movie_title</th><th>total_gross</th><th>(No column name)</th><th>(No column name)</th><th>(No column name)</th></tr><tr><td>Snow White and the Seven Dwarfs</td><td>184925485</td><td>Snow White and the Seven Dwarfs (184925485)</td><td>Snow White and the Seven Dwarfs (184,925,485)</td><td>Snow White and the Seven Dwarfs (184,925,485 USD)</td></tr><tr><td>Pinocchio</td><td>84300000</td><td>Pinocchio (84300000)</td><td>Pinocchio (84,300,000)</td><td>Pinocchio (84,300,000 USD)</td></tr><tr><td>Fantasia</td><td>83320000</td><td>Fantasia (83320000)</td><td>Fantasia (83,320,000)</td><td>Fantasia (83,320,000 USD)</td></tr><tr><td>Song of the South</td><td>65000000</td><td>Song of the South (65000000)</td><td>Song of the South (65,000,000)</td><td>Song of the South (65,000,000 USD)</td></tr><tr><td>Cinderella</td><td>85000000</td><td>Cinderella (85000000)</td><td>Cinderella (85,000,000)</td><td>Cinderella (85,000,000 USD)</td></tr></table>"
                    },
                    "metadata": {}
                }
            ],
            "execution_count": 15
        }
    ]
}