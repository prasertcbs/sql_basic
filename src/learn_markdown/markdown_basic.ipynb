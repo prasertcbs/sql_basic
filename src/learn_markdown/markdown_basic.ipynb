{
    "metadata": {
        "kernelspec": {
            "name": "SQL",
            "display_name": "SQL",
            "language": "sql"
        },
        "language_info": {
            "name": "sql",
            "version": ""
        }
    },
    "nbformat_minor": 2,
    "nbformat": 4,
    "cells": [
        {
            "cell_type": "code",
            "source": "select top 5 * from movie_gross",
            "metadata": {},
            "outputs": [
                {
                    "output_type": "display_data",
                    "data": {
                        "text/html": "(5 rows affected)"
                    },
                    "metadata": {}
                },
                {
                    "output_type": "display_data",
                    "data": {
                        "text/html": "Total execution time: 00:00:00.055"
                    },
                    "metadata": {}
                },
                {
                    "output_type": "execute_result",
                    "execution_count": 2,
                    "data": {
                        "application/vnd.dataresource+json": {
                            "schema": {
                                "fields": [
                                    {
                                        "name": "movie_title"
                                    },
                                    {
                                        "name": "release_date"
                                    },
                                    {
                                        "name": "genre"
                                    },
                                    {
                                        "name": "mpaa_rating"
                                    },
                                    {
                                        "name": "total_gross"
                                    },
                                    {
                                        "name": "inflation_adjusted_gross"
                                    }
                                ]
                            },
                            "data": [
                                {
                                    "0": "Snow White and the Seven Dwarfs",
                                    "1": "1937-12-21",
                                    "2": "Musical",
                                    "3": "G",
                                    "4": "184925485",
                                    "5": "5228953251"
                                },
                                {
                                    "0": "Pinocchio",
                                    "1": "1940-02-09",
                                    "2": "Adventure",
                                    "3": "G",
                                    "4": "84300000",
                                    "5": "2188229052"
                                },
                                {
                                    "0": "Fantasia",
                                    "1": "1940-11-13",
                                    "2": "Musical",
                                    "3": "G",
                                    "4": "83320000",
                                    "5": "2187090808"
                                },
                                {
                                    "0": "Song of the South",
                                    "1": "1946-11-12",
                                    "2": "Adventure",
                                    "3": "G",
                                    "4": "65000000",
                                    "5": "1078510579"
                                },
                                {
                                    "0": "Cinderella",
                                    "1": "1950-02-15",
                                    "2": "Drama",
                                    "3": "G",
                                    "4": "85000000",
                                    "5": "920608730"
                                }
                            ]
                        },
                        "text/html": "<table><tr><th>movie_title</th><th>release_date</th><th>genre</th><th>mpaa_rating</th><th>total_gross</th><th>inflation_adjusted_gross</th></tr><tr><td>Snow White and the Seven Dwarfs</td><td>1937-12-21</td><td>Musical</td><td>G</td><td>184925485</td><td>5228953251</td></tr><tr><td>Pinocchio</td><td>1940-02-09</td><td>Adventure</td><td>G</td><td>84300000</td><td>2188229052</td></tr><tr><td>Fantasia</td><td>1940-11-13</td><td>Musical</td><td>G</td><td>83320000</td><td>2187090808</td></tr><tr><td>Song of the South</td><td>1946-11-12</td><td>Adventure</td><td>G</td><td>65000000</td><td>1078510579</td></tr><tr><td>Cinderella</td><td>1950-02-15</td><td>Drama</td><td>G</td><td>85000000</td><td>920608730</td></tr></table>"
                    },
                    "metadata": {}
                }
            ],
            "execution_count": 2
        },
        {
            "cell_type": "markdown",
            "source": "# Markdown เบื้องต้น",
            "metadata": {}
        },
        {
            "cell_type": "markdown",
            "source": [
                "# สอนเขียน SQL เบื้องต้น\n",
                "## คำสั่ง select\n",
                "### level 3\n",
                "#### level 4"
            ],
            "metadata": {}
        },
        {
            "cell_type": "markdown",
            "source": [
                "# product\n",
                "* Microsoft SQL Server\n",
                "* MySQL\n",
                "- PostgreSQL"
            ],
            "metadata": {}
        },
        {
            "cell_type": "markdown",
            "source": [
                "# Product\n",
                "1. Outlook\n",
                "1. PowerPoint\n",
                "1. Excel\n",
                "1. Word\n",
                "1. Access"
            ],
            "metadata": {}
        },
        {
            "cell_type": "markdown",
            "source": "# การใช้ html ร่วมกับ markdown",
            "metadata": {}
        },
        {
            "cell_type": "markdown",
            "source": "# I love <span style=\"color:blue\">blue</span> sky.",
            "metadata": {}
        },
        {
            "cell_type": "markdown",
            "source": "# การขึ้นบรรทัดใหม่",
            "metadata": {}
        },
        {
            "cell_type": "markdown",
            "source": [
                "hello from \n",
                "\n",
                "the other side"
            ],
            "metadata": {}
        },
        {
            "cell_type": "markdown",
            "source": [
                "hello from  \n",
                "the other side  \n",
                "the shape of you"
            ],
            "metadata": {}
        },
        {
            "cell_type": "markdown",
            "source": "# การทำตัวหนา เอียง และอื่น ๆ",
            "metadata": {}
        },
        {
            "cell_type": "markdown",
            "source": [
                "# Product\n",
                "1. Outlook <i>office 365</i>\n",
                "1. ## Project <u>office <span style=\"color:green\">365</span></u>\n",
                "1. ### *PowerPoint* 2016\n",
                "1. **Excel** 2019\n",
                "1. ***Word*** office 365\n",
                "1. ~~Access~~"
            ],
            "metadata": {}
        }
    ]
}