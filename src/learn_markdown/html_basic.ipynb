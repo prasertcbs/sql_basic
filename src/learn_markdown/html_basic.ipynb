{
    "metadata": {
        "kernelspec": {
            "name": "SQL",
            "display_name": "SQL",
            "language": "sql"
        },
        "language_info": {
            "name": "sql",
            "version": ""
        }
    },
    "nbformat_minor": 2,
    "nbformat": 4,
    "cells": [
        {
            "cell_type": "markdown",
            "source": [
                "hyptertext markup  language\n",
                "<h1>สอนเขียน SQL เบื้องต้น</h1>\n",
                "<h2>คำสั่ง select</h2>\n",
                "<h3>level 3</h3>\n",
                "<h4>level 4</h4>"
            ],
            "metadata": {}
        },
        {
            "cell_type": "markdown",
            "source": [
                "<h1>Product</h1>\n",
                "<ul>\n",
                "    <li>Microsoft SQL Server</li>\n",
                "    <li>MySQL</li>\n",
                "    <li>PostgreSQL</li>\n",
                "</ul>"
            ],
            "metadata": {}
        },
        {
            "cell_type": "markdown",
            "source": [
                "<h1>Product</h1>\n",
                "<ol>\n",
                "    <li>Outlook</li>\n",
                "    <li>PowerPoint</li>\n",
                "    <li>Excel</li>\n",
                "    <li>Word</li>\n",
                "    <li>Access</li>\n",
                "</ol>"
            ],
            "metadata": {}
        }
    ]
}