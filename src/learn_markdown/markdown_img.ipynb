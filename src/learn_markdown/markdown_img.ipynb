{
    "metadata": {
        "kernelspec": {
            "name": "SQL",
            "display_name": "SQL",
            "language": "sql"
        },
        "language_info": {
            "name": "sql",
            "version": ""
        }
    },
    "nbformat_minor": 2,
    "nbformat": 4,
    "cells": [
        {
            "cell_type": "markdown",
            "source": "# Working with images",
            "metadata": {}
        },
        {
            "cell_type": "markdown",
            "source": "## display local png file",
            "metadata": {}
        },
        {
            "cell_type": "markdown",
            "source": "![](cover.png)",
            "metadata": {}
        },
        {
            "cell_type": "markdown",
            "source": "## display local jpg file in subfolder",
            "metadata": {}
        },
        {
            "cell_type": "markdown",
            "source": "![](assets/pokemon.jpg)",
            "metadata": {}
        },
        {
            "cell_type": "markdown",
            "source": "## display impage from URL",
            "metadata": {}
        },
        {
            "cell_type": "markdown",
            "source": "![](https://github.com/prasertcbs/sql_easy/raw/master/set_ops.png)",
            "metadata": {}
        },
        {
            "cell_type": "markdown",
            "source": "## resize image with <img>",
            "metadata": {}
        },
        {
            "cell_type": "markdown",
            "source": "<img src=\"https://github.com/prasertcbs/sql_easy/raw/master/set_ops.png\" height=300>",
            "metadata": {}
        },
        {
            "cell_type": "markdown",
            "source": "## clickable image",
            "metadata": {}
        },
        {
            "cell_type": "markdown",
            "source": "<a href=\"https://youtube.com/prasertcbs\"><img src=\"https://github.com/prasertcbs/sql_easy/raw/master/set_ops.png\" height=300></a>",
            "metadata": {}
        }
    ]
}