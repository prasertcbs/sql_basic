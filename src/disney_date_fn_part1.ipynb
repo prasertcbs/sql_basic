{
    "metadata": {
        "kernelspec": {
            "name": "SQL",
            "display_name": "SQL",
            "language": "sql"
        },
        "language_info": {
            "name": "sql",
            "version": ""
        }
    },
    "nbformat_minor": 2,
    "nbformat": 4,
    "cells": [
        {
            "cell_type": "markdown",
            "source": [
                "# date functions (YEAR, MONTH, DAY, DATEPART, DATENAME, FORMAT)\n",
                "## Server: Microsoft SQL Server\n",
                "## Database: disney\n",
                "## Author: Prasert Kanawatanachai\n",
                "## YouTube: https://youtu.be/EzaziQffXPk"
            ],
            "metadata": {
                "azdata_cell_guid": "e4fe572b-aa88-43ac-bae8-b0dfd30bdd3a"
            }
        },
        {
            "cell_type": "markdown",
            "source": [
                "```\n",
                "SELECT [ ALL | DISTINCT ]   \n",
                "    [TOP ( expression ) [PERCENT] [ WITH TIES ] ]   \n",
                "\tFROM table_source \n",
                "\t[ WHERE search_condition ]\n",
                "\t[ GROUP BY group_by_expression ]\n",
                "\t[ HAVING search_condition ]\n",
                "\t[ ORDER BY order_expression [ ASC | DESC ] ]\n",
                "```"
            ],
            "metadata": {
                "azdata_cell_guid": "ccb3dee0-9191-4312-9e13-22bcb1578c54"
            }
        },
        {
            "cell_type": "code",
            "source": [
                "select top 5 \n",
                "    release_date,\n",
                "    year(release_date) year,\n",
                "    month(release_date) month,\n",
                "    day(release_date) day\n",
                "    from movie_gross"
            ],
            "metadata": {
                "azdata_cell_guid": "24f256db-5e23-449e-aa26-979298d4ccb3"
            },
            "outputs": [
                {
                    "output_type": "display_data",
                    "data": {
                        "text/html": "(5 rows affected)"
                    },
                    "metadata": {}
                },
                {
                    "output_type": "display_data",
                    "data": {
                        "text/html": "Total execution time: 00:00:00.088"
                    },
                    "metadata": {}
                },
                {
                    "output_type": "execute_result",
                    "execution_count": 2,
                    "data": {
                        "application/vnd.dataresource+json": {
                            "schema": {
                                "fields": [
                                    {
                                        "name": "release_date"
                                    },
                                    {
                                        "name": "year"
                                    },
                                    {
                                        "name": "month"
                                    },
                                    {
                                        "name": "day"
                                    }
                                ]
                            },
                            "data": [
                                {
                                    "0": "1937-12-21",
                                    "1": "1937",
                                    "2": "12",
                                    "3": "21"
                                },
                                {
                                    "0": "1940-02-09",
                                    "1": "1940",
                                    "2": "2",
                                    "3": "9"
                                },
                                {
                                    "0": "1940-11-13",
                                    "1": "1940",
                                    "2": "11",
                                    "3": "13"
                                },
                                {
                                    "0": "1946-11-12",
                                    "1": "1946",
                                    "2": "11",
                                    "3": "12"
                                },
                                {
                                    "0": "1950-02-15",
                                    "1": "1950",
                                    "2": "2",
                                    "3": "15"
                                }
                            ]
                        },
                        "text/html": "<table><tr><th>release_date</th><th>year</th><th>month</th><th>day</th></tr><tr><td>1937-12-21</td><td>1937</td><td>12</td><td>21</td></tr><tr><td>1940-02-09</td><td>1940</td><td>2</td><td>9</td></tr><tr><td>1940-11-13</td><td>1940</td><td>11</td><td>13</td></tr><tr><td>1946-11-12</td><td>1946</td><td>11</td><td>12</td></tr><tr><td>1950-02-15</td><td>1950</td><td>2</td><td>15</td></tr></table>"
                    },
                    "metadata": {}
                }
            ],
            "execution_count": 2
        },
        {
            "cell_type": "markdown",
            "source": [
                "## DATEPART(), DATENAME() \n",
                "* [DATEPART](https://docs.microsoft.com/en-us/sql/t-sql/functions/datepart-transact-sql?view=sql-server-2017)\n",
                "* [DATENAME](https://docs.microsoft.com/en-us/sql/t-sql/functions/datename-transact-sql?view=sql-server-2017)\n",
                ""
            ],
            "metadata": {
                "azdata_cell_guid": "61cd7271-8539-4798-b3c2-fa042136cfd0"
            }
        },
        {
            "cell_type": "code",
            "source": [
                "select top 5 \n",
                "    release_date,\n",
                "    datepart(year, release_date) year,\n",
                "    datepart(month, release_date) month,\n",
                "    datepart(day, release_date) day,\n",
                "    datepart(week, release_date) week_number,\n",
                "    datepart(weekday, release_date) weekday,\n",
                "    datename(weekday, release_date) week_name,\n",
                "    datename(month, release_date) month_name\n",
                "    from movie_gross"
            ],
            "metadata": {
                "azdata_cell_guid": "291c9804-c6fb-4033-ad58-0818d84b34bf"
            },
            "outputs": [
                {
                    "output_type": "display_data",
                    "data": {
                        "text/html": "(5 rows affected)"
                    },
                    "metadata": {}
                },
                {
                    "output_type": "display_data",
                    "data": {
                        "text/html": "Total execution time: 00:00:00.059"
                    },
                    "metadata": {}
                },
                {
                    "output_type": "execute_result",
                    "execution_count": 3,
                    "data": {
                        "application/vnd.dataresource+json": {
                            "schema": {
                                "fields": [
                                    {
                                        "name": "release_date"
                                    },
                                    {
                                        "name": "year"
                                    },
                                    {
                                        "name": "month"
                                    },
                                    {
                                        "name": "day"
                                    },
                                    {
                                        "name": "week_number"
                                    },
                                    {
                                        "name": "weekday"
                                    },
                                    {
                                        "name": "week_name"
                                    },
                                    {
                                        "name": "month_name"
                                    }
                                ]
                            },
                            "data": [
                                {
                                    "0": "1937-12-21",
                                    "1": "1937",
                                    "2": "12",
                                    "3": "21",
                                    "4": "52",
                                    "5": "3",
                                    "6": "Tuesday",
                                    "7": "December"
                                },
                                {
                                    "0": "1940-02-09",
                                    "1": "1940",
                                    "2": "2",
                                    "3": "9",
                                    "4": "6",
                                    "5": "6",
                                    "6": "Friday",
                                    "7": "February"
                                },
                                {
                                    "0": "1940-11-13",
                                    "1": "1940",
                                    "2": "11",
                                    "3": "13",
                                    "4": "46",
                                    "5": "4",
                                    "6": "Wednesday",
                                    "7": "November"
                                },
                                {
                                    "0": "1946-11-12",
                                    "1": "1946",
                                    "2": "11",
                                    "3": "12",
                                    "4": "46",
                                    "5": "3",
                                    "6": "Tuesday",
                                    "7": "November"
                                },
                                {
                                    "0": "1950-02-15",
                                    "1": "1950",
                                    "2": "2",
                                    "3": "15",
                                    "4": "7",
                                    "5": "4",
                                    "6": "Wednesday",
                                    "7": "February"
                                }
                            ]
                        },
                        "text/html": "<table><tr><th>release_date</th><th>year</th><th>month</th><th>day</th><th>week_number</th><th>weekday</th><th>week_name</th><th>month_name</th></tr><tr><td>1937-12-21</td><td>1937</td><td>12</td><td>21</td><td>52</td><td>3</td><td>Tuesday</td><td>December</td></tr><tr><td>1940-02-09</td><td>1940</td><td>2</td><td>9</td><td>6</td><td>6</td><td>Friday</td><td>February</td></tr><tr><td>1940-11-13</td><td>1940</td><td>11</td><td>13</td><td>46</td><td>4</td><td>Wednesday</td><td>November</td></tr><tr><td>1946-11-12</td><td>1946</td><td>11</td><td>12</td><td>46</td><td>3</td><td>Tuesday</td><td>November</td></tr><tr><td>1950-02-15</td><td>1950</td><td>2</td><td>15</td><td>7</td><td>4</td><td>Wednesday</td><td>February</td></tr></table>"
                    },
                    "metadata": {}
                }
            ],
            "execution_count": 3
        },
        {
            "cell_type": "markdown",
            "source": [
                "## FORMAT()\n",
                "* [FORMAT](https://docs.microsoft.com/en-us/sql/t-sql/functions/format-transact-sql?view=sql-server-2017)"
            ],
            "metadata": {
                "azdata_cell_guid": "6964fb28-b8ca-4d4e-9a62-a4b81456ebda"
            }
        },
        {
            "cell_type": "code",
            "source": [
                "select top 10 \n",
                "    release_date,\n",
                "    format(release_date, 'd', 'th') as 'd-th',\n",
                "    format(release_date, 'dd', 'th') as 'dd-th',\n",
                "    format(release_date, 'ddd', 'th') as 'ddd-th',\n",
                "    format(release_date, 'dddd', 'th') as 'dddd-th',\n",
                "    format(release_date, 'M', 'th') as 'M-th',\n",
                "    format(release_date, 'MM', 'th') as 'MM-th',\n",
                "    format(release_date, 'MMM', 'th') as 'MMM-th',\n",
                "    format(release_date, 'MMMM', 'th') as 'MMMM-th'\n",
                "    from movie_gross"
            ],
            "metadata": {
                "azdata_cell_guid": "1036a71b-9ef3-452e-a4fd-eb9bfedddcbe"
            },
            "outputs": [
                {
                    "output_type": "display_data",
                    "data": {
                        "text/html": "(10 rows affected)"
                    },
                    "metadata": {}
                },
                {
                    "output_type": "display_data",
                    "data": {
                        "text/html": "Total execution time: 00:00:00.063"
                    },
                    "metadata": {}
                },
                {
                    "output_type": "execute_result",
                    "execution_count": 4,
                    "data": {
                        "application/vnd.dataresource+json": {
                            "schema": {
                                "fields": [
                                    {
                                        "name": "release_date"
                                    },
                                    {
                                        "name": "d-th"
                                    },
                                    {
                                        "name": "dd-th"
                                    },
                                    {
                                        "name": "ddd-th"
                                    },
                                    {
                                        "name": "dddd-th"
                                    },
                                    {
                                        "name": "M-th"
                                    },
                                    {
                                        "name": "MM-th"
                                    },
                                    {
                                        "name": "MMM-th"
                                    },
                                    {
                                        "name": "MMMM-th"
                                    }
                                ]
                            },
                            "data": [
                                {
                                    "0": "1937-12-21",
                                    "1": "21/12/2480",
                                    "2": "21",
                                    "3": "อ.",
                                    "4": "อังคาร",
                                    "5": "21 ธันวาคม",
                                    "6": "12",
                                    "7": "ธ.ค.",
                                    "8": "ธันวาคม"
                                },
                                {
                                    "0": "1940-02-09",
                                    "1": "9/2/2483",
                                    "2": "09",
                                    "3": "ศ.",
                                    "4": "ศุกร์",
                                    "5": "9 กุมภาพันธ์",
                                    "6": "02",
                                    "7": "ก.พ.",
                                    "8": "กุมภาพันธ์"
                                },
                                {
                                    "0": "1940-11-13",
                                    "1": "13/11/2483",
                                    "2": "13",
                                    "3": "พ.",
                                    "4": "พุธ",
                                    "5": "13 พฤศจิกายน",
                                    "6": "11",
                                    "7": "พ.ย.",
                                    "8": "พฤศจิกายน"
                                },
                                {
                                    "0": "1946-11-12",
                                    "1": "12/11/2489",
                                    "2": "12",
                                    "3": "อ.",
                                    "4": "อังคาร",
                                    "5": "12 พฤศจิกายน",
                                    "6": "11",
                                    "7": "พ.ย.",
                                    "8": "พฤศจิกายน"
                                },
                                {
                                    "0": "1950-02-15",
                                    "1": "15/2/2493",
                                    "2": "15",
                                    "3": "พ.",
                                    "4": "พุธ",
                                    "5": "15 กุมภาพันธ์",
                                    "6": "02",
                                    "7": "ก.พ.",
                                    "8": "กุมภาพันธ์"
                                },
                                {
                                    "0": "1954-12-23",
                                    "1": "23/12/2497",
                                    "2": "23",
                                    "3": "พฤ.",
                                    "4": "พฤหัสบดี",
                                    "5": "23 ธันวาคม",
                                    "6": "12",
                                    "7": "ธ.ค.",
                                    "8": "ธันวาคม"
                                },
                                {
                                    "0": "1955-06-22",
                                    "1": "22/6/2498",
                                    "2": "22",
                                    "3": "พ.",
                                    "4": "พุธ",
                                    "5": "22 มิถุนายน",
                                    "6": "06",
                                    "7": "มิ.ย.",
                                    "8": "มิถุนายน"
                                },
                                {
                                    "0": "1959-01-29",
                                    "1": "29/1/2502",
                                    "2": "29",
                                    "3": "พฤ.",
                                    "4": "พฤหัสบดี",
                                    "5": "29 มกราคม",
                                    "6": "01",
                                    "7": "ม.ค.",
                                    "8": "มกราคม"
                                },
                                {
                                    "0": "1961-01-25",
                                    "1": "25/1/2504",
                                    "2": "25",
                                    "3": "พ.",
                                    "4": "พุธ",
                                    "5": "25 มกราคม",
                                    "6": "01",
                                    "7": "ม.ค.",
                                    "8": "มกราคม"
                                },
                                {
                                    "0": "1961-03-16",
                                    "1": "16/3/2504",
                                    "2": "16",
                                    "3": "พฤ.",
                                    "4": "พฤหัสบดี",
                                    "5": "16 มีนาคม",
                                    "6": "03",
                                    "7": "มี.ค.",
                                    "8": "มีนาคม"
                                }
                            ]
                        },
                        "text/html": "<table><tr><th>release_date</th><th>d-th</th><th>dd-th</th><th>ddd-th</th><th>dddd-th</th><th>M-th</th><th>MM-th</th><th>MMM-th</th><th>MMMM-th</th></tr><tr><td>1937-12-21</td><td>21/12/2480</td><td>21</td><td>อ.</td><td>อังคาร</td><td>21 ธันวาคม</td><td>12</td><td>ธ.ค.</td><td>ธันวาคม</td></tr><tr><td>1940-02-09</td><td>9/2/2483</td><td>09</td><td>ศ.</td><td>ศุกร์</td><td>9 กุมภาพันธ์</td><td>02</td><td>ก.พ.</td><td>กุมภาพันธ์</td></tr><tr><td>1940-11-13</td><td>13/11/2483</td><td>13</td><td>พ.</td><td>พุธ</td><td>13 พฤศจิกายน</td><td>11</td><td>พ.ย.</td><td>พฤศจิกายน</td></tr><tr><td>1946-11-12</td><td>12/11/2489</td><td>12</td><td>อ.</td><td>อังคาร</td><td>12 พฤศจิกายน</td><td>11</td><td>พ.ย.</td><td>พฤศจิกายน</td></tr><tr><td>1950-02-15</td><td>15/2/2493</td><td>15</td><td>พ.</td><td>พุธ</td><td>15 กุมภาพันธ์</td><td>02</td><td>ก.พ.</td><td>กุมภาพันธ์</td></tr><tr><td>1954-12-23</td><td>23/12/2497</td><td>23</td><td>พฤ.</td><td>พฤหัสบดี</td><td>23 ธันวาคม</td><td>12</td><td>ธ.ค.</td><td>ธันวาคม</td></tr><tr><td>1955-06-22</td><td>22/6/2498</td><td>22</td><td>พ.</td><td>พุธ</td><td>22 มิถุนายน</td><td>06</td><td>มิ.ย.</td><td>มิถุนายน</td></tr><tr><td>1959-01-29</td><td>29/1/2502</td><td>29</td><td>พฤ.</td><td>พฤหัสบดี</td><td>29 มกราคม</td><td>01</td><td>ม.ค.</td><td>มกราคม</td></tr><tr><td>1961-01-25</td><td>25/1/2504</td><td>25</td><td>พ.</td><td>พุธ</td><td>25 มกราคม</td><td>01</td><td>ม.ค.</td><td>มกราคม</td></tr><tr><td>1961-03-16</td><td>16/3/2504</td><td>16</td><td>พฤ.</td><td>พฤหัสบดี</td><td>16 มีนาคม</td><td>03</td><td>มี.ค.</td><td>มีนาคม</td></tr></table>"
                    },
                    "metadata": {}
                }
            ],
            "execution_count": 4
        },
        {
            "cell_type": "code",
            "source": [
                "select top 10 \n",
                "    release_date,\n",
                "    format(release_date, 'd', 'en') as 'd-en',\n",
                "    format(release_date, 'dd', 'en') as 'dd-en',\n",
                "    format(release_date, 'ddd', 'en') as 'ddd-en',\n",
                "    format(release_date, 'dddd', 'en') as 'dddd-en',\n",
                "    format(release_date, 'M', 'en') as 'M-en',\n",
                "    format(release_date, 'MM', 'en') as 'MM-en',\n",
                "    format(release_date, 'MMM', 'en') as 'MMM-en',\n",
                "    format(release_date, 'MMMM', 'en') as 'MMMM-en'\n",
                "    from movie_gross"
            ],
            "metadata": {
                "azdata_cell_guid": "d9a2c6ff-b597-4568-97c5-2dfe27401a8f"
            },
            "outputs": [
                {
                    "output_type": "display_data",
                    "data": {
                        "text/html": "(10 rows affected)"
                    },
                    "metadata": {}
                },
                {
                    "output_type": "display_data",
                    "data": {
                        "text/html": "Total execution time: 00:00:00.062"
                    },
                    "metadata": {}
                },
                {
                    "output_type": "execute_result",
                    "execution_count": 5,
                    "data": {
                        "application/vnd.dataresource+json": {
                            "schema": {
                                "fields": [
                                    {
                                        "name": "release_date"
                                    },
                                    {
                                        "name": "d-en"
                                    },
                                    {
                                        "name": "dd-en"
                                    },
                                    {
                                        "name": "ddd-en"
                                    },
                                    {
                                        "name": "dddd-en"
                                    },
                                    {
                                        "name": "M-en"
                                    },
                                    {
                                        "name": "MM-en"
                                    },
                                    {
                                        "name": "MMM-en"
                                    },
                                    {
                                        "name": "MMMM-en"
                                    }
                                ]
                            },
                            "data": [
                                {
                                    "0": "1937-12-21",
                                    "1": "12/21/1937",
                                    "2": "21",
                                    "3": "Tue",
                                    "4": "Tuesday",
                                    "5": "December 21",
                                    "6": "12",
                                    "7": "Dec",
                                    "8": "December"
                                },
                                {
                                    "0": "1940-02-09",
                                    "1": "2/9/1940",
                                    "2": "09",
                                    "3": "Fri",
                                    "4": "Friday",
                                    "5": "February 9",
                                    "6": "02",
                                    "7": "Feb",
                                    "8": "February"
                                },
                                {
                                    "0": "1940-11-13",
                                    "1": "11/13/1940",
                                    "2": "13",
                                    "3": "Wed",
                                    "4": "Wednesday",
                                    "5": "November 13",
                                    "6": "11",
                                    "7": "Nov",
                                    "8": "November"
                                },
                                {
                                    "0": "1946-11-12",
                                    "1": "11/12/1946",
                                    "2": "12",
                                    "3": "Tue",
                                    "4": "Tuesday",
                                    "5": "November 12",
                                    "6": "11",
                                    "7": "Nov",
                                    "8": "November"
                                },
                                {
                                    "0": "1950-02-15",
                                    "1": "2/15/1950",
                                    "2": "15",
                                    "3": "Wed",
                                    "4": "Wednesday",
                                    "5": "February 15",
                                    "6": "02",
                                    "7": "Feb",
                                    "8": "February"
                                },
                                {
                                    "0": "1954-12-23",
                                    "1": "12/23/1954",
                                    "2": "23",
                                    "3": "Thu",
                                    "4": "Thursday",
                                    "5": "December 23",
                                    "6": "12",
                                    "7": "Dec",
                                    "8": "December"
                                },
                                {
                                    "0": "1955-06-22",
                                    "1": "6/22/1955",
                                    "2": "22",
                                    "3": "Wed",
                                    "4": "Wednesday",
                                    "5": "June 22",
                                    "6": "06",
                                    "7": "Jun",
                                    "8": "June"
                                },
                                {
                                    "0": "1959-01-29",
                                    "1": "1/29/1959",
                                    "2": "29",
                                    "3": "Thu",
                                    "4": "Thursday",
                                    "5": "January 29",
                                    "6": "01",
                                    "7": "Jan",
                                    "8": "January"
                                },
                                {
                                    "0": "1961-01-25",
                                    "1": "1/25/1961",
                                    "2": "25",
                                    "3": "Wed",
                                    "4": "Wednesday",
                                    "5": "January 25",
                                    "6": "01",
                                    "7": "Jan",
                                    "8": "January"
                                },
                                {
                                    "0": "1961-03-16",
                                    "1": "3/16/1961",
                                    "2": "16",
                                    "3": "Thu",
                                    "4": "Thursday",
                                    "5": "March 16",
                                    "6": "03",
                                    "7": "Mar",
                                    "8": "March"
                                }
                            ]
                        },
                        "text/html": "<table><tr><th>release_date</th><th>d-en</th><th>dd-en</th><th>ddd-en</th><th>dddd-en</th><th>M-en</th><th>MM-en</th><th>MMM-en</th><th>MMMM-en</th></tr><tr><td>1937-12-21</td><td>12/21/1937</td><td>21</td><td>Tue</td><td>Tuesday</td><td>December 21</td><td>12</td><td>Dec</td><td>December</td></tr><tr><td>1940-02-09</td><td>2/9/1940</td><td>09</td><td>Fri</td><td>Friday</td><td>February 9</td><td>02</td><td>Feb</td><td>February</td></tr><tr><td>1940-11-13</td><td>11/13/1940</td><td>13</td><td>Wed</td><td>Wednesday</td><td>November 13</td><td>11</td><td>Nov</td><td>November</td></tr><tr><td>1946-11-12</td><td>11/12/1946</td><td>12</td><td>Tue</td><td>Tuesday</td><td>November 12</td><td>11</td><td>Nov</td><td>November</td></tr><tr><td>1950-02-15</td><td>2/15/1950</td><td>15</td><td>Wed</td><td>Wednesday</td><td>February 15</td><td>02</td><td>Feb</td><td>February</td></tr><tr><td>1954-12-23</td><td>12/23/1954</td><td>23</td><td>Thu</td><td>Thursday</td><td>December 23</td><td>12</td><td>Dec</td><td>December</td></tr><tr><td>1955-06-22</td><td>6/22/1955</td><td>22</td><td>Wed</td><td>Wednesday</td><td>June 22</td><td>06</td><td>Jun</td><td>June</td></tr><tr><td>1959-01-29</td><td>1/29/1959</td><td>29</td><td>Thu</td><td>Thursday</td><td>January 29</td><td>01</td><td>Jan</td><td>January</td></tr><tr><td>1961-01-25</td><td>1/25/1961</td><td>25</td><td>Wed</td><td>Wednesday</td><td>January 25</td><td>01</td><td>Jan</td><td>January</td></tr><tr><td>1961-03-16</td><td>3/16/1961</td><td>16</td><td>Thu</td><td>Thursday</td><td>March 16</td><td>03</td><td>Mar</td><td>March</td></tr></table>"
                    },
                    "metadata": {}
                }
            ],
            "execution_count": 5
        },
        {
            "cell_type": "code",
            "source": [
                "select top 10 \n",
                "    release_date,\n",
                "    format(release_date, 'd', 'fr') as 'd-fr',\n",
                "    format(release_date, 'dd', 'fr') as 'dd-fr',\n",
                "    format(release_date, 'ddd', 'fr') as 'ddd-fr',\n",
                "    format(release_date, 'dddd', 'fr') as 'dddd-fr',\n",
                "    format(release_date, 'M', 'fr') as 'M',\n",
                "    format(release_date, 'MM', 'fr') as 'MM',\n",
                "    format(release_date, 'MMM', 'fr') as 'MMM',\n",
                "    format(release_date, 'MMMM', 'fr') as 'MMMM'\n",
                "    from movie_gross"
            ],
            "metadata": {
                "azdata_cell_guid": "1a31d556-cb27-47c9-ad9c-4bb0610a71e8"
            },
            "outputs": [
                {
                    "output_type": "display_data",
                    "data": {
                        "text/html": "(10 rows affected)"
                    },
                    "metadata": {}
                },
                {
                    "output_type": "display_data",
                    "data": {
                        "text/html": "Total execution time: 00:00:00.065"
                    },
                    "metadata": {}
                },
                {
                    "output_type": "execute_result",
                    "execution_count": 6,
                    "data": {
                        "application/vnd.dataresource+json": {
                            "schema": {
                                "fields": [
                                    {
                                        "name": "release_date"
                                    },
                                    {
                                        "name": "d-fr"
                                    },
                                    {
                                        "name": "dd-fr"
                                    },
                                    {
                                        "name": "ddd-fr"
                                    },
                                    {
                                        "name": "dddd-fr"
                                    },
                                    {
                                        "name": "M"
                                    },
                                    {
                                        "name": "MM"
                                    },
                                    {
                                        "name": "MMM"
                                    },
                                    {
                                        "name": "MMMM"
                                    }
                                ]
                            },
                            "data": [
                                {
                                    "0": "1937-12-21",
                                    "1": "21/12/1937",
                                    "2": "21",
                                    "3": "mar.",
                                    "4": "mardi",
                                    "5": "21 décembre",
                                    "6": "12",
                                    "7": "déc.",
                                    "8": "décembre"
                                },
                                {
                                    "0": "1940-02-09",
                                    "1": "09/02/1940",
                                    "2": "09",
                                    "3": "ven.",
                                    "4": "vendredi",
                                    "5": "9 février",
                                    "6": "02",
                                    "7": "févr.",
                                    "8": "février"
                                },
                                {
                                    "0": "1940-11-13",
                                    "1": "13/11/1940",
                                    "2": "13",
                                    "3": "mer.",
                                    "4": "mercredi",
                                    "5": "13 novembre",
                                    "6": "11",
                                    "7": "nov.",
                                    "8": "novembre"
                                },
                                {
                                    "0": "1946-11-12",
                                    "1": "12/11/1946",
                                    "2": "12",
                                    "3": "mar.",
                                    "4": "mardi",
                                    "5": "12 novembre",
                                    "6": "11",
                                    "7": "nov.",
                                    "8": "novembre"
                                },
                                {
                                    "0": "1950-02-15",
                                    "1": "15/02/1950",
                                    "2": "15",
                                    "3": "mer.",
                                    "4": "mercredi",
                                    "5": "15 février",
                                    "6": "02",
                                    "7": "févr.",
                                    "8": "février"
                                },
                                {
                                    "0": "1954-12-23",
                                    "1": "23/12/1954",
                                    "2": "23",
                                    "3": "jeu.",
                                    "4": "jeudi",
                                    "5": "23 décembre",
                                    "6": "12",
                                    "7": "déc.",
                                    "8": "décembre"
                                },
                                {
                                    "0": "1955-06-22",
                                    "1": "22/06/1955",
                                    "2": "22",
                                    "3": "mer.",
                                    "4": "mercredi",
                                    "5": "22 juin",
                                    "6": "06",
                                    "7": "juin",
                                    "8": "juin"
                                },
                                {
                                    "0": "1959-01-29",
                                    "1": "29/01/1959",
                                    "2": "29",
                                    "3": "jeu.",
                                    "4": "jeudi",
                                    "5": "29 janvier",
                                    "6": "01",
                                    "7": "janv.",
                                    "8": "janvier"
                                },
                                {
                                    "0": "1961-01-25",
                                    "1": "25/01/1961",
                                    "2": "25",
                                    "3": "mer.",
                                    "4": "mercredi",
                                    "5": "25 janvier",
                                    "6": "01",
                                    "7": "janv.",
                                    "8": "janvier"
                                },
                                {
                                    "0": "1961-03-16",
                                    "1": "16/03/1961",
                                    "2": "16",
                                    "3": "jeu.",
                                    "4": "jeudi",
                                    "5": "16 mars",
                                    "6": "03",
                                    "7": "mars",
                                    "8": "mars"
                                }
                            ]
                        },
                        "text/html": "<table><tr><th>release_date</th><th>d-fr</th><th>dd-fr</th><th>ddd-fr</th><th>dddd-fr</th><th>M</th><th>MM</th><th>MMM</th><th>MMMM</th></tr><tr><td>1937-12-21</td><td>21/12/1937</td><td>21</td><td>mar.</td><td>mardi</td><td>21 décembre</td><td>12</td><td>déc.</td><td>décembre</td></tr><tr><td>1940-02-09</td><td>09/02/1940</td><td>09</td><td>ven.</td><td>vendredi</td><td>9 février</td><td>02</td><td>févr.</td><td>février</td></tr><tr><td>1940-11-13</td><td>13/11/1940</td><td>13</td><td>mer.</td><td>mercredi</td><td>13 novembre</td><td>11</td><td>nov.</td><td>novembre</td></tr><tr><td>1946-11-12</td><td>12/11/1946</td><td>12</td><td>mar.</td><td>mardi</td><td>12 novembre</td><td>11</td><td>nov.</td><td>novembre</td></tr><tr><td>1950-02-15</td><td>15/02/1950</td><td>15</td><td>mer.</td><td>mercredi</td><td>15 février</td><td>02</td><td>févr.</td><td>février</td></tr><tr><td>1954-12-23</td><td>23/12/1954</td><td>23</td><td>jeu.</td><td>jeudi</td><td>23 décembre</td><td>12</td><td>déc.</td><td>décembre</td></tr><tr><td>1955-06-22</td><td>22/06/1955</td><td>22</td><td>mer.</td><td>mercredi</td><td>22 juin</td><td>06</td><td>juin</td><td>juin</td></tr><tr><td>1959-01-29</td><td>29/01/1959</td><td>29</td><td>jeu.</td><td>jeudi</td><td>29 janvier</td><td>01</td><td>janv.</td><td>janvier</td></tr><tr><td>1961-01-25</td><td>25/01/1961</td><td>25</td><td>mer.</td><td>mercredi</td><td>25 janvier</td><td>01</td><td>janv.</td><td>janvier</td></tr><tr><td>1961-03-16</td><td>16/03/1961</td><td>16</td><td>jeu.</td><td>jeudi</td><td>16 mars</td><td>03</td><td>mars</td><td>mars</td></tr></table>"
                    },
                    "metadata": {}
                }
            ],
            "execution_count": 6
        },
        {
            "cell_type": "code",
            "source": [
                "select top 10\n",
                "    release_date,\n",
                "    format(release_date, 'ddd', 'en') weekday\n",
                "    from movie_gross"
            ],
            "metadata": {
                "azdata_cell_guid": "632f5bf4-27c4-4656-a6d8-96922aa2dcf1"
            },
            "outputs": [
                {
                    "output_type": "display_data",
                    "data": {
                        "text/html": "(10 rows affected)"
                    },
                    "metadata": {}
                },
                {
                    "output_type": "display_data",
                    "data": {
                        "text/html": "Total execution time: 00:00:00.064"
                    },
                    "metadata": {}
                },
                {
                    "output_type": "execute_result",
                    "execution_count": 7,
                    "data": {
                        "application/vnd.dataresource+json": {
                            "schema": {
                                "fields": [
                                    {
                                        "name": "release_date"
                                    },
                                    {
                                        "name": "weekday"
                                    }
                                ]
                            },
                            "data": [
                                {
                                    "0": "1937-12-21",
                                    "1": "Tue"
                                },
                                {
                                    "0": "1940-02-09",
                                    "1": "Fri"
                                },
                                {
                                    "0": "1940-11-13",
                                    "1": "Wed"
                                },
                                {
                                    "0": "1946-11-12",
                                    "1": "Tue"
                                },
                                {
                                    "0": "1950-02-15",
                                    "1": "Wed"
                                },
                                {
                                    "0": "1954-12-23",
                                    "1": "Thu"
                                },
                                {
                                    "0": "1955-06-22",
                                    "1": "Wed"
                                },
                                {
                                    "0": "1959-01-29",
                                    "1": "Thu"
                                },
                                {
                                    "0": "1961-01-25",
                                    "1": "Wed"
                                },
                                {
                                    "0": "1961-03-16",
                                    "1": "Thu"
                                }
                            ]
                        },
                        "text/html": "<table><tr><th>release_date</th><th>weekday</th></tr><tr><td>1937-12-21</td><td>Tue</td></tr><tr><td>1940-02-09</td><td>Fri</td></tr><tr><td>1940-11-13</td><td>Wed</td></tr><tr><td>1946-11-12</td><td>Tue</td></tr><tr><td>1950-02-15</td><td>Wed</td></tr><tr><td>1954-12-23</td><td>Thu</td></tr><tr><td>1955-06-22</td><td>Wed</td></tr><tr><td>1959-01-29</td><td>Thu</td></tr><tr><td>1961-01-25</td><td>Wed</td></tr><tr><td>1961-03-16</td><td>Thu</td></tr></table>"
                    },
                    "metadata": {}
                }
            ],
            "execution_count": 7
        },
        {
            "cell_type": "code",
            "source": [
                "select \n",
                "    format(release_date, 'ddd', 'en') weekday,\n",
                "    count(*) no_movies\n",
                "    from movie_gross\n",
                "    group by format(release_date, 'ddd', 'en')\n",
                "    order by count(*) desc"
            ],
            "metadata": {
                "azdata_cell_guid": "b227f597-f24a-495c-bd72-a572e4b19f49"
            },
            "outputs": [
                {
                    "output_type": "display_data",
                    "data": {
                        "text/html": "(6 rows affected)"
                    },
                    "metadata": {}
                },
                {
                    "output_type": "display_data",
                    "data": {
                        "text/html": "Total execution time: 00:00:00.067"
                    },
                    "metadata": {}
                },
                {
                    "output_type": "execute_result",
                    "execution_count": 8,
                    "data": {
                        "application/vnd.dataresource+json": {
                            "schema": {
                                "fields": [
                                    {
                                        "name": "weekday"
                                    },
                                    {
                                        "name": "no_movies"
                                    }
                                ]
                            },
                            "data": [
                                {
                                    "0": "Fri",
                                    "1": "464"
                                },
                                {
                                    "0": "Wed",
                                    "1": "75"
                                },
                                {
                                    "0": "Thu",
                                    "1": "20"
                                },
                                {
                                    "0": "Tue",
                                    "1": "9"
                                },
                                {
                                    "0": "Sat",
                                    "1": "7"
                                },
                                {
                                    "0": "Sun",
                                    "1": "4"
                                }
                            ]
                        },
                        "text/html": "<table><tr><th>weekday</th><th>no_movies</th></tr><tr><td>Fri</td><td>464</td></tr><tr><td>Wed</td><td>75</td></tr><tr><td>Thu</td><td>20</td></tr><tr><td>Tue</td><td>9</td></tr><tr><td>Sat</td><td>7</td></tr><tr><td>Sun</td><td>4</td></tr></table>"
                    },
                    "metadata": {}
                }
            ],
            "execution_count": 8
        },
        {
            "cell_type": "code",
            "source": [
                "select \n",
                "    format(release_date, 'MMM', 'en') month,\n",
                "    count(*) no_movies\n",
                "    from movie_gross\n",
                "    group by format(release_date, 'MMM', 'en')\n",
                "    order by count(*) desc"
            ],
            "metadata": {
                "azdata_cell_guid": "22007a74-932c-4825-81a7-223625e45b0d"
            },
            "outputs": [
                {
                    "output_type": "display_data",
                    "data": {
                        "text/html": "(12 rows affected)"
                    },
                    "metadata": {}
                },
                {
                    "output_type": "display_data",
                    "data": {
                        "text/html": "Total execution time: 00:00:00.292"
                    },
                    "metadata": {}
                },
                {
                    "output_type": "execute_result",
                    "metadata": {},
                    "execution_count": 1,
                    "data": {
                        "application/vnd.dataresource+json": {
                            "schema": {
                                "fields": [
                                    {
                                        "name": "month"
                                    },
                                    {
                                        "name": "no_movies"
                                    }
                                ]
                            },
                            "data": [
                                {
                                    "0": "Mar",
                                    "1": "61"
                                },
                                {
                                    "0": "Nov",
                                    "1": "59"
                                },
                                {
                                    "0": "Oct",
                                    "1": "50"
                                },
                                {
                                    "0": "Jun",
                                    "1": "50"
                                },
                                {
                                    "0": "Apr",
                                    "1": "50"
                                },
                                {
                                    "0": "Dec",
                                    "1": "50"
                                },
                                {
                                    "0": "Aug",
                                    "1": "49"
                                },
                                {
                                    "0": "Feb",
                                    "1": "44"
                                },
                                {
                                    "0": "Jul",
                                    "1": "44"
                                },
                                {
                                    "0": "Sep",
                                    "1": "43"
                                },
                                {
                                    "0": "May",
                                    "1": "41"
                                },
                                {
                                    "0": "Jan",
                                    "1": "38"
                                }
                            ]
                        },
                        "text/html": "<table><tr><th>month</th><th>no_movies</th></tr><tr><td>Mar</td><td>61</td></tr><tr><td>Nov</td><td>59</td></tr><tr><td>Oct</td><td>50</td></tr><tr><td>Jun</td><td>50</td></tr><tr><td>Apr</td><td>50</td></tr><tr><td>Dec</td><td>50</td></tr><tr><td>Aug</td><td>49</td></tr><tr><td>Feb</td><td>44</td></tr><tr><td>Jul</td><td>44</td></tr><tr><td>Sep</td><td>43</td></tr><tr><td>May</td><td>41</td></tr><tr><td>Jan</td><td>38</td></tr></table>"
                    }
                }
            ],
            "execution_count": 1
        },
        {
            "cell_type": "code",
            "source": [
                ""
            ],
            "metadata": {
                "azdata_cell_guid": "e333fae2-14e9-4f42-91d9-54d10ba535cf"
            },
            "outputs": [],
            "execution_count": 0
        }
    ]
}