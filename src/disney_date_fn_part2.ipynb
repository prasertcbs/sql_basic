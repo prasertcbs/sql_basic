{
    "metadata": {
        "kernelspec": {
            "name": "SQL",
            "display_name": "SQL",
            "language": "sql"
        },
        "language_info": {
            "name": "sql",
            "version": ""
        }
    },
    "nbformat_minor": 2,
    "nbformat": 4,
    "cells": [
        {
            "cell_type": "markdown",
            "source": [
                "# date functions (GETDATE, DATEDIFF, DATEADD)\n",
                "## Server: Microsoft SQL Server\n",
                "## Database: disney\n",
                "## Author: Prasert Kanawatanachai\n",
                "## YouTube: https://youtu.be/duFSaKsJ2wY"
            ],
            "metadata": {}
        },
        {
            "cell_type": "code",
            "source": [
                "-- get current date and time\n",
                "select getdate()"
            ],
            "metadata": {},
            "outputs": [
                {
                    "output_type": "display_data",
                    "data": {
                        "text/html": "(1 row affected)"
                    },
                    "metadata": {}
                },
                {
                    "output_type": "display_data",
                    "data": {
                        "text/html": "Total execution time: 00:00:00.073"
                    },
                    "metadata": {}
                },
                {
                    "output_type": "execute_result",
                    "execution_count": 9,
                    "data": {
                        "application/vnd.dataresource+json": {
                            "schema": {
                                "fields": [
                                    {
                                        "name": "(No column name)"
                                    }
                                ]
                            },
                            "data": [
                                {
                                    "0": "2019-08-18 06:57:46.557"
                                }
                            ]
                        },
                        "text/html": "<table><tr><th>(No column name)</th></tr><tr><td>2019-08-18 06:57:46.557</td></tr></table>"
                    },
                    "metadata": {}
                }
            ],
            "execution_count": 9
        },
        {
            "cell_type": "code",
            "source": [
                "-- date differences in days\n",
                "select datediff(day, '1995-07-25', getdate())"
            ],
            "metadata": {},
            "outputs": [
                {
                    "output_type": "display_data",
                    "data": {
                        "text/html": "(1 row affected)"
                    },
                    "metadata": {}
                },
                {
                    "output_type": "display_data",
                    "data": {
                        "text/html": "Total execution time: 00:00:00.054"
                    },
                    "metadata": {}
                },
                {
                    "output_type": "execute_result",
                    "execution_count": 10,
                    "data": {
                        "application/vnd.dataresource+json": {
                            "schema": {
                                "fields": [
                                    {
                                        "name": "(No column name)"
                                    }
                                ]
                            },
                            "data": [
                                {
                                    "0": "8790"
                                }
                            ]
                        },
                        "text/html": "<table><tr><th>(No column name)</th></tr><tr><td>8790</td></tr></table>"
                    },
                    "metadata": {}
                }
            ],
            "execution_count": 10
        },
        {
            "cell_type": "code",
            "source": [
                "select \n",
                "    datediff(day, '1995-07-25', getdate()) [days],\n",
                "    datediff(week, '1995-07-25', getdate()) [weeks],\n",
                "    datediff(month, '1995-07-25', getdate()) [months],\n",
                "    datediff(year, '1995-07-25', getdate()) [years]"
            ],
            "metadata": {},
            "outputs": [
                {
                    "output_type": "display_data",
                    "data": {
                        "text/html": "(1 row affected)"
                    },
                    "metadata": {}
                },
                {
                    "output_type": "display_data",
                    "data": {
                        "text/html": "Total execution time: 00:00:00.056"
                    },
                    "metadata": {}
                },
                {
                    "output_type": "execute_result",
                    "execution_count": 11,
                    "data": {
                        "application/vnd.dataresource+json": {
                            "schema": {
                                "fields": [
                                    {
                                        "name": "days"
                                    },
                                    {
                                        "name": "weeks"
                                    },
                                    {
                                        "name": "months"
                                    },
                                    {
                                        "name": "years"
                                    }
                                ]
                            },
                            "data": [
                                {
                                    "0": "8790",
                                    "1": "1256",
                                    "2": "289",
                                    "3": "24"
                                }
                            ]
                        },
                        "text/html": "<table><tr><th>days</th><th>weeks</th><th>months</th><th>years</th></tr><tr><td>8790</td><td>1256</td><td>289</td><td>24</td></tr></table>"
                    },
                    "metadata": {}
                }
            ],
            "execution_count": 11
        },
        {
            "cell_type": "code",
            "source": [
                "select movie_title, release_date,\n",
                "    datediff(year, release_date, getdate()) age_years\n",
                "    from movie_gross"
            ],
            "metadata": {},
            "outputs": [
                {
                    "output_type": "display_data",
                    "data": {
                        "text/html": "(579 rows affected)"
                    },
                    "metadata": {}
                },
                {
                    "output_type": "display_data",
                    "data": {
                        "text/html": "Total execution time: 00:00:00.067"
                    },
                    "metadata": {}
                },
                {
                    "output_type": "execute_result",
                    "execution_count": 12,
                    "data": {
                        "application/vnd.dataresource+json": {
                            "schema": {
                                "fields": [
                                    {
                                        "name": "movie_title"
                                    },
                                    {
                                        "name": "release_date"
                                    },
                                    {
                                        "name": "age_years"
                                    }
                                ]
                            },
                            "data": [
                                {
                                    "0": "Snow White and the Seven Dwarfs",
                                    "1": "1937-12-21",
                                    "2": "82"
                                },
                                {
                                    "0": "Pinocchio",
                                    "1": "1940-02-09",
                                    "2": "79"
                                },
                                {
                                    "0": "Fantasia",
                                    "1": "1940-11-13",
                                    "2": "79"
                                },
                                {
                                    "0": "Song of the South",
                                    "1": "1946-11-12",
                                    "2": "73"
                                },
                                {
                                    "0": "Cinderella",
                                    "1": "1950-02-15",
                                    "2": "69"
                                },
                                {
                                    "0": "20,000 Leagues Under the Sea",
                                    "1": "1954-12-23",
                                    "2": "65"
                                },
                                {
                                    "0": "Lady and the Tramp",
                                    "1": "1955-06-22",
                                    "2": "64"
                                },
                                {
                                    "0": "Sleeping Beauty",
                                    "1": "1959-01-29",
                                    "2": "60"
                                },
                                {
                                    "0": "101 Dalmatians",
                                    "1": "1961-01-25",
                                    "2": "58"
                                },
                                {
                                    "0": "The Absent Minded Professor",
                                    "1": "1961-03-16",
                                    "2": "58"
                                },
                                {
                                    "0": "Babes in Toyland",
                                    "1": "1961-12-14",
                                    "2": "58"
                                },
                                {
                                    "0": "Bon Voyage!",
                                    "1": "1962-05-17",
                                    "2": "57"
                                },
                                {
                                    "0": "The Sword in the Stone",
                                    "1": "1963-12-25",
                                    "2": "56"
                                },
                                {
                                    "0": "The Jungle Book",
                                    "1": "1967-10-18",
                                    "2": "52"
                                },
                                {
                                    "0": "Blackbeard's Ghost",
                                    "1": "1968-02-08",
                                    "2": "51"
                                },
                                {
                                    "0": "The Aristocats",
                                    "1": "1970-04-24",
                                    "2": "49"
                                },
                                {
                                    "0": "The Boatniks",
                                    "1": "1970-07-01",
                                    "2": "49"
                                },
                                {
                                    "0": "Bedknobs and Broomsticks",
                                    "1": "1971-10-07",
                                    "2": "48"
                                },
                                {
                                    "0": "The Apple Dumpling Gang",
                                    "1": "1975-07-01",
                                    "2": "44"
                                },
                                {
                                    "0": "Freaky Friday",
                                    "1": "1977-01-21",
                                    "2": "42"
                                },
                                {
                                    "0": "The Many Adventures of Winnie the Pooh",
                                    "1": "1977-03-11",
                                    "2": "42"
                                },
                                {
                                    "0": "The Rescuers",
                                    "1": "1977-06-22",
                                    "2": "42"
                                },
                                {
                                    "0": "Herbie Goes to Monte Carlo",
                                    "1": "1977-06-24",
                                    "2": "42"
                                },
                                {
                                    "0": "The Black Hole",
                                    "1": "1979-12-21",
                                    "2": "40"
                                },
                                {
                                    "0": "Midnight Madness",
                                    "1": "1980-02-08",
                                    "2": "39"
                                },
                                {
                                    "0": "The Last Flight of Noah’s Ark",
                                    "1": "1980-06-25",
                                    "2": "39"
                                },
                                {
                                    "0": "The Devil and Max Devlin",
                                    "1": "1981-01-01",
                                    "2": "38"
                                },
                                {
                                    "0": "Amy",
                                    "1": "1981-03-20",
                                    "2": "38"
                                },
                                {
                                    "0": "The Fox and the Hound",
                                    "1": "1981-07-10",
                                    "2": "38"
                                },
                                {
                                    "0": "Condorman",
                                    "1": "1981-08-07",
                                    "2": "38"
                                },
                                {
                                    "0": "Night Crossing",
                                    "1": "1982-02-05",
                                    "2": "37"
                                },
                                {
                                    "0": "Tron",
                                    "1": "1982-07-09",
                                    "2": "37"
                                },
                                {
                                    "0": "Tex",
                                    "1": "1982-11-19",
                                    "2": "37"
                                },
                                {
                                    "0": "Trenchcoat",
                                    "1": "1983-03-11",
                                    "2": "36"
                                },
                                {
                                    "0": "Something Wicked This Way Comes",
                                    "1": "1983-04-29",
                                    "2": "36"
                                },
                                {
                                    "0": "Never Cry Wolf",
                                    "1": "1983-10-07",
                                    "2": "36"
                                },
                                {
                                    "0": "Running Brave",
                                    "1": "1983-11-04",
                                    "2": "36"
                                },
                                {
                                    "0": "Splash",
                                    "1": "1984-03-09",
                                    "2": "35"
                                },
                                {
                                    "0": "Country",
                                    "1": "1984-09-29",
                                    "2": "35"
                                },
                                {
                                    "0": "Baby: Secret of the Lost Legend",
                                    "1": "1985-03-22",
                                    "2": "34"
                                },
                                {
                                    "0": "Return to Oz",
                                    "1": "1985-06-21",
                                    "2": "34"
                                },
                                {
                                    "0": "The Black Cauldron",
                                    "1": "1985-07-24",
                                    "2": "34"
                                },
                                {
                                    "0": "My Science Project",
                                    "1": "1985-08-09",
                                    "2": "34"
                                },
                                {
                                    "0": "The Journey of Natty Gann",
                                    "1": "1985-09-27",
                                    "2": "34"
                                },
                                {
                                    "0": "One Magic Christmas",
                                    "1": "1985-11-22",
                                    "2": "34"
                                },
                                {
                                    "0": "Down and Out in Beverly Hills",
                                    "1": "1986-01-31",
                                    "2": "33"
                                },
                                {
                                    "0": "Off Beat",
                                    "1": "1986-04-11",
                                    "2": "33"
                                },
                                {
                                    "0": "Ruthless People",
                                    "1": "1986-06-27",
                                    "2": "33"
                                },
                                {
                                    "0": "The Great Mouse Detective",
                                    "1": "1986-07-02",
                                    "2": "33"
                                },
                                {
                                    "0": "Flight of the Navigator",
                                    "1": "1986-07-30",
                                    "2": "33"
                                },
                                {
                                    "0": "Tough Guys",
                                    "1": "1986-10-03",
                                    "2": "33"
                                },
                                {
                                    "0": "The Color of Money",
                                    "1": "1986-10-17",
                                    "2": "33"
                                },
                                {
                                    "0": "Outrageous Fortune",
                                    "1": "1987-01-30",
                                    "2": "32"
                                },
                                {
                                    "0": "Tin Men",
                                    "1": "1987-03-06",
                                    "2": "32"
                                },
                                {
                                    "0": "Ernest Goes to Camp",
                                    "1": "1987-05-22",
                                    "2": "32"
                                },
                                {
                                    "0": "Benji the Hunted",
                                    "1": "1987-06-05",
                                    "2": "32"
                                },
                                {
                                    "0": "Adventures in Babysitting",
                                    "1": "1987-07-03",
                                    "2": "32"
                                },
                                {
                                    "0": "Stakeout",
                                    "1": "1987-08-05",
                                    "2": "32"
                                },
                                {
                                    "0": "Can't Buy Me Love",
                                    "1": "1987-08-14",
                                    "2": "32"
                                },
                                {
                                    "0": "Hello Again",
                                    "1": "1987-11-06",
                                    "2": "32"
                                },
                                {
                                    "0": "3 Men and a Baby",
                                    "1": "1987-11-25",
                                    "2": "32"
                                },
                                {
                                    "0": "Good Morning Vietnam",
                                    "1": "1987-12-23",
                                    "2": "32"
                                },
                                {
                                    "0": "Shoot to Kill",
                                    "1": "1988-02-12",
                                    "2": "31"
                                },
                                {
                                    "0": "D.O.A.",
                                    "1": "1988-03-18",
                                    "2": "31"
                                },
                                {
                                    "0": "Return to Snowy River",
                                    "1": "1988-04-15",
                                    "2": "31"
                                },
                                {
                                    "0": "Big Business",
                                    "1": "1988-06-10",
                                    "2": "31"
                                },
                                {
                                    "0": "Who Framed Roger Rabbit?",
                                    "1": "1988-06-22",
                                    "2": "31"
                                },
                                {
                                    "0": "Cocktail",
                                    "1": "1988-07-29",
                                    "2": "31"
                                },
                                {
                                    "0": "The Rescue",
                                    "1": "1988-08-05",
                                    "2": "31"
                                },
                                {
                                    "0": "Heartbreak Hotel",
                                    "1": "1988-09-30",
                                    "2": "31"
                                },
                                {
                                    "0": "The Good Mother",
                                    "1": "1988-11-04",
                                    "2": "31"
                                },
                                {
                                    "0": "Ernest Saves Christmas",
                                    "1": "1988-11-11",
                                    "2": "31"
                                },
                                {
                                    "0": "Oliver & Company",
                                    "1": "1988-11-18",
                                    "2": "31"
                                },
                                {
                                    "0": "Beaches",
                                    "1": "1988-12-21",
                                    "2": "31"
                                },
                                {
                                    "0": "Three Fugitives",
                                    "1": "1989-01-27",
                                    "2": "30"
                                },
                                {
                                    "0": "New York Stories",
                                    "1": "1989-03-01",
                                    "2": "30"
                                },
                                {
                                    "0": "Disorganized Crime",
                                    "1": "1989-04-14",
                                    "2": "30"
                                },
                                {
                                    "0": "Dead Poets Society",
                                    "1": "1989-06-02",
                                    "2": "30"
                                },
                                {
                                    "0": "Honey, I Shrunk the Kids",
                                    "1": "1989-06-23",
                                    "2": "30"
                                },
                                {
                                    "0": "Turner & Hooch",
                                    "1": "1989-07-28",
                                    "2": "30"
                                },
                                {
                                    "0": "Cheetah",
                                    "1": "1989-08-18",
                                    "2": "30"
                                },
                                {
                                    "0": "An Innocent Man",
                                    "1": "1989-10-06",
                                    "2": "30"
                                },
                                {
                                    "0": "Gross Anatomy",
                                    "1": "1989-10-20",
                                    "2": "30"
                                },
                                {
                                    "0": "The Little Mermaid",
                                    "1": "1989-11-15",
                                    "2": "30"
                                },
                                {
                                    "0": "Blaze",
                                    "1": "1989-12-13",
                                    "2": "30"
                                },
                                {
                                    "0": "Stella",
                                    "1": "1990-02-02",
                                    "2": "29"
                                },
                                {
                                    "0": "Where the Heart Is",
                                    "1": "1990-02-23",
                                    "2": "29"
                                },
                                {
                                    "0": "Pretty Woman",
                                    "1": "1990-03-23",
                                    "2": "29"
                                },
                                {
                                    "0": "Ernest Goes to Jail",
                                    "1": "1990-04-06",
                                    "2": "29"
                                },
                                {
                                    "0": "Spaced Invaders",
                                    "1": "1990-04-27",
                                    "2": "29"
                                },
                                {
                                    "0": "Fire Birds",
                                    "1": "1990-05-24",
                                    "2": "29"
                                },
                                {
                                    "0": "Dick Tracy",
                                    "1": "1990-06-15",
                                    "2": "29"
                                },
                                {
                                    "0": "Betsy's Wedding",
                                    "1": "1990-06-22",
                                    "2": "29"
                                },
                                {
                                    "0": "Arachnophobia",
                                    "1": "1990-07-18",
                                    "2": "29"
                                },
                                {
                                    "0": "DuckTales: The Movie - Treasure of th…",
                                    "1": "1990-08-03",
                                    "2": "29"
                                },
                                {
                                    "0": "Taking Care of Business",
                                    "1": "1990-08-17",
                                    "2": "29"
                                },
                                {
                                    "0": "Mr. Destiny",
                                    "1": "1990-10-12",
                                    "2": "29"
                                },
                                {
                                    "0": "The Rescuers Down Under",
                                    "1": "1990-11-16",
                                    "2": "29"
                                },
                                {
                                    "0": "3 Men and a Little Lady",
                                    "1": "1990-11-21",
                                    "2": "29"
                                },
                                {
                                    "0": "Green Card",
                                    "1": "1990-12-25",
                                    "2": "29"
                                },
                                {
                                    "0": "White Fang",
                                    "1": "1991-01-18",
                                    "2": "28"
                                },
                                {
                                    "0": "Scenes from a Mall",
                                    "1": "1991-02-22",
                                    "2": "28"
                                },
                                {
                                    "0": "Haakon Haakonsen",
                                    "1": "1991-03-01",
                                    "2": "28"
                                },
                                {
                                    "0": "The Marrying Man",
                                    "1": "1991-04-05",
                                    "2": "28"
                                },
                                {
                                    "0": "Oscar",
                                    "1": "1991-04-26",
                                    "2": "28"
                                },
                                {
                                    "0": "One Good Cop",
                                    "1": "1991-05-03",
                                    "2": "28"
                                },
                                {
                                    "0": "What About Bob?",
                                    "1": "1991-05-17",
                                    "2": "28"
                                },
                                {
                                    "0": "Wild Hearts Can't Be Broken",
                                    "1": "1991-05-24",
                                    "2": "28"
                                },
                                {
                                    "0": "The Rocketeer",
                                    "1": "1991-06-21",
                                    "2": "28"
                                },
                                {
                                    "0": "The Doctor",
                                    "1": "1991-07-24",
                                    "2": "28"
                                },
                                {
                                    "0": "Paradise",
                                    "1": "1991-09-18",
                                    "2": "28"
                                },
                                {
                                    "0": "Deceived",
                                    "1": "1991-09-27",
                                    "2": "28"
                                },
                                {
                                    "0": "Ernest Scared Stupid",
                                    "1": "1991-10-11",
                                    "2": "28"
                                },
                                {
                                    "0": "Billy Bathgate",
                                    "1": "1991-11-01",
                                    "2": "28"
                                },
                                {
                                    "0": "Beauty and the Beast",
                                    "1": "1991-11-13",
                                    "2": "28"
                                },
                                {
                                    "0": "Father of the Bride",
                                    "1": "1991-12-20",
                                    "2": "28"
                                },
                                {
                                    "0": "The Hand That Rocks the Cradle",
                                    "1": "1992-01-10",
                                    "2": "27"
                                },
                                {
                                    "0": "Medicine Man",
                                    "1": "1992-02-07",
                                    "2": "27"
                                },
                                {
                                    "0": "Blame it on the Bellboy",
                                    "1": "1992-03-06",
                                    "2": "27"
                                },
                                {
                                    "0": "Noises Off...",
                                    "1": "1992-03-20",
                                    "2": "27"
                                },
                                {
                                    "0": "Straight Talk",
                                    "1": "1992-04-03",
                                    "2": "27"
                                },
                                {
                                    "0": "Newsies",
                                    "1": "1992-04-08",
                                    "2": "27"
                                },
                                {
                                    "0": "Passed Away",
                                    "1": "1992-04-24",
                                    "2": "27"
                                },
                                {
                                    "0": "Encino Man",
                                    "1": "1992-05-22",
                                    "2": "27"
                                },
                                {
                                    "0": "Sister Act",
                                    "1": "1992-05-29",
                                    "2": "27"
                                },
                                {
                                    "0": "Honey I Blew Up the Kid",
                                    "1": "1992-07-17",
                                    "2": "27"
                                },
                                {
                                    "0": "A Stranger Among Us",
                                    "1": "1992-07-17",
                                    "2": "27"
                                },
                                {
                                    "0": "3 Ninjas",
                                    "1": "1992-08-07",
                                    "2": "27"
                                },
                                {
                                    "0": "A Gun in Betty Lou's Handbag",
                                    "1": "1992-08-21",
                                    "2": "27"
                                },
                                {
                                    "0": "Captain Ron",
                                    "1": "1992-09-18",
                                    "2": "27"
                                },
                                {
                                    "0": "Sarafina!",
                                    "1": "1992-09-18",
                                    "2": "27"
                                },
                                {
                                    "0": "Innocent Blood",
                                    "1": "1992-09-25",
                                    "2": "27"
                                },
                                {
                                    "0": "The Mighty Ducks",
                                    "1": "1992-10-02",
                                    "2": "27"
                                },
                                {
                                    "0": "1492: Conquest of Paradise",
                                    "1": "1992-10-09",
                                    "2": "27"
                                },
                                {
                                    "0": "Consenting Adults",
                                    "1": "1992-10-16",
                                    "2": "27"
                                },
                                {
                                    "0": "Aladdin",
                                    "1": "1992-11-11",
                                    "2": "27"
                                },
                                {
                                    "0": "The Distinguished Gentleman",
                                    "1": "1992-12-04",
                                    "2": "27"
                                },
                                {
                                    "0": "The Muppet Christmas Carol",
                                    "1": "1992-12-11",
                                    "2": "27"
                                },
                                {
                                    "0": "Alive",
                                    "1": "1993-01-15",
                                    "2": "26"
                                },
                                {
                                    "0": "Aspen Extreme",
                                    "1": "1993-01-22",
                                    "2": "26"
                                },
                                {
                                    "0": "Homeward Bound: The Incredible Journey",
                                    "1": "1993-02-03",
                                    "2": "26"
                                },
                                {
                                    "0": "The Cemetery Club",
                                    "1": "1993-02-03",
                                    "2": "26"
                                },
                                {
                                    "0": "Swing Kids",
                                    "1": "1993-03-05",
                                    "2": "26"
                                },
                                {
                                    "0": "A Far Off Place",
                                    "1": "1993-03-12",
                                    "2": "26"
                                },
                                {
                                    "0": "Born Yesterday",
                                    "1": "1993-03-26",
                                    "2": "26"
                                },
                                {
                                    "0": "The Adventures of Huck Finn",
                                    "1": "1993-04-02",
                                    "2": "26"
                                },
                                {
                                    "0": "Bound by Honor",
                                    "1": "1993-04-16",
                                    "2": "26"
                                },
                                {
                                    "0": "Indian Summer",
                                    "1": "1993-04-23",
                                    "2": "26"
                                },
                                {
                                    "0": "Super Mario Bros.",
                                    "1": "1993-05-28",
                                    "2": "26"
                                },
                                {
                                    "0": "Guilty as Sin",
                                    "1": "1993-06-04",
                                    "2": "26"
                                },
                                {
                                    "0": "Life With Mikey",
                                    "1": "1993-06-04",
                                    "2": "26"
                                },
                                {
                                    "0": "What's Love Got to Do With It",
                                    "1": "1993-06-09",
                                    "2": "26"
                                },
                                {
                                    "0": "Son in Law",
                                    "1": "1993-07-02",
                                    "2": "26"
                                },
                                {
                                    "0": "Hocus Pocus",
                                    "1": "1993-07-16",
                                    "2": "26"
                                },
                                {
                                    "0": "Another Stakeout",
                                    "1": "1993-07-23",
                                    "2": "26"
                                },
                                {
                                    "0": "My Boyfriend's Back",
                                    "1": "1993-08-06",
                                    "2": "26"
                                },
                                {
                                    "0": "Father Hood",
                                    "1": "1993-08-27",
                                    "2": "26"
                                },
                                {
                                    "0": "The Joy Luck Club",
                                    "1": "1993-09-08",
                                    "2": "26"
                                },
                                {
                                    "0": "Money for Nothing",
                                    "1": "1993-09-10",
                                    "2": "26"
                                },
                                {
                                    "0": "The Program",
                                    "1": "1993-09-24",
                                    "2": "26"
                                },
                                {
                                    "0": "Cool Runnings",
                                    "1": "1993-10-01",
                                    "2": "26"
                                },
                                {
                                    "0": "The Nightmare Before Christmas",
                                    "1": "1993-10-13",
                                    "2": "26"
                                },
                                {
                                    "0": "The Three Musketeers",
                                    "1": "1993-11-12",
                                    "2": "26"
                                },
                                {
                                    "0": "Sister Act 2 Back in the Habit",
                                    "1": "1993-12-10",
                                    "2": "26"
                                },
                                {
                                    "0": "Tombstone",
                                    "1": "1993-12-25",
                                    "2": "26"
                                },
                                {
                                    "0": "The Air Up There",
                                    "1": "1994-01-07",
                                    "2": "25"
                                },
                                {
                                    "0": "Cabin Boy",
                                    "1": "1994-01-07",
                                    "2": "25"
                                },
                                {
                                    "0": "Iron Will",
                                    "1": "1994-01-14",
                                    "2": "25"
                                },
                                {
                                    "0": "Red Rock West",
                                    "1": "1994-01-28",
                                    "2": "25"
                                },
                                {
                                    "0": "Blank Check",
                                    "1": "1994-02-11",
                                    "2": "25"
                                },
                                {
                                    "0": "Angie",
                                    "1": "1994-03-04",
                                    "2": "25"
                                },
                                {
                                    "0": "The Ref",
                                    "1": "1994-03-09",
                                    "2": "25"
                                },
                                {
                                    "0": "D2: The Mighty Ducks",
                                    "1": "1994-03-25",
                                    "2": "25"
                                },
                                {
                                    "0": "Holy Matrimony",
                                    "1": "1994-04-08",
                                    "2": "25"
                                },
                                {
                                    "0": "White Fang 2: Myth of the White Wolf",
                                    "1": "1994-04-15",
                                    "2": "25"
                                },
                                {
                                    "0": "The Inkwell",
                                    "1": "1994-04-22",
                                    "2": "25"
                                },
                                {
                                    "0": "When a Man Loves a Woman",
                                    "1": "1994-04-29",
                                    "2": "25"
                                },
                                {
                                    "0": "3 Ninjas Kick Back",
                                    "1": "1994-05-06",
                                    "2": "25"
                                },
                                {
                                    "0": "Renaissance Man",
                                    "1": "1994-06-03",
                                    "2": "25"
                                },
                                {
                                    "0": "The Lion King",
                                    "1": "1994-06-15",
                                    "2": "25"
                                },
                                {
                                    "0": "I Love Trouble",
                                    "1": "1994-06-29",
                                    "2": "25"
                                },
                                {
                                    "0": "Angels in the Outfield",
                                    "1": "1994-07-15",
                                    "2": "25"
                                },
                                {
                                    "0": "In the Army Now",
                                    "1": "1994-08-12",
                                    "2": "25"
                                },
                                {
                                    "0": "Color of Night",
                                    "1": "1994-08-19",
                                    "2": "25"
                                },
                                {
                                    "0": "Camp Nowhere",
                                    "1": "1994-08-26",
                                    "2": "25"
                                },
                                {
                                    "0": "It's Pat",
                                    "1": "1994-08-26",
                                    "2": "25"
                                },
                                {
                                    "0": "A Simple Twist of Fate",
                                    "1": "1994-09-02",
                                    "2": "25"
                                },
                                {
                                    "0": "Quiz Show",
                                    "1": "1994-09-14",
                                    "2": "25"
                                },
                                {
                                    "0": "Terminal Velocity",
                                    "1": "1994-09-23",
                                    "2": "25"
                                },
                                {
                                    "0": "Ed Wood",
                                    "1": "1994-09-30",
                                    "2": "25"
                                },
                                {
                                    "0": "The Puppet Masters",
                                    "1": "1994-10-21",
                                    "2": "25"
                                },
                                {
                                    "0": "Squanto: A Warrior's Tale",
                                    "1": "1994-10-28",
                                    "2": "25"
                                },
                                {
                                    "0": "The Santa Clause",
                                    "1": "1994-11-11",
                                    "2": "25"
                                },
                                {
                                    "0": "A Low Down Dirty Shame",
                                    "1": "1994-11-23",
                                    "2": "25"
                                },
                                {
                                    "0": "The Jungle Book",
                                    "1": "1994-12-25",
                                    "2": "25"
                                },
                                {
                                    "0": "Houseguest",
                                    "1": "1995-01-06",
                                    "2": "24"
                                },
                                {
                                    "0": "Bad Company",
                                    "1": "1995-01-20",
                                    "2": "24"
                                },
                                {
                                    "0": "Miami Rhapsody",
                                    "1": "1995-01-27",
                                    "2": "24"
                                },
                                {
                                    "0": "The Jerky Boys",
                                    "1": "1995-02-03",
                                    "2": "24"
                                },
                                {
                                    "0": "Heavy Weights",
                                    "1": "1995-02-17",
                                    "2": "24"
                                },
                                {
                                    "0": "Man of the House",
                                    "1": "1995-03-03",
                                    "2": "24"
                                },
                                {
                                    "0": "Roommates",
                                    "1": "1995-03-03",
                                    "2": "24"
                                },
                                {
                                    "0": "Tall Tale",
                                    "1": "1995-03-24",
                                    "2": "24"
                                },
                                {
                                    "0": "A Pyromaniac's Love Story",
                                    "1": "1995-03-28",
                                    "2": "24"
                                },
                                {
                                    "0": "Jefferson in Paris",
                                    "1": "1995-03-31",
                                    "2": "24"
                                },
                                {
                                    "0": "Funny Bones",
                                    "1": "1995-03-31",
                                    "2": "24"
                                },
                                {
                                    "0": "A Goofy Movie",
                                    "1": "1995-04-07",
                                    "2": "24"
                                },
                                {
                                    "0": "While You Were Sleeping",
                                    "1": "1995-04-21",
                                    "2": "24"
                                },
                                {
                                    "0": "Crimson Tide",
                                    "1": "1995-05-12",
                                    "2": "24"
                                },
                                {
                                    "0": "Mad Love",
                                    "1": "1995-05-26",
                                    "2": "24"
                                },
                                {
                                    "0": "Pocahontas",
                                    "1": "1995-06-10",
                                    "2": "24"
                                },
                                {
                                    "0": "Judge Dredd",
                                    "1": "1995-06-30",
                                    "2": "24"
                                },
                                {
                                    "0": "Operation Dumbo Drop",
                                    "1": "1995-07-28",
                                    "2": "24"
                                },
                                {
                                    "0": "Dangerous Minds",
                                    "1": "1995-08-11",
                                    "2": "24"
                                },
                                {
                                    "0": "A Kid in King Arthur's Court",
                                    "1": "1995-08-11",
                                    "2": "24"
                                },
                                {
                                    "0": "The Tie That Binds",
                                    "1": "1995-09-08",
                                    "2": "24"
                                },
                                {
                                    "0": "Unstrung Heroes",
                                    "1": "1995-09-15",
                                    "2": "24"
                                },
                                {
                                    "0": "The Big Green",
                                    "1": "1995-09-29",
                                    "2": "24"
                                },
                                {
                                    "0": "Dead Presidents",
                                    "1": "1995-10-04",
                                    "2": "24"
                                },
                                {
                                    "0": "The Scarlet Letter",
                                    "1": "1995-10-13",
                                    "2": "24"
                                },
                                {
                                    "0": "Feast of July",
                                    "1": "1995-10-13",
                                    "2": "24"
                                },
                                {
                                    "0": "Powder",
                                    "1": "1995-10-27",
                                    "2": "24"
                                },
                                {
                                    "0": "Toy Story",
                                    "1": "1995-11-22",
                                    "2": "24"
                                },
                                {
                                    "0": "Father of the Bride Part II",
                                    "1": "1995-12-08",
                                    "2": "24"
                                },
                                {
                                    "0": "Nixon",
                                    "1": "1995-12-20",
                                    "2": "24"
                                },
                                {
                                    "0": "Tom and Huck",
                                    "1": "1995-12-22",
                                    "2": "24"
                                },
                                {
                                    "0": "Mr. Holland's Opus",
                                    "1": "1995-12-29",
                                    "2": "24"
                                },
                                {
                                    "0": "White Squall",
                                    "1": "1996-02-02",
                                    "2": "23"
                                },
                                {
                                    "0": "Muppet Treasure Island",
                                    "1": "1996-02-16",
                                    "2": "23"
                                },
                                {
                                    "0": "Mr. Wrong",
                                    "1": "1996-02-16",
                                    "2": "23"
                                },
                                {
                                    "0": "Before and After",
                                    "1": "1996-02-23",
                                    "2": "23"
                                },
                                {
                                    "0": "Up Close & Personal",
                                    "1": "1996-03-01",
                                    "2": "23"
                                },
                                {
                                    "0": "Homeward Bound II: Lost in San Franc…",
                                    "1": "1996-03-08",
                                    "2": "23"
                                },
                                {
                                    "0": "Two Much",
                                    "1": "1996-03-15",
                                    "2": "23"
                                },
                                {
                                    "0": "Un indien dans la ville",
                                    "1": "1996-03-22",
                                    "2": "23"
                                },
                                {
                                    "0": "James and the Giant Peach",
                                    "1": "1996-04-12",
                                    "2": "23"
                                },
                                {
                                    "0": "Celtic Pride",
                                    "1": "1996-04-19",
                                    "2": "23"
                                },
                                {
                                    "0": "Last Dance",
                                    "1": "1996-05-03",
                                    "2": "23"
                                },
                                {
                                    "0": "Boys",
                                    "1": "1996-05-10",
                                    "2": "23"
                                },
                                {
                                    "0": "Spy Hard",
                                    "1": "1996-05-24",
                                    "2": "23"
                                },
                                {
                                    "0": "Eddie",
                                    "1": "1996-05-31",
                                    "2": "23"
                                },
                                {
                                    "0": "The Rock",
                                    "1": "1996-06-07",
                                    "2": "23"
                                },
                                {
                                    "0": "The Hunchback of Notre Dame",
                                    "1": "1996-06-21",
                                    "2": "23"
                                },
                                {
                                    "0": "Phenomenon",
                                    "1": "1996-07-05",
                                    "2": "23"
                                },
                                {
                                    "0": "Kazaam",
                                    "1": "1996-07-17",
                                    "2": "23"
                                },
                                {
                                    "0": "Jack",
                                    "1": "1996-08-09",
                                    "2": "23"
                                },
                                {
                                    "0": "First Kid",
                                    "1": "1996-08-30",
                                    "2": "23"
                                },
                                {
                                    "0": "The Rich Man's Wife",
                                    "1": "1996-09-13",
                                    "2": "23"
                                },
                                {
                                    "0": "D3: The Mighty Ducks",
                                    "1": "1996-10-04",
                                    "2": "23"
                                },
                                {
                                    "0": "The Associate",
                                    "1": "1996-10-25",
                                    "2": "23"
                                },
                                {
                                    "0": "Ransom",
                                    "1": "1996-11-08",
                                    "2": "23"
                                },
                                {
                                    "0": "The War at Home",
                                    "1": "1996-11-20",
                                    "2": "23"
                                },
                                {
                                    "0": "101 Dalmatians",
                                    "1": "1996-11-27",
                                    "2": "23"
                                },
                                {
                                    "0": "The Preacher's Wife",
                                    "1": "1996-12-13",
                                    "2": "23"
                                },
                                {
                                    "0": "Evita",
                                    "1": "1996-12-25",
                                    "2": "23"
                                },
                                {
                                    "0": "Metro",
                                    "1": "1997-01-17",
                                    "2": "22"
                                },
                                {
                                    "0": "Prefontaine",
                                    "1": "1997-01-24",
                                    "2": "22"
                                },
                                {
                                    "0": "Shadow Conspiracy",
                                    "1": "1997-01-31",
                                    "2": "22"
                                },
                                {
                                    "0": "That Darn Cat",
                                    "1": "1997-02-14",
                                    "2": "22"
                                },
                                {
                                    "0": "Jungle 2 Jungle",
                                    "1": "1997-03-07",
                                    "2": "22"
                                },
                                {
                                    "0": "The Sixth Man",
                                    "1": "1997-03-28",
                                    "2": "22"
                                },
                                {
                                    "0": "Grosse Pointe Blank",
                                    "1": "1997-04-11",
                                    "2": "22"
                                },
                                {
                                    "0": "Romy and Michele's High School Reunion",
                                    "1": "1997-04-25",
                                    "2": "22"
                                },
                                {
                                    "0": "Gone Fishin'",
                                    "1": "1997-05-30",
                                    "2": "22"
                                },
                                {
                                    "0": "Con Air",
                                    "1": "1997-06-06",
                                    "2": "22"
                                },
                                {
                                    "0": "Hercules",
                                    "1": "1997-06-13",
                                    "2": "22"
                                },
                                {
                                    "0": "George Of The Jungle",
                                    "1": "1997-07-16",
                                    "2": "22"
                                },
                                {
                                    "0": "Nothing To Lose",
                                    "1": "1997-07-18",
                                    "2": "22"
                                },
                                {
                                    "0": "Air Bud",
                                    "1": "1997-08-01",
                                    "2": "22"
                                },
                                {
                                    "0": "G.I. Jane",
                                    "1": "1997-08-22",
                                    "2": "22"
                                },
                                {
                                    "0": "A Thousand Acres",
                                    "1": "1997-09-19",
                                    "2": "22"
                                },
                                {
                                    "0": "Washington Square",
                                    "1": "1997-10-05",
                                    "2": "22"
                                },
                                {
                                    "0": "Rocket Man",
                                    "1": "1997-10-10",
                                    "2": "22"
                                },
                                {
                                    "0": "Playing God",
                                    "1": "1997-10-17",
                                    "2": "22"
                                },
                                {
                                    "0": "Flubber",
                                    "1": "1997-11-26",
                                    "2": "22"
                                },
                                {
                                    "0": "An American Werewolf in Paris",
                                    "1": "1997-12-25",
                                    "2": "22"
                                },
                                {
                                    "0": "Mr. Magoo",
                                    "1": "1997-12-25",
                                    "2": "22"
                                },
                                {
                                    "0": "Kundun",
                                    "1": "1997-12-25",
                                    "2": "22"
                                },
                                {
                                    "0": "Deep Rising",
                                    "1": "1998-01-30",
                                    "2": "21"
                                },
                                {
                                    "0": "Krippendorf's Tribe",
                                    "1": "1998-02-27",
                                    "2": "21"
                                },
                                {
                                    "0": "An Alan Smithee Film: Burn Hollywood …",
                                    "1": "1998-02-27",
                                    "2": "21"
                                },
                                {
                                    "0": "Meet the Deedles",
                                    "1": "1998-03-27",
                                    "2": "21"
                                },
                                {
                                    "0": "He Got Game",
                                    "1": "1998-05-01",
                                    "2": "21"
                                },
                                {
                                    "0": "The Horse Whisperer",
                                    "1": "1998-05-15",
                                    "2": "21"
                                },
                                {
                                    "0": "Six Days, Seven Nights",
                                    "1": "1998-06-12",
                                    "2": "21"
                                },
                                {
                                    "0": "Mulan",
                                    "1": "1998-06-19",
                                    "2": "21"
                                },
                                {
                                    "0": "Armageddon",
                                    "1": "1998-07-01",
                                    "2": "21"
                                },
                                {
                                    "0": "Jane Austen's Mafia",
                                    "1": "1998-07-24",
                                    "2": "21"
                                },
                                {
                                    "0": "The Parent Trap",
                                    "1": "1998-07-29",
                                    "2": "21"
                                },
                                {
                                    "0": "Firelight",
                                    "1": "1998-09-04",
                                    "2": "21"
                                },
                                {
                                    "0": "Simon Birch",
                                    "1": "1998-09-11",
                                    "2": "21"
                                },
                                {
                                    "0": "Holy Man",
                                    "1": "1998-10-09",
                                    "2": "21"
                                },
                                {
                                    "0": "Beloved",
                                    "1": "1998-10-16",
                                    "2": "21"
                                },
                                {
                                    "0": "The Waterboy",
                                    "1": "1998-11-06",
                                    "2": "21"
                                },
                                {
                                    "0": "I'll Be Home For Christmas",
                                    "1": "1998-11-13",
                                    "2": "21"
                                },
                                {
                                    "0": "A Bug's Life",
                                    "1": "1998-11-20",
                                    "2": "21"
                                },
                                {
                                    "0": "Enemy of the State",
                                    "1": "1998-11-20",
                                    "2": "21"
                                },
                                {
                                    "0": "Rushmore",
                                    "1": "1998-12-11",
                                    "2": "21"
                                },
                                {
                                    "0": "A Civil Action",
                                    "1": "1998-12-25",
                                    "2": "21"
                                },
                                {
                                    "0": "Mighty Joe Young",
                                    "1": "1998-12-25",
                                    "2": "21"
                                },
                                {
                                    "0": "My Favorite Martian",
                                    "1": "1999-02-12",
                                    "2": "20"
                                },
                                {
                                    "0": "The Other Sister",
                                    "1": "1999-02-26",
                                    "2": "20"
                                },
                                {
                                    "0": "Doug's 1st Movie",
                                    "1": "1999-03-26",
                                    "2": "20"
                                },
                                {
                                    "0": "Ten Things I Hate About You",
                                    "1": "1999-03-31",
                                    "2": "20"
                                },
                                {
                                    "0": "Endurance",
                                    "1": "1999-05-14",
                                    "2": "20"
                                },
                                {
                                    "0": "Instinct",
                                    "1": "1999-06-04",
                                    "2": "20"
                                },
                                {
                                    "0": "Tarzan",
                                    "1": "1999-06-16",
                                    "2": "20"
                                },
                                {
                                    "0": "Summer of Sam",
                                    "1": "1999-07-02",
                                    "2": "20"
                                },
                                {
                                    "0": "Inspector Gadget",
                                    "1": "1999-07-23",
                                    "2": "20"
                                },
                                {
                                    "0": "The Sixth Sense",
                                    "1": "1999-08-06",
                                    "2": "20"
                                },
                                {
                                    "0": "The 13th Warrior",
                                    "1": "1999-08-27",
                                    "2": "20"
                                },
                                {
                                    "0": "Breakfast of Champions",
                                    "1": "1999-09-17",
                                    "2": "20"
                                },
                                {
                                    "0": "Mumford",
                                    "1": "1999-09-24",
                                    "2": "20"
                                },
                                {
                                    "0": "Mystery, Alaska",
                                    "1": "1999-10-01",
                                    "2": "20"
                                },
                                {
                                    "0": "The Straight Story",
                                    "1": "1999-10-15",
                                    "2": "20"
                                },
                                {
                                    "0": "The Insider",
                                    "1": "1999-11-05",
                                    "2": "20"
                                },
                                {
                                    "0": "Toy Story 2",
                                    "1": "1999-11-19",
                                    "2": "20"
                                },
                                {
                                    "0": "Cradle Will Rock",
                                    "1": "1999-12-08",
                                    "2": "20"
                                },
                                {
                                    "0": "Deuce Bigalow: Male Gigolo",
                                    "1": "1999-12-10",
                                    "2": "20"
                                },
                                {
                                    "0": "Bicentennial Man",
                                    "1": "1999-12-17",
                                    "2": "20"
                                },
                                {
                                    "0": "Play it to the Bone",
                                    "1": "1999-12-24",
                                    "2": "20"
                                },
                                {
                                    "0": "Fantasia 2000 (IMAX)",
                                    "1": "2000-01-01",
                                    "2": "19"
                                },
                                {
                                    "0": "Gun Shy",
                                    "1": "2000-02-04",
                                    "2": "19"
                                },
                                {
                                    "0": "The Tigger Movie",
                                    "1": "2000-02-11",
                                    "2": "19"
                                },
                                {
                                    "0": "Mission to Mars",
                                    "1": "2000-03-10",
                                    "2": "19"
                                },
                                {
                                    "0": "High Fidelity",
                                    "1": "2000-03-31",
                                    "2": "19"
                                },
                                {
                                    "0": "Keeping the Faith",
                                    "1": "2000-04-14",
                                    "2": "19"
                                },
                                {
                                    "0": "Dinosaur",
                                    "1": "2000-05-19",
                                    "2": "19"
                                },
                                {
                                    "0": "Shanghai Noon",
                                    "1": "2000-05-26",
                                    "2": "19"
                                },
                                {
                                    "0": "Gone in 60 Seconds",
                                    "1": "2000-06-09",
                                    "2": "19"
                                },
                                {
                                    "0": "Fantasia 2000 (Theatrical Release)",
                                    "1": "2000-06-16",
                                    "2": "19"
                                },
                                {
                                    "0": "The Kid",
                                    "1": "2000-07-07",
                                    "2": "19"
                                },
                                {
                                    "0": "Coyote Ugly",
                                    "1": "2000-08-04",
                                    "2": "19"
                                },
                                {
                                    "0": "The Crew",
                                    "1": "2000-08-25",
                                    "2": "19"
                                },
                                {
                                    "0": "Duets",
                                    "1": "2000-09-15",
                                    "2": "19"
                                },
                                {
                                    "0": "Remember the Titans",
                                    "1": "2000-09-29",
                                    "2": "19"
                                },
                                {
                                    "0": "Unbreakable",
                                    "1": "2000-11-22",
                                    "2": "19"
                                },
                                {
                                    "0": "102 Dalmatians",
                                    "1": "2000-11-22",
                                    "2": "19"
                                },
                                {
                                    "0": "The Emperor's New Groove",
                                    "1": "2000-12-15",
                                    "2": "19"
                                },
                                {
                                    "0": "O Brother, Where Art Thou?",
                                    "1": "2000-12-22",
                                    "2": "19"
                                },
                                {
                                    "0": "Double Take",
                                    "1": "2001-01-12",
                                    "2": "18"
                                },
                                {
                                    "0": "Recess: School's Out",
                                    "1": "2001-02-16",
                                    "2": "18"
                                },
                                {
                                    "0": "Just Visiting",
                                    "1": "2001-04-06",
                                    "2": "18"
                                },
                                {
                                    "0": "Pearl Harbor",
                                    "1": "2001-05-25",
                                    "2": "18"
                                },
                                {
                                    "0": "Atlantis: The Lost Empire",
                                    "1": "2001-06-08",
                                    "2": "18"
                                },
                                {
                                    "0": "crazy/beautiful",
                                    "1": "2001-06-29",
                                    "2": "18"
                                },
                                {
                                    "0": "The Princess Diaries",
                                    "1": "2001-08-03",
                                    "2": "18"
                                },
                                {
                                    "0": "Bubble Boy",
                                    "1": "2001-08-24",
                                    "2": "18"
                                },
                                {
                                    "0": "Max Keeble's Big Move",
                                    "1": "2001-10-05",
                                    "2": "18"
                                },
                                {
                                    "0": "Corky Romano",
                                    "1": "2001-10-12",
                                    "2": "18"
                                },
                                {
                                    "0": "High Heels and Low Lifes",
                                    "1": "2001-10-26",
                                    "2": "18"
                                },
                                {
                                    "0": "Monsters, Inc.",
                                    "1": "2001-11-02",
                                    "2": "18"
                                },
                                {
                                    "0": "Out Cold",
                                    "1": "2001-11-21",
                                    "2": "18"
                                },
                                {
                                    "0": "The Royal Tenenbaums",
                                    "1": "2001-12-14",
                                    "2": "18"
                                },
                                {
                                    "0": "Beauty and the Beast (IMAX)",
                                    "1": "2002-01-01",
                                    "2": "17"
                                },
                                {
                                    "0": "Frank McKlusky C.I.",
                                    "1": "2002-01-01",
                                    "2": "17"
                                },
                                {
                                    "0": "Snow Dogs",
                                    "1": "2002-01-18",
                                    "2": "17"
                                },
                                {
                                    "0": "The Count of Monte Cristo",
                                    "1": "2002-01-25",
                                    "2": "17"
                                },
                                {
                                    "0": "Peter Pan: Return to Neverland",
                                    "1": "2002-02-15",
                                    "2": "17"
                                },
                                {
                                    "0": "Reign of Fire",
                                    "1": "2002-02-19",
                                    "2": "17"
                                },
                                {
                                    "0": "Sorority Boys",
                                    "1": "2002-03-22",
                                    "2": "17"
                                },
                                {
                                    "0": "The Rookie",
                                    "1": "2002-03-29",
                                    "2": "17"
                                },
                                {
                                    "0": "Big Trouble",
                                    "1": "2002-04-05",
                                    "2": "17"
                                },
                                {
                                    "0": "ESPN's Ultimate X - The Movie",
                                    "1": "2002-05-10",
                                    "2": "17"
                                },
                                {
                                    "0": "Bad Company",
                                    "1": "2002-06-07",
                                    "2": "17"
                                },
                                {
                                    "0": "Lilo & Stitch",
                                    "1": "2002-06-21",
                                    "2": "17"
                                },
                                {
                                    "0": "The Country Bears",
                                    "1": "2002-07-26",
                                    "2": "17"
                                },
                                {
                                    "0": "Signs",
                                    "1": "2002-08-02",
                                    "2": "17"
                                },
                                {
                                    "0": "Sen to Chihiro no Kamikakushi",
                                    "1": "2002-09-20",
                                    "2": "17"
                                },
                                {
                                    "0": "Sweet Home Alabama",
                                    "1": "2002-09-27",
                                    "2": "17"
                                },
                                {
                                    "0": "Moonlight Mile",
                                    "1": "2002-09-27",
                                    "2": "17"
                                },
                                {
                                    "0": "Tuck Everlasting",
                                    "1": "2002-10-11",
                                    "2": "17"
                                },
                                {
                                    "0": "The Santa Clause 2",
                                    "1": "2002-11-01",
                                    "2": "17"
                                },
                                {
                                    "0": "Treasure Planet",
                                    "1": "2002-11-27",
                                    "2": "17"
                                },
                                {
                                    "0": "The Hot Chick",
                                    "1": "2002-12-13",
                                    "2": "17"
                                },
                                {
                                    "0": "25th Hour",
                                    "1": "2002-12-19",
                                    "2": "17"
                                },
                                {
                                    "0": "The Recruit",
                                    "1": "2003-01-31",
                                    "2": "16"
                                },
                                {
                                    "0": "Shanghai Knights",
                                    "1": "2003-02-07",
                                    "2": "16"
                                },
                                {
                                    "0": "The Jungle Book 2",
                                    "1": "2003-02-14",
                                    "2": "16"
                                },
                                {
                                    "0": "Bringing Down the House",
                                    "1": "2003-03-07",
                                    "2": "16"
                                },
                                {
                                    "0": "Piglet's Big Movie",
                                    "1": "2003-03-21",
                                    "2": "16"
                                },
                                {
                                    "0": "Ghosts of the Abyss",
                                    "1": "2003-04-11",
                                    "2": "16"
                                },
                                {
                                    "0": "Holes",
                                    "1": "2003-04-18",
                                    "2": "16"
                                },
                                {
                                    "0": "The Lizzie McGuire Movie",
                                    "1": "2003-05-02",
                                    "2": "16"
                                },
                                {
                                    "0": "Finding Nemo",
                                    "1": "2003-05-30",
                                    "2": "16"
                                },
                                {
                                    "0": "Pirates of the Caribbean: The Curse o…",
                                    "1": "2003-07-09",
                                    "2": "16"
                                },
                                {
                                    "0": "Freaky Friday",
                                    "1": "2003-08-06",
                                    "2": "16"
                                },
                                {
                                    "0": "Open Range",
                                    "1": "2003-08-15",
                                    "2": "16"
                                },
                                {
                                    "0": "Cold Creek Manor",
                                    "1": "2003-09-19",
                                    "2": "16"
                                },
                                {
                                    "0": "Under the Tuscan Sun",
                                    "1": "2003-09-26",
                                    "2": "16"
                                },
                                {
                                    "0": "Veronica Guerin",
                                    "1": "2003-10-17",
                                    "2": "16"
                                },
                                {
                                    "0": "Brother Bear",
                                    "1": "2003-10-24",
                                    "2": "16"
                                },
                                {
                                    "0": "The Haunted Mansion",
                                    "1": "2003-11-26",
                                    "2": "16"
                                },
                                {
                                    "0": "Calendar Girls",
                                    "1": "2003-12-19",
                                    "2": "16"
                                },
                                {
                                    "0": "Young Black Stallion",
                                    "1": "2003-12-25",
                                    "2": "16"
                                },
                                {
                                    "0": "Teacher's Pet: The Movie",
                                    "1": "2004-01-16",
                                    "2": "15"
                                },
                                {
                                    "0": "Miracle",
                                    "1": "2004-02-06",
                                    "2": "15"
                                },
                                {
                                    "0": "Confessions of a Teenage Drama Queen",
                                    "1": "2004-02-20",
                                    "2": "15"
                                },
                                {
                                    "0": "Hidalgo",
                                    "1": "2004-03-05",
                                    "2": "15"
                                },
                                {
                                    "0": "The Ladykillers",
                                    "1": "2004-03-26",
                                    "2": "15"
                                },
                                {
                                    "0": "Home on the Range",
                                    "1": "2004-04-02",
                                    "2": "15"
                                },
                                {
                                    "0": "The Alamo",
                                    "1": "2004-04-09",
                                    "2": "15"
                                },
                                {
                                    "0": "Raising Helen",
                                    "1": "2004-05-28",
                                    "2": "15"
                                },
                                {
                                    "0": "Around the World in 80 Days",
                                    "1": "2004-06-16",
                                    "2": "15"
                                },
                                {
                                    "0": "America's Heart and Soul",
                                    "1": "2004-07-02",
                                    "2": "15"
                                },
                                {
                                    "0": "King Arthur",
                                    "1": "2004-07-07",
                                    "2": "15"
                                },
                                {
                                    "0": "The Village",
                                    "1": "2004-07-30",
                                    "2": "15"
                                },
                                {
                                    "0": "The Princess Diaries 2: Royal Engagement",
                                    "1": "2004-08-11",
                                    "2": "15"
                                },
                                {
                                    "0": "Mr. 3000",
                                    "1": "2004-09-17",
                                    "2": "15"
                                },
                                {
                                    "0": "The Last Shot",
                                    "1": "2004-09-24",
                                    "2": "15"
                                },
                                {
                                    "0": "Ladder 49",
                                    "1": "2004-10-01",
                                    "2": "15"
                                },
                                {
                                    "0": "The Incredibles",
                                    "1": "2004-11-05",
                                    "2": "15"
                                },
                                {
                                    "0": "National Treasure",
                                    "1": "2004-11-19",
                                    "2": "15"
                                },
                                {
                                    "0": "The Life Aquatic with Steve Zissou",
                                    "1": "2004-12-10",
                                    "2": "15"
                                },
                                {
                                    "0": "Aliens of the Deep",
                                    "1": "2005-01-28",
                                    "2": "14"
                                },
                                {
                                    "0": "Pooh's Heffalump Movie",
                                    "1": "2005-02-11",
                                    "2": "14"
                                },
                                {
                                    "0": "The Pacifier",
                                    "1": "2005-03-04",
                                    "2": "14"
                                },
                                {
                                    "0": "Ice Princess",
                                    "1": "2005-03-18",
                                    "2": "14"
                                },
                                {
                                    "0": "A Lot Like Love",
                                    "1": "2005-04-22",
                                    "2": "14"
                                },
                                {
                                    "0": "The Hitchhiker's Guide to the Galaxy",
                                    "1": "2005-04-29",
                                    "2": "14"
                                },
                                {
                                    "0": "Hauru no ugoku shiro",
                                    "1": "2005-06-10",
                                    "2": "14"
                                },
                                {
                                    "0": "Herbie: Fully Loaded",
                                    "1": "2005-06-22",
                                    "2": "14"
                                },
                                {
                                    "0": "Dark Water",
                                    "1": "2005-07-08",
                                    "2": "14"
                                },
                                {
                                    "0": "Sky High",
                                    "1": "2005-07-29",
                                    "2": "14"
                                },
                                {
                                    "0": "Valiant",
                                    "1": "2005-08-19",
                                    "2": "14"
                                },
                                {
                                    "0": "Flightplan",
                                    "1": "2005-09-23",
                                    "2": "14"
                                },
                                {
                                    "0": "The Greatest Game Ever Played",
                                    "1": "2005-09-30",
                                    "2": "14"
                                },
                                {
                                    "0": "Shopgirl",
                                    "1": "2005-10-21",
                                    "2": "14"
                                },
                                {
                                    "0": "Chicken Little",
                                    "1": "2005-11-04",
                                    "2": "14"
                                },
                                {
                                    "0": "The Chronicles of Narnia: The Lion, t…",
                                    "1": "2005-12-09",
                                    "2": "14"
                                },
                                {
                                    "0": "Casanova",
                                    "1": "2005-12-25",
                                    "2": "14"
                                },
                                {
                                    "0": "Glory Road",
                                    "1": "2006-01-13",
                                    "2": "13"
                                },
                                {
                                    "0": "Annapolis",
                                    "1": "2006-01-27",
                                    "2": "13"
                                },
                                {
                                    "0": "Roving Mars",
                                    "1": "2006-01-27",
                                    "2": "13"
                                },
                                {
                                    "0": "Eight Below",
                                    "1": "2006-02-17",
                                    "2": "13"
                                },
                                {
                                    "0": "The Shaggy Dog",
                                    "1": "2006-03-10",
                                    "2": "13"
                                },
                                {
                                    "0": "Stay Alive",
                                    "1": "2006-03-24",
                                    "2": "13"
                                },
                                {
                                    "0": "The Wild",
                                    "1": "2006-04-14",
                                    "2": "13"
                                },
                                {
                                    "0": "Stick It",
                                    "1": "2006-04-28",
                                    "2": "13"
                                },
                                {
                                    "0": "Goal! The Dream Begins",
                                    "1": "2006-05-12",
                                    "2": "13"
                                },
                                {
                                    "0": "Cars",
                                    "1": "2006-06-09",
                                    "2": "13"
                                },
                                {
                                    "0": "Pirates of the Caribbean: Dead Man’…",
                                    "1": "2006-07-07",
                                    "2": "13"
                                },
                                {
                                    "0": "Step Up",
                                    "1": "2006-08-11",
                                    "2": "13"
                                },
                                {
                                    "0": "Invincible",
                                    "1": "2006-08-25",
                                    "2": "13"
                                },
                                {
                                    "0": "The Guardian",
                                    "1": "2006-09-29",
                                    "2": "13"
                                },
                                {
                                    "0": "The Prestige",
                                    "1": "2006-10-20",
                                    "2": "13"
                                },
                                {
                                    "0": "Tim Burton's The Nightmare Before Chr…",
                                    "1": "2006-10-20",
                                    "2": "13"
                                },
                                {
                                    "0": "The Santa Clause 3: The Escape Clause",
                                    "1": "2006-11-03",
                                    "2": "13"
                                },
                                {
                                    "0": "Déjà Vu",
                                    "1": "2006-11-22",
                                    "2": "13"
                                },
                                {
                                    "0": "Apocalypto",
                                    "1": "2006-12-08",
                                    "2": "13"
                                },
                                {
                                    "0": "Primeval",
                                    "1": "2007-01-12",
                                    "2": "12"
                                },
                                {
                                    "0": "Bridge to Terabithia",
                                    "1": "2007-02-16",
                                    "2": "12"
                                },
                                {
                                    "0": "Wild Hogs",
                                    "1": "2007-03-02",
                                    "2": "12"
                                },
                                {
                                    "0": "Meet the Robinsons",
                                    "1": "2007-03-30",
                                    "2": "12"
                                },
                                {
                                    "0": "The Lookout",
                                    "1": "2007-03-30",
                                    "2": "12"
                                },
                                {
                                    "0": "The Hoax",
                                    "1": "2007-04-06",
                                    "2": "12"
                                },
                                {
                                    "0": "The Invisible",
                                    "1": "2007-04-27",
                                    "2": "12"
                                },
                                {
                                    "0": "Pirates of the Caribbean: At World’…",
                                    "1": "2007-05-24",
                                    "2": "12"
                                },
                                {
                                    "0": "Ratatouille",
                                    "1": "2007-06-29",
                                    "2": "12"
                                },
                                {
                                    "0": "Underdog",
                                    "1": "2007-08-03",
                                    "2": "12"
                                },
                                {
                                    "0": "The Game Plan",
                                    "1": "2007-09-22",
                                    "2": "12"
                                },
                                {
                                    "0": "Dan in Real Life",
                                    "1": "2007-10-20",
                                    "2": "12"
                                },
                                {
                                    "0": "Enchanted",
                                    "1": "2007-11-21",
                                    "2": "12"
                                },
                                {
                                    "0": "National Treasure 2: Book of Secrets",
                                    "1": "2007-12-21",
                                    "2": "12"
                                },
                                {
                                    "0": "Hannah Montana/Miley Cyrus: Best of B…",
                                    "1": "2008-02-01",
                                    "2": "11"
                                },
                                {
                                    "0": "Step Up 2 the Streets",
                                    "1": "2008-02-14",
                                    "2": "11"
                                },
                                {
                                    "0": "College Road Trip",
                                    "1": "2008-03-07",
                                    "2": "11"
                                },
                                {
                                    "0": "The Chronicles of Narnia: Prince Caspian",
                                    "1": "2008-05-16",
                                    "2": "11"
                                },
                                {
                                    "0": "WALL-E",
                                    "1": "2008-06-27",
                                    "2": "11"
                                },
                                {
                                    "0": "Swing Vote",
                                    "1": "2008-08-01",
                                    "2": "11"
                                },
                                {
                                    "0": "Goal! 2: Living the Dream...",
                                    "1": "2008-08-29",
                                    "2": "11"
                                },
                                {
                                    "0": "Miracle at St. Anna",
                                    "1": "2008-09-26",
                                    "2": "11"
                                },
                                {
                                    "0": "Beverly Hills Chihuahua",
                                    "1": "2008-10-03",
                                    "2": "11"
                                },
                                {
                                    "0": "Morning Light",
                                    "1": "2008-10-17",
                                    "2": "11"
                                },
                                {
                                    "0": "High School Musical 3: Senior Year",
                                    "1": "2008-10-24",
                                    "2": "11"
                                },
                                {
                                    "0": "Bolt",
                                    "1": "2008-11-21",
                                    "2": "11"
                                },
                                {
                                    "0": "Bedtime Stories",
                                    "1": "2008-12-25",
                                    "2": "11"
                                },
                                {
                                    "0": "Confessions of a Shopaholic",
                                    "1": "2009-02-13",
                                    "2": "10"
                                },
                                {
                                    "0": "Jonas Brothers: The 3D Concert Experi…",
                                    "1": "2009-02-27",
                                    "2": "10"
                                },
                                {
                                    "0": "Race to Witch Mountain",
                                    "1": "2009-03-13",
                                    "2": "10"
                                },
                                {
                                    "0": "Hannah Montana the Movie",
                                    "1": "2009-04-10",
                                    "2": "10"
                                },
                                {
                                    "0": "Earth",
                                    "1": "2009-04-22",
                                    "2": "10"
                                },
                                {
                                    "0": "Up",
                                    "1": "2009-05-29",
                                    "2": "10"
                                },
                                {
                                    "0": "The Proposal",
                                    "1": "2009-06-19",
                                    "2": "10"
                                },
                                {
                                    "0": "G-Force",
                                    "1": "2009-07-24",
                                    "2": "10"
                                },
                                {
                                    "0": "Gake no ue no Ponyo",
                                    "1": "2009-08-14",
                                    "2": "10"
                                },
                                {
                                    "0": "X Games 3D: The Movie",
                                    "1": "2009-08-21",
                                    "2": "10"
                                },
                                {
                                    "0": "Walt and El Grupo",
                                    "1": "2009-09-10",
                                    "2": "10"
                                },
                                {
                                    "0": "Surrogates",
                                    "1": "2009-09-25",
                                    "2": "10"
                                },
                                {
                                    "0": "Toy Story 3D Double Feature",
                                    "1": "2009-10-02",
                                    "2": "10"
                                },
                                {
                                    "0": "Disney's A Christmas Carol",
                                    "1": "2009-11-06",
                                    "2": "10"
                                },
                                {
                                    "0": "The Princess and the Frog",
                                    "1": "2009-11-25",
                                    "2": "10"
                                },
                                {
                                    "0": "Old Dogs",
                                    "1": "2009-11-25",
                                    "2": "10"
                                },
                                {
                                    "0": "When in Rome",
                                    "1": "2010-01-29",
                                    "2": "9"
                                },
                                {
                                    "0": "Alice in Wonderland",
                                    "1": "2010-03-05",
                                    "2": "9"
                                },
                                {
                                    "0": "Waking Sleeping Beauty",
                                    "1": "2010-03-26",
                                    "2": "9"
                                },
                                {
                                    "0": "The Last Song",
                                    "1": "2010-03-31",
                                    "2": "9"
                                },
                                {
                                    "0": "Oceans",
                                    "1": "2010-04-22",
                                    "2": "9"
                                },
                                {
                                    "0": "Prince of Persia: Sands of Time",
                                    "1": "2010-05-28",
                                    "2": "9"
                                },
                                {
                                    "0": "Toy Story 3",
                                    "1": "2010-06-18",
                                    "2": "9"
                                },
                                {
                                    "0": "The Sorcerer's Apprentice",
                                    "1": "2010-07-14",
                                    "2": "9"
                                },
                                {
                                    "0": "Step Up 3D",
                                    "1": "2010-08-06",
                                    "2": "9"
                                },
                                {
                                    "0": "Gedo Senki (Tales from Earthsea)",
                                    "1": "2010-08-13",
                                    "2": "9"
                                },
                                {
                                    "0": "You Again",
                                    "1": "2010-09-24",
                                    "2": "9"
                                },
                                {
                                    "0": "Secretariat",
                                    "1": "2010-10-08",
                                    "2": "9"
                                },
                                {
                                    "0": "Tangled",
                                    "1": "2010-11-24",
                                    "2": "9"
                                },
                                {
                                    "0": "Tron: Legacy",
                                    "1": "2010-12-17",
                                    "2": "9"
                                },
                                {
                                    "0": "Gnomeo and Juliet",
                                    "1": "2011-02-11",
                                    "2": "8"
                                },
                                {
                                    "0": "I am Number Four",
                                    "1": "2011-02-18",
                                    "2": "8"
                                },
                                {
                                    "0": "Mars Needs Moms",
                                    "1": "2011-03-11",
                                    "2": "8"
                                },
                                {
                                    "0": "African Cats",
                                    "1": "2011-04-22",
                                    "2": "8"
                                },
                                {
                                    "0": "Zokkomon",
                                    "1": "2011-04-22",
                                    "2": "8"
                                },
                                {
                                    "0": "Prom",
                                    "1": "2011-04-29",
                                    "2": "8"
                                },
                                {
                                    "0": "Pirates of the Caribbean: On Stranger…",
                                    "1": "2011-05-20",
                                    "2": "8"
                                },
                                {
                                    "0": "Cars 2",
                                    "1": "2011-06-24",
                                    "2": "8"
                                },
                                {
                                    "0": "Winnie the Pooh",
                                    "1": "2011-07-15",
                                    "2": "8"
                                },
                                {
                                    "0": "The Help",
                                    "1": "2011-08-10",
                                    "2": "8"
                                },
                                {
                                    "0": "Fright Night",
                                    "1": "2011-08-19",
                                    "2": "8"
                                },
                                {
                                    "0": "Real Steel",
                                    "1": "2011-10-07",
                                    "2": "8"
                                },
                                {
                                    "0": "The Muppets",
                                    "1": "2011-11-23",
                                    "2": "8"
                                },
                                {
                                    "0": "War Horse",
                                    "1": "2011-12-25",
                                    "2": "8"
                                },
                                {
                                    "0": "The Secret World of Arietty",
                                    "1": "2012-02-17",
                                    "2": "7"
                                },
                                {
                                    "0": "John Carter",
                                    "1": "2012-03-09",
                                    "2": "7"
                                },
                                {
                                    "0": "Chimpanzee",
                                    "1": "2012-04-20",
                                    "2": "7"
                                },
                                {
                                    "0": "The Avengers",
                                    "1": "2012-05-04",
                                    "2": "7"
                                },
                                {
                                    "0": "Brave",
                                    "1": "2012-06-22",
                                    "2": "7"
                                },
                                {
                                    "0": "People Like Us",
                                    "1": "2012-06-29",
                                    "2": "7"
                                },
                                {
                                    "0": "The Odd Life of Timothy Green",
                                    "1": "2012-08-15",
                                    "2": "7"
                                },
                                {
                                    "0": "Frankenweenie",
                                    "1": "2012-10-05",
                                    "2": "7"
                                },
                                {
                                    "0": "Wreck-It Ralph",
                                    "1": "2012-11-02",
                                    "2": "7"
                                },
                                {
                                    "0": "Lincoln",
                                    "1": "2012-11-09",
                                    "2": "7"
                                },
                                {
                                    "0": "Oz the Great and Powerful",
                                    "1": "2013-03-08",
                                    "2": "6"
                                },
                                {
                                    "0": "Iron Man 3",
                                    "1": "2013-05-03",
                                    "2": "6"
                                },
                                {
                                    "0": "Monsters University",
                                    "1": "2013-06-21",
                                    "2": "6"
                                },
                                {
                                    "0": "The Lone Ranger",
                                    "1": "2013-07-02",
                                    "2": "6"
                                },
                                {
                                    "0": "Disney Planes",
                                    "1": "2013-08-09",
                                    "2": "6"
                                },
                                {
                                    "0": "The Fifth Estate",
                                    "1": "2013-10-18",
                                    "2": "6"
                                },
                                {
                                    "0": "Thor: The Dark World",
                                    "1": "2013-11-08",
                                    "2": "6"
                                },
                                {
                                    "0": "Kaze Tachinu",
                                    "1": "2013-11-08",
                                    "2": "6"
                                },
                                {
                                    "0": "Frozen",
                                    "1": "2013-11-22",
                                    "2": "6"
                                },
                                {
                                    "0": "Delivery Man",
                                    "1": "2013-11-22",
                                    "2": "6"
                                },
                                {
                                    "0": "Saving Mr. Banks",
                                    "1": "2013-12-13",
                                    "2": "6"
                                },
                                {
                                    "0": "Need for Speed",
                                    "1": "2014-03-14",
                                    "2": "5"
                                },
                                {
                                    "0": "Muppets Most Wanted",
                                    "1": "2014-03-21",
                                    "2": "5"
                                },
                                {
                                    "0": "Captain America: The Winter Soldier",
                                    "1": "2014-04-04",
                                    "2": "5"
                                },
                                {
                                    "0": "Bears",
                                    "1": "2014-04-18",
                                    "2": "5"
                                },
                                {
                                    "0": "Million Dollar Arm",
                                    "1": "2014-05-10",
                                    "2": "5"
                                },
                                {
                                    "0": "Maleficent",
                                    "1": "2014-05-30",
                                    "2": "5"
                                },
                                {
                                    "0": "Planes: Fire and Rescue",
                                    "1": "2014-07-18",
                                    "2": "5"
                                },
                                {
                                    "0": "Guardians of the Galaxy",
                                    "1": "2014-08-01",
                                    "2": "5"
                                },
                                {
                                    "0": "The Hundred-Foot Journey",
                                    "1": "2014-08-08",
                                    "2": "5"
                                },
                                {
                                    "0": "Alexander and the Terrible, Horrible,…",
                                    "1": "2014-10-10",
                                    "2": "5"
                                },
                                {
                                    "0": "Big Hero 6",
                                    "1": "2014-11-07",
                                    "2": "5"
                                },
                                {
                                    "0": "Into the Woods",
                                    "1": "2014-12-25",
                                    "2": "5"
                                },
                                {
                                    "0": "Strange Magic",
                                    "1": "2015-01-23",
                                    "2": "4"
                                },
                                {
                                    "0": "McFarland, USA",
                                    "1": "2015-02-20",
                                    "2": "4"
                                },
                                {
                                    "0": "Cinderella",
                                    "1": "2015-03-13",
                                    "2": "4"
                                },
                                {
                                    "0": "Monkey Kingdom",
                                    "1": "2015-04-17",
                                    "2": "4"
                                },
                                {
                                    "0": "Avengers: Age of Ultron",
                                    "1": "2015-05-01",
                                    "2": "4"
                                },
                                {
                                    "0": "Tomorrowland",
                                    "1": "2015-05-22",
                                    "2": "4"
                                },
                                {
                                    "0": "Inside Out",
                                    "1": "2015-06-19",
                                    "2": "4"
                                },
                                {
                                    "0": "Ant-Man",
                                    "1": "2015-07-17",
                                    "2": "4"
                                },
                                {
                                    "0": "Bridge of Spies",
                                    "1": "2015-10-16",
                                    "2": "4"
                                },
                                {
                                    "0": "The Good Dinosaur",
                                    "1": "2015-11-25",
                                    "2": "4"
                                },
                                {
                                    "0": "Star Wars Ep. VII: The Force Awakens",
                                    "1": "2015-12-18",
                                    "2": "4"
                                },
                                {
                                    "0": "The Finest Hours",
                                    "1": "2016-01-29",
                                    "2": "3"
                                },
                                {
                                    "0": "Zootopia",
                                    "1": "2016-03-04",
                                    "2": "3"
                                },
                                {
                                    "0": "The Jungle Book",
                                    "1": "2016-04-15",
                                    "2": "3"
                                },
                                {
                                    "0": "A Beautiful Planet",
                                    "1": "2016-04-29",
                                    "2": "3"
                                },
                                {
                                    "0": "Captain America: Civil War",
                                    "1": "2016-05-06",
                                    "2": "3"
                                },
                                {
                                    "0": "Alice Through the Looking Glass",
                                    "1": "2016-05-27",
                                    "2": "3"
                                },
                                {
                                    "0": "Finding Dory",
                                    "1": "2016-06-17",
                                    "2": "3"
                                },
                                {
                                    "0": "The BFG",
                                    "1": "2016-07-01",
                                    "2": "3"
                                },
                                {
                                    "0": "Pete’s Dragon",
                                    "1": "2016-08-12",
                                    "2": "3"
                                },
                                {
                                    "0": "The Light Between Oceans",
                                    "1": "2016-09-02",
                                    "2": "3"
                                },
                                {
                                    "0": "Queen of Katwe",
                                    "1": "2016-09-23",
                                    "2": "3"
                                },
                                {
                                    "0": "Doctor Strange",
                                    "1": "2016-11-04",
                                    "2": "3"
                                },
                                {
                                    "0": "Moana",
                                    "1": "2016-11-23",
                                    "2": "3"
                                },
                                {
                                    "0": "Rogue One: A Star Wars Story",
                                    "1": "2016-12-16",
                                    "2": "3"
                                }
                            ]
                        },
                        "text/html": "<table><tr><th>movie_title</th><th>release_date</th><th>age_years</th></tr><tr><td>Snow White and the Seven Dwarfs</td><td>1937-12-21</td><td>82</td></tr><tr><td>Pinocchio</td><td>1940-02-09</td><td>79</td></tr><tr><td>Fantasia</td><td>1940-11-13</td><td>79</td></tr><tr><td>Song of the South</td><td>1946-11-12</td><td>73</td></tr><tr><td>Cinderella</td><td>1950-02-15</td><td>69</td></tr><tr><td>20,000 Leagues Under the Sea</td><td>1954-12-23</td><td>65</td></tr><tr><td>Lady and the Tramp</td><td>1955-06-22</td><td>64</td></tr><tr><td>Sleeping Beauty</td><td>1959-01-29</td><td>60</td></tr><tr><td>101 Dalmatians</td><td>1961-01-25</td><td>58</td></tr><tr><td>The Absent Minded Professor</td><td>1961-03-16</td><td>58</td></tr><tr><td>Babes in Toyland</td><td>1961-12-14</td><td>58</td></tr><tr><td>Bon Voyage!</td><td>1962-05-17</td><td>57</td></tr><tr><td>The Sword in the Stone</td><td>1963-12-25</td><td>56</td></tr><tr><td>The Jungle Book</td><td>1967-10-18</td><td>52</td></tr><tr><td>Blackbeard's Ghost</td><td>1968-02-08</td><td>51</td></tr><tr><td>The Aristocats</td><td>1970-04-24</td><td>49</td></tr><tr><td>The Boatniks</td><td>1970-07-01</td><td>49</td></tr><tr><td>Bedknobs and Broomsticks</td><td>1971-10-07</td><td>48</td></tr><tr><td>The Apple Dumpling Gang</td><td>1975-07-01</td><td>44</td></tr><tr><td>Freaky Friday</td><td>1977-01-21</td><td>42</td></tr><tr><td>The Many Adventures of Winnie the Pooh</td><td>1977-03-11</td><td>42</td></tr><tr><td>The Rescuers</td><td>1977-06-22</td><td>42</td></tr><tr><td>Herbie Goes to Monte Carlo</td><td>1977-06-24</td><td>42</td></tr><tr><td>The Black Hole</td><td>1979-12-21</td><td>40</td></tr><tr><td>Midnight Madness</td><td>1980-02-08</td><td>39</td></tr><tr><td>The Last Flight of Noah’s Ark</td><td>1980-06-25</td><td>39</td></tr><tr><td>The Devil and Max Devlin</td><td>1981-01-01</td><td>38</td></tr><tr><td>Amy</td><td>1981-03-20</td><td>38</td></tr><tr><td>The Fox and the Hound</td><td>1981-07-10</td><td>38</td></tr><tr><td>Condorman</td><td>1981-08-07</td><td>38</td></tr><tr><td>Night Crossing</td><td>1982-02-05</td><td>37</td></tr><tr><td>Tron</td><td>1982-07-09</td><td>37</td></tr><tr><td>Tex</td><td>1982-11-19</td><td>37</td></tr><tr><td>Trenchcoat</td><td>1983-03-11</td><td>36</td></tr><tr><td>Something Wicked This Way Comes</td><td>1983-04-29</td><td>36</td></tr><tr><td>Never Cry Wolf</td><td>1983-10-07</td><td>36</td></tr><tr><td>Running Brave</td><td>1983-11-04</td><td>36</td></tr><tr><td>Splash</td><td>1984-03-09</td><td>35</td></tr><tr><td>Country</td><td>1984-09-29</td><td>35</td></tr><tr><td>Baby: Secret of the Lost Legend</td><td>1985-03-22</td><td>34</td></tr><tr><td>Return to Oz</td><td>1985-06-21</td><td>34</td></tr><tr><td>The Black Cauldron</td><td>1985-07-24</td><td>34</td></tr><tr><td>My Science Project</td><td>1985-08-09</td><td>34</td></tr><tr><td>The Journey of Natty Gann</td><td>1985-09-27</td><td>34</td></tr><tr><td>One Magic Christmas</td><td>1985-11-22</td><td>34</td></tr><tr><td>Down and Out in Beverly Hills</td><td>1986-01-31</td><td>33</td></tr><tr><td>Off Beat</td><td>1986-04-11</td><td>33</td></tr><tr><td>Ruthless People</td><td>1986-06-27</td><td>33</td></tr><tr><td>The Great Mouse Detective</td><td>1986-07-02</td><td>33</td></tr><tr><td>Flight of the Navigator</td><td>1986-07-30</td><td>33</td></tr><tr><td>Tough Guys</td><td>1986-10-03</td><td>33</td></tr><tr><td>The Color of Money</td><td>1986-10-17</td><td>33</td></tr><tr><td>Outrageous Fortune</td><td>1987-01-30</td><td>32</td></tr><tr><td>Tin Men</td><td>1987-03-06</td><td>32</td></tr><tr><td>Ernest Goes to Camp</td><td>1987-05-22</td><td>32</td></tr><tr><td>Benji the Hunted</td><td>1987-06-05</td><td>32</td></tr><tr><td>Adventures in Babysitting</td><td>1987-07-03</td><td>32</td></tr><tr><td>Stakeout</td><td>1987-08-05</td><td>32</td></tr><tr><td>Can't Buy Me Love</td><td>1987-08-14</td><td>32</td></tr><tr><td>Hello Again</td><td>1987-11-06</td><td>32</td></tr><tr><td>3 Men and a Baby</td><td>1987-11-25</td><td>32</td></tr><tr><td>Good Morning Vietnam</td><td>1987-12-23</td><td>32</td></tr><tr><td>Shoot to Kill</td><td>1988-02-12</td><td>31</td></tr><tr><td>D.O.A.</td><td>1988-03-18</td><td>31</td></tr><tr><td>Return to Snowy River</td><td>1988-04-15</td><td>31</td></tr><tr><td>Big Business</td><td>1988-06-10</td><td>31</td></tr><tr><td>Who Framed Roger Rabbit?</td><td>1988-06-22</td><td>31</td></tr><tr><td>Cocktail</td><td>1988-07-29</td><td>31</td></tr><tr><td>The Rescue</td><td>1988-08-05</td><td>31</td></tr><tr><td>Heartbreak Hotel</td><td>1988-09-30</td><td>31</td></tr><tr><td>The Good Mother</td><td>1988-11-04</td><td>31</td></tr><tr><td>Ernest Saves Christmas</td><td>1988-11-11</td><td>31</td></tr><tr><td>Oliver &amp; Company</td><td>1988-11-18</td><td>31</td></tr><tr><td>Beaches</td><td>1988-12-21</td><td>31</td></tr><tr><td>Three Fugitives</td><td>1989-01-27</td><td>30</td></tr><tr><td>New York Stories</td><td>1989-03-01</td><td>30</td></tr><tr><td>Disorganized Crime</td><td>1989-04-14</td><td>30</td></tr><tr><td>Dead Poets Society</td><td>1989-06-02</td><td>30</td></tr><tr><td>Honey, I Shrunk the Kids</td><td>1989-06-23</td><td>30</td></tr><tr><td>Turner &amp; Hooch</td><td>1989-07-28</td><td>30</td></tr><tr><td>Cheetah</td><td>1989-08-18</td><td>30</td></tr><tr><td>An Innocent Man</td><td>1989-10-06</td><td>30</td></tr><tr><td>Gross Anatomy</td><td>1989-10-20</td><td>30</td></tr><tr><td>The Little Mermaid</td><td>1989-11-15</td><td>30</td></tr><tr><td>Blaze</td><td>1989-12-13</td><td>30</td></tr><tr><td>Stella</td><td>1990-02-02</td><td>29</td></tr><tr><td>Where the Heart Is</td><td>1990-02-23</td><td>29</td></tr><tr><td>Pretty Woman</td><td>1990-03-23</td><td>29</td></tr><tr><td>Ernest Goes to Jail</td><td>1990-04-06</td><td>29</td></tr><tr><td>Spaced Invaders</td><td>1990-04-27</td><td>29</td></tr><tr><td>Fire Birds</td><td>1990-05-24</td><td>29</td></tr><tr><td>Dick Tracy</td><td>1990-06-15</td><td>29</td></tr><tr><td>Betsy's Wedding</td><td>1990-06-22</td><td>29</td></tr><tr><td>Arachnophobia</td><td>1990-07-18</td><td>29</td></tr><tr><td>DuckTales: The Movie - Treasure of th…</td><td>1990-08-03</td><td>29</td></tr><tr><td>Taking Care of Business</td><td>1990-08-17</td><td>29</td></tr><tr><td>Mr. Destiny</td><td>1990-10-12</td><td>29</td></tr><tr><td>The Rescuers Down Under</td><td>1990-11-16</td><td>29</td></tr><tr><td>3 Men and a Little Lady</td><td>1990-11-21</td><td>29</td></tr><tr><td>Green Card</td><td>1990-12-25</td><td>29</td></tr><tr><td>White Fang</td><td>1991-01-18</td><td>28</td></tr><tr><td>Scenes from a Mall</td><td>1991-02-22</td><td>28</td></tr><tr><td>Haakon Haakonsen</td><td>1991-03-01</td><td>28</td></tr><tr><td>The Marrying Man</td><td>1991-04-05</td><td>28</td></tr><tr><td>Oscar</td><td>1991-04-26</td><td>28</td></tr><tr><td>One Good Cop</td><td>1991-05-03</td><td>28</td></tr><tr><td>What About Bob?</td><td>1991-05-17</td><td>28</td></tr><tr><td>Wild Hearts Can't Be Broken</td><td>1991-05-24</td><td>28</td></tr><tr><td>The Rocketeer</td><td>1991-06-21</td><td>28</td></tr><tr><td>The Doctor</td><td>1991-07-24</td><td>28</td></tr><tr><td>Paradise</td><td>1991-09-18</td><td>28</td></tr><tr><td>Deceived</td><td>1991-09-27</td><td>28</td></tr><tr><td>Ernest Scared Stupid</td><td>1991-10-11</td><td>28</td></tr><tr><td>Billy Bathgate</td><td>1991-11-01</td><td>28</td></tr><tr><td>Beauty and the Beast</td><td>1991-11-13</td><td>28</td></tr><tr><td>Father of the Bride</td><td>1991-12-20</td><td>28</td></tr><tr><td>The Hand That Rocks the Cradle</td><td>1992-01-10</td><td>27</td></tr><tr><td>Medicine Man</td><td>1992-02-07</td><td>27</td></tr><tr><td>Blame it on the Bellboy</td><td>1992-03-06</td><td>27</td></tr><tr><td>Noises Off...</td><td>1992-03-20</td><td>27</td></tr><tr><td>Straight Talk</td><td>1992-04-03</td><td>27</td></tr><tr><td>Newsies</td><td>1992-04-08</td><td>27</td></tr><tr><td>Passed Away</td><td>1992-04-24</td><td>27</td></tr><tr><td>Encino Man</td><td>1992-05-22</td><td>27</td></tr><tr><td>Sister Act</td><td>1992-05-29</td><td>27</td></tr><tr><td>Honey I Blew Up the Kid</td><td>1992-07-17</td><td>27</td></tr><tr><td>A Stranger Among Us</td><td>1992-07-17</td><td>27</td></tr><tr><td>3 Ninjas</td><td>1992-08-07</td><td>27</td></tr><tr><td>A Gun in Betty Lou's Handbag</td><td>1992-08-21</td><td>27</td></tr><tr><td>Captain Ron</td><td>1992-09-18</td><td>27</td></tr><tr><td>Sarafina!</td><td>1992-09-18</td><td>27</td></tr><tr><td>Innocent Blood</td><td>1992-09-25</td><td>27</td></tr><tr><td>The Mighty Ducks</td><td>1992-10-02</td><td>27</td></tr><tr><td>1492: Conquest of Paradise</td><td>1992-10-09</td><td>27</td></tr><tr><td>Consenting Adults</td><td>1992-10-16</td><td>27</td></tr><tr><td>Aladdin</td><td>1992-11-11</td><td>27</td></tr><tr><td>The Distinguished Gentleman</td><td>1992-12-04</td><td>27</td></tr><tr><td>The Muppet Christmas Carol</td><td>1992-12-11</td><td>27</td></tr><tr><td>Alive</td><td>1993-01-15</td><td>26</td></tr><tr><td>Aspen Extreme</td><td>1993-01-22</td><td>26</td></tr><tr><td>Homeward Bound: The Incredible Journey</td><td>1993-02-03</td><td>26</td></tr><tr><td>The Cemetery Club</td><td>1993-02-03</td><td>26</td></tr><tr><td>Swing Kids</td><td>1993-03-05</td><td>26</td></tr><tr><td>A Far Off Place</td><td>1993-03-12</td><td>26</td></tr><tr><td>Born Yesterday</td><td>1993-03-26</td><td>26</td></tr><tr><td>The Adventures of Huck Finn</td><td>1993-04-02</td><td>26</td></tr><tr><td>Bound by Honor</td><td>1993-04-16</td><td>26</td></tr><tr><td>Indian Summer</td><td>1993-04-23</td><td>26</td></tr><tr><td>Super Mario Bros.</td><td>1993-05-28</td><td>26</td></tr><tr><td>Guilty as Sin</td><td>1993-06-04</td><td>26</td></tr><tr><td>Life With Mikey</td><td>1993-06-04</td><td>26</td></tr><tr><td>What's Love Got to Do With It</td><td>1993-06-09</td><td>26</td></tr><tr><td>Son in Law</td><td>1993-07-02</td><td>26</td></tr><tr><td>Hocus Pocus</td><td>1993-07-16</td><td>26</td></tr><tr><td>Another Stakeout</td><td>1993-07-23</td><td>26</td></tr><tr><td>My Boyfriend's Back</td><td>1993-08-06</td><td>26</td></tr><tr><td>Father Hood</td><td>1993-08-27</td><td>26</td></tr><tr><td>The Joy Luck Club</td><td>1993-09-08</td><td>26</td></tr><tr><td>Money for Nothing</td><td>1993-09-10</td><td>26</td></tr><tr><td>The Program</td><td>1993-09-24</td><td>26</td></tr><tr><td>Cool Runnings</td><td>1993-10-01</td><td>26</td></tr><tr><td>The Nightmare Before Christmas</td><td>1993-10-13</td><td>26</td></tr><tr><td>The Three Musketeers</td><td>1993-11-12</td><td>26</td></tr><tr><td>Sister Act 2 Back in the Habit</td><td>1993-12-10</td><td>26</td></tr><tr><td>Tombstone</td><td>1993-12-25</td><td>26</td></tr><tr><td>The Air Up There</td><td>1994-01-07</td><td>25</td></tr><tr><td>Cabin Boy</td><td>1994-01-07</td><td>25</td></tr><tr><td>Iron Will</td><td>1994-01-14</td><td>25</td></tr><tr><td>Red Rock West</td><td>1994-01-28</td><td>25</td></tr><tr><td>Blank Check</td><td>1994-02-11</td><td>25</td></tr><tr><td>Angie</td><td>1994-03-04</td><td>25</td></tr><tr><td>The Ref</td><td>1994-03-09</td><td>25</td></tr><tr><td>D2: The Mighty Ducks</td><td>1994-03-25</td><td>25</td></tr><tr><td>Holy Matrimony</td><td>1994-04-08</td><td>25</td></tr><tr><td>White Fang 2: Myth of the White Wolf</td><td>1994-04-15</td><td>25</td></tr><tr><td>The Inkwell</td><td>1994-04-22</td><td>25</td></tr><tr><td>When a Man Loves a Woman</td><td>1994-04-29</td><td>25</td></tr><tr><td>3 Ninjas Kick Back</td><td>1994-05-06</td><td>25</td></tr><tr><td>Renaissance Man</td><td>1994-06-03</td><td>25</td></tr><tr><td>The Lion King</td><td>1994-06-15</td><td>25</td></tr><tr><td>I Love Trouble</td><td>1994-06-29</td><td>25</td></tr><tr><td>Angels in the Outfield</td><td>1994-07-15</td><td>25</td></tr><tr><td>In the Army Now</td><td>1994-08-12</td><td>25</td></tr><tr><td>Color of Night</td><td>1994-08-19</td><td>25</td></tr><tr><td>Camp Nowhere</td><td>1994-08-26</td><td>25</td></tr><tr><td>It's Pat</td><td>1994-08-26</td><td>25</td></tr><tr><td>A Simple Twist of Fate</td><td>1994-09-02</td><td>25</td></tr><tr><td>Quiz Show</td><td>1994-09-14</td><td>25</td></tr><tr><td>Terminal Velocity</td><td>1994-09-23</td><td>25</td></tr><tr><td>Ed Wood</td><td>1994-09-30</td><td>25</td></tr><tr><td>The Puppet Masters</td><td>1994-10-21</td><td>25</td></tr><tr><td>Squanto: A Warrior's Tale</td><td>1994-10-28</td><td>25</td></tr><tr><td>The Santa Clause</td><td>1994-11-11</td><td>25</td></tr><tr><td>A Low Down Dirty Shame</td><td>1994-11-23</td><td>25</td></tr><tr><td>The Jungle Book</td><td>1994-12-25</td><td>25</td></tr><tr><td>Houseguest</td><td>1995-01-06</td><td>24</td></tr><tr><td>Bad Company</td><td>1995-01-20</td><td>24</td></tr><tr><td>Miami Rhapsody</td><td>1995-01-27</td><td>24</td></tr><tr><td>The Jerky Boys</td><td>1995-02-03</td><td>24</td></tr><tr><td>Heavy Weights</td><td>1995-02-17</td><td>24</td></tr><tr><td>Man of the House</td><td>1995-03-03</td><td>24</td></tr><tr><td>Roommates</td><td>1995-03-03</td><td>24</td></tr><tr><td>Tall Tale</td><td>1995-03-24</td><td>24</td></tr><tr><td>A Pyromaniac's Love Story</td><td>1995-03-28</td><td>24</td></tr><tr><td>Jefferson in Paris</td><td>1995-03-31</td><td>24</td></tr><tr><td>Funny Bones</td><td>1995-03-31</td><td>24</td></tr><tr><td>A Goofy Movie</td><td>1995-04-07</td><td>24</td></tr><tr><td>While You Were Sleeping</td><td>1995-04-21</td><td>24</td></tr><tr><td>Crimson Tide</td><td>1995-05-12</td><td>24</td></tr><tr><td>Mad Love</td><td>1995-05-26</td><td>24</td></tr><tr><td>Pocahontas</td><td>1995-06-10</td><td>24</td></tr><tr><td>Judge Dredd</td><td>1995-06-30</td><td>24</td></tr><tr><td>Operation Dumbo Drop</td><td>1995-07-28</td><td>24</td></tr><tr><td>Dangerous Minds</td><td>1995-08-11</td><td>24</td></tr><tr><td>A Kid in King Arthur's Court</td><td>1995-08-11</td><td>24</td></tr><tr><td>The Tie That Binds</td><td>1995-09-08</td><td>24</td></tr><tr><td>Unstrung Heroes</td><td>1995-09-15</td><td>24</td></tr><tr><td>The Big Green</td><td>1995-09-29</td><td>24</td></tr><tr><td>Dead Presidents</td><td>1995-10-04</td><td>24</td></tr><tr><td>The Scarlet Letter</td><td>1995-10-13</td><td>24</td></tr><tr><td>Feast of July</td><td>1995-10-13</td><td>24</td></tr><tr><td>Powder</td><td>1995-10-27</td><td>24</td></tr><tr><td>Toy Story</td><td>1995-11-22</td><td>24</td></tr><tr><td>Father of the Bride Part II</td><td>1995-12-08</td><td>24</td></tr><tr><td>Nixon</td><td>1995-12-20</td><td>24</td></tr><tr><td>Tom and Huck</td><td>1995-12-22</td><td>24</td></tr><tr><td>Mr. Holland's Opus</td><td>1995-12-29</td><td>24</td></tr><tr><td>White Squall</td><td>1996-02-02</td><td>23</td></tr><tr><td>Muppet Treasure Island</td><td>1996-02-16</td><td>23</td></tr><tr><td>Mr. Wrong</td><td>1996-02-16</td><td>23</td></tr><tr><td>Before and After</td><td>1996-02-23</td><td>23</td></tr><tr><td>Up Close &amp; Personal</td><td>1996-03-01</td><td>23</td></tr><tr><td>Homeward Bound II: Lost in San Franc…</td><td>1996-03-08</td><td>23</td></tr><tr><td>Two Much</td><td>1996-03-15</td><td>23</td></tr><tr><td>Un indien dans la ville</td><td>1996-03-22</td><td>23</td></tr><tr><td>James and the Giant Peach</td><td>1996-04-12</td><td>23</td></tr><tr><td>Celtic Pride</td><td>1996-04-19</td><td>23</td></tr><tr><td>Last Dance</td><td>1996-05-03</td><td>23</td></tr><tr><td>Boys</td><td>1996-05-10</td><td>23</td></tr><tr><td>Spy Hard</td><td>1996-05-24</td><td>23</td></tr><tr><td>Eddie</td><td>1996-05-31</td><td>23</td></tr><tr><td>The Rock</td><td>1996-06-07</td><td>23</td></tr><tr><td>The Hunchback of Notre Dame</td><td>1996-06-21</td><td>23</td></tr><tr><td>Phenomenon</td><td>1996-07-05</td><td>23</td></tr><tr><td>Kazaam</td><td>1996-07-17</td><td>23</td></tr><tr><td>Jack</td><td>1996-08-09</td><td>23</td></tr><tr><td>First Kid</td><td>1996-08-30</td><td>23</td></tr><tr><td>The Rich Man's Wife</td><td>1996-09-13</td><td>23</td></tr><tr><td>D3: The Mighty Ducks</td><td>1996-10-04</td><td>23</td></tr><tr><td>The Associate</td><td>1996-10-25</td><td>23</td></tr><tr><td>Ransom</td><td>1996-11-08</td><td>23</td></tr><tr><td>The War at Home</td><td>1996-11-20</td><td>23</td></tr><tr><td>101 Dalmatians</td><td>1996-11-27</td><td>23</td></tr><tr><td>The Preacher's Wife</td><td>1996-12-13</td><td>23</td></tr><tr><td>Evita</td><td>1996-12-25</td><td>23</td></tr><tr><td>Metro</td><td>1997-01-17</td><td>22</td></tr><tr><td>Prefontaine</td><td>1997-01-24</td><td>22</td></tr><tr><td>Shadow Conspiracy</td><td>1997-01-31</td><td>22</td></tr><tr><td>That Darn Cat</td><td>1997-02-14</td><td>22</td></tr><tr><td>Jungle 2 Jungle</td><td>1997-03-07</td><td>22</td></tr><tr><td>The Sixth Man</td><td>1997-03-28</td><td>22</td></tr><tr><td>Grosse Pointe Blank</td><td>1997-04-11</td><td>22</td></tr><tr><td>Romy and Michele's High School Reunion</td><td>1997-04-25</td><td>22</td></tr><tr><td>Gone Fishin'</td><td>1997-05-30</td><td>22</td></tr><tr><td>Con Air</td><td>1997-06-06</td><td>22</td></tr><tr><td>Hercules</td><td>1997-06-13</td><td>22</td></tr><tr><td>George Of The Jungle</td><td>1997-07-16</td><td>22</td></tr><tr><td>Nothing To Lose</td><td>1997-07-18</td><td>22</td></tr><tr><td>Air Bud</td><td>1997-08-01</td><td>22</td></tr><tr><td>G.I. Jane</td><td>1997-08-22</td><td>22</td></tr><tr><td>A Thousand Acres</td><td>1997-09-19</td><td>22</td></tr><tr><td>Washington Square</td><td>1997-10-05</td><td>22</td></tr><tr><td>Rocket Man</td><td>1997-10-10</td><td>22</td></tr><tr><td>Playing God</td><td>1997-10-17</td><td>22</td></tr><tr><td>Flubber</td><td>1997-11-26</td><td>22</td></tr><tr><td>An American Werewolf in Paris</td><td>1997-12-25</td><td>22</td></tr><tr><td>Mr. Magoo</td><td>1997-12-25</td><td>22</td></tr><tr><td>Kundun</td><td>1997-12-25</td><td>22</td></tr><tr><td>Deep Rising</td><td>1998-01-30</td><td>21</td></tr><tr><td>Krippendorf's Tribe</td><td>1998-02-27</td><td>21</td></tr><tr><td>An Alan Smithee Film: Burn Hollywood …</td><td>1998-02-27</td><td>21</td></tr><tr><td>Meet the Deedles</td><td>1998-03-27</td><td>21</td></tr><tr><td>He Got Game</td><td>1998-05-01</td><td>21</td></tr><tr><td>The Horse Whisperer</td><td>1998-05-15</td><td>21</td></tr><tr><td>Six Days, Seven Nights</td><td>1998-06-12</td><td>21</td></tr><tr><td>Mulan</td><td>1998-06-19</td><td>21</td></tr><tr><td>Armageddon</td><td>1998-07-01</td><td>21</td></tr><tr><td>Jane Austen's Mafia</td><td>1998-07-24</td><td>21</td></tr><tr><td>The Parent Trap</td><td>1998-07-29</td><td>21</td></tr><tr><td>Firelight</td><td>1998-09-04</td><td>21</td></tr><tr><td>Simon Birch</td><td>1998-09-11</td><td>21</td></tr><tr><td>Holy Man</td><td>1998-10-09</td><td>21</td></tr><tr><td>Beloved</td><td>1998-10-16</td><td>21</td></tr><tr><td>The Waterboy</td><td>1998-11-06</td><td>21</td></tr><tr><td>I'll Be Home For Christmas</td><td>1998-11-13</td><td>21</td></tr><tr><td>A Bug's Life</td><td>1998-11-20</td><td>21</td></tr><tr><td>Enemy of the State</td><td>1998-11-20</td><td>21</td></tr><tr><td>Rushmore</td><td>1998-12-11</td><td>21</td></tr><tr><td>A Civil Action</td><td>1998-12-25</td><td>21</td></tr><tr><td>Mighty Joe Young</td><td>1998-12-25</td><td>21</td></tr><tr><td>My Favorite Martian</td><td>1999-02-12</td><td>20</td></tr><tr><td>The Other Sister</td><td>1999-02-26</td><td>20</td></tr><tr><td>Doug's 1st Movie</td><td>1999-03-26</td><td>20</td></tr><tr><td>Ten Things I Hate About You</td><td>1999-03-31</td><td>20</td></tr><tr><td>Endurance</td><td>1999-05-14</td><td>20</td></tr><tr><td>Instinct</td><td>1999-06-04</td><td>20</td></tr><tr><td>Tarzan</td><td>1999-06-16</td><td>20</td></tr><tr><td>Summer of Sam</td><td>1999-07-02</td><td>20</td></tr><tr><td>Inspector Gadget</td><td>1999-07-23</td><td>20</td></tr><tr><td>The Sixth Sense</td><td>1999-08-06</td><td>20</td></tr><tr><td>The 13th Warrior</td><td>1999-08-27</td><td>20</td></tr><tr><td>Breakfast of Champions</td><td>1999-09-17</td><td>20</td></tr><tr><td>Mumford</td><td>1999-09-24</td><td>20</td></tr><tr><td>Mystery, Alaska</td><td>1999-10-01</td><td>20</td></tr><tr><td>The Straight Story</td><td>1999-10-15</td><td>20</td></tr><tr><td>The Insider</td><td>1999-11-05</td><td>20</td></tr><tr><td>Toy Story 2</td><td>1999-11-19</td><td>20</td></tr><tr><td>Cradle Will Rock</td><td>1999-12-08</td><td>20</td></tr><tr><td>Deuce Bigalow: Male Gigolo</td><td>1999-12-10</td><td>20</td></tr><tr><td>Bicentennial Man</td><td>1999-12-17</td><td>20</td></tr><tr><td>Play it to the Bone</td><td>1999-12-24</td><td>20</td></tr><tr><td>Fantasia 2000 (IMAX)</td><td>2000-01-01</td><td>19</td></tr><tr><td>Gun Shy</td><td>2000-02-04</td><td>19</td></tr><tr><td>The Tigger Movie</td><td>2000-02-11</td><td>19</td></tr><tr><td>Mission to Mars</td><td>2000-03-10</td><td>19</td></tr><tr><td>High Fidelity</td><td>2000-03-31</td><td>19</td></tr><tr><td>Keeping the Faith</td><td>2000-04-14</td><td>19</td></tr><tr><td>Dinosaur</td><td>2000-05-19</td><td>19</td></tr><tr><td>Shanghai Noon</td><td>2000-05-26</td><td>19</td></tr><tr><td>Gone in 60 Seconds</td><td>2000-06-09</td><td>19</td></tr><tr><td>Fantasia 2000 (Theatrical Release)</td><td>2000-06-16</td><td>19</td></tr><tr><td>The Kid</td><td>2000-07-07</td><td>19</td></tr><tr><td>Coyote Ugly</td><td>2000-08-04</td><td>19</td></tr><tr><td>The Crew</td><td>2000-08-25</td><td>19</td></tr><tr><td>Duets</td><td>2000-09-15</td><td>19</td></tr><tr><td>Remember the Titans</td><td>2000-09-29</td><td>19</td></tr><tr><td>Unbreakable</td><td>2000-11-22</td><td>19</td></tr><tr><td>102 Dalmatians</td><td>2000-11-22</td><td>19</td></tr><tr><td>The Emperor's New Groove</td><td>2000-12-15</td><td>19</td></tr><tr><td>O Brother, Where Art Thou?</td><td>2000-12-22</td><td>19</td></tr><tr><td>Double Take</td><td>2001-01-12</td><td>18</td></tr><tr><td>Recess: School's Out</td><td>2001-02-16</td><td>18</td></tr><tr><td>Just Visiting</td><td>2001-04-06</td><td>18</td></tr><tr><td>Pearl Harbor</td><td>2001-05-25</td><td>18</td></tr><tr><td>Atlantis: The Lost Empire</td><td>2001-06-08</td><td>18</td></tr><tr><td>crazy/beautiful</td><td>2001-06-29</td><td>18</td></tr><tr><td>The Princess Diaries</td><td>2001-08-03</td><td>18</td></tr><tr><td>Bubble Boy</td><td>2001-08-24</td><td>18</td></tr><tr><td>Max Keeble's Big Move</td><td>2001-10-05</td><td>18</td></tr><tr><td>Corky Romano</td><td>2001-10-12</td><td>18</td></tr><tr><td>High Heels and Low Lifes</td><td>2001-10-26</td><td>18</td></tr><tr><td>Monsters, Inc.</td><td>2001-11-02</td><td>18</td></tr><tr><td>Out Cold</td><td>2001-11-21</td><td>18</td></tr><tr><td>The Royal Tenenbaums</td><td>2001-12-14</td><td>18</td></tr><tr><td>Beauty and the Beast (IMAX)</td><td>2002-01-01</td><td>17</td></tr><tr><td>Frank McKlusky C.I.</td><td>2002-01-01</td><td>17</td></tr><tr><td>Snow Dogs</td><td>2002-01-18</td><td>17</td></tr><tr><td>The Count of Monte Cristo</td><td>2002-01-25</td><td>17</td></tr><tr><td>Peter Pan: Return to Neverland</td><td>2002-02-15</td><td>17</td></tr><tr><td>Reign of Fire</td><td>2002-02-19</td><td>17</td></tr><tr><td>Sorority Boys</td><td>2002-03-22</td><td>17</td></tr><tr><td>The Rookie</td><td>2002-03-29</td><td>17</td></tr><tr><td>Big Trouble</td><td>2002-04-05</td><td>17</td></tr><tr><td>ESPN's Ultimate X - The Movie</td><td>2002-05-10</td><td>17</td></tr><tr><td>Bad Company</td><td>2002-06-07</td><td>17</td></tr><tr><td>Lilo &amp; Stitch</td><td>2002-06-21</td><td>17</td></tr><tr><td>The Country Bears</td><td>2002-07-26</td><td>17</td></tr><tr><td>Signs</td><td>2002-08-02</td><td>17</td></tr><tr><td>Sen to Chihiro no Kamikakushi</td><td>2002-09-20</td><td>17</td></tr><tr><td>Sweet Home Alabama</td><td>2002-09-27</td><td>17</td></tr><tr><td>Moonlight Mile</td><td>2002-09-27</td><td>17</td></tr><tr><td>Tuck Everlasting</td><td>2002-10-11</td><td>17</td></tr><tr><td>The Santa Clause 2</td><td>2002-11-01</td><td>17</td></tr><tr><td>Treasure Planet</td><td>2002-11-27</td><td>17</td></tr><tr><td>The Hot Chick</td><td>2002-12-13</td><td>17</td></tr><tr><td>25th Hour</td><td>2002-12-19</td><td>17</td></tr><tr><td>The Recruit</td><td>2003-01-31</td><td>16</td></tr><tr><td>Shanghai Knights</td><td>2003-02-07</td><td>16</td></tr><tr><td>The Jungle Book 2</td><td>2003-02-14</td><td>16</td></tr><tr><td>Bringing Down the House</td><td>2003-03-07</td><td>16</td></tr><tr><td>Piglet's Big Movie</td><td>2003-03-21</td><td>16</td></tr><tr><td>Ghosts of the Abyss</td><td>2003-04-11</td><td>16</td></tr><tr><td>Holes</td><td>2003-04-18</td><td>16</td></tr><tr><td>The Lizzie McGuire Movie</td><td>2003-05-02</td><td>16</td></tr><tr><td>Finding Nemo</td><td>2003-05-30</td><td>16</td></tr><tr><td>Pirates of the Caribbean: The Curse o…</td><td>2003-07-09</td><td>16</td></tr><tr><td>Freaky Friday</td><td>2003-08-06</td><td>16</td></tr><tr><td>Open Range</td><td>2003-08-15</td><td>16</td></tr><tr><td>Cold Creek Manor</td><td>2003-09-19</td><td>16</td></tr><tr><td>Under the Tuscan Sun</td><td>2003-09-26</td><td>16</td></tr><tr><td>Veronica Guerin</td><td>2003-10-17</td><td>16</td></tr><tr><td>Brother Bear</td><td>2003-10-24</td><td>16</td></tr><tr><td>The Haunted Mansion</td><td>2003-11-26</td><td>16</td></tr><tr><td>Calendar Girls</td><td>2003-12-19</td><td>16</td></tr><tr><td>Young Black Stallion</td><td>2003-12-25</td><td>16</td></tr><tr><td>Teacher's Pet: The Movie</td><td>2004-01-16</td><td>15</td></tr><tr><td>Miracle</td><td>2004-02-06</td><td>15</td></tr><tr><td>Confessions of a Teenage Drama Queen</td><td>2004-02-20</td><td>15</td></tr><tr><td>Hidalgo</td><td>2004-03-05</td><td>15</td></tr><tr><td>The Ladykillers</td><td>2004-03-26</td><td>15</td></tr><tr><td>Home on the Range</td><td>2004-04-02</td><td>15</td></tr><tr><td>The Alamo</td><td>2004-04-09</td><td>15</td></tr><tr><td>Raising Helen</td><td>2004-05-28</td><td>15</td></tr><tr><td>Around the World in 80 Days</td><td>2004-06-16</td><td>15</td></tr><tr><td>America's Heart and Soul</td><td>2004-07-02</td><td>15</td></tr><tr><td>King Arthur</td><td>2004-07-07</td><td>15</td></tr><tr><td>The Village</td><td>2004-07-30</td><td>15</td></tr><tr><td>The Princess Diaries 2: Royal Engagement</td><td>2004-08-11</td><td>15</td></tr><tr><td>Mr. 3000</td><td>2004-09-17</td><td>15</td></tr><tr><td>The Last Shot</td><td>2004-09-24</td><td>15</td></tr><tr><td>Ladder 49</td><td>2004-10-01</td><td>15</td></tr><tr><td>The Incredibles</td><td>2004-11-05</td><td>15</td></tr><tr><td>National Treasure</td><td>2004-11-19</td><td>15</td></tr><tr><td>The Life Aquatic with Steve Zissou</td><td>2004-12-10</td><td>15</td></tr><tr><td>Aliens of the Deep</td><td>2005-01-28</td><td>14</td></tr><tr><td>Pooh's Heffalump Movie</td><td>2005-02-11</td><td>14</td></tr><tr><td>The Pacifier</td><td>2005-03-04</td><td>14</td></tr><tr><td>Ice Princess</td><td>2005-03-18</td><td>14</td></tr><tr><td>A Lot Like Love</td><td>2005-04-22</td><td>14</td></tr><tr><td>The Hitchhiker's Guide to the Galaxy</td><td>2005-04-29</td><td>14</td></tr><tr><td>Hauru no ugoku shiro</td><td>2005-06-10</td><td>14</td></tr><tr><td>Herbie: Fully Loaded</td><td>2005-06-22</td><td>14</td></tr><tr><td>Dark Water</td><td>2005-07-08</td><td>14</td></tr><tr><td>Sky High</td><td>2005-07-29</td><td>14</td></tr><tr><td>Valiant</td><td>2005-08-19</td><td>14</td></tr><tr><td>Flightplan</td><td>2005-09-23</td><td>14</td></tr><tr><td>The Greatest Game Ever Played</td><td>2005-09-30</td><td>14</td></tr><tr><td>Shopgirl</td><td>2005-10-21</td><td>14</td></tr><tr><td>Chicken Little</td><td>2005-11-04</td><td>14</td></tr><tr><td>The Chronicles of Narnia: The Lion, t…</td><td>2005-12-09</td><td>14</td></tr><tr><td>Casanova</td><td>2005-12-25</td><td>14</td></tr><tr><td>Glory Road</td><td>2006-01-13</td><td>13</td></tr><tr><td>Annapolis</td><td>2006-01-27</td><td>13</td></tr><tr><td>Roving Mars</td><td>2006-01-27</td><td>13</td></tr><tr><td>Eight Below</td><td>2006-02-17</td><td>13</td></tr><tr><td>The Shaggy Dog</td><td>2006-03-10</td><td>13</td></tr><tr><td>Stay Alive</td><td>2006-03-24</td><td>13</td></tr><tr><td>The Wild</td><td>2006-04-14</td><td>13</td></tr><tr><td>Stick It</td><td>2006-04-28</td><td>13</td></tr><tr><td>Goal! The Dream Begins</td><td>2006-05-12</td><td>13</td></tr><tr><td>Cars</td><td>2006-06-09</td><td>13</td></tr><tr><td>Pirates of the Caribbean: Dead Man’…</td><td>2006-07-07</td><td>13</td></tr><tr><td>Step Up</td><td>2006-08-11</td><td>13</td></tr><tr><td>Invincible</td><td>2006-08-25</td><td>13</td></tr><tr><td>The Guardian</td><td>2006-09-29</td><td>13</td></tr><tr><td>The Prestige</td><td>2006-10-20</td><td>13</td></tr><tr><td>Tim Burton's The Nightmare Before Chr…</td><td>2006-10-20</td><td>13</td></tr><tr><td>The Santa Clause 3: The Escape Clause</td><td>2006-11-03</td><td>13</td></tr><tr><td>Déjà Vu</td><td>2006-11-22</td><td>13</td></tr><tr><td>Apocalypto</td><td>2006-12-08</td><td>13</td></tr><tr><td>Primeval</td><td>2007-01-12</td><td>12</td></tr><tr><td>Bridge to Terabithia</td><td>2007-02-16</td><td>12</td></tr><tr><td>Wild Hogs</td><td>2007-03-02</td><td>12</td></tr><tr><td>Meet the Robinsons</td><td>2007-03-30</td><td>12</td></tr><tr><td>The Lookout</td><td>2007-03-30</td><td>12</td></tr><tr><td>The Hoax</td><td>2007-04-06</td><td>12</td></tr><tr><td>The Invisible</td><td>2007-04-27</td><td>12</td></tr><tr><td>Pirates of the Caribbean: At World’…</td><td>2007-05-24</td><td>12</td></tr><tr><td>Ratatouille</td><td>2007-06-29</td><td>12</td></tr><tr><td>Underdog</td><td>2007-08-03</td><td>12</td></tr><tr><td>The Game Plan</td><td>2007-09-22</td><td>12</td></tr><tr><td>Dan in Real Life</td><td>2007-10-20</td><td>12</td></tr><tr><td>Enchanted</td><td>2007-11-21</td><td>12</td></tr><tr><td>National Treasure 2: Book of Secrets</td><td>2007-12-21</td><td>12</td></tr><tr><td>Hannah Montana/Miley Cyrus: Best of B…</td><td>2008-02-01</td><td>11</td></tr><tr><td>Step Up 2 the Streets</td><td>2008-02-14</td><td>11</td></tr><tr><td>College Road Trip</td><td>2008-03-07</td><td>11</td></tr><tr><td>The Chronicles of Narnia: Prince Caspian</td><td>2008-05-16</td><td>11</td></tr><tr><td>WALL-E</td><td>2008-06-27</td><td>11</td></tr><tr><td>Swing Vote</td><td>2008-08-01</td><td>11</td></tr><tr><td>Goal! 2: Living the Dream...</td><td>2008-08-29</td><td>11</td></tr><tr><td>Miracle at St. Anna</td><td>2008-09-26</td><td>11</td></tr><tr><td>Beverly Hills Chihuahua</td><td>2008-10-03</td><td>11</td></tr><tr><td>Morning Light</td><td>2008-10-17</td><td>11</td></tr><tr><td>High School Musical 3: Senior Year</td><td>2008-10-24</td><td>11</td></tr><tr><td>Bolt</td><td>2008-11-21</td><td>11</td></tr><tr><td>Bedtime Stories</td><td>2008-12-25</td><td>11</td></tr><tr><td>Confessions of a Shopaholic</td><td>2009-02-13</td><td>10</td></tr><tr><td>Jonas Brothers: The 3D Concert Experi…</td><td>2009-02-27</td><td>10</td></tr><tr><td>Race to Witch Mountain</td><td>2009-03-13</td><td>10</td></tr><tr><td>Hannah Montana the Movie</td><td>2009-04-10</td><td>10</td></tr><tr><td>Earth</td><td>2009-04-22</td><td>10</td></tr><tr><td>Up</td><td>2009-05-29</td><td>10</td></tr><tr><td>The Proposal</td><td>2009-06-19</td><td>10</td></tr><tr><td>G-Force</td><td>2009-07-24</td><td>10</td></tr><tr><td>Gake no ue no Ponyo</td><td>2009-08-14</td><td>10</td></tr><tr><td>X Games 3D: The Movie</td><td>2009-08-21</td><td>10</td></tr><tr><td>Walt and El Grupo</td><td>2009-09-10</td><td>10</td></tr><tr><td>Surrogates</td><td>2009-09-25</td><td>10</td></tr><tr><td>Toy Story 3D Double Feature</td><td>2009-10-02</td><td>10</td></tr><tr><td>Disney's A Christmas Carol</td><td>2009-11-06</td><td>10</td></tr><tr><td>The Princess and the Frog</td><td>2009-11-25</td><td>10</td></tr><tr><td>Old Dogs</td><td>2009-11-25</td><td>10</td></tr><tr><td>When in Rome</td><td>2010-01-29</td><td>9</td></tr><tr><td>Alice in Wonderland</td><td>2010-03-05</td><td>9</td></tr><tr><td>Waking Sleeping Beauty</td><td>2010-03-26</td><td>9</td></tr><tr><td>The Last Song</td><td>2010-03-31</td><td>9</td></tr><tr><td>Oceans</td><td>2010-04-22</td><td>9</td></tr><tr><td>Prince of Persia: Sands of Time</td><td>2010-05-28</td><td>9</td></tr><tr><td>Toy Story 3</td><td>2010-06-18</td><td>9</td></tr><tr><td>The Sorcerer's Apprentice</td><td>2010-07-14</td><td>9</td></tr><tr><td>Step Up 3D</td><td>2010-08-06</td><td>9</td></tr><tr><td>Gedo Senki (Tales from Earthsea)</td><td>2010-08-13</td><td>9</td></tr><tr><td>You Again</td><td>2010-09-24</td><td>9</td></tr><tr><td>Secretariat</td><td>2010-10-08</td><td>9</td></tr><tr><td>Tangled</td><td>2010-11-24</td><td>9</td></tr><tr><td>Tron: Legacy</td><td>2010-12-17</td><td>9</td></tr><tr><td>Gnomeo and Juliet</td><td>2011-02-11</td><td>8</td></tr><tr><td>I am Number Four</td><td>2011-02-18</td><td>8</td></tr><tr><td>Mars Needs Moms</td><td>2011-03-11</td><td>8</td></tr><tr><td>African Cats</td><td>2011-04-22</td><td>8</td></tr><tr><td>Zokkomon</td><td>2011-04-22</td><td>8</td></tr><tr><td>Prom</td><td>2011-04-29</td><td>8</td></tr><tr><td>Pirates of the Caribbean: On Stranger…</td><td>2011-05-20</td><td>8</td></tr><tr><td>Cars 2</td><td>2011-06-24</td><td>8</td></tr><tr><td>Winnie the Pooh</td><td>2011-07-15</td><td>8</td></tr><tr><td>The Help</td><td>2011-08-10</td><td>8</td></tr><tr><td>Fright Night</td><td>2011-08-19</td><td>8</td></tr><tr><td>Real Steel</td><td>2011-10-07</td><td>8</td></tr><tr><td>The Muppets</td><td>2011-11-23</td><td>8</td></tr><tr><td>War Horse</td><td>2011-12-25</td><td>8</td></tr><tr><td>The Secret World of Arietty</td><td>2012-02-17</td><td>7</td></tr><tr><td>John Carter</td><td>2012-03-09</td><td>7</td></tr><tr><td>Chimpanzee</td><td>2012-04-20</td><td>7</td></tr><tr><td>The Avengers</td><td>2012-05-04</td><td>7</td></tr><tr><td>Brave</td><td>2012-06-22</td><td>7</td></tr><tr><td>People Like Us</td><td>2012-06-29</td><td>7</td></tr><tr><td>The Odd Life of Timothy Green</td><td>2012-08-15</td><td>7</td></tr><tr><td>Frankenweenie</td><td>2012-10-05</td><td>7</td></tr><tr><td>Wreck-It Ralph</td><td>2012-11-02</td><td>7</td></tr><tr><td>Lincoln</td><td>2012-11-09</td><td>7</td></tr><tr><td>Oz the Great and Powerful</td><td>2013-03-08</td><td>6</td></tr><tr><td>Iron Man 3</td><td>2013-05-03</td><td>6</td></tr><tr><td>Monsters University</td><td>2013-06-21</td><td>6</td></tr><tr><td>The Lone Ranger</td><td>2013-07-02</td><td>6</td></tr><tr><td>Disney Planes</td><td>2013-08-09</td><td>6</td></tr><tr><td>The Fifth Estate</td><td>2013-10-18</td><td>6</td></tr><tr><td>Thor: The Dark World</td><td>2013-11-08</td><td>6</td></tr><tr><td>Kaze Tachinu</td><td>2013-11-08</td><td>6</td></tr><tr><td>Frozen</td><td>2013-11-22</td><td>6</td></tr><tr><td>Delivery Man</td><td>2013-11-22</td><td>6</td></tr><tr><td>Saving Mr. Banks</td><td>2013-12-13</td><td>6</td></tr><tr><td>Need for Speed</td><td>2014-03-14</td><td>5</td></tr><tr><td>Muppets Most Wanted</td><td>2014-03-21</td><td>5</td></tr><tr><td>Captain America: The Winter Soldier</td><td>2014-04-04</td><td>5</td></tr><tr><td>Bears</td><td>2014-04-18</td><td>5</td></tr><tr><td>Million Dollar Arm</td><td>2014-05-10</td><td>5</td></tr><tr><td>Maleficent</td><td>2014-05-30</td><td>5</td></tr><tr><td>Planes: Fire and Rescue</td><td>2014-07-18</td><td>5</td></tr><tr><td>Guardians of the Galaxy</td><td>2014-08-01</td><td>5</td></tr><tr><td>The Hundred-Foot Journey</td><td>2014-08-08</td><td>5</td></tr><tr><td>Alexander and the Terrible, Horrible,…</td><td>2014-10-10</td><td>5</td></tr><tr><td>Big Hero 6</td><td>2014-11-07</td><td>5</td></tr><tr><td>Into the Woods</td><td>2014-12-25</td><td>5</td></tr><tr><td>Strange Magic</td><td>2015-01-23</td><td>4</td></tr><tr><td>McFarland, USA</td><td>2015-02-20</td><td>4</td></tr><tr><td>Cinderella</td><td>2015-03-13</td><td>4</td></tr><tr><td>Monkey Kingdom</td><td>2015-04-17</td><td>4</td></tr><tr><td>Avengers: Age of Ultron</td><td>2015-05-01</td><td>4</td></tr><tr><td>Tomorrowland</td><td>2015-05-22</td><td>4</td></tr><tr><td>Inside Out</td><td>2015-06-19</td><td>4</td></tr><tr><td>Ant-Man</td><td>2015-07-17</td><td>4</td></tr><tr><td>Bridge of Spies</td><td>2015-10-16</td><td>4</td></tr><tr><td>The Good Dinosaur</td><td>2015-11-25</td><td>4</td></tr><tr><td>Star Wars Ep. VII: The Force Awakens</td><td>2015-12-18</td><td>4</td></tr><tr><td>The Finest Hours</td><td>2016-01-29</td><td>3</td></tr><tr><td>Zootopia</td><td>2016-03-04</td><td>3</td></tr><tr><td>The Jungle Book</td><td>2016-04-15</td><td>3</td></tr><tr><td>A Beautiful Planet</td><td>2016-04-29</td><td>3</td></tr><tr><td>Captain America: Civil War</td><td>2016-05-06</td><td>3</td></tr><tr><td>Alice Through the Looking Glass</td><td>2016-05-27</td><td>3</td></tr><tr><td>Finding Dory</td><td>2016-06-17</td><td>3</td></tr><tr><td>The BFG</td><td>2016-07-01</td><td>3</td></tr><tr><td>Pete’s Dragon</td><td>2016-08-12</td><td>3</td></tr><tr><td>The Light Between Oceans</td><td>2016-09-02</td><td>3</td></tr><tr><td>Queen of Katwe</td><td>2016-09-23</td><td>3</td></tr><tr><td>Doctor Strange</td><td>2016-11-04</td><td>3</td></tr><tr><td>Moana</td><td>2016-11-23</td><td>3</td></tr><tr><td>Rogue One: A Star Wars Story</td><td>2016-12-16</td><td>3</td></tr></table>"
                    },
                    "metadata": {}
                }
            ],
            "execution_count": 12
        },
        {
            "cell_type": "code",
            "source": [
                "select getdate(), \n",
                "    dateadd(day, 5, getdate()),\n",
                "    dateadd(month, 5, getdate()),\n",
                "    dateadd(year, 5, getdate())"
            ],
            "metadata": {},
            "outputs": [
                {
                    "output_type": "display_data",
                    "data": {
                        "text/html": "(1 row affected)"
                    },
                    "metadata": {}
                },
                {
                    "output_type": "display_data",
                    "data": {
                        "text/html": "Total execution time: 00:00:00.052"
                    },
                    "metadata": {}
                },
                {
                    "output_type": "execute_result",
                    "execution_count": 13,
                    "data": {
                        "application/vnd.dataresource+json": {
                            "schema": {
                                "fields": [
                                    {
                                        "name": "(No column name)"
                                    },
                                    {
                                        "name": "(No column name)"
                                    },
                                    {
                                        "name": "(No column name)"
                                    },
                                    {
                                        "name": "(No column name)"
                                    }
                                ]
                            },
                            "data": [
                                {
                                    "0": "2019-08-18 06:57:47.483",
                                    "1": "2019-08-23 06:57:47.483",
                                    "2": "2020-01-18 06:57:47.483",
                                    "3": "2024-08-18 06:57:47.483"
                                }
                            ]
                        },
                        "text/html": "<table><tr><th>(No column name)</th><th>(No column name)</th><th>(No column name)</th><th>(No column name)</th></tr><tr><td>2019-08-18 06:57:47.483</td><td>2019-08-23 06:57:47.483</td><td>2020-01-18 06:57:47.483</td><td>2024-08-18 06:57:47.483</td></tr></table>"
                    },
                    "metadata": {}
                }
            ],
            "execution_count": 13
        },
        {
            "cell_type": "code",
            "source": "select getdate() [today], dateadd(day, -5, getdate()) [5 days before]",
            "metadata": {},
            "outputs": [
                {
                    "output_type": "display_data",
                    "data": {
                        "text/html": "(1 row affected)"
                    },
                    "metadata": {}
                },
                {
                    "output_type": "display_data",
                    "data": {
                        "text/html": "Total execution time: 00:00:00.062"
                    },
                    "metadata": {}
                },
                {
                    "output_type": "execute_result",
                    "execution_count": 14,
                    "data": {
                        "application/vnd.dataresource+json": {
                            "schema": {
                                "fields": [
                                    {
                                        "name": "today"
                                    },
                                    {
                                        "name": "5 days before"
                                    }
                                ]
                            },
                            "data": [
                                {
                                    "0": "2019-08-18 06:57:47.940",
                                    "1": "2019-08-13 06:57:47.940"
                                }
                            ]
                        },
                        "text/html": "<table><tr><th>today</th><th>5 days before</th></tr><tr><td>2019-08-18 06:57:47.940</td><td>2019-08-13 06:57:47.940</td></tr></table>"
                    },
                    "metadata": {}
                }
            ],
            "execution_count": 14
        },
        {
            "cell_type": "code",
            "source": [
                "select format(getdate(), 'ddd dd-MM-yyyy') [current date], \n",
                "    format(dateadd(day, 5, getdate()), 'dd-MMM-yyyy') [5 days from now],\n",
                "    format(dateadd(week, 5, getdate()), 'dd-MMM-yyyy') [5 weeks from now],\n",
                "    format(dateadd(month, 5, getdate()), 'dd-MMMM-yy') [5 months from now],\n",
                "    format(dateadd(month, 5, getdate()), 'dd-MMMM-yy', 'th') [5 months from now],\n",
                "    dateadd(year, 5, getdate()) [5 years from now]"
            ],
            "metadata": {},
            "outputs": [
                {
                    "output_type": "display_data",
                    "data": {
                        "text/html": "(1 row affected)"
                    },
                    "metadata": {}
                },
                {
                    "output_type": "display_data",
                    "data": {
                        "text/html": "Total execution time: 00:00:00.057"
                    },
                    "metadata": {}
                },
                {
                    "output_type": "execute_result",
                    "execution_count": 15,
                    "data": {
                        "application/vnd.dataresource+json": {
                            "schema": {
                                "fields": [
                                    {
                                        "name": "current date"
                                    },
                                    {
                                        "name": "5 days from now"
                                    },
                                    {
                                        "name": "5 weeks from now"
                                    },
                                    {
                                        "name": "5 months from now"
                                    },
                                    {
                                        "name": "5 months from now"
                                    },
                                    {
                                        "name": "5 years from now"
                                    }
                                ]
                            },
                            "data": [
                                {
                                    "0": "Sun 18-08-2019",
                                    "1": "23-Aug-2019",
                                    "2": "22-Sep-2019",
                                    "3": "18-January-20",
                                    "4": "18-มกราคม-63",
                                    "5": "2024-08-18 06:57:48.253"
                                }
                            ]
                        },
                        "text/html": "<table><tr><th>current date</th><th>5 days from now</th><th>5 weeks from now</th><th>5 months from now</th><th>5 months from now</th><th>5 years from now</th></tr><tr><td>Sun 18-08-2019</td><td>23-Aug-2019</td><td>22-Sep-2019</td><td>18-January-20</td><td>18-มกราคม-63</td><td>2024-08-18 06:57:48.253</td></tr></table>"
                    },
                    "metadata": {}
                }
            ],
            "execution_count": 15
        }
    ]
}