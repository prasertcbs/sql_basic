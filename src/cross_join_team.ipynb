{
    "metadata": {
        "kernelspec": {
            "name": "SQL",
            "display_name": "SQL",
            "language": "sql"
        },
        "language_info": {
            "name": "sql",
            "version": ""
        }
    },
    "nbformat_minor": 2,
    "nbformat": 4,
    "cells": [
        {
            "cell_type": "markdown",
            "source": [
                "# CROSS JOIN\n",
                "## Server: Microsoft SQL Server\n",
                "## Author: Prasert Kanawattanachai\n",
                "## YouTube: https://youtu.be/WtR6anKTaV0"
            ],
            "metadata": {
                "azdata_cell_guid": "2826d8de-4841-471f-8263-ca319ffd7871"
            }
        },
        {
            "cell_type": "code",
            "source": [
                "drop table if exists team;\n",
                "\n",
                "create table team (\n",
                "    name varchar(50),\n",
                "    rank int\n",
                ");"
            ],
            "metadata": {
                "azdata_cell_guid": "5649f3e0-d9e0-4be5-b73b-88eb8646ca6b"
            },
            "outputs": [
                {
                    "output_type": "display_data",
                    "data": {
                        "text/html": "Commands completed successfully."
                    },
                    "metadata": {}
                },
                {
                    "output_type": "display_data",
                    "data": {
                        "text/html": "Total execution time: 00:00:00.101"
                    },
                    "metadata": {}
                }
            ],
            "execution_count": 3
        },
        {
            "cell_type": "code",
            "source": [
                "insert into team values ('alpha', 2), ('beta', 1), ('gamma', 3), ('delta', 4);"
            ],
            "metadata": {
                "azdata_cell_guid": "048bc4d5-66c5-47ad-aa12-8d7ae68668cc"
            },
            "outputs": [
                {
                    "output_type": "display_data",
                    "data": {
                        "text/html": "(4 rows affected)"
                    },
                    "metadata": {}
                },
                {
                    "output_type": "display_data",
                    "data": {
                        "text/html": "Total execution time: 00:00:00.065"
                    },
                    "metadata": {}
                }
            ],
            "execution_count": 4
        },
        {
            "cell_type": "code",
            "source": [
                "select * from team"
            ],
            "metadata": {
                "azdata_cell_guid": "b912444d-1977-4bb6-bee8-a05b9a1fbf55"
            },
            "outputs": [
                {
                    "output_type": "display_data",
                    "data": {
                        "text/html": "(4 rows affected)"
                    },
                    "metadata": {}
                },
                {
                    "output_type": "display_data",
                    "data": {
                        "text/html": "Total execution time: 00:00:00.059"
                    },
                    "metadata": {}
                },
                {
                    "output_type": "execute_result",
                    "execution_count": 5,
                    "data": {
                        "application/vnd.dataresource+json": {
                            "schema": {
                                "fields": [
                                    {
                                        "name": "name"
                                    },
                                    {
                                        "name": "rank"
                                    }
                                ]
                            },
                            "data": [
                                {
                                    "0": "alpha",
                                    "1": "2"
                                },
                                {
                                    "0": "beta",
                                    "1": "1"
                                },
                                {
                                    "0": "gamma",
                                    "1": "3"
                                },
                                {
                                    "0": "delta",
                                    "1": "4"
                                }
                            ]
                        },
                        "text/html": "<table><tr><th>name</th><th>rank</th></tr><tr><td>alpha</td><td>2</td></tr><tr><td>beta</td><td>1</td></tr><tr><td>gamma</td><td>3</td></tr><tr><td>delta</td><td>4</td></tr></table>"
                    },
                    "metadata": {}
                }
            ],
            "execution_count": 5
        },
        {
            "cell_type": "code",
            "source": [
                "select * from team t1 cross join team t2"
            ],
            "metadata": {
                "azdata_cell_guid": "147b4451-da5d-4906-983f-a542201dabab"
            },
            "outputs": [
                {
                    "output_type": "display_data",
                    "data": {
                        "text/html": "(16 rows affected)"
                    },
                    "metadata": {}
                },
                {
                    "output_type": "display_data",
                    "data": {
                        "text/html": "Total execution time: 00:00:00.057"
                    },
                    "metadata": {}
                },
                {
                    "output_type": "execute_result",
                    "execution_count": 6,
                    "data": {
                        "application/vnd.dataresource+json": {
                            "schema": {
                                "fields": [
                                    {
                                        "name": "name"
                                    },
                                    {
                                        "name": "rank"
                                    },
                                    {
                                        "name": "name"
                                    },
                                    {
                                        "name": "rank"
                                    }
                                ]
                            },
                            "data": [
                                {
                                    "0": "alpha",
                                    "1": "2",
                                    "2": "alpha",
                                    "3": "2"
                                },
                                {
                                    "0": "beta",
                                    "1": "1",
                                    "2": "alpha",
                                    "3": "2"
                                },
                                {
                                    "0": "gamma",
                                    "1": "3",
                                    "2": "alpha",
                                    "3": "2"
                                },
                                {
                                    "0": "delta",
                                    "1": "4",
                                    "2": "alpha",
                                    "3": "2"
                                },
                                {
                                    "0": "alpha",
                                    "1": "2",
                                    "2": "beta",
                                    "3": "1"
                                },
                                {
                                    "0": "beta",
                                    "1": "1",
                                    "2": "beta",
                                    "3": "1"
                                },
                                {
                                    "0": "gamma",
                                    "1": "3",
                                    "2": "beta",
                                    "3": "1"
                                },
                                {
                                    "0": "delta",
                                    "1": "4",
                                    "2": "beta",
                                    "3": "1"
                                },
                                {
                                    "0": "alpha",
                                    "1": "2",
                                    "2": "gamma",
                                    "3": "3"
                                },
                                {
                                    "0": "beta",
                                    "1": "1",
                                    "2": "gamma",
                                    "3": "3"
                                },
                                {
                                    "0": "gamma",
                                    "1": "3",
                                    "2": "gamma",
                                    "3": "3"
                                },
                                {
                                    "0": "delta",
                                    "1": "4",
                                    "2": "gamma",
                                    "3": "3"
                                },
                                {
                                    "0": "alpha",
                                    "1": "2",
                                    "2": "delta",
                                    "3": "4"
                                },
                                {
                                    "0": "beta",
                                    "1": "1",
                                    "2": "delta",
                                    "3": "4"
                                },
                                {
                                    "0": "gamma",
                                    "1": "3",
                                    "2": "delta",
                                    "3": "4"
                                },
                                {
                                    "0": "delta",
                                    "1": "4",
                                    "2": "delta",
                                    "3": "4"
                                }
                            ]
                        },
                        "text/html": "<table><tr><th>name</th><th>rank</th><th>name</th><th>rank</th></tr><tr><td>alpha</td><td>2</td><td>alpha</td><td>2</td></tr><tr><td>beta</td><td>1</td><td>alpha</td><td>2</td></tr><tr><td>gamma</td><td>3</td><td>alpha</td><td>2</td></tr><tr><td>delta</td><td>4</td><td>alpha</td><td>2</td></tr><tr><td>alpha</td><td>2</td><td>beta</td><td>1</td></tr><tr><td>beta</td><td>1</td><td>beta</td><td>1</td></tr><tr><td>gamma</td><td>3</td><td>beta</td><td>1</td></tr><tr><td>delta</td><td>4</td><td>beta</td><td>1</td></tr><tr><td>alpha</td><td>2</td><td>gamma</td><td>3</td></tr><tr><td>beta</td><td>1</td><td>gamma</td><td>3</td></tr><tr><td>gamma</td><td>3</td><td>gamma</td><td>3</td></tr><tr><td>delta</td><td>4</td><td>gamma</td><td>3</td></tr><tr><td>alpha</td><td>2</td><td>delta</td><td>4</td></tr><tr><td>beta</td><td>1</td><td>delta</td><td>4</td></tr><tr><td>gamma</td><td>3</td><td>delta</td><td>4</td></tr><tr><td>delta</td><td>4</td><td>delta</td><td>4</td></tr></table>"
                    },
                    "metadata": {}
                }
            ],
            "execution_count": 6
        },
        {
            "cell_type": "markdown",
            "source": [
                "# แข่งแบบพบกันหมดแบบมีทีมเหย้าทีมเยือน"
            ],
            "metadata": {
                "azdata_cell_guid": "57f8de1c-7f09-4c3f-95bd-166cdebe8ec1"
            }
        },
        {
            "cell_type": "code",
            "source": [
                "select * from team t1, team t2\n",
                "    where t1.name != t2.name"
            ],
            "metadata": {
                "azdata_cell_guid": "78989150-85a9-438c-b9ce-17823d8ee450"
            },
            "outputs": [
                {
                    "output_type": "display_data",
                    "data": {
                        "text/html": "(12 rows affected)"
                    },
                    "metadata": {}
                },
                {
                    "output_type": "display_data",
                    "data": {
                        "text/html": "Total execution time: 00:00:00.086"
                    },
                    "metadata": {}
                },
                {
                    "output_type": "execute_result",
                    "execution_count": 8,
                    "data": {
                        "application/vnd.dataresource+json": {
                            "schema": {
                                "fields": [
                                    {
                                        "name": "name"
                                    },
                                    {
                                        "name": "rank"
                                    },
                                    {
                                        "name": "name"
                                    },
                                    {
                                        "name": "rank"
                                    }
                                ]
                            },
                            "data": [
                                {
                                    "0": "beta",
                                    "1": "1",
                                    "2": "alpha",
                                    "3": "2"
                                },
                                {
                                    "0": "gamma",
                                    "1": "3",
                                    "2": "alpha",
                                    "3": "2"
                                },
                                {
                                    "0": "delta",
                                    "1": "4",
                                    "2": "alpha",
                                    "3": "2"
                                },
                                {
                                    "0": "alpha",
                                    "1": "2",
                                    "2": "beta",
                                    "3": "1"
                                },
                                {
                                    "0": "gamma",
                                    "1": "3",
                                    "2": "beta",
                                    "3": "1"
                                },
                                {
                                    "0": "delta",
                                    "1": "4",
                                    "2": "beta",
                                    "3": "1"
                                },
                                {
                                    "0": "alpha",
                                    "1": "2",
                                    "2": "gamma",
                                    "3": "3"
                                },
                                {
                                    "0": "beta",
                                    "1": "1",
                                    "2": "gamma",
                                    "3": "3"
                                },
                                {
                                    "0": "delta",
                                    "1": "4",
                                    "2": "gamma",
                                    "3": "3"
                                },
                                {
                                    "0": "alpha",
                                    "1": "2",
                                    "2": "delta",
                                    "3": "4"
                                },
                                {
                                    "0": "beta",
                                    "1": "1",
                                    "2": "delta",
                                    "3": "4"
                                },
                                {
                                    "0": "gamma",
                                    "1": "3",
                                    "2": "delta",
                                    "3": "4"
                                }
                            ]
                        },
                        "text/html": "<table><tr><th>name</th><th>rank</th><th>name</th><th>rank</th></tr><tr><td>beta</td><td>1</td><td>alpha</td><td>2</td></tr><tr><td>gamma</td><td>3</td><td>alpha</td><td>2</td></tr><tr><td>delta</td><td>4</td><td>alpha</td><td>2</td></tr><tr><td>alpha</td><td>2</td><td>beta</td><td>1</td></tr><tr><td>gamma</td><td>3</td><td>beta</td><td>1</td></tr><tr><td>delta</td><td>4</td><td>beta</td><td>1</td></tr><tr><td>alpha</td><td>2</td><td>gamma</td><td>3</td></tr><tr><td>beta</td><td>1</td><td>gamma</td><td>3</td></tr><tr><td>delta</td><td>4</td><td>gamma</td><td>3</td></tr><tr><td>alpha</td><td>2</td><td>delta</td><td>4</td></tr><tr><td>beta</td><td>1</td><td>delta</td><td>4</td></tr><tr><td>gamma</td><td>3</td><td>delta</td><td>4</td></tr></table>"
                    },
                    "metadata": {}
                }
            ],
            "execution_count": 8
        },
        {
            "cell_type": "code",
            "source": [
                "select t1.name team1, t2.name team2 from team t1, team t2\n",
                "    where t1.name != t2.name -- ยังไม่ถูกต้อง เพราะยังมีบรรทัด alpha-beta และ beta-alpha ฯลฯ"
            ],
            "metadata": {
                "azdata_cell_guid": "3f87e943-ae8a-4ebc-89e1-ffef81e71a00"
            },
            "outputs": [
                {
                    "output_type": "display_data",
                    "data": {
                        "text/html": "(12 rows affected)"
                    },
                    "metadata": {}
                },
                {
                    "output_type": "display_data",
                    "data": {
                        "text/html": "Total execution time: 00:00:00.061"
                    },
                    "metadata": {}
                },
                {
                    "output_type": "execute_result",
                    "execution_count": 9,
                    "data": {
                        "application/vnd.dataresource+json": {
                            "schema": {
                                "fields": [
                                    {
                                        "name": "team1"
                                    },
                                    {
                                        "name": "team2"
                                    }
                                ]
                            },
                            "data": [
                                {
                                    "0": "beta",
                                    "1": "alpha"
                                },
                                {
                                    "0": "gamma",
                                    "1": "alpha"
                                },
                                {
                                    "0": "delta",
                                    "1": "alpha"
                                },
                                {
                                    "0": "alpha",
                                    "1": "beta"
                                },
                                {
                                    "0": "gamma",
                                    "1": "beta"
                                },
                                {
                                    "0": "delta",
                                    "1": "beta"
                                },
                                {
                                    "0": "alpha",
                                    "1": "gamma"
                                },
                                {
                                    "0": "beta",
                                    "1": "gamma"
                                },
                                {
                                    "0": "delta",
                                    "1": "gamma"
                                },
                                {
                                    "0": "alpha",
                                    "1": "delta"
                                },
                                {
                                    "0": "beta",
                                    "1": "delta"
                                },
                                {
                                    "0": "gamma",
                                    "1": "delta"
                                }
                            ]
                        },
                        "text/html": "<table><tr><th>team1</th><th>team2</th></tr><tr><td>beta</td><td>alpha</td></tr><tr><td>gamma</td><td>alpha</td></tr><tr><td>delta</td><td>alpha</td></tr><tr><td>alpha</td><td>beta</td></tr><tr><td>gamma</td><td>beta</td></tr><tr><td>delta</td><td>beta</td></tr><tr><td>alpha</td><td>gamma</td></tr><tr><td>beta</td><td>gamma</td></tr><tr><td>delta</td><td>gamma</td></tr><tr><td>alpha</td><td>delta</td></tr><tr><td>beta</td><td>delta</td></tr><tr><td>gamma</td><td>delta</td></tr></table>"
                    },
                    "metadata": {}
                }
            ],
            "execution_count": 9
        },
        {
            "cell_type": "markdown",
            "source": [
                "# การแข่งขันแบบพบกันหมดครั้งเดียว\n",
                "## แก้ปัญหาแถวในลักษณะชื่อ t1.name กับ t2.name สลับกัน\n",
                "* alpha แข่งกับ beta\n",
                "* beta แข่งกับ alpha"
            ],
            "metadata": {
                "azdata_cell_guid": "bd58565a-e3e7-4b1b-af8b-f04d78aa7d43"
            }
        },
        {
            "cell_type": "code",
            "source": [
                "select t1.name team1, t2.name team2 \n",
                "    from team t1, team t2\n",
                "    -- ใช้การเปรียบเทียบด้วยเครื่องหมาย > หรือ < ก็ได้\n",
                "    where t1.name > t2.name "
            ],
            "metadata": {
                "azdata_cell_guid": "98f3fcde-ece7-4430-a97f-2920c9fe7887"
            },
            "outputs": [
                {
                    "output_type": "display_data",
                    "data": {
                        "text/html": "(6 rows affected)"
                    },
                    "metadata": {}
                },
                {
                    "output_type": "display_data",
                    "data": {
                        "text/html": "Total execution time: 00:00:00.236"
                    },
                    "metadata": {}
                },
                {
                    "output_type": "execute_result",
                    "execution_count": 1,
                    "data": {
                        "application/vnd.dataresource+json": {
                            "schema": {
                                "fields": [
                                    {
                                        "name": "team1"
                                    },
                                    {
                                        "name": "team2"
                                    }
                                ]
                            },
                            "data": [
                                {
                                    "0": "beta",
                                    "1": "alpha"
                                },
                                {
                                    "0": "gamma",
                                    "1": "alpha"
                                },
                                {
                                    "0": "delta",
                                    "1": "alpha"
                                },
                                {
                                    "0": "gamma",
                                    "1": "beta"
                                },
                                {
                                    "0": "delta",
                                    "1": "beta"
                                },
                                {
                                    "0": "gamma",
                                    "1": "delta"
                                }
                            ]
                        },
                        "text/html": "<table><tr><th>team1</th><th>team2</th></tr><tr><td>beta</td><td>alpha</td></tr><tr><td>gamma</td><td>alpha</td></tr><tr><td>delta</td><td>alpha</td></tr><tr><td>gamma</td><td>beta</td></tr><tr><td>delta</td><td>beta</td></tr><tr><td>gamma</td><td>delta</td></tr></table>"
                    },
                    "metadata": {}
                }
            ],
            "execution_count": 1
        },
        {
            "cell_type": "code",
            "source": [
                "select concat(t1.name, '(', t1.rank, ')') team1, concat(t2.name, '(', t2.rank, ')') team2 \n",
                "    from team t1, team t2\n",
                "    where t1.name > t2.name"
            ],
            "metadata": {
                "azdata_cell_guid": "9d6dc24f-99ad-44c9-9a2f-8594d1bd632a"
            },
            "outputs": [
                {
                    "output_type": "display_data",
                    "data": {
                        "text/html": "(6 rows affected)"
                    },
                    "metadata": {}
                },
                {
                    "output_type": "display_data",
                    "data": {
                        "text/html": "Total execution time: 00:00:00.064"
                    },
                    "metadata": {}
                },
                {
                    "output_type": "execute_result",
                    "execution_count": 2,
                    "data": {
                        "application/vnd.dataresource+json": {
                            "schema": {
                                "fields": [
                                    {
                                        "name": "team1"
                                    },
                                    {
                                        "name": "team2"
                                    }
                                ]
                            },
                            "data": [
                                {
                                    "0": "beta(1)",
                                    "1": "alpha(2)"
                                },
                                {
                                    "0": "gamma(3)",
                                    "1": "alpha(2)"
                                },
                                {
                                    "0": "delta(4)",
                                    "1": "alpha(2)"
                                },
                                {
                                    "0": "gamma(3)",
                                    "1": "beta(1)"
                                },
                                {
                                    "0": "delta(4)",
                                    "1": "beta(1)"
                                },
                                {
                                    "0": "gamma(3)",
                                    "1": "delta(4)"
                                }
                            ]
                        },
                        "text/html": "<table><tr><th>team1</th><th>team2</th></tr><tr><td>beta(1)</td><td>alpha(2)</td></tr><tr><td>gamma(3)</td><td>alpha(2)</td></tr><tr><td>delta(4)</td><td>alpha(2)</td></tr><tr><td>gamma(3)</td><td>beta(1)</td></tr><tr><td>delta(4)</td><td>beta(1)</td></tr><tr><td>gamma(3)</td><td>delta(4)</td></tr></table>"
                    },
                    "metadata": {}
                }
            ],
            "execution_count": 2
        },
        {
            "cell_type": "markdown",
            "source": [
                "---\n",
                "# Playing card"
            ],
            "metadata": {
                "azdata_cell_guid": "8c04defe-6675-449a-be0a-fbc6b66b96c6"
            }
        },
        {
            "cell_type": "code",
            "source": [
                "select value as rank from string_split('A,2,3,4,5,6,7,8,9,10,J,Q,K', ',');"
            ],
            "metadata": {
                "azdata_cell_guid": "c79ead53-3f57-4656-862d-cafda4f467f7"
            },
            "outputs": [
                {
                    "output_type": "display_data",
                    "data": {
                        "text/html": "(13 rows affected)"
                    },
                    "metadata": {}
                },
                {
                    "output_type": "display_data",
                    "data": {
                        "text/html": "Total execution time: 00:00:00.058"
                    },
                    "metadata": {}
                },
                {
                    "output_type": "execute_result",
                    "execution_count": 12,
                    "data": {
                        "application/vnd.dataresource+json": {
                            "schema": {
                                "fields": [
                                    {
                                        "name": "rank"
                                    }
                                ]
                            },
                            "data": [
                                {
                                    "0": "A"
                                },
                                {
                                    "0": "2"
                                },
                                {
                                    "0": "3"
                                },
                                {
                                    "0": "4"
                                },
                                {
                                    "0": "5"
                                },
                                {
                                    "0": "6"
                                },
                                {
                                    "0": "7"
                                },
                                {
                                    "0": "8"
                                },
                                {
                                    "0": "9"
                                },
                                {
                                    "0": "10"
                                },
                                {
                                    "0": "J"
                                },
                                {
                                    "0": "Q"
                                },
                                {
                                    "0": "K"
                                }
                            ]
                        },
                        "text/html": "<table><tr><th>rank</th></tr><tr><td>A</td></tr><tr><td>2</td></tr><tr><td>3</td></tr><tr><td>4</td></tr><tr><td>5</td></tr><tr><td>6</td></tr><tr><td>7</td></tr><tr><td>8</td></tr><tr><td>9</td></tr><tr><td>10</td></tr><tr><td>J</td></tr><tr><td>Q</td></tr><tr><td>K</td></tr></table>"
                    },
                    "metadata": {}
                }
            ],
            "execution_count": 12
        },
        {
            "cell_type": "markdown",
            "source": [
                "source: https://en.wikipedia.org/wiki/Playing_card_suit\n",
                "<table class=\"wikitable\" width=\"620\">\n",
                "\n",
                "<tbody><tr>\n",
                "<th>UTF code:</th>\n",
                "<th>U+2660 (9824<sub>dec</sub>)</th>\n",
                "<th>U+2665 (9829<sub>dec</sub>)</th>\n",
                "<th>U+2666 (9830<sub>dec</sub>)</th>\n",
                "<th>U+2663 (9827<sub>dec</sub>)\n",
                "</th></tr>\n",
                "<tr style=\"font-size:larger;\">\n",
                "<td><small><b>Symbol</b>:</small></td>\n",
                "<td>♠</td>\n",
                "<td>♥</td>\n",
                "<td>♦</td>\n",
                "<td>♣\n",
                "</td></tr>\n",
                "<tr>\n",
                "<td><b>Name</b>:</td>\n",
                "<td>Black Spade Suit</td>\n",
                "<td>Black Heart Suit</td>\n",
                "<td>Black Diamond Suit</td>\n",
                "<td>Black Club Suit\n",
                "</td></tr>\n",
                "<tr>\n",
                "<td><b>Entity</b>:</td>\n",
                "<td>&amp;spades;</td>\n",
                "<td>&amp;hearts;</td>\n",
                "<td>&amp;diams;</td>\n",
                "<td>&amp;clubs;\n",
                "</td></tr>\n",
                "<tr>\n",
                "<th>UTF code:</th>\n",
                "<th>U+2664 (9828<sub>dec</sub>)</th>\n",
                "<th>U+2661 (9825<sub>dec</sub>)</th>\n",
                "<th>U+2662 (9826<sub>dec</sub>)</th>\n",
                "<th>U+2667 (9831<sub>dec</sub>)\n",
                "</th></tr>\n",
                "<tr style=\"font-size:larger;\">\n",
                "<td><small><b>Symbol</b>:</small></td>\n",
                "<td>♤</td>\n",
                "<td>♡</td>\n",
                "<td>♢</td>\n",
                "<td>♧\n",
                "</td></tr>\n",
                "<tr>\n",
                "<td><b>Name</b>:</td>\n",
                "<td>White Spade Suit</td>\n",
                "<td>White Heart Suit</td>\n",
                "<td>White Diamond Suit</td>\n",
                "<td>White Club Suit\n",
                "</td></tr>\n",
                "<tr>\n",
                "<td colspan=\"5\"><i>UTF codes</i> are expressed by the <a href=\"/wiki/Unicode#Architecture_and_terminology\" title=\"Unicode\">Unicode code point \"U+hexadecimal number\" syntax</a>, and as subscript the respective decimal number.<br><i>Symbol</i>s are expressed here as they are in the <a href=\"/wiki/Web_browser\" title=\"Web browser\">web browser</a>'s <a href=\"/wiki/HTML\" title=\"HTML\">HTML</a> renderization.<br> <i>Name</i> is the formal name adopted in the standard specifications.\n",
                "</td></tr></tbody></table>"
            ],
            "metadata": {
                "azdata_cell_guid": "3cbfff90-9f62-442b-b4f1-1102b3766ed8"
            }
        },
        {
            "cell_type": "code",
            "source": [
                "select value as suit from string_split(N'♠,♥,♦,♣', ',');"
            ],
            "metadata": {
                "azdata_cell_guid": "1275ad19-164d-4241-96b3-671e06de2928"
            },
            "outputs": [
                {
                    "output_type": "display_data",
                    "data": {
                        "text/html": "(4 rows affected)"
                    },
                    "metadata": {}
                },
                {
                    "output_type": "display_data",
                    "data": {
                        "text/html": "Total execution time: 00:00:00.058"
                    },
                    "metadata": {}
                },
                {
                    "output_type": "execute_result",
                    "execution_count": 13,
                    "data": {
                        "application/vnd.dataresource+json": {
                            "schema": {
                                "fields": [
                                    {
                                        "name": "suit"
                                    }
                                ]
                            },
                            "data": [
                                {
                                    "0": "♠"
                                },
                                {
                                    "0": "♥"
                                },
                                {
                                    "0": "♦"
                                },
                                {
                                    "0": "♣"
                                }
                            ]
                        },
                        "text/html": "<table><tr><th>suit</th></tr><tr><td>♠</td></tr><tr><td>♥</td></tr><tr><td>♦</td></tr><tr><td>♣</td></tr></table>"
                    },
                    "metadata": {}
                }
            ],
            "execution_count": 13
        },
        {
            "cell_type": "code",
            "source": [
                "with r as (\n",
                "    select value as rank from string_split('A,2,3,4,5,6,7,8,9,10,J,Q,K', ',')\n",
                "),\n",
                "s as (\n",
                "    select value as suit from string_split(N'♠,♥,♦,♣', ',')\n",
                ")\n",
                "select concat(r.rank, s.suit) from r cross join s"
            ],
            "metadata": {
                "azdata_cell_guid": "047c0120-07aa-4cea-b9b7-a65134903292"
            },
            "outputs": [
                {
                    "output_type": "display_data",
                    "data": {
                        "text/html": "(52 rows affected)"
                    },
                    "metadata": {}
                },
                {
                    "output_type": "display_data",
                    "data": {
                        "text/html": "Total execution time: 00:00:00.070"
                    },
                    "metadata": {}
                },
                {
                    "output_type": "execute_result",
                    "execution_count": 15,
                    "data": {
                        "application/vnd.dataresource+json": {
                            "schema": {
                                "fields": [
                                    {
                                        "name": "(No column name)"
                                    }
                                ]
                            },
                            "data": [
                                {
                                    "0": "A♠"
                                },
                                {
                                    "0": "A♥"
                                },
                                {
                                    "0": "A♦"
                                },
                                {
                                    "0": "A♣"
                                },
                                {
                                    "0": "2♠"
                                },
                                {
                                    "0": "2♥"
                                },
                                {
                                    "0": "2♦"
                                },
                                {
                                    "0": "2♣"
                                },
                                {
                                    "0": "3♠"
                                },
                                {
                                    "0": "3♥"
                                },
                                {
                                    "0": "3♦"
                                },
                                {
                                    "0": "3♣"
                                },
                                {
                                    "0": "4♠"
                                },
                                {
                                    "0": "4♥"
                                },
                                {
                                    "0": "4♦"
                                },
                                {
                                    "0": "4♣"
                                },
                                {
                                    "0": "5♠"
                                },
                                {
                                    "0": "5♥"
                                },
                                {
                                    "0": "5♦"
                                },
                                {
                                    "0": "5♣"
                                },
                                {
                                    "0": "6♠"
                                },
                                {
                                    "0": "6♥"
                                },
                                {
                                    "0": "6♦"
                                },
                                {
                                    "0": "6♣"
                                },
                                {
                                    "0": "7♠"
                                },
                                {
                                    "0": "7♥"
                                },
                                {
                                    "0": "7♦"
                                },
                                {
                                    "0": "7♣"
                                },
                                {
                                    "0": "8♠"
                                },
                                {
                                    "0": "8♥"
                                },
                                {
                                    "0": "8♦"
                                },
                                {
                                    "0": "8♣"
                                },
                                {
                                    "0": "9♠"
                                },
                                {
                                    "0": "9♥"
                                },
                                {
                                    "0": "9♦"
                                },
                                {
                                    "0": "9♣"
                                },
                                {
                                    "0": "10♠"
                                },
                                {
                                    "0": "10♥"
                                },
                                {
                                    "0": "10♦"
                                },
                                {
                                    "0": "10♣"
                                },
                                {
                                    "0": "J♠"
                                },
                                {
                                    "0": "J♥"
                                },
                                {
                                    "0": "J♦"
                                },
                                {
                                    "0": "J♣"
                                },
                                {
                                    "0": "Q♠"
                                },
                                {
                                    "0": "Q♥"
                                },
                                {
                                    "0": "Q♦"
                                },
                                {
                                    "0": "Q♣"
                                },
                                {
                                    "0": "K♠"
                                },
                                {
                                    "0": "K♥"
                                },
                                {
                                    "0": "K♦"
                                },
                                {
                                    "0": "K♣"
                                }
                            ]
                        },
                        "text/html": "<table><tr><th>(No column name)</th></tr><tr><td>A♠</td></tr><tr><td>A♥</td></tr><tr><td>A♦</td></tr><tr><td>A♣</td></tr><tr><td>2♠</td></tr><tr><td>2♥</td></tr><tr><td>2♦</td></tr><tr><td>2♣</td></tr><tr><td>3♠</td></tr><tr><td>3♥</td></tr><tr><td>3♦</td></tr><tr><td>3♣</td></tr><tr><td>4♠</td></tr><tr><td>4♥</td></tr><tr><td>4♦</td></tr><tr><td>4♣</td></tr><tr><td>5♠</td></tr><tr><td>5♥</td></tr><tr><td>5♦</td></tr><tr><td>5♣</td></tr><tr><td>6♠</td></tr><tr><td>6♥</td></tr><tr><td>6♦</td></tr><tr><td>6♣</td></tr><tr><td>7♠</td></tr><tr><td>7♥</td></tr><tr><td>7♦</td></tr><tr><td>7♣</td></tr><tr><td>8♠</td></tr><tr><td>8♥</td></tr><tr><td>8♦</td></tr><tr><td>8♣</td></tr><tr><td>9♠</td></tr><tr><td>9♥</td></tr><tr><td>9♦</td></tr><tr><td>9♣</td></tr><tr><td>10♠</td></tr><tr><td>10♥</td></tr><tr><td>10♦</td></tr><tr><td>10♣</td></tr><tr><td>J♠</td></tr><tr><td>J♥</td></tr><tr><td>J♦</td></tr><tr><td>J♣</td></tr><tr><td>Q♠</td></tr><tr><td>Q♥</td></tr><tr><td>Q♦</td></tr><tr><td>Q♣</td></tr><tr><td>K♠</td></tr><tr><td>K♥</td></tr><tr><td>K♦</td></tr><tr><td>K♣</td></tr></table>"
                    },
                    "metadata": {}
                }
            ],
            "execution_count": 15
        },
        {
            "cell_type": "code",
            "source": [
                "with r as (\n",
                "    select value as rank from string_split('A,2,3,4,5,6,7,8,9,10,J,Q,K', ',')\n",
                "),\n",
                "s as (\n",
                "    select value as suit from string_split(N'♠,♥,♦,♣', ',')\n",
                ")\n",
                "select r.rank, s.suit from r cross join s"
            ],
            "metadata": {
                "azdata_cell_guid": "d05c955c-e0d9-4f78-a545-0aac5cc8d897"
            },
            "outputs": [
                {
                    "output_type": "display_data",
                    "data": {
                        "text/html": "(52 rows affected)"
                    },
                    "metadata": {}
                },
                {
                    "output_type": "display_data",
                    "data": {
                        "text/html": "Total execution time: 00:00:00.061"
                    },
                    "metadata": {}
                },
                {
                    "output_type": "execute_result",
                    "execution_count": 16,
                    "data": {
                        "application/vnd.dataresource+json": {
                            "schema": {
                                "fields": [
                                    {
                                        "name": "rank"
                                    },
                                    {
                                        "name": "suit"
                                    }
                                ]
                            },
                            "data": [
                                {
                                    "0": "A",
                                    "1": "♠"
                                },
                                {
                                    "0": "A",
                                    "1": "♥"
                                },
                                {
                                    "0": "A",
                                    "1": "♦"
                                },
                                {
                                    "0": "A",
                                    "1": "♣"
                                },
                                {
                                    "0": "2",
                                    "1": "♠"
                                },
                                {
                                    "0": "2",
                                    "1": "♥"
                                },
                                {
                                    "0": "2",
                                    "1": "♦"
                                },
                                {
                                    "0": "2",
                                    "1": "♣"
                                },
                                {
                                    "0": "3",
                                    "1": "♠"
                                },
                                {
                                    "0": "3",
                                    "1": "♥"
                                },
                                {
                                    "0": "3",
                                    "1": "♦"
                                },
                                {
                                    "0": "3",
                                    "1": "♣"
                                },
                                {
                                    "0": "4",
                                    "1": "♠"
                                },
                                {
                                    "0": "4",
                                    "1": "♥"
                                },
                                {
                                    "0": "4",
                                    "1": "♦"
                                },
                                {
                                    "0": "4",
                                    "1": "♣"
                                },
                                {
                                    "0": "5",
                                    "1": "♠"
                                },
                                {
                                    "0": "5",
                                    "1": "♥"
                                },
                                {
                                    "0": "5",
                                    "1": "♦"
                                },
                                {
                                    "0": "5",
                                    "1": "♣"
                                },
                                {
                                    "0": "6",
                                    "1": "♠"
                                },
                                {
                                    "0": "6",
                                    "1": "♥"
                                },
                                {
                                    "0": "6",
                                    "1": "♦"
                                },
                                {
                                    "0": "6",
                                    "1": "♣"
                                },
                                {
                                    "0": "7",
                                    "1": "♠"
                                },
                                {
                                    "0": "7",
                                    "1": "♥"
                                },
                                {
                                    "0": "7",
                                    "1": "♦"
                                },
                                {
                                    "0": "7",
                                    "1": "♣"
                                },
                                {
                                    "0": "8",
                                    "1": "♠"
                                },
                                {
                                    "0": "8",
                                    "1": "♥"
                                },
                                {
                                    "0": "8",
                                    "1": "♦"
                                },
                                {
                                    "0": "8",
                                    "1": "♣"
                                },
                                {
                                    "0": "9",
                                    "1": "♠"
                                },
                                {
                                    "0": "9",
                                    "1": "♥"
                                },
                                {
                                    "0": "9",
                                    "1": "♦"
                                },
                                {
                                    "0": "9",
                                    "1": "♣"
                                },
                                {
                                    "0": "10",
                                    "1": "♠"
                                },
                                {
                                    "0": "10",
                                    "1": "♥"
                                },
                                {
                                    "0": "10",
                                    "1": "♦"
                                },
                                {
                                    "0": "10",
                                    "1": "♣"
                                },
                                {
                                    "0": "J",
                                    "1": "♠"
                                },
                                {
                                    "0": "J",
                                    "1": "♥"
                                },
                                {
                                    "0": "J",
                                    "1": "♦"
                                },
                                {
                                    "0": "J",
                                    "1": "♣"
                                },
                                {
                                    "0": "Q",
                                    "1": "♠"
                                },
                                {
                                    "0": "Q",
                                    "1": "♥"
                                },
                                {
                                    "0": "Q",
                                    "1": "♦"
                                },
                                {
                                    "0": "Q",
                                    "1": "♣"
                                },
                                {
                                    "0": "K",
                                    "1": "♠"
                                },
                                {
                                    "0": "K",
                                    "1": "♥"
                                },
                                {
                                    "0": "K",
                                    "1": "♦"
                                },
                                {
                                    "0": "K",
                                    "1": "♣"
                                }
                            ]
                        },
                        "text/html": "<table><tr><th>rank</th><th>suit</th></tr><tr><td>A</td><td>♠</td></tr><tr><td>A</td><td>♥</td></tr><tr><td>A</td><td>♦</td></tr><tr><td>A</td><td>♣</td></tr><tr><td>2</td><td>♠</td></tr><tr><td>2</td><td>♥</td></tr><tr><td>2</td><td>♦</td></tr><tr><td>2</td><td>♣</td></tr><tr><td>3</td><td>♠</td></tr><tr><td>3</td><td>♥</td></tr><tr><td>3</td><td>♦</td></tr><tr><td>3</td><td>♣</td></tr><tr><td>4</td><td>♠</td></tr><tr><td>4</td><td>♥</td></tr><tr><td>4</td><td>♦</td></tr><tr><td>4</td><td>♣</td></tr><tr><td>5</td><td>♠</td></tr><tr><td>5</td><td>♥</td></tr><tr><td>5</td><td>♦</td></tr><tr><td>5</td><td>♣</td></tr><tr><td>6</td><td>♠</td></tr><tr><td>6</td><td>♥</td></tr><tr><td>6</td><td>♦</td></tr><tr><td>6</td><td>♣</td></tr><tr><td>7</td><td>♠</td></tr><tr><td>7</td><td>♥</td></tr><tr><td>7</td><td>♦</td></tr><tr><td>7</td><td>♣</td></tr><tr><td>8</td><td>♠</td></tr><tr><td>8</td><td>♥</td></tr><tr><td>8</td><td>♦</td></tr><tr><td>8</td><td>♣</td></tr><tr><td>9</td><td>♠</td></tr><tr><td>9</td><td>♥</td></tr><tr><td>9</td><td>♦</td></tr><tr><td>9</td><td>♣</td></tr><tr><td>10</td><td>♠</td></tr><tr><td>10</td><td>♥</td></tr><tr><td>10</td><td>♦</td></tr><tr><td>10</td><td>♣</td></tr><tr><td>J</td><td>♠</td></tr><tr><td>J</td><td>♥</td></tr><tr><td>J</td><td>♦</td></tr><tr><td>J</td><td>♣</td></tr><tr><td>Q</td><td>♠</td></tr><tr><td>Q</td><td>♥</td></tr><tr><td>Q</td><td>♦</td></tr><tr><td>Q</td><td>♣</td></tr><tr><td>K</td><td>♠</td></tr><tr><td>K</td><td>♥</td></tr><tr><td>K</td><td>♦</td></tr><tr><td>K</td><td>♣</td></tr></table>"
                    },
                    "metadata": {}
                }
            ],
            "execution_count": 16
        }
    ]
}