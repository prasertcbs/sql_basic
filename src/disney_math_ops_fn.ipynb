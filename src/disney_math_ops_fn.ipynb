{
    "metadata": {
        "kernelspec": {
            "name": "SQL",
            "display_name": "SQL",
            "language": "sql"
        },
        "language_info": {
            "name": "sql",
            "version": ""
        }
    },
    "nbformat_minor": 2,
    "nbformat": 4,
    "cells": [
        {
            "cell_type": "markdown",
            "source": [
                "# Math operators and functions\n",
                "## Server: Microsoft SQL Server\n",
                "## Database: disney\n",
                "## Author: Prasert Kanawattanachai\n",
                "## YouTube: https://youtu.be/I3I04ZXSLb8"
            ],
            "metadata": {}
        },
        {
            "cell_type": "code",
            "source": [
                "select top 5\n",
                "    movie_title, inflation_adjusted_gross [USD],\n",
                "    inflation_adjusted_gross * 31 [THB]\n",
                "    from movie_gross"
            ],
            "metadata": {},
            "outputs": [
                {
                    "output_type": "display_data",
                    "data": {
                        "text/html": "(5 rows affected)"
                    },
                    "metadata": {}
                },
                {
                    "output_type": "display_data",
                    "data": {
                        "text/html": "Total execution time: 00:00:00.055"
                    },
                    "metadata": {}
                },
                {
                    "output_type": "execute_result",
                    "execution_count": 1,
                    "data": {
                        "application/vnd.dataresource+json": {
                            "schema": {
                                "fields": [
                                    {
                                        "name": "movie_title"
                                    },
                                    {
                                        "name": "USD"
                                    },
                                    {
                                        "name": "THB"
                                    }
                                ]
                            },
                            "data": [
                                {
                                    "0": "Snow White and the Seven Dwarfs",
                                    "1": "5228953251",
                                    "2": "162097550781"
                                },
                                {
                                    "0": "Pinocchio",
                                    "1": "2188229052",
                                    "2": "67835100612"
                                },
                                {
                                    "0": "Fantasia",
                                    "1": "2187090808",
                                    "2": "67799815048"
                                },
                                {
                                    "0": "Song of the South",
                                    "1": "1078510579",
                                    "2": "33433827949"
                                },
                                {
                                    "0": "Cinderella",
                                    "1": "920608730",
                                    "2": "28538870630"
                                }
                            ]
                        },
                        "text/html": "<table><tr><th>movie_title</th><th>USD</th><th>THB</th></tr><tr><td>Snow White and the Seven Dwarfs</td><td>5228953251</td><td>162097550781</td></tr><tr><td>Pinocchio</td><td>2188229052</td><td>67835100612</td></tr><tr><td>Fantasia</td><td>2187090808</td><td>67799815048</td></tr><tr><td>Song of the South</td><td>1078510579</td><td>33433827949</td></tr><tr><td>Cinderella</td><td>920608730</td><td>28538870630</td></tr></table>"
                    },
                    "metadata": {}
                }
            ],
            "execution_count": 1
        },
        {
            "cell_type": "code",
            "source": [
                "select 7 + 5 [add],\n",
                "    7-5 [subtract],\n",
                "    7*5 [multiply],\n",
                "    7/5 [divide], -- int / int -> int\n",
                "    7.0/5 [divide2], -- decimal / int -> decimal\n",
                "    7/5.0 [divide3], -- decimal / int -> decimal\n",
                "    7 * 1.0 / 5 [divide4] -- decimal / int -> decimal"
            ],
            "metadata": {},
            "outputs": [
                {
                    "output_type": "display_data",
                    "data": {
                        "text/html": "(1 row affected)"
                    },
                    "metadata": {}
                },
                {
                    "output_type": "display_data",
                    "data": {
                        "text/html": "Total execution time: 00:00:00.072"
                    },
                    "metadata": {}
                },
                {
                    "output_type": "execute_result",
                    "execution_count": 2,
                    "data": {
                        "application/vnd.dataresource+json": {
                            "schema": {
                                "fields": [
                                    {
                                        "name": "add"
                                    },
                                    {
                                        "name": "subtract"
                                    },
                                    {
                                        "name": "multiply"
                                    },
                                    {
                                        "name": "divide"
                                    },
                                    {
                                        "name": "divide2"
                                    },
                                    {
                                        "name": "divide3"
                                    },
                                    {
                                        "name": "divide4"
                                    }
                                ]
                            },
                            "data": [
                                {
                                    "0": "12",
                                    "1": "2",
                                    "2": "35",
                                    "3": "1",
                                    "4": "1.400000",
                                    "5": "1.400000",
                                    "6": "1.400000"
                                }
                            ]
                        },
                        "text/html": "<table><tr><th>add</th><th>subtract</th><th>multiply</th><th>divide</th><th>divide2</th><th>divide3</th><th>divide4</th></tr><tr><td>12</td><td>2</td><td>35</td><td>1</td><td>1.400000</td><td>1.400000</td><td>1.400000</td></tr></table>"
                    },
                    "metadata": {}
                }
            ],
            "execution_count": 2
        },
        {
            "cell_type": "code",
            "source": [
                "select 2 + 3 - 4 * 5,\n",
                "    2 + 3 - (4 * 5),\n",
                "    2 + 3 - 20"
            ],
            "metadata": {},
            "outputs": [
                {
                    "output_type": "display_data",
                    "data": {
                        "text/html": "(1 row affected)"
                    },
                    "metadata": {}
                },
                {
                    "output_type": "display_data",
                    "data": {
                        "text/html": "Total execution time: 00:00:00.054"
                    },
                    "metadata": {}
                },
                {
                    "output_type": "execute_result",
                    "execution_count": 3,
                    "data": {
                        "application/vnd.dataresource+json": {
                            "schema": {
                                "fields": [
                                    {
                                        "name": "(No column name)"
                                    },
                                    {
                                        "name": "(No column name)"
                                    },
                                    {
                                        "name": "(No column name)"
                                    }
                                ]
                            },
                            "data": [
                                {
                                    "0": "-15",
                                    "1": "-15",
                                    "2": "-15"
                                }
                            ]
                        },
                        "text/html": "<table><tr><th>(No column name)</th><th>(No column name)</th><th>(No column name)</th></tr><tr><td>-15</td><td>-15</td><td>-15</td></tr></table>"
                    },
                    "metadata": {}
                }
            ],
            "execution_count": 3
        },
        {
            "cell_type": "code",
            "source": [
                "select 2 + 3 - 4 * 5 / 6,\n",
                "    2 + 3 - 4 * 5.0 / 6,\n",
                "    2 + 3 - 20.0 / 6,\n",
                "    2 + 3 - (20.0 / 6)"
            ],
            "metadata": {},
            "outputs": [
                {
                    "output_type": "display_data",
                    "data": {
                        "text/html": "(1 row affected)"
                    },
                    "metadata": {}
                },
                {
                    "output_type": "display_data",
                    "data": {
                        "text/html": "Total execution time: 00:00:00.055"
                    },
                    "metadata": {}
                },
                {
                    "output_type": "execute_result",
                    "execution_count": 4,
                    "data": {
                        "application/vnd.dataresource+json": {
                            "schema": {
                                "fields": [
                                    {
                                        "name": "(No column name)"
                                    },
                                    {
                                        "name": "(No column name)"
                                    },
                                    {
                                        "name": "(No column name)"
                                    },
                                    {
                                        "name": "(No column name)"
                                    }
                                ]
                            },
                            "data": [
                                {
                                    "0": "2",
                                    "1": "1.666667",
                                    "2": "1.666667",
                                    "3": "1.666667"
                                }
                            ]
                        },
                        "text/html": "<table><tr><th>(No column name)</th><th>(No column name)</th><th>(No column name)</th><th>(No column name)</th></tr><tr><td>2</td><td>1.666667</td><td>1.666667</td><td>1.666667</td></tr></table>"
                    },
                    "metadata": {}
                }
            ],
            "execution_count": 4
        },
        {
            "cell_type": "code",
            "source": [
                "select power(2, 3), -- 2 ยกกำลัง 3\n",
                "    power(2, 1/2.0), -- 2 ยกกำลัง 1/2\n",
                "    power(2.0, 1/2.0)"
            ],
            "metadata": {},
            "outputs": [
                {
                    "output_type": "display_data",
                    "data": {
                        "text/html": "(1 row affected)"
                    },
                    "metadata": {}
                },
                {
                    "output_type": "display_data",
                    "data": {
                        "text/html": "Total execution time: 00:00:00.257"
                    },
                    "metadata": {}
                },
                {
                    "output_type": "execute_result",
                    "execution_count": 5,
                    "data": {
                        "application/vnd.dataresource+json": {
                            "schema": {
                                "fields": [
                                    {
                                        "name": "(No column name)"
                                    },
                                    {
                                        "name": "(No column name)"
                                    },
                                    {
                                        "name": "(No column name)"
                                    }
                                ]
                            },
                            "data": [
                                {
                                    "0": "8",
                                    "1": "1",
                                    "2": "1.4"
                                }
                            ]
                        },
                        "text/html": "<table><tr><th>(No column name)</th><th>(No column name)</th><th>(No column name)</th></tr><tr><td>8</td><td>1</td><td>1.4</td></tr></table>"
                    },
                    "metadata": {}
                }
            ],
            "execution_count": 5
        },
        {
            "cell_type": "code",
            "source": [
                "select 8.0 / 2 * (2 + 2),\n",
                "    8.0 / 2 * 4,\n",
                "    (8.0 / 2) * 4"
            ],
            "metadata": {},
            "outputs": [
                {
                    "output_type": "display_data",
                    "data": {
                        "text/html": "(1 row affected)"
                    },
                    "metadata": {}
                },
                {
                    "output_type": "display_data",
                    "data": {
                        "text/html": "Total execution time: 00:00:00.052"
                    },
                    "metadata": {}
                },
                {
                    "output_type": "execute_result",
                    "execution_count": 6,
                    "data": {
                        "application/vnd.dataresource+json": {
                            "schema": {
                                "fields": [
                                    {
                                        "name": "(No column name)"
                                    },
                                    {
                                        "name": "(No column name)"
                                    },
                                    {
                                        "name": "(No column name)"
                                    }
                                ]
                            },
                            "data": [
                                {
                                    "0": "16.000000",
                                    "1": "16.000000",
                                    "2": "16.000000"
                                }
                            ]
                        },
                        "text/html": "<table><tr><th>(No column name)</th><th>(No column name)</th><th>(No column name)</th></tr><tr><td>16.000000</td><td>16.000000</td><td>16.000000</td></tr></table>"
                    },
                    "metadata": {}
                }
            ],
            "execution_count": 6
        },
        {
            "cell_type": "code",
            "source": "select pi(), sqrt(2), power(2.0, .5)",
            "metadata": {},
            "outputs": [
                {
                    "output_type": "display_data",
                    "data": {
                        "text/html": "(1 row affected)"
                    },
                    "metadata": {}
                },
                {
                    "output_type": "display_data",
                    "data": {
                        "text/html": "Total execution time: 00:00:00.057"
                    },
                    "metadata": {}
                },
                {
                    "output_type": "execute_result",
                    "execution_count": 7,
                    "data": {
                        "application/vnd.dataresource+json": {
                            "schema": {
                                "fields": [
                                    {
                                        "name": "(No column name)"
                                    },
                                    {
                                        "name": "(No column name)"
                                    },
                                    {
                                        "name": "(No column name)"
                                    }
                                ]
                            },
                            "data": [
                                {
                                    "0": "3.14159265358979",
                                    "1": "1.4142135623731",
                                    "2": "1.4"
                                }
                            ]
                        },
                        "text/html": "<table><tr><th>(No column name)</th><th>(No column name)</th><th>(No column name)</th></tr><tr><td>3.14159265358979</td><td>1.4142135623731</td><td>1.4</td></tr></table>"
                    },
                    "metadata": {}
                }
            ],
            "execution_count": 7
        },
        {
            "cell_type": "code",
            "source": [
                "-- 2^n = 5\n",
                "-- nlog(2) = log(5)\n",
                "-- n = log(5) / log(2)\n",
                "select log(5) / log(2), power(2.0, log(5)/log(2))"
            ],
            "metadata": {},
            "outputs": [
                {
                    "output_type": "display_data",
                    "data": {
                        "text/html": "(1 row affected)"
                    },
                    "metadata": {}
                },
                {
                    "output_type": "display_data",
                    "data": {
                        "text/html": "Total execution time: 00:00:00.053"
                    },
                    "metadata": {}
                },
                {
                    "output_type": "execute_result",
                    "execution_count": 8,
                    "data": {
                        "application/vnd.dataresource+json": {
                            "schema": {
                                "fields": [
                                    {
                                        "name": "(No column name)"
                                    },
                                    {
                                        "name": "(No column name)"
                                    }
                                ]
                            },
                            "data": [
                                {
                                    "0": "2.32192809488736",
                                    "1": "5.0"
                                }
                            ]
                        },
                        "text/html": "<table><tr><th>(No column name)</th><th>(No column name)</th></tr><tr><td>2.32192809488736</td><td>5.0</td></tr></table>"
                    },
                    "metadata": {}
                }
            ],
            "execution_count": 8
        },
        {
            "cell_type": "code",
            "source": "select 7 / 5, 7.0 / 5, 7 / 5.0, 7 % 5 [mod]",
            "metadata": {},
            "outputs": [
                {
                    "output_type": "display_data",
                    "data": {
                        "text/html": "(1 row affected)"
                    },
                    "metadata": {}
                },
                {
                    "output_type": "display_data",
                    "data": {
                        "text/html": "Total execution time: 00:00:00.055"
                    },
                    "metadata": {}
                },
                {
                    "output_type": "execute_result",
                    "execution_count": 9,
                    "data": {
                        "application/vnd.dataresource+json": {
                            "schema": {
                                "fields": [
                                    {
                                        "name": "(No column name)"
                                    },
                                    {
                                        "name": "(No column name)"
                                    },
                                    {
                                        "name": "(No column name)"
                                    },
                                    {
                                        "name": "mod"
                                    }
                                ]
                            },
                            "data": [
                                {
                                    "0": "1",
                                    "1": "1.400000",
                                    "2": "1.400000",
                                    "3": "2"
                                }
                            ]
                        },
                        "text/html": "<table><tr><th>(No column name)</th><th>(No column name)</th><th>(No column name)</th><th>mod</th></tr><tr><td>1</td><td>1.400000</td><td>1.400000</td><td>2</td></tr></table>"
                    },
                    "metadata": {}
                }
            ],
            "execution_count": 9
        },
        {
            "cell_type": "code",
            "source": [
                "-- ตรวจสอบเลขคู่หรือคี่ (n mod 2 ได้ 0 จะเป็นเลขคู่)\n",
                "select 7 % 2"
            ],
            "metadata": {},
            "outputs": [
                {
                    "output_type": "display_data",
                    "data": {
                        "text/html": "(1 row affected)"
                    },
                    "metadata": {}
                },
                {
                    "output_type": "display_data",
                    "data": {
                        "text/html": "Total execution time: 00:00:00.083"
                    },
                    "metadata": {}
                },
                {
                    "output_type": "execute_result",
                    "execution_count": 10,
                    "data": {
                        "application/vnd.dataresource+json": {
                            "schema": {
                                "fields": [
                                    {
                                        "name": "(No column name)"
                                    }
                                ]
                            },
                            "data": [
                                {
                                    "0": "1"
                                }
                            ]
                        },
                        "text/html": "<table><tr><th>(No column name)</th></tr><tr><td>1</td></tr></table>"
                    },
                    "metadata": {}
                }
            ],
            "execution_count": 10
        },
        {
            "cell_type": "code",
            "source": [
                "-- หาปีอธิกสุรทิน ปีที่เดือนกุมภาพันธ์มี 29 วัน หรือทั้งปีมี 366 วัน\n",
                "-- ปี ค.ศ. ที่ mod 4 แล้วเศษเป็น 0\n",
                "select 2020 % 4"
            ],
            "metadata": {},
            "outputs": [
                {
                    "output_type": "display_data",
                    "data": {
                        "text/html": "(1 row affected)"
                    },
                    "metadata": {}
                },
                {
                    "output_type": "display_data",
                    "data": {
                        "text/html": "Total execution time: 00:00:00.076"
                    },
                    "metadata": {}
                },
                {
                    "output_type": "execute_result",
                    "execution_count": 11,
                    "data": {
                        "application/vnd.dataresource+json": {
                            "schema": {
                                "fields": [
                                    {
                                        "name": "(No column name)"
                                    }
                                ]
                            },
                            "data": [
                                {
                                    "0": "0"
                                }
                            ]
                        },
                        "text/html": "<table><tr><th>(No column name)</th></tr><tr><td>0</td></tr></table>"
                    },
                    "metadata": {}
                }
            ],
            "execution_count": 11
        }
    ]
}