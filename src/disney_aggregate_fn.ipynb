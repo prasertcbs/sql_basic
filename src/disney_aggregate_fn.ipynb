{
    "metadata": {
        "kernelspec": {
            "name": "SQL",
            "display_name": "SQL",
            "language": "sql"
        },
        "language_info": {
            "name": "sql",
            "version": ""
        }
    },
    "nbformat_minor": 2,
    "nbformat": 4,
    "cells": [
        {
            "cell_type": "markdown",
            "source": [
                "# Aggregate functions (COUNT, SUM, AVG, MIN, MAX)\n",
                "# Command: SELECT ... FROM ... GROUP BY ... HAVING ... ORDER BY ...\n",
                "## Server: Microsoft SQL Server\n",
                "## Database: disney\n",
                "## Author: Prasert Kanawattanachai\n",
                "## YouTube: https://youtu.be/wI9TV6Vcr64"
            ],
            "metadata": {}
        },
        {
            "cell_type": "markdown",
            "source": [
                "```\n",
                "SELECT [ ALL | DISTINCT ]   \n",
                "    [TOP ( expression ) [PERCENT] [ WITH TIES ] ]   \n",
                "\tFROM table_source \n",
                "\t[ WHERE search_condition ]\n",
                "\t[ GROUP BY group_by_expression ]\n",
                "\t[ HAVING search_condition ]\n",
                "\t[ ORDER BY order_expression [ ASC | DESC ] ]\n",
                "```"
            ],
            "metadata": {}
        },
        {
            "cell_type": "code",
            "source": [
                "select movie_title, genre, inflation_adjusted_gross from movie_gross\n",
                "    where genre = 'Drama'"
            ],
            "metadata": {},
            "outputs": [
                {
                    "output_type": "display_data",
                    "data": {
                        "text/html": "(114 rows affected)"
                    },
                    "metadata": {}
                },
                {
                    "output_type": "display_data",
                    "data": {
                        "text/html": "Total execution time: 00:00:00.311"
                    },
                    "metadata": {}
                },
                {
                    "output_type": "execute_result",
                    "execution_count": 1,
                    "data": {
                        "application/vnd.dataresource+json": {
                            "schema": {
                                "fields": [
                                    {
                                        "name": "movie_title"
                                    },
                                    {
                                        "name": "genre"
                                    },
                                    {
                                        "name": "inflation_adjusted_gross"
                                    }
                                ]
                            },
                            "data": [
                                {
                                    "0": "Cinderella",
                                    "1": "Drama",
                                    "2": "920608730"
                                },
                                {
                                    "0": "Lady and the Tramp",
                                    "1": "Drama",
                                    "2": "1236035515"
                                },
                                {
                                    "0": "Sleeping Beauty",
                                    "1": "Drama",
                                    "2": "21505832"
                                },
                                {
                                    "0": "Amy",
                                    "1": "Drama",
                                    "2": "0"
                                },
                                {
                                    "0": "Night Crossing",
                                    "1": "Drama",
                                    "2": "12903059"
                                },
                                {
                                    "0": "Tex",
                                    "1": "Drama",
                                    "2": "20643199"
                                },
                                {
                                    "0": "Never Cry Wolf",
                                    "1": "Drama",
                                    "2": "70669955"
                                },
                                {
                                    "0": "Running Brave",
                                    "1": "Drama",
                                    "2": "3223725"
                                },
                                {
                                    "0": "Country",
                                    "1": "Drama",
                                    "2": "21075000"
                                },
                                {
                                    "0": "The Journey of Natty Gann",
                                    "1": "Drama",
                                    "2": "22302956"
                                },
                                {
                                    "0": "One Magic Christmas",
                                    "1": "Drama",
                                    "2": "31415432"
                                },
                                {
                                    "0": "The Color of Money",
                                    "1": "Drama",
                                    "2": "117957323"
                                },
                                {
                                    "0": "Cocktail",
                                    "1": "Drama",
                                    "2": "160442289"
                                },
                                {
                                    "0": "The Good Mother",
                                    "1": "Drama",
                                    "2": "9772655"
                                },
                                {
                                    "0": "Beaches",
                                    "1": "Drama",
                                    "2": "120381757"
                                },
                                {
                                    "0": "New York Stories",
                                    "1": "Drama",
                                    "2": "22740861"
                                },
                                {
                                    "0": "Dead Poets Society",
                                    "1": "Drama",
                                    "2": "202531517"
                                },
                                {
                                    "0": "An Innocent Man",
                                    "1": "Drama",
                                    "2": "40983414"
                                },
                                {
                                    "0": "Gross Anatomy",
                                    "1": "Drama",
                                    "2": "23972012"
                                },
                                {
                                    "0": "Blaze",
                                    "1": "Drama",
                                    "2": "39884640"
                                },
                                {
                                    "0": "Stella",
                                    "1": "Drama",
                                    "2": "40077147"
                                },
                                {
                                    "0": "Wild Hearts Can't Be Broken",
                                    "1": "Drama",
                                    "2": "14617333"
                                },
                                {
                                    "0": "The Doctor",
                                    "1": "Drama",
                                    "2": "75084021"
                                },
                                {
                                    "0": "Paradise",
                                    "1": "Drama",
                                    "2": "37313540"
                                },
                                {
                                    "0": "Billy Bathgate",
                                    "1": "Drama",
                                    "2": "31167691"
                                },
                                {
                                    "0": "Medicine Man",
                                    "1": "Drama",
                                    "2": "91304495"
                                },
                                {
                                    "0": "A Stranger Among Us",
                                    "1": "Drama",
                                    "2": "24950752"
                                },
                                {
                                    "0": "Sarafina!",
                                    "1": "Drama",
                                    "2": "14841352"
                                },
                                {
                                    "0": "Consenting Adults",
                                    "1": "Drama",
                                    "2": "43859823"
                                },
                                {
                                    "0": "What's Love Got to Do With It",
                                    "1": "Drama",
                                    "2": "79618610"
                                },
                                {
                                    "0": "The Joy Luck Club",
                                    "1": "Drama",
                                    "2": "66768171"
                                },
                                {
                                    "0": "Iron Will",
                                    "1": "Drama",
                                    "2": "42610902"
                                },
                                {
                                    "0": "When a Man Loves a Woman",
                                    "1": "Drama",
                                    "2": "103354194"
                                },
                                {
                                    "0": "A Simple Twist of Fate",
                                    "1": "Drama",
                                    "2": "7035189"
                                },
                                {
                                    "0": "Quiz Show",
                                    "1": "Drama",
                                    "2": "50840394"
                                },
                                {
                                    "0": "Squanto: A Warrior's Tale",
                                    "1": "Drama",
                                    "2": "6858345"
                                },
                                {
                                    "0": "Jefferson in Paris",
                                    "1": "Drama",
                                    "2": "4770461"
                                },
                                {
                                    "0": "Mad Love",
                                    "1": "Drama",
                                    "2": "29934306"
                                },
                                {
                                    "0": "Dangerous Minds",
                                    "1": "Drama",
                                    "2": "164552293"
                                },
                                {
                                    "0": "Unstrung Heroes",
                                    "1": "Drama",
                                    "2": "15365850"
                                },
                                {
                                    "0": "Dead Presidents",
                                    "1": "Drama",
                                    "2": "46741467"
                                },
                                {
                                    "0": "The Scarlet Letter",
                                    "1": "Drama",
                                    "2": "20075033"
                                },
                                {
                                    "0": "Feast of July",
                                    "1": "Drama",
                                    "2": "568342"
                                },
                                {
                                    "0": "Powder",
                                    "1": "Drama",
                                    "2": "59727216"
                                },
                                {
                                    "0": "Nixon",
                                    "1": "Drama",
                                    "2": "26302005"
                                },
                                {
                                    "0": "Mr. Holland's Opus",
                                    "1": "Drama",
                                    "2": "157508868"
                                },
                                {
                                    "0": "Before and After",
                                    "1": "Drama",
                                    "2": "16482589"
                                },
                                {
                                    "0": "Up Close & Personal",
                                    "1": "Drama",
                                    "2": "97356578"
                                },
                                {
                                    "0": "Last Dance",
                                    "1": "Drama",
                                    "2": "11171714"
                                },
                                {
                                    "0": "Boys",
                                    "1": "Drama",
                                    "2": "41826566"
                                },
                                {
                                    "0": "Phenomenon",
                                    "1": "Drama",
                                    "2": "199559799"
                                },
                                {
                                    "0": "Jack",
                                    "1": "Drama",
                                    "2": "111792852"
                                },
                                {
                                    "0": "The Preacher's Wife",
                                    "1": "Drama",
                                    "2": "91076877"
                                },
                                {
                                    "0": "Prefontaine",
                                    "1": "Drama",
                                    "2": "1085093"
                                },
                                {
                                    "0": "G.I. Jane",
                                    "1": "Drama",
                                    "2": "88467531"
                                },
                                {
                                    "0": "A Thousand Acres",
                                    "1": "Drama",
                                    "2": "14561324"
                                },
                                {
                                    "0": "Washington Square",
                                    "1": "Drama",
                                    "2": "3257546"
                                },
                                {
                                    "0": "Kundun",
                                    "1": "Drama",
                                    "2": "10236836"
                                },
                                {
                                    "0": "He Got Game",
                                    "1": "Drama",
                                    "2": "38766948"
                                },
                                {
                                    "0": "The Horse Whisperer",
                                    "1": "Drama",
                                    "2": "135497531"
                                },
                                {
                                    "0": "Firelight",
                                    "1": "Drama",
                                    "2": "1409943"
                                },
                                {
                                    "0": "Simon Birch",
                                    "1": "Drama",
                                    "2": "32809442"
                                },
                                {
                                    "0": "Beloved",
                                    "1": "Drama",
                                    "2": "41062682"
                                },
                                {
                                    "0": "A Civil Action",
                                    "1": "Drama",
                                    "2": "94139530"
                                },
                                {
                                    "0": "Instinct",
                                    "1": "Drama",
                                    "2": "56595842"
                                },
                                {
                                    "0": "Summer of Sam",
                                    "1": "Drama",
                                    "2": "32007656"
                                },
                                {
                                    "0": "The Straight Story",
                                    "1": "Drama",
                                    "2": "10111144"
                                },
                                {
                                    "0": "The Insider",
                                    "1": "Drama",
                                    "2": "47794214"
                                },
                                {
                                    "0": "Cradle Will Rock",
                                    "1": "Drama",
                                    "2": "4609153"
                                },
                                {
                                    "0": "Bicentennial Man",
                                    "1": "Drama",
                                    "2": "94838225"
                                },
                                {
                                    "0": "Coyote Ugly",
                                    "1": "Drama",
                                    "2": "95070168"
                                },
                                {
                                    "0": "Duets",
                                    "1": "Drama",
                                    "2": "7404372"
                                },
                                {
                                    "0": "Remember the Titans",
                                    "1": "Drama",
                                    "2": "180742479"
                                },
                                {
                                    "0": "crazy/beautiful",
                                    "1": "Drama",
                                    "2": "25214223"
                                },
                                {
                                    "0": "The Count of Monte Cristo",
                                    "1": "Drama",
                                    "2": "78682079"
                                },
                                {
                                    "0": "The Rookie",
                                    "1": "Drama",
                                    "2": "109691666"
                                },
                                {
                                    "0": "Moonlight Mile",
                                    "1": "Drama",
                                    "2": "9909094"
                                },
                                {
                                    "0": "Tuck Everlasting",
                                    "1": "Drama",
                                    "2": "27789959"
                                },
                                {
                                    "0": "25th Hour",
                                    "1": "Drama",
                                    "2": "18325463"
                                },
                                {
                                    "0": "Holes",
                                    "1": "Drama",
                                    "2": "94203395"
                                },
                                {
                                    "0": "Veronica Guerin",
                                    "1": "Drama",
                                    "2": "2194759"
                                },
                                {
                                    "0": "Miracle",
                                    "1": "Drama",
                                    "2": "87392478"
                                },
                                {
                                    "0": "The Greatest Game Ever Played",
                                    "1": "Drama",
                                    "2": "20162672"
                                },
                                {
                                    "0": "Shopgirl",
                                    "1": "Drama",
                                    "2": "13519621"
                                },
                                {
                                    "0": "Casanova",
                                    "1": "Drama",
                                    "2": "14574087"
                                },
                                {
                                    "0": "Glory Road",
                                    "1": "Drama",
                                    "2": "54888236"
                                },
                                {
                                    "0": "Annapolis",
                                    "1": "Drama",
                                    "2": "22044113"
                                },
                                {
                                    "0": "Goal! The Dream Begins",
                                    "1": "Drama",
                                    "2": "5512647"
                                },
                                {
                                    "0": "Step Up",
                                    "1": "Drama",
                                    "2": "84078780"
                                },
                                {
                                    "0": "Invincible",
                                    "1": "Drama",
                                    "2": "74398864"
                                },
                                {
                                    "0": "Bridge to Terabithia",
                                    "1": "Drama",
                                    "2": "100760721"
                                },
                                {
                                    "0": "The Lookout",
                                    "1": "Drama",
                                    "2": "5637048"
                                },
                                {
                                    "0": "The Hoax",
                                    "1": "Drama",
                                    "2": "8779196"
                                },
                                {
                                    "0": "Step Up 2 the Streets",
                                    "1": "Drama",
                                    "2": "68118371"
                                },
                                {
                                    "0": "Goal! 2: Living the Dream...",
                                    "1": "Drama",
                                    "2": "264247"
                                },
                                {
                                    "0": "Miracle at St. Anna",
                                    "1": "Drama",
                                    "2": "9295171"
                                },
                                {
                                    "0": "Hannah Montana the Movie",
                                    "1": "Drama",
                                    "2": "89443640"
                                },
                                {
                                    "0": "Disney's A Christmas Carol",
                                    "1": "Drama",
                                    "2": "154927105"
                                },
                                {
                                    "0": "The Last Song",
                                    "1": "Drama",
                                    "2": "67258772"
                                },
                                {
                                    "0": "Step Up 3D",
                                    "1": "Drama",
                                    "2": "45302137"
                                },
                                {
                                    "0": "Secretariat",
                                    "1": "Drama",
                                    "2": "63781920"
                                },
                                {
                                    "0": "The Help",
                                    "1": "Drama",
                                    "2": "180404976"
                                },
                                {
                                    "0": "War Horse",
                                    "1": "Drama",
                                    "2": "84762149"
                                },
                                {
                                    "0": "People Like Us",
                                    "1": "Drama",
                                    "2": "13165822"
                                },
                                {
                                    "0": "The Odd Life of Timothy Green",
                                    "1": "Drama",
                                    "2": "54914942"
                                },
                                {
                                    "0": "Lincoln",
                                    "1": "Drama",
                                    "2": "192122330"
                                },
                                {
                                    "0": "The Fifth Estate",
                                    "1": "Drama",
                                    "2": "3374251"
                                },
                                {
                                    "0": "Kaze Tachinu",
                                    "1": "Drama",
                                    "2": "5367415"
                                },
                                {
                                    "0": "Saving Mr. Banks",
                                    "1": "Drama",
                                    "2": "86249969"
                                },
                                {
                                    "0": "Million Dollar Arm",
                                    "1": "Drama",
                                    "2": "37607865"
                                },
                                {
                                    "0": "McFarland, USA",
                                    "1": "Drama",
                                    "2": "44480275"
                                },
                                {
                                    "0": "Cinderella",
                                    "1": "Drama",
                                    "2": "201151353"
                                },
                                {
                                    "0": "The Light Between Oceans",
                                    "1": "Drama",
                                    "2": "12545979"
                                },
                                {
                                    "0": "Queen of Katwe",
                                    "1": "Drama",
                                    "2": "8874389"
                                }
                            ]
                        },
                        "text/html": "<table><tr><th>movie_title</th><th>genre</th><th>inflation_adjusted_gross</th></tr><tr><td>Cinderella</td><td>Drama</td><td>920608730</td></tr><tr><td>Lady and the Tramp</td><td>Drama</td><td>1236035515</td></tr><tr><td>Sleeping Beauty</td><td>Drama</td><td>21505832</td></tr><tr><td>Amy</td><td>Drama</td><td>0</td></tr><tr><td>Night Crossing</td><td>Drama</td><td>12903059</td></tr><tr><td>Tex</td><td>Drama</td><td>20643199</td></tr><tr><td>Never Cry Wolf</td><td>Drama</td><td>70669955</td></tr><tr><td>Running Brave</td><td>Drama</td><td>3223725</td></tr><tr><td>Country</td><td>Drama</td><td>21075000</td></tr><tr><td>The Journey of Natty Gann</td><td>Drama</td><td>22302956</td></tr><tr><td>One Magic Christmas</td><td>Drama</td><td>31415432</td></tr><tr><td>The Color of Money</td><td>Drama</td><td>117957323</td></tr><tr><td>Cocktail</td><td>Drama</td><td>160442289</td></tr><tr><td>The Good Mother</td><td>Drama</td><td>9772655</td></tr><tr><td>Beaches</td><td>Drama</td><td>120381757</td></tr><tr><td>New York Stories</td><td>Drama</td><td>22740861</td></tr><tr><td>Dead Poets Society</td><td>Drama</td><td>202531517</td></tr><tr><td>An Innocent Man</td><td>Drama</td><td>40983414</td></tr><tr><td>Gross Anatomy</td><td>Drama</td><td>23972012</td></tr><tr><td>Blaze</td><td>Drama</td><td>39884640</td></tr><tr><td>Stella</td><td>Drama</td><td>40077147</td></tr><tr><td>Wild Hearts Can't Be Broken</td><td>Drama</td><td>14617333</td></tr><tr><td>The Doctor</td><td>Drama</td><td>75084021</td></tr><tr><td>Paradise</td><td>Drama</td><td>37313540</td></tr><tr><td>Billy Bathgate</td><td>Drama</td><td>31167691</td></tr><tr><td>Medicine Man</td><td>Drama</td><td>91304495</td></tr><tr><td>A Stranger Among Us</td><td>Drama</td><td>24950752</td></tr><tr><td>Sarafina!</td><td>Drama</td><td>14841352</td></tr><tr><td>Consenting Adults</td><td>Drama</td><td>43859823</td></tr><tr><td>What's Love Got to Do With It</td><td>Drama</td><td>79618610</td></tr><tr><td>The Joy Luck Club</td><td>Drama</td><td>66768171</td></tr><tr><td>Iron Will</td><td>Drama</td><td>42610902</td></tr><tr><td>When a Man Loves a Woman</td><td>Drama</td><td>103354194</td></tr><tr><td>A Simple Twist of Fate</td><td>Drama</td><td>7035189</td></tr><tr><td>Quiz Show</td><td>Drama</td><td>50840394</td></tr><tr><td>Squanto: A Warrior's Tale</td><td>Drama</td><td>6858345</td></tr><tr><td>Jefferson in Paris</td><td>Drama</td><td>4770461</td></tr><tr><td>Mad Love</td><td>Drama</td><td>29934306</td></tr><tr><td>Dangerous Minds</td><td>Drama</td><td>164552293</td></tr><tr><td>Unstrung Heroes</td><td>Drama</td><td>15365850</td></tr><tr><td>Dead Presidents</td><td>Drama</td><td>46741467</td></tr><tr><td>The Scarlet Letter</td><td>Drama</td><td>20075033</td></tr><tr><td>Feast of July</td><td>Drama</td><td>568342</td></tr><tr><td>Powder</td><td>Drama</td><td>59727216</td></tr><tr><td>Nixon</td><td>Drama</td><td>26302005</td></tr><tr><td>Mr. Holland's Opus</td><td>Drama</td><td>157508868</td></tr><tr><td>Before and After</td><td>Drama</td><td>16482589</td></tr><tr><td>Up Close &amp; Personal</td><td>Drama</td><td>97356578</td></tr><tr><td>Last Dance</td><td>Drama</td><td>11171714</td></tr><tr><td>Boys</td><td>Drama</td><td>41826566</td></tr><tr><td>Phenomenon</td><td>Drama</td><td>199559799</td></tr><tr><td>Jack</td><td>Drama</td><td>111792852</td></tr><tr><td>The Preacher's Wife</td><td>Drama</td><td>91076877</td></tr><tr><td>Prefontaine</td><td>Drama</td><td>1085093</td></tr><tr><td>G.I. Jane</td><td>Drama</td><td>88467531</td></tr><tr><td>A Thousand Acres</td><td>Drama</td><td>14561324</td></tr><tr><td>Washington Square</td><td>Drama</td><td>3257546</td></tr><tr><td>Kundun</td><td>Drama</td><td>10236836</td></tr><tr><td>He Got Game</td><td>Drama</td><td>38766948</td></tr><tr><td>The Horse Whisperer</td><td>Drama</td><td>135497531</td></tr><tr><td>Firelight</td><td>Drama</td><td>1409943</td></tr><tr><td>Simon Birch</td><td>Drama</td><td>32809442</td></tr><tr><td>Beloved</td><td>Drama</td><td>41062682</td></tr><tr><td>A Civil Action</td><td>Drama</td><td>94139530</td></tr><tr><td>Instinct</td><td>Drama</td><td>56595842</td></tr><tr><td>Summer of Sam</td><td>Drama</td><td>32007656</td></tr><tr><td>The Straight Story</td><td>Drama</td><td>10111144</td></tr><tr><td>The Insider</td><td>Drama</td><td>47794214</td></tr><tr><td>Cradle Will Rock</td><td>Drama</td><td>4609153</td></tr><tr><td>Bicentennial Man</td><td>Drama</td><td>94838225</td></tr><tr><td>Coyote Ugly</td><td>Drama</td><td>95070168</td></tr><tr><td>Duets</td><td>Drama</td><td>7404372</td></tr><tr><td>Remember the Titans</td><td>Drama</td><td>180742479</td></tr><tr><td>crazy/beautiful</td><td>Drama</td><td>25214223</td></tr><tr><td>The Count of Monte Cristo</td><td>Drama</td><td>78682079</td></tr><tr><td>The Rookie</td><td>Drama</td><td>109691666</td></tr><tr><td>Moonlight Mile</td><td>Drama</td><td>9909094</td></tr><tr><td>Tuck Everlasting</td><td>Drama</td><td>27789959</td></tr><tr><td>25th Hour</td><td>Drama</td><td>18325463</td></tr><tr><td>Holes</td><td>Drama</td><td>94203395</td></tr><tr><td>Veronica Guerin</td><td>Drama</td><td>2194759</td></tr><tr><td>Miracle</td><td>Drama</td><td>87392478</td></tr><tr><td>The Greatest Game Ever Played</td><td>Drama</td><td>20162672</td></tr><tr><td>Shopgirl</td><td>Drama</td><td>13519621</td></tr><tr><td>Casanova</td><td>Drama</td><td>14574087</td></tr><tr><td>Glory Road</td><td>Drama</td><td>54888236</td></tr><tr><td>Annapolis</td><td>Drama</td><td>22044113</td></tr><tr><td>Goal! The Dream Begins</td><td>Drama</td><td>5512647</td></tr><tr><td>Step Up</td><td>Drama</td><td>84078780</td></tr><tr><td>Invincible</td><td>Drama</td><td>74398864</td></tr><tr><td>Bridge to Terabithia</td><td>Drama</td><td>100760721</td></tr><tr><td>The Lookout</td><td>Drama</td><td>5637048</td></tr><tr><td>The Hoax</td><td>Drama</td><td>8779196</td></tr><tr><td>Step Up 2 the Streets</td><td>Drama</td><td>68118371</td></tr><tr><td>Goal! 2: Living the Dream...</td><td>Drama</td><td>264247</td></tr><tr><td>Miracle at St. Anna</td><td>Drama</td><td>9295171</td></tr><tr><td>Hannah Montana the Movie</td><td>Drama</td><td>89443640</td></tr><tr><td>Disney's A Christmas Carol</td><td>Drama</td><td>154927105</td></tr><tr><td>The Last Song</td><td>Drama</td><td>67258772</td></tr><tr><td>Step Up 3D</td><td>Drama</td><td>45302137</td></tr><tr><td>Secretariat</td><td>Drama</td><td>63781920</td></tr><tr><td>The Help</td><td>Drama</td><td>180404976</td></tr><tr><td>War Horse</td><td>Drama</td><td>84762149</td></tr><tr><td>People Like Us</td><td>Drama</td><td>13165822</td></tr><tr><td>The Odd Life of Timothy Green</td><td>Drama</td><td>54914942</td></tr><tr><td>Lincoln</td><td>Drama</td><td>192122330</td></tr><tr><td>The Fifth Estate</td><td>Drama</td><td>3374251</td></tr><tr><td>Kaze Tachinu</td><td>Drama</td><td>5367415</td></tr><tr><td>Saving Mr. Banks</td><td>Drama</td><td>86249969</td></tr><tr><td>Million Dollar Arm</td><td>Drama</td><td>37607865</td></tr><tr><td>McFarland, USA</td><td>Drama</td><td>44480275</td></tr><tr><td>Cinderella</td><td>Drama</td><td>201151353</td></tr><tr><td>The Light Between Oceans</td><td>Drama</td><td>12545979</td></tr><tr><td>Queen of Katwe</td><td>Drama</td><td>8874389</td></tr></table>"
                    },
                    "metadata": {}
                }
            ],
            "execution_count": 1
        },
        {
            "cell_type": "code",
            "source": "select sum(inflation_adjusted_gross) from movie_gross",
            "metadata": {},
            "outputs": [],
            "execution_count": 2
        },
        {
            "cell_type": "code",
            "source": [
                "select sum(inflation_adjusted_gross) as [total gross], \n",
                "    count(*) no_movies\n",
                "    from movie_gross"
            ],
            "metadata": {},
            "outputs": [],
            "execution_count": 3
        },
        {
            "cell_type": "code",
            "source": [
                "select \n",
                "    count(*) no_movies,\n",
                "    sum(inflation_adjusted_gross) as [total gross], \n",
                "    avg(inflation_adjusted_gross) avg_gross,\n",
                "    min(inflation_adjusted_gross) min_gross,\n",
                "    max(inflation_adjusted_gross) max_gross\n",
                "    from movie_gross"
            ],
            "metadata": {},
            "outputs": [],
            "execution_count": 4
        },
        {
            "cell_type": "code",
            "source": [
                "select genre, \n",
                "    count(*) no_movies,\n",
                "    sum(inflation_adjusted_gross) [total gross],\n",
                "    avg(inflation_adjusted_gross) [avg gross]\n",
                "    from movie_gross\n",
                "    group by genre\n",
                "    order by sum(inflation_adjusted_gross) desc"
            ],
            "metadata": {},
            "outputs": [],
            "execution_count": 5
        },
        {
            "cell_type": "code",
            "source": [
                "select genre, datepart(year, release_date) year,\n",
                "    count(*) no_movies,\n",
                "    sum(inflation_adjusted_gross) [total gross],\n",
                "    avg(inflation_adjusted_gross) [avg gross]\n",
                "    from movie_gross\n",
                "    group by genre, datepart(year, release_date)\n",
                "    order by genre,  datepart(year, release_date)"
            ],
            "metadata": {},
            "outputs": [],
            "execution_count": 6
        },
        {
            "cell_type": "code",
            "source": [
                "select genre, datepart(year, release_date) year, mpaa_rating,\n",
                "    count(*) no_movies,\n",
                "    sum(inflation_adjusted_gross) [total gross],\n",
                "    avg(inflation_adjusted_gross) [avg gross]\n",
                "    from movie_gross\n",
                "    group by mpaa_rating, genre, datepart(year, release_date)\n",
                "    order by genre,  datepart(year, release_date)"
            ],
            "metadata": {},
            "outputs": [],
            "execution_count": 7
        },
        {
            "cell_type": "code",
            "source": [
                "select genre, \n",
                "    count(*) no_movies,\n",
                "    sum(inflation_adjusted_gross) [total gross],\n",
                "    avg(inflation_adjusted_gross) [avg gross]\n",
                "    from movie_gross\n",
                "    where genre in ('Adventure', 'Drama')\n",
                "    group by genre\n",
                "    having count(*) > 100\n",
                "    order by sum(inflation_adjusted_gross) desc"
            ],
            "metadata": {},
            "outputs": [],
            "execution_count": 8
        },
        {
            "cell_type": "code",
            "source": [
                "SELECT * from movie_gross\n",
                "    where genre in ('Adventure', 'Drama')\n",
                " "
            ],
            "metadata": {},
            "outputs": [],
            "execution_count": 9
        }
    ]
}