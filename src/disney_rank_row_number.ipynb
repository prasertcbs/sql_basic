{
    "metadata": {
        "kernelspec": {
            "name": "SQL",
            "display_name": "SQL",
            "language": "sql"
        },
        "language_info": {
            "name": "sql",
            "version": ""
        }
    },
    "nbformat_minor": 2,
    "nbformat": 4,
    "cells": [
        {
            "cell_type": "markdown",
            "source": [
                "# RANK(), DENSE_RANK(), ROW_NUMBER()\n",
                "https://docs.microsoft.com/en-us/sql/t-sql/functions/rank-transact-sql?view=sql-server-2017\n",
                "## Server: Microsoft SQL Server\n",
                "## Database: disney\n",
                "## Author: Prasert Kanawattanachai\n",
                "## YouTube: https://youtu.be/sdxfVjvmyEs\n",
                ""
            ],
            "metadata": {}
        },
        {
            "cell_type": "code",
            "source": [
                "SELECT * from movie_gross\n",
                "    where year(release_date) > 2010"
            ],
            "metadata": {},
            "outputs": [
                {
                    "output_type": "display_data",
                    "data": {
                        "text/html": "(72 rows affected)"
                    },
                    "metadata": {}
                },
                {
                    "output_type": "display_data",
                    "data": {
                        "text/html": "Total execution time: 00:00:00.073"
                    },
                    "metadata": {}
                },
                {
                    "output_type": "execute_result",
                    "execution_count": 1,
                    "data": {
                        "application/vnd.dataresource+json": {
                            "schema": {
                                "fields": [
                                    {
                                        "name": "movie_title"
                                    },
                                    {
                                        "name": "release_date"
                                    },
                                    {
                                        "name": "genre"
                                    },
                                    {
                                        "name": "mpaa_rating"
                                    },
                                    {
                                        "name": "total_gross"
                                    },
                                    {
                                        "name": "inflation_adjusted_gross"
                                    }
                                ]
                            },
                            "data": [
                                {
                                    "0": "Gnomeo and Juliet",
                                    "1": "2011-02-11",
                                    "2": "Comedy",
                                    "3": "G",
                                    "4": "99967670",
                                    "5": "106270797"
                                },
                                {
                                    "0": "I am Number Four",
                                    "1": "2011-02-18",
                                    "2": "Adventure",
                                    "3": "PG-13",
                                    "4": "55100437",
                                    "5": "58574607"
                                },
                                {
                                    "0": "Mars Needs Moms",
                                    "1": "2011-03-11",
                                    "2": "Adventure",
                                    "3": "PG",
                                    "4": "21392758",
                                    "5": "22741603"
                                },
                                {
                                    "0": "African Cats",
                                    "1": "2011-04-22",
                                    "2": "Documentary",
                                    "3": "G",
                                    "4": "15428747",
                                    "5": "16401551"
                                },
                                {
                                    "0": "Zokkomon",
                                    "1": "2011-04-22",
                                    "2": "Adventure",
                                    "3": "PG",
                                    "4": "2815",
                                    "5": "2984"
                                },
                                {
                                    "0": "Prom",
                                    "1": "2011-04-29",
                                    "2": "Comedy",
                                    "3": "PG",
                                    "4": "10130219",
                                    "5": "10768946"
                                },
                                {
                                    "0": "Pirates of the Caribbean: On Stranger…",
                                    "1": "2011-05-20",
                                    "2": "Adventure",
                                    "3": "PG-13",
                                    "4": "241063875",
                                    "5": "256263359"
                                },
                                {
                                    "0": "Cars 2",
                                    "1": "2011-06-24",
                                    "2": "Adventure",
                                    "3": "G",
                                    "4": "191450875",
                                    "5": "203522177"
                                },
                                {
                                    "0": "Winnie the Pooh",
                                    "1": "2011-07-15",
                                    "2": "Adventure",
                                    "3": "G",
                                    "4": "26692846",
                                    "5": "28375869"
                                },
                                {
                                    "0": "The Help",
                                    "1": "2011-08-10",
                                    "2": "Drama",
                                    "3": "PG-13",
                                    "4": "169705587",
                                    "5": "180404976"
                                },
                                {
                                    "0": "Fright Night",
                                    "1": "2011-08-19",
                                    "2": "Horror",
                                    "3": "R",
                                    "4": "18298649",
                                    "5": "19452402"
                                },
                                {
                                    "0": "Real Steel",
                                    "1": "2011-10-07",
                                    "2": "Action",
                                    "3": "PG-13",
                                    "4": "85463309",
                                    "5": "90848019"
                                },
                                {
                                    "0": "The Muppets",
                                    "1": "2011-11-23",
                                    "2": "Comedy",
                                    "3": "PG",
                                    "4": "88625922",
                                    "5": "94189503"
                                },
                                {
                                    "0": "War Horse",
                                    "1": "2011-12-25",
                                    "2": "Drama",
                                    "3": "PG-13",
                                    "4": "79883359",
                                    "5": "84762149"
                                },
                                {
                                    "0": "The Secret World of Arietty",
                                    "1": "2012-02-17",
                                    "2": "Adventure",
                                    "3": "G",
                                    "4": "19192510",
                                    "5": "20325733"
                                },
                                {
                                    "0": "John Carter",
                                    "1": "2012-03-09",
                                    "2": "Adventure",
                                    "3": "PG-13",
                                    "4": "73058679",
                                    "5": "77372445"
                                },
                                {
                                    "0": "Chimpanzee",
                                    "1": "2012-04-20",
                                    "2": "Documentary",
                                    "3": "G",
                                    "4": "28965459",
                                    "5": "30675725"
                                },
                                {
                                    "0": "The Avengers",
                                    "1": "2012-05-04",
                                    "2": "Action",
                                    "3": "PG-13",
                                    "4": "623279547",
                                    "5": "660081224"
                                },
                                {
                                    "0": "Brave",
                                    "1": "2012-06-22",
                                    "2": "Adventure",
                                    "3": "PG",
                                    "4": "237282182",
                                    "5": "251292441"
                                },
                                {
                                    "0": "People Like Us",
                                    "1": "2012-06-29",
                                    "2": "Drama",
                                    "3": "PG-13",
                                    "4": "12431792",
                                    "5": "13165822"
                                },
                                {
                                    "0": "The Odd Life of Timothy Green",
                                    "1": "2012-08-15",
                                    "2": "Drama",
                                    "3": "PG",
                                    "4": "51853450",
                                    "5": "54914942"
                                },
                                {
                                    "0": "Frankenweenie",
                                    "1": "2012-10-05",
                                    "2": "Comedy",
                                    "3": "PG",
                                    "4": "35287788",
                                    "5": "37363513"
                                },
                                {
                                    "0": "Wreck-It Ralph",
                                    "1": "2012-11-02",
                                    "2": "Adventure",
                                    "3": "PG",
                                    "4": "189412677",
                                    "5": "200354959"
                                },
                                {
                                    "0": "Lincoln",
                                    "1": "2012-11-09",
                                    "2": "Drama",
                                    "3": "PG-13",
                                    "4": "182207973",
                                    "5": "192122330"
                                },
                                {
                                    "0": "Oz the Great and Powerful",
                                    "1": "2013-03-08",
                                    "2": "Adventure",
                                    "3": "PG",
                                    "4": "234770996",
                                    "5": "243434130"
                                },
                                {
                                    "0": "Iron Man 3",
                                    "1": "2013-05-03",
                                    "2": "Action",
                                    "3": "PG-13",
                                    "4": "408992272",
                                    "5": "424084233"
                                },
                                {
                                    "0": "Monsters University",
                                    "1": "2013-06-21",
                                    "2": "Adventure",
                                    "3": "G",
                                    "4": "268488329",
                                    "5": "278395641"
                                },
                                {
                                    "0": "The Lone Ranger",
                                    "1": "2013-07-02",
                                    "2": "Western",
                                    "3": "PG-13",
                                    "4": "89302115",
                                    "5": "92597388"
                                },
                                {
                                    "0": "Disney Planes",
                                    "1": "2013-08-09",
                                    "2": "Comedy",
                                    "3": "PG",
                                    "4": "90282580",
                                    "5": "93614037"
                                },
                                {
                                    "0": "The Fifth Estate",
                                    "1": "2013-10-18",
                                    "2": "Drama",
                                    "3": "R",
                                    "4": "3254172",
                                    "5": "3374251"
                                },
                                {
                                    "0": "Thor: The Dark World",
                                    "1": "2013-11-08",
                                    "2": "Adventure",
                                    "3": "PG-13",
                                    "4": "206362140",
                                    "5": "213962184"
                                },
                                {
                                    "0": "Kaze Tachinu",
                                    "1": "2013-11-08",
                                    "2": "Drama",
                                    "3": "PG-13",
                                    "4": "5201879",
                                    "5": "5367415"
                                },
                                {
                                    "0": "Frozen",
                                    "1": "2013-11-22",
                                    "2": "Adventure",
                                    "3": "PG",
                                    "4": "400738009",
                                    "5": "414997174"
                                },
                                {
                                    "0": "Delivery Man",
                                    "1": "2013-11-22",
                                    "2": "Comedy",
                                    "3": "PG-13",
                                    "4": "30659817",
                                    "5": "31787136"
                                },
                                {
                                    "0": "Saving Mr. Banks",
                                    "1": "2013-12-13",
                                    "2": "Drama",
                                    "3": "PG-13",
                                    "4": "83299761",
                                    "5": "86249969"
                                },
                                {
                                    "0": "Need for Speed",
                                    "1": "2014-03-14",
                                    "2": "Action",
                                    "3": "PG-13",
                                    "4": "43568507",
                                    "5": "44955015"
                                },
                                {
                                    "0": "Muppets Most Wanted",
                                    "1": "2014-03-21",
                                    "2": "Comedy",
                                    "3": "PG",
                                    "4": "51178893",
                                    "5": "52807594"
                                },
                                {
                                    "0": "Captain America: The Winter Soldier",
                                    "1": "2014-04-04",
                                    "2": "Action",
                                    "3": "PG-13",
                                    "4": "259746958",
                                    "5": "268013076"
                                },
                                {
                                    "0": "Bears",
                                    "1": "2014-04-18",
                                    "2": "Documentary",
                                    "3": "G",
                                    "4": "17780194",
                                    "5": "18346024"
                                },
                                {
                                    "0": "Million Dollar Arm",
                                    "1": "2014-05-10",
                                    "2": "Drama",
                                    "3": "PG",
                                    "4": "36447959",
                                    "5": "37607865"
                                },
                                {
                                    "0": "Maleficent",
                                    "1": "2014-05-30",
                                    "2": "Adventure",
                                    "3": "PG",
                                    "4": "241407328",
                                    "5": "249089809"
                                },
                                {
                                    "0": "Planes: Fire and Rescue",
                                    "1": "2014-07-18",
                                    "2": "Adventure",
                                    "3": "PG",
                                    "4": "59157732",
                                    "5": "61040349"
                                },
                                {
                                    "0": "Guardians of the Galaxy",
                                    "1": "2014-08-01",
                                    "2": "Adventure",
                                    "3": "PG-13",
                                    "4": "333172112",
                                    "5": "343771168"
                                },
                                {
                                    "0": "The Hundred-Foot Journey",
                                    "1": "2014-08-08",
                                    "2": "Romantic Comedy",
                                    "3": "PG",
                                    "4": "54235441",
                                    "5": "55961409"
                                },
                                {
                                    "0": "Alexander and the Terrible, Horrible,…",
                                    "1": "2014-10-10",
                                    "2": "Comedy",
                                    "3": "PG",
                                    "4": "66954149",
                                    "5": "69055550"
                                },
                                {
                                    "0": "Big Hero 6",
                                    "1": "2014-11-07",
                                    "2": "Adventure",
                                    "3": "PG",
                                    "4": "222527828",
                                    "5": "229249222"
                                },
                                {
                                    "0": "Into the Woods",
                                    "1": "2014-12-25",
                                    "2": "Musical",
                                    "3": "PG",
                                    "4": "128002372",
                                    "5": "130894237"
                                },
                                {
                                    "0": "Strange Magic",
                                    "1": "2015-01-23",
                                    "2": "Adventure",
                                    "3": "PG",
                                    "4": "12429583",
                                    "5": "12429583"
                                },
                                {
                                    "0": "McFarland, USA",
                                    "1": "2015-02-20",
                                    "2": "Drama",
                                    "3": "PG",
                                    "4": "44480275",
                                    "5": "44480275"
                                },
                                {
                                    "0": "Cinderella",
                                    "1": "2015-03-13",
                                    "2": "Drama",
                                    "3": "PG",
                                    "4": "201151353",
                                    "5": "201151353"
                                },
                                {
                                    "0": "Monkey Kingdom",
                                    "1": "2015-04-17",
                                    "2": "Documentary",
                                    "3": "G",
                                    "4": "16432322",
                                    "5": "16432322"
                                },
                                {
                                    "0": "Avengers: Age of Ultron",
                                    "1": "2015-05-01",
                                    "2": "Action",
                                    "3": "PG-13",
                                    "4": "459005868",
                                    "5": "459005868"
                                },
                                {
                                    "0": "Tomorrowland",
                                    "1": "2015-05-22",
                                    "2": "Adventure",
                                    "3": "PG",
                                    "4": "93436322",
                                    "5": "93436322"
                                },
                                {
                                    "0": "Inside Out",
                                    "1": "2015-06-19",
                                    "2": "Adventure",
                                    "3": "PG",
                                    "4": "356461711",
                                    "5": "356461711"
                                },
                                {
                                    "0": "Ant-Man",
                                    "1": "2015-07-17",
                                    "2": "Action",
                                    "3": "PG-13",
                                    "4": "180202163",
                                    "5": "180202163"
                                },
                                {
                                    "0": "Bridge of Spies",
                                    "1": "2015-10-16",
                                    "2": "Thriller/Suspense",
                                    "3": "PG-13",
                                    "4": "72313754",
                                    "5": "72313754"
                                },
                                {
                                    "0": "The Good Dinosaur",
                                    "1": "2015-11-25",
                                    "2": "Adventure",
                                    "3": "PG",
                                    "4": "123087120",
                                    "5": "123087120"
                                },
                                {
                                    "0": "Star Wars Ep. VII: The Force Awakens",
                                    "1": "2015-12-18",
                                    "2": "Adventure",
                                    "3": "PG-13",
                                    "4": "936662225",
                                    "5": "936662225"
                                },
                                {
                                    "0": "The Finest Hours",
                                    "1": "2016-01-29",
                                    "2": "Thriller/Suspense",
                                    "3": "PG",
                                    "4": "27569558",
                                    "5": "27569558"
                                },
                                {
                                    "0": "Zootopia",
                                    "1": "2016-03-04",
                                    "2": "Adventure",
                                    "3": "PG",
                                    "4": "341268248",
                                    "5": "341268248"
                                },
                                {
                                    "0": "The Jungle Book",
                                    "1": "2016-04-15",
                                    "2": "Adventure",
                                    "3": "PG",
                                    "4": "364001123",
                                    "5": "364001123"
                                },
                                {
                                    "0": "A Beautiful Planet",
                                    "1": "2016-04-29",
                                    "2": "Documentary",
                                    "3": "G",
                                    "4": "7895708",
                                    "5": "7895708"
                                },
                                {
                                    "0": "Captain America: Civil War",
                                    "1": "2016-05-06",
                                    "2": "Action",
                                    "3": "PG-13",
                                    "4": "408084349",
                                    "5": "408084349"
                                },
                                {
                                    "0": "Alice Through the Looking Glass",
                                    "1": "2016-05-27",
                                    "2": "Adventure",
                                    "3": "PG",
                                    "4": "77042381",
                                    "5": "77042381"
                                },
                                {
                                    "0": "Finding Dory",
                                    "1": "2016-06-17",
                                    "2": "Adventure",
                                    "3": "PG",
                                    "4": "486295561",
                                    "5": "486295561"
                                },
                                {
                                    "0": "The BFG",
                                    "1": "2016-07-01",
                                    "2": "Adventure",
                                    "3": "PG",
                                    "4": "55483770",
                                    "5": "55483770"
                                },
                                {
                                    "0": "Pete’s Dragon",
                                    "1": "2016-08-12",
                                    "2": "Adventure",
                                    "3": "PG",
                                    "4": "76233151",
                                    "5": "76233151"
                                },
                                {
                                    "0": "The Light Between Oceans",
                                    "1": "2016-09-02",
                                    "2": "Drama",
                                    "3": "PG-13",
                                    "4": "12545979",
                                    "5": "12545979"
                                },
                                {
                                    "0": "Queen of Katwe",
                                    "1": "2016-09-23",
                                    "2": "Drama",
                                    "3": "PG",
                                    "4": "8874389",
                                    "5": "8874389"
                                },
                                {
                                    "0": "Doctor Strange",
                                    "1": "2016-11-04",
                                    "2": "Adventure",
                                    "3": "PG-13",
                                    "4": "232532923",
                                    "5": "232532923"
                                },
                                {
                                    "0": "Moana",
                                    "1": "2016-11-23",
                                    "2": "Adventure",
                                    "3": "PG",
                                    "4": "246082029",
                                    "5": "246082029"
                                },
                                {
                                    "0": "Rogue One: A Star Wars Story",
                                    "1": "2016-12-16",
                                    "2": "Adventure",
                                    "3": "PG-13",
                                    "4": "529483936",
                                    "5": "529483936"
                                }
                            ]
                        },
                        "text/html": "<table><tr><th>movie_title</th><th>release_date</th><th>genre</th><th>mpaa_rating</th><th>total_gross</th><th>inflation_adjusted_gross</th></tr><tr><td>Gnomeo and Juliet</td><td>2011-02-11</td><td>Comedy</td><td>G</td><td>99967670</td><td>106270797</td></tr><tr><td>I am Number Four</td><td>2011-02-18</td><td>Adventure</td><td>PG-13</td><td>55100437</td><td>58574607</td></tr><tr><td>Mars Needs Moms</td><td>2011-03-11</td><td>Adventure</td><td>PG</td><td>21392758</td><td>22741603</td></tr><tr><td>African Cats</td><td>2011-04-22</td><td>Documentary</td><td>G</td><td>15428747</td><td>16401551</td></tr><tr><td>Zokkomon</td><td>2011-04-22</td><td>Adventure</td><td>PG</td><td>2815</td><td>2984</td></tr><tr><td>Prom</td><td>2011-04-29</td><td>Comedy</td><td>PG</td><td>10130219</td><td>10768946</td></tr><tr><td>Pirates of the Caribbean: On Stranger…</td><td>2011-05-20</td><td>Adventure</td><td>PG-13</td><td>241063875</td><td>256263359</td></tr><tr><td>Cars 2</td><td>2011-06-24</td><td>Adventure</td><td>G</td><td>191450875</td><td>203522177</td></tr><tr><td>Winnie the Pooh</td><td>2011-07-15</td><td>Adventure</td><td>G</td><td>26692846</td><td>28375869</td></tr><tr><td>The Help</td><td>2011-08-10</td><td>Drama</td><td>PG-13</td><td>169705587</td><td>180404976</td></tr><tr><td>Fright Night</td><td>2011-08-19</td><td>Horror</td><td>R</td><td>18298649</td><td>19452402</td></tr><tr><td>Real Steel</td><td>2011-10-07</td><td>Action</td><td>PG-13</td><td>85463309</td><td>90848019</td></tr><tr><td>The Muppets</td><td>2011-11-23</td><td>Comedy</td><td>PG</td><td>88625922</td><td>94189503</td></tr><tr><td>War Horse</td><td>2011-12-25</td><td>Drama</td><td>PG-13</td><td>79883359</td><td>84762149</td></tr><tr><td>The Secret World of Arietty</td><td>2012-02-17</td><td>Adventure</td><td>G</td><td>19192510</td><td>20325733</td></tr><tr><td>John Carter</td><td>2012-03-09</td><td>Adventure</td><td>PG-13</td><td>73058679</td><td>77372445</td></tr><tr><td>Chimpanzee</td><td>2012-04-20</td><td>Documentary</td><td>G</td><td>28965459</td><td>30675725</td></tr><tr><td>The Avengers</td><td>2012-05-04</td><td>Action</td><td>PG-13</td><td>623279547</td><td>660081224</td></tr><tr><td>Brave</td><td>2012-06-22</td><td>Adventure</td><td>PG</td><td>237282182</td><td>251292441</td></tr><tr><td>People Like Us</td><td>2012-06-29</td><td>Drama</td><td>PG-13</td><td>12431792</td><td>13165822</td></tr><tr><td>The Odd Life of Timothy Green</td><td>2012-08-15</td><td>Drama</td><td>PG</td><td>51853450</td><td>54914942</td></tr><tr><td>Frankenweenie</td><td>2012-10-05</td><td>Comedy</td><td>PG</td><td>35287788</td><td>37363513</td></tr><tr><td>Wreck-It Ralph</td><td>2012-11-02</td><td>Adventure</td><td>PG</td><td>189412677</td><td>200354959</td></tr><tr><td>Lincoln</td><td>2012-11-09</td><td>Drama</td><td>PG-13</td><td>182207973</td><td>192122330</td></tr><tr><td>Oz the Great and Powerful</td><td>2013-03-08</td><td>Adventure</td><td>PG</td><td>234770996</td><td>243434130</td></tr><tr><td>Iron Man 3</td><td>2013-05-03</td><td>Action</td><td>PG-13</td><td>408992272</td><td>424084233</td></tr><tr><td>Monsters University</td><td>2013-06-21</td><td>Adventure</td><td>G</td><td>268488329</td><td>278395641</td></tr><tr><td>The Lone Ranger</td><td>2013-07-02</td><td>Western</td><td>PG-13</td><td>89302115</td><td>92597388</td></tr><tr><td>Disney Planes</td><td>2013-08-09</td><td>Comedy</td><td>PG</td><td>90282580</td><td>93614037</td></tr><tr><td>The Fifth Estate</td><td>2013-10-18</td><td>Drama</td><td>R</td><td>3254172</td><td>3374251</td></tr><tr><td>Thor: The Dark World</td><td>2013-11-08</td><td>Adventure</td><td>PG-13</td><td>206362140</td><td>213962184</td></tr><tr><td>Kaze Tachinu</td><td>2013-11-08</td><td>Drama</td><td>PG-13</td><td>5201879</td><td>5367415</td></tr><tr><td>Frozen</td><td>2013-11-22</td><td>Adventure</td><td>PG</td><td>400738009</td><td>414997174</td></tr><tr><td>Delivery Man</td><td>2013-11-22</td><td>Comedy</td><td>PG-13</td><td>30659817</td><td>31787136</td></tr><tr><td>Saving Mr. Banks</td><td>2013-12-13</td><td>Drama</td><td>PG-13</td><td>83299761</td><td>86249969</td></tr><tr><td>Need for Speed</td><td>2014-03-14</td><td>Action</td><td>PG-13</td><td>43568507</td><td>44955015</td></tr><tr><td>Muppets Most Wanted</td><td>2014-03-21</td><td>Comedy</td><td>PG</td><td>51178893</td><td>52807594</td></tr><tr><td>Captain America: The Winter Soldier</td><td>2014-04-04</td><td>Action</td><td>PG-13</td><td>259746958</td><td>268013076</td></tr><tr><td>Bears</td><td>2014-04-18</td><td>Documentary</td><td>G</td><td>17780194</td><td>18346024</td></tr><tr><td>Million Dollar Arm</td><td>2014-05-10</td><td>Drama</td><td>PG</td><td>36447959</td><td>37607865</td></tr><tr><td>Maleficent</td><td>2014-05-30</td><td>Adventure</td><td>PG</td><td>241407328</td><td>249089809</td></tr><tr><td>Planes: Fire and Rescue</td><td>2014-07-18</td><td>Adventure</td><td>PG</td><td>59157732</td><td>61040349</td></tr><tr><td>Guardians of the Galaxy</td><td>2014-08-01</td><td>Adventure</td><td>PG-13</td><td>333172112</td><td>343771168</td></tr><tr><td>The Hundred-Foot Journey</td><td>2014-08-08</td><td>Romantic Comedy</td><td>PG</td><td>54235441</td><td>55961409</td></tr><tr><td>Alexander and the Terrible, Horrible,…</td><td>2014-10-10</td><td>Comedy</td><td>PG</td><td>66954149</td><td>69055550</td></tr><tr><td>Big Hero 6</td><td>2014-11-07</td><td>Adventure</td><td>PG</td><td>222527828</td><td>229249222</td></tr><tr><td>Into the Woods</td><td>2014-12-25</td><td>Musical</td><td>PG</td><td>128002372</td><td>130894237</td></tr><tr><td>Strange Magic</td><td>2015-01-23</td><td>Adventure</td><td>PG</td><td>12429583</td><td>12429583</td></tr><tr><td>McFarland, USA</td><td>2015-02-20</td><td>Drama</td><td>PG</td><td>44480275</td><td>44480275</td></tr><tr><td>Cinderella</td><td>2015-03-13</td><td>Drama</td><td>PG</td><td>201151353</td><td>201151353</td></tr><tr><td>Monkey Kingdom</td><td>2015-04-17</td><td>Documentary</td><td>G</td><td>16432322</td><td>16432322</td></tr><tr><td>Avengers: Age of Ultron</td><td>2015-05-01</td><td>Action</td><td>PG-13</td><td>459005868</td><td>459005868</td></tr><tr><td>Tomorrowland</td><td>2015-05-22</td><td>Adventure</td><td>PG</td><td>93436322</td><td>93436322</td></tr><tr><td>Inside Out</td><td>2015-06-19</td><td>Adventure</td><td>PG</td><td>356461711</td><td>356461711</td></tr><tr><td>Ant-Man</td><td>2015-07-17</td><td>Action</td><td>PG-13</td><td>180202163</td><td>180202163</td></tr><tr><td>Bridge of Spies</td><td>2015-10-16</td><td>Thriller/Suspense</td><td>PG-13</td><td>72313754</td><td>72313754</td></tr><tr><td>The Good Dinosaur</td><td>2015-11-25</td><td>Adventure</td><td>PG</td><td>123087120</td><td>123087120</td></tr><tr><td>Star Wars Ep. VII: The Force Awakens</td><td>2015-12-18</td><td>Adventure</td><td>PG-13</td><td>936662225</td><td>936662225</td></tr><tr><td>The Finest Hours</td><td>2016-01-29</td><td>Thriller/Suspense</td><td>PG</td><td>27569558</td><td>27569558</td></tr><tr><td>Zootopia</td><td>2016-03-04</td><td>Adventure</td><td>PG</td><td>341268248</td><td>341268248</td></tr><tr><td>The Jungle Book</td><td>2016-04-15</td><td>Adventure</td><td>PG</td><td>364001123</td><td>364001123</td></tr><tr><td>A Beautiful Planet</td><td>2016-04-29</td><td>Documentary</td><td>G</td><td>7895708</td><td>7895708</td></tr><tr><td>Captain America: Civil War</td><td>2016-05-06</td><td>Action</td><td>PG-13</td><td>408084349</td><td>408084349</td></tr><tr><td>Alice Through the Looking Glass</td><td>2016-05-27</td><td>Adventure</td><td>PG</td><td>77042381</td><td>77042381</td></tr><tr><td>Finding Dory</td><td>2016-06-17</td><td>Adventure</td><td>PG</td><td>486295561</td><td>486295561</td></tr><tr><td>The BFG</td><td>2016-07-01</td><td>Adventure</td><td>PG</td><td>55483770</td><td>55483770</td></tr><tr><td>Pete’s Dragon</td><td>2016-08-12</td><td>Adventure</td><td>PG</td><td>76233151</td><td>76233151</td></tr><tr><td>The Light Between Oceans</td><td>2016-09-02</td><td>Drama</td><td>PG-13</td><td>12545979</td><td>12545979</td></tr><tr><td>Queen of Katwe</td><td>2016-09-23</td><td>Drama</td><td>PG</td><td>8874389</td><td>8874389</td></tr><tr><td>Doctor Strange</td><td>2016-11-04</td><td>Adventure</td><td>PG-13</td><td>232532923</td><td>232532923</td></tr><tr><td>Moana</td><td>2016-11-23</td><td>Adventure</td><td>PG</td><td>246082029</td><td>246082029</td></tr><tr><td>Rogue One: A Star Wars Story</td><td>2016-12-16</td><td>Adventure</td><td>PG-13</td><td>529483936</td><td>529483936</td></tr></table>"
                    },
                    "metadata": {}
                }
            ],
            "execution_count": 1
        },
        {
            "cell_type": "markdown",
            "source": "## อันดับหนังทำเงิน",
            "metadata": {}
        },
        {
            "cell_type": "code",
            "source": [
                "SELECT movie_title, inflation_adjusted_gross,\n",
                "    rank() over (order by inflation_adjusted_gross desc) gross_rank\n",
                "    from movie_gross\n",
                "    where year(release_date) > 2010"
            ],
            "metadata": {},
            "outputs": [
                {
                    "output_type": "display_data",
                    "data": {
                        "text/html": "(72 rows affected)"
                    },
                    "metadata": {}
                },
                {
                    "output_type": "display_data",
                    "data": {
                        "text/html": "Total execution time: 00:00:00.058"
                    },
                    "metadata": {}
                },
                {
                    "output_type": "execute_result",
                    "execution_count": 2,
                    "data": {
                        "application/vnd.dataresource+json": {
                            "schema": {
                                "fields": [
                                    {
                                        "name": "movie_title"
                                    },
                                    {
                                        "name": "inflation_adjusted_gross"
                                    },
                                    {
                                        "name": "gross_rank"
                                    }
                                ]
                            },
                            "data": [
                                {
                                    "0": "Star Wars Ep. VII: The Force Awakens",
                                    "1": "936662225",
                                    "2": "1"
                                },
                                {
                                    "0": "The Avengers",
                                    "1": "660081224",
                                    "2": "2"
                                },
                                {
                                    "0": "Rogue One: A Star Wars Story",
                                    "1": "529483936",
                                    "2": "3"
                                },
                                {
                                    "0": "Finding Dory",
                                    "1": "486295561",
                                    "2": "4"
                                },
                                {
                                    "0": "Avengers: Age of Ultron",
                                    "1": "459005868",
                                    "2": "5"
                                },
                                {
                                    "0": "Iron Man 3",
                                    "1": "424084233",
                                    "2": "6"
                                },
                                {
                                    "0": "Frozen",
                                    "1": "414997174",
                                    "2": "7"
                                },
                                {
                                    "0": "Captain America: Civil War",
                                    "1": "408084349",
                                    "2": "8"
                                },
                                {
                                    "0": "The Jungle Book",
                                    "1": "364001123",
                                    "2": "9"
                                },
                                {
                                    "0": "Inside Out",
                                    "1": "356461711",
                                    "2": "10"
                                },
                                {
                                    "0": "Guardians of the Galaxy",
                                    "1": "343771168",
                                    "2": "11"
                                },
                                {
                                    "0": "Zootopia",
                                    "1": "341268248",
                                    "2": "12"
                                },
                                {
                                    "0": "Monsters University",
                                    "1": "278395641",
                                    "2": "13"
                                },
                                {
                                    "0": "Captain America: The Winter Soldier",
                                    "1": "268013076",
                                    "2": "14"
                                },
                                {
                                    "0": "Pirates of the Caribbean: On Stranger…",
                                    "1": "256263359",
                                    "2": "15"
                                },
                                {
                                    "0": "Brave",
                                    "1": "251292441",
                                    "2": "16"
                                },
                                {
                                    "0": "Maleficent",
                                    "1": "249089809",
                                    "2": "17"
                                },
                                {
                                    "0": "Moana",
                                    "1": "246082029",
                                    "2": "18"
                                },
                                {
                                    "0": "Oz the Great and Powerful",
                                    "1": "243434130",
                                    "2": "19"
                                },
                                {
                                    "0": "Doctor Strange",
                                    "1": "232532923",
                                    "2": "20"
                                },
                                {
                                    "0": "Big Hero 6",
                                    "1": "229249222",
                                    "2": "21"
                                },
                                {
                                    "0": "Thor: The Dark World",
                                    "1": "213962184",
                                    "2": "22"
                                },
                                {
                                    "0": "Cars 2",
                                    "1": "203522177",
                                    "2": "23"
                                },
                                {
                                    "0": "Cinderella",
                                    "1": "201151353",
                                    "2": "24"
                                },
                                {
                                    "0": "Wreck-It Ralph",
                                    "1": "200354959",
                                    "2": "25"
                                },
                                {
                                    "0": "Lincoln",
                                    "1": "192122330",
                                    "2": "26"
                                },
                                {
                                    "0": "The Help",
                                    "1": "180404976",
                                    "2": "27"
                                },
                                {
                                    "0": "Ant-Man",
                                    "1": "180202163",
                                    "2": "28"
                                },
                                {
                                    "0": "Into the Woods",
                                    "1": "130894237",
                                    "2": "29"
                                },
                                {
                                    "0": "The Good Dinosaur",
                                    "1": "123087120",
                                    "2": "30"
                                },
                                {
                                    "0": "Gnomeo and Juliet",
                                    "1": "106270797",
                                    "2": "31"
                                },
                                {
                                    "0": "The Muppets",
                                    "1": "94189503",
                                    "2": "32"
                                },
                                {
                                    "0": "Disney Planes",
                                    "1": "93614037",
                                    "2": "33"
                                },
                                {
                                    "0": "Tomorrowland",
                                    "1": "93436322",
                                    "2": "34"
                                },
                                {
                                    "0": "The Lone Ranger",
                                    "1": "92597388",
                                    "2": "35"
                                },
                                {
                                    "0": "Real Steel",
                                    "1": "90848019",
                                    "2": "36"
                                },
                                {
                                    "0": "Saving Mr. Banks",
                                    "1": "86249969",
                                    "2": "37"
                                },
                                {
                                    "0": "War Horse",
                                    "1": "84762149",
                                    "2": "38"
                                },
                                {
                                    "0": "John Carter",
                                    "1": "77372445",
                                    "2": "39"
                                },
                                {
                                    "0": "Alice Through the Looking Glass",
                                    "1": "77042381",
                                    "2": "40"
                                },
                                {
                                    "0": "Pete’s Dragon",
                                    "1": "76233151",
                                    "2": "41"
                                },
                                {
                                    "0": "Bridge of Spies",
                                    "1": "72313754",
                                    "2": "42"
                                },
                                {
                                    "0": "Alexander and the Terrible, Horrible,…",
                                    "1": "69055550",
                                    "2": "43"
                                },
                                {
                                    "0": "Planes: Fire and Rescue",
                                    "1": "61040349",
                                    "2": "44"
                                },
                                {
                                    "0": "I am Number Four",
                                    "1": "58574607",
                                    "2": "45"
                                },
                                {
                                    "0": "The Hundred-Foot Journey",
                                    "1": "55961409",
                                    "2": "46"
                                },
                                {
                                    "0": "The BFG",
                                    "1": "55483770",
                                    "2": "47"
                                },
                                {
                                    "0": "The Odd Life of Timothy Green",
                                    "1": "54914942",
                                    "2": "48"
                                },
                                {
                                    "0": "Muppets Most Wanted",
                                    "1": "52807594",
                                    "2": "49"
                                },
                                {
                                    "0": "Need for Speed",
                                    "1": "44955015",
                                    "2": "50"
                                },
                                {
                                    "0": "McFarland, USA",
                                    "1": "44480275",
                                    "2": "51"
                                },
                                {
                                    "0": "Million Dollar Arm",
                                    "1": "37607865",
                                    "2": "52"
                                },
                                {
                                    "0": "Frankenweenie",
                                    "1": "37363513",
                                    "2": "53"
                                },
                                {
                                    "0": "Delivery Man",
                                    "1": "31787136",
                                    "2": "54"
                                },
                                {
                                    "0": "Chimpanzee",
                                    "1": "30675725",
                                    "2": "55"
                                },
                                {
                                    "0": "Winnie the Pooh",
                                    "1": "28375869",
                                    "2": "56"
                                },
                                {
                                    "0": "The Finest Hours",
                                    "1": "27569558",
                                    "2": "57"
                                },
                                {
                                    "0": "Mars Needs Moms",
                                    "1": "22741603",
                                    "2": "58"
                                },
                                {
                                    "0": "The Secret World of Arietty",
                                    "1": "20325733",
                                    "2": "59"
                                },
                                {
                                    "0": "Fright Night",
                                    "1": "19452402",
                                    "2": "60"
                                },
                                {
                                    "0": "Bears",
                                    "1": "18346024",
                                    "2": "61"
                                },
                                {
                                    "0": "Monkey Kingdom",
                                    "1": "16432322",
                                    "2": "62"
                                },
                                {
                                    "0": "African Cats",
                                    "1": "16401551",
                                    "2": "63"
                                },
                                {
                                    "0": "People Like Us",
                                    "1": "13165822",
                                    "2": "64"
                                },
                                {
                                    "0": "The Light Between Oceans",
                                    "1": "12545979",
                                    "2": "65"
                                },
                                {
                                    "0": "Strange Magic",
                                    "1": "12429583",
                                    "2": "66"
                                },
                                {
                                    "0": "Prom",
                                    "1": "10768946",
                                    "2": "67"
                                },
                                {
                                    "0": "Queen of Katwe",
                                    "1": "8874389",
                                    "2": "68"
                                },
                                {
                                    "0": "A Beautiful Planet",
                                    "1": "7895708",
                                    "2": "69"
                                },
                                {
                                    "0": "Kaze Tachinu",
                                    "1": "5367415",
                                    "2": "70"
                                },
                                {
                                    "0": "The Fifth Estate",
                                    "1": "3374251",
                                    "2": "71"
                                },
                                {
                                    "0": "Zokkomon",
                                    "1": "2984",
                                    "2": "72"
                                }
                            ]
                        },
                        "text/html": "<table><tr><th>movie_title</th><th>inflation_adjusted_gross</th><th>gross_rank</th></tr><tr><td>Star Wars Ep. VII: The Force Awakens</td><td>936662225</td><td>1</td></tr><tr><td>The Avengers</td><td>660081224</td><td>2</td></tr><tr><td>Rogue One: A Star Wars Story</td><td>529483936</td><td>3</td></tr><tr><td>Finding Dory</td><td>486295561</td><td>4</td></tr><tr><td>Avengers: Age of Ultron</td><td>459005868</td><td>5</td></tr><tr><td>Iron Man 3</td><td>424084233</td><td>6</td></tr><tr><td>Frozen</td><td>414997174</td><td>7</td></tr><tr><td>Captain America: Civil War</td><td>408084349</td><td>8</td></tr><tr><td>The Jungle Book</td><td>364001123</td><td>9</td></tr><tr><td>Inside Out</td><td>356461711</td><td>10</td></tr><tr><td>Guardians of the Galaxy</td><td>343771168</td><td>11</td></tr><tr><td>Zootopia</td><td>341268248</td><td>12</td></tr><tr><td>Monsters University</td><td>278395641</td><td>13</td></tr><tr><td>Captain America: The Winter Soldier</td><td>268013076</td><td>14</td></tr><tr><td>Pirates of the Caribbean: On Stranger…</td><td>256263359</td><td>15</td></tr><tr><td>Brave</td><td>251292441</td><td>16</td></tr><tr><td>Maleficent</td><td>249089809</td><td>17</td></tr><tr><td>Moana</td><td>246082029</td><td>18</td></tr><tr><td>Oz the Great and Powerful</td><td>243434130</td><td>19</td></tr><tr><td>Doctor Strange</td><td>232532923</td><td>20</td></tr><tr><td>Big Hero 6</td><td>229249222</td><td>21</td></tr><tr><td>Thor: The Dark World</td><td>213962184</td><td>22</td></tr><tr><td>Cars 2</td><td>203522177</td><td>23</td></tr><tr><td>Cinderella</td><td>201151353</td><td>24</td></tr><tr><td>Wreck-It Ralph</td><td>200354959</td><td>25</td></tr><tr><td>Lincoln</td><td>192122330</td><td>26</td></tr><tr><td>The Help</td><td>180404976</td><td>27</td></tr><tr><td>Ant-Man</td><td>180202163</td><td>28</td></tr><tr><td>Into the Woods</td><td>130894237</td><td>29</td></tr><tr><td>The Good Dinosaur</td><td>123087120</td><td>30</td></tr><tr><td>Gnomeo and Juliet</td><td>106270797</td><td>31</td></tr><tr><td>The Muppets</td><td>94189503</td><td>32</td></tr><tr><td>Disney Planes</td><td>93614037</td><td>33</td></tr><tr><td>Tomorrowland</td><td>93436322</td><td>34</td></tr><tr><td>The Lone Ranger</td><td>92597388</td><td>35</td></tr><tr><td>Real Steel</td><td>90848019</td><td>36</td></tr><tr><td>Saving Mr. Banks</td><td>86249969</td><td>37</td></tr><tr><td>War Horse</td><td>84762149</td><td>38</td></tr><tr><td>John Carter</td><td>77372445</td><td>39</td></tr><tr><td>Alice Through the Looking Glass</td><td>77042381</td><td>40</td></tr><tr><td>Pete’s Dragon</td><td>76233151</td><td>41</td></tr><tr><td>Bridge of Spies</td><td>72313754</td><td>42</td></tr><tr><td>Alexander and the Terrible, Horrible,…</td><td>69055550</td><td>43</td></tr><tr><td>Planes: Fire and Rescue</td><td>61040349</td><td>44</td></tr><tr><td>I am Number Four</td><td>58574607</td><td>45</td></tr><tr><td>The Hundred-Foot Journey</td><td>55961409</td><td>46</td></tr><tr><td>The BFG</td><td>55483770</td><td>47</td></tr><tr><td>The Odd Life of Timothy Green</td><td>54914942</td><td>48</td></tr><tr><td>Muppets Most Wanted</td><td>52807594</td><td>49</td></tr><tr><td>Need for Speed</td><td>44955015</td><td>50</td></tr><tr><td>McFarland, USA</td><td>44480275</td><td>51</td></tr><tr><td>Million Dollar Arm</td><td>37607865</td><td>52</td></tr><tr><td>Frankenweenie</td><td>37363513</td><td>53</td></tr><tr><td>Delivery Man</td><td>31787136</td><td>54</td></tr><tr><td>Chimpanzee</td><td>30675725</td><td>55</td></tr><tr><td>Winnie the Pooh</td><td>28375869</td><td>56</td></tr><tr><td>The Finest Hours</td><td>27569558</td><td>57</td></tr><tr><td>Mars Needs Moms</td><td>22741603</td><td>58</td></tr><tr><td>The Secret World of Arietty</td><td>20325733</td><td>59</td></tr><tr><td>Fright Night</td><td>19452402</td><td>60</td></tr><tr><td>Bears</td><td>18346024</td><td>61</td></tr><tr><td>Monkey Kingdom</td><td>16432322</td><td>62</td></tr><tr><td>African Cats</td><td>16401551</td><td>63</td></tr><tr><td>People Like Us</td><td>13165822</td><td>64</td></tr><tr><td>The Light Between Oceans</td><td>12545979</td><td>65</td></tr><tr><td>Strange Magic</td><td>12429583</td><td>66</td></tr><tr><td>Prom</td><td>10768946</td><td>67</td></tr><tr><td>Queen of Katwe</td><td>8874389</td><td>68</td></tr><tr><td>A Beautiful Planet</td><td>7895708</td><td>69</td></tr><tr><td>Kaze Tachinu</td><td>5367415</td><td>70</td></tr><tr><td>The Fifth Estate</td><td>3374251</td><td>71</td></tr><tr><td>Zokkomon</td><td>2984</td><td>72</td></tr></table>"
                    },
                    "metadata": {}
                }
            ],
            "execution_count": 2
        },
        {
            "cell_type": "code",
            "source": [
                "SELECT movie_title, release_date, inflation_adjusted_gross\n",
                "    from movie_gross\n",
                "    where year(release_date) > 2010\n",
                "    order by release_date"
            ],
            "metadata": {},
            "outputs": [
                {
                    "output_type": "display_data",
                    "data": {
                        "text/html": "(72 rows affected)"
                    },
                    "metadata": {}
                },
                {
                    "output_type": "display_data",
                    "data": {
                        "text/html": "Total execution time: 00:00:00.064"
                    },
                    "metadata": {}
                },
                {
                    "output_type": "execute_result",
                    "execution_count": 3,
                    "data": {
                        "application/vnd.dataresource+json": {
                            "schema": {
                                "fields": [
                                    {
                                        "name": "movie_title"
                                    },
                                    {
                                        "name": "release_date"
                                    },
                                    {
                                        "name": "inflation_adjusted_gross"
                                    }
                                ]
                            },
                            "data": [
                                {
                                    "0": "Gnomeo and Juliet",
                                    "1": "2011-02-11",
                                    "2": "106270797"
                                },
                                {
                                    "0": "I am Number Four",
                                    "1": "2011-02-18",
                                    "2": "58574607"
                                },
                                {
                                    "0": "Mars Needs Moms",
                                    "1": "2011-03-11",
                                    "2": "22741603"
                                },
                                {
                                    "0": "African Cats",
                                    "1": "2011-04-22",
                                    "2": "16401551"
                                },
                                {
                                    "0": "Zokkomon",
                                    "1": "2011-04-22",
                                    "2": "2984"
                                },
                                {
                                    "0": "Prom",
                                    "1": "2011-04-29",
                                    "2": "10768946"
                                },
                                {
                                    "0": "Pirates of the Caribbean: On Stranger…",
                                    "1": "2011-05-20",
                                    "2": "256263359"
                                },
                                {
                                    "0": "Cars 2",
                                    "1": "2011-06-24",
                                    "2": "203522177"
                                },
                                {
                                    "0": "Winnie the Pooh",
                                    "1": "2011-07-15",
                                    "2": "28375869"
                                },
                                {
                                    "0": "The Help",
                                    "1": "2011-08-10",
                                    "2": "180404976"
                                },
                                {
                                    "0": "Fright Night",
                                    "1": "2011-08-19",
                                    "2": "19452402"
                                },
                                {
                                    "0": "Real Steel",
                                    "1": "2011-10-07",
                                    "2": "90848019"
                                },
                                {
                                    "0": "The Muppets",
                                    "1": "2011-11-23",
                                    "2": "94189503"
                                },
                                {
                                    "0": "War Horse",
                                    "1": "2011-12-25",
                                    "2": "84762149"
                                },
                                {
                                    "0": "The Secret World of Arietty",
                                    "1": "2012-02-17",
                                    "2": "20325733"
                                },
                                {
                                    "0": "John Carter",
                                    "1": "2012-03-09",
                                    "2": "77372445"
                                },
                                {
                                    "0": "Chimpanzee",
                                    "1": "2012-04-20",
                                    "2": "30675725"
                                },
                                {
                                    "0": "The Avengers",
                                    "1": "2012-05-04",
                                    "2": "660081224"
                                },
                                {
                                    "0": "Brave",
                                    "1": "2012-06-22",
                                    "2": "251292441"
                                },
                                {
                                    "0": "People Like Us",
                                    "1": "2012-06-29",
                                    "2": "13165822"
                                },
                                {
                                    "0": "The Odd Life of Timothy Green",
                                    "1": "2012-08-15",
                                    "2": "54914942"
                                },
                                {
                                    "0": "Frankenweenie",
                                    "1": "2012-10-05",
                                    "2": "37363513"
                                },
                                {
                                    "0": "Wreck-It Ralph",
                                    "1": "2012-11-02",
                                    "2": "200354959"
                                },
                                {
                                    "0": "Lincoln",
                                    "1": "2012-11-09",
                                    "2": "192122330"
                                },
                                {
                                    "0": "Oz the Great and Powerful",
                                    "1": "2013-03-08",
                                    "2": "243434130"
                                },
                                {
                                    "0": "Iron Man 3",
                                    "1": "2013-05-03",
                                    "2": "424084233"
                                },
                                {
                                    "0": "Monsters University",
                                    "1": "2013-06-21",
                                    "2": "278395641"
                                },
                                {
                                    "0": "The Lone Ranger",
                                    "1": "2013-07-02",
                                    "2": "92597388"
                                },
                                {
                                    "0": "Disney Planes",
                                    "1": "2013-08-09",
                                    "2": "93614037"
                                },
                                {
                                    "0": "The Fifth Estate",
                                    "1": "2013-10-18",
                                    "2": "3374251"
                                },
                                {
                                    "0": "Thor: The Dark World",
                                    "1": "2013-11-08",
                                    "2": "213962184"
                                },
                                {
                                    "0": "Kaze Tachinu",
                                    "1": "2013-11-08",
                                    "2": "5367415"
                                },
                                {
                                    "0": "Frozen",
                                    "1": "2013-11-22",
                                    "2": "414997174"
                                },
                                {
                                    "0": "Delivery Man",
                                    "1": "2013-11-22",
                                    "2": "31787136"
                                },
                                {
                                    "0": "Saving Mr. Banks",
                                    "1": "2013-12-13",
                                    "2": "86249969"
                                },
                                {
                                    "0": "Need for Speed",
                                    "1": "2014-03-14",
                                    "2": "44955015"
                                },
                                {
                                    "0": "Muppets Most Wanted",
                                    "1": "2014-03-21",
                                    "2": "52807594"
                                },
                                {
                                    "0": "Captain America: The Winter Soldier",
                                    "1": "2014-04-04",
                                    "2": "268013076"
                                },
                                {
                                    "0": "Bears",
                                    "1": "2014-04-18",
                                    "2": "18346024"
                                },
                                {
                                    "0": "Million Dollar Arm",
                                    "1": "2014-05-10",
                                    "2": "37607865"
                                },
                                {
                                    "0": "Maleficent",
                                    "1": "2014-05-30",
                                    "2": "249089809"
                                },
                                {
                                    "0": "Planes: Fire and Rescue",
                                    "1": "2014-07-18",
                                    "2": "61040349"
                                },
                                {
                                    "0": "Guardians of the Galaxy",
                                    "1": "2014-08-01",
                                    "2": "343771168"
                                },
                                {
                                    "0": "The Hundred-Foot Journey",
                                    "1": "2014-08-08",
                                    "2": "55961409"
                                },
                                {
                                    "0": "Alexander and the Terrible, Horrible,…",
                                    "1": "2014-10-10",
                                    "2": "69055550"
                                },
                                {
                                    "0": "Big Hero 6",
                                    "1": "2014-11-07",
                                    "2": "229249222"
                                },
                                {
                                    "0": "Into the Woods",
                                    "1": "2014-12-25",
                                    "2": "130894237"
                                },
                                {
                                    "0": "Strange Magic",
                                    "1": "2015-01-23",
                                    "2": "12429583"
                                },
                                {
                                    "0": "McFarland, USA",
                                    "1": "2015-02-20",
                                    "2": "44480275"
                                },
                                {
                                    "0": "Cinderella",
                                    "1": "2015-03-13",
                                    "2": "201151353"
                                },
                                {
                                    "0": "Monkey Kingdom",
                                    "1": "2015-04-17",
                                    "2": "16432322"
                                },
                                {
                                    "0": "Avengers: Age of Ultron",
                                    "1": "2015-05-01",
                                    "2": "459005868"
                                },
                                {
                                    "0": "Tomorrowland",
                                    "1": "2015-05-22",
                                    "2": "93436322"
                                },
                                {
                                    "0": "Inside Out",
                                    "1": "2015-06-19",
                                    "2": "356461711"
                                },
                                {
                                    "0": "Ant-Man",
                                    "1": "2015-07-17",
                                    "2": "180202163"
                                },
                                {
                                    "0": "Bridge of Spies",
                                    "1": "2015-10-16",
                                    "2": "72313754"
                                },
                                {
                                    "0": "The Good Dinosaur",
                                    "1": "2015-11-25",
                                    "2": "123087120"
                                },
                                {
                                    "0": "Star Wars Ep. VII: The Force Awakens",
                                    "1": "2015-12-18",
                                    "2": "936662225"
                                },
                                {
                                    "0": "The Finest Hours",
                                    "1": "2016-01-29",
                                    "2": "27569558"
                                },
                                {
                                    "0": "Zootopia",
                                    "1": "2016-03-04",
                                    "2": "341268248"
                                },
                                {
                                    "0": "The Jungle Book",
                                    "1": "2016-04-15",
                                    "2": "364001123"
                                },
                                {
                                    "0": "A Beautiful Planet",
                                    "1": "2016-04-29",
                                    "2": "7895708"
                                },
                                {
                                    "0": "Captain America: Civil War",
                                    "1": "2016-05-06",
                                    "2": "408084349"
                                },
                                {
                                    "0": "Alice Through the Looking Glass",
                                    "1": "2016-05-27",
                                    "2": "77042381"
                                },
                                {
                                    "0": "Finding Dory",
                                    "1": "2016-06-17",
                                    "2": "486295561"
                                },
                                {
                                    "0": "The BFG",
                                    "1": "2016-07-01",
                                    "2": "55483770"
                                },
                                {
                                    "0": "Pete’s Dragon",
                                    "1": "2016-08-12",
                                    "2": "76233151"
                                },
                                {
                                    "0": "The Light Between Oceans",
                                    "1": "2016-09-02",
                                    "2": "12545979"
                                },
                                {
                                    "0": "Queen of Katwe",
                                    "1": "2016-09-23",
                                    "2": "8874389"
                                },
                                {
                                    "0": "Doctor Strange",
                                    "1": "2016-11-04",
                                    "2": "232532923"
                                },
                                {
                                    "0": "Moana",
                                    "1": "2016-11-23",
                                    "2": "246082029"
                                },
                                {
                                    "0": "Rogue One: A Star Wars Story",
                                    "1": "2016-12-16",
                                    "2": "529483936"
                                }
                            ]
                        },
                        "text/html": "<table><tr><th>movie_title</th><th>release_date</th><th>inflation_adjusted_gross</th></tr><tr><td>Gnomeo and Juliet</td><td>2011-02-11</td><td>106270797</td></tr><tr><td>I am Number Four</td><td>2011-02-18</td><td>58574607</td></tr><tr><td>Mars Needs Moms</td><td>2011-03-11</td><td>22741603</td></tr><tr><td>African Cats</td><td>2011-04-22</td><td>16401551</td></tr><tr><td>Zokkomon</td><td>2011-04-22</td><td>2984</td></tr><tr><td>Prom</td><td>2011-04-29</td><td>10768946</td></tr><tr><td>Pirates of the Caribbean: On Stranger…</td><td>2011-05-20</td><td>256263359</td></tr><tr><td>Cars 2</td><td>2011-06-24</td><td>203522177</td></tr><tr><td>Winnie the Pooh</td><td>2011-07-15</td><td>28375869</td></tr><tr><td>The Help</td><td>2011-08-10</td><td>180404976</td></tr><tr><td>Fright Night</td><td>2011-08-19</td><td>19452402</td></tr><tr><td>Real Steel</td><td>2011-10-07</td><td>90848019</td></tr><tr><td>The Muppets</td><td>2011-11-23</td><td>94189503</td></tr><tr><td>War Horse</td><td>2011-12-25</td><td>84762149</td></tr><tr><td>The Secret World of Arietty</td><td>2012-02-17</td><td>20325733</td></tr><tr><td>John Carter</td><td>2012-03-09</td><td>77372445</td></tr><tr><td>Chimpanzee</td><td>2012-04-20</td><td>30675725</td></tr><tr><td>The Avengers</td><td>2012-05-04</td><td>660081224</td></tr><tr><td>Brave</td><td>2012-06-22</td><td>251292441</td></tr><tr><td>People Like Us</td><td>2012-06-29</td><td>13165822</td></tr><tr><td>The Odd Life of Timothy Green</td><td>2012-08-15</td><td>54914942</td></tr><tr><td>Frankenweenie</td><td>2012-10-05</td><td>37363513</td></tr><tr><td>Wreck-It Ralph</td><td>2012-11-02</td><td>200354959</td></tr><tr><td>Lincoln</td><td>2012-11-09</td><td>192122330</td></tr><tr><td>Oz the Great and Powerful</td><td>2013-03-08</td><td>243434130</td></tr><tr><td>Iron Man 3</td><td>2013-05-03</td><td>424084233</td></tr><tr><td>Monsters University</td><td>2013-06-21</td><td>278395641</td></tr><tr><td>The Lone Ranger</td><td>2013-07-02</td><td>92597388</td></tr><tr><td>Disney Planes</td><td>2013-08-09</td><td>93614037</td></tr><tr><td>The Fifth Estate</td><td>2013-10-18</td><td>3374251</td></tr><tr><td>Thor: The Dark World</td><td>2013-11-08</td><td>213962184</td></tr><tr><td>Kaze Tachinu</td><td>2013-11-08</td><td>5367415</td></tr><tr><td>Frozen</td><td>2013-11-22</td><td>414997174</td></tr><tr><td>Delivery Man</td><td>2013-11-22</td><td>31787136</td></tr><tr><td>Saving Mr. Banks</td><td>2013-12-13</td><td>86249969</td></tr><tr><td>Need for Speed</td><td>2014-03-14</td><td>44955015</td></tr><tr><td>Muppets Most Wanted</td><td>2014-03-21</td><td>52807594</td></tr><tr><td>Captain America: The Winter Soldier</td><td>2014-04-04</td><td>268013076</td></tr><tr><td>Bears</td><td>2014-04-18</td><td>18346024</td></tr><tr><td>Million Dollar Arm</td><td>2014-05-10</td><td>37607865</td></tr><tr><td>Maleficent</td><td>2014-05-30</td><td>249089809</td></tr><tr><td>Planes: Fire and Rescue</td><td>2014-07-18</td><td>61040349</td></tr><tr><td>Guardians of the Galaxy</td><td>2014-08-01</td><td>343771168</td></tr><tr><td>The Hundred-Foot Journey</td><td>2014-08-08</td><td>55961409</td></tr><tr><td>Alexander and the Terrible, Horrible,…</td><td>2014-10-10</td><td>69055550</td></tr><tr><td>Big Hero 6</td><td>2014-11-07</td><td>229249222</td></tr><tr><td>Into the Woods</td><td>2014-12-25</td><td>130894237</td></tr><tr><td>Strange Magic</td><td>2015-01-23</td><td>12429583</td></tr><tr><td>McFarland, USA</td><td>2015-02-20</td><td>44480275</td></tr><tr><td>Cinderella</td><td>2015-03-13</td><td>201151353</td></tr><tr><td>Monkey Kingdom</td><td>2015-04-17</td><td>16432322</td></tr><tr><td>Avengers: Age of Ultron</td><td>2015-05-01</td><td>459005868</td></tr><tr><td>Tomorrowland</td><td>2015-05-22</td><td>93436322</td></tr><tr><td>Inside Out</td><td>2015-06-19</td><td>356461711</td></tr><tr><td>Ant-Man</td><td>2015-07-17</td><td>180202163</td></tr><tr><td>Bridge of Spies</td><td>2015-10-16</td><td>72313754</td></tr><tr><td>The Good Dinosaur</td><td>2015-11-25</td><td>123087120</td></tr><tr><td>Star Wars Ep. VII: The Force Awakens</td><td>2015-12-18</td><td>936662225</td></tr><tr><td>The Finest Hours</td><td>2016-01-29</td><td>27569558</td></tr><tr><td>Zootopia</td><td>2016-03-04</td><td>341268248</td></tr><tr><td>The Jungle Book</td><td>2016-04-15</td><td>364001123</td></tr><tr><td>A Beautiful Planet</td><td>2016-04-29</td><td>7895708</td></tr><tr><td>Captain America: Civil War</td><td>2016-05-06</td><td>408084349</td></tr><tr><td>Alice Through the Looking Glass</td><td>2016-05-27</td><td>77042381</td></tr><tr><td>Finding Dory</td><td>2016-06-17</td><td>486295561</td></tr><tr><td>The BFG</td><td>2016-07-01</td><td>55483770</td></tr><tr><td>Pete’s Dragon</td><td>2016-08-12</td><td>76233151</td></tr><tr><td>The Light Between Oceans</td><td>2016-09-02</td><td>12545979</td></tr><tr><td>Queen of Katwe</td><td>2016-09-23</td><td>8874389</td></tr><tr><td>Doctor Strange</td><td>2016-11-04</td><td>232532923</td></tr><tr><td>Moana</td><td>2016-11-23</td><td>246082029</td></tr><tr><td>Rogue One: A Star Wars Story</td><td>2016-12-16</td><td>529483936</td></tr></table>"
                    },
                    "metadata": {}
                }
            ],
            "execution_count": 3
        },
        {
            "cell_type": "markdown",
            "source": "# Window functions: split-apply-combine",
            "metadata": {}
        },
        {
            "cell_type": "markdown",
            "source": "## อันดับหนังทำเงินแยกตามปี",
            "metadata": {}
        },
        {
            "cell_type": "code",
            "source": [
                "SELECT movie_title, release_date, inflation_adjusted_gross,\n",
                "    rank() over (partition by year(release_date) order by inflation_adjusted_gross desc) gross_rank\n",
                "    from movie_gross\n",
                "    where year(release_date) > 2010"
            ],
            "metadata": {},
            "outputs": [
                {
                    "output_type": "display_data",
                    "data": {
                        "text/html": "(72 rows affected)"
                    },
                    "metadata": {}
                },
                {
                    "output_type": "display_data",
                    "data": {
                        "text/html": "Total execution time: 00:00:00.084"
                    },
                    "metadata": {}
                },
                {
                    "output_type": "execute_result",
                    "execution_count": 4,
                    "data": {
                        "application/vnd.dataresource+json": {
                            "schema": {
                                "fields": [
                                    {
                                        "name": "movie_title"
                                    },
                                    {
                                        "name": "release_date"
                                    },
                                    {
                                        "name": "inflation_adjusted_gross"
                                    },
                                    {
                                        "name": "gross_rank"
                                    }
                                ]
                            },
                            "data": [
                                {
                                    "0": "Pirates of the Caribbean: On Stranger…",
                                    "1": "2011-05-20",
                                    "2": "256263359",
                                    "3": "1"
                                },
                                {
                                    "0": "Cars 2",
                                    "1": "2011-06-24",
                                    "2": "203522177",
                                    "3": "2"
                                },
                                {
                                    "0": "The Help",
                                    "1": "2011-08-10",
                                    "2": "180404976",
                                    "3": "3"
                                },
                                {
                                    "0": "Gnomeo and Juliet",
                                    "1": "2011-02-11",
                                    "2": "106270797",
                                    "3": "4"
                                },
                                {
                                    "0": "The Muppets",
                                    "1": "2011-11-23",
                                    "2": "94189503",
                                    "3": "5"
                                },
                                {
                                    "0": "Real Steel",
                                    "1": "2011-10-07",
                                    "2": "90848019",
                                    "3": "6"
                                },
                                {
                                    "0": "War Horse",
                                    "1": "2011-12-25",
                                    "2": "84762149",
                                    "3": "7"
                                },
                                {
                                    "0": "I am Number Four",
                                    "1": "2011-02-18",
                                    "2": "58574607",
                                    "3": "8"
                                },
                                {
                                    "0": "Winnie the Pooh",
                                    "1": "2011-07-15",
                                    "2": "28375869",
                                    "3": "9"
                                },
                                {
                                    "0": "Mars Needs Moms",
                                    "1": "2011-03-11",
                                    "2": "22741603",
                                    "3": "10"
                                },
                                {
                                    "0": "Fright Night",
                                    "1": "2011-08-19",
                                    "2": "19452402",
                                    "3": "11"
                                },
                                {
                                    "0": "African Cats",
                                    "1": "2011-04-22",
                                    "2": "16401551",
                                    "3": "12"
                                },
                                {
                                    "0": "Prom",
                                    "1": "2011-04-29",
                                    "2": "10768946",
                                    "3": "13"
                                },
                                {
                                    "0": "Zokkomon",
                                    "1": "2011-04-22",
                                    "2": "2984",
                                    "3": "14"
                                },
                                {
                                    "0": "The Avengers",
                                    "1": "2012-05-04",
                                    "2": "660081224",
                                    "3": "1"
                                },
                                {
                                    "0": "Brave",
                                    "1": "2012-06-22",
                                    "2": "251292441",
                                    "3": "2"
                                },
                                {
                                    "0": "Wreck-It Ralph",
                                    "1": "2012-11-02",
                                    "2": "200354959",
                                    "3": "3"
                                },
                                {
                                    "0": "Lincoln",
                                    "1": "2012-11-09",
                                    "2": "192122330",
                                    "3": "4"
                                },
                                {
                                    "0": "John Carter",
                                    "1": "2012-03-09",
                                    "2": "77372445",
                                    "3": "5"
                                },
                                {
                                    "0": "The Odd Life of Timothy Green",
                                    "1": "2012-08-15",
                                    "2": "54914942",
                                    "3": "6"
                                },
                                {
                                    "0": "Frankenweenie",
                                    "1": "2012-10-05",
                                    "2": "37363513",
                                    "3": "7"
                                },
                                {
                                    "0": "Chimpanzee",
                                    "1": "2012-04-20",
                                    "2": "30675725",
                                    "3": "8"
                                },
                                {
                                    "0": "The Secret World of Arietty",
                                    "1": "2012-02-17",
                                    "2": "20325733",
                                    "3": "9"
                                },
                                {
                                    "0": "People Like Us",
                                    "1": "2012-06-29",
                                    "2": "13165822",
                                    "3": "10"
                                },
                                {
                                    "0": "Iron Man 3",
                                    "1": "2013-05-03",
                                    "2": "424084233",
                                    "3": "1"
                                },
                                {
                                    "0": "Frozen",
                                    "1": "2013-11-22",
                                    "2": "414997174",
                                    "3": "2"
                                },
                                {
                                    "0": "Monsters University",
                                    "1": "2013-06-21",
                                    "2": "278395641",
                                    "3": "3"
                                },
                                {
                                    "0": "Oz the Great and Powerful",
                                    "1": "2013-03-08",
                                    "2": "243434130",
                                    "3": "4"
                                },
                                {
                                    "0": "Thor: The Dark World",
                                    "1": "2013-11-08",
                                    "2": "213962184",
                                    "3": "5"
                                },
                                {
                                    "0": "Disney Planes",
                                    "1": "2013-08-09",
                                    "2": "93614037",
                                    "3": "6"
                                },
                                {
                                    "0": "The Lone Ranger",
                                    "1": "2013-07-02",
                                    "2": "92597388",
                                    "3": "7"
                                },
                                {
                                    "0": "Saving Mr. Banks",
                                    "1": "2013-12-13",
                                    "2": "86249969",
                                    "3": "8"
                                },
                                {
                                    "0": "Delivery Man",
                                    "1": "2013-11-22",
                                    "2": "31787136",
                                    "3": "9"
                                },
                                {
                                    "0": "Kaze Tachinu",
                                    "1": "2013-11-08",
                                    "2": "5367415",
                                    "3": "10"
                                },
                                {
                                    "0": "The Fifth Estate",
                                    "1": "2013-10-18",
                                    "2": "3374251",
                                    "3": "11"
                                },
                                {
                                    "0": "Guardians of the Galaxy",
                                    "1": "2014-08-01",
                                    "2": "343771168",
                                    "3": "1"
                                },
                                {
                                    "0": "Captain America: The Winter Soldier",
                                    "1": "2014-04-04",
                                    "2": "268013076",
                                    "3": "2"
                                },
                                {
                                    "0": "Maleficent",
                                    "1": "2014-05-30",
                                    "2": "249089809",
                                    "3": "3"
                                },
                                {
                                    "0": "Big Hero 6",
                                    "1": "2014-11-07",
                                    "2": "229249222",
                                    "3": "4"
                                },
                                {
                                    "0": "Into the Woods",
                                    "1": "2014-12-25",
                                    "2": "130894237",
                                    "3": "5"
                                },
                                {
                                    "0": "Alexander and the Terrible, Horrible,…",
                                    "1": "2014-10-10",
                                    "2": "69055550",
                                    "3": "6"
                                },
                                {
                                    "0": "Planes: Fire and Rescue",
                                    "1": "2014-07-18",
                                    "2": "61040349",
                                    "3": "7"
                                },
                                {
                                    "0": "The Hundred-Foot Journey",
                                    "1": "2014-08-08",
                                    "2": "55961409",
                                    "3": "8"
                                },
                                {
                                    "0": "Muppets Most Wanted",
                                    "1": "2014-03-21",
                                    "2": "52807594",
                                    "3": "9"
                                },
                                {
                                    "0": "Need for Speed",
                                    "1": "2014-03-14",
                                    "2": "44955015",
                                    "3": "10"
                                },
                                {
                                    "0": "Million Dollar Arm",
                                    "1": "2014-05-10",
                                    "2": "37607865",
                                    "3": "11"
                                },
                                {
                                    "0": "Bears",
                                    "1": "2014-04-18",
                                    "2": "18346024",
                                    "3": "12"
                                },
                                {
                                    "0": "Star Wars Ep. VII: The Force Awakens",
                                    "1": "2015-12-18",
                                    "2": "936662225",
                                    "3": "1"
                                },
                                {
                                    "0": "Avengers: Age of Ultron",
                                    "1": "2015-05-01",
                                    "2": "459005868",
                                    "3": "2"
                                },
                                {
                                    "0": "Inside Out",
                                    "1": "2015-06-19",
                                    "2": "356461711",
                                    "3": "3"
                                },
                                {
                                    "0": "Cinderella",
                                    "1": "2015-03-13",
                                    "2": "201151353",
                                    "3": "4"
                                },
                                {
                                    "0": "Ant-Man",
                                    "1": "2015-07-17",
                                    "2": "180202163",
                                    "3": "5"
                                },
                                {
                                    "0": "The Good Dinosaur",
                                    "1": "2015-11-25",
                                    "2": "123087120",
                                    "3": "6"
                                },
                                {
                                    "0": "Tomorrowland",
                                    "1": "2015-05-22",
                                    "2": "93436322",
                                    "3": "7"
                                },
                                {
                                    "0": "Bridge of Spies",
                                    "1": "2015-10-16",
                                    "2": "72313754",
                                    "3": "8"
                                },
                                {
                                    "0": "McFarland, USA",
                                    "1": "2015-02-20",
                                    "2": "44480275",
                                    "3": "9"
                                },
                                {
                                    "0": "Monkey Kingdom",
                                    "1": "2015-04-17",
                                    "2": "16432322",
                                    "3": "10"
                                },
                                {
                                    "0": "Strange Magic",
                                    "1": "2015-01-23",
                                    "2": "12429583",
                                    "3": "11"
                                },
                                {
                                    "0": "Rogue One: A Star Wars Story",
                                    "1": "2016-12-16",
                                    "2": "529483936",
                                    "3": "1"
                                },
                                {
                                    "0": "Finding Dory",
                                    "1": "2016-06-17",
                                    "2": "486295561",
                                    "3": "2"
                                },
                                {
                                    "0": "Captain America: Civil War",
                                    "1": "2016-05-06",
                                    "2": "408084349",
                                    "3": "3"
                                },
                                {
                                    "0": "The Jungle Book",
                                    "1": "2016-04-15",
                                    "2": "364001123",
                                    "3": "4"
                                },
                                {
                                    "0": "Zootopia",
                                    "1": "2016-03-04",
                                    "2": "341268248",
                                    "3": "5"
                                },
                                {
                                    "0": "Moana",
                                    "1": "2016-11-23",
                                    "2": "246082029",
                                    "3": "6"
                                },
                                {
                                    "0": "Doctor Strange",
                                    "1": "2016-11-04",
                                    "2": "232532923",
                                    "3": "7"
                                },
                                {
                                    "0": "Alice Through the Looking Glass",
                                    "1": "2016-05-27",
                                    "2": "77042381",
                                    "3": "8"
                                },
                                {
                                    "0": "Pete’s Dragon",
                                    "1": "2016-08-12",
                                    "2": "76233151",
                                    "3": "9"
                                },
                                {
                                    "0": "The BFG",
                                    "1": "2016-07-01",
                                    "2": "55483770",
                                    "3": "10"
                                },
                                {
                                    "0": "The Finest Hours",
                                    "1": "2016-01-29",
                                    "2": "27569558",
                                    "3": "11"
                                },
                                {
                                    "0": "The Light Between Oceans",
                                    "1": "2016-09-02",
                                    "2": "12545979",
                                    "3": "12"
                                },
                                {
                                    "0": "Queen of Katwe",
                                    "1": "2016-09-23",
                                    "2": "8874389",
                                    "3": "13"
                                },
                                {
                                    "0": "A Beautiful Planet",
                                    "1": "2016-04-29",
                                    "2": "7895708",
                                    "3": "14"
                                }
                            ]
                        },
                        "text/html": "<table><tr><th>movie_title</th><th>release_date</th><th>inflation_adjusted_gross</th><th>gross_rank</th></tr><tr><td>Pirates of the Caribbean: On Stranger…</td><td>2011-05-20</td><td>256263359</td><td>1</td></tr><tr><td>Cars 2</td><td>2011-06-24</td><td>203522177</td><td>2</td></tr><tr><td>The Help</td><td>2011-08-10</td><td>180404976</td><td>3</td></tr><tr><td>Gnomeo and Juliet</td><td>2011-02-11</td><td>106270797</td><td>4</td></tr><tr><td>The Muppets</td><td>2011-11-23</td><td>94189503</td><td>5</td></tr><tr><td>Real Steel</td><td>2011-10-07</td><td>90848019</td><td>6</td></tr><tr><td>War Horse</td><td>2011-12-25</td><td>84762149</td><td>7</td></tr><tr><td>I am Number Four</td><td>2011-02-18</td><td>58574607</td><td>8</td></tr><tr><td>Winnie the Pooh</td><td>2011-07-15</td><td>28375869</td><td>9</td></tr><tr><td>Mars Needs Moms</td><td>2011-03-11</td><td>22741603</td><td>10</td></tr><tr><td>Fright Night</td><td>2011-08-19</td><td>19452402</td><td>11</td></tr><tr><td>African Cats</td><td>2011-04-22</td><td>16401551</td><td>12</td></tr><tr><td>Prom</td><td>2011-04-29</td><td>10768946</td><td>13</td></tr><tr><td>Zokkomon</td><td>2011-04-22</td><td>2984</td><td>14</td></tr><tr><td>The Avengers</td><td>2012-05-04</td><td>660081224</td><td>1</td></tr><tr><td>Brave</td><td>2012-06-22</td><td>251292441</td><td>2</td></tr><tr><td>Wreck-It Ralph</td><td>2012-11-02</td><td>200354959</td><td>3</td></tr><tr><td>Lincoln</td><td>2012-11-09</td><td>192122330</td><td>4</td></tr><tr><td>John Carter</td><td>2012-03-09</td><td>77372445</td><td>5</td></tr><tr><td>The Odd Life of Timothy Green</td><td>2012-08-15</td><td>54914942</td><td>6</td></tr><tr><td>Frankenweenie</td><td>2012-10-05</td><td>37363513</td><td>7</td></tr><tr><td>Chimpanzee</td><td>2012-04-20</td><td>30675725</td><td>8</td></tr><tr><td>The Secret World of Arietty</td><td>2012-02-17</td><td>20325733</td><td>9</td></tr><tr><td>People Like Us</td><td>2012-06-29</td><td>13165822</td><td>10</td></tr><tr><td>Iron Man 3</td><td>2013-05-03</td><td>424084233</td><td>1</td></tr><tr><td>Frozen</td><td>2013-11-22</td><td>414997174</td><td>2</td></tr><tr><td>Monsters University</td><td>2013-06-21</td><td>278395641</td><td>3</td></tr><tr><td>Oz the Great and Powerful</td><td>2013-03-08</td><td>243434130</td><td>4</td></tr><tr><td>Thor: The Dark World</td><td>2013-11-08</td><td>213962184</td><td>5</td></tr><tr><td>Disney Planes</td><td>2013-08-09</td><td>93614037</td><td>6</td></tr><tr><td>The Lone Ranger</td><td>2013-07-02</td><td>92597388</td><td>7</td></tr><tr><td>Saving Mr. Banks</td><td>2013-12-13</td><td>86249969</td><td>8</td></tr><tr><td>Delivery Man</td><td>2013-11-22</td><td>31787136</td><td>9</td></tr><tr><td>Kaze Tachinu</td><td>2013-11-08</td><td>5367415</td><td>10</td></tr><tr><td>The Fifth Estate</td><td>2013-10-18</td><td>3374251</td><td>11</td></tr><tr><td>Guardians of the Galaxy</td><td>2014-08-01</td><td>343771168</td><td>1</td></tr><tr><td>Captain America: The Winter Soldier</td><td>2014-04-04</td><td>268013076</td><td>2</td></tr><tr><td>Maleficent</td><td>2014-05-30</td><td>249089809</td><td>3</td></tr><tr><td>Big Hero 6</td><td>2014-11-07</td><td>229249222</td><td>4</td></tr><tr><td>Into the Woods</td><td>2014-12-25</td><td>130894237</td><td>5</td></tr><tr><td>Alexander and the Terrible, Horrible,…</td><td>2014-10-10</td><td>69055550</td><td>6</td></tr><tr><td>Planes: Fire and Rescue</td><td>2014-07-18</td><td>61040349</td><td>7</td></tr><tr><td>The Hundred-Foot Journey</td><td>2014-08-08</td><td>55961409</td><td>8</td></tr><tr><td>Muppets Most Wanted</td><td>2014-03-21</td><td>52807594</td><td>9</td></tr><tr><td>Need for Speed</td><td>2014-03-14</td><td>44955015</td><td>10</td></tr><tr><td>Million Dollar Arm</td><td>2014-05-10</td><td>37607865</td><td>11</td></tr><tr><td>Bears</td><td>2014-04-18</td><td>18346024</td><td>12</td></tr><tr><td>Star Wars Ep. VII: The Force Awakens</td><td>2015-12-18</td><td>936662225</td><td>1</td></tr><tr><td>Avengers: Age of Ultron</td><td>2015-05-01</td><td>459005868</td><td>2</td></tr><tr><td>Inside Out</td><td>2015-06-19</td><td>356461711</td><td>3</td></tr><tr><td>Cinderella</td><td>2015-03-13</td><td>201151353</td><td>4</td></tr><tr><td>Ant-Man</td><td>2015-07-17</td><td>180202163</td><td>5</td></tr><tr><td>The Good Dinosaur</td><td>2015-11-25</td><td>123087120</td><td>6</td></tr><tr><td>Tomorrowland</td><td>2015-05-22</td><td>93436322</td><td>7</td></tr><tr><td>Bridge of Spies</td><td>2015-10-16</td><td>72313754</td><td>8</td></tr><tr><td>McFarland, USA</td><td>2015-02-20</td><td>44480275</td><td>9</td></tr><tr><td>Monkey Kingdom</td><td>2015-04-17</td><td>16432322</td><td>10</td></tr><tr><td>Strange Magic</td><td>2015-01-23</td><td>12429583</td><td>11</td></tr><tr><td>Rogue One: A Star Wars Story</td><td>2016-12-16</td><td>529483936</td><td>1</td></tr><tr><td>Finding Dory</td><td>2016-06-17</td><td>486295561</td><td>2</td></tr><tr><td>Captain America: Civil War</td><td>2016-05-06</td><td>408084349</td><td>3</td></tr><tr><td>The Jungle Book</td><td>2016-04-15</td><td>364001123</td><td>4</td></tr><tr><td>Zootopia</td><td>2016-03-04</td><td>341268248</td><td>5</td></tr><tr><td>Moana</td><td>2016-11-23</td><td>246082029</td><td>6</td></tr><tr><td>Doctor Strange</td><td>2016-11-04</td><td>232532923</td><td>7</td></tr><tr><td>Alice Through the Looking Glass</td><td>2016-05-27</td><td>77042381</td><td>8</td></tr><tr><td>Pete’s Dragon</td><td>2016-08-12</td><td>76233151</td><td>9</td></tr><tr><td>The BFG</td><td>2016-07-01</td><td>55483770</td><td>10</td></tr><tr><td>The Finest Hours</td><td>2016-01-29</td><td>27569558</td><td>11</td></tr><tr><td>The Light Between Oceans</td><td>2016-09-02</td><td>12545979</td><td>12</td></tr><tr><td>Queen of Katwe</td><td>2016-09-23</td><td>8874389</td><td>13</td></tr><tr><td>A Beautiful Planet</td><td>2016-04-29</td><td>7895708</td><td>14</td></tr></table>"
                    },
                    "metadata": {}
                }
            ],
            "execution_count": 4
        },
        {
            "cell_type": "markdown",
            "source": "## หนังทำเงินสูงสุด 3 อันดับแรกในแต่ละปี",
            "metadata": {}
        },
        {
            "cell_type": "code",
            "source": [
                "with cte as (\n",
                "    SELECT movie_title, release_date, inflation_adjusted_gross,\n",
                "        rank() over (partition by year(release_date) order by inflation_adjusted_gross desc) gross_rank\n",
                "        from movie_gross\n",
                "        where year(release_date) > 2010    \n",
                ")\n",
                "select * from cte where gross_rank <= 3"
            ],
            "metadata": {},
            "outputs": [
                {
                    "output_type": "display_data",
                    "data": {
                        "text/html": "(18 rows affected)"
                    },
                    "metadata": {}
                },
                {
                    "output_type": "display_data",
                    "data": {
                        "text/html": "Total execution time: 00:00:00.058"
                    },
                    "metadata": {}
                },
                {
                    "output_type": "execute_result",
                    "execution_count": 5,
                    "data": {
                        "application/vnd.dataresource+json": {
                            "schema": {
                                "fields": [
                                    {
                                        "name": "movie_title"
                                    },
                                    {
                                        "name": "release_date"
                                    },
                                    {
                                        "name": "inflation_adjusted_gross"
                                    },
                                    {
                                        "name": "gross_rank"
                                    }
                                ]
                            },
                            "data": [
                                {
                                    "0": "Pirates of the Caribbean: On Stranger…",
                                    "1": "2011-05-20",
                                    "2": "256263359",
                                    "3": "1"
                                },
                                {
                                    "0": "Cars 2",
                                    "1": "2011-06-24",
                                    "2": "203522177",
                                    "3": "2"
                                },
                                {
                                    "0": "The Help",
                                    "1": "2011-08-10",
                                    "2": "180404976",
                                    "3": "3"
                                },
                                {
                                    "0": "The Avengers",
                                    "1": "2012-05-04",
                                    "2": "660081224",
                                    "3": "1"
                                },
                                {
                                    "0": "Brave",
                                    "1": "2012-06-22",
                                    "2": "251292441",
                                    "3": "2"
                                },
                                {
                                    "0": "Wreck-It Ralph",
                                    "1": "2012-11-02",
                                    "2": "200354959",
                                    "3": "3"
                                },
                                {
                                    "0": "Iron Man 3",
                                    "1": "2013-05-03",
                                    "2": "424084233",
                                    "3": "1"
                                },
                                {
                                    "0": "Frozen",
                                    "1": "2013-11-22",
                                    "2": "414997174",
                                    "3": "2"
                                },
                                {
                                    "0": "Monsters University",
                                    "1": "2013-06-21",
                                    "2": "278395641",
                                    "3": "3"
                                },
                                {
                                    "0": "Guardians of the Galaxy",
                                    "1": "2014-08-01",
                                    "2": "343771168",
                                    "3": "1"
                                },
                                {
                                    "0": "Captain America: The Winter Soldier",
                                    "1": "2014-04-04",
                                    "2": "268013076",
                                    "3": "2"
                                },
                                {
                                    "0": "Maleficent",
                                    "1": "2014-05-30",
                                    "2": "249089809",
                                    "3": "3"
                                },
                                {
                                    "0": "Star Wars Ep. VII: The Force Awakens",
                                    "1": "2015-12-18",
                                    "2": "936662225",
                                    "3": "1"
                                },
                                {
                                    "0": "Avengers: Age of Ultron",
                                    "1": "2015-05-01",
                                    "2": "459005868",
                                    "3": "2"
                                },
                                {
                                    "0": "Inside Out",
                                    "1": "2015-06-19",
                                    "2": "356461711",
                                    "3": "3"
                                },
                                {
                                    "0": "Rogue One: A Star Wars Story",
                                    "1": "2016-12-16",
                                    "2": "529483936",
                                    "3": "1"
                                },
                                {
                                    "0": "Finding Dory",
                                    "1": "2016-06-17",
                                    "2": "486295561",
                                    "3": "2"
                                },
                                {
                                    "0": "Captain America: Civil War",
                                    "1": "2016-05-06",
                                    "2": "408084349",
                                    "3": "3"
                                }
                            ]
                        },
                        "text/html": "<table><tr><th>movie_title</th><th>release_date</th><th>inflation_adjusted_gross</th><th>gross_rank</th></tr><tr><td>Pirates of the Caribbean: On Stranger…</td><td>2011-05-20</td><td>256263359</td><td>1</td></tr><tr><td>Cars 2</td><td>2011-06-24</td><td>203522177</td><td>2</td></tr><tr><td>The Help</td><td>2011-08-10</td><td>180404976</td><td>3</td></tr><tr><td>The Avengers</td><td>2012-05-04</td><td>660081224</td><td>1</td></tr><tr><td>Brave</td><td>2012-06-22</td><td>251292441</td><td>2</td></tr><tr><td>Wreck-It Ralph</td><td>2012-11-02</td><td>200354959</td><td>3</td></tr><tr><td>Iron Man 3</td><td>2013-05-03</td><td>424084233</td><td>1</td></tr><tr><td>Frozen</td><td>2013-11-22</td><td>414997174</td><td>2</td></tr><tr><td>Monsters University</td><td>2013-06-21</td><td>278395641</td><td>3</td></tr><tr><td>Guardians of the Galaxy</td><td>2014-08-01</td><td>343771168</td><td>1</td></tr><tr><td>Captain America: The Winter Soldier</td><td>2014-04-04</td><td>268013076</td><td>2</td></tr><tr><td>Maleficent</td><td>2014-05-30</td><td>249089809</td><td>3</td></tr><tr><td>Star Wars Ep. VII: The Force Awakens</td><td>2015-12-18</td><td>936662225</td><td>1</td></tr><tr><td>Avengers: Age of Ultron</td><td>2015-05-01</td><td>459005868</td><td>2</td></tr><tr><td>Inside Out</td><td>2015-06-19</td><td>356461711</td><td>3</td></tr><tr><td>Rogue One: A Star Wars Story</td><td>2016-12-16</td><td>529483936</td><td>1</td></tr><tr><td>Finding Dory</td><td>2016-06-17</td><td>486295561</td><td>2</td></tr><tr><td>Captain America: Civil War</td><td>2016-05-06</td><td>408084349</td><td>3</td></tr></table>"
                    },
                    "metadata": {}
                }
            ],
            "execution_count": 5
        },
        {
            "cell_type": "markdown",
            "source": "# DENSE_RANK()",
            "metadata": {}
        },
        {
            "cell_type": "code",
            "source": "select director, count(*) no_movies from director group by director",
            "metadata": {},
            "outputs": [
                {
                    "output_type": "display_data",
                    "data": {
                        "text/html": "(29 rows affected)"
                    },
                    "metadata": {}
                },
                {
                    "output_type": "display_data",
                    "data": {
                        "text/html": "Total execution time: 00:00:00.059"
                    },
                    "metadata": {}
                },
                {
                    "output_type": "execute_result",
                    "execution_count": 6,
                    "data": {
                        "application/vnd.dataresource+json": {
                            "schema": {
                                "fields": [
                                    {
                                        "name": "director"
                                    },
                                    {
                                        "name": "no_movies"
                                    }
                                ]
                            },
                            "data": [
                                {
                                    "0": "Art Stevens",
                                    "1": "1"
                                },
                                {
                                    "0": "Barry Cook",
                                    "1": "1"
                                },
                                {
                                    "0": "Ben Sharpsteen",
                                    "1": "2"
                                },
                                {
                                    "0": "Byron Howard",
                                    "1": "1"
                                },
                                {
                                    "0": "Chris Buck",
                                    "1": "2"
                                },
                                {
                                    "0": "Chris Sanders",
                                    "1": "1"
                                },
                                {
                                    "0": "Chris Williams",
                                    "1": "1"
                                },
                                {
                                    "0": "Clyde Geronimi",
                                    "1": "3"
                                },
                                {
                                    "0": "David Hand",
                                    "1": "2"
                                },
                                {
                                    "0": "Don Hall",
                                    "1": "1"
                                },
                                {
                                    "0": "full credits",
                                    "1": "2"
                                },
                                {
                                    "0": "Gary Trousdale",
                                    "1": "3"
                                },
                                {
                                    "0": "George Scribner",
                                    "1": "1"
                                },
                                {
                                    "0": "Hamilton Luske",
                                    "1": "2"
                                },
                                {
                                    "0": "Jack Kinney",
                                    "1": "4"
                                },
                                {
                                    "0": "Mark Dindal",
                                    "1": "2"
                                },
                                {
                                    "0": "Mike Gabriel",
                                    "1": "2"
                                },
                                {
                                    "0": "Nathan Greno",
                                    "1": "1"
                                },
                                {
                                    "0": "Norman Ferguson",
                                    "1": "1"
                                },
                                {
                                    "0": "Ralph Zondag",
                                    "1": "1"
                                },
                                {
                                    "0": "Rich Moore",
                                    "1": "1"
                                },
                                {
                                    "0": "Robert Walker",
                                    "1": "1"
                                },
                                {
                                    "0": "Roger Allers",
                                    "1": "1"
                                },
                                {
                                    "0": "Ron Clements",
                                    "1": "7"
                                },
                                {
                                    "0": "Stephen J. Anderson",
                                    "1": "2"
                                },
                                {
                                    "0": "Ted Berman",
                                    "1": "1"
                                },
                                {
                                    "0": "Wilfred Jackson",
                                    "1": "1"
                                },
                                {
                                    "0": "Will Finn",
                                    "1": "1"
                                },
                                {
                                    "0": "Wolfgang Reitherman",
                                    "1": "7"
                                }
                            ]
                        },
                        "text/html": "<table><tr><th>director</th><th>no_movies</th></tr><tr><td>Art Stevens</td><td>1</td></tr><tr><td>Barry Cook</td><td>1</td></tr><tr><td>Ben Sharpsteen</td><td>2</td></tr><tr><td>Byron Howard</td><td>1</td></tr><tr><td>Chris Buck</td><td>2</td></tr><tr><td>Chris Sanders</td><td>1</td></tr><tr><td>Chris Williams</td><td>1</td></tr><tr><td>Clyde Geronimi</td><td>3</td></tr><tr><td>David Hand</td><td>2</td></tr><tr><td>Don Hall</td><td>1</td></tr><tr><td>full credits</td><td>2</td></tr><tr><td>Gary Trousdale</td><td>3</td></tr><tr><td>George Scribner</td><td>1</td></tr><tr><td>Hamilton Luske</td><td>2</td></tr><tr><td>Jack Kinney</td><td>4</td></tr><tr><td>Mark Dindal</td><td>2</td></tr><tr><td>Mike Gabriel</td><td>2</td></tr><tr><td>Nathan Greno</td><td>1</td></tr><tr><td>Norman Ferguson</td><td>1</td></tr><tr><td>Ralph Zondag</td><td>1</td></tr><tr><td>Rich Moore</td><td>1</td></tr><tr><td>Robert Walker</td><td>1</td></tr><tr><td>Roger Allers</td><td>1</td></tr><tr><td>Ron Clements</td><td>7</td></tr><tr><td>Stephen J. Anderson</td><td>2</td></tr><tr><td>Ted Berman</td><td>1</td></tr><tr><td>Wilfred Jackson</td><td>1</td></tr><tr><td>Will Finn</td><td>1</td></tr><tr><td>Wolfgang Reitherman</td><td>7</td></tr></table>"
                    },
                    "metadata": {}
                }
            ],
            "execution_count": 6
        },
        {
            "cell_type": "code",
            "source": [
                "with cte as (\n",
                "    select director, count(*) no_movies from director group by director    \n",
                ")\n",
                "select *,\n",
                "    rank() over (order by no_movies desc) rank,\n",
                "    dense_rank() over (order by no_movies desc) dense_rank,\n",
                "    ROW_NUMBER() over (order by no_movies desc) row_num\n",
                "    from cte"
            ],
            "metadata": {},
            "outputs": [
                {
                    "output_type": "display_data",
                    "data": {
                        "text/html": "(29 rows affected)"
                    },
                    "metadata": {}
                },
                {
                    "output_type": "display_data",
                    "data": {
                        "text/html": "Total execution time: 00:00:00.072"
                    },
                    "metadata": {}
                },
                {
                    "output_type": "execute_result",
                    "execution_count": 7,
                    "data": {
                        "application/vnd.dataresource+json": {
                            "schema": {
                                "fields": [
                                    {
                                        "name": "director"
                                    },
                                    {
                                        "name": "no_movies"
                                    },
                                    {
                                        "name": "rank"
                                    },
                                    {
                                        "name": "dense_rank"
                                    },
                                    {
                                        "name": "row_num"
                                    }
                                ]
                            },
                            "data": [
                                {
                                    "0": "Ron Clements",
                                    "1": "7",
                                    "2": "1",
                                    "3": "1",
                                    "4": "1"
                                },
                                {
                                    "0": "Wolfgang Reitherman",
                                    "1": "7",
                                    "2": "1",
                                    "3": "1",
                                    "4": "2"
                                },
                                {
                                    "0": "Jack Kinney",
                                    "1": "4",
                                    "2": "3",
                                    "3": "2",
                                    "4": "3"
                                },
                                {
                                    "0": "Clyde Geronimi",
                                    "1": "3",
                                    "2": "4",
                                    "3": "3",
                                    "4": "4"
                                },
                                {
                                    "0": "Gary Trousdale",
                                    "1": "3",
                                    "2": "4",
                                    "3": "3",
                                    "4": "5"
                                },
                                {
                                    "0": "full credits",
                                    "1": "2",
                                    "2": "6",
                                    "3": "4",
                                    "4": "6"
                                },
                                {
                                    "0": "Hamilton Luske",
                                    "1": "2",
                                    "2": "6",
                                    "3": "4",
                                    "4": "7"
                                },
                                {
                                    "0": "Stephen J. Anderson",
                                    "1": "2",
                                    "2": "6",
                                    "3": "4",
                                    "4": "8"
                                },
                                {
                                    "0": "David Hand",
                                    "1": "2",
                                    "2": "6",
                                    "3": "4",
                                    "4": "9"
                                },
                                {
                                    "0": "Chris Buck",
                                    "1": "2",
                                    "2": "6",
                                    "3": "4",
                                    "4": "10"
                                },
                                {
                                    "0": "Ben Sharpsteen",
                                    "1": "2",
                                    "2": "6",
                                    "3": "4",
                                    "4": "11"
                                },
                                {
                                    "0": "Mark Dindal",
                                    "1": "2",
                                    "2": "6",
                                    "3": "4",
                                    "4": "12"
                                },
                                {
                                    "0": "Mike Gabriel",
                                    "1": "2",
                                    "2": "6",
                                    "3": "4",
                                    "4": "13"
                                },
                                {
                                    "0": "Nathan Greno",
                                    "1": "1",
                                    "2": "14",
                                    "3": "5",
                                    "4": "14"
                                },
                                {
                                    "0": "Norman Ferguson",
                                    "1": "1",
                                    "2": "14",
                                    "3": "5",
                                    "4": "15"
                                },
                                {
                                    "0": "Ralph Zondag",
                                    "1": "1",
                                    "2": "14",
                                    "3": "5",
                                    "4": "16"
                                },
                                {
                                    "0": "Rich Moore",
                                    "1": "1",
                                    "2": "14",
                                    "3": "5",
                                    "4": "17"
                                },
                                {
                                    "0": "Robert Walker",
                                    "1": "1",
                                    "2": "14",
                                    "3": "5",
                                    "4": "18"
                                },
                                {
                                    "0": "Roger Allers",
                                    "1": "1",
                                    "2": "14",
                                    "3": "5",
                                    "4": "19"
                                },
                                {
                                    "0": "Byron Howard",
                                    "1": "1",
                                    "2": "14",
                                    "3": "5",
                                    "4": "20"
                                },
                                {
                                    "0": "Art Stevens",
                                    "1": "1",
                                    "2": "14",
                                    "3": "5",
                                    "4": "21"
                                },
                                {
                                    "0": "Barry Cook",
                                    "1": "1",
                                    "2": "14",
                                    "3": "5",
                                    "4": "22"
                                },
                                {
                                    "0": "Chris Sanders",
                                    "1": "1",
                                    "2": "14",
                                    "3": "5",
                                    "4": "23"
                                },
                                {
                                    "0": "Chris Williams",
                                    "1": "1",
                                    "2": "14",
                                    "3": "5",
                                    "4": "24"
                                },
                                {
                                    "0": "Don Hall",
                                    "1": "1",
                                    "2": "14",
                                    "3": "5",
                                    "4": "25"
                                },
                                {
                                    "0": "Ted Berman",
                                    "1": "1",
                                    "2": "14",
                                    "3": "5",
                                    "4": "26"
                                },
                                {
                                    "0": "Wilfred Jackson",
                                    "1": "1",
                                    "2": "14",
                                    "3": "5",
                                    "4": "27"
                                },
                                {
                                    "0": "Will Finn",
                                    "1": "1",
                                    "2": "14",
                                    "3": "5",
                                    "4": "28"
                                },
                                {
                                    "0": "George Scribner",
                                    "1": "1",
                                    "2": "14",
                                    "3": "5",
                                    "4": "29"
                                }
                            ]
                        },
                        "text/html": "<table><tr><th>director</th><th>no_movies</th><th>rank</th><th>dense_rank</th><th>row_num</th></tr><tr><td>Ron Clements</td><td>7</td><td>1</td><td>1</td><td>1</td></tr><tr><td>Wolfgang Reitherman</td><td>7</td><td>1</td><td>1</td><td>2</td></tr><tr><td>Jack Kinney</td><td>4</td><td>3</td><td>2</td><td>3</td></tr><tr><td>Clyde Geronimi</td><td>3</td><td>4</td><td>3</td><td>4</td></tr><tr><td>Gary Trousdale</td><td>3</td><td>4</td><td>3</td><td>5</td></tr><tr><td>full credits</td><td>2</td><td>6</td><td>4</td><td>6</td></tr><tr><td>Hamilton Luske</td><td>2</td><td>6</td><td>4</td><td>7</td></tr><tr><td>Stephen J. Anderson</td><td>2</td><td>6</td><td>4</td><td>8</td></tr><tr><td>David Hand</td><td>2</td><td>6</td><td>4</td><td>9</td></tr><tr><td>Chris Buck</td><td>2</td><td>6</td><td>4</td><td>10</td></tr><tr><td>Ben Sharpsteen</td><td>2</td><td>6</td><td>4</td><td>11</td></tr><tr><td>Mark Dindal</td><td>2</td><td>6</td><td>4</td><td>12</td></tr><tr><td>Mike Gabriel</td><td>2</td><td>6</td><td>4</td><td>13</td></tr><tr><td>Nathan Greno</td><td>1</td><td>14</td><td>5</td><td>14</td></tr><tr><td>Norman Ferguson</td><td>1</td><td>14</td><td>5</td><td>15</td></tr><tr><td>Ralph Zondag</td><td>1</td><td>14</td><td>5</td><td>16</td></tr><tr><td>Rich Moore</td><td>1</td><td>14</td><td>5</td><td>17</td></tr><tr><td>Robert Walker</td><td>1</td><td>14</td><td>5</td><td>18</td></tr><tr><td>Roger Allers</td><td>1</td><td>14</td><td>5</td><td>19</td></tr><tr><td>Byron Howard</td><td>1</td><td>14</td><td>5</td><td>20</td></tr><tr><td>Art Stevens</td><td>1</td><td>14</td><td>5</td><td>21</td></tr><tr><td>Barry Cook</td><td>1</td><td>14</td><td>5</td><td>22</td></tr><tr><td>Chris Sanders</td><td>1</td><td>14</td><td>5</td><td>23</td></tr><tr><td>Chris Williams</td><td>1</td><td>14</td><td>5</td><td>24</td></tr><tr><td>Don Hall</td><td>1</td><td>14</td><td>5</td><td>25</td></tr><tr><td>Ted Berman</td><td>1</td><td>14</td><td>5</td><td>26</td></tr><tr><td>Wilfred Jackson</td><td>1</td><td>14</td><td>5</td><td>27</td></tr><tr><td>Will Finn</td><td>1</td><td>14</td><td>5</td><td>28</td></tr><tr><td>George Scribner</td><td>1</td><td>14</td><td>5</td><td>29</td></tr></table>"
                    },
                    "metadata": {}
                }
            ],
            "execution_count": 7
        }
    ]
}