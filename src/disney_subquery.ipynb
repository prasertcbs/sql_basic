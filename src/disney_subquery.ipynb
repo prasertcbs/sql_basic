{
    "metadata": {
        "kernelspec": {
            "name": "SQL",
            "display_name": "SQL",
            "language": "sql"
        },
        "language_info": {
            "name": "sql",
            "version": ""
        }
    },
    "nbformat_minor": 2,
    "nbformat": 4,
    "cells": [
        {
            "cell_type": "markdown",
            "source": [
                "# SUBQUERY\n",
                "## Server: Microsoft SQL Server\n",
                "## Database: disney\n",
                "## Author: Prasert Kanawatanachai\n",
                "## YouTube: https://youtu.be/Q0rBOyax2eY"
            ],
            "metadata": {}
        },
        {
            "cell_type": "code",
            "source": [
                "select movie_title, total_gross from movie_gross\n",
                "    where year(release_date) = 2016"
            ],
            "metadata": {},
            "outputs": [
                {
                    "output_type": "display_data",
                    "data": {
                        "text/html": "(14 rows affected)"
                    },
                    "metadata": {}
                },
                {
                    "output_type": "display_data",
                    "data": {
                        "text/html": "Total execution time: 00:00:00.059"
                    },
                    "metadata": {}
                },
                {
                    "output_type": "execute_result",
                    "execution_count": 12,
                    "data": {
                        "application/vnd.dataresource+json": {
                            "schema": {
                                "fields": [
                                    {
                                        "name": "movie_title"
                                    },
                                    {
                                        "name": "total_gross"
                                    }
                                ]
                            },
                            "data": [
                                {
                                    "0": "The Finest Hours",
                                    "1": "27569558"
                                },
                                {
                                    "0": "Zootopia",
                                    "1": "341268248"
                                },
                                {
                                    "0": "The Jungle Book",
                                    "1": "364001123"
                                },
                                {
                                    "0": "A Beautiful Planet",
                                    "1": "7895708"
                                },
                                {
                                    "0": "Captain America: Civil War",
                                    "1": "408084349"
                                },
                                {
                                    "0": "Alice Through the Looking Glass",
                                    "1": "77042381"
                                },
                                {
                                    "0": "Finding Dory",
                                    "1": "486295561"
                                },
                                {
                                    "0": "The BFG",
                                    "1": "55483770"
                                },
                                {
                                    "0": "Pete’s Dragon",
                                    "1": "76233151"
                                },
                                {
                                    "0": "The Light Between Oceans",
                                    "1": "12545979"
                                },
                                {
                                    "0": "Queen of Katwe",
                                    "1": "8874389"
                                },
                                {
                                    "0": "Doctor Strange",
                                    "1": "232532923"
                                },
                                {
                                    "0": "Moana",
                                    "1": "246082029"
                                },
                                {
                                    "0": "Rogue One: A Star Wars Story",
                                    "1": "529483936"
                                }
                            ]
                        },
                        "text/html": "<table><tr><th>movie_title</th><th>total_gross</th></tr><tr><td>The Finest Hours</td><td>27569558</td></tr><tr><td>Zootopia</td><td>341268248</td></tr><tr><td>The Jungle Book</td><td>364001123</td></tr><tr><td>A Beautiful Planet</td><td>7895708</td></tr><tr><td>Captain America: Civil War</td><td>408084349</td></tr><tr><td>Alice Through the Looking Glass</td><td>77042381</td></tr><tr><td>Finding Dory</td><td>486295561</td></tr><tr><td>The BFG</td><td>55483770</td></tr><tr><td>Pete’s Dragon</td><td>76233151</td></tr><tr><td>The Light Between Oceans</td><td>12545979</td></tr><tr><td>Queen of Katwe</td><td>8874389</td></tr><tr><td>Doctor Strange</td><td>232532923</td></tr><tr><td>Moana</td><td>246082029</td></tr><tr><td>Rogue One: A Star Wars Story</td><td>529483936</td></tr></table>"
                    },
                    "metadata": {}
                }
            ],
            "execution_count": 12
        },
        {
            "cell_type": "code",
            "source": [
                "select sum(total_gross) from movie_gross\n",
                "    where year(release_date) = 2016"
            ],
            "metadata": {},
            "outputs": [
                {
                    "output_type": "display_data",
                    "data": {
                        "text/html": "(1 row affected)"
                    },
                    "metadata": {}
                },
                {
                    "output_type": "display_data",
                    "data": {
                        "text/html": "Total execution time: 00:00:00.069"
                    },
                    "metadata": {}
                },
                {
                    "output_type": "execute_result",
                    "execution_count": 13,
                    "data": {
                        "application/vnd.dataresource+json": {
                            "schema": {
                                "fields": [
                                    {
                                        "name": "(No column name)"
                                    }
                                ]
                            },
                            "data": [
                                {
                                    "0": "2873393105"
                                }
                            ]
                        },
                        "text/html": "<table><tr><th>(No column name)</th></tr><tr><td>2873393105</td></tr></table>"
                    },
                    "metadata": {}
                }
            ],
            "execution_count": 13
        },
        {
            "cell_type": "markdown",
            "source": "## รายได้หนังแต่ละเรื่องในปี 2016 เป็นกี % ของรายได้รวมทั้งปี",
            "metadata": {}
        },
        {
            "cell_type": "code",
            "source": [
                "select movie_title, \n",
                "    total_gross,\n",
                "    total_gross / 2873393105\n",
                "    from movie_gross\n",
                "    where year(release_date) = 2016"
            ],
            "metadata": {},
            "outputs": [
                {
                    "output_type": "display_data",
                    "data": {
                        "text/html": "(14 rows affected)"
                    },
                    "metadata": {}
                },
                {
                    "output_type": "display_data",
                    "data": {
                        "text/html": "Total execution time: 00:00:00.055"
                    },
                    "metadata": {}
                },
                {
                    "output_type": "execute_result",
                    "execution_count": 14,
                    "data": {
                        "application/vnd.dataresource+json": {
                            "schema": {
                                "fields": [
                                    {
                                        "name": "movie_title"
                                    },
                                    {
                                        "name": "total_gross"
                                    },
                                    {
                                        "name": "(No column name)"
                                    }
                                ]
                            },
                            "data": [
                                {
                                    "0": "The Finest Hours",
                                    "1": "27569558",
                                    "2": "0.00959477418"
                                },
                                {
                                    "0": "Zootopia",
                                    "1": "341268248",
                                    "2": "0.11876838132"
                                },
                                {
                                    "0": "The Jungle Book",
                                    "1": "364001123",
                                    "2": "0.12667989018"
                                },
                                {
                                    "0": "A Beautiful Planet",
                                    "1": "7895708",
                                    "2": "0.00274786905"
                                },
                                {
                                    "0": "Captain America: Civil War",
                                    "1": "408084349",
                                    "2": "0.14202176106"
                                },
                                {
                                    "0": "Alice Through the Looking Glass",
                                    "1": "77042381",
                                    "2": "0.02681233586"
                                },
                                {
                                    "0": "Finding Dory",
                                    "1": "486295561",
                                    "2": "0.16924087419"
                                },
                                {
                                    "0": "The BFG",
                                    "1": "55483770",
                                    "2": "0.01930949507"
                                },
                                {
                                    "0": "Pete’s Dragon",
                                    "1": "76233151",
                                    "2": "0.02653070715"
                                },
                                {
                                    "0": "The Light Between Oceans",
                                    "1": "12545979",
                                    "2": "0.00436625917"
                                },
                                {
                                    "0": "Queen of Katwe",
                                    "1": "8874389",
                                    "2": "0.00308847020"
                                },
                                {
                                    "0": "Doctor Strange",
                                    "1": "232532923",
                                    "2": "0.08092624799"
                                },
                                {
                                    "0": "Moana",
                                    "1": "246082029",
                                    "2": "0.08564161602"
                                },
                                {
                                    "0": "Rogue One: A Star Wars Story",
                                    "1": "529483936",
                                    "2": "0.18427131849"
                                }
                            ]
                        },
                        "text/html": "<table><tr><th>movie_title</th><th>total_gross</th><th>(No column name)</th></tr><tr><td>The Finest Hours</td><td>27569558</td><td>0.00959477418</td></tr><tr><td>Zootopia</td><td>341268248</td><td>0.11876838132</td></tr><tr><td>The Jungle Book</td><td>364001123</td><td>0.12667989018</td></tr><tr><td>A Beautiful Planet</td><td>7895708</td><td>0.00274786905</td></tr><tr><td>Captain America: Civil War</td><td>408084349</td><td>0.14202176106</td></tr><tr><td>Alice Through the Looking Glass</td><td>77042381</td><td>0.02681233586</td></tr><tr><td>Finding Dory</td><td>486295561</td><td>0.16924087419</td></tr><tr><td>The BFG</td><td>55483770</td><td>0.01930949507</td></tr><tr><td>Pete’s Dragon</td><td>76233151</td><td>0.02653070715</td></tr><tr><td>The Light Between Oceans</td><td>12545979</td><td>0.00436625917</td></tr><tr><td>Queen of Katwe</td><td>8874389</td><td>0.00308847020</td></tr><tr><td>Doctor Strange</td><td>232532923</td><td>0.08092624799</td></tr><tr><td>Moana</td><td>246082029</td><td>0.08564161602</td></tr><tr><td>Rogue One: A Star Wars Story</td><td>529483936</td><td>0.18427131849</td></tr></table>"
                    },
                    "metadata": {}
                }
            ],
            "execution_count": 14
        },
        {
            "cell_type": "code",
            "source": [
                "select movie_title, genre,\n",
                "    total_gross,\n",
                "    (select sum(total_gross) from movie_gross where year(release_date) = 2016) [total gross 2016],\n",
                "    total_gross / 2873393105,\n",
                "    (total_gross * 1.0 / (select sum(total_gross) from movie_gross where year(release_date) = 2016)) [% of total gross]\n",
                "    from movie_gross\n",
                "    where year(release_date) = 2016"
            ],
            "metadata": {},
            "outputs": [
                {
                    "output_type": "display_data",
                    "data": {
                        "text/html": "(14 rows affected)"
                    },
                    "metadata": {}
                },
                {
                    "output_type": "display_data",
                    "data": {
                        "text/html": "Total execution time: 00:00:00.063"
                    },
                    "metadata": {}
                },
                {
                    "output_type": "execute_result",
                    "execution_count": 15,
                    "data": {
                        "application/vnd.dataresource+json": {
                            "schema": {
                                "fields": [
                                    {
                                        "name": "movie_title"
                                    },
                                    {
                                        "name": "genre"
                                    },
                                    {
                                        "name": "total_gross"
                                    },
                                    {
                                        "name": "total gross 2016"
                                    },
                                    {
                                        "name": "(No column name)"
                                    },
                                    {
                                        "name": "% of total gross"
                                    }
                                ]
                            },
                            "data": [
                                {
                                    "0": "The Finest Hours",
                                    "1": "Thriller/Suspense",
                                    "2": "27569558",
                                    "3": "2873393105",
                                    "4": "0.00959477418",
                                    "5": "0.00959477418945083"
                                },
                                {
                                    "0": "Zootopia",
                                    "1": "Adventure",
                                    "2": "341268248",
                                    "3": "2873393105",
                                    "4": "0.11876838132",
                                    "5": "0.11876838132803969"
                                },
                                {
                                    "0": "The Jungle Book",
                                    "1": "Adventure",
                                    "2": "364001123",
                                    "3": "2873393105",
                                    "4": "0.12667989018",
                                    "5": "0.12667989018509181"
                                },
                                {
                                    "0": "A Beautiful Planet",
                                    "1": "Documentary",
                                    "2": "7895708",
                                    "3": "2873393105",
                                    "4": "0.00274786905",
                                    "5": "0.00274786905636428"
                                },
                                {
                                    "0": "Captain America: Civil War",
                                    "1": "Action",
                                    "2": "408084349",
                                    "3": "2873393105",
                                    "4": "0.14202176106",
                                    "5": "0.14202176106356321"
                                },
                                {
                                    "0": "Alice Through the Looking Glass",
                                    "1": "Adventure",
                                    "2": "77042381",
                                    "3": "2873393105",
                                    "4": "0.02681233586",
                                    "5": "0.02681233586380447"
                                },
                                {
                                    "0": "Finding Dory",
                                    "1": "Adventure",
                                    "2": "486295561",
                                    "3": "2873393105",
                                    "4": "0.16924087419",
                                    "5": "0.16924087419636235"
                                },
                                {
                                    "0": "The BFG",
                                    "1": "Adventure",
                                    "2": "55483770",
                                    "3": "2873393105",
                                    "4": "0.01930949507",
                                    "5": "0.01930949507168111"
                                },
                                {
                                    "0": "Pete’s Dragon",
                                    "1": "Adventure",
                                    "2": "76233151",
                                    "3": "2873393105",
                                    "4": "0.02653070715",
                                    "5": "0.02653070715153678"
                                },
                                {
                                    "0": "The Light Between Oceans",
                                    "1": "Drama",
                                    "2": "12545979",
                                    "3": "2873393105",
                                    "4": "0.00436625917",
                                    "5": "0.00436625917218521"
                                },
                                {
                                    "0": "Queen of Katwe",
                                    "1": "Drama",
                                    "2": "8874389",
                                    "3": "2873393105",
                                    "4": "0.00308847020",
                                    "5": "0.00308847020776852"
                                },
                                {
                                    "0": "Doctor Strange",
                                    "1": "Adventure",
                                    "2": "232532923",
                                    "3": "2873393105",
                                    "4": "0.08092624799",
                                    "5": "0.08092624799418108"
                                },
                                {
                                    "0": "Moana",
                                    "1": "Adventure",
                                    "2": "246082029",
                                    "3": "2873393105",
                                    "4": "0.08564161602",
                                    "5": "0.08564161602942246"
                                },
                                {
                                    "0": "Rogue One: A Star Wars Story",
                                    "1": "Adventure",
                                    "2": "529483936",
                                    "3": "2873393105",
                                    "4": "0.18427131849",
                                    "5": "0.18427131849054812"
                                }
                            ]
                        },
                        "text/html": "<table><tr><th>movie_title</th><th>genre</th><th>total_gross</th><th>total gross 2016</th><th>(No column name)</th><th>% of total gross</th></tr><tr><td>The Finest Hours</td><td>Thriller/Suspense</td><td>27569558</td><td>2873393105</td><td>0.00959477418</td><td>0.00959477418945083</td></tr><tr><td>Zootopia</td><td>Adventure</td><td>341268248</td><td>2873393105</td><td>0.11876838132</td><td>0.11876838132803969</td></tr><tr><td>The Jungle Book</td><td>Adventure</td><td>364001123</td><td>2873393105</td><td>0.12667989018</td><td>0.12667989018509181</td></tr><tr><td>A Beautiful Planet</td><td>Documentary</td><td>7895708</td><td>2873393105</td><td>0.00274786905</td><td>0.00274786905636428</td></tr><tr><td>Captain America: Civil War</td><td>Action</td><td>408084349</td><td>2873393105</td><td>0.14202176106</td><td>0.14202176106356321</td></tr><tr><td>Alice Through the Looking Glass</td><td>Adventure</td><td>77042381</td><td>2873393105</td><td>0.02681233586</td><td>0.02681233586380447</td></tr><tr><td>Finding Dory</td><td>Adventure</td><td>486295561</td><td>2873393105</td><td>0.16924087419</td><td>0.16924087419636235</td></tr><tr><td>The BFG</td><td>Adventure</td><td>55483770</td><td>2873393105</td><td>0.01930949507</td><td>0.01930949507168111</td></tr><tr><td>Pete’s Dragon</td><td>Adventure</td><td>76233151</td><td>2873393105</td><td>0.02653070715</td><td>0.02653070715153678</td></tr><tr><td>The Light Between Oceans</td><td>Drama</td><td>12545979</td><td>2873393105</td><td>0.00436625917</td><td>0.00436625917218521</td></tr><tr><td>Queen of Katwe</td><td>Drama</td><td>8874389</td><td>2873393105</td><td>0.00308847020</td><td>0.00308847020776852</td></tr><tr><td>Doctor Strange</td><td>Adventure</td><td>232532923</td><td>2873393105</td><td>0.08092624799</td><td>0.08092624799418108</td></tr><tr><td>Moana</td><td>Adventure</td><td>246082029</td><td>2873393105</td><td>0.08564161602</td><td>0.08564161602942246</td></tr><tr><td>Rogue One: A Star Wars Story</td><td>Adventure</td><td>529483936</td><td>2873393105</td><td>0.18427131849</td><td>0.18427131849054812</td></tr></table>"
                    },
                    "metadata": {}
                }
            ],
            "execution_count": 15
        },
        {
            "cell_type": "markdown",
            "source": "## ในปี 2016 หนังเรื่องใดที่สร้างรายได้สูงกว่ารายได้เฉลี่ย",
            "metadata": {}
        },
        {
            "cell_type": "code",
            "source": [
                "select movie_title, genre, total_gross, \n",
                "    (select avg(total_gross) from movie_gross where year(release_date) = 2016)\n",
                "    from movie_gross\n",
                "    where year(release_date) = 2016 and \n",
                "        total_gross > (select avg(total_gross) from movie_gross where year(release_date) = 2016)"
            ],
            "metadata": {},
            "outputs": [
                {
                    "output_type": "display_data",
                    "data": {
                        "text/html": "(7 rows affected)"
                    },
                    "metadata": {}
                },
                {
                    "output_type": "display_data",
                    "data": {
                        "text/html": "Total execution time: 00:00:00.077"
                    },
                    "metadata": {}
                },
                {
                    "output_type": "execute_result",
                    "execution_count": 16,
                    "data": {
                        "application/vnd.dataresource+json": {
                            "schema": {
                                "fields": [
                                    {
                                        "name": "movie_title"
                                    },
                                    {
                                        "name": "genre"
                                    },
                                    {
                                        "name": "total_gross"
                                    },
                                    {
                                        "name": "(No column name)"
                                    }
                                ]
                            },
                            "data": [
                                {
                                    "0": "Zootopia",
                                    "1": "Adventure",
                                    "2": "341268248",
                                    "3": "205242364"
                                },
                                {
                                    "0": "The Jungle Book",
                                    "1": "Adventure",
                                    "2": "364001123",
                                    "3": "205242364"
                                },
                                {
                                    "0": "Captain America: Civil War",
                                    "1": "Action",
                                    "2": "408084349",
                                    "3": "205242364"
                                },
                                {
                                    "0": "Finding Dory",
                                    "1": "Adventure",
                                    "2": "486295561",
                                    "3": "205242364"
                                },
                                {
                                    "0": "Doctor Strange",
                                    "1": "Adventure",
                                    "2": "232532923",
                                    "3": "205242364"
                                },
                                {
                                    "0": "Moana",
                                    "1": "Adventure",
                                    "2": "246082029",
                                    "3": "205242364"
                                },
                                {
                                    "0": "Rogue One: A Star Wars Story",
                                    "1": "Adventure",
                                    "2": "529483936",
                                    "3": "205242364"
                                }
                            ]
                        },
                        "text/html": "<table><tr><th>movie_title</th><th>genre</th><th>total_gross</th><th>(No column name)</th></tr><tr><td>Zootopia</td><td>Adventure</td><td>341268248</td><td>205242364</td></tr><tr><td>The Jungle Book</td><td>Adventure</td><td>364001123</td><td>205242364</td></tr><tr><td>Captain America: Civil War</td><td>Action</td><td>408084349</td><td>205242364</td></tr><tr><td>Finding Dory</td><td>Adventure</td><td>486295561</td><td>205242364</td></tr><tr><td>Doctor Strange</td><td>Adventure</td><td>232532923</td><td>205242364</td></tr><tr><td>Moana</td><td>Adventure</td><td>246082029</td><td>205242364</td></tr><tr><td>Rogue One: A Star Wars Story</td><td>Adventure</td><td>529483936</td><td>205242364</td></tr></table>"
                    },
                    "metadata": {}
                }
            ],
            "execution_count": 16
        }
    ]
}