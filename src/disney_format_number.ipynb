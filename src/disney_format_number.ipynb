{
    "metadata": {
        "kernelspec": {
            "name": "SQL",
            "display_name": "SQL",
            "language": "sql"
        },
        "language_info": {
            "name": "sql",
            "version": ""
        }
    },
    "nbformat_minor": 2,
    "nbformat": 4,
    "cells": [
        {
            "cell_type": "markdown",
            "source": [
                "# NUMBER FORMAT\n",
                "# FORMAT() function\n",
                "## Server: Microsoft SQL Server\n",
                "## Database: disney\n",
                "## Author: Prasert Kanawattanachai\n",
                "## YouTube: https://youtu.be/krlm3ITPfG4"
            ],
            "metadata": {}
        },
        {
            "cell_type": "code",
            "source": "SELECT top 10 * from movie_gross",
            "metadata": {},
            "outputs": [
                {
                    "output_type": "display_data",
                    "data": {
                        "text/html": "(10 rows affected)"
                    },
                    "metadata": {}
                },
                {
                    "output_type": "display_data",
                    "data": {
                        "text/html": "Total execution time: 00:00:00.160"
                    },
                    "metadata": {}
                },
                {
                    "output_type": "execute_result",
                    "execution_count": 1,
                    "data": {
                        "application/vnd.dataresource+json": {
                            "schema": {
                                "fields": [
                                    {
                                        "name": "movie_title"
                                    },
                                    {
                                        "name": "release_date"
                                    },
                                    {
                                        "name": "genre"
                                    },
                                    {
                                        "name": "mpaa_rating"
                                    },
                                    {
                                        "name": "total_gross"
                                    },
                                    {
                                        "name": "inflation_adjusted_gross"
                                    }
                                ]
                            },
                            "data": [
                                {
                                    "0": "Snow White and the Seven Dwarfs",
                                    "1": "1937-12-21",
                                    "2": "Musical",
                                    "3": "G",
                                    "4": "184925485",
                                    "5": "5228953251"
                                },
                                {
                                    "0": "Pinocchio",
                                    "1": "1940-02-09",
                                    "2": "Adventure",
                                    "3": "G",
                                    "4": "84300000",
                                    "5": "2188229052"
                                },
                                {
                                    "0": "Fantasia",
                                    "1": "1940-11-13",
                                    "2": "Musical",
                                    "3": "G",
                                    "4": "83320000",
                                    "5": "2187090808"
                                },
                                {
                                    "0": "Song of the South",
                                    "1": "1946-11-12",
                                    "2": "Adventure",
                                    "3": "G",
                                    "4": "65000000",
                                    "5": "1078510579"
                                },
                                {
                                    "0": "Cinderella",
                                    "1": "1950-02-15",
                                    "2": "Drama",
                                    "3": "G",
                                    "4": "85000000",
                                    "5": "920608730"
                                },
                                {
                                    "0": "20,000 Leagues Under the Sea",
                                    "1": "1954-12-23",
                                    "2": "Adventure",
                                    "3": "NULL",
                                    "4": "28200000",
                                    "5": "528279994"
                                },
                                {
                                    "0": "Lady and the Tramp",
                                    "1": "1955-06-22",
                                    "2": "Drama",
                                    "3": "G",
                                    "4": "93600000",
                                    "5": "1236035515"
                                },
                                {
                                    "0": "Sleeping Beauty",
                                    "1": "1959-01-29",
                                    "2": "Drama",
                                    "3": "NULL",
                                    "4": "9464608",
                                    "5": "21505832"
                                },
                                {
                                    "0": "101 Dalmatians",
                                    "1": "1961-01-25",
                                    "2": "Comedy",
                                    "3": "G",
                                    "4": "153000000",
                                    "5": "1362870985"
                                },
                                {
                                    "0": "The Absent Minded Professor",
                                    "1": "1961-03-16",
                                    "2": "Comedy",
                                    "3": "NULL",
                                    "4": "25381407",
                                    "5": "310094574"
                                }
                            ]
                        },
                        "text/html": "<table><tr><th>movie_title</th><th>release_date</th><th>genre</th><th>mpaa_rating</th><th>total_gross</th><th>inflation_adjusted_gross</th></tr><tr><td>Snow White and the Seven Dwarfs</td><td>1937-12-21</td><td>Musical</td><td>G</td><td>184925485</td><td>5228953251</td></tr><tr><td>Pinocchio</td><td>1940-02-09</td><td>Adventure</td><td>G</td><td>84300000</td><td>2188229052</td></tr><tr><td>Fantasia</td><td>1940-11-13</td><td>Musical</td><td>G</td><td>83320000</td><td>2187090808</td></tr><tr><td>Song of the South</td><td>1946-11-12</td><td>Adventure</td><td>G</td><td>65000000</td><td>1078510579</td></tr><tr><td>Cinderella</td><td>1950-02-15</td><td>Drama</td><td>G</td><td>85000000</td><td>920608730</td></tr><tr><td>20,000 Leagues Under the Sea</td><td>1954-12-23</td><td>Adventure</td><td>NULL</td><td>28200000</td><td>528279994</td></tr><tr><td>Lady and the Tramp</td><td>1955-06-22</td><td>Drama</td><td>G</td><td>93600000</td><td>1236035515</td></tr><tr><td>Sleeping Beauty</td><td>1959-01-29</td><td>Drama</td><td>NULL</td><td>9464608</td><td>21505832</td></tr><tr><td>101 Dalmatians</td><td>1961-01-25</td><td>Comedy</td><td>G</td><td>153000000</td><td>1362870985</td></tr><tr><td>The Absent Minded Professor</td><td>1961-03-16</td><td>Comedy</td><td>NULL</td><td>25381407</td><td>310094574</td></tr></table>"
                    },
                    "metadata": {}
                }
            ],
            "execution_count": 1
        },
        {
            "cell_type": "code",
            "source": "select top 10 movie_title, inflation_adjusted_gross from movie_gross",
            "metadata": {},
            "outputs": [
                {
                    "output_type": "display_data",
                    "data": {
                        "text/html": "(10 rows affected)"
                    },
                    "metadata": {}
                },
                {
                    "output_type": "display_data",
                    "data": {
                        "text/html": "Total execution time: 00:00:00.064"
                    },
                    "metadata": {}
                },
                {
                    "output_type": "execute_result",
                    "execution_count": 2,
                    "data": {
                        "application/vnd.dataresource+json": {
                            "schema": {
                                "fields": [
                                    {
                                        "name": "movie_title"
                                    },
                                    {
                                        "name": "inflation_adjusted_gross"
                                    }
                                ]
                            },
                            "data": [
                                {
                                    "0": "Snow White and the Seven Dwarfs",
                                    "1": "5228953251"
                                },
                                {
                                    "0": "Pinocchio",
                                    "1": "2188229052"
                                },
                                {
                                    "0": "Fantasia",
                                    "1": "2187090808"
                                },
                                {
                                    "0": "Song of the South",
                                    "1": "1078510579"
                                },
                                {
                                    "0": "Cinderella",
                                    "1": "920608730"
                                },
                                {
                                    "0": "20,000 Leagues Under the Sea",
                                    "1": "528279994"
                                },
                                {
                                    "0": "Lady and the Tramp",
                                    "1": "1236035515"
                                },
                                {
                                    "0": "Sleeping Beauty",
                                    "1": "21505832"
                                },
                                {
                                    "0": "101 Dalmatians",
                                    "1": "1362870985"
                                },
                                {
                                    "0": "The Absent Minded Professor",
                                    "1": "310094574"
                                }
                            ]
                        },
                        "text/html": "<table><tr><th>movie_title</th><th>inflation_adjusted_gross</th></tr><tr><td>Snow White and the Seven Dwarfs</td><td>5228953251</td></tr><tr><td>Pinocchio</td><td>2188229052</td></tr><tr><td>Fantasia</td><td>2187090808</td></tr><tr><td>Song of the South</td><td>1078510579</td></tr><tr><td>Cinderella</td><td>920608730</td></tr><tr><td>20,000 Leagues Under the Sea</td><td>528279994</td></tr><tr><td>Lady and the Tramp</td><td>1236035515</td></tr><tr><td>Sleeping Beauty</td><td>21505832</td></tr><tr><td>101 Dalmatians</td><td>1362870985</td></tr><tr><td>The Absent Minded Professor</td><td>310094574</td></tr></table>"
                    },
                    "metadata": {}
                }
            ],
            "execution_count": 2
        },
        {
            "cell_type": "code",
            "source": [
                "select top 10 movie_title, \n",
                "    inflation_adjusted_gross,\n",
                "    format(inflation_adjusted_gross, 'N') [N], \n",
                "    format(inflation_adjusted_gross, '#,##0') [#,##0],\n",
                "    format(inflation_adjusted_gross, '#,##0,') [#,##0,],\n",
                "    format(inflation_adjusted_gross, '#,##0,,') [#,##0,,],\n",
                "    format(inflation_adjusted_gross, '#,##0,,.0') [#,##0,,.0],\n",
                "    format(inflation_adjusted_gross, '#,##0,,.0m') [#,##0,,.0m]\n",
                "    from movie_gross"
            ],
            "metadata": {},
            "outputs": [
                {
                    "output_type": "display_data",
                    "data": {
                        "text/html": "(10 rows affected)"
                    },
                    "metadata": {}
                },
                {
                    "output_type": "display_data",
                    "data": {
                        "text/html": "Total execution time: 00:00:00.064"
                    },
                    "metadata": {}
                },
                {
                    "output_type": "execute_result",
                    "execution_count": 3,
                    "data": {
                        "application/vnd.dataresource+json": {
                            "schema": {
                                "fields": [
                                    {
                                        "name": "movie_title"
                                    },
                                    {
                                        "name": "inflation_adjusted_gross"
                                    },
                                    {
                                        "name": "N"
                                    },
                                    {
                                        "name": "#,##0"
                                    },
                                    {
                                        "name": "#,##0,"
                                    },
                                    {
                                        "name": "#,##0,,"
                                    },
                                    {
                                        "name": "#,##0,,.0"
                                    },
                                    {
                                        "name": "#,##0,,.0m"
                                    }
                                ]
                            },
                            "data": [
                                {
                                    "0": "Snow White and the Seven Dwarfs",
                                    "1": "5228953251",
                                    "2": "5,228,953,251.00",
                                    "3": "5,228,953,251",
                                    "4": "5,228,953",
                                    "5": "5,229",
                                    "6": "5,229.0",
                                    "7": "5,229.0m"
                                },
                                {
                                    "0": "Pinocchio",
                                    "1": "2188229052",
                                    "2": "2,188,229,052.00",
                                    "3": "2,188,229,052",
                                    "4": "2,188,229",
                                    "5": "2,188",
                                    "6": "2,188.2",
                                    "7": "2,188.2m"
                                },
                                {
                                    "0": "Fantasia",
                                    "1": "2187090808",
                                    "2": "2,187,090,808.00",
                                    "3": "2,187,090,808",
                                    "4": "2,187,091",
                                    "5": "2,187",
                                    "6": "2,187.1",
                                    "7": "2,187.1m"
                                },
                                {
                                    "0": "Song of the South",
                                    "1": "1078510579",
                                    "2": "1,078,510,579.00",
                                    "3": "1,078,510,579",
                                    "4": "1,078,511",
                                    "5": "1,079",
                                    "6": "1,078.5",
                                    "7": "1,078.5m"
                                },
                                {
                                    "0": "Cinderella",
                                    "1": "920608730",
                                    "2": "920,608,730.00",
                                    "3": "920,608,730",
                                    "4": "920,609",
                                    "5": "921",
                                    "6": "920.6",
                                    "7": "920.6m"
                                },
                                {
                                    "0": "20,000 Leagues Under the Sea",
                                    "1": "528279994",
                                    "2": "528,279,994.00",
                                    "3": "528,279,994",
                                    "4": "528,280",
                                    "5": "528",
                                    "6": "528.3",
                                    "7": "528.3m"
                                },
                                {
                                    "0": "Lady and the Tramp",
                                    "1": "1236035515",
                                    "2": "1,236,035,515.00",
                                    "3": "1,236,035,515",
                                    "4": "1,236,036",
                                    "5": "1,236",
                                    "6": "1,236.0",
                                    "7": "1,236.0m"
                                },
                                {
                                    "0": "Sleeping Beauty",
                                    "1": "21505832",
                                    "2": "21,505,832.00",
                                    "3": "21,505,832",
                                    "4": "21,506",
                                    "5": "22",
                                    "6": "21.5",
                                    "7": "21.5m"
                                },
                                {
                                    "0": "101 Dalmatians",
                                    "1": "1362870985",
                                    "2": "1,362,870,985.00",
                                    "3": "1,362,870,985",
                                    "4": "1,362,871",
                                    "5": "1,363",
                                    "6": "1,362.9",
                                    "7": "1,362.9m"
                                },
                                {
                                    "0": "The Absent Minded Professor",
                                    "1": "310094574",
                                    "2": "310,094,574.00",
                                    "3": "310,094,574",
                                    "4": "310,095",
                                    "5": "310",
                                    "6": "310.1",
                                    "7": "310.1m"
                                }
                            ]
                        },
                        "text/html": "<table><tr><th>movie_title</th><th>inflation_adjusted_gross</th><th>N</th><th>#,##0</th><th>#,##0,</th><th>#,##0,,</th><th>#,##0,,.0</th><th>#,##0,,.0m</th></tr><tr><td>Snow White and the Seven Dwarfs</td><td>5228953251</td><td>5,228,953,251.00</td><td>5,228,953,251</td><td>5,228,953</td><td>5,229</td><td>5,229.0</td><td>5,229.0m</td></tr><tr><td>Pinocchio</td><td>2188229052</td><td>2,188,229,052.00</td><td>2,188,229,052</td><td>2,188,229</td><td>2,188</td><td>2,188.2</td><td>2,188.2m</td></tr><tr><td>Fantasia</td><td>2187090808</td><td>2,187,090,808.00</td><td>2,187,090,808</td><td>2,187,091</td><td>2,187</td><td>2,187.1</td><td>2,187.1m</td></tr><tr><td>Song of the South</td><td>1078510579</td><td>1,078,510,579.00</td><td>1,078,510,579</td><td>1,078,511</td><td>1,079</td><td>1,078.5</td><td>1,078.5m</td></tr><tr><td>Cinderella</td><td>920608730</td><td>920,608,730.00</td><td>920,608,730</td><td>920,609</td><td>921</td><td>920.6</td><td>920.6m</td></tr><tr><td>20,000 Leagues Under the Sea</td><td>528279994</td><td>528,279,994.00</td><td>528,279,994</td><td>528,280</td><td>528</td><td>528.3</td><td>528.3m</td></tr><tr><td>Lady and the Tramp</td><td>1236035515</td><td>1,236,035,515.00</td><td>1,236,035,515</td><td>1,236,036</td><td>1,236</td><td>1,236.0</td><td>1,236.0m</td></tr><tr><td>Sleeping Beauty</td><td>21505832</td><td>21,505,832.00</td><td>21,505,832</td><td>21,506</td><td>22</td><td>21.5</td><td>21.5m</td></tr><tr><td>101 Dalmatians</td><td>1362870985</td><td>1,362,870,985.00</td><td>1,362,870,985</td><td>1,362,871</td><td>1,363</td><td>1,362.9</td><td>1,362.9m</td></tr><tr><td>The Absent Minded Professor</td><td>310094574</td><td>310,094,574.00</td><td>310,094,574</td><td>310,095</td><td>310</td><td>310.1</td><td>310.1m</td></tr></table>"
                    },
                    "metadata": {}
                }
            ],
            "execution_count": 3
        },
        {
            "cell_type": "code",
            "source": [
                "select top 10 movie_title, \n",
                "    inflation_adjusted_gross,\n",
                "    format(inflation_adjusted_gross, '#,##0,,.0') [#,##0,,.0],\n",
                "    format(inflation_adjusted_gross, '#,##0,,.0m') [#,##0,,.0m],\n",
                "    format(inflation_adjusted_gross * 31, '#,##0,,.0m (baht)') [#,##0,,.0m (baht)]\n",
                "    from movie_gross"
            ],
            "metadata": {},
            "outputs": [
                {
                    "output_type": "display_data",
                    "data": {
                        "text/html": "(10 rows affected)"
                    },
                    "metadata": {}
                },
                {
                    "output_type": "display_data",
                    "data": {
                        "text/html": "Total execution time: 00:00:00.061"
                    },
                    "metadata": {}
                },
                {
                    "output_type": "execute_result",
                    "execution_count": 4,
                    "data": {
                        "application/vnd.dataresource+json": {
                            "schema": {
                                "fields": [
                                    {
                                        "name": "movie_title"
                                    },
                                    {
                                        "name": "inflation_adjusted_gross"
                                    },
                                    {
                                        "name": "#,##0,,.0"
                                    },
                                    {
                                        "name": "#,##0,,.0m"
                                    },
                                    {
                                        "name": "#,##0,,.0m (baht)"
                                    }
                                ]
                            },
                            "data": [
                                {
                                    "0": "Snow White and the Seven Dwarfs",
                                    "1": "5228953251",
                                    "2": "5,229.0",
                                    "3": "5,229.0m",
                                    "4": "162,097.6m (baht)"
                                },
                                {
                                    "0": "Pinocchio",
                                    "1": "2188229052",
                                    "2": "2,188.2",
                                    "3": "2,188.2m",
                                    "4": "67,835.1m (baht)"
                                },
                                {
                                    "0": "Fantasia",
                                    "1": "2187090808",
                                    "2": "2,187.1",
                                    "3": "2,187.1m",
                                    "4": "67,799.8m (baht)"
                                },
                                {
                                    "0": "Song of the South",
                                    "1": "1078510579",
                                    "2": "1,078.5",
                                    "3": "1,078.5m",
                                    "4": "33,433.8m (baht)"
                                },
                                {
                                    "0": "Cinderella",
                                    "1": "920608730",
                                    "2": "920.6",
                                    "3": "920.6m",
                                    "4": "28,538.9m (baht)"
                                },
                                {
                                    "0": "20,000 Leagues Under the Sea",
                                    "1": "528279994",
                                    "2": "528.3",
                                    "3": "528.3m",
                                    "4": "16,376.7m (baht)"
                                },
                                {
                                    "0": "Lady and the Tramp",
                                    "1": "1236035515",
                                    "2": "1,236.0",
                                    "3": "1,236.0m",
                                    "4": "38,317.1m (baht)"
                                },
                                {
                                    "0": "Sleeping Beauty",
                                    "1": "21505832",
                                    "2": "21.5",
                                    "3": "21.5m",
                                    "4": "666.7m (baht)"
                                },
                                {
                                    "0": "101 Dalmatians",
                                    "1": "1362870985",
                                    "2": "1,362.9",
                                    "3": "1,362.9m",
                                    "4": "42,249.0m (baht)"
                                },
                                {
                                    "0": "The Absent Minded Professor",
                                    "1": "310094574",
                                    "2": "310.1",
                                    "3": "310.1m",
                                    "4": "9,612.9m (baht)"
                                }
                            ]
                        },
                        "text/html": "<table><tr><th>movie_title</th><th>inflation_adjusted_gross</th><th>#,##0,,.0</th><th>#,##0,,.0m</th><th>#,##0,,.0m (baht)</th></tr><tr><td>Snow White and the Seven Dwarfs</td><td>5228953251</td><td>5,229.0</td><td>5,229.0m</td><td>162,097.6m (baht)</td></tr><tr><td>Pinocchio</td><td>2188229052</td><td>2,188.2</td><td>2,188.2m</td><td>67,835.1m (baht)</td></tr><tr><td>Fantasia</td><td>2187090808</td><td>2,187.1</td><td>2,187.1m</td><td>67,799.8m (baht)</td></tr><tr><td>Song of the South</td><td>1078510579</td><td>1,078.5</td><td>1,078.5m</td><td>33,433.8m (baht)</td></tr><tr><td>Cinderella</td><td>920608730</td><td>920.6</td><td>920.6m</td><td>28,538.9m (baht)</td></tr><tr><td>20,000 Leagues Under the Sea</td><td>528279994</td><td>528.3</td><td>528.3m</td><td>16,376.7m (baht)</td></tr><tr><td>Lady and the Tramp</td><td>1236035515</td><td>1,236.0</td><td>1,236.0m</td><td>38,317.1m (baht)</td></tr><tr><td>Sleeping Beauty</td><td>21505832</td><td>21.5</td><td>21.5m</td><td>666.7m (baht)</td></tr><tr><td>101 Dalmatians</td><td>1362870985</td><td>1,362.9</td><td>1,362.9m</td><td>42,249.0m (baht)</td></tr><tr><td>The Absent Minded Professor</td><td>310094574</td><td>310.1</td><td>310.1m</td><td>9,612.9m (baht)</td></tr></table>"
                    },
                    "metadata": {}
                }
            ],
            "execution_count": 4
        },
        {
            "cell_type": "code",
            "source": [
                "select top 10 movie_title, \n",
                "    inflation_adjusted_gross,\n",
                "    format(inflation_adjusted_gross, 'N') [N],\n",
                "    format(inflation_adjusted_gross, 'N', 'eu') [N_eu],\n",
                "    format(inflation_adjusted_gross, 'N0', 'eu') [N0_eu],\n",
                "    format(inflation_adjusted_gross, 'N', 'fr') [N_fr]\n",
                "    from movie_gross"
            ],
            "metadata": {},
            "outputs": [
                {
                    "output_type": "display_data",
                    "data": {
                        "text/html": "(10 rows affected)"
                    },
                    "metadata": {}
                },
                {
                    "output_type": "display_data",
                    "data": {
                        "text/html": "Total execution time: 00:00:00.062"
                    },
                    "metadata": {}
                },
                {
                    "output_type": "execute_result",
                    "execution_count": 5,
                    "data": {
                        "application/vnd.dataresource+json": {
                            "schema": {
                                "fields": [
                                    {
                                        "name": "movie_title"
                                    },
                                    {
                                        "name": "inflation_adjusted_gross"
                                    },
                                    {
                                        "name": "N"
                                    },
                                    {
                                        "name": "N_eu"
                                    },
                                    {
                                        "name": "N0_eu"
                                    },
                                    {
                                        "name": "N_fr"
                                    }
                                ]
                            },
                            "data": [
                                {
                                    "0": "Snow White and the Seven Dwarfs",
                                    "1": "5228953251",
                                    "2": "5,228,953,251.00",
                                    "3": "5.228.953.251,00",
                                    "4": "5.228.953.251",
                                    "5": "5 228 953 251,00"
                                },
                                {
                                    "0": "Pinocchio",
                                    "1": "2188229052",
                                    "2": "2,188,229,052.00",
                                    "3": "2.188.229.052,00",
                                    "4": "2.188.229.052",
                                    "5": "2 188 229 052,00"
                                },
                                {
                                    "0": "Fantasia",
                                    "1": "2187090808",
                                    "2": "2,187,090,808.00",
                                    "3": "2.187.090.808,00",
                                    "4": "2.187.090.808",
                                    "5": "2 187 090 808,00"
                                },
                                {
                                    "0": "Song of the South",
                                    "1": "1078510579",
                                    "2": "1,078,510,579.00",
                                    "3": "1.078.510.579,00",
                                    "4": "1.078.510.579",
                                    "5": "1 078 510 579,00"
                                },
                                {
                                    "0": "Cinderella",
                                    "1": "920608730",
                                    "2": "920,608,730.00",
                                    "3": "920.608.730,00",
                                    "4": "920.608.730",
                                    "5": "920 608 730,00"
                                },
                                {
                                    "0": "20,000 Leagues Under the Sea",
                                    "1": "528279994",
                                    "2": "528,279,994.00",
                                    "3": "528.279.994,00",
                                    "4": "528.279.994",
                                    "5": "528 279 994,00"
                                },
                                {
                                    "0": "Lady and the Tramp",
                                    "1": "1236035515",
                                    "2": "1,236,035,515.00",
                                    "3": "1.236.035.515,00",
                                    "4": "1.236.035.515",
                                    "5": "1 236 035 515,00"
                                },
                                {
                                    "0": "Sleeping Beauty",
                                    "1": "21505832",
                                    "2": "21,505,832.00",
                                    "3": "21.505.832,00",
                                    "4": "21.505.832",
                                    "5": "21 505 832,00"
                                },
                                {
                                    "0": "101 Dalmatians",
                                    "1": "1362870985",
                                    "2": "1,362,870,985.00",
                                    "3": "1.362.870.985,00",
                                    "4": "1.362.870.985",
                                    "5": "1 362 870 985,00"
                                },
                                {
                                    "0": "The Absent Minded Professor",
                                    "1": "310094574",
                                    "2": "310,094,574.00",
                                    "3": "310.094.574,00",
                                    "4": "310.094.574",
                                    "5": "310 094 574,00"
                                }
                            ]
                        },
                        "text/html": "<table><tr><th>movie_title</th><th>inflation_adjusted_gross</th><th>N</th><th>N_eu</th><th>N0_eu</th><th>N_fr</th></tr><tr><td>Snow White and the Seven Dwarfs</td><td>5228953251</td><td>5,228,953,251.00</td><td>5.228.953.251,00</td><td>5.228.953.251</td><td>5 228 953 251,00</td></tr><tr><td>Pinocchio</td><td>2188229052</td><td>2,188,229,052.00</td><td>2.188.229.052,00</td><td>2.188.229.052</td><td>2 188 229 052,00</td></tr><tr><td>Fantasia</td><td>2187090808</td><td>2,187,090,808.00</td><td>2.187.090.808,00</td><td>2.187.090.808</td><td>2 187 090 808,00</td></tr><tr><td>Song of the South</td><td>1078510579</td><td>1,078,510,579.00</td><td>1.078.510.579,00</td><td>1.078.510.579</td><td>1 078 510 579,00</td></tr><tr><td>Cinderella</td><td>920608730</td><td>920,608,730.00</td><td>920.608.730,00</td><td>920.608.730</td><td>920 608 730,00</td></tr><tr><td>20,000 Leagues Under the Sea</td><td>528279994</td><td>528,279,994.00</td><td>528.279.994,00</td><td>528.279.994</td><td>528 279 994,00</td></tr><tr><td>Lady and the Tramp</td><td>1236035515</td><td>1,236,035,515.00</td><td>1.236.035.515,00</td><td>1.236.035.515</td><td>1 236 035 515,00</td></tr><tr><td>Sleeping Beauty</td><td>21505832</td><td>21,505,832.00</td><td>21.505.832,00</td><td>21.505.832</td><td>21 505 832,00</td></tr><tr><td>101 Dalmatians</td><td>1362870985</td><td>1,362,870,985.00</td><td>1.362.870.985,00</td><td>1.362.870.985</td><td>1 362 870 985,00</td></tr><tr><td>The Absent Minded Professor</td><td>310094574</td><td>310,094,574.00</td><td>310.094.574,00</td><td>310.094.574</td><td>310 094 574,00</td></tr></table>"
                    },
                    "metadata": {}
                }
            ],
            "execution_count": 5
        },
        {
            "cell_type": "code",
            "source": [
                "select top 10 movie_title, \n",
                "    inflation_adjusted_gross,\n",
                "    format(inflation_adjusted_gross, 'N') [N]\n",
                "    from movie_gross\n",
                "    order by inflation_adjusted_gross"
            ],
            "metadata": {},
            "outputs": [
                {
                    "output_type": "display_data",
                    "data": {
                        "text/html": "(10 rows affected)"
                    },
                    "metadata": {}
                },
                {
                    "output_type": "display_data",
                    "data": {
                        "text/html": "Total execution time: 00:00:00.071"
                    },
                    "metadata": {}
                },
                {
                    "output_type": "execute_result",
                    "execution_count": 6,
                    "data": {
                        "application/vnd.dataresource+json": {
                            "schema": {
                                "fields": [
                                    {
                                        "name": "movie_title"
                                    },
                                    {
                                        "name": "inflation_adjusted_gross"
                                    },
                                    {
                                        "name": "N"
                                    }
                                ]
                            },
                            "data": [
                                {
                                    "0": "The Many Adventures of Winnie the Pooh",
                                    "1": "0",
                                    "2": "0.00"
                                },
                                {
                                    "0": "Amy",
                                    "1": "0",
                                    "2": "0.00"
                                },
                                {
                                    "0": "Condorman",
                                    "1": "0",
                                    "2": "0.00"
                                },
                                {
                                    "0": "Frank McKlusky C.I.",
                                    "1": "0",
                                    "2": "0.00"
                                },
                                {
                                    "0": "Zokkomon",
                                    "1": "2984",
                                    "2": "2,984.00"
                                },
                                {
                                    "0": "Walt and El Grupo",
                                    "1": "23064",
                                    "2": "23,064.00"
                                },
                                {
                                    "0": "Gedo Senki (Tales from Earthsea)",
                                    "1": "51988",
                                    "2": "51,988.00"
                                },
                                {
                                    "0": "The War at Home",
                                    "1": "65543",
                                    "2": "65,543.00"
                                },
                                {
                                    "0": "An Alan Smithee Film: Burn Hollywood …",
                                    "1": "82277",
                                    "2": "82,277.00"
                                },
                                {
                                    "0": "Waking Sleeping Beauty",
                                    "1": "86264",
                                    "2": "86,264.00"
                                }
                            ]
                        },
                        "text/html": "<table><tr><th>movie_title</th><th>inflation_adjusted_gross</th><th>N</th></tr><tr><td>The Many Adventures of Winnie the Pooh</td><td>0</td><td>0.00</td></tr><tr><td>Amy</td><td>0</td><td>0.00</td></tr><tr><td>Condorman</td><td>0</td><td>0.00</td></tr><tr><td>Frank McKlusky C.I.</td><td>0</td><td>0.00</td></tr><tr><td>Zokkomon</td><td>2984</td><td>2,984.00</td></tr><tr><td>Walt and El Grupo</td><td>23064</td><td>23,064.00</td></tr><tr><td>Gedo Senki (Tales from Earthsea)</td><td>51988</td><td>51,988.00</td></tr><tr><td>The War at Home</td><td>65543</td><td>65,543.00</td></tr><tr><td>An Alan Smithee Film: Burn Hollywood …</td><td>82277</td><td>82,277.00</td></tr><tr><td>Waking Sleeping Beauty</td><td>86264</td><td>86,264.00</td></tr></table>"
                    },
                    "metadata": {}
                }
            ],
            "execution_count": 6
        },
        {
            "cell_type": "code",
            "source": "select genre, sum(inflation_adjusted_gross) gross from movie_gross group by genre",
            "metadata": {},
            "outputs": [
                {
                    "output_type": "display_data",
                    "data": {
                        "text/html": "(13 rows affected)"
                    },
                    "metadata": {}
                },
                {
                    "output_type": "display_data",
                    "data": {
                        "text/html": "Total execution time: 00:00:00.060"
                    },
                    "metadata": {}
                },
                {
                    "output_type": "execute_result",
                    "execution_count": 7,
                    "data": {
                        "application/vnd.dataresource+json": {
                            "schema": {
                                "fields": [
                                    {
                                        "name": "genre"
                                    },
                                    {
                                        "name": "gross"
                                    }
                                ]
                            },
                            "data": [
                                {
                                    "0": "NULL",
                                    "1": "367603384"
                                },
                                {
                                    "0": "Action",
                                    "1": "5498936786"
                                },
                                {
                                    "0": "Adventure",
                                    "1": "24561266158"
                                },
                                {
                                    "0": "Black Comedy",
                                    "1": "156730475"
                                },
                                {
                                    "0": "Comedy",
                                    "1": "15409526913"
                                },
                                {
                                    "0": "Concert/Performance",
                                    "1": "114821678"
                                },
                                {
                                    "0": "Documentary",
                                    "1": "203488418"
                                },
                                {
                                    "0": "Drama",
                                    "1": "8195804484"
                                },
                                {
                                    "0": "Horror",
                                    "1": "140483092"
                                },
                                {
                                    "0": "Musical",
                                    "1": "9657565776"
                                },
                                {
                                    "0": "Romantic Comedy",
                                    "1": "1788872933"
                                },
                                {
                                    "0": "Thriller/Suspense",
                                    "1": "2151690954"
                                },
                                {
                                    "0": "Western",
                                    "1": "516709946"
                                }
                            ]
                        },
                        "text/html": "<table><tr><th>genre</th><th>gross</th></tr><tr><td>NULL</td><td>367603384</td></tr><tr><td>Action</td><td>5498936786</td></tr><tr><td>Adventure</td><td>24561266158</td></tr><tr><td>Black Comedy</td><td>156730475</td></tr><tr><td>Comedy</td><td>15409526913</td></tr><tr><td>Concert/Performance</td><td>114821678</td></tr><tr><td>Documentary</td><td>203488418</td></tr><tr><td>Drama</td><td>8195804484</td></tr><tr><td>Horror</td><td>140483092</td></tr><tr><td>Musical</td><td>9657565776</td></tr><tr><td>Romantic Comedy</td><td>1788872933</td></tr><tr><td>Thriller/Suspense</td><td>2151690954</td></tr><tr><td>Western</td><td>516709946</td></tr></table>"
                    },
                    "metadata": {}
                }
            ],
            "execution_count": 7
        },
        {
            "cell_type": "code",
            "source": [
                "with cte as (\n",
                "    select genre, sum(inflation_adjusted_gross) gross from movie_gross group by genre\n",
                ")\n",
                "select genre, gross, \n",
                "    gross * 1.0 / (select sum(gross) from cte) [pct_of_total],\n",
                "    format(gross * 1.0 / (select sum(gross) from cte), 'P') [fmt_pct_of_total],\n",
                "    format(gross * 1.0 / (select sum(gross) from cte), 'P4') [P4],\n",
                "    format(gross * 1.0 / (select sum(gross) from cte), '0.0000%') [0.0000%]\n",
                "    from cte"
            ],
            "metadata": {},
            "outputs": [
                {
                    "output_type": "display_data",
                    "data": {
                        "text/html": "(13 rows affected)"
                    },
                    "metadata": {}
                },
                {
                    "output_type": "display_data",
                    "data": {
                        "text/html": "Total execution time: 00:00:00.066"
                    },
                    "metadata": {}
                },
                {
                    "output_type": "execute_result",
                    "execution_count": 8,
                    "data": {
                        "application/vnd.dataresource+json": {
                            "schema": {
                                "fields": [
                                    {
                                        "name": "genre"
                                    },
                                    {
                                        "name": "gross"
                                    },
                                    {
                                        "name": "pct_of_total"
                                    },
                                    {
                                        "name": "fmt_pct_of_total"
                                    },
                                    {
                                        "name": "P4"
                                    },
                                    {
                                        "name": "0.0000%"
                                    }
                                ]
                            },
                            "data": [
                                {
                                    "0": "NULL",
                                    "1": "367603384",
                                    "2": "0.00534590849317049",
                                    "3": "0.53 %",
                                    "4": "0.5346 %",
                                    "5": "0.5346%"
                                },
                                {
                                    "0": "Action",
                                    "1": "5498936786",
                                    "2": "0.07996883093895853",
                                    "3": "8.00 %",
                                    "4": "7.9969 %",
                                    "5": "7.9969%"
                                },
                                {
                                    "0": "Adventure",
                                    "1": "24561266158",
                                    "2": "0.35718463722595441",
                                    "3": "35.72 %",
                                    "4": "35.7185 %",
                                    "5": "35.7185%"
                                },
                                {
                                    "0": "Black Comedy",
                                    "1": "156730475",
                                    "2": "0.00227926840151489",
                                    "3": "0.23 %",
                                    "4": "0.2279 %",
                                    "5": "0.2279%"
                                },
                                {
                                    "0": "Comedy",
                                    "1": "15409526913",
                                    "2": "0.22409456600635101",
                                    "3": "22.41 %",
                                    "4": "22.4095 %",
                                    "5": "22.4095%"
                                },
                                {
                                    "0": "Concert/Performance",
                                    "1": "114821678",
                                    "2": "0.00166980558486993",
                                    "3": "0.17 %",
                                    "4": "0.1670 %",
                                    "5": "0.1670%"
                                },
                                {
                                    "0": "Documentary",
                                    "1": "203488418",
                                    "2": "0.00295925040246100",
                                    "3": "0.30 %",
                                    "4": "0.2959 %",
                                    "5": "0.2959%"
                                },
                                {
                                    "0": "Drama",
                                    "1": "8195804484",
                                    "2": "0.11918829560986961",
                                    "3": "11.92 %",
                                    "4": "11.9188 %",
                                    "5": "11.9188%"
                                },
                                {
                                    "0": "Horror",
                                    "1": "140483092",
                                    "2": "0.00204298923066946",
                                    "3": "0.20 %",
                                    "4": "0.2043 %",
                                    "5": "0.2043%"
                                },
                                {
                                    "0": "Musical",
                                    "1": "9657565776",
                                    "2": "0.14044610347023107",
                                    "3": "14.04 %",
                                    "4": "14.0446 %",
                                    "5": "14.0446%"
                                },
                                {
                                    "0": "Romantic Comedy",
                                    "1": "1788872933",
                                    "2": "0.02601486118454097",
                                    "3": "2.60 %",
                                    "4": "2.6015 %",
                                    "5": "2.6015%"
                                },
                                {
                                    "0": "Thriller/Suspense",
                                    "1": "2151690954",
                                    "2": "0.03129117806398300",
                                    "3": "3.13 %",
                                    "4": "3.1291 %",
                                    "5": "3.1291%"
                                },
                                {
                                    "0": "Western",
                                    "1": "516709946",
                                    "2": "0.00751430538742556",
                                    "3": "0.75 %",
                                    "4": "0.7514 %",
                                    "5": "0.7514%"
                                }
                            ]
                        },
                        "text/html": "<table><tr><th>genre</th><th>gross</th><th>pct_of_total</th><th>fmt_pct_of_total</th><th>P4</th><th>0.0000%</th></tr><tr><td>NULL</td><td>367603384</td><td>0.00534590849317049</td><td>0.53 %</td><td>0.5346 %</td><td>0.5346%</td></tr><tr><td>Action</td><td>5498936786</td><td>0.07996883093895853</td><td>8.00 %</td><td>7.9969 %</td><td>7.9969%</td></tr><tr><td>Adventure</td><td>24561266158</td><td>0.35718463722595441</td><td>35.72 %</td><td>35.7185 %</td><td>35.7185%</td></tr><tr><td>Black Comedy</td><td>156730475</td><td>0.00227926840151489</td><td>0.23 %</td><td>0.2279 %</td><td>0.2279%</td></tr><tr><td>Comedy</td><td>15409526913</td><td>0.22409456600635101</td><td>22.41 %</td><td>22.4095 %</td><td>22.4095%</td></tr><tr><td>Concert/Performance</td><td>114821678</td><td>0.00166980558486993</td><td>0.17 %</td><td>0.1670 %</td><td>0.1670%</td></tr><tr><td>Documentary</td><td>203488418</td><td>0.00295925040246100</td><td>0.30 %</td><td>0.2959 %</td><td>0.2959%</td></tr><tr><td>Drama</td><td>8195804484</td><td>0.11918829560986961</td><td>11.92 %</td><td>11.9188 %</td><td>11.9188%</td></tr><tr><td>Horror</td><td>140483092</td><td>0.00204298923066946</td><td>0.20 %</td><td>0.2043 %</td><td>0.2043%</td></tr><tr><td>Musical</td><td>9657565776</td><td>0.14044610347023107</td><td>14.04 %</td><td>14.0446 %</td><td>14.0446%</td></tr><tr><td>Romantic Comedy</td><td>1788872933</td><td>0.02601486118454097</td><td>2.60 %</td><td>2.6015 %</td><td>2.6015%</td></tr><tr><td>Thriller/Suspense</td><td>2151690954</td><td>0.03129117806398300</td><td>3.13 %</td><td>3.1291 %</td><td>3.1291%</td></tr><tr><td>Western</td><td>516709946</td><td>0.00751430538742556</td><td>0.75 %</td><td>0.7514 %</td><td>0.7514%</td></tr></table>"
                    },
                    "metadata": {}
                }
            ],
            "execution_count": 8
        },
        {
            "cell_type": "code",
            "source": "",
            "metadata": {},
            "outputs": [],
            "execution_count": 0
        },
        {
            "cell_type": "code",
            "source": "",
            "metadata": {},
            "outputs": [],
            "execution_count": 0
        },
        {
            "cell_type": "code",
            "source": "",
            "metadata": {},
            "outputs": [],
            "execution_count": 0
        },
        {
            "cell_type": "code",
            "source": "",
            "metadata": {},
            "outputs": [],
            "execution_count": 0
        }
    ]
}