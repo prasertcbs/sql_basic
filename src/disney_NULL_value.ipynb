{
    "metadata": {
        "kernelspec": {
            "name": "SQL",
            "display_name": "SQL",
            "language": "sql"
        },
        "language_info": {
            "name": "sql",
            "version": ""
        }
    },
    "nbformat_minor": 2,
    "nbformat": 4,
    "cells": [
        {
            "cell_type": "markdown",
            "source": [
                "# NULL, IS NULL, IS NOT NULL, ISNULL()\n",
                "## Server: Microsoft SQL Server\n",
                "## Database: disney\n",
                "## Author: Prasert Kanawattanachai\n",
                "## YouTube: https://youtu.be/Q8ggugmmOtM"
            ],
            "metadata": {}
        },
        {
            "cell_type": "code",
            "source": "select top 10 * from revenue",
            "metadata": {},
            "outputs": [
                {
                    "output_type": "display_data",
                    "data": {
                        "text/html": "(10 rows affected)"
                    },
                    "metadata": {}
                },
                {
                    "output_type": "display_data",
                    "data": {
                        "text/html": "Total execution time: 00:00:00.136"
                    },
                    "metadata": {}
                },
                {
                    "output_type": "execute_result",
                    "execution_count": 1,
                    "data": {
                        "application/vnd.dataresource+json": {
                            "schema": {
                                "fields": [
                                    {
                                        "name": "year"
                                    },
                                    {
                                        "name": "studio_entertainment"
                                    },
                                    {
                                        "name": "disney_consumer_products"
                                    },
                                    {
                                        "name": "disney_interactive"
                                    },
                                    {
                                        "name": "walt_disney_parks_and_resorts"
                                    },
                                    {
                                        "name": "disney_media_networks"
                                    },
                                    {
                                        "name": "total"
                                    }
                                ]
                            },
                            "data": [
                                {
                                    "0": "1991",
                                    "1": "2593",
                                    "2": "724",
                                    "3": "NULL",
                                    "4": "2794",
                                    "5": "NULL",
                                    "6": "6111"
                                },
                                {
                                    "0": "1992",
                                    "1": "3115",
                                    "2": "1081",
                                    "3": "NULL",
                                    "4": "3306",
                                    "5": "NULL",
                                    "6": "7502"
                                },
                                {
                                    "0": "1993",
                                    "1": "3673.4",
                                    "2": "1415.1",
                                    "3": "NULL",
                                    "4": "3440.7",
                                    "5": "NULL",
                                    "6": "8529"
                                },
                                {
                                    "0": "1994",
                                    "1": "4793",
                                    "2": "1798.2",
                                    "3": "NULL",
                                    "4": "3463.6",
                                    "5": "359",
                                    "6": "10414"
                                },
                                {
                                    "0": "1995",
                                    "1": "6001.5",
                                    "2": "2150",
                                    "3": "NULL",
                                    "4": "3959.8",
                                    "5": "414",
                                    "6": "12525"
                                },
                                {
                                    "0": "1996",
                                    "1": "NULL",
                                    "2": "NULL",
                                    "3": "NULL",
                                    "4": "4502",
                                    "5": "4142",
                                    "6": "18739"
                                },
                                {
                                    "0": "1997",
                                    "1": "6981",
                                    "2": "3782",
                                    "3": "174",
                                    "4": "5014",
                                    "5": "6522",
                                    "6": "22473"
                                },
                                {
                                    "0": "1998",
                                    "1": "6849",
                                    "2": "3193",
                                    "3": "260",
                                    "4": "5532",
                                    "5": "7142",
                                    "6": "22976"
                                },
                                {
                                    "0": "1999",
                                    "1": "6548",
                                    "2": "3030",
                                    "3": "206",
                                    "4": "6106",
                                    "5": "7512",
                                    "6": "23402"
                                },
                                {
                                    "0": "2000",
                                    "1": "5994",
                                    "2": "2602",
                                    "3": "368",
                                    "4": "6803",
                                    "5": "9615",
                                    "6": "25402"
                                }
                            ]
                        },
                        "text/html": "<table><tr><th>year</th><th>studio_entertainment</th><th>disney_consumer_products</th><th>disney_interactive</th><th>walt_disney_parks_and_resorts</th><th>disney_media_networks</th><th>total</th></tr><tr><td>1991</td><td>2593</td><td>724</td><td>NULL</td><td>2794</td><td>NULL</td><td>6111</td></tr><tr><td>1992</td><td>3115</td><td>1081</td><td>NULL</td><td>3306</td><td>NULL</td><td>7502</td></tr><tr><td>1993</td><td>3673.4</td><td>1415.1</td><td>NULL</td><td>3440.7</td><td>NULL</td><td>8529</td></tr><tr><td>1994</td><td>4793</td><td>1798.2</td><td>NULL</td><td>3463.6</td><td>359</td><td>10414</td></tr><tr><td>1995</td><td>6001.5</td><td>2150</td><td>NULL</td><td>3959.8</td><td>414</td><td>12525</td></tr><tr><td>1996</td><td>NULL</td><td>NULL</td><td>NULL</td><td>4502</td><td>4142</td><td>18739</td></tr><tr><td>1997</td><td>6981</td><td>3782</td><td>174</td><td>5014</td><td>6522</td><td>22473</td></tr><tr><td>1998</td><td>6849</td><td>3193</td><td>260</td><td>5532</td><td>7142</td><td>22976</td></tr><tr><td>1999</td><td>6548</td><td>3030</td><td>206</td><td>6106</td><td>7512</td><td>23402</td></tr><tr><td>2000</td><td>5994</td><td>2602</td><td>368</td><td>6803</td><td>9615</td><td>25402</td></tr></table>"
                    },
                    "metadata": {}
                }
            ],
            "execution_count": 1
        },
        {
            "cell_type": "code",
            "source": [
                "select top 10 year,\n",
                "    studio_entertainment +\n",
                "    disney_consumer_products +\n",
                "    disney_interactive +\n",
                "    walt_disney_parks_and_resorts + disney_media_networks [total revenue],\n",
                "    total\n",
                "    from revenue"
            ],
            "metadata": {},
            "outputs": [
                {
                    "output_type": "display_data",
                    "data": {
                        "text/html": "(10 rows affected)"
                    },
                    "metadata": {}
                },
                {
                    "output_type": "display_data",
                    "data": {
                        "text/html": "Total execution time: 00:00:00.054"
                    },
                    "metadata": {}
                },
                {
                    "output_type": "execute_result",
                    "execution_count": 2,
                    "data": {
                        "application/vnd.dataresource+json": {
                            "schema": {
                                "fields": [
                                    {
                                        "name": "year"
                                    },
                                    {
                                        "name": "total revenue"
                                    },
                                    {
                                        "name": "total"
                                    }
                                ]
                            },
                            "data": [
                                {
                                    "0": "1991",
                                    "1": "NULL",
                                    "2": "6111"
                                },
                                {
                                    "0": "1992",
                                    "1": "NULL",
                                    "2": "7502"
                                },
                                {
                                    "0": "1993",
                                    "1": "NULL",
                                    "2": "8529"
                                },
                                {
                                    "0": "1994",
                                    "1": "NULL",
                                    "2": "10414"
                                },
                                {
                                    "0": "1995",
                                    "1": "NULL",
                                    "2": "12525"
                                },
                                {
                                    "0": "1996",
                                    "1": "NULL",
                                    "2": "18739"
                                },
                                {
                                    "0": "1997",
                                    "1": "22473",
                                    "2": "22473"
                                },
                                {
                                    "0": "1998",
                                    "1": "22976",
                                    "2": "22976"
                                },
                                {
                                    "0": "1999",
                                    "1": "23402",
                                    "2": "23402"
                                },
                                {
                                    "0": "2000",
                                    "1": "25382",
                                    "2": "25402"
                                }
                            ]
                        },
                        "text/html": "<table><tr><th>year</th><th>total revenue</th><th>total</th></tr><tr><td>1991</td><td>NULL</td><td>6111</td></tr><tr><td>1992</td><td>NULL</td><td>7502</td></tr><tr><td>1993</td><td>NULL</td><td>8529</td></tr><tr><td>1994</td><td>NULL</td><td>10414</td></tr><tr><td>1995</td><td>NULL</td><td>12525</td></tr><tr><td>1996</td><td>NULL</td><td>18739</td></tr><tr><td>1997</td><td>22473</td><td>22473</td></tr><tr><td>1998</td><td>22976</td><td>22976</td></tr><tr><td>1999</td><td>23402</td><td>23402</td></tr><tr><td>2000</td><td>25382</td><td>25402</td></tr></table>"
                    },
                    "metadata": {}
                }
            ],
            "execution_count": 2
        },
        {
            "cell_type": "markdown",
            "source": "## ISNULL()",
            "metadata": {}
        },
        {
            "cell_type": "code",
            "source": "select 5 + 0, 5 + NULL, isnull(NULL, 0), isnull(7, 0)",
            "metadata": {},
            "outputs": [
                {
                    "output_type": "display_data",
                    "data": {
                        "text/html": "(1 row affected)"
                    },
                    "metadata": {}
                },
                {
                    "output_type": "display_data",
                    "data": {
                        "text/html": "Total execution time: 00:00:00.100"
                    },
                    "metadata": {}
                },
                {
                    "output_type": "execute_result",
                    "execution_count": 3,
                    "data": {
                        "application/vnd.dataresource+json": {
                            "schema": {
                                "fields": [
                                    {
                                        "name": "(No column name)"
                                    },
                                    {
                                        "name": "(No column name)"
                                    },
                                    {
                                        "name": "(No column name)"
                                    },
                                    {
                                        "name": "(No column name)"
                                    }
                                ]
                            },
                            "data": [
                                {
                                    "0": "5",
                                    "1": "NULL",
                                    "2": "0",
                                    "3": "7"
                                }
                            ]
                        },
                        "text/html": "<table><tr><th>(No column name)</th><th>(No column name)</th><th>(No column name)</th><th>(No column name)</th></tr><tr><td>5</td><td>NULL</td><td>0</td><td>7</td></tr></table>"
                    },
                    "metadata": {}
                }
            ],
            "execution_count": 3
        },
        {
            "cell_type": "code",
            "source": [
                "select top 10 year,\n",
                "    isnull(studio_entertainment,0) +\n",
                "    isnull(disney_consumer_products,0) +\n",
                "    isnull(disney_interactive,0) +\n",
                "    isnull(walt_disney_parks_and_resorts,0) + \n",
                "    isnull(disney_media_networks,0) [total revenue],\n",
                "    total\n",
                "    from revenue"
            ],
            "metadata": {},
            "outputs": [
                {
                    "output_type": "display_data",
                    "data": {
                        "text/html": "(10 rows affected)"
                    },
                    "metadata": {}
                },
                {
                    "output_type": "display_data",
                    "data": {
                        "text/html": "Total execution time: 00:00:00.409"
                    },
                    "metadata": {}
                },
                {
                    "output_type": "execute_result",
                    "execution_count": 4,
                    "data": {
                        "application/vnd.dataresource+json": {
                            "schema": {
                                "fields": [
                                    {
                                        "name": "year"
                                    },
                                    {
                                        "name": "total revenue"
                                    },
                                    {
                                        "name": "total"
                                    }
                                ]
                            },
                            "data": [
                                {
                                    "0": "1991",
                                    "1": "6111",
                                    "2": "6111"
                                },
                                {
                                    "0": "1992",
                                    "1": "7502",
                                    "2": "7502"
                                },
                                {
                                    "0": "1993",
                                    "1": "8529.2",
                                    "2": "8529"
                                },
                                {
                                    "0": "1994",
                                    "1": "10413.8",
                                    "2": "10414"
                                },
                                {
                                    "0": "1995",
                                    "1": "12525.3",
                                    "2": "12525"
                                },
                                {
                                    "0": "1996",
                                    "1": "8644",
                                    "2": "18739"
                                },
                                {
                                    "0": "1997",
                                    "1": "22473",
                                    "2": "22473"
                                },
                                {
                                    "0": "1998",
                                    "1": "22976",
                                    "2": "22976"
                                },
                                {
                                    "0": "1999",
                                    "1": "23402",
                                    "2": "23402"
                                },
                                {
                                    "0": "2000",
                                    "1": "25382",
                                    "2": "25402"
                                }
                            ]
                        },
                        "text/html": "<table><tr><th>year</th><th>total revenue</th><th>total</th></tr><tr><td>1991</td><td>6111</td><td>6111</td></tr><tr><td>1992</td><td>7502</td><td>7502</td></tr><tr><td>1993</td><td>8529.2</td><td>8529</td></tr><tr><td>1994</td><td>10413.8</td><td>10414</td></tr><tr><td>1995</td><td>12525.3</td><td>12525</td></tr><tr><td>1996</td><td>8644</td><td>18739</td></tr><tr><td>1997</td><td>22473</td><td>22473</td></tr><tr><td>1998</td><td>22976</td><td>22976</td></tr><tr><td>1999</td><td>23402</td><td>23402</td></tr><tr><td>2000</td><td>25382</td><td>25402</td></tr></table>"
                    },
                    "metadata": {}
                }
            ],
            "execution_count": 4
        },
        {
            "cell_type": "code",
            "source": "select * from revenue",
            "metadata": {},
            "outputs": [
                {
                    "output_type": "display_data",
                    "data": {
                        "text/html": "(26 rows affected)"
                    },
                    "metadata": {}
                },
                {
                    "output_type": "display_data",
                    "data": {
                        "text/html": "Total execution time: 00:00:02.757"
                    },
                    "metadata": {}
                },
                {
                    "output_type": "execute_result",
                    "execution_count": 5,
                    "data": {
                        "application/vnd.dataresource+json": {
                            "schema": {
                                "fields": [
                                    {
                                        "name": "year"
                                    },
                                    {
                                        "name": "studio_entertainment"
                                    },
                                    {
                                        "name": "disney_consumer_products"
                                    },
                                    {
                                        "name": "disney_interactive"
                                    },
                                    {
                                        "name": "walt_disney_parks_and_resorts"
                                    },
                                    {
                                        "name": "disney_media_networks"
                                    },
                                    {
                                        "name": "total"
                                    }
                                ]
                            },
                            "data": [
                                {
                                    "0": "1991",
                                    "1": "2593",
                                    "2": "724",
                                    "3": "NULL",
                                    "4": "2794",
                                    "5": "NULL",
                                    "6": "6111"
                                },
                                {
                                    "0": "1992",
                                    "1": "3115",
                                    "2": "1081",
                                    "3": "NULL",
                                    "4": "3306",
                                    "5": "NULL",
                                    "6": "7502"
                                },
                                {
                                    "0": "1993",
                                    "1": "3673.4",
                                    "2": "1415.1",
                                    "3": "NULL",
                                    "4": "3440.7",
                                    "5": "NULL",
                                    "6": "8529"
                                },
                                {
                                    "0": "1994",
                                    "1": "4793",
                                    "2": "1798.2",
                                    "3": "NULL",
                                    "4": "3463.6",
                                    "5": "359",
                                    "6": "10414"
                                },
                                {
                                    "0": "1995",
                                    "1": "6001.5",
                                    "2": "2150",
                                    "3": "NULL",
                                    "4": "3959.8",
                                    "5": "414",
                                    "6": "12525"
                                },
                                {
                                    "0": "1996",
                                    "1": "NULL",
                                    "2": "NULL",
                                    "3": "NULL",
                                    "4": "4502",
                                    "5": "4142",
                                    "6": "18739"
                                },
                                {
                                    "0": "1997",
                                    "1": "6981",
                                    "2": "3782",
                                    "3": "174",
                                    "4": "5014",
                                    "5": "6522",
                                    "6": "22473"
                                },
                                {
                                    "0": "1998",
                                    "1": "6849",
                                    "2": "3193",
                                    "3": "260",
                                    "4": "5532",
                                    "5": "7142",
                                    "6": "22976"
                                },
                                {
                                    "0": "1999",
                                    "1": "6548",
                                    "2": "3030",
                                    "3": "206",
                                    "4": "6106",
                                    "5": "7512",
                                    "6": "23402"
                                },
                                {
                                    "0": "2000",
                                    "1": "5994",
                                    "2": "2602",
                                    "3": "368",
                                    "4": "6803",
                                    "5": "9615",
                                    "6": "25402"
                                },
                                {
                                    "0": "2001",
                                    "1": "7004",
                                    "2": "2590",
                                    "3": "NULL",
                                    "4": "6009",
                                    "5": "9569",
                                    "6": "25790"
                                },
                                {
                                    "0": "2002",
                                    "1": "6465",
                                    "2": "2440",
                                    "3": "NULL",
                                    "4": "6691",
                                    "5": "9733",
                                    "6": "25360"
                                },
                                {
                                    "0": "2003",
                                    "1": "7364",
                                    "2": "2344",
                                    "3": "NULL",
                                    "4": "6412",
                                    "5": "10941",
                                    "6": "27061"
                                },
                                {
                                    "0": "2004",
                                    "1": "8713",
                                    "2": "2511",
                                    "3": "NULL",
                                    "4": "7750",
                                    "5": "11778",
                                    "6": "30752"
                                },
                                {
                                    "0": "2005",
                                    "1": "7587",
                                    "2": "2127",
                                    "3": "NULL",
                                    "4": "9023",
                                    "5": "13207",
                                    "6": "31944"
                                },
                                {
                                    "0": "2006",
                                    "1": "7529",
                                    "2": "2193",
                                    "3": "NULL",
                                    "4": "9925",
                                    "5": "14368",
                                    "6": "34285"
                                },
                                {
                                    "0": "2007",
                                    "1": "7491",
                                    "2": "2347",
                                    "3": "NULL",
                                    "4": "10626",
                                    "5": "15046",
                                    "6": "35510"
                                },
                                {
                                    "0": "2008",
                                    "1": "7348",
                                    "2": "2415",
                                    "3": "719",
                                    "4": "11504",
                                    "5": "15857",
                                    "6": "37843"
                                },
                                {
                                    "0": "2009",
                                    "1": "6136",
                                    "2": "2425",
                                    "3": "712",
                                    "4": "10667",
                                    "5": "16209",
                                    "6": "36149"
                                },
                                {
                                    "0": "2010",
                                    "1": "6701",
                                    "2": "2678",
                                    "3": "761",
                                    "4": "10761",
                                    "5": "17162",
                                    "6": "38063"
                                },
                                {
                                    "0": "2011",
                                    "1": "6351",
                                    "2": "3049",
                                    "3": "982",
                                    "4": "11797",
                                    "5": "18714",
                                    "6": "40893"
                                },
                                {
                                    "0": "2012",
                                    "1": "5825",
                                    "2": "3252",
                                    "3": "845",
                                    "4": "12920",
                                    "5": "19436",
                                    "6": "42278"
                                },
                                {
                                    "0": "2013",
                                    "1": "5979",
                                    "2": "3555",
                                    "3": "1064",
                                    "4": "14087",
                                    "5": "20356",
                                    "6": "45041"
                                },
                                {
                                    "0": "2014",
                                    "1": "7278",
                                    "2": "3985",
                                    "3": "1299",
                                    "4": "15099",
                                    "5": "21152",
                                    "6": "48813"
                                },
                                {
                                    "0": "2015",
                                    "1": "7366",
                                    "2": "4499",
                                    "3": "1174",
                                    "4": "16162",
                                    "5": "23264",
                                    "6": "52465"
                                },
                                {
                                    "0": "2016",
                                    "1": "9441",
                                    "2": "NULL",
                                    "3": "NULL",
                                    "4": "16974",
                                    "5": "23689",
                                    "6": "55632"
                                }
                            ]
                        },
                        "text/html": "<table><tr><th>year</th><th>studio_entertainment</th><th>disney_consumer_products</th><th>disney_interactive</th><th>walt_disney_parks_and_resorts</th><th>disney_media_networks</th><th>total</th></tr><tr><td>1991</td><td>2593</td><td>724</td><td>NULL</td><td>2794</td><td>NULL</td><td>6111</td></tr><tr><td>1992</td><td>3115</td><td>1081</td><td>NULL</td><td>3306</td><td>NULL</td><td>7502</td></tr><tr><td>1993</td><td>3673.4</td><td>1415.1</td><td>NULL</td><td>3440.7</td><td>NULL</td><td>8529</td></tr><tr><td>1994</td><td>4793</td><td>1798.2</td><td>NULL</td><td>3463.6</td><td>359</td><td>10414</td></tr><tr><td>1995</td><td>6001.5</td><td>2150</td><td>NULL</td><td>3959.8</td><td>414</td><td>12525</td></tr><tr><td>1996</td><td>NULL</td><td>NULL</td><td>NULL</td><td>4502</td><td>4142</td><td>18739</td></tr><tr><td>1997</td><td>6981</td><td>3782</td><td>174</td><td>5014</td><td>6522</td><td>22473</td></tr><tr><td>1998</td><td>6849</td><td>3193</td><td>260</td><td>5532</td><td>7142</td><td>22976</td></tr><tr><td>1999</td><td>6548</td><td>3030</td><td>206</td><td>6106</td><td>7512</td><td>23402</td></tr><tr><td>2000</td><td>5994</td><td>2602</td><td>368</td><td>6803</td><td>9615</td><td>25402</td></tr><tr><td>2001</td><td>7004</td><td>2590</td><td>NULL</td><td>6009</td><td>9569</td><td>25790</td></tr><tr><td>2002</td><td>6465</td><td>2440</td><td>NULL</td><td>6691</td><td>9733</td><td>25360</td></tr><tr><td>2003</td><td>7364</td><td>2344</td><td>NULL</td><td>6412</td><td>10941</td><td>27061</td></tr><tr><td>2004</td><td>8713</td><td>2511</td><td>NULL</td><td>7750</td><td>11778</td><td>30752</td></tr><tr><td>2005</td><td>7587</td><td>2127</td><td>NULL</td><td>9023</td><td>13207</td><td>31944</td></tr><tr><td>2006</td><td>7529</td><td>2193</td><td>NULL</td><td>9925</td><td>14368</td><td>34285</td></tr><tr><td>2007</td><td>7491</td><td>2347</td><td>NULL</td><td>10626</td><td>15046</td><td>35510</td></tr><tr><td>2008</td><td>7348</td><td>2415</td><td>719</td><td>11504</td><td>15857</td><td>37843</td></tr><tr><td>2009</td><td>6136</td><td>2425</td><td>712</td><td>10667</td><td>16209</td><td>36149</td></tr><tr><td>2010</td><td>6701</td><td>2678</td><td>761</td><td>10761</td><td>17162</td><td>38063</td></tr><tr><td>2011</td><td>6351</td><td>3049</td><td>982</td><td>11797</td><td>18714</td><td>40893</td></tr><tr><td>2012</td><td>5825</td><td>3252</td><td>845</td><td>12920</td><td>19436</td><td>42278</td></tr><tr><td>2013</td><td>5979</td><td>3555</td><td>1064</td><td>14087</td><td>20356</td><td>45041</td></tr><tr><td>2014</td><td>7278</td><td>3985</td><td>1299</td><td>15099</td><td>21152</td><td>48813</td></tr><tr><td>2015</td><td>7366</td><td>4499</td><td>1174</td><td>16162</td><td>23264</td><td>52465</td></tr><tr><td>2016</td><td>9441</td><td>NULL</td><td>NULL</td><td>16974</td><td>23689</td><td>55632</td></tr></table>"
                    },
                    "metadata": {}
                }
            ],
            "execution_count": 5
        },
        {
            "cell_type": "markdown",
            "source": "## COUNT(*) vs. COUNT(column_name)",
            "metadata": {}
        },
        {
            "cell_type": "code",
            "source": "select count(*), count(disney_media_networks) from revenue",
            "metadata": {},
            "outputs": [
                {
                    "output_type": "display_data",
                    "data": {
                        "text/html": "Warning: Null value is eliminated by an aggregate or other SET operation."
                    },
                    "metadata": {}
                },
                {
                    "output_type": "display_data",
                    "data": {
                        "text/html": "(1 row affected)"
                    },
                    "metadata": {}
                },
                {
                    "output_type": "display_data",
                    "data": {
                        "text/html": "Total execution time: 00:00:02.403"
                    },
                    "metadata": {}
                },
                {
                    "output_type": "execute_result",
                    "execution_count": 6,
                    "data": {
                        "application/vnd.dataresource+json": {
                            "schema": {
                                "fields": [
                                    {
                                        "name": "(No column name)"
                                    },
                                    {
                                        "name": "(No column name)"
                                    }
                                ]
                            },
                            "data": [
                                {
                                    "0": "26",
                                    "1": "23"
                                }
                            ]
                        },
                        "text/html": "<table><tr><th>(No column name)</th><th>(No column name)</th></tr><tr><td>26</td><td>23</td></tr></table>"
                    },
                    "metadata": {}
                }
            ],
            "execution_count": 6
        },
        {
            "cell_type": "code",
            "source": "select count(*) from revenue where disney_media_networks is null",
            "metadata": {},
            "outputs": [
                {
                    "output_type": "display_data",
                    "data": {
                        "text/html": "(1 row affected)"
                    },
                    "metadata": {}
                },
                {
                    "output_type": "display_data",
                    "data": {
                        "text/html": "Total execution time: 00:00:02.984"
                    },
                    "metadata": {}
                },
                {
                    "output_type": "execute_result",
                    "execution_count": 7,
                    "data": {
                        "application/vnd.dataresource+json": {
                            "schema": {
                                "fields": [
                                    {
                                        "name": "(No column name)"
                                    }
                                ]
                            },
                            "data": [
                                {
                                    "0": "3"
                                }
                            ]
                        },
                        "text/html": "<table><tr><th>(No column name)</th></tr><tr><td>3</td></tr></table>"
                    },
                    "metadata": {}
                }
            ],
            "execution_count": 7
        },
        {
            "cell_type": "code",
            "source": "select count(*) from revenue where disney_media_networks is not null",
            "metadata": {},
            "outputs": [
                {
                    "output_type": "display_data",
                    "data": {
                        "text/html": "(1 row affected)"
                    },
                    "metadata": {}
                },
                {
                    "output_type": "display_data",
                    "data": {
                        "text/html": "Total execution time: 00:00:02.050"
                    },
                    "metadata": {}
                },
                {
                    "output_type": "execute_result",
                    "execution_count": 8,
                    "data": {
                        "application/vnd.dataresource+json": {
                            "schema": {
                                "fields": [
                                    {
                                        "name": "(No column name)"
                                    }
                                ]
                            },
                            "data": [
                                {
                                    "0": "23"
                                }
                            ]
                        },
                        "text/html": "<table><tr><th>(No column name)</th></tr><tr><td>23</td></tr></table>"
                    },
                    "metadata": {}
                }
            ],
            "execution_count": 8
        },
        {
            "cell_type": "code",
            "source": [
                "select sum(disney_media_networks) [sum], \n",
                "    count(*) [all_rows], \n",
                "    count(disney_media_networks) [count], \n",
                "    sum(disney_media_networks) / count(disney_media_networks) [avg_1],\n",
                "    avg(disney_media_networks) [avg_2] \n",
                "    from revenue"
            ],
            "metadata": {},
            "outputs": [
                {
                    "output_type": "display_data",
                    "data": {
                        "text/html": "Warning: Null value is eliminated by an aggregate or other SET operation."
                    },
                    "metadata": {}
                },
                {
                    "output_type": "display_data",
                    "data": {
                        "text/html": "(1 row affected)"
                    },
                    "metadata": {}
                },
                {
                    "output_type": "display_data",
                    "data": {
                        "text/html": "Total execution time: 00:00:02.636"
                    },
                    "metadata": {}
                },
                {
                    "output_type": "execute_result",
                    "execution_count": 9,
                    "data": {
                        "application/vnd.dataresource+json": {
                            "schema": {
                                "fields": [
                                    {
                                        "name": "sum"
                                    },
                                    {
                                        "name": "all_rows"
                                    },
                                    {
                                        "name": "count"
                                    },
                                    {
                                        "name": "avg_1"
                                    },
                                    {
                                        "name": "avg_2"
                                    }
                                ]
                            },
                            "data": [
                                {
                                    "0": "296187",
                                    "1": "26",
                                    "2": "23",
                                    "3": "12877.6956521739",
                                    "4": "12877.6956521739"
                                }
                            ]
                        },
                        "text/html": "<table><tr><th>sum</th><th>all_rows</th><th>count</th><th>avg_1</th><th>avg_2</th></tr><tr><td>296187</td><td>26</td><td>23</td><td>12877.6956521739</td><td>12877.6956521739</td></tr></table>"
                    },
                    "metadata": {}
                }
            ],
            "execution_count": 9
        }
    ]
}