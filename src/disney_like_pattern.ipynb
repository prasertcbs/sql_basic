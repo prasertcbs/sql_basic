{
    "metadata": {
        "kernelspec": {
            "name": "SQL",
            "display_name": "SQL",
            "language": "sql"
        },
        "language_info": {
            "name": "sql",
            "version": ""
        }
    },
    "nbformat_minor": 2,
    "nbformat": 4,
    "cells": [
        {
            "cell_type": "markdown",
            "source": [
                "# LIKE pattern\n",
                "## Server: Microsoft SQL Server\n",
                "## Database: disney\n",
                "## Author: Prasert Kanawattanachai\n",
                "## YouTube: https://youtu.be/ISiJA_g9i5I"
            ],
            "metadata": {}
        },
        {
            "cell_type": "code",
            "source": "select * from movie_gross",
            "metadata": {},
            "outputs": [],
            "execution_count": 1
        },
        {
            "cell_type": "markdown",
            "source": "# ชื่อหนังที่ขึ้นต้นด้วย B",
            "metadata": {}
        },
        {
            "cell_type": "code",
            "source": "select * from movie_gross where movie_title like 'B%'",
            "metadata": {},
            "outputs": [],
            "execution_count": 2
        },
        {
            "cell_type": "markdown",
            "source": "# ชื่อหนังที่ขึ้นต้นด้วย BE",
            "metadata": {}
        },
        {
            "cell_type": "code",
            "source": "select * from movie_gross where movie_title like 'bE%'",
            "metadata": {},
            "outputs": [],
            "execution_count": 3
        },
        {
            "cell_type": "markdown",
            "source": "# ชื่อหนังที่มีตัวอักษร B",
            "metadata": {}
        },
        {
            "cell_type": "code",
            "source": "select * from movie_gross where movie_title like '%b%'",
            "metadata": {},
            "outputs": [],
            "execution_count": 4
        },
        {
            "cell_type": "markdown",
            "source": "# ชื่อหนังที่ลงท้ายด้วย B",
            "metadata": {}
        },
        {
            "cell_type": "code",
            "source": "select * from movie_gross where movie_title like '%b'",
            "metadata": {},
            "outputs": [],
            "execution_count": 5
        },
        {
            "cell_type": "markdown",
            "source": "# ชื่อหนังที่ขึ้นต้นด้วย B หรือ Y หรือ W",
            "metadata": {}
        },
        {
            "cell_type": "code",
            "source": "select * from movie_gross where movie_title like '[byw]%' order by movie_title",
            "metadata": {},
            "outputs": [],
            "execution_count": 6
        },
        {
            "cell_type": "markdown",
            "source": "# ชื่อหนังที่ขึ้นต้นด้วย A หรือ B หรือ C หรือ D หรือ E หรือ F",
            "metadata": {}
        },
        {
            "cell_type": "code",
            "source": "select * from movie_gross where movie_title like '[a-f]%' order by movie_title",
            "metadata": {},
            "outputs": [],
            "execution_count": 7
        },
        {
            "cell_type": "code",
            "source": "select * from movie_gross where movie_title like '[abcdef]%' order by movie_title",
            "metadata": {},
            "outputs": [],
            "execution_count": 8
        },
        {
            "cell_type": "markdown",
            "source": "# ชื่อหนังที่ขึ้นต้นด้วย A หรือ B หรือ C หรือ D หรือ E หรือ F แล้วตามด้วย N",
            "metadata": {}
        },
        {
            "cell_type": "code",
            "source": "select * from movie_gross where movie_title like '[a-f]n%' order by movie_title",
            "metadata": {},
            "outputs": [],
            "execution_count": 9
        },
        {
            "cell_type": "markdown",
            "source": "# ชื่อหนังที่ขึ้นต้นด้วยตัวเลข",
            "metadata": {}
        },
        {
            "cell_type": "code",
            "source": "select * from movie_gross where movie_title like '[0-9]%' order by movie_title",
            "metadata": {},
            "outputs": [],
            "execution_count": 10
        },
        {
            "cell_type": "markdown",
            "source": "# ชื่อหนังที่มีตัวเลข",
            "metadata": {}
        },
        {
            "cell_type": "code",
            "source": "select * from movie_gross where movie_title like '%[0-9]%' order by movie_title",
            "metadata": {},
            "outputs": [],
            "execution_count": 11
        },
        {
            "cell_type": "markdown",
            "source": "# ชื่อหนังที่ลงท้ายด้วยตัวเลข",
            "metadata": {}
        },
        {
            "cell_type": "code",
            "source": "select * from movie_gross where movie_title like '%[0-9]' order by movie_title",
            "metadata": {},
            "outputs": [],
            "execution_count": 12
        },
        {
            "cell_type": "markdown",
            "source": "# ชื่อหนังที่ตำแหน่งที่ 2 เป็นตัว N",
            "metadata": {}
        },
        {
            "cell_type": "code",
            "source": "select * from movie_gross where movie_title like '_n%' order by movie_title",
            "metadata": {},
            "outputs": [],
            "execution_count": 13
        },
        {
            "cell_type": "markdown",
            "source": "# ชื่อหนังที่ตำแหน่งที่ 3 เป็นตัว N",
            "metadata": {}
        },
        {
            "cell_type": "code",
            "source": "select * from movie_gross where movie_title like '__n%' order by movie_title",
            "metadata": {},
            "outputs": [],
            "execution_count": 14
        },
        {
            "cell_type": "markdown",
            "source": "# ชื่อหนังที่ตำแหน่งที่ 3 เป็นตัว N หรือ M หรือ X หรือ P หรือ Y",
            "metadata": {}
        },
        {
            "cell_type": "code",
            "source": "select * from movie_gross where movie_title like '__[nmxpy]%' order by movie_title",
            "metadata": {},
            "outputs": [],
            "execution_count": 15
        },
        {
            "cell_type": "markdown",
            "source": "# ชื่อหนังที่**_ไม่ได้_**ขึ้นต้นด้วย A หรือ B หรือ C หรือตัวเลข หรือ S ถึง Z",
            "metadata": {}
        },
        {
            "cell_type": "code",
            "source": "select * from movie_gross where movie_title like '[^abc0-9s-z]%' order by movie_title",
            "metadata": {},
            "outputs": [],
            "execution_count": 16
        },
        {
            "cell_type": "markdown",
            "source": "# หนังที่มีคำว่า story",
            "metadata": {}
        },
        {
            "cell_type": "code",
            "source": "select * from movie_gross where movie_title like '%story%' order by movie_title",
            "metadata": {},
            "outputs": [],
            "execution_count": 17
        },
        {
            "cell_type": "markdown",
            "source": "# หนังที่ลงท้ายด้วยคำว่า story",
            "metadata": {}
        },
        {
            "cell_type": "code",
            "source": "select * from movie_gross where movie_title like '%story' order by movie_title",
            "metadata": {},
            "outputs": [],
            "execution_count": 18
        },
        {
            "cell_type": "markdown",
            "source": "# หนังที่**_ไม่ได้_**ลงท้ายด้วยคำว่า story",
            "metadata": {}
        },
        {
            "cell_type": "code",
            "source": "select * from movie_gross where movie_title not like '%story' order by movie_title",
            "metadata": {},
            "outputs": [],
            "execution_count": 19
        }
    ]
}