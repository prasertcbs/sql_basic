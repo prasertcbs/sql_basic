{
    "metadata": {
        "kernelspec": {
            "name": "SQL",
            "display_name": "SQL",
            "language": "sql"
        },
        "language_info": {
            "name": "sql",
            "version": ""
        }
    },
    "nbformat_minor": 2,
    "nbformat": 4,
    "cells": [
        {
            "cell_type": "markdown",
            "source": [
                "# Time differences\n",
                "## Server: Microsoft SQL Server\n",
                "## Author: Prasert Kanawattanachai\n",
                "## YouTube: https://youtu.be/e50Xts7VBsY"
            ],
            "metadata": {
                "azdata_cell_guid": "a772cbdf-08de-4712-8995-183011523bc4"
            }
        },
        {
            "cell_type": "code",
            "source": [
                "select getdate(), \n",
                "    convert(datetime, '2019-9-14 13:15') as aaa, \n",
                "    cast('2018-03-04' as datetime) as bbb,\n",
                "    cast('2018-03-04 7:00' as datetime) as ccc"
            ],
            "metadata": {
                "azdata_cell_guid": "26591aba-9ca5-4b23-9944-974db344fbb3"
            },
            "outputs": [
                {
                    "output_type": "display_data",
                    "data": {
                        "text/html": "(1 row affected)"
                    },
                    "metadata": {}
                },
                {
                    "output_type": "display_data",
                    "data": {
                        "text/html": "Total execution time: 00:00:00.055"
                    },
                    "metadata": {}
                },
                {
                    "output_type": "execute_result",
                    "execution_count": 12,
                    "data": {
                        "application/vnd.dataresource+json": {
                            "schema": {
                                "fields": [
                                    {
                                        "name": "(No column name)"
                                    },
                                    {
                                        "name": "aaa"
                                    },
                                    {
                                        "name": "bbb"
                                    },
                                    {
                                        "name": "ccc"
                                    }
                                ]
                            },
                            "data": [
                                {
                                    "0": "2019-09-15 00:35:54.520",
                                    "1": "2019-09-14 13:15:00.000",
                                    "2": "2018-03-04 00:00:00.000",
                                    "3": "2018-03-04 07:00:00.000"
                                }
                            ]
                        },
                        "text/html": "<table><tr><th>(No column name)</th><th>aaa</th><th>bbb</th><th>ccc</th></tr><tr><td>2019-09-15 00:35:54.520</td><td>2019-09-14 13:15:00.000</td><td>2018-03-04 00:00:00.000</td><td>2018-03-04 07:00:00.000</td></tr></table>"
                    },
                    "metadata": {}
                }
            ],
            "execution_count": 12
        },
        {
            "cell_type": "markdown",
            "source": [
                "## หาผลต่างของเวลาเป็นกี่ชั่วกับอีกกี่นาที"
            ],
            "metadata": {
                "azdata_cell_guid": "b0a75ffb-d947-4cf2-8052-a7dec3b091ad"
            }
        },
        {
            "cell_type": "code",
            "source": [
                "select cast('2019-9-14 10:35' as datetime) in_time, cast('2019-9-14 11:40' as datetime) out_time,\n",
                "    datediff(minute, cast('2019-9-14 10:35' as datetime), cast('2019-9-14 11:40' as datetime)),\n",
                "    datediff(minute, cast('2019-9-14 10:35' as datetime), cast('2019-9-14 11:40' as datetime)) / 60 hh,\n",
                "    datediff(minute, cast('2019-9-14 10:35' as datetime), cast('2019-9-14 11:40' as datetime)) % 60 mm"
            ],
            "metadata": {
                "azdata_cell_guid": "dd88bc60-7c78-431d-abe7-5ddfca59d196"
            },
            "outputs": [
                {
                    "output_type": "display_data",
                    "data": {
                        "text/html": "(1 row affected)"
                    },
                    "metadata": {}
                },
                {
                    "output_type": "display_data",
                    "data": {
                        "text/html": "Total execution time: 00:00:00.054"
                    },
                    "metadata": {}
                },
                {
                    "output_type": "execute_result",
                    "execution_count": 13,
                    "data": {
                        "application/vnd.dataresource+json": {
                            "schema": {
                                "fields": [
                                    {
                                        "name": "in_time"
                                    },
                                    {
                                        "name": "out_time"
                                    },
                                    {
                                        "name": "(No column name)"
                                    },
                                    {
                                        "name": "hh"
                                    },
                                    {
                                        "name": "mm"
                                    }
                                ]
                            },
                            "data": [
                                {
                                    "0": "2019-09-14 10:35:00.000",
                                    "1": "2019-09-14 11:40:00.000",
                                    "2": "65",
                                    "3": "1",
                                    "4": "5"
                                }
                            ]
                        },
                        "text/html": "<table><tr><th>in_time</th><th>out_time</th><th>(No column name)</th><th>hh</th><th>mm</th></tr><tr><td>2019-09-14 10:35:00.000</td><td>2019-09-14 11:40:00.000</td><td>65</td><td>1</td><td>5</td></tr></table>"
                    },
                    "metadata": {}
                }
            ],
            "execution_count": 13
        },
        {
            "cell_type": "markdown",
            "source": [
                "## สร้างตารางเก็บข้อมูลเวลาเข้าและออกของการจอดรถ"
            ],
            "metadata": {
                "azdata_cell_guid": "3e422c1e-2e6a-46b7-9a6a-f69f22e9bd67"
            }
        },
        {
            "cell_type": "code",
            "source": [
                "drop table if exists car_park;\n",
                "\n",
                "create table car_park (\n",
                "    plate_num nvarchar(8),\n",
                "    in_time datetime,\n",
                "    out_time datetime\n",
                ");"
            ],
            "metadata": {
                "azdata_cell_guid": "0b9d1b65-d2a2-481b-9d25-d9f3943a08bf"
            },
            "outputs": [
                {
                    "output_type": "display_data",
                    "data": {
                        "text/html": "Commands completed successfully."
                    },
                    "metadata": {}
                },
                {
                    "output_type": "display_data",
                    "data": {
                        "text/html": "Total execution time: 00:00:00.068"
                    },
                    "metadata": {}
                }
            ],
            "execution_count": 14
        },
        {
            "cell_type": "code",
            "source": [
                "insert into car_park values \n",
                "    (N'กก 1234', '2019-10-20 11:00', '2019-10-20 13:00'),\n",
                "    (N'กข 1234', '2019-10-20 11:00', '2019-10-20 11:10'),\n",
                "    (N'ขข 4711', '2019-10-20 11:50', '2019-10-20 13:00'),\n",
                "    (N'นน 21', '2019-10-20 13:50', '2019-10-20 14:25'),\n",
                "    (N'พอ 9999', '2019-10-20 13:50', '2019-10-20 15:10'),\n",
                "    (N'ออ 1122', '2019-10-20 13:50', '2019-10-23 15:10')"
            ],
            "metadata": {
                "azdata_cell_guid": "5ab523b2-2036-43f5-8be7-34f52f669c32"
            },
            "outputs": [
                {
                    "output_type": "display_data",
                    "data": {
                        "text/html": "(6 rows affected)"
                    },
                    "metadata": {}
                },
                {
                    "output_type": "display_data",
                    "data": {
                        "text/html": "Total execution time: 00:00:00.062"
                    },
                    "metadata": {}
                }
            ],
            "execution_count": 15
        },
        {
            "cell_type": "code",
            "source": [
                "select * from car_park"
            ],
            "metadata": {
                "azdata_cell_guid": "76aa89d6-5657-485a-92a2-9461357796b9"
            },
            "outputs": [
                {
                    "output_type": "display_data",
                    "data": {
                        "text/html": "(6 rows affected)"
                    },
                    "metadata": {}
                },
                {
                    "output_type": "display_data",
                    "data": {
                        "text/html": "Total execution time: 00:00:00.054"
                    },
                    "metadata": {}
                },
                {
                    "output_type": "execute_result",
                    "execution_count": 16,
                    "data": {
                        "application/vnd.dataresource+json": {
                            "schema": {
                                "fields": [
                                    {
                                        "name": "plate_num"
                                    },
                                    {
                                        "name": "in_time"
                                    },
                                    {
                                        "name": "out_time"
                                    }
                                ]
                            },
                            "data": [
                                {
                                    "0": "กก 1234",
                                    "1": "2019-10-20 11:00:00.000",
                                    "2": "2019-10-20 13:00:00.000"
                                },
                                {
                                    "0": "กข 1234",
                                    "1": "2019-10-20 11:00:00.000",
                                    "2": "2019-10-20 11:10:00.000"
                                },
                                {
                                    "0": "ขข 4711",
                                    "1": "2019-10-20 11:50:00.000",
                                    "2": "2019-10-20 13:00:00.000"
                                },
                                {
                                    "0": "นน 21",
                                    "1": "2019-10-20 13:50:00.000",
                                    "2": "2019-10-20 14:25:00.000"
                                },
                                {
                                    "0": "พอ 9999",
                                    "1": "2019-10-20 13:50:00.000",
                                    "2": "2019-10-20 15:10:00.000"
                                },
                                {
                                    "0": "ออ 1122",
                                    "1": "2019-10-20 13:50:00.000",
                                    "2": "2019-10-23 15:10:00.000"
                                }
                            ]
                        },
                        "text/html": "<table><tr><th>plate_num</th><th>in_time</th><th>out_time</th></tr><tr><td>กก 1234</td><td>2019-10-20 11:00:00.000</td><td>2019-10-20 13:00:00.000</td></tr><tr><td>กข 1234</td><td>2019-10-20 11:00:00.000</td><td>2019-10-20 11:10:00.000</td></tr><tr><td>ขข 4711</td><td>2019-10-20 11:50:00.000</td><td>2019-10-20 13:00:00.000</td></tr><tr><td>นน 21</td><td>2019-10-20 13:50:00.000</td><td>2019-10-20 14:25:00.000</td></tr><tr><td>พอ 9999</td><td>2019-10-20 13:50:00.000</td><td>2019-10-20 15:10:00.000</td></tr><tr><td>ออ 1122</td><td>2019-10-20 13:50:00.000</td><td>2019-10-23 15:10:00.000</td></tr></table>"
                    },
                    "metadata": {}
                }
            ],
            "execution_count": 16
        },
        {
            "cell_type": "code",
            "source": [
                "insert into car_park values ('ฐฐ 7777', '2019-10-20 11:00', '2019-10-20 13:00')"
            ],
            "metadata": {
                "azdata_cell_guid": "8ef4ffb9-2307-497f-ac37-35a50ecceba7"
            },
            "outputs": [
                {
                    "output_type": "display_data",
                    "data": {
                        "text/html": "(1 row affected)"
                    },
                    "metadata": {}
                },
                {
                    "output_type": "display_data",
                    "data": {
                        "text/html": "Total execution time: 00:00:00.064"
                    },
                    "metadata": {}
                }
            ],
            "execution_count": 17
        },
        {
            "cell_type": "code",
            "source": [
                "select * from car_park"
            ],
            "metadata": {
                "azdata_cell_guid": "cae284ee-2c58-48d2-bee4-756626203807"
            },
            "outputs": [
                {
                    "output_type": "display_data",
                    "data": {
                        "text/html": "(7 rows affected)"
                    },
                    "metadata": {}
                },
                {
                    "output_type": "display_data",
                    "data": {
                        "text/html": "Total execution time: 00:00:00.069"
                    },
                    "metadata": {}
                },
                {
                    "output_type": "execute_result",
                    "execution_count": 18,
                    "data": {
                        "application/vnd.dataresource+json": {
                            "schema": {
                                "fields": [
                                    {
                                        "name": "plate_num"
                                    },
                                    {
                                        "name": "in_time"
                                    },
                                    {
                                        "name": "out_time"
                                    }
                                ]
                            },
                            "data": [
                                {
                                    "0": "กก 1234",
                                    "1": "2019-10-20 11:00:00.000",
                                    "2": "2019-10-20 13:00:00.000"
                                },
                                {
                                    "0": "กข 1234",
                                    "1": "2019-10-20 11:00:00.000",
                                    "2": "2019-10-20 11:10:00.000"
                                },
                                {
                                    "0": "ขข 4711",
                                    "1": "2019-10-20 11:50:00.000",
                                    "2": "2019-10-20 13:00:00.000"
                                },
                                {
                                    "0": "นน 21",
                                    "1": "2019-10-20 13:50:00.000",
                                    "2": "2019-10-20 14:25:00.000"
                                },
                                {
                                    "0": "พอ 9999",
                                    "1": "2019-10-20 13:50:00.000",
                                    "2": "2019-10-20 15:10:00.000"
                                },
                                {
                                    "0": "ออ 1122",
                                    "1": "2019-10-20 13:50:00.000",
                                    "2": "2019-10-23 15:10:00.000"
                                },
                                {
                                    "0": "?? 7777",
                                    "1": "2019-10-20 11:00:00.000",
                                    "2": "2019-10-20 13:00:00.000"
                                }
                            ]
                        },
                        "text/html": "<table><tr><th>plate_num</th><th>in_time</th><th>out_time</th></tr><tr><td>กก 1234</td><td>2019-10-20 11:00:00.000</td><td>2019-10-20 13:00:00.000</td></tr><tr><td>กข 1234</td><td>2019-10-20 11:00:00.000</td><td>2019-10-20 11:10:00.000</td></tr><tr><td>ขข 4711</td><td>2019-10-20 11:50:00.000</td><td>2019-10-20 13:00:00.000</td></tr><tr><td>นน 21</td><td>2019-10-20 13:50:00.000</td><td>2019-10-20 14:25:00.000</td></tr><tr><td>พอ 9999</td><td>2019-10-20 13:50:00.000</td><td>2019-10-20 15:10:00.000</td></tr><tr><td>ออ 1122</td><td>2019-10-20 13:50:00.000</td><td>2019-10-23 15:10:00.000</td></tr><tr><td>?? 7777</td><td>2019-10-20 11:00:00.000</td><td>2019-10-20 13:00:00.000</td></tr></table>"
                    },
                    "metadata": {}
                }
            ],
            "execution_count": 18
        },
        {
            "cell_type": "code",
            "source": [
                "insert into car_park values (N'มม 8888', '2019-10-20 11:00', '2019-10-20 13:00')"
            ],
            "metadata": {
                "azdata_cell_guid": "1a0fe9f7-f75d-49ef-af81-2e74c7d303b3"
            },
            "outputs": [
                {
                    "output_type": "display_data",
                    "data": {
                        "text/html": "(1 row affected)"
                    },
                    "metadata": {}
                },
                {
                    "output_type": "display_data",
                    "data": {
                        "text/html": "Total execution time: 00:00:00.059"
                    },
                    "metadata": {}
                }
            ],
            "execution_count": 19
        },
        {
            "cell_type": "code",
            "source": [
                "select * from car_park"
            ],
            "metadata": {
                "azdata_cell_guid": "20359abe-9e59-478d-933e-32aa0f30d460"
            },
            "outputs": [
                {
                    "output_type": "display_data",
                    "data": {
                        "text/html": "(8 rows affected)"
                    },
                    "metadata": {}
                },
                {
                    "output_type": "display_data",
                    "data": {
                        "text/html": "Total execution time: 00:00:00.052"
                    },
                    "metadata": {}
                },
                {
                    "output_type": "execute_result",
                    "execution_count": 20,
                    "data": {
                        "application/vnd.dataresource+json": {
                            "schema": {
                                "fields": [
                                    {
                                        "name": "plate_num"
                                    },
                                    {
                                        "name": "in_time"
                                    },
                                    {
                                        "name": "out_time"
                                    }
                                ]
                            },
                            "data": [
                                {
                                    "0": "กก 1234",
                                    "1": "2019-10-20 11:00:00.000",
                                    "2": "2019-10-20 13:00:00.000"
                                },
                                {
                                    "0": "กข 1234",
                                    "1": "2019-10-20 11:00:00.000",
                                    "2": "2019-10-20 11:10:00.000"
                                },
                                {
                                    "0": "ขข 4711",
                                    "1": "2019-10-20 11:50:00.000",
                                    "2": "2019-10-20 13:00:00.000"
                                },
                                {
                                    "0": "นน 21",
                                    "1": "2019-10-20 13:50:00.000",
                                    "2": "2019-10-20 14:25:00.000"
                                },
                                {
                                    "0": "พอ 9999",
                                    "1": "2019-10-20 13:50:00.000",
                                    "2": "2019-10-20 15:10:00.000"
                                },
                                {
                                    "0": "ออ 1122",
                                    "1": "2019-10-20 13:50:00.000",
                                    "2": "2019-10-23 15:10:00.000"
                                },
                                {
                                    "0": "?? 7777",
                                    "1": "2019-10-20 11:00:00.000",
                                    "2": "2019-10-20 13:00:00.000"
                                },
                                {
                                    "0": "มม 8888",
                                    "1": "2019-10-20 11:00:00.000",
                                    "2": "2019-10-20 13:00:00.000"
                                }
                            ]
                        },
                        "text/html": "<table><tr><th>plate_num</th><th>in_time</th><th>out_time</th></tr><tr><td>กก 1234</td><td>2019-10-20 11:00:00.000</td><td>2019-10-20 13:00:00.000</td></tr><tr><td>กข 1234</td><td>2019-10-20 11:00:00.000</td><td>2019-10-20 11:10:00.000</td></tr><tr><td>ขข 4711</td><td>2019-10-20 11:50:00.000</td><td>2019-10-20 13:00:00.000</td></tr><tr><td>นน 21</td><td>2019-10-20 13:50:00.000</td><td>2019-10-20 14:25:00.000</td></tr><tr><td>พอ 9999</td><td>2019-10-20 13:50:00.000</td><td>2019-10-20 15:10:00.000</td></tr><tr><td>ออ 1122</td><td>2019-10-20 13:50:00.000</td><td>2019-10-23 15:10:00.000</td></tr><tr><td>?? 7777</td><td>2019-10-20 11:00:00.000</td><td>2019-10-20 13:00:00.000</td></tr><tr><td>มม 8888</td><td>2019-10-20 11:00:00.000</td><td>2019-10-20 13:00:00.000</td></tr></table>"
                    },
                    "metadata": {}
                }
            ],
            "execution_count": 20
        },
        {
            "cell_type": "markdown",
            "source": [
                "## คำนวณค่าจอดรถ\n",
                "* อัตราค่าจอดรถชั่วโมงละ 10 บาท\n",
                "* เศษของนาทีที่เกิน 15 นาทีจะคิดเป็น 1 ชั่วโมง"
            ],
            "metadata": {
                "azdata_cell_guid": "7aa27155-9773-4c36-a288-16796be3bd75"
            }
        },
        {
            "cell_type": "code",
            "source": [
                "-- 10 baht/hour\n",
                "select plate_num,\n",
                "    in_time, out_time,\n",
                "    datediff(minute, in_time, out_time),\n",
                "    datediff(minute, in_time, out_time) / 60 hours,\n",
                "    datediff(minute, in_time, out_time) % 60 mins,\n",
                "    iif(datediff(minute, in_time, out_time) % 60 > 15, 10, 0) [iif],\n",
                "    datediff(minute, in_time, out_time) / 60 * 10 + iif(datediff(minute, in_time, out_time) % 60 > 15, 10, 0) fee\n",
                "    from car_park"
            ],
            "metadata": {
                "azdata_cell_guid": "1e48a2e2-6169-4e1b-b119-836156a6486e"
            },
            "outputs": [
                {
                    "output_type": "display_data",
                    "data": {
                        "text/html": "(8 rows affected)"
                    },
                    "metadata": {}
                },
                {
                    "output_type": "display_data",
                    "data": {
                        "text/html": "Total execution time: 00:00:00.059"
                    },
                    "metadata": {}
                },
                {
                    "output_type": "execute_result",
                    "execution_count": 21,
                    "data": {
                        "application/vnd.dataresource+json": {
                            "schema": {
                                "fields": [
                                    {
                                        "name": "plate_num"
                                    },
                                    {
                                        "name": "in_time"
                                    },
                                    {
                                        "name": "out_time"
                                    },
                                    {
                                        "name": "(No column name)"
                                    },
                                    {
                                        "name": "hours"
                                    },
                                    {
                                        "name": "mins"
                                    },
                                    {
                                        "name": "iif"
                                    },
                                    {
                                        "name": "fee"
                                    }
                                ]
                            },
                            "data": [
                                {
                                    "0": "กก 1234",
                                    "1": "2019-10-20 11:00:00.000",
                                    "2": "2019-10-20 13:00:00.000",
                                    "3": "120",
                                    "4": "2",
                                    "5": "0",
                                    "6": "0",
                                    "7": "20"
                                },
                                {
                                    "0": "กข 1234",
                                    "1": "2019-10-20 11:00:00.000",
                                    "2": "2019-10-20 11:10:00.000",
                                    "3": "10",
                                    "4": "0",
                                    "5": "10",
                                    "6": "0",
                                    "7": "0"
                                },
                                {
                                    "0": "ขข 4711",
                                    "1": "2019-10-20 11:50:00.000",
                                    "2": "2019-10-20 13:00:00.000",
                                    "3": "70",
                                    "4": "1",
                                    "5": "10",
                                    "6": "0",
                                    "7": "10"
                                },
                                {
                                    "0": "นน 21",
                                    "1": "2019-10-20 13:50:00.000",
                                    "2": "2019-10-20 14:25:00.000",
                                    "3": "35",
                                    "4": "0",
                                    "5": "35",
                                    "6": "10",
                                    "7": "10"
                                },
                                {
                                    "0": "พอ 9999",
                                    "1": "2019-10-20 13:50:00.000",
                                    "2": "2019-10-20 15:10:00.000",
                                    "3": "80",
                                    "4": "1",
                                    "5": "20",
                                    "6": "10",
                                    "7": "20"
                                },
                                {
                                    "0": "ออ 1122",
                                    "1": "2019-10-20 13:50:00.000",
                                    "2": "2019-10-23 15:10:00.000",
                                    "3": "4400",
                                    "4": "73",
                                    "5": "20",
                                    "6": "10",
                                    "7": "740"
                                },
                                {
                                    "0": "?? 7777",
                                    "1": "2019-10-20 11:00:00.000",
                                    "2": "2019-10-20 13:00:00.000",
                                    "3": "120",
                                    "4": "2",
                                    "5": "0",
                                    "6": "0",
                                    "7": "20"
                                },
                                {
                                    "0": "มม 8888",
                                    "1": "2019-10-20 11:00:00.000",
                                    "2": "2019-10-20 13:00:00.000",
                                    "3": "120",
                                    "4": "2",
                                    "5": "0",
                                    "6": "0",
                                    "7": "20"
                                }
                            ]
                        },
                        "text/html": "<table><tr><th>plate_num</th><th>in_time</th><th>out_time</th><th>(No column name)</th><th>hours</th><th>mins</th><th>iif</th><th>fee</th></tr><tr><td>กก 1234</td><td>2019-10-20 11:00:00.000</td><td>2019-10-20 13:00:00.000</td><td>120</td><td>2</td><td>0</td><td>0</td><td>20</td></tr><tr><td>กข 1234</td><td>2019-10-20 11:00:00.000</td><td>2019-10-20 11:10:00.000</td><td>10</td><td>0</td><td>10</td><td>0</td><td>0</td></tr><tr><td>ขข 4711</td><td>2019-10-20 11:50:00.000</td><td>2019-10-20 13:00:00.000</td><td>70</td><td>1</td><td>10</td><td>0</td><td>10</td></tr><tr><td>นน 21</td><td>2019-10-20 13:50:00.000</td><td>2019-10-20 14:25:00.000</td><td>35</td><td>0</td><td>35</td><td>10</td><td>10</td></tr><tr><td>พอ 9999</td><td>2019-10-20 13:50:00.000</td><td>2019-10-20 15:10:00.000</td><td>80</td><td>1</td><td>20</td><td>10</td><td>20</td></tr><tr><td>ออ 1122</td><td>2019-10-20 13:50:00.000</td><td>2019-10-23 15:10:00.000</td><td>4400</td><td>73</td><td>20</td><td>10</td><td>740</td></tr><tr><td>?? 7777</td><td>2019-10-20 11:00:00.000</td><td>2019-10-20 13:00:00.000</td><td>120</td><td>2</td><td>0</td><td>0</td><td>20</td></tr><tr><td>มม 8888</td><td>2019-10-20 11:00:00.000</td><td>2019-10-20 13:00:00.000</td><td>120</td><td>2</td><td>0</td><td>0</td><td>20</td></tr></table>"
                    },
                    "metadata": {}
                }
            ],
            "execution_count": 21
        },
        {
            "cell_type": "markdown",
            "source": [
                "## การสร้างตัวแปรด้วย declare @varname datatype = value"
            ],
            "metadata": {
                "azdata_cell_guid": "b55074fb-f89f-460c-a2e1-5efb448bbb40"
            }
        },
        {
            "cell_type": "code",
            "source": [
                "-- 10 baht/hour\n",
                "declare @rate int = 10\n",
                "\n",
                "select plate_num,\n",
                "    in_time, out_time,\n",
                "    format(out_time, 'yy-MM-dd hh:mm tt') out_time_am_pm,\n",
                "    format(out_time, 'yy-MM-dd HH:mm') out_time24,\n",
                "    datediff(minute, in_time, out_time) total_minutes,\n",
                "    datediff(minute, in_time, out_time) / 60 hours,\n",
                "    datediff(minute, in_time, out_time) % 60 mins,\n",
                "    iif(datediff(minute, in_time, out_time) % 60 > 15, @rate, 0) [iif],\n",
                "    datediff(minute, in_time, out_time) / 60 * @rate + iif(datediff(minute, in_time, out_time) % 60 > 15, @rate, 0) fee\n",
                "    from car_park"
            ],
            "metadata": {
                "azdata_cell_guid": "0338fe46-db16-41a8-893b-1b754811ce36"
            },
            "outputs": [
                {
                    "output_type": "display_data",
                    "data": {
                        "text/html": "(8 rows affected)"
                    },
                    "metadata": {}
                },
                {
                    "output_type": "display_data",
                    "data": {
                        "text/html": "Total execution time: 00:00:00.061"
                    },
                    "metadata": {}
                },
                {
                    "output_type": "execute_result",
                    "execution_count": 22,
                    "data": {
                        "application/vnd.dataresource+json": {
                            "schema": {
                                "fields": [
                                    {
                                        "name": "plate_num"
                                    },
                                    {
                                        "name": "in_time"
                                    },
                                    {
                                        "name": "out_time"
                                    },
                                    {
                                        "name": "out_time_am_pm"
                                    },
                                    {
                                        "name": "out_time24"
                                    },
                                    {
                                        "name": "total_minutes"
                                    },
                                    {
                                        "name": "hours"
                                    },
                                    {
                                        "name": "mins"
                                    },
                                    {
                                        "name": "iif"
                                    },
                                    {
                                        "name": "fee"
                                    }
                                ]
                            },
                            "data": [
                                {
                                    "0": "กก 1234",
                                    "1": "2019-10-20 11:00:00.000",
                                    "2": "2019-10-20 13:00:00.000",
                                    "3": "19-10-20 01:00 PM",
                                    "4": "19-10-20 13:00",
                                    "5": "120",
                                    "6": "2",
                                    "7": "0",
                                    "8": "0",
                                    "9": "20"
                                },
                                {
                                    "0": "กข 1234",
                                    "1": "2019-10-20 11:00:00.000",
                                    "2": "2019-10-20 11:10:00.000",
                                    "3": "19-10-20 11:10 AM",
                                    "4": "19-10-20 11:10",
                                    "5": "10",
                                    "6": "0",
                                    "7": "10",
                                    "8": "0",
                                    "9": "0"
                                },
                                {
                                    "0": "ขข 4711",
                                    "1": "2019-10-20 11:50:00.000",
                                    "2": "2019-10-20 13:00:00.000",
                                    "3": "19-10-20 01:00 PM",
                                    "4": "19-10-20 13:00",
                                    "5": "70",
                                    "6": "1",
                                    "7": "10",
                                    "8": "0",
                                    "9": "10"
                                },
                                {
                                    "0": "นน 21",
                                    "1": "2019-10-20 13:50:00.000",
                                    "2": "2019-10-20 14:25:00.000",
                                    "3": "19-10-20 02:25 PM",
                                    "4": "19-10-20 14:25",
                                    "5": "35",
                                    "6": "0",
                                    "7": "35",
                                    "8": "10",
                                    "9": "10"
                                },
                                {
                                    "0": "พอ 9999",
                                    "1": "2019-10-20 13:50:00.000",
                                    "2": "2019-10-20 15:10:00.000",
                                    "3": "19-10-20 03:10 PM",
                                    "4": "19-10-20 15:10",
                                    "5": "80",
                                    "6": "1",
                                    "7": "20",
                                    "8": "10",
                                    "9": "20"
                                },
                                {
                                    "0": "ออ 1122",
                                    "1": "2019-10-20 13:50:00.000",
                                    "2": "2019-10-23 15:10:00.000",
                                    "3": "19-10-23 03:10 PM",
                                    "4": "19-10-23 15:10",
                                    "5": "4400",
                                    "6": "73",
                                    "7": "20",
                                    "8": "10",
                                    "9": "740"
                                },
                                {
                                    "0": "?? 7777",
                                    "1": "2019-10-20 11:00:00.000",
                                    "2": "2019-10-20 13:00:00.000",
                                    "3": "19-10-20 01:00 PM",
                                    "4": "19-10-20 13:00",
                                    "5": "120",
                                    "6": "2",
                                    "7": "0",
                                    "8": "0",
                                    "9": "20"
                                },
                                {
                                    "0": "มม 8888",
                                    "1": "2019-10-20 11:00:00.000",
                                    "2": "2019-10-20 13:00:00.000",
                                    "3": "19-10-20 01:00 PM",
                                    "4": "19-10-20 13:00",
                                    "5": "120",
                                    "6": "2",
                                    "7": "0",
                                    "8": "0",
                                    "9": "20"
                                }
                            ]
                        },
                        "text/html": "<table><tr><th>plate_num</th><th>in_time</th><th>out_time</th><th>out_time_am_pm</th><th>out_time24</th><th>total_minutes</th><th>hours</th><th>mins</th><th>iif</th><th>fee</th></tr><tr><td>กก 1234</td><td>2019-10-20 11:00:00.000</td><td>2019-10-20 13:00:00.000</td><td>19-10-20 01:00 PM</td><td>19-10-20 13:00</td><td>120</td><td>2</td><td>0</td><td>0</td><td>20</td></tr><tr><td>กข 1234</td><td>2019-10-20 11:00:00.000</td><td>2019-10-20 11:10:00.000</td><td>19-10-20 11:10 AM</td><td>19-10-20 11:10</td><td>10</td><td>0</td><td>10</td><td>0</td><td>0</td></tr><tr><td>ขข 4711</td><td>2019-10-20 11:50:00.000</td><td>2019-10-20 13:00:00.000</td><td>19-10-20 01:00 PM</td><td>19-10-20 13:00</td><td>70</td><td>1</td><td>10</td><td>0</td><td>10</td></tr><tr><td>นน 21</td><td>2019-10-20 13:50:00.000</td><td>2019-10-20 14:25:00.000</td><td>19-10-20 02:25 PM</td><td>19-10-20 14:25</td><td>35</td><td>0</td><td>35</td><td>10</td><td>10</td></tr><tr><td>พอ 9999</td><td>2019-10-20 13:50:00.000</td><td>2019-10-20 15:10:00.000</td><td>19-10-20 03:10 PM</td><td>19-10-20 15:10</td><td>80</td><td>1</td><td>20</td><td>10</td><td>20</td></tr><tr><td>ออ 1122</td><td>2019-10-20 13:50:00.000</td><td>2019-10-23 15:10:00.000</td><td>19-10-23 03:10 PM</td><td>19-10-23 15:10</td><td>4400</td><td>73</td><td>20</td><td>10</td><td>740</td></tr><tr><td>?? 7777</td><td>2019-10-20 11:00:00.000</td><td>2019-10-20 13:00:00.000</td><td>19-10-20 01:00 PM</td><td>19-10-20 13:00</td><td>120</td><td>2</td><td>0</td><td>0</td><td>20</td></tr><tr><td>มม 8888</td><td>2019-10-20 11:00:00.000</td><td>2019-10-20 13:00:00.000</td><td>19-10-20 01:00 PM</td><td>19-10-20 13:00</td><td>120</td><td>2</td><td>0</td><td>0</td><td>20</td></tr></table>"
                    },
                    "metadata": {}
                }
            ],
            "execution_count": 22
        }
    ]
}