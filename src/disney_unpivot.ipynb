{
    "metadata": {
        "kernelspec": {
            "name": "SQL",
            "display_name": "SQL",
            "language": "sql"
        },
        "language_info": {
            "name": "sql",
            "version": ""
        }
    },
    "nbformat_minor": 2,
    "nbformat": 4,
    "cells": [
        {
            "cell_type": "markdown",
            "source": [
                "# UNPIVOT (convert wide format to long format)\n",
                "## Server: Microsoft SQL Server\n",
                "## Database: disney\n",
                "## Author: Prasert Kanawatanachai\n",
                "## YouTube: https://youtu.be/fKwLWZQKH50"
            ],
            "metadata": {}
        },
        {
            "cell_type": "markdown",
            "source": "# wide format",
            "metadata": {}
        },
        {
            "cell_type": "code",
            "source": "select * from revenue where year > 2010",
            "metadata": {},
            "outputs": [
                {
                    "output_type": "display_data",
                    "data": {
                        "text/html": "(6 rows affected)"
                    },
                    "metadata": {}
                },
                {
                    "output_type": "display_data",
                    "data": {
                        "text/html": "Total execution time: 00:00:00.057"
                    },
                    "metadata": {}
                },
                {
                    "output_type": "execute_result",
                    "execution_count": 25,
                    "data": {
                        "application/vnd.dataresource+json": {
                            "schema": {
                                "fields": [
                                    {
                                        "name": "year"
                                    },
                                    {
                                        "name": "studio_entertainment"
                                    },
                                    {
                                        "name": "disney_consumer_products"
                                    },
                                    {
                                        "name": "disney_interactive"
                                    },
                                    {
                                        "name": "walt_disney_parks_and_resorts"
                                    },
                                    {
                                        "name": "disney_media_networks"
                                    },
                                    {
                                        "name": "total"
                                    }
                                ]
                            },
                            "data": [
                                {
                                    "0": "2011",
                                    "1": "6351",
                                    "2": "3049",
                                    "3": "982",
                                    "4": "11797",
                                    "5": "18714",
                                    "6": "40893"
                                },
                                {
                                    "0": "2012",
                                    "1": "5825",
                                    "2": "3252",
                                    "3": "845",
                                    "4": "12920",
                                    "5": "19436",
                                    "6": "42278"
                                },
                                {
                                    "0": "2013",
                                    "1": "5979",
                                    "2": "3555",
                                    "3": "1064",
                                    "4": "14087",
                                    "5": "20356",
                                    "6": "45041"
                                },
                                {
                                    "0": "2014",
                                    "1": "7278",
                                    "2": "3985",
                                    "3": "1299",
                                    "4": "15099",
                                    "5": "21152",
                                    "6": "48813"
                                },
                                {
                                    "0": "2015",
                                    "1": "7366",
                                    "2": "4499",
                                    "3": "1174",
                                    "4": "16162",
                                    "5": "23264",
                                    "6": "52465"
                                },
                                {
                                    "0": "2016",
                                    "1": "9441",
                                    "2": "NULL",
                                    "3": "NULL",
                                    "4": "16974",
                                    "5": "23689",
                                    "6": "55632"
                                }
                            ]
                        },
                        "text/html": "<table><tr><th>year</th><th>studio_entertainment</th><th>disney_consumer_products</th><th>disney_interactive</th><th>walt_disney_parks_and_resorts</th><th>disney_media_networks</th><th>total</th></tr><tr><td>2011</td><td>6351</td><td>3049</td><td>982</td><td>11797</td><td>18714</td><td>40893</td></tr><tr><td>2012</td><td>5825</td><td>3252</td><td>845</td><td>12920</td><td>19436</td><td>42278</td></tr><tr><td>2013</td><td>5979</td><td>3555</td><td>1064</td><td>14087</td><td>20356</td><td>45041</td></tr><tr><td>2014</td><td>7278</td><td>3985</td><td>1299</td><td>15099</td><td>21152</td><td>48813</td></tr><tr><td>2015</td><td>7366</td><td>4499</td><td>1174</td><td>16162</td><td>23264</td><td>52465</td></tr><tr><td>2016</td><td>9441</td><td>NULL</td><td>NULL</td><td>16974</td><td>23689</td><td>55632</td></tr></table>"
                    },
                    "metadata": {}
                }
            ],
            "execution_count": 25
        },
        {
            "cell_type": "markdown",
            "source": "# long format",
            "metadata": {}
        },
        {
            "cell_type": "code",
            "source": [
                "select year, cat, rev_m_usd\n",
                "    from revenue\n",
                "        unpivot (\n",
                "            rev_m_usd for cat in (\n",
                "                studio_entertainment, disney_consumer_products, disney_interactive, \n",
                "                walt_disney_parks_and_resorts, disney_media_networks\n",
                "            )\n",
                "        ) u\n",
                "    where year > 2010"
            ],
            "metadata": {},
            "outputs": [
                {
                    "output_type": "display_data",
                    "data": {
                        "text/html": "(28 rows affected)"
                    },
                    "metadata": {}
                },
                {
                    "output_type": "display_data",
                    "data": {
                        "text/html": "Total execution time: 00:00:00.071"
                    },
                    "metadata": {}
                },
                {
                    "output_type": "execute_result",
                    "execution_count": 26,
                    "data": {
                        "application/vnd.dataresource+json": {
                            "schema": {
                                "fields": [
                                    {
                                        "name": "year"
                                    },
                                    {
                                        "name": "cat"
                                    },
                                    {
                                        "name": "rev_m_usd"
                                    }
                                ]
                            },
                            "data": [
                                {
                                    "0": "2011",
                                    "1": "studio_entertainment",
                                    "2": "6351"
                                },
                                {
                                    "0": "2011",
                                    "1": "disney_consumer_products",
                                    "2": "3049"
                                },
                                {
                                    "0": "2011",
                                    "1": "disney_interactive",
                                    "2": "982"
                                },
                                {
                                    "0": "2011",
                                    "1": "walt_disney_parks_and_resorts",
                                    "2": "11797"
                                },
                                {
                                    "0": "2011",
                                    "1": "disney_media_networks",
                                    "2": "18714"
                                },
                                {
                                    "0": "2012",
                                    "1": "studio_entertainment",
                                    "2": "5825"
                                },
                                {
                                    "0": "2012",
                                    "1": "disney_consumer_products",
                                    "2": "3252"
                                },
                                {
                                    "0": "2012",
                                    "1": "disney_interactive",
                                    "2": "845"
                                },
                                {
                                    "0": "2012",
                                    "1": "walt_disney_parks_and_resorts",
                                    "2": "12920"
                                },
                                {
                                    "0": "2012",
                                    "1": "disney_media_networks",
                                    "2": "19436"
                                },
                                {
                                    "0": "2013",
                                    "1": "studio_entertainment",
                                    "2": "5979"
                                },
                                {
                                    "0": "2013",
                                    "1": "disney_consumer_products",
                                    "2": "3555"
                                },
                                {
                                    "0": "2013",
                                    "1": "disney_interactive",
                                    "2": "1064"
                                },
                                {
                                    "0": "2013",
                                    "1": "walt_disney_parks_and_resorts",
                                    "2": "14087"
                                },
                                {
                                    "0": "2013",
                                    "1": "disney_media_networks",
                                    "2": "20356"
                                },
                                {
                                    "0": "2014",
                                    "1": "studio_entertainment",
                                    "2": "7278"
                                },
                                {
                                    "0": "2014",
                                    "1": "disney_consumer_products",
                                    "2": "3985"
                                },
                                {
                                    "0": "2014",
                                    "1": "disney_interactive",
                                    "2": "1299"
                                },
                                {
                                    "0": "2014",
                                    "1": "walt_disney_parks_and_resorts",
                                    "2": "15099"
                                },
                                {
                                    "0": "2014",
                                    "1": "disney_media_networks",
                                    "2": "21152"
                                },
                                {
                                    "0": "2015",
                                    "1": "studio_entertainment",
                                    "2": "7366"
                                },
                                {
                                    "0": "2015",
                                    "1": "disney_consumer_products",
                                    "2": "4499"
                                },
                                {
                                    "0": "2015",
                                    "1": "disney_interactive",
                                    "2": "1174"
                                },
                                {
                                    "0": "2015",
                                    "1": "walt_disney_parks_and_resorts",
                                    "2": "16162"
                                },
                                {
                                    "0": "2015",
                                    "1": "disney_media_networks",
                                    "2": "23264"
                                },
                                {
                                    "0": "2016",
                                    "1": "studio_entertainment",
                                    "2": "9441"
                                },
                                {
                                    "0": "2016",
                                    "1": "walt_disney_parks_and_resorts",
                                    "2": "16974"
                                },
                                {
                                    "0": "2016",
                                    "1": "disney_media_networks",
                                    "2": "23689"
                                }
                            ]
                        },
                        "text/html": "<table><tr><th>year</th><th>cat</th><th>rev_m_usd</th></tr><tr><td>2011</td><td>studio_entertainment</td><td>6351</td></tr><tr><td>2011</td><td>disney_consumer_products</td><td>3049</td></tr><tr><td>2011</td><td>disney_interactive</td><td>982</td></tr><tr><td>2011</td><td>walt_disney_parks_and_resorts</td><td>11797</td></tr><tr><td>2011</td><td>disney_media_networks</td><td>18714</td></tr><tr><td>2012</td><td>studio_entertainment</td><td>5825</td></tr><tr><td>2012</td><td>disney_consumer_products</td><td>3252</td></tr><tr><td>2012</td><td>disney_interactive</td><td>845</td></tr><tr><td>2012</td><td>walt_disney_parks_and_resorts</td><td>12920</td></tr><tr><td>2012</td><td>disney_media_networks</td><td>19436</td></tr><tr><td>2013</td><td>studio_entertainment</td><td>5979</td></tr><tr><td>2013</td><td>disney_consumer_products</td><td>3555</td></tr><tr><td>2013</td><td>disney_interactive</td><td>1064</td></tr><tr><td>2013</td><td>walt_disney_parks_and_resorts</td><td>14087</td></tr><tr><td>2013</td><td>disney_media_networks</td><td>20356</td></tr><tr><td>2014</td><td>studio_entertainment</td><td>7278</td></tr><tr><td>2014</td><td>disney_consumer_products</td><td>3985</td></tr><tr><td>2014</td><td>disney_interactive</td><td>1299</td></tr><tr><td>2014</td><td>walt_disney_parks_and_resorts</td><td>15099</td></tr><tr><td>2014</td><td>disney_media_networks</td><td>21152</td></tr><tr><td>2015</td><td>studio_entertainment</td><td>7366</td></tr><tr><td>2015</td><td>disney_consumer_products</td><td>4499</td></tr><tr><td>2015</td><td>disney_interactive</td><td>1174</td></tr><tr><td>2015</td><td>walt_disney_parks_and_resorts</td><td>16162</td></tr><tr><td>2015</td><td>disney_media_networks</td><td>23264</td></tr><tr><td>2016</td><td>studio_entertainment</td><td>9441</td></tr><tr><td>2016</td><td>walt_disney_parks_and_resorts</td><td>16974</td></tr><tr><td>2016</td><td>disney_media_networks</td><td>23689</td></tr></table>"
                    },
                    "metadata": {}
                }
            ],
            "execution_count": 26
        },
        {
            "cell_type": "code",
            "source": "drop view if exists vw_revenue;",
            "metadata": {},
            "outputs": [
                {
                    "output_type": "display_data",
                    "data": {
                        "text/html": "Commands completed successfully."
                    },
                    "metadata": {}
                },
                {
                    "output_type": "display_data",
                    "data": {
                        "text/html": "Total execution time: 00:00:00.060"
                    },
                    "metadata": {}
                }
            ],
            "execution_count": 27
        },
        {
            "cell_type": "code",
            "source": [
                "create view vw_revenue as \n",
                "    select year, cat, rev_m_usd\n",
                "        from revenue\n",
                "            unpivot (\n",
                "                rev_m_usd for cat in (\n",
                "                    studio_entertainment, disney_consumer_products, disney_interactive, \n",
                "                    walt_disney_parks_and_resorts, disney_media_networks\n",
                "                )\n",
                "            ) u"
            ],
            "metadata": {},
            "outputs": [
                {
                    "output_type": "display_data",
                    "data": {
                        "text/html": "Commands completed successfully."
                    },
                    "metadata": {}
                },
                {
                    "output_type": "display_data",
                    "data": {
                        "text/html": "Total execution time: 00:00:00.064"
                    },
                    "metadata": {}
                }
            ],
            "execution_count": 28
        },
        {
            "cell_type": "code",
            "source": "select * from vw_revenue",
            "metadata": {},
            "outputs": [
                {
                    "output_type": "display_data",
                    "data": {
                        "text/html": "(110 rows affected)"
                    },
                    "metadata": {}
                },
                {
                    "output_type": "display_data",
                    "data": {
                        "text/html": "Total execution time: 00:00:00.064"
                    },
                    "metadata": {}
                },
                {
                    "output_type": "execute_result",
                    "execution_count": 29,
                    "data": {
                        "application/vnd.dataresource+json": {
                            "schema": {
                                "fields": [
                                    {
                                        "name": "year"
                                    },
                                    {
                                        "name": "cat"
                                    },
                                    {
                                        "name": "rev_m_usd"
                                    }
                                ]
                            },
                            "data": [
                                {
                                    "0": "1991",
                                    "1": "studio_entertainment",
                                    "2": "2593"
                                },
                                {
                                    "0": "1991",
                                    "1": "disney_consumer_products",
                                    "2": "724"
                                },
                                {
                                    "0": "1991",
                                    "1": "walt_disney_parks_and_resorts",
                                    "2": "2794"
                                },
                                {
                                    "0": "1992",
                                    "1": "studio_entertainment",
                                    "2": "3115"
                                },
                                {
                                    "0": "1992",
                                    "1": "disney_consumer_products",
                                    "2": "1081"
                                },
                                {
                                    "0": "1992",
                                    "1": "walt_disney_parks_and_resorts",
                                    "2": "3306"
                                },
                                {
                                    "0": "1993",
                                    "1": "studio_entertainment",
                                    "2": "3673.4"
                                },
                                {
                                    "0": "1993",
                                    "1": "disney_consumer_products",
                                    "2": "1415.1"
                                },
                                {
                                    "0": "1993",
                                    "1": "walt_disney_parks_and_resorts",
                                    "2": "3440.7"
                                },
                                {
                                    "0": "1994",
                                    "1": "studio_entertainment",
                                    "2": "4793"
                                },
                                {
                                    "0": "1994",
                                    "1": "disney_consumer_products",
                                    "2": "1798.2"
                                },
                                {
                                    "0": "1994",
                                    "1": "walt_disney_parks_and_resorts",
                                    "2": "3463.6"
                                },
                                {
                                    "0": "1994",
                                    "1": "disney_media_networks",
                                    "2": "359"
                                },
                                {
                                    "0": "1995",
                                    "1": "studio_entertainment",
                                    "2": "6001.5"
                                },
                                {
                                    "0": "1995",
                                    "1": "disney_consumer_products",
                                    "2": "2150"
                                },
                                {
                                    "0": "1995",
                                    "1": "walt_disney_parks_and_resorts",
                                    "2": "3959.8"
                                },
                                {
                                    "0": "1995",
                                    "1": "disney_media_networks",
                                    "2": "414"
                                },
                                {
                                    "0": "1996",
                                    "1": "walt_disney_parks_and_resorts",
                                    "2": "4502"
                                },
                                {
                                    "0": "1996",
                                    "1": "disney_media_networks",
                                    "2": "4142"
                                },
                                {
                                    "0": "1997",
                                    "1": "studio_entertainment",
                                    "2": "6981"
                                },
                                {
                                    "0": "1997",
                                    "1": "disney_consumer_products",
                                    "2": "3782"
                                },
                                {
                                    "0": "1997",
                                    "1": "disney_interactive",
                                    "2": "174"
                                },
                                {
                                    "0": "1997",
                                    "1": "walt_disney_parks_and_resorts",
                                    "2": "5014"
                                },
                                {
                                    "0": "1997",
                                    "1": "disney_media_networks",
                                    "2": "6522"
                                },
                                {
                                    "0": "1998",
                                    "1": "studio_entertainment",
                                    "2": "6849"
                                },
                                {
                                    "0": "1998",
                                    "1": "disney_consumer_products",
                                    "2": "3193"
                                },
                                {
                                    "0": "1998",
                                    "1": "disney_interactive",
                                    "2": "260"
                                },
                                {
                                    "0": "1998",
                                    "1": "walt_disney_parks_and_resorts",
                                    "2": "5532"
                                },
                                {
                                    "0": "1998",
                                    "1": "disney_media_networks",
                                    "2": "7142"
                                },
                                {
                                    "0": "1999",
                                    "1": "studio_entertainment",
                                    "2": "6548"
                                },
                                {
                                    "0": "1999",
                                    "1": "disney_consumer_products",
                                    "2": "3030"
                                },
                                {
                                    "0": "1999",
                                    "1": "disney_interactive",
                                    "2": "206"
                                },
                                {
                                    "0": "1999",
                                    "1": "walt_disney_parks_and_resorts",
                                    "2": "6106"
                                },
                                {
                                    "0": "1999",
                                    "1": "disney_media_networks",
                                    "2": "7512"
                                },
                                {
                                    "0": "2000",
                                    "1": "studio_entertainment",
                                    "2": "5994"
                                },
                                {
                                    "0": "2000",
                                    "1": "disney_consumer_products",
                                    "2": "2602"
                                },
                                {
                                    "0": "2000",
                                    "1": "disney_interactive",
                                    "2": "368"
                                },
                                {
                                    "0": "2000",
                                    "1": "walt_disney_parks_and_resorts",
                                    "2": "6803"
                                },
                                {
                                    "0": "2000",
                                    "1": "disney_media_networks",
                                    "2": "9615"
                                },
                                {
                                    "0": "2001",
                                    "1": "studio_entertainment",
                                    "2": "7004"
                                },
                                {
                                    "0": "2001",
                                    "1": "disney_consumer_products",
                                    "2": "2590"
                                },
                                {
                                    "0": "2001",
                                    "1": "walt_disney_parks_and_resorts",
                                    "2": "6009"
                                },
                                {
                                    "0": "2001",
                                    "1": "disney_media_networks",
                                    "2": "9569"
                                },
                                {
                                    "0": "2002",
                                    "1": "studio_entertainment",
                                    "2": "6465"
                                },
                                {
                                    "0": "2002",
                                    "1": "disney_consumer_products",
                                    "2": "2440"
                                },
                                {
                                    "0": "2002",
                                    "1": "walt_disney_parks_and_resorts",
                                    "2": "6691"
                                },
                                {
                                    "0": "2002",
                                    "1": "disney_media_networks",
                                    "2": "9733"
                                },
                                {
                                    "0": "2003",
                                    "1": "studio_entertainment",
                                    "2": "7364"
                                },
                                {
                                    "0": "2003",
                                    "1": "disney_consumer_products",
                                    "2": "2344"
                                },
                                {
                                    "0": "2003",
                                    "1": "walt_disney_parks_and_resorts",
                                    "2": "6412"
                                },
                                {
                                    "0": "2003",
                                    "1": "disney_media_networks",
                                    "2": "10941"
                                },
                                {
                                    "0": "2004",
                                    "1": "studio_entertainment",
                                    "2": "8713"
                                },
                                {
                                    "0": "2004",
                                    "1": "disney_consumer_products",
                                    "2": "2511"
                                },
                                {
                                    "0": "2004",
                                    "1": "walt_disney_parks_and_resorts",
                                    "2": "7750"
                                },
                                {
                                    "0": "2004",
                                    "1": "disney_media_networks",
                                    "2": "11778"
                                },
                                {
                                    "0": "2005",
                                    "1": "studio_entertainment",
                                    "2": "7587"
                                },
                                {
                                    "0": "2005",
                                    "1": "disney_consumer_products",
                                    "2": "2127"
                                },
                                {
                                    "0": "2005",
                                    "1": "walt_disney_parks_and_resorts",
                                    "2": "9023"
                                },
                                {
                                    "0": "2005",
                                    "1": "disney_media_networks",
                                    "2": "13207"
                                },
                                {
                                    "0": "2006",
                                    "1": "studio_entertainment",
                                    "2": "7529"
                                },
                                {
                                    "0": "2006",
                                    "1": "disney_consumer_products",
                                    "2": "2193"
                                },
                                {
                                    "0": "2006",
                                    "1": "walt_disney_parks_and_resorts",
                                    "2": "9925"
                                },
                                {
                                    "0": "2006",
                                    "1": "disney_media_networks",
                                    "2": "14368"
                                },
                                {
                                    "0": "2007",
                                    "1": "studio_entertainment",
                                    "2": "7491"
                                },
                                {
                                    "0": "2007",
                                    "1": "disney_consumer_products",
                                    "2": "2347"
                                },
                                {
                                    "0": "2007",
                                    "1": "walt_disney_parks_and_resorts",
                                    "2": "10626"
                                },
                                {
                                    "0": "2007",
                                    "1": "disney_media_networks",
                                    "2": "15046"
                                },
                                {
                                    "0": "2008",
                                    "1": "studio_entertainment",
                                    "2": "7348"
                                },
                                {
                                    "0": "2008",
                                    "1": "disney_consumer_products",
                                    "2": "2415"
                                },
                                {
                                    "0": "2008",
                                    "1": "disney_interactive",
                                    "2": "719"
                                },
                                {
                                    "0": "2008",
                                    "1": "walt_disney_parks_and_resorts",
                                    "2": "11504"
                                },
                                {
                                    "0": "2008",
                                    "1": "disney_media_networks",
                                    "2": "15857"
                                },
                                {
                                    "0": "2009",
                                    "1": "studio_entertainment",
                                    "2": "6136"
                                },
                                {
                                    "0": "2009",
                                    "1": "disney_consumer_products",
                                    "2": "2425"
                                },
                                {
                                    "0": "2009",
                                    "1": "disney_interactive",
                                    "2": "712"
                                },
                                {
                                    "0": "2009",
                                    "1": "walt_disney_parks_and_resorts",
                                    "2": "10667"
                                },
                                {
                                    "0": "2009",
                                    "1": "disney_media_networks",
                                    "2": "16209"
                                },
                                {
                                    "0": "2010",
                                    "1": "studio_entertainment",
                                    "2": "6701"
                                },
                                {
                                    "0": "2010",
                                    "1": "disney_consumer_products",
                                    "2": "2678"
                                },
                                {
                                    "0": "2010",
                                    "1": "disney_interactive",
                                    "2": "761"
                                },
                                {
                                    "0": "2010",
                                    "1": "walt_disney_parks_and_resorts",
                                    "2": "10761"
                                },
                                {
                                    "0": "2010",
                                    "1": "disney_media_networks",
                                    "2": "17162"
                                },
                                {
                                    "0": "2011",
                                    "1": "studio_entertainment",
                                    "2": "6351"
                                },
                                {
                                    "0": "2011",
                                    "1": "disney_consumer_products",
                                    "2": "3049"
                                },
                                {
                                    "0": "2011",
                                    "1": "disney_interactive",
                                    "2": "982"
                                },
                                {
                                    "0": "2011",
                                    "1": "walt_disney_parks_and_resorts",
                                    "2": "11797"
                                },
                                {
                                    "0": "2011",
                                    "1": "disney_media_networks",
                                    "2": "18714"
                                },
                                {
                                    "0": "2012",
                                    "1": "studio_entertainment",
                                    "2": "5825"
                                },
                                {
                                    "0": "2012",
                                    "1": "disney_consumer_products",
                                    "2": "3252"
                                },
                                {
                                    "0": "2012",
                                    "1": "disney_interactive",
                                    "2": "845"
                                },
                                {
                                    "0": "2012",
                                    "1": "walt_disney_parks_and_resorts",
                                    "2": "12920"
                                },
                                {
                                    "0": "2012",
                                    "1": "disney_media_networks",
                                    "2": "19436"
                                },
                                {
                                    "0": "2013",
                                    "1": "studio_entertainment",
                                    "2": "5979"
                                },
                                {
                                    "0": "2013",
                                    "1": "disney_consumer_products",
                                    "2": "3555"
                                },
                                {
                                    "0": "2013",
                                    "1": "disney_interactive",
                                    "2": "1064"
                                },
                                {
                                    "0": "2013",
                                    "1": "walt_disney_parks_and_resorts",
                                    "2": "14087"
                                },
                                {
                                    "0": "2013",
                                    "1": "disney_media_networks",
                                    "2": "20356"
                                },
                                {
                                    "0": "2014",
                                    "1": "studio_entertainment",
                                    "2": "7278"
                                },
                                {
                                    "0": "2014",
                                    "1": "disney_consumer_products",
                                    "2": "3985"
                                },
                                {
                                    "0": "2014",
                                    "1": "disney_interactive",
                                    "2": "1299"
                                },
                                {
                                    "0": "2014",
                                    "1": "walt_disney_parks_and_resorts",
                                    "2": "15099"
                                },
                                {
                                    "0": "2014",
                                    "1": "disney_media_networks",
                                    "2": "21152"
                                },
                                {
                                    "0": "2015",
                                    "1": "studio_entertainment",
                                    "2": "7366"
                                },
                                {
                                    "0": "2015",
                                    "1": "disney_consumer_products",
                                    "2": "4499"
                                },
                                {
                                    "0": "2015",
                                    "1": "disney_interactive",
                                    "2": "1174"
                                },
                                {
                                    "0": "2015",
                                    "1": "walt_disney_parks_and_resorts",
                                    "2": "16162"
                                },
                                {
                                    "0": "2015",
                                    "1": "disney_media_networks",
                                    "2": "23264"
                                },
                                {
                                    "0": "2016",
                                    "1": "studio_entertainment",
                                    "2": "9441"
                                },
                                {
                                    "0": "2016",
                                    "1": "walt_disney_parks_and_resorts",
                                    "2": "16974"
                                },
                                {
                                    "0": "2016",
                                    "1": "disney_media_networks",
                                    "2": "23689"
                                }
                            ]
                        },
                        "text/html": "<table><tr><th>year</th><th>cat</th><th>rev_m_usd</th></tr><tr><td>1991</td><td>studio_entertainment</td><td>2593</td></tr><tr><td>1991</td><td>disney_consumer_products</td><td>724</td></tr><tr><td>1991</td><td>walt_disney_parks_and_resorts</td><td>2794</td></tr><tr><td>1992</td><td>studio_entertainment</td><td>3115</td></tr><tr><td>1992</td><td>disney_consumer_products</td><td>1081</td></tr><tr><td>1992</td><td>walt_disney_parks_and_resorts</td><td>3306</td></tr><tr><td>1993</td><td>studio_entertainment</td><td>3673.4</td></tr><tr><td>1993</td><td>disney_consumer_products</td><td>1415.1</td></tr><tr><td>1993</td><td>walt_disney_parks_and_resorts</td><td>3440.7</td></tr><tr><td>1994</td><td>studio_entertainment</td><td>4793</td></tr><tr><td>1994</td><td>disney_consumer_products</td><td>1798.2</td></tr><tr><td>1994</td><td>walt_disney_parks_and_resorts</td><td>3463.6</td></tr><tr><td>1994</td><td>disney_media_networks</td><td>359</td></tr><tr><td>1995</td><td>studio_entertainment</td><td>6001.5</td></tr><tr><td>1995</td><td>disney_consumer_products</td><td>2150</td></tr><tr><td>1995</td><td>walt_disney_parks_and_resorts</td><td>3959.8</td></tr><tr><td>1995</td><td>disney_media_networks</td><td>414</td></tr><tr><td>1996</td><td>walt_disney_parks_and_resorts</td><td>4502</td></tr><tr><td>1996</td><td>disney_media_networks</td><td>4142</td></tr><tr><td>1997</td><td>studio_entertainment</td><td>6981</td></tr><tr><td>1997</td><td>disney_consumer_products</td><td>3782</td></tr><tr><td>1997</td><td>disney_interactive</td><td>174</td></tr><tr><td>1997</td><td>walt_disney_parks_and_resorts</td><td>5014</td></tr><tr><td>1997</td><td>disney_media_networks</td><td>6522</td></tr><tr><td>1998</td><td>studio_entertainment</td><td>6849</td></tr><tr><td>1998</td><td>disney_consumer_products</td><td>3193</td></tr><tr><td>1998</td><td>disney_interactive</td><td>260</td></tr><tr><td>1998</td><td>walt_disney_parks_and_resorts</td><td>5532</td></tr><tr><td>1998</td><td>disney_media_networks</td><td>7142</td></tr><tr><td>1999</td><td>studio_entertainment</td><td>6548</td></tr><tr><td>1999</td><td>disney_consumer_products</td><td>3030</td></tr><tr><td>1999</td><td>disney_interactive</td><td>206</td></tr><tr><td>1999</td><td>walt_disney_parks_and_resorts</td><td>6106</td></tr><tr><td>1999</td><td>disney_media_networks</td><td>7512</td></tr><tr><td>2000</td><td>studio_entertainment</td><td>5994</td></tr><tr><td>2000</td><td>disney_consumer_products</td><td>2602</td></tr><tr><td>2000</td><td>disney_interactive</td><td>368</td></tr><tr><td>2000</td><td>walt_disney_parks_and_resorts</td><td>6803</td></tr><tr><td>2000</td><td>disney_media_networks</td><td>9615</td></tr><tr><td>2001</td><td>studio_entertainment</td><td>7004</td></tr><tr><td>2001</td><td>disney_consumer_products</td><td>2590</td></tr><tr><td>2001</td><td>walt_disney_parks_and_resorts</td><td>6009</td></tr><tr><td>2001</td><td>disney_media_networks</td><td>9569</td></tr><tr><td>2002</td><td>studio_entertainment</td><td>6465</td></tr><tr><td>2002</td><td>disney_consumer_products</td><td>2440</td></tr><tr><td>2002</td><td>walt_disney_parks_and_resorts</td><td>6691</td></tr><tr><td>2002</td><td>disney_media_networks</td><td>9733</td></tr><tr><td>2003</td><td>studio_entertainment</td><td>7364</td></tr><tr><td>2003</td><td>disney_consumer_products</td><td>2344</td></tr><tr><td>2003</td><td>walt_disney_parks_and_resorts</td><td>6412</td></tr><tr><td>2003</td><td>disney_media_networks</td><td>10941</td></tr><tr><td>2004</td><td>studio_entertainment</td><td>8713</td></tr><tr><td>2004</td><td>disney_consumer_products</td><td>2511</td></tr><tr><td>2004</td><td>walt_disney_parks_and_resorts</td><td>7750</td></tr><tr><td>2004</td><td>disney_media_networks</td><td>11778</td></tr><tr><td>2005</td><td>studio_entertainment</td><td>7587</td></tr><tr><td>2005</td><td>disney_consumer_products</td><td>2127</td></tr><tr><td>2005</td><td>walt_disney_parks_and_resorts</td><td>9023</td></tr><tr><td>2005</td><td>disney_media_networks</td><td>13207</td></tr><tr><td>2006</td><td>studio_entertainment</td><td>7529</td></tr><tr><td>2006</td><td>disney_consumer_products</td><td>2193</td></tr><tr><td>2006</td><td>walt_disney_parks_and_resorts</td><td>9925</td></tr><tr><td>2006</td><td>disney_media_networks</td><td>14368</td></tr><tr><td>2007</td><td>studio_entertainment</td><td>7491</td></tr><tr><td>2007</td><td>disney_consumer_products</td><td>2347</td></tr><tr><td>2007</td><td>walt_disney_parks_and_resorts</td><td>10626</td></tr><tr><td>2007</td><td>disney_media_networks</td><td>15046</td></tr><tr><td>2008</td><td>studio_entertainment</td><td>7348</td></tr><tr><td>2008</td><td>disney_consumer_products</td><td>2415</td></tr><tr><td>2008</td><td>disney_interactive</td><td>719</td></tr><tr><td>2008</td><td>walt_disney_parks_and_resorts</td><td>11504</td></tr><tr><td>2008</td><td>disney_media_networks</td><td>15857</td></tr><tr><td>2009</td><td>studio_entertainment</td><td>6136</td></tr><tr><td>2009</td><td>disney_consumer_products</td><td>2425</td></tr><tr><td>2009</td><td>disney_interactive</td><td>712</td></tr><tr><td>2009</td><td>walt_disney_parks_and_resorts</td><td>10667</td></tr><tr><td>2009</td><td>disney_media_networks</td><td>16209</td></tr><tr><td>2010</td><td>studio_entertainment</td><td>6701</td></tr><tr><td>2010</td><td>disney_consumer_products</td><td>2678</td></tr><tr><td>2010</td><td>disney_interactive</td><td>761</td></tr><tr><td>2010</td><td>walt_disney_parks_and_resorts</td><td>10761</td></tr><tr><td>2010</td><td>disney_media_networks</td><td>17162</td></tr><tr><td>2011</td><td>studio_entertainment</td><td>6351</td></tr><tr><td>2011</td><td>disney_consumer_products</td><td>3049</td></tr><tr><td>2011</td><td>disney_interactive</td><td>982</td></tr><tr><td>2011</td><td>walt_disney_parks_and_resorts</td><td>11797</td></tr><tr><td>2011</td><td>disney_media_networks</td><td>18714</td></tr><tr><td>2012</td><td>studio_entertainment</td><td>5825</td></tr><tr><td>2012</td><td>disney_consumer_products</td><td>3252</td></tr><tr><td>2012</td><td>disney_interactive</td><td>845</td></tr><tr><td>2012</td><td>walt_disney_parks_and_resorts</td><td>12920</td></tr><tr><td>2012</td><td>disney_media_networks</td><td>19436</td></tr><tr><td>2013</td><td>studio_entertainment</td><td>5979</td></tr><tr><td>2013</td><td>disney_consumer_products</td><td>3555</td></tr><tr><td>2013</td><td>disney_interactive</td><td>1064</td></tr><tr><td>2013</td><td>walt_disney_parks_and_resorts</td><td>14087</td></tr><tr><td>2013</td><td>disney_media_networks</td><td>20356</td></tr><tr><td>2014</td><td>studio_entertainment</td><td>7278</td></tr><tr><td>2014</td><td>disney_consumer_products</td><td>3985</td></tr><tr><td>2014</td><td>disney_interactive</td><td>1299</td></tr><tr><td>2014</td><td>walt_disney_parks_and_resorts</td><td>15099</td></tr><tr><td>2014</td><td>disney_media_networks</td><td>21152</td></tr><tr><td>2015</td><td>studio_entertainment</td><td>7366</td></tr><tr><td>2015</td><td>disney_consumer_products</td><td>4499</td></tr><tr><td>2015</td><td>disney_interactive</td><td>1174</td></tr><tr><td>2015</td><td>walt_disney_parks_and_resorts</td><td>16162</td></tr><tr><td>2015</td><td>disney_media_networks</td><td>23264</td></tr><tr><td>2016</td><td>studio_entertainment</td><td>9441</td></tr><tr><td>2016</td><td>walt_disney_parks_and_resorts</td><td>16974</td></tr><tr><td>2016</td><td>disney_media_networks</td><td>23689</td></tr></table>"
                    },
                    "metadata": {}
                }
            ],
            "execution_count": 29
        },
        {
            "cell_type": "code",
            "source": [
                "select year, sum(rev_m_usd) m_usd from vw_revenue \n",
                "    where year > 2010\n",
                "    group by year"
            ],
            "metadata": {},
            "outputs": [
                {
                    "output_type": "display_data",
                    "data": {
                        "text/html": "(6 rows affected)"
                    },
                    "metadata": {}
                },
                {
                    "output_type": "display_data",
                    "data": {
                        "text/html": "Total execution time: 00:00:00.062"
                    },
                    "metadata": {}
                },
                {
                    "output_type": "execute_result",
                    "execution_count": 30,
                    "data": {
                        "application/vnd.dataresource+json": {
                            "schema": {
                                "fields": [
                                    {
                                        "name": "year"
                                    },
                                    {
                                        "name": "m_usd"
                                    }
                                ]
                            },
                            "data": [
                                {
                                    "0": "2011",
                                    "1": "40893"
                                },
                                {
                                    "0": "2012",
                                    "1": "42278"
                                },
                                {
                                    "0": "2013",
                                    "1": "45041"
                                },
                                {
                                    "0": "2014",
                                    "1": "48813"
                                },
                                {
                                    "0": "2015",
                                    "1": "52465"
                                },
                                {
                                    "0": "2016",
                                    "1": "50104"
                                }
                            ]
                        },
                        "text/html": "<table><tr><th>year</th><th>m_usd</th></tr><tr><td>2011</td><td>40893</td></tr><tr><td>2012</td><td>42278</td></tr><tr><td>2013</td><td>45041</td></tr><tr><td>2014</td><td>48813</td></tr><tr><td>2015</td><td>52465</td></tr><tr><td>2016</td><td>50104</td></tr></table>"
                    },
                    "metadata": {}
                }
            ],
            "execution_count": 30
        },
        {
            "cell_type": "code",
            "source": [
                "select cat, sum(rev_m_usd) m_usd from vw_revenue \n",
                "    where year > 2010\n",
                "    group by cat"
            ],
            "metadata": {},
            "outputs": [
                {
                    "output_type": "display_data",
                    "data": {
                        "text/html": "(5 rows affected)"
                    },
                    "metadata": {}
                },
                {
                    "output_type": "display_data",
                    "data": {
                        "text/html": "Total execution time: 00:00:00.058"
                    },
                    "metadata": {}
                },
                {
                    "output_type": "execute_result",
                    "execution_count": 31,
                    "data": {
                        "application/vnd.dataresource+json": {
                            "schema": {
                                "fields": [
                                    {
                                        "name": "cat"
                                    },
                                    {
                                        "name": "m_usd"
                                    }
                                ]
                            },
                            "data": [
                                {
                                    "0": "disney_consumer_products",
                                    "1": "18340"
                                },
                                {
                                    "0": "disney_interactive",
                                    "1": "5364"
                                },
                                {
                                    "0": "disney_media_networks",
                                    "1": "126611"
                                },
                                {
                                    "0": "studio_entertainment",
                                    "1": "42240"
                                },
                                {
                                    "0": "walt_disney_parks_and_resorts",
                                    "1": "87039"
                                }
                            ]
                        },
                        "text/html": "<table><tr><th>cat</th><th>m_usd</th></tr><tr><td>disney_consumer_products</td><td>18340</td></tr><tr><td>disney_interactive</td><td>5364</td></tr><tr><td>disney_media_networks</td><td>126611</td></tr><tr><td>studio_entertainment</td><td>42240</td></tr><tr><td>walt_disney_parks_and_resorts</td><td>87039</td></tr></table>"
                    },
                    "metadata": {}
                }
            ],
            "execution_count": 31
        }
    ]
}