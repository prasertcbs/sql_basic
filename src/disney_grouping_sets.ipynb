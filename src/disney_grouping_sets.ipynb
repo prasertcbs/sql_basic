{
    "metadata": {
        "kernelspec": {
            "name": "SQL",
            "display_name": "SQL",
            "language": "sql"
        },
        "language_info": {
            "name": "sql",
            "version": ""
        }
    },
    "nbformat_minor": 2,
    "nbformat": 4,
    "cells": [
        {
            "cell_type": "markdown",
            "source": [
                "# GROUPING SETS\n",
                "## Server: Microsoft SQL Server\n",
                "## Database: disney\n",
                "## Author: Prasert Kanawattanachai\n",
                "## YouTube: https://youtu.be/Rkzc7cOE7gE"
            ],
            "metadata": {}
        },
        {
            "cell_type": "code",
            "source": "select * from movie_gross where datepart(year, release_date) > 2013",
            "metadata": {},
            "outputs": [
                {
                    "output_type": "display_data",
                    "data": {
                        "text/html": "(37 rows affected)"
                    },
                    "metadata": {}
                },
                {
                    "output_type": "display_data",
                    "data": {
                        "text/html": "Total execution time: 00:00:00.059"
                    },
                    "metadata": {}
                },
                {
                    "output_type": "execute_result",
                    "execution_count": 14,
                    "data": {
                        "application/vnd.dataresource+json": {
                            "schema": {
                                "fields": [
                                    {
                                        "name": "movie_title"
                                    },
                                    {
                                        "name": "release_date"
                                    },
                                    {
                                        "name": "genre"
                                    },
                                    {
                                        "name": "mpaa_rating"
                                    },
                                    {
                                        "name": "total_gross"
                                    },
                                    {
                                        "name": "inflation_adjusted_gross"
                                    }
                                ]
                            },
                            "data": [
                                {
                                    "0": "Need for Speed",
                                    "1": "2014-03-14",
                                    "2": "Action",
                                    "3": "PG-13",
                                    "4": "43568507",
                                    "5": "44955015"
                                },
                                {
                                    "0": "Muppets Most Wanted",
                                    "1": "2014-03-21",
                                    "2": "Comedy",
                                    "3": "PG",
                                    "4": "51178893",
                                    "5": "52807594"
                                },
                                {
                                    "0": "Captain America: The Winter Soldier",
                                    "1": "2014-04-04",
                                    "2": "Action",
                                    "3": "PG-13",
                                    "4": "259746958",
                                    "5": "268013076"
                                },
                                {
                                    "0": "Bears",
                                    "1": "2014-04-18",
                                    "2": "Documentary",
                                    "3": "G",
                                    "4": "17780194",
                                    "5": "18346024"
                                },
                                {
                                    "0": "Million Dollar Arm",
                                    "1": "2014-05-10",
                                    "2": "Drama",
                                    "3": "PG",
                                    "4": "36447959",
                                    "5": "37607865"
                                },
                                {
                                    "0": "Maleficent",
                                    "1": "2014-05-30",
                                    "2": "Adventure",
                                    "3": "PG",
                                    "4": "241407328",
                                    "5": "249089809"
                                },
                                {
                                    "0": "Planes: Fire and Rescue",
                                    "1": "2014-07-18",
                                    "2": "Adventure",
                                    "3": "PG",
                                    "4": "59157732",
                                    "5": "61040349"
                                },
                                {
                                    "0": "Guardians of the Galaxy",
                                    "1": "2014-08-01",
                                    "2": "Adventure",
                                    "3": "PG-13",
                                    "4": "333172112",
                                    "5": "343771168"
                                },
                                {
                                    "0": "The Hundred-Foot Journey",
                                    "1": "2014-08-08",
                                    "2": "Romantic Comedy",
                                    "3": "PG",
                                    "4": "54235441",
                                    "5": "55961409"
                                },
                                {
                                    "0": "Alexander and the Terrible, Horrible,…",
                                    "1": "2014-10-10",
                                    "2": "Comedy",
                                    "3": "PG",
                                    "4": "66954149",
                                    "5": "69055550"
                                },
                                {
                                    "0": "Big Hero 6",
                                    "1": "2014-11-07",
                                    "2": "Adventure",
                                    "3": "PG",
                                    "4": "222527828",
                                    "5": "229249222"
                                },
                                {
                                    "0": "Into the Woods",
                                    "1": "2014-12-25",
                                    "2": "Musical",
                                    "3": "PG",
                                    "4": "128002372",
                                    "5": "130894237"
                                },
                                {
                                    "0": "Strange Magic",
                                    "1": "2015-01-23",
                                    "2": "Adventure",
                                    "3": "PG",
                                    "4": "12429583",
                                    "5": "12429583"
                                },
                                {
                                    "0": "McFarland, USA",
                                    "1": "2015-02-20",
                                    "2": "Drama",
                                    "3": "PG",
                                    "4": "44480275",
                                    "5": "44480275"
                                },
                                {
                                    "0": "Cinderella",
                                    "1": "2015-03-13",
                                    "2": "Drama",
                                    "3": "PG",
                                    "4": "201151353",
                                    "5": "201151353"
                                },
                                {
                                    "0": "Monkey Kingdom",
                                    "1": "2015-04-17",
                                    "2": "Documentary",
                                    "3": "G",
                                    "4": "16432322",
                                    "5": "16432322"
                                },
                                {
                                    "0": "Avengers: Age of Ultron",
                                    "1": "2015-05-01",
                                    "2": "Action",
                                    "3": "PG-13",
                                    "4": "459005868",
                                    "5": "459005868"
                                },
                                {
                                    "0": "Tomorrowland",
                                    "1": "2015-05-22",
                                    "2": "Adventure",
                                    "3": "PG",
                                    "4": "93436322",
                                    "5": "93436322"
                                },
                                {
                                    "0": "Inside Out",
                                    "1": "2015-06-19",
                                    "2": "Adventure",
                                    "3": "PG",
                                    "4": "356461711",
                                    "5": "356461711"
                                },
                                {
                                    "0": "Ant-Man",
                                    "1": "2015-07-17",
                                    "2": "Action",
                                    "3": "PG-13",
                                    "4": "180202163",
                                    "5": "180202163"
                                },
                                {
                                    "0": "Bridge of Spies",
                                    "1": "2015-10-16",
                                    "2": "Thriller/Suspense",
                                    "3": "PG-13",
                                    "4": "72313754",
                                    "5": "72313754"
                                },
                                {
                                    "0": "The Good Dinosaur",
                                    "1": "2015-11-25",
                                    "2": "Adventure",
                                    "3": "PG",
                                    "4": "123087120",
                                    "5": "123087120"
                                },
                                {
                                    "0": "Star Wars Ep. VII: The Force Awakens",
                                    "1": "2015-12-18",
                                    "2": "Adventure",
                                    "3": "PG-13",
                                    "4": "936662225",
                                    "5": "936662225"
                                },
                                {
                                    "0": "The Finest Hours",
                                    "1": "2016-01-29",
                                    "2": "Thriller/Suspense",
                                    "3": "PG",
                                    "4": "27569558",
                                    "5": "27569558"
                                },
                                {
                                    "0": "Zootopia",
                                    "1": "2016-03-04",
                                    "2": "Adventure",
                                    "3": "PG",
                                    "4": "341268248",
                                    "5": "341268248"
                                },
                                {
                                    "0": "The Jungle Book",
                                    "1": "2016-04-15",
                                    "2": "Adventure",
                                    "3": "PG",
                                    "4": "364001123",
                                    "5": "364001123"
                                },
                                {
                                    "0": "A Beautiful Planet",
                                    "1": "2016-04-29",
                                    "2": "Documentary",
                                    "3": "G",
                                    "4": "7895708",
                                    "5": "7895708"
                                },
                                {
                                    "0": "Captain America: Civil War",
                                    "1": "2016-05-06",
                                    "2": "Action",
                                    "3": "PG-13",
                                    "4": "408084349",
                                    "5": "408084349"
                                },
                                {
                                    "0": "Alice Through the Looking Glass",
                                    "1": "2016-05-27",
                                    "2": "Adventure",
                                    "3": "PG",
                                    "4": "77042381",
                                    "5": "77042381"
                                },
                                {
                                    "0": "Finding Dory",
                                    "1": "2016-06-17",
                                    "2": "Adventure",
                                    "3": "PG",
                                    "4": "486295561",
                                    "5": "486295561"
                                },
                                {
                                    "0": "The BFG",
                                    "1": "2016-07-01",
                                    "2": "Adventure",
                                    "3": "PG",
                                    "4": "55483770",
                                    "5": "55483770"
                                },
                                {
                                    "0": "Pete’s Dragon",
                                    "1": "2016-08-12",
                                    "2": "Adventure",
                                    "3": "PG",
                                    "4": "76233151",
                                    "5": "76233151"
                                },
                                {
                                    "0": "The Light Between Oceans",
                                    "1": "2016-09-02",
                                    "2": "Drama",
                                    "3": "PG-13",
                                    "4": "12545979",
                                    "5": "12545979"
                                },
                                {
                                    "0": "Queen of Katwe",
                                    "1": "2016-09-23",
                                    "2": "Drama",
                                    "3": "PG",
                                    "4": "8874389",
                                    "5": "8874389"
                                },
                                {
                                    "0": "Doctor Strange",
                                    "1": "2016-11-04",
                                    "2": "Adventure",
                                    "3": "PG-13",
                                    "4": "232532923",
                                    "5": "232532923"
                                },
                                {
                                    "0": "Moana",
                                    "1": "2016-11-23",
                                    "2": "Adventure",
                                    "3": "PG",
                                    "4": "246082029",
                                    "5": "246082029"
                                },
                                {
                                    "0": "Rogue One: A Star Wars Story",
                                    "1": "2016-12-16",
                                    "2": "Adventure",
                                    "3": "PG-13",
                                    "4": "529483936",
                                    "5": "529483936"
                                }
                            ]
                        },
                        "text/html": "<table><tr><th>movie_title</th><th>release_date</th><th>genre</th><th>mpaa_rating</th><th>total_gross</th><th>inflation_adjusted_gross</th></tr><tr><td>Need for Speed</td><td>2014-03-14</td><td>Action</td><td>PG-13</td><td>43568507</td><td>44955015</td></tr><tr><td>Muppets Most Wanted</td><td>2014-03-21</td><td>Comedy</td><td>PG</td><td>51178893</td><td>52807594</td></tr><tr><td>Captain America: The Winter Soldier</td><td>2014-04-04</td><td>Action</td><td>PG-13</td><td>259746958</td><td>268013076</td></tr><tr><td>Bears</td><td>2014-04-18</td><td>Documentary</td><td>G</td><td>17780194</td><td>18346024</td></tr><tr><td>Million Dollar Arm</td><td>2014-05-10</td><td>Drama</td><td>PG</td><td>36447959</td><td>37607865</td></tr><tr><td>Maleficent</td><td>2014-05-30</td><td>Adventure</td><td>PG</td><td>241407328</td><td>249089809</td></tr><tr><td>Planes: Fire and Rescue</td><td>2014-07-18</td><td>Adventure</td><td>PG</td><td>59157732</td><td>61040349</td></tr><tr><td>Guardians of the Galaxy</td><td>2014-08-01</td><td>Adventure</td><td>PG-13</td><td>333172112</td><td>343771168</td></tr><tr><td>The Hundred-Foot Journey</td><td>2014-08-08</td><td>Romantic Comedy</td><td>PG</td><td>54235441</td><td>55961409</td></tr><tr><td>Alexander and the Terrible, Horrible,…</td><td>2014-10-10</td><td>Comedy</td><td>PG</td><td>66954149</td><td>69055550</td></tr><tr><td>Big Hero 6</td><td>2014-11-07</td><td>Adventure</td><td>PG</td><td>222527828</td><td>229249222</td></tr><tr><td>Into the Woods</td><td>2014-12-25</td><td>Musical</td><td>PG</td><td>128002372</td><td>130894237</td></tr><tr><td>Strange Magic</td><td>2015-01-23</td><td>Adventure</td><td>PG</td><td>12429583</td><td>12429583</td></tr><tr><td>McFarland, USA</td><td>2015-02-20</td><td>Drama</td><td>PG</td><td>44480275</td><td>44480275</td></tr><tr><td>Cinderella</td><td>2015-03-13</td><td>Drama</td><td>PG</td><td>201151353</td><td>201151353</td></tr><tr><td>Monkey Kingdom</td><td>2015-04-17</td><td>Documentary</td><td>G</td><td>16432322</td><td>16432322</td></tr><tr><td>Avengers: Age of Ultron</td><td>2015-05-01</td><td>Action</td><td>PG-13</td><td>459005868</td><td>459005868</td></tr><tr><td>Tomorrowland</td><td>2015-05-22</td><td>Adventure</td><td>PG</td><td>93436322</td><td>93436322</td></tr><tr><td>Inside Out</td><td>2015-06-19</td><td>Adventure</td><td>PG</td><td>356461711</td><td>356461711</td></tr><tr><td>Ant-Man</td><td>2015-07-17</td><td>Action</td><td>PG-13</td><td>180202163</td><td>180202163</td></tr><tr><td>Bridge of Spies</td><td>2015-10-16</td><td>Thriller/Suspense</td><td>PG-13</td><td>72313754</td><td>72313754</td></tr><tr><td>The Good Dinosaur</td><td>2015-11-25</td><td>Adventure</td><td>PG</td><td>123087120</td><td>123087120</td></tr><tr><td>Star Wars Ep. VII: The Force Awakens</td><td>2015-12-18</td><td>Adventure</td><td>PG-13</td><td>936662225</td><td>936662225</td></tr><tr><td>The Finest Hours</td><td>2016-01-29</td><td>Thriller/Suspense</td><td>PG</td><td>27569558</td><td>27569558</td></tr><tr><td>Zootopia</td><td>2016-03-04</td><td>Adventure</td><td>PG</td><td>341268248</td><td>341268248</td></tr><tr><td>The Jungle Book</td><td>2016-04-15</td><td>Adventure</td><td>PG</td><td>364001123</td><td>364001123</td></tr><tr><td>A Beautiful Planet</td><td>2016-04-29</td><td>Documentary</td><td>G</td><td>7895708</td><td>7895708</td></tr><tr><td>Captain America: Civil War</td><td>2016-05-06</td><td>Action</td><td>PG-13</td><td>408084349</td><td>408084349</td></tr><tr><td>Alice Through the Looking Glass</td><td>2016-05-27</td><td>Adventure</td><td>PG</td><td>77042381</td><td>77042381</td></tr><tr><td>Finding Dory</td><td>2016-06-17</td><td>Adventure</td><td>PG</td><td>486295561</td><td>486295561</td></tr><tr><td>The BFG</td><td>2016-07-01</td><td>Adventure</td><td>PG</td><td>55483770</td><td>55483770</td></tr><tr><td>Pete’s Dragon</td><td>2016-08-12</td><td>Adventure</td><td>PG</td><td>76233151</td><td>76233151</td></tr><tr><td>The Light Between Oceans</td><td>2016-09-02</td><td>Drama</td><td>PG-13</td><td>12545979</td><td>12545979</td></tr><tr><td>Queen of Katwe</td><td>2016-09-23</td><td>Drama</td><td>PG</td><td>8874389</td><td>8874389</td></tr><tr><td>Doctor Strange</td><td>2016-11-04</td><td>Adventure</td><td>PG-13</td><td>232532923</td><td>232532923</td></tr><tr><td>Moana</td><td>2016-11-23</td><td>Adventure</td><td>PG</td><td>246082029</td><td>246082029</td></tr><tr><td>Rogue One: A Star Wars Story</td><td>2016-12-16</td><td>Adventure</td><td>PG-13</td><td>529483936</td><td>529483936</td></tr></table>"
                    },
                    "metadata": {}
                }
            ],
            "execution_count": 14
        },
        {
            "cell_type": "markdown",
            "source": "# สรุปรายได้แยกตาม genre",
            "metadata": {}
        },
        {
            "cell_type": "code",
            "source": [
                "select genre, sum(total_gross) gross \n",
                "    from movie_gross \n",
                "    where datepart(year, release_date) > 2013\n",
                "    group by genre"
            ],
            "metadata": {},
            "outputs": [
                {
                    "output_type": "display_data",
                    "data": {
                        "text/html": "(8 rows affected)"
                    },
                    "metadata": {}
                },
                {
                    "output_type": "display_data",
                    "data": {
                        "text/html": "Total execution time: 00:00:00.053"
                    },
                    "metadata": {}
                },
                {
                    "output_type": "execute_result",
                    "execution_count": 15,
                    "data": {
                        "application/vnd.dataresource+json": {
                            "schema": {
                                "fields": [
                                    {
                                        "name": "genre"
                                    },
                                    {
                                        "name": "gross"
                                    }
                                ]
                            },
                            "data": [
                                {
                                    "0": "Action",
                                    "1": "1350607845"
                                },
                                {
                                    "0": "Adventure",
                                    "1": "4786765083"
                                },
                                {
                                    "0": "Comedy",
                                    "1": "118133042"
                                },
                                {
                                    "0": "Documentary",
                                    "1": "42108224"
                                },
                                {
                                    "0": "Drama",
                                    "1": "303499955"
                                },
                                {
                                    "0": "Musical",
                                    "1": "128002372"
                                },
                                {
                                    "0": "Romantic Comedy",
                                    "1": "54235441"
                                },
                                {
                                    "0": "Thriller/Suspense",
                                    "1": "99883312"
                                }
                            ]
                        },
                        "text/html": "<table><tr><th>genre</th><th>gross</th></tr><tr><td>Action</td><td>1350607845</td></tr><tr><td>Adventure</td><td>4786765083</td></tr><tr><td>Comedy</td><td>118133042</td></tr><tr><td>Documentary</td><td>42108224</td></tr><tr><td>Drama</td><td>303499955</td></tr><tr><td>Musical</td><td>128002372</td></tr><tr><td>Romantic Comedy</td><td>54235441</td></tr><tr><td>Thriller/Suspense</td><td>99883312</td></tr></table>"
                    },
                    "metadata": {}
                }
            ],
            "execution_count": 15
        },
        {
            "cell_type": "markdown",
            "source": "# สรุปรายได้แยกตามปี",
            "metadata": {}
        },
        {
            "cell_type": "code",
            "source": [
                "select datepart(year, release_date) year, sum(total_gross) gross \n",
                "    from movie_gross \n",
                "    where datepart(year, release_date) > 2013\n",
                "    group by datepart(year, release_date)"
            ],
            "metadata": {},
            "outputs": [
                {
                    "output_type": "display_data",
                    "data": {
                        "text/html": "(3 rows affected)"
                    },
                    "metadata": {}
                },
                {
                    "output_type": "display_data",
                    "data": {
                        "text/html": "Total execution time: 00:00:00.053"
                    },
                    "metadata": {}
                },
                {
                    "output_type": "execute_result",
                    "execution_count": 16,
                    "data": {
                        "application/vnd.dataresource+json": {
                            "schema": {
                                "fields": [
                                    {
                                        "name": "year"
                                    },
                                    {
                                        "name": "gross"
                                    }
                                ]
                            },
                            "data": [
                                {
                                    "0": "2014",
                                    "1": "1514179473"
                                },
                                {
                                    "0": "2015",
                                    "1": "2495662696"
                                },
                                {
                                    "0": "2016",
                                    "1": "2873393105"
                                }
                            ]
                        },
                        "text/html": "<table><tr><th>year</th><th>gross</th></tr><tr><td>2014</td><td>1514179473</td></tr><tr><td>2015</td><td>2495662696</td></tr><tr><td>2016</td><td>2873393105</td></tr></table>"
                    },
                    "metadata": {}
                }
            ],
            "execution_count": 16
        },
        {
            "cell_type": "markdown",
            "source": "# สรุปรายได้รวม",
            "metadata": {}
        },
        {
            "cell_type": "code",
            "source": [
                "select sum(total_gross) gross \n",
                "    from movie_gross \n",
                "    where datepart(year, release_date) > 2013"
            ],
            "metadata": {},
            "outputs": [
                {
                    "output_type": "display_data",
                    "data": {
                        "text/html": "(1 row affected)"
                    },
                    "metadata": {}
                },
                {
                    "output_type": "display_data",
                    "data": {
                        "text/html": "Total execution time: 00:00:00.052"
                    },
                    "metadata": {}
                },
                {
                    "output_type": "execute_result",
                    "execution_count": 17,
                    "data": {
                        "application/vnd.dataresource+json": {
                            "schema": {
                                "fields": [
                                    {
                                        "name": "gross"
                                    }
                                ]
                            },
                            "data": [
                                {
                                    "0": "6883235274"
                                }
                            ]
                        },
                        "text/html": "<table><tr><th>gross</th></tr><tr><td>6883235274</td></tr></table>"
                    },
                    "metadata": {}
                }
            ],
            "execution_count": 17
        },
        {
            "cell_type": "markdown",
            "source": "# สรุปรายได้แยกตามปีและ genre ",
            "metadata": {}
        },
        {
            "cell_type": "code",
            "source": [
                "select datepart(year, release_date) year, genre, sum(total_gross) gross \n",
                "    from movie_gross \n",
                "    where datepart(year, release_date) > 2013\n",
                "    group by genre, datepart(year, release_date)"
            ],
            "metadata": {},
            "outputs": [
                {
                    "output_type": "display_data",
                    "data": {
                        "text/html": "(17 rows affected)"
                    },
                    "metadata": {}
                },
                {
                    "output_type": "display_data",
                    "data": {
                        "text/html": "Total execution time: 00:00:00.054"
                    },
                    "metadata": {}
                },
                {
                    "output_type": "execute_result",
                    "execution_count": 18,
                    "data": {
                        "application/vnd.dataresource+json": {
                            "schema": {
                                "fields": [
                                    {
                                        "name": "year"
                                    },
                                    {
                                        "name": "genre"
                                    },
                                    {
                                        "name": "gross"
                                    }
                                ]
                            },
                            "data": [
                                {
                                    "0": "2014",
                                    "1": "Action",
                                    "2": "303315465"
                                },
                                {
                                    "0": "2014",
                                    "1": "Adventure",
                                    "2": "856265000"
                                },
                                {
                                    "0": "2014",
                                    "1": "Comedy",
                                    "2": "118133042"
                                },
                                {
                                    "0": "2014",
                                    "1": "Documentary",
                                    "2": "17780194"
                                },
                                {
                                    "0": "2014",
                                    "1": "Drama",
                                    "2": "36447959"
                                },
                                {
                                    "0": "2014",
                                    "1": "Musical",
                                    "2": "128002372"
                                },
                                {
                                    "0": "2014",
                                    "1": "Romantic Comedy",
                                    "2": "54235441"
                                },
                                {
                                    "0": "2015",
                                    "1": "Action",
                                    "2": "639208031"
                                },
                                {
                                    "0": "2015",
                                    "1": "Adventure",
                                    "2": "1522076961"
                                },
                                {
                                    "0": "2015",
                                    "1": "Documentary",
                                    "2": "16432322"
                                },
                                {
                                    "0": "2015",
                                    "1": "Drama",
                                    "2": "245631628"
                                },
                                {
                                    "0": "2015",
                                    "1": "Thriller/Suspense",
                                    "2": "72313754"
                                },
                                {
                                    "0": "2016",
                                    "1": "Action",
                                    "2": "408084349"
                                },
                                {
                                    "0": "2016",
                                    "1": "Adventure",
                                    "2": "2408423122"
                                },
                                {
                                    "0": "2016",
                                    "1": "Documentary",
                                    "2": "7895708"
                                },
                                {
                                    "0": "2016",
                                    "1": "Drama",
                                    "2": "21420368"
                                },
                                {
                                    "0": "2016",
                                    "1": "Thriller/Suspense",
                                    "2": "27569558"
                                }
                            ]
                        },
                        "text/html": "<table><tr><th>year</th><th>genre</th><th>gross</th></tr><tr><td>2014</td><td>Action</td><td>303315465</td></tr><tr><td>2014</td><td>Adventure</td><td>856265000</td></tr><tr><td>2014</td><td>Comedy</td><td>118133042</td></tr><tr><td>2014</td><td>Documentary</td><td>17780194</td></tr><tr><td>2014</td><td>Drama</td><td>36447959</td></tr><tr><td>2014</td><td>Musical</td><td>128002372</td></tr><tr><td>2014</td><td>Romantic Comedy</td><td>54235441</td></tr><tr><td>2015</td><td>Action</td><td>639208031</td></tr><tr><td>2015</td><td>Adventure</td><td>1522076961</td></tr><tr><td>2015</td><td>Documentary</td><td>16432322</td></tr><tr><td>2015</td><td>Drama</td><td>245631628</td></tr><tr><td>2015</td><td>Thriller/Suspense</td><td>72313754</td></tr><tr><td>2016</td><td>Action</td><td>408084349</td></tr><tr><td>2016</td><td>Adventure</td><td>2408423122</td></tr><tr><td>2016</td><td>Documentary</td><td>7895708</td></tr><tr><td>2016</td><td>Drama</td><td>21420368</td></tr><tr><td>2016</td><td>Thriller/Suspense</td><td>27569558</td></tr></table>"
                    },
                    "metadata": {}
                }
            ],
            "execution_count": 18
        },
        {
            "cell_type": "markdown",
            "source": "# ใช้ grouping sets ช่วยในการสรุปรายได้แยกตามปี และ genre",
            "metadata": {}
        },
        {
            "cell_type": "code",
            "source": [
                "select datepart(year, release_date) year, genre, sum(total_gross) gross \n",
                "    from movie_gross \n",
                "    where datepart(year, release_date) > 2013\n",
                "    group by \n",
                "        grouping sets (\n",
                "            (datepart(year, release_date), genre)\n",
                "        )\n",
                "    order by year, genre"
            ],
            "metadata": {},
            "outputs": [
                {
                    "output_type": "display_data",
                    "data": {
                        "text/html": "(17 rows affected)"
                    },
                    "metadata": {}
                },
                {
                    "output_type": "display_data",
                    "data": {
                        "text/html": "Total execution time: 00:00:00.055"
                    },
                    "metadata": {}
                },
                {
                    "output_type": "execute_result",
                    "execution_count": 19,
                    "data": {
                        "application/vnd.dataresource+json": {
                            "schema": {
                                "fields": [
                                    {
                                        "name": "year"
                                    },
                                    {
                                        "name": "genre"
                                    },
                                    {
                                        "name": "gross"
                                    }
                                ]
                            },
                            "data": [
                                {
                                    "0": "2014",
                                    "1": "Action",
                                    "2": "303315465"
                                },
                                {
                                    "0": "2014",
                                    "1": "Adventure",
                                    "2": "856265000"
                                },
                                {
                                    "0": "2014",
                                    "1": "Comedy",
                                    "2": "118133042"
                                },
                                {
                                    "0": "2014",
                                    "1": "Documentary",
                                    "2": "17780194"
                                },
                                {
                                    "0": "2014",
                                    "1": "Drama",
                                    "2": "36447959"
                                },
                                {
                                    "0": "2014",
                                    "1": "Musical",
                                    "2": "128002372"
                                },
                                {
                                    "0": "2014",
                                    "1": "Romantic Comedy",
                                    "2": "54235441"
                                },
                                {
                                    "0": "2015",
                                    "1": "Action",
                                    "2": "639208031"
                                },
                                {
                                    "0": "2015",
                                    "1": "Adventure",
                                    "2": "1522076961"
                                },
                                {
                                    "0": "2015",
                                    "1": "Documentary",
                                    "2": "16432322"
                                },
                                {
                                    "0": "2015",
                                    "1": "Drama",
                                    "2": "245631628"
                                },
                                {
                                    "0": "2015",
                                    "1": "Thriller/Suspense",
                                    "2": "72313754"
                                },
                                {
                                    "0": "2016",
                                    "1": "Action",
                                    "2": "408084349"
                                },
                                {
                                    "0": "2016",
                                    "1": "Adventure",
                                    "2": "2408423122"
                                },
                                {
                                    "0": "2016",
                                    "1": "Documentary",
                                    "2": "7895708"
                                },
                                {
                                    "0": "2016",
                                    "1": "Drama",
                                    "2": "21420368"
                                },
                                {
                                    "0": "2016",
                                    "1": "Thriller/Suspense",
                                    "2": "27569558"
                                }
                            ]
                        },
                        "text/html": "<table><tr><th>year</th><th>genre</th><th>gross</th></tr><tr><td>2014</td><td>Action</td><td>303315465</td></tr><tr><td>2014</td><td>Adventure</td><td>856265000</td></tr><tr><td>2014</td><td>Comedy</td><td>118133042</td></tr><tr><td>2014</td><td>Documentary</td><td>17780194</td></tr><tr><td>2014</td><td>Drama</td><td>36447959</td></tr><tr><td>2014</td><td>Musical</td><td>128002372</td></tr><tr><td>2014</td><td>Romantic Comedy</td><td>54235441</td></tr><tr><td>2015</td><td>Action</td><td>639208031</td></tr><tr><td>2015</td><td>Adventure</td><td>1522076961</td></tr><tr><td>2015</td><td>Documentary</td><td>16432322</td></tr><tr><td>2015</td><td>Drama</td><td>245631628</td></tr><tr><td>2015</td><td>Thriller/Suspense</td><td>72313754</td></tr><tr><td>2016</td><td>Action</td><td>408084349</td></tr><tr><td>2016</td><td>Adventure</td><td>2408423122</td></tr><tr><td>2016</td><td>Documentary</td><td>7895708</td></tr><tr><td>2016</td><td>Drama</td><td>21420368</td></tr><tr><td>2016</td><td>Thriller/Suspense</td><td>27569558</td></tr></table>"
                    },
                    "metadata": {}
                }
            ],
            "execution_count": 19
        },
        {
            "cell_type": "markdown",
            "source": "# ใช้ grouping sets ช่วยในการสรุปรายได้แยกตามปี genre และรายได้รวมทั้งหมด",
            "metadata": {}
        },
        {
            "cell_type": "code",
            "source": [
                "select datepart(year, release_date) year, genre, sum(total_gross) gross \n",
                "    from movie_gross \n",
                "    where datepart(year, release_date) > 2013\n",
                "    group by \n",
                "        grouping sets (\n",
                "            (datepart(year, release_date), genre), -- รายได้แยกตามปีและ genre\n",
                "            (datepart(year, release_date)), -- รายได้แยกตามปี\n",
                "            (genre), -- รายได้แยกตาม genre\n",
                "            () -- รายได้รวม\n",
                "        )\n",
                "    order by year, genre"
            ],
            "metadata": {},
            "outputs": [
                {
                    "output_type": "display_data",
                    "data": {
                        "text/html": "(29 rows affected)"
                    },
                    "metadata": {}
                },
                {
                    "output_type": "display_data",
                    "data": {
                        "text/html": "Total execution time: 00:00:00.066"
                    },
                    "metadata": {}
                },
                {
                    "output_type": "execute_result",
                    "execution_count": 20,
                    "data": {
                        "application/vnd.dataresource+json": {
                            "schema": {
                                "fields": [
                                    {
                                        "name": "year"
                                    },
                                    {
                                        "name": "genre"
                                    },
                                    {
                                        "name": "gross"
                                    }
                                ]
                            },
                            "data": [
                                {
                                    "0": "NULL",
                                    "1": "NULL",
                                    "2": "6883235274"
                                },
                                {
                                    "0": "NULL",
                                    "1": "Action",
                                    "2": "1350607845"
                                },
                                {
                                    "0": "NULL",
                                    "1": "Adventure",
                                    "2": "4786765083"
                                },
                                {
                                    "0": "NULL",
                                    "1": "Comedy",
                                    "2": "118133042"
                                },
                                {
                                    "0": "NULL",
                                    "1": "Documentary",
                                    "2": "42108224"
                                },
                                {
                                    "0": "NULL",
                                    "1": "Drama",
                                    "2": "303499955"
                                },
                                {
                                    "0": "NULL",
                                    "1": "Musical",
                                    "2": "128002372"
                                },
                                {
                                    "0": "NULL",
                                    "1": "Romantic Comedy",
                                    "2": "54235441"
                                },
                                {
                                    "0": "NULL",
                                    "1": "Thriller/Suspense",
                                    "2": "99883312"
                                },
                                {
                                    "0": "2014",
                                    "1": "NULL",
                                    "2": "1514179473"
                                },
                                {
                                    "0": "2014",
                                    "1": "Action",
                                    "2": "303315465"
                                },
                                {
                                    "0": "2014",
                                    "1": "Adventure",
                                    "2": "856265000"
                                },
                                {
                                    "0": "2014",
                                    "1": "Comedy",
                                    "2": "118133042"
                                },
                                {
                                    "0": "2014",
                                    "1": "Documentary",
                                    "2": "17780194"
                                },
                                {
                                    "0": "2014",
                                    "1": "Drama",
                                    "2": "36447959"
                                },
                                {
                                    "0": "2014",
                                    "1": "Musical",
                                    "2": "128002372"
                                },
                                {
                                    "0": "2014",
                                    "1": "Romantic Comedy",
                                    "2": "54235441"
                                },
                                {
                                    "0": "2015",
                                    "1": "NULL",
                                    "2": "2495662696"
                                },
                                {
                                    "0": "2015",
                                    "1": "Action",
                                    "2": "639208031"
                                },
                                {
                                    "0": "2015",
                                    "1": "Adventure",
                                    "2": "1522076961"
                                },
                                {
                                    "0": "2015",
                                    "1": "Documentary",
                                    "2": "16432322"
                                },
                                {
                                    "0": "2015",
                                    "1": "Drama",
                                    "2": "245631628"
                                },
                                {
                                    "0": "2015",
                                    "1": "Thriller/Suspense",
                                    "2": "72313754"
                                },
                                {
                                    "0": "2016",
                                    "1": "NULL",
                                    "2": "2873393105"
                                },
                                {
                                    "0": "2016",
                                    "1": "Action",
                                    "2": "408084349"
                                },
                                {
                                    "0": "2016",
                                    "1": "Adventure",
                                    "2": "2408423122"
                                },
                                {
                                    "0": "2016",
                                    "1": "Documentary",
                                    "2": "7895708"
                                },
                                {
                                    "0": "2016",
                                    "1": "Drama",
                                    "2": "21420368"
                                },
                                {
                                    "0": "2016",
                                    "1": "Thriller/Suspense",
                                    "2": "27569558"
                                }
                            ]
                        },
                        "text/html": "<table><tr><th>year</th><th>genre</th><th>gross</th></tr><tr><td>NULL</td><td>NULL</td><td>6883235274</td></tr><tr><td>NULL</td><td>Action</td><td>1350607845</td></tr><tr><td>NULL</td><td>Adventure</td><td>4786765083</td></tr><tr><td>NULL</td><td>Comedy</td><td>118133042</td></tr><tr><td>NULL</td><td>Documentary</td><td>42108224</td></tr><tr><td>NULL</td><td>Drama</td><td>303499955</td></tr><tr><td>NULL</td><td>Musical</td><td>128002372</td></tr><tr><td>NULL</td><td>Romantic Comedy</td><td>54235441</td></tr><tr><td>NULL</td><td>Thriller/Suspense</td><td>99883312</td></tr><tr><td>2014</td><td>NULL</td><td>1514179473</td></tr><tr><td>2014</td><td>Action</td><td>303315465</td></tr><tr><td>2014</td><td>Adventure</td><td>856265000</td></tr><tr><td>2014</td><td>Comedy</td><td>118133042</td></tr><tr><td>2014</td><td>Documentary</td><td>17780194</td></tr><tr><td>2014</td><td>Drama</td><td>36447959</td></tr><tr><td>2014</td><td>Musical</td><td>128002372</td></tr><tr><td>2014</td><td>Romantic Comedy</td><td>54235441</td></tr><tr><td>2015</td><td>NULL</td><td>2495662696</td></tr><tr><td>2015</td><td>Action</td><td>639208031</td></tr><tr><td>2015</td><td>Adventure</td><td>1522076961</td></tr><tr><td>2015</td><td>Documentary</td><td>16432322</td></tr><tr><td>2015</td><td>Drama</td><td>245631628</td></tr><tr><td>2015</td><td>Thriller/Suspense</td><td>72313754</td></tr><tr><td>2016</td><td>NULL</td><td>2873393105</td></tr><tr><td>2016</td><td>Action</td><td>408084349</td></tr><tr><td>2016</td><td>Adventure</td><td>2408423122</td></tr><tr><td>2016</td><td>Documentary</td><td>7895708</td></tr><tr><td>2016</td><td>Drama</td><td>21420368</td></tr><tr><td>2016</td><td>Thriller/Suspense</td><td>27569558</td></tr></table>"
                    },
                    "metadata": {}
                }
            ],
            "execution_count": 20
        },
        {
            "cell_type": "markdown",
            "source": "# การใช้ having ในการกรองผลลัพธ์ที่ได้จาก grouping sets",
            "metadata": {}
        },
        {
            "cell_type": "code",
            "source": [
                "select datepart(year, release_date) year, genre, sum(total_gross) gross \n",
                "    from movie_gross \n",
                "    where datepart(year, release_date) > 2013\n",
                "    group by \n",
                "        grouping sets (\n",
                "            (datepart(year, release_date), genre),\n",
                "            (datepart(year, release_date)),\n",
                "            (genre),\n",
                "            ()\n",
                "        )\n",
                "    having datepart(year, release_date) is null\n",
                "    order by year, genre"
            ],
            "metadata": {},
            "outputs": [
                {
                    "output_type": "display_data",
                    "data": {
                        "text/html": "(9 rows affected)"
                    },
                    "metadata": {}
                },
                {
                    "output_type": "display_data",
                    "data": {
                        "text/html": "Total execution time: 00:00:00.054"
                    },
                    "metadata": {}
                },
                {
                    "output_type": "execute_result",
                    "execution_count": 21,
                    "data": {
                        "application/vnd.dataresource+json": {
                            "schema": {
                                "fields": [
                                    {
                                        "name": "year"
                                    },
                                    {
                                        "name": "genre"
                                    },
                                    {
                                        "name": "gross"
                                    }
                                ]
                            },
                            "data": [
                                {
                                    "0": "NULL",
                                    "1": "NULL",
                                    "2": "6883235274"
                                },
                                {
                                    "0": "NULL",
                                    "1": "Action",
                                    "2": "1350607845"
                                },
                                {
                                    "0": "NULL",
                                    "1": "Adventure",
                                    "2": "4786765083"
                                },
                                {
                                    "0": "NULL",
                                    "1": "Comedy",
                                    "2": "118133042"
                                },
                                {
                                    "0": "NULL",
                                    "1": "Documentary",
                                    "2": "42108224"
                                },
                                {
                                    "0": "NULL",
                                    "1": "Drama",
                                    "2": "303499955"
                                },
                                {
                                    "0": "NULL",
                                    "1": "Musical",
                                    "2": "128002372"
                                },
                                {
                                    "0": "NULL",
                                    "1": "Romantic Comedy",
                                    "2": "54235441"
                                },
                                {
                                    "0": "NULL",
                                    "1": "Thriller/Suspense",
                                    "2": "99883312"
                                }
                            ]
                        },
                        "text/html": "<table><tr><th>year</th><th>genre</th><th>gross</th></tr><tr><td>NULL</td><td>NULL</td><td>6883235274</td></tr><tr><td>NULL</td><td>Action</td><td>1350607845</td></tr><tr><td>NULL</td><td>Adventure</td><td>4786765083</td></tr><tr><td>NULL</td><td>Comedy</td><td>118133042</td></tr><tr><td>NULL</td><td>Documentary</td><td>42108224</td></tr><tr><td>NULL</td><td>Drama</td><td>303499955</td></tr><tr><td>NULL</td><td>Musical</td><td>128002372</td></tr><tr><td>NULL</td><td>Romantic Comedy</td><td>54235441</td></tr><tr><td>NULL</td><td>Thriller/Suspense</td><td>99883312</td></tr></table>"
                    },
                    "metadata": {}
                }
            ],
            "execution_count": 21
        }
    ]
}