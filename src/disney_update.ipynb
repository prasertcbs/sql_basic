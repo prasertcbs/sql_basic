{
    "metadata": {
        "kernelspec": {
            "name": "SQL",
            "display_name": "SQL",
            "language": "sql"
        },
        "language_info": {
            "name": "sql",
            "version": ""
        }
    },
    "nbformat_minor": 2,
    "nbformat": 4,
    "cells": [
        {
            "cell_type": "markdown",
            "source": [
                "# UPDATE\n",
                "## Server: Microsoft SQL Server\n",
                "## Database: disney\n",
                "## Author: Prasert Kanawattanachai\n",
                "## YouTube: https://youtu.be/5BjCnwZLZ40"
            ],
            "metadata": {}
        },
        {
            "cell_type": "code",
            "source": "drop table if exists movie",
            "metadata": {},
            "outputs": [
                {
                    "output_type": "display_data",
                    "data": {
                        "text/html": "Commands completed successfully."
                    },
                    "metadata": {}
                },
                {
                    "output_type": "display_data",
                    "data": {
                        "text/html": "Total execution time: 00:00:00.080"
                    },
                    "metadata": {}
                }
            ],
            "execution_count": 3
        },
        {
            "cell_type": "markdown",
            "source": "## เอาข้อมูลจากตาราง movie_gross มาสร้างเป็นตารางใหม่ชื่อ movie ",
            "metadata": {}
        },
        {
            "cell_type": "code",
            "source": [
                "select * \n",
                "    into movie\n",
                "    from movie_gross"
            ],
            "metadata": {},
            "outputs": [
                {
                    "output_type": "display_data",
                    "data": {
                        "text/html": "(579 rows affected)"
                    },
                    "metadata": {}
                },
                {
                    "output_type": "display_data",
                    "data": {
                        "text/html": "Total execution time: 00:00:00.138"
                    },
                    "metadata": {}
                }
            ],
            "execution_count": 4
        },
        {
            "cell_type": "code",
            "source": "select top 10 * from movie",
            "metadata": {},
            "outputs": [
                {
                    "output_type": "display_data",
                    "data": {
                        "text/html": "(10 rows affected)"
                    },
                    "metadata": {}
                },
                {
                    "output_type": "display_data",
                    "data": {
                        "text/html": "Total execution time: 00:00:00.055"
                    },
                    "metadata": {}
                },
                {
                    "output_type": "execute_result",
                    "execution_count": 5,
                    "data": {
                        "application/vnd.dataresource+json": {
                            "schema": {
                                "fields": [
                                    {
                                        "name": "movie_title"
                                    },
                                    {
                                        "name": "release_date"
                                    },
                                    {
                                        "name": "genre"
                                    },
                                    {
                                        "name": "mpaa_rating"
                                    },
                                    {
                                        "name": "total_gross"
                                    },
                                    {
                                        "name": "inflation_adjusted_gross"
                                    }
                                ]
                            },
                            "data": [
                                {
                                    "0": "Snow White and the Seven Dwarfs",
                                    "1": "1937-12-21",
                                    "2": "Musical",
                                    "3": "G",
                                    "4": "184925485",
                                    "5": "5228953251"
                                },
                                {
                                    "0": "Pinocchio",
                                    "1": "1940-02-09",
                                    "2": "Adventure",
                                    "3": "G",
                                    "4": "84300000",
                                    "5": "2188229052"
                                },
                                {
                                    "0": "Fantasia",
                                    "1": "1940-11-13",
                                    "2": "Musical",
                                    "3": "G",
                                    "4": "83320000",
                                    "5": "2187090808"
                                },
                                {
                                    "0": "Song of the South",
                                    "1": "1946-11-12",
                                    "2": "Adventure",
                                    "3": "G",
                                    "4": "65000000",
                                    "5": "1078510579"
                                },
                                {
                                    "0": "Cinderella",
                                    "1": "1950-02-15",
                                    "2": "Drama",
                                    "3": "G",
                                    "4": "85000000",
                                    "5": "920608730"
                                },
                                {
                                    "0": "20,000 Leagues Under the Sea",
                                    "1": "1954-12-23",
                                    "2": "Adventure",
                                    "3": "NULL",
                                    "4": "28200000",
                                    "5": "528279994"
                                },
                                {
                                    "0": "Lady and the Tramp",
                                    "1": "1955-06-22",
                                    "2": "Drama",
                                    "3": "G",
                                    "4": "93600000",
                                    "5": "1236035515"
                                },
                                {
                                    "0": "Sleeping Beauty",
                                    "1": "1959-01-29",
                                    "2": "Drama",
                                    "3": "NULL",
                                    "4": "9464608",
                                    "5": "21505832"
                                },
                                {
                                    "0": "101 Dalmatians",
                                    "1": "1961-01-25",
                                    "2": "Comedy",
                                    "3": "G",
                                    "4": "153000000",
                                    "5": "1362870985"
                                },
                                {
                                    "0": "The Absent Minded Professor",
                                    "1": "1961-03-16",
                                    "2": "Comedy",
                                    "3": "NULL",
                                    "4": "25381407",
                                    "5": "310094574"
                                }
                            ]
                        },
                        "text/html": "<table><tr><th>movie_title</th><th>release_date</th><th>genre</th><th>mpaa_rating</th><th>total_gross</th><th>inflation_adjusted_gross</th></tr><tr><td>Snow White and the Seven Dwarfs</td><td>1937-12-21</td><td>Musical</td><td>G</td><td>184925485</td><td>5228953251</td></tr><tr><td>Pinocchio</td><td>1940-02-09</td><td>Adventure</td><td>G</td><td>84300000</td><td>2188229052</td></tr><tr><td>Fantasia</td><td>1940-11-13</td><td>Musical</td><td>G</td><td>83320000</td><td>2187090808</td></tr><tr><td>Song of the South</td><td>1946-11-12</td><td>Adventure</td><td>G</td><td>65000000</td><td>1078510579</td></tr><tr><td>Cinderella</td><td>1950-02-15</td><td>Drama</td><td>G</td><td>85000000</td><td>920608730</td></tr><tr><td>20,000 Leagues Under the Sea</td><td>1954-12-23</td><td>Adventure</td><td>NULL</td><td>28200000</td><td>528279994</td></tr><tr><td>Lady and the Tramp</td><td>1955-06-22</td><td>Drama</td><td>G</td><td>93600000</td><td>1236035515</td></tr><tr><td>Sleeping Beauty</td><td>1959-01-29</td><td>Drama</td><td>NULL</td><td>9464608</td><td>21505832</td></tr><tr><td>101 Dalmatians</td><td>1961-01-25</td><td>Comedy</td><td>G</td><td>153000000</td><td>1362870985</td></tr><tr><td>The Absent Minded Professor</td><td>1961-03-16</td><td>Comedy</td><td>NULL</td><td>25381407</td><td>310094574</td></tr></table>"
                    },
                    "metadata": {}
                }
            ],
            "execution_count": 5
        },
        {
            "cell_type": "markdown",
            "source": "## แปลง movie_title ให้เป็นตัวใหญ่",
            "metadata": {}
        },
        {
            "cell_type": "code",
            "source": [
                "update movie\n",
                "    set movie_title = upper(movie_title)"
            ],
            "metadata": {},
            "outputs": [
                {
                    "output_type": "display_data",
                    "data": {
                        "text/html": "(579 rows affected)"
                    },
                    "metadata": {}
                },
                {
                    "output_type": "display_data",
                    "data": {
                        "text/html": "Total execution time: 00:00:00.156"
                    },
                    "metadata": {}
                }
            ],
            "execution_count": 6
        },
        {
            "cell_type": "code",
            "source": "select top 10 * from movie",
            "metadata": {},
            "outputs": [
                {
                    "output_type": "display_data",
                    "data": {
                        "text/html": "(10 rows affected)"
                    },
                    "metadata": {}
                },
                {
                    "output_type": "display_data",
                    "data": {
                        "text/html": "Total execution time: 00:00:00.060"
                    },
                    "metadata": {}
                },
                {
                    "output_type": "execute_result",
                    "execution_count": 7,
                    "data": {
                        "application/vnd.dataresource+json": {
                            "schema": {
                                "fields": [
                                    {
                                        "name": "movie_title"
                                    },
                                    {
                                        "name": "release_date"
                                    },
                                    {
                                        "name": "genre"
                                    },
                                    {
                                        "name": "mpaa_rating"
                                    },
                                    {
                                        "name": "total_gross"
                                    },
                                    {
                                        "name": "inflation_adjusted_gross"
                                    }
                                ]
                            },
                            "data": [
                                {
                                    "0": "SNOW WHITE AND THE SEVEN DWARFS",
                                    "1": "1937-12-21",
                                    "2": "Musical",
                                    "3": "G",
                                    "4": "184925485",
                                    "5": "5228953251"
                                },
                                {
                                    "0": "PINOCCHIO",
                                    "1": "1940-02-09",
                                    "2": "Adventure",
                                    "3": "G",
                                    "4": "84300000",
                                    "5": "2188229052"
                                },
                                {
                                    "0": "FANTASIA",
                                    "1": "1940-11-13",
                                    "2": "Musical",
                                    "3": "G",
                                    "4": "83320000",
                                    "5": "2187090808"
                                },
                                {
                                    "0": "SONG OF THE SOUTH",
                                    "1": "1946-11-12",
                                    "2": "Adventure",
                                    "3": "G",
                                    "4": "65000000",
                                    "5": "1078510579"
                                },
                                {
                                    "0": "CINDERELLA",
                                    "1": "1950-02-15",
                                    "2": "Drama",
                                    "3": "G",
                                    "4": "85000000",
                                    "5": "920608730"
                                },
                                {
                                    "0": "20,000 LEAGUES UNDER THE SEA",
                                    "1": "1954-12-23",
                                    "2": "Adventure",
                                    "3": "NULL",
                                    "4": "28200000",
                                    "5": "528279994"
                                },
                                {
                                    "0": "LADY AND THE TRAMP",
                                    "1": "1955-06-22",
                                    "2": "Drama",
                                    "3": "G",
                                    "4": "93600000",
                                    "5": "1236035515"
                                },
                                {
                                    "0": "SLEEPING BEAUTY",
                                    "1": "1959-01-29",
                                    "2": "Drama",
                                    "3": "NULL",
                                    "4": "9464608",
                                    "5": "21505832"
                                },
                                {
                                    "0": "101 DALMATIANS",
                                    "1": "1961-01-25",
                                    "2": "Comedy",
                                    "3": "G",
                                    "4": "153000000",
                                    "5": "1362870985"
                                },
                                {
                                    "0": "THE ABSENT MINDED PROFESSOR",
                                    "1": "1961-03-16",
                                    "2": "Comedy",
                                    "3": "NULL",
                                    "4": "25381407",
                                    "5": "310094574"
                                }
                            ]
                        },
                        "text/html": "<table><tr><th>movie_title</th><th>release_date</th><th>genre</th><th>mpaa_rating</th><th>total_gross</th><th>inflation_adjusted_gross</th></tr><tr><td>SNOW WHITE AND THE SEVEN DWARFS</td><td>1937-12-21</td><td>Musical</td><td>G</td><td>184925485</td><td>5228953251</td></tr><tr><td>PINOCCHIO</td><td>1940-02-09</td><td>Adventure</td><td>G</td><td>84300000</td><td>2188229052</td></tr><tr><td>FANTASIA</td><td>1940-11-13</td><td>Musical</td><td>G</td><td>83320000</td><td>2187090808</td></tr><tr><td>SONG OF THE SOUTH</td><td>1946-11-12</td><td>Adventure</td><td>G</td><td>65000000</td><td>1078510579</td></tr><tr><td>CINDERELLA</td><td>1950-02-15</td><td>Drama</td><td>G</td><td>85000000</td><td>920608730</td></tr><tr><td>20,000 LEAGUES UNDER THE SEA</td><td>1954-12-23</td><td>Adventure</td><td>NULL</td><td>28200000</td><td>528279994</td></tr><tr><td>LADY AND THE TRAMP</td><td>1955-06-22</td><td>Drama</td><td>G</td><td>93600000</td><td>1236035515</td></tr><tr><td>SLEEPING BEAUTY</td><td>1959-01-29</td><td>Drama</td><td>NULL</td><td>9464608</td><td>21505832</td></tr><tr><td>101 DALMATIANS</td><td>1961-01-25</td><td>Comedy</td><td>G</td><td>153000000</td><td>1362870985</td></tr><tr><td>THE ABSENT MINDED PROFESSOR</td><td>1961-03-16</td><td>Comedy</td><td>NULL</td><td>25381407</td><td>310094574</td></tr></table>"
                    },
                    "metadata": {}
                }
            ],
            "execution_count": 7
        },
        {
            "cell_type": "markdown",
            "source": "## การ update ค่าหลายคอลัมน์พร้อม ๆ กัน",
            "metadata": {}
        },
        {
            "cell_type": "code",
            "source": [
                "update movie\n",
                "    set movie_title = upper(movie_title), \n",
                "        genre = upper(genre)\n",
                "    where genre = 'adventure'"
            ],
            "metadata": {},
            "outputs": [
                {
                    "output_type": "display_data",
                    "data": {
                        "text/html": "(129 rows affected)"
                    },
                    "metadata": {}
                },
                {
                    "output_type": "display_data",
                    "data": {
                        "text/html": "Total execution time: 00:00:00.207"
                    },
                    "metadata": {}
                }
            ],
            "execution_count": 8
        },
        {
            "cell_type": "code",
            "source": "SELECT top 10 * from movie",
            "metadata": {},
            "outputs": [
                {
                    "output_type": "display_data",
                    "data": {
                        "text/html": "(10 rows affected)"
                    },
                    "metadata": {}
                },
                {
                    "output_type": "display_data",
                    "data": {
                        "text/html": "Total execution time: 00:00:00.055"
                    },
                    "metadata": {}
                },
                {
                    "output_type": "execute_result",
                    "execution_count": 9,
                    "data": {
                        "application/vnd.dataresource+json": {
                            "schema": {
                                "fields": [
                                    {
                                        "name": "movie_title"
                                    },
                                    {
                                        "name": "release_date"
                                    },
                                    {
                                        "name": "genre"
                                    },
                                    {
                                        "name": "mpaa_rating"
                                    },
                                    {
                                        "name": "total_gross"
                                    },
                                    {
                                        "name": "inflation_adjusted_gross"
                                    }
                                ]
                            },
                            "data": [
                                {
                                    "0": "SNOW WHITE AND THE SEVEN DWARFS",
                                    "1": "1937-12-21",
                                    "2": "Musical",
                                    "3": "G",
                                    "4": "184925485",
                                    "5": "5228953251"
                                },
                                {
                                    "0": "PINOCCHIO",
                                    "1": "1940-02-09",
                                    "2": "ADVENTURE",
                                    "3": "G",
                                    "4": "84300000",
                                    "5": "2188229052"
                                },
                                {
                                    "0": "FANTASIA",
                                    "1": "1940-11-13",
                                    "2": "Musical",
                                    "3": "G",
                                    "4": "83320000",
                                    "5": "2187090808"
                                },
                                {
                                    "0": "SONG OF THE SOUTH",
                                    "1": "1946-11-12",
                                    "2": "ADVENTURE",
                                    "3": "G",
                                    "4": "65000000",
                                    "5": "1078510579"
                                },
                                {
                                    "0": "CINDERELLA",
                                    "1": "1950-02-15",
                                    "2": "Drama",
                                    "3": "G",
                                    "4": "85000000",
                                    "5": "920608730"
                                },
                                {
                                    "0": "20,000 LEAGUES UNDER THE SEA",
                                    "1": "1954-12-23",
                                    "2": "ADVENTURE",
                                    "3": "NULL",
                                    "4": "28200000",
                                    "5": "528279994"
                                },
                                {
                                    "0": "LADY AND THE TRAMP",
                                    "1": "1955-06-22",
                                    "2": "Drama",
                                    "3": "G",
                                    "4": "93600000",
                                    "5": "1236035515"
                                },
                                {
                                    "0": "SLEEPING BEAUTY",
                                    "1": "1959-01-29",
                                    "2": "Drama",
                                    "3": "NULL",
                                    "4": "9464608",
                                    "5": "21505832"
                                },
                                {
                                    "0": "101 DALMATIANS",
                                    "1": "1961-01-25",
                                    "2": "Comedy",
                                    "3": "G",
                                    "4": "153000000",
                                    "5": "1362870985"
                                },
                                {
                                    "0": "THE ABSENT MINDED PROFESSOR",
                                    "1": "1961-03-16",
                                    "2": "Comedy",
                                    "3": "NULL",
                                    "4": "25381407",
                                    "5": "310094574"
                                }
                            ]
                        },
                        "text/html": "<table><tr><th>movie_title</th><th>release_date</th><th>genre</th><th>mpaa_rating</th><th>total_gross</th><th>inflation_adjusted_gross</th></tr><tr><td>SNOW WHITE AND THE SEVEN DWARFS</td><td>1937-12-21</td><td>Musical</td><td>G</td><td>184925485</td><td>5228953251</td></tr><tr><td>PINOCCHIO</td><td>1940-02-09</td><td>ADVENTURE</td><td>G</td><td>84300000</td><td>2188229052</td></tr><tr><td>FANTASIA</td><td>1940-11-13</td><td>Musical</td><td>G</td><td>83320000</td><td>2187090808</td></tr><tr><td>SONG OF THE SOUTH</td><td>1946-11-12</td><td>ADVENTURE</td><td>G</td><td>65000000</td><td>1078510579</td></tr><tr><td>CINDERELLA</td><td>1950-02-15</td><td>Drama</td><td>G</td><td>85000000</td><td>920608730</td></tr><tr><td>20,000 LEAGUES UNDER THE SEA</td><td>1954-12-23</td><td>ADVENTURE</td><td>NULL</td><td>28200000</td><td>528279994</td></tr><tr><td>LADY AND THE TRAMP</td><td>1955-06-22</td><td>Drama</td><td>G</td><td>93600000</td><td>1236035515</td></tr><tr><td>SLEEPING BEAUTY</td><td>1959-01-29</td><td>Drama</td><td>NULL</td><td>9464608</td><td>21505832</td></tr><tr><td>101 DALMATIANS</td><td>1961-01-25</td><td>Comedy</td><td>G</td><td>153000000</td><td>1362870985</td></tr><tr><td>THE ABSENT MINDED PROFESSOR</td><td>1961-03-16</td><td>Comedy</td><td>NULL</td><td>25381407</td><td>310094574</td></tr></table>"
                    },
                    "metadata": {}
                }
            ],
            "execution_count": 9
        },
        {
            "cell_type": "markdown",
            "source": "## เพิ่มคอลัมน์ gross_th เพื่อเก็บรายได้ที่เป็นเงินบาทเข้าในตาราง movie ",
            "metadata": {}
        },
        {
            "cell_type": "code",
            "source": "alter table movie add gross_th money null",
            "metadata": {},
            "outputs": [
                {
                    "output_type": "display_data",
                    "data": {
                        "text/html": "Commands completed successfully."
                    },
                    "metadata": {}
                },
                {
                    "output_type": "display_data",
                    "data": {
                        "text/html": "Total execution time: 00:00:00.069"
                    },
                    "metadata": {}
                }
            ],
            "execution_count": 10
        },
        {
            "cell_type": "code",
            "source": "select top 5 * from movie",
            "metadata": {},
            "outputs": [
                {
                    "output_type": "display_data",
                    "data": {
                        "text/html": "(5 rows affected)"
                    },
                    "metadata": {}
                },
                {
                    "output_type": "display_data",
                    "data": {
                        "text/html": "Total execution time: 00:00:00.055"
                    },
                    "metadata": {}
                },
                {
                    "output_type": "execute_result",
                    "execution_count": 11,
                    "data": {
                        "application/vnd.dataresource+json": {
                            "schema": {
                                "fields": [
                                    {
                                        "name": "movie_title"
                                    },
                                    {
                                        "name": "release_date"
                                    },
                                    {
                                        "name": "genre"
                                    },
                                    {
                                        "name": "mpaa_rating"
                                    },
                                    {
                                        "name": "total_gross"
                                    },
                                    {
                                        "name": "inflation_adjusted_gross"
                                    },
                                    {
                                        "name": "gross_th"
                                    }
                                ]
                            },
                            "data": [
                                {
                                    "0": "SNOW WHITE AND THE SEVEN DWARFS",
                                    "1": "1937-12-21",
                                    "2": "Musical",
                                    "3": "G",
                                    "4": "184925485",
                                    "5": "5228953251",
                                    "6": "NULL"
                                },
                                {
                                    "0": "PINOCCHIO",
                                    "1": "1940-02-09",
                                    "2": "ADVENTURE",
                                    "3": "G",
                                    "4": "84300000",
                                    "5": "2188229052",
                                    "6": "NULL"
                                },
                                {
                                    "0": "FANTASIA",
                                    "1": "1940-11-13",
                                    "2": "Musical",
                                    "3": "G",
                                    "4": "83320000",
                                    "5": "2187090808",
                                    "6": "NULL"
                                },
                                {
                                    "0": "SONG OF THE SOUTH",
                                    "1": "1946-11-12",
                                    "2": "ADVENTURE",
                                    "3": "G",
                                    "4": "65000000",
                                    "5": "1078510579",
                                    "6": "NULL"
                                },
                                {
                                    "0": "CINDERELLA",
                                    "1": "1950-02-15",
                                    "2": "Drama",
                                    "3": "G",
                                    "4": "85000000",
                                    "5": "920608730",
                                    "6": "NULL"
                                }
                            ]
                        },
                        "text/html": "<table><tr><th>movie_title</th><th>release_date</th><th>genre</th><th>mpaa_rating</th><th>total_gross</th><th>inflation_adjusted_gross</th><th>gross_th</th></tr><tr><td>SNOW WHITE AND THE SEVEN DWARFS</td><td>1937-12-21</td><td>Musical</td><td>G</td><td>184925485</td><td>5228953251</td><td>NULL</td></tr><tr><td>PINOCCHIO</td><td>1940-02-09</td><td>ADVENTURE</td><td>G</td><td>84300000</td><td>2188229052</td><td>NULL</td></tr><tr><td>FANTASIA</td><td>1940-11-13</td><td>Musical</td><td>G</td><td>83320000</td><td>2187090808</td><td>NULL</td></tr><tr><td>SONG OF THE SOUTH</td><td>1946-11-12</td><td>ADVENTURE</td><td>G</td><td>65000000</td><td>1078510579</td><td>NULL</td></tr><tr><td>CINDERELLA</td><td>1950-02-15</td><td>Drama</td><td>G</td><td>85000000</td><td>920608730</td><td>NULL</td></tr></table>"
                    },
                    "metadata": {}
                }
            ],
            "execution_count": 11
        },
        {
            "cell_type": "markdown",
            "source": "## ปรับค่าในคอลัมน์ gross_th ให้เท่ากับ inflation_adjusted_gross * 31",
            "metadata": {}
        },
        {
            "cell_type": "code",
            "source": [
                "update movie \n",
                "    set gross_th = inflation_adjusted_gross * 31"
            ],
            "metadata": {},
            "outputs": [
                {
                    "output_type": "display_data",
                    "data": {
                        "text/html": "(579 rows affected)"
                    },
                    "metadata": {}
                },
                {
                    "output_type": "display_data",
                    "data": {
                        "text/html": "Total execution time: 00:00:00.118"
                    },
                    "metadata": {}
                }
            ],
            "execution_count": 12
        },
        {
            "cell_type": "code",
            "source": "select top 5 * from movie",
            "metadata": {},
            "outputs": [
                {
                    "output_type": "display_data",
                    "data": {
                        "text/html": "(5 rows affected)"
                    },
                    "metadata": {}
                },
                {
                    "output_type": "display_data",
                    "data": {
                        "text/html": "Total execution time: 00:00:00.087"
                    },
                    "metadata": {}
                },
                {
                    "output_type": "execute_result",
                    "execution_count": 13,
                    "data": {
                        "application/vnd.dataresource+json": {
                            "schema": {
                                "fields": [
                                    {
                                        "name": "movie_title"
                                    },
                                    {
                                        "name": "release_date"
                                    },
                                    {
                                        "name": "genre"
                                    },
                                    {
                                        "name": "mpaa_rating"
                                    },
                                    {
                                        "name": "total_gross"
                                    },
                                    {
                                        "name": "inflation_adjusted_gross"
                                    },
                                    {
                                        "name": "gross_th"
                                    }
                                ]
                            },
                            "data": [
                                {
                                    "0": "SNOW WHITE AND THE SEVEN DWARFS",
                                    "1": "1937-12-21",
                                    "2": "Musical",
                                    "3": "G",
                                    "4": "184925485",
                                    "5": "5228953251",
                                    "6": "162097550781.0000"
                                },
                                {
                                    "0": "PINOCCHIO",
                                    "1": "1940-02-09",
                                    "2": "ADVENTURE",
                                    "3": "G",
                                    "4": "84300000",
                                    "5": "2188229052",
                                    "6": "67835100612.0000"
                                },
                                {
                                    "0": "FANTASIA",
                                    "1": "1940-11-13",
                                    "2": "Musical",
                                    "3": "G",
                                    "4": "83320000",
                                    "5": "2187090808",
                                    "6": "67799815048.0000"
                                },
                                {
                                    "0": "SONG OF THE SOUTH",
                                    "1": "1946-11-12",
                                    "2": "ADVENTURE",
                                    "3": "G",
                                    "4": "65000000",
                                    "5": "1078510579",
                                    "6": "33433827949.0000"
                                },
                                {
                                    "0": "CINDERELLA",
                                    "1": "1950-02-15",
                                    "2": "Drama",
                                    "3": "G",
                                    "4": "85000000",
                                    "5": "920608730",
                                    "6": "28538870630.0000"
                                }
                            ]
                        },
                        "text/html": "<table><tr><th>movie_title</th><th>release_date</th><th>genre</th><th>mpaa_rating</th><th>total_gross</th><th>inflation_adjusted_gross</th><th>gross_th</th></tr><tr><td>SNOW WHITE AND THE SEVEN DWARFS</td><td>1937-12-21</td><td>Musical</td><td>G</td><td>184925485</td><td>5228953251</td><td>162097550781.0000</td></tr><tr><td>PINOCCHIO</td><td>1940-02-09</td><td>ADVENTURE</td><td>G</td><td>84300000</td><td>2188229052</td><td>67835100612.0000</td></tr><tr><td>FANTASIA</td><td>1940-11-13</td><td>Musical</td><td>G</td><td>83320000</td><td>2187090808</td><td>67799815048.0000</td></tr><tr><td>SONG OF THE SOUTH</td><td>1946-11-12</td><td>ADVENTURE</td><td>G</td><td>65000000</td><td>1078510579</td><td>33433827949.0000</td></tr><tr><td>CINDERELLA</td><td>1950-02-15</td><td>Drama</td><td>G</td><td>85000000</td><td>920608730</td><td>28538870630.0000</td></tr></table>"
                    },
                    "metadata": {}
                }
            ],
            "execution_count": 13
        },
        {
            "cell_type": "markdown",
            "source": "## เพิ่มคอลัมน์ mpaa เพื่อเก็บชื่อเต็มของ mpaa_rating ของหนัง",
            "metadata": {}
        },
        {
            "cell_type": "code",
            "source": "alter table movie add mpaa varchar(255) null",
            "metadata": {},
            "outputs": [
                {
                    "output_type": "display_data",
                    "data": {
                        "text/html": "Commands completed successfully."
                    },
                    "metadata": {}
                },
                {
                    "output_type": "display_data",
                    "data": {
                        "text/html": "Total execution time: 00:00:00.059"
                    },
                    "metadata": {}
                }
            ],
            "execution_count": 14
        },
        {
            "cell_type": "code",
            "source": "select top 20 * from movie",
            "metadata": {},
            "outputs": [
                {
                    "output_type": "display_data",
                    "data": {
                        "text/html": "(20 rows affected)"
                    },
                    "metadata": {}
                },
                {
                    "output_type": "display_data",
                    "data": {
                        "text/html": "Total execution time: 00:00:00.065"
                    },
                    "metadata": {}
                },
                {
                    "output_type": "execute_result",
                    "execution_count": 15,
                    "data": {
                        "application/vnd.dataresource+json": {
                            "schema": {
                                "fields": [
                                    {
                                        "name": "movie_title"
                                    },
                                    {
                                        "name": "release_date"
                                    },
                                    {
                                        "name": "genre"
                                    },
                                    {
                                        "name": "mpaa_rating"
                                    },
                                    {
                                        "name": "total_gross"
                                    },
                                    {
                                        "name": "inflation_adjusted_gross"
                                    },
                                    {
                                        "name": "gross_th"
                                    },
                                    {
                                        "name": "mpaa"
                                    }
                                ]
                            },
                            "data": [
                                {
                                    "0": "SNOW WHITE AND THE SEVEN DWARFS",
                                    "1": "1937-12-21",
                                    "2": "Musical",
                                    "3": "G",
                                    "4": "184925485",
                                    "5": "5228953251",
                                    "6": "162097550781.0000",
                                    "7": "NULL"
                                },
                                {
                                    "0": "PINOCCHIO",
                                    "1": "1940-02-09",
                                    "2": "ADVENTURE",
                                    "3": "G",
                                    "4": "84300000",
                                    "5": "2188229052",
                                    "6": "67835100612.0000",
                                    "7": "NULL"
                                },
                                {
                                    "0": "FANTASIA",
                                    "1": "1940-11-13",
                                    "2": "Musical",
                                    "3": "G",
                                    "4": "83320000",
                                    "5": "2187090808",
                                    "6": "67799815048.0000",
                                    "7": "NULL"
                                },
                                {
                                    "0": "SONG OF THE SOUTH",
                                    "1": "1946-11-12",
                                    "2": "ADVENTURE",
                                    "3": "G",
                                    "4": "65000000",
                                    "5": "1078510579",
                                    "6": "33433827949.0000",
                                    "7": "NULL"
                                },
                                {
                                    "0": "CINDERELLA",
                                    "1": "1950-02-15",
                                    "2": "Drama",
                                    "3": "G",
                                    "4": "85000000",
                                    "5": "920608730",
                                    "6": "28538870630.0000",
                                    "7": "NULL"
                                },
                                {
                                    "0": "20,000 LEAGUES UNDER THE SEA",
                                    "1": "1954-12-23",
                                    "2": "ADVENTURE",
                                    "3": "NULL",
                                    "4": "28200000",
                                    "5": "528279994",
                                    "6": "16376679814.0000",
                                    "7": "NULL"
                                },
                                {
                                    "0": "LADY AND THE TRAMP",
                                    "1": "1955-06-22",
                                    "2": "Drama",
                                    "3": "G",
                                    "4": "93600000",
                                    "5": "1236035515",
                                    "6": "38317100965.0000",
                                    "7": "NULL"
                                },
                                {
                                    "0": "SLEEPING BEAUTY",
                                    "1": "1959-01-29",
                                    "2": "Drama",
                                    "3": "NULL",
                                    "4": "9464608",
                                    "5": "21505832",
                                    "6": "666680792.0000",
                                    "7": "NULL"
                                },
                                {
                                    "0": "101 DALMATIANS",
                                    "1": "1961-01-25",
                                    "2": "Comedy",
                                    "3": "G",
                                    "4": "153000000",
                                    "5": "1362870985",
                                    "6": "42249000535.0000",
                                    "7": "NULL"
                                },
                                {
                                    "0": "THE ABSENT MINDED PROFESSOR",
                                    "1": "1961-03-16",
                                    "2": "Comedy",
                                    "3": "NULL",
                                    "4": "25381407",
                                    "5": "310094574",
                                    "6": "9612931794.0000",
                                    "7": "NULL"
                                },
                                {
                                    "0": "BABES IN TOYLAND",
                                    "1": "1961-12-14",
                                    "2": "Musical",
                                    "3": "G",
                                    "4": "10218316",
                                    "5": "124841160",
                                    "6": "3870075960.0000",
                                    "7": "NULL"
                                },
                                {
                                    "0": "BON VOYAGE!",
                                    "1": "1962-05-17",
                                    "2": "Comedy",
                                    "3": "Not Rated",
                                    "4": "9230769",
                                    "5": "109581646",
                                    "6": "3397031026.0000",
                                    "7": "NULL"
                                },
                                {
                                    "0": "THE SWORD IN THE STONE",
                                    "1": "1963-12-25",
                                    "2": "ADVENTURE",
                                    "3": "NULL",
                                    "4": "22182353",
                                    "5": "153870834",
                                    "6": "4769995854.0000",
                                    "7": "NULL"
                                },
                                {
                                    "0": "THE JUNGLE BOOK",
                                    "1": "1967-10-18",
                                    "2": "Musical",
                                    "3": "Not Rated",
                                    "4": "141843000",
                                    "5": "789612346",
                                    "6": "24477982726.0000",
                                    "7": "NULL"
                                },
                                {
                                    "0": "BLACKBEARD'S GHOST",
                                    "1": "1968-02-08",
                                    "2": "Comedy",
                                    "3": "NULL",
                                    "4": "21540050",
                                    "5": "138612686",
                                    "6": "4296993266.0000",
                                    "7": "NULL"
                                },
                                {
                                    "0": "THE ARISTOCATS",
                                    "1": "1970-04-24",
                                    "2": "Musical",
                                    "3": "G",
                                    "4": "55675257",
                                    "5": "255161499",
                                    "6": "7910006469.0000",
                                    "7": "NULL"
                                },
                                {
                                    "0": "THE BOATNIKS",
                                    "1": "1970-07-01",
                                    "2": "Comedy",
                                    "3": "NULL",
                                    "4": "18607492",
                                    "5": "101200742",
                                    "6": "3137223002.0000",
                                    "7": "NULL"
                                },
                                {
                                    "0": "BEDKNOBS AND BROOMSTICKS",
                                    "1": "1971-10-07",
                                    "2": "Musical",
                                    "3": "NULL",
                                    "4": "17871174",
                                    "5": "91305448",
                                    "6": "2830468888.0000",
                                    "7": "NULL"
                                },
                                {
                                    "0": "THE APPLE DUMPLING GANG",
                                    "1": "1975-07-01",
                                    "2": "Comedy",
                                    "3": "NULL",
                                    "4": "31916500",
                                    "5": "131246872",
                                    "6": "4068653032.0000",
                                    "7": "NULL"
                                },
                                {
                                    "0": "FREAKY FRIDAY",
                                    "1": "1977-01-21",
                                    "2": "Comedy",
                                    "3": "NULL",
                                    "4": "25942000",
                                    "5": "98067733",
                                    "6": "3040099723.0000",
                                    "7": "NULL"
                                }
                            ]
                        },
                        "text/html": "<table><tr><th>movie_title</th><th>release_date</th><th>genre</th><th>mpaa_rating</th><th>total_gross</th><th>inflation_adjusted_gross</th><th>gross_th</th><th>mpaa</th></tr><tr><td>SNOW WHITE AND THE SEVEN DWARFS</td><td>1937-12-21</td><td>Musical</td><td>G</td><td>184925485</td><td>5228953251</td><td>162097550781.0000</td><td>NULL</td></tr><tr><td>PINOCCHIO</td><td>1940-02-09</td><td>ADVENTURE</td><td>G</td><td>84300000</td><td>2188229052</td><td>67835100612.0000</td><td>NULL</td></tr><tr><td>FANTASIA</td><td>1940-11-13</td><td>Musical</td><td>G</td><td>83320000</td><td>2187090808</td><td>67799815048.0000</td><td>NULL</td></tr><tr><td>SONG OF THE SOUTH</td><td>1946-11-12</td><td>ADVENTURE</td><td>G</td><td>65000000</td><td>1078510579</td><td>33433827949.0000</td><td>NULL</td></tr><tr><td>CINDERELLA</td><td>1950-02-15</td><td>Drama</td><td>G</td><td>85000000</td><td>920608730</td><td>28538870630.0000</td><td>NULL</td></tr><tr><td>20,000 LEAGUES UNDER THE SEA</td><td>1954-12-23</td><td>ADVENTURE</td><td>NULL</td><td>28200000</td><td>528279994</td><td>16376679814.0000</td><td>NULL</td></tr><tr><td>LADY AND THE TRAMP</td><td>1955-06-22</td><td>Drama</td><td>G</td><td>93600000</td><td>1236035515</td><td>38317100965.0000</td><td>NULL</td></tr><tr><td>SLEEPING BEAUTY</td><td>1959-01-29</td><td>Drama</td><td>NULL</td><td>9464608</td><td>21505832</td><td>666680792.0000</td><td>NULL</td></tr><tr><td>101 DALMATIANS</td><td>1961-01-25</td><td>Comedy</td><td>G</td><td>153000000</td><td>1362870985</td><td>42249000535.0000</td><td>NULL</td></tr><tr><td>THE ABSENT MINDED PROFESSOR</td><td>1961-03-16</td><td>Comedy</td><td>NULL</td><td>25381407</td><td>310094574</td><td>9612931794.0000</td><td>NULL</td></tr><tr><td>BABES IN TOYLAND</td><td>1961-12-14</td><td>Musical</td><td>G</td><td>10218316</td><td>124841160</td><td>3870075960.0000</td><td>NULL</td></tr><tr><td>BON VOYAGE!</td><td>1962-05-17</td><td>Comedy</td><td>Not Rated</td><td>9230769</td><td>109581646</td><td>3397031026.0000</td><td>NULL</td></tr><tr><td>THE SWORD IN THE STONE</td><td>1963-12-25</td><td>ADVENTURE</td><td>NULL</td><td>22182353</td><td>153870834</td><td>4769995854.0000</td><td>NULL</td></tr><tr><td>THE JUNGLE BOOK</td><td>1967-10-18</td><td>Musical</td><td>Not Rated</td><td>141843000</td><td>789612346</td><td>24477982726.0000</td><td>NULL</td></tr><tr><td>BLACKBEARD'S GHOST</td><td>1968-02-08</td><td>Comedy</td><td>NULL</td><td>21540050</td><td>138612686</td><td>4296993266.0000</td><td>NULL</td></tr><tr><td>THE ARISTOCATS</td><td>1970-04-24</td><td>Musical</td><td>G</td><td>55675257</td><td>255161499</td><td>7910006469.0000</td><td>NULL</td></tr><tr><td>THE BOATNIKS</td><td>1970-07-01</td><td>Comedy</td><td>NULL</td><td>18607492</td><td>101200742</td><td>3137223002.0000</td><td>NULL</td></tr><tr><td>BEDKNOBS AND BROOMSTICKS</td><td>1971-10-07</td><td>Musical</td><td>NULL</td><td>17871174</td><td>91305448</td><td>2830468888.0000</td><td>NULL</td></tr><tr><td>THE APPLE DUMPLING GANG</td><td>1975-07-01</td><td>Comedy</td><td>NULL</td><td>31916500</td><td>131246872</td><td>4068653032.0000</td><td>NULL</td></tr><tr><td>FREAKY FRIDAY</td><td>1977-01-21</td><td>Comedy</td><td>NULL</td><td>25942000</td><td>98067733</td><td>3040099723.0000</td><td>NULL</td></tr></table>"
                    },
                    "metadata": {}
                }
            ],
            "execution_count": 15
        },
        {
            "cell_type": "markdown",
            "source": "## update ค่าในคอลัมน์ mpaa ",
            "metadata": {}
        },
        {
            "cell_type": "code",
            "source": [
                "update movie\n",
                "    set mpaa =\n",
                "        case mpaa_rating\n",
                "            when 'G' then 'General audiences'\n",
                "            when 'PG' then 'Parental Guidance'\n",
                "            when 'PG-13' then 'Parental Guidance-13'\n",
                "            when 'R' then 'Restricted'\n",
                "            else mpaa_rating\n",
                "        end"
            ],
            "metadata": {},
            "outputs": [
                {
                    "output_type": "display_data",
                    "data": {
                        "text/html": "(579 rows affected)"
                    },
                    "metadata": {}
                },
                {
                    "output_type": "display_data",
                    "data": {
                        "text/html": "Total execution time: 00:00:00.150"
                    },
                    "metadata": {}
                }
            ],
            "execution_count": 16
        },
        {
            "cell_type": "code",
            "source": "select movie_title, mpaa_rating, mpaa from movie",
            "metadata": {},
            "outputs": [
                {
                    "output_type": "display_data",
                    "data": {
                        "text/html": "(579 rows affected)"
                    },
                    "metadata": {}
                },
                {
                    "output_type": "display_data",
                    "data": {
                        "text/html": "Total execution time: 00:00:00.070"
                    },
                    "metadata": {}
                },
                {
                    "output_type": "execute_result",
                    "execution_count": 17,
                    "data": {
                        "application/vnd.dataresource+json": {
                            "schema": {
                                "fields": [
                                    {
                                        "name": "movie_title"
                                    },
                                    {
                                        "name": "mpaa_rating"
                                    },
                                    {
                                        "name": "mpaa"
                                    }
                                ]
                            },
                            "data": [
                                {
                                    "0": "SNOW WHITE AND THE SEVEN DWARFS",
                                    "1": "G",
                                    "2": "General audiences"
                                },
                                {
                                    "0": "PINOCCHIO",
                                    "1": "G",
                                    "2": "General audiences"
                                },
                                {
                                    "0": "FANTASIA",
                                    "1": "G",
                                    "2": "General audiences"
                                },
                                {
                                    "0": "SONG OF THE SOUTH",
                                    "1": "G",
                                    "2": "General audiences"
                                },
                                {
                                    "0": "CINDERELLA",
                                    "1": "G",
                                    "2": "General audiences"
                                },
                                {
                                    "0": "20,000 LEAGUES UNDER THE SEA",
                                    "1": "NULL",
                                    "2": "NULL"
                                },
                                {
                                    "0": "LADY AND THE TRAMP",
                                    "1": "G",
                                    "2": "General audiences"
                                },
                                {
                                    "0": "SLEEPING BEAUTY",
                                    "1": "NULL",
                                    "2": "NULL"
                                },
                                {
                                    "0": "101 DALMATIANS",
                                    "1": "G",
                                    "2": "General audiences"
                                },
                                {
                                    "0": "THE ABSENT MINDED PROFESSOR",
                                    "1": "NULL",
                                    "2": "NULL"
                                },
                                {
                                    "0": "BABES IN TOYLAND",
                                    "1": "G",
                                    "2": "General audiences"
                                },
                                {
                                    "0": "BON VOYAGE!",
                                    "1": "Not Rated",
                                    "2": "Not Rated"
                                },
                                {
                                    "0": "THE SWORD IN THE STONE",
                                    "1": "NULL",
                                    "2": "NULL"
                                },
                                {
                                    "0": "THE JUNGLE BOOK",
                                    "1": "Not Rated",
                                    "2": "Not Rated"
                                },
                                {
                                    "0": "BLACKBEARD'S GHOST",
                                    "1": "NULL",
                                    "2": "NULL"
                                },
                                {
                                    "0": "THE ARISTOCATS",
                                    "1": "G",
                                    "2": "General audiences"
                                },
                                {
                                    "0": "THE BOATNIKS",
                                    "1": "NULL",
                                    "2": "NULL"
                                },
                                {
                                    "0": "BEDKNOBS AND BROOMSTICKS",
                                    "1": "NULL",
                                    "2": "NULL"
                                },
                                {
                                    "0": "THE APPLE DUMPLING GANG",
                                    "1": "NULL",
                                    "2": "NULL"
                                },
                                {
                                    "0": "FREAKY FRIDAY",
                                    "1": "NULL",
                                    "2": "NULL"
                                },
                                {
                                    "0": "THE MANY ADVENTURES OF WINNIE THE POOH",
                                    "1": "NULL",
                                    "2": "NULL"
                                },
                                {
                                    "0": "THE RESCUERS",
                                    "1": "NULL",
                                    "2": "NULL"
                                },
                                {
                                    "0": "HERBIE GOES TO MONTE CARLO",
                                    "1": "NULL",
                                    "2": "NULL"
                                },
                                {
                                    "0": "THE BLACK HOLE",
                                    "1": "NULL",
                                    "2": "NULL"
                                },
                                {
                                    "0": "MIDNIGHT MADNESS",
                                    "1": "NULL",
                                    "2": "NULL"
                                },
                                {
                                    "0": "THE LAST FLIGHT OF NOAH’S ARK",
                                    "1": "NULL",
                                    "2": "NULL"
                                },
                                {
                                    "0": "THE DEVIL AND MAX DEVLIN",
                                    "1": "NULL",
                                    "2": "NULL"
                                },
                                {
                                    "0": "AMY",
                                    "1": "NULL",
                                    "2": "NULL"
                                },
                                {
                                    "0": "THE FOX AND THE HOUND",
                                    "1": "NULL",
                                    "2": "NULL"
                                },
                                {
                                    "0": "CONDORMAN",
                                    "1": "NULL",
                                    "2": "NULL"
                                },
                                {
                                    "0": "NIGHT CROSSING",
                                    "1": "NULL",
                                    "2": "NULL"
                                },
                                {
                                    "0": "TRON",
                                    "1": "NULL",
                                    "2": "NULL"
                                },
                                {
                                    "0": "TEX",
                                    "1": "NULL",
                                    "2": "NULL"
                                },
                                {
                                    "0": "TRENCHCOAT",
                                    "1": "NULL",
                                    "2": "NULL"
                                },
                                {
                                    "0": "SOMETHING WICKED THIS WAY COMES",
                                    "1": "NULL",
                                    "2": "NULL"
                                },
                                {
                                    "0": "NEVER CRY WOLF",
                                    "1": "NULL",
                                    "2": "NULL"
                                },
                                {
                                    "0": "RUNNING BRAVE",
                                    "1": "NULL",
                                    "2": "NULL"
                                },
                                {
                                    "0": "SPLASH",
                                    "1": "PG",
                                    "2": "Parental Guidance"
                                },
                                {
                                    "0": "COUNTRY",
                                    "1": "NULL",
                                    "2": "NULL"
                                },
                                {
                                    "0": "BABY: SECRET OF THE LOST LEGEND",
                                    "1": "NULL",
                                    "2": "NULL"
                                },
                                {
                                    "0": "RETURN TO OZ",
                                    "1": "NULL",
                                    "2": "NULL"
                                },
                                {
                                    "0": "THE BLACK CAULDRON",
                                    "1": "NULL",
                                    "2": "NULL"
                                },
                                {
                                    "0": "MY SCIENCE PROJECT",
                                    "1": "NULL",
                                    "2": "NULL"
                                },
                                {
                                    "0": "THE JOURNEY OF NATTY GANN",
                                    "1": "NULL",
                                    "2": "NULL"
                                },
                                {
                                    "0": "ONE MAGIC CHRISTMAS",
                                    "1": "NULL",
                                    "2": "NULL"
                                },
                                {
                                    "0": "DOWN AND OUT IN BEVERLY HILLS",
                                    "1": "R",
                                    "2": "Restricted"
                                },
                                {
                                    "0": "OFF BEAT",
                                    "1": "NULL",
                                    "2": "NULL"
                                },
                                {
                                    "0": "RUTHLESS PEOPLE",
                                    "1": "R",
                                    "2": "Restricted"
                                },
                                {
                                    "0": "THE GREAT MOUSE DETECTIVE",
                                    "1": "NULL",
                                    "2": "NULL"
                                },
                                {
                                    "0": "FLIGHT OF THE NAVIGATOR",
                                    "1": "NULL",
                                    "2": "NULL"
                                },
                                {
                                    "0": "TOUGH GUYS",
                                    "1": "NULL",
                                    "2": "NULL"
                                },
                                {
                                    "0": "THE COLOR OF MONEY",
                                    "1": "R",
                                    "2": "Restricted"
                                },
                                {
                                    "0": "OUTRAGEOUS FORTUNE",
                                    "1": "R",
                                    "2": "Restricted"
                                },
                                {
                                    "0": "TIN MEN",
                                    "1": "NULL",
                                    "2": "NULL"
                                },
                                {
                                    "0": "ERNEST GOES TO CAMP",
                                    "1": "NULL",
                                    "2": "NULL"
                                },
                                {
                                    "0": "BENJI THE HUNTED",
                                    "1": "NULL",
                                    "2": "NULL"
                                },
                                {
                                    "0": "ADVENTURES IN BABYSITTING",
                                    "1": "NULL",
                                    "2": "NULL"
                                },
                                {
                                    "0": "STAKEOUT",
                                    "1": "R",
                                    "2": "Restricted"
                                },
                                {
                                    "0": "CAN'T BUY ME LOVE",
                                    "1": "NULL",
                                    "2": "NULL"
                                },
                                {
                                    "0": "HELLO AGAIN",
                                    "1": "NULL",
                                    "2": "NULL"
                                },
                                {
                                    "0": "3 MEN AND A BABY",
                                    "1": "PG",
                                    "2": "Parental Guidance"
                                },
                                {
                                    "0": "GOOD MORNING VIETNAM",
                                    "1": "R",
                                    "2": "Restricted"
                                },
                                {
                                    "0": "SHOOT TO KILL",
                                    "1": "NULL",
                                    "2": "NULL"
                                },
                                {
                                    "0": "D.O.A.",
                                    "1": "NULL",
                                    "2": "NULL"
                                },
                                {
                                    "0": "RETURN TO SNOWY RIVER",
                                    "1": "PG",
                                    "2": "Parental Guidance"
                                },
                                {
                                    "0": "BIG BUSINESS",
                                    "1": "PG",
                                    "2": "Parental Guidance"
                                },
                                {
                                    "0": "WHO FRAMED ROGER RABBIT?",
                                    "1": "PG",
                                    "2": "Parental Guidance"
                                },
                                {
                                    "0": "COCKTAIL",
                                    "1": "R",
                                    "2": "Restricted"
                                },
                                {
                                    "0": "THE RESCUE",
                                    "1": "NULL",
                                    "2": "NULL"
                                },
                                {
                                    "0": "HEARTBREAK HOTEL",
                                    "1": "NULL",
                                    "2": "NULL"
                                },
                                {
                                    "0": "THE GOOD MOTHER",
                                    "1": "NULL",
                                    "2": "NULL"
                                },
                                {
                                    "0": "ERNEST SAVES CHRISTMAS",
                                    "1": "PG",
                                    "2": "Parental Guidance"
                                },
                                {
                                    "0": "OLIVER & COMPANY",
                                    "1": "G",
                                    "2": "General audiences"
                                },
                                {
                                    "0": "BEACHES",
                                    "1": "PG-13",
                                    "2": "Parental Guidance-13"
                                },
                                {
                                    "0": "THREE FUGITIVES",
                                    "1": "PG-13",
                                    "2": "Parental Guidance-13"
                                },
                                {
                                    "0": "NEW YORK STORIES",
                                    "1": "PG",
                                    "2": "Parental Guidance"
                                },
                                {
                                    "0": "DISORGANIZED CRIME",
                                    "1": "NULL",
                                    "2": "NULL"
                                },
                                {
                                    "0": "DEAD POETS SOCIETY",
                                    "1": "PG",
                                    "2": "Parental Guidance"
                                },
                                {
                                    "0": "HONEY, I SHRUNK THE KIDS",
                                    "1": "PG",
                                    "2": "Parental Guidance"
                                },
                                {
                                    "0": "TURNER & HOOCH",
                                    "1": "PG",
                                    "2": "Parental Guidance"
                                },
                                {
                                    "0": "CHEETAH",
                                    "1": "NULL",
                                    "2": "NULL"
                                },
                                {
                                    "0": "AN INNOCENT MAN",
                                    "1": "R",
                                    "2": "Restricted"
                                },
                                {
                                    "0": "GROSS ANATOMY",
                                    "1": "PG-13",
                                    "2": "Parental Guidance-13"
                                },
                                {
                                    "0": "THE LITTLE MERMAID",
                                    "1": "G",
                                    "2": "General audiences"
                                },
                                {
                                    "0": "BLAZE",
                                    "1": "R",
                                    "2": "Restricted"
                                },
                                {
                                    "0": "STELLA",
                                    "1": "PG-13",
                                    "2": "Parental Guidance-13"
                                },
                                {
                                    "0": "WHERE THE HEART IS",
                                    "1": "NULL",
                                    "2": "NULL"
                                },
                                {
                                    "0": "PRETTY WOMAN",
                                    "1": "R",
                                    "2": "Restricted"
                                },
                                {
                                    "0": "ERNEST GOES TO JAIL",
                                    "1": "PG",
                                    "2": "Parental Guidance"
                                },
                                {
                                    "0": "SPACED INVADERS",
                                    "1": "PG",
                                    "2": "Parental Guidance"
                                },
                                {
                                    "0": "FIRE BIRDS",
                                    "1": "PG-13",
                                    "2": "Parental Guidance-13"
                                },
                                {
                                    "0": "DICK TRACY",
                                    "1": "PG",
                                    "2": "Parental Guidance"
                                },
                                {
                                    "0": "BETSY'S WEDDING",
                                    "1": "R",
                                    "2": "Restricted"
                                },
                                {
                                    "0": "ARACHNOPHOBIA",
                                    "1": "PG-13",
                                    "2": "Parental Guidance-13"
                                },
                                {
                                    "0": "DUCKTALES: THE MOVIE - TREASURE OF TH…",
                                    "1": "G",
                                    "2": "General audiences"
                                },
                                {
                                    "0": "TAKING CARE OF BUSINESS",
                                    "1": "R",
                                    "2": "Restricted"
                                },
                                {
                                    "0": "MR. DESTINY",
                                    "1": "PG-13",
                                    "2": "Parental Guidance-13"
                                },
                                {
                                    "0": "THE RESCUERS DOWN UNDER",
                                    "1": "G",
                                    "2": "General audiences"
                                },
                                {
                                    "0": "3 MEN AND A LITTLE LADY",
                                    "1": "PG",
                                    "2": "Parental Guidance"
                                },
                                {
                                    "0": "GREEN CARD",
                                    "1": "PG-13",
                                    "2": "Parental Guidance-13"
                                },
                                {
                                    "0": "WHITE FANG",
                                    "1": "PG",
                                    "2": "Parental Guidance"
                                },
                                {
                                    "0": "SCENES FROM A MALL",
                                    "1": "NULL",
                                    "2": "NULL"
                                },
                                {
                                    "0": "HAAKON HAAKONSEN",
                                    "1": "PG",
                                    "2": "Parental Guidance"
                                },
                                {
                                    "0": "THE MARRYING MAN",
                                    "1": "R",
                                    "2": "Restricted"
                                },
                                {
                                    "0": "OSCAR",
                                    "1": "PG",
                                    "2": "Parental Guidance"
                                },
                                {
                                    "0": "ONE GOOD COP",
                                    "1": "R",
                                    "2": "Restricted"
                                },
                                {
                                    "0": "WHAT ABOUT BOB?",
                                    "1": "PG",
                                    "2": "Parental Guidance"
                                },
                                {
                                    "0": "WILD HEARTS CAN'T BE BROKEN",
                                    "1": "NULL",
                                    "2": "NULL"
                                },
                                {
                                    "0": "THE ROCKETEER",
                                    "1": "PG",
                                    "2": "Parental Guidance"
                                },
                                {
                                    "0": "THE DOCTOR",
                                    "1": "PG-13",
                                    "2": "Parental Guidance-13"
                                },
                                {
                                    "0": "PARADISE",
                                    "1": "PG-13",
                                    "2": "Parental Guidance-13"
                                },
                                {
                                    "0": "DECEIVED",
                                    "1": "PG-13",
                                    "2": "Parental Guidance-13"
                                },
                                {
                                    "0": "ERNEST SCARED STUPID",
                                    "1": "PG",
                                    "2": "Parental Guidance"
                                },
                                {
                                    "0": "BILLY BATHGATE",
                                    "1": "R",
                                    "2": "Restricted"
                                },
                                {
                                    "0": "BEAUTY AND THE BEAST",
                                    "1": "G",
                                    "2": "General audiences"
                                },
                                {
                                    "0": "FATHER OF THE BRIDE",
                                    "1": "PG",
                                    "2": "Parental Guidance"
                                },
                                {
                                    "0": "THE HAND THAT ROCKS THE CRADLE",
                                    "1": "R",
                                    "2": "Restricted"
                                },
                                {
                                    "0": "MEDICINE MAN",
                                    "1": "PG-13",
                                    "2": "Parental Guidance-13"
                                },
                                {
                                    "0": "BLAME IT ON THE BELLBOY",
                                    "1": "PG-13",
                                    "2": "Parental Guidance-13"
                                },
                                {
                                    "0": "NOISES OFF...",
                                    "1": "PG-13",
                                    "2": "Parental Guidance-13"
                                },
                                {
                                    "0": "STRAIGHT TALK",
                                    "1": "PG",
                                    "2": "Parental Guidance"
                                },
                                {
                                    "0": "NEWSIES",
                                    "1": "PG",
                                    "2": "Parental Guidance"
                                },
                                {
                                    "0": "PASSED AWAY",
                                    "1": "PG-13",
                                    "2": "Parental Guidance-13"
                                },
                                {
                                    "0": "ENCINO MAN",
                                    "1": "PG",
                                    "2": "Parental Guidance"
                                },
                                {
                                    "0": "SISTER ACT",
                                    "1": "PG",
                                    "2": "Parental Guidance"
                                },
                                {
                                    "0": "HONEY I BLEW UP THE KID",
                                    "1": "PG",
                                    "2": "Parental Guidance"
                                },
                                {
                                    "0": "A STRANGER AMONG US",
                                    "1": "PG-13",
                                    "2": "Parental Guidance-13"
                                },
                                {
                                    "0": "3 NINJAS",
                                    "1": "PG",
                                    "2": "Parental Guidance"
                                },
                                {
                                    "0": "A GUN IN BETTY LOU'S HANDBAG",
                                    "1": "PG-13",
                                    "2": "Parental Guidance-13"
                                },
                                {
                                    "0": "CAPTAIN RON",
                                    "1": "PG-13",
                                    "2": "Parental Guidance-13"
                                },
                                {
                                    "0": "SARAFINA!",
                                    "1": "PG-13",
                                    "2": "Parental Guidance-13"
                                },
                                {
                                    "0": "INNOCENT BLOOD",
                                    "1": "R",
                                    "2": "Restricted"
                                },
                                {
                                    "0": "THE MIGHTY DUCKS",
                                    "1": "PG",
                                    "2": "Parental Guidance"
                                },
                                {
                                    "0": "1492: CONQUEST OF PARADISE",
                                    "1": "PG-13",
                                    "2": "Parental Guidance-13"
                                },
                                {
                                    "0": "CONSENTING ADULTS",
                                    "1": "R",
                                    "2": "Restricted"
                                },
                                {
                                    "0": "ALADDIN",
                                    "1": "G",
                                    "2": "General audiences"
                                },
                                {
                                    "0": "THE DISTINGUISHED GENTLEMAN",
                                    "1": "R",
                                    "2": "Restricted"
                                },
                                {
                                    "0": "THE MUPPET CHRISTMAS CAROL",
                                    "1": "G",
                                    "2": "General audiences"
                                },
                                {
                                    "0": "ALIVE",
                                    "1": "R",
                                    "2": "Restricted"
                                },
                                {
                                    "0": "ASPEN EXTREME",
                                    "1": "PG-13",
                                    "2": "Parental Guidance-13"
                                },
                                {
                                    "0": "HOMEWARD BOUND: THE INCREDIBLE JOURNEY",
                                    "1": "G",
                                    "2": "General audiences"
                                },
                                {
                                    "0": "THE CEMETERY CLUB",
                                    "1": "PG-13",
                                    "2": "Parental Guidance-13"
                                },
                                {
                                    "0": "SWING KIDS",
                                    "1": "PG-13",
                                    "2": "Parental Guidance-13"
                                },
                                {
                                    "0": "A FAR OFF PLACE",
                                    "1": "PG",
                                    "2": "Parental Guidance"
                                },
                                {
                                    "0": "BORN YESTERDAY",
                                    "1": "PG",
                                    "2": "Parental Guidance"
                                },
                                {
                                    "0": "THE ADVENTURES OF HUCK FINN",
                                    "1": "PG",
                                    "2": "Parental Guidance"
                                },
                                {
                                    "0": "BOUND BY HONOR",
                                    "1": "R",
                                    "2": "Restricted"
                                },
                                {
                                    "0": "INDIAN SUMMER",
                                    "1": "R",
                                    "2": "Restricted"
                                },
                                {
                                    "0": "SUPER MARIO BROS.",
                                    "1": "PG",
                                    "2": "Parental Guidance"
                                },
                                {
                                    "0": "GUILTY AS SIN",
                                    "1": "R",
                                    "2": "Restricted"
                                },
                                {
                                    "0": "LIFE WITH MIKEY",
                                    "1": "PG",
                                    "2": "Parental Guidance"
                                },
                                {
                                    "0": "WHAT'S LOVE GOT TO DO WITH IT",
                                    "1": "R",
                                    "2": "Restricted"
                                },
                                {
                                    "0": "SON IN LAW",
                                    "1": "PG-13",
                                    "2": "Parental Guidance-13"
                                },
                                {
                                    "0": "HOCUS POCUS",
                                    "1": "PG",
                                    "2": "Parental Guidance"
                                },
                                {
                                    "0": "ANOTHER STAKEOUT",
                                    "1": "PG-13",
                                    "2": "Parental Guidance-13"
                                },
                                {
                                    "0": "MY BOYFRIEND'S BACK",
                                    "1": "PG-13",
                                    "2": "Parental Guidance-13"
                                },
                                {
                                    "0": "FATHER HOOD",
                                    "1": "PG-13",
                                    "2": "Parental Guidance-13"
                                },
                                {
                                    "0": "THE JOY LUCK CLUB",
                                    "1": "R",
                                    "2": "Restricted"
                                },
                                {
                                    "0": "MONEY FOR NOTHING",
                                    "1": "R",
                                    "2": "Restricted"
                                },
                                {
                                    "0": "THE PROGRAM",
                                    "1": "R",
                                    "2": "Restricted"
                                },
                                {
                                    "0": "COOL RUNNINGS",
                                    "1": "PG",
                                    "2": "Parental Guidance"
                                },
                                {
                                    "0": "THE NIGHTMARE BEFORE CHRISTMAS",
                                    "1": "PG",
                                    "2": "Parental Guidance"
                                },
                                {
                                    "0": "THE THREE MUSKETEERS",
                                    "1": "PG",
                                    "2": "Parental Guidance"
                                },
                                {
                                    "0": "SISTER ACT 2 BACK IN THE HABIT",
                                    "1": "PG",
                                    "2": "Parental Guidance"
                                },
                                {
                                    "0": "TOMBSTONE",
                                    "1": "R",
                                    "2": "Restricted"
                                },
                                {
                                    "0": "THE AIR UP THERE",
                                    "1": "PG",
                                    "2": "Parental Guidance"
                                },
                                {
                                    "0": "CABIN BOY",
                                    "1": "PG-13",
                                    "2": "Parental Guidance-13"
                                },
                                {
                                    "0": "IRON WILL",
                                    "1": "PG",
                                    "2": "Parental Guidance"
                                },
                                {
                                    "0": "RED ROCK WEST",
                                    "1": "R",
                                    "2": "Restricted"
                                },
                                {
                                    "0": "BLANK CHECK",
                                    "1": "PG",
                                    "2": "Parental Guidance"
                                },
                                {
                                    "0": "ANGIE",
                                    "1": "R",
                                    "2": "Restricted"
                                },
                                {
                                    "0": "THE REF",
                                    "1": "R",
                                    "2": "Restricted"
                                },
                                {
                                    "0": "D2: THE MIGHTY DUCKS",
                                    "1": "PG",
                                    "2": "Parental Guidance"
                                },
                                {
                                    "0": "HOLY MATRIMONY",
                                    "1": "NULL",
                                    "2": "NULL"
                                },
                                {
                                    "0": "WHITE FANG 2: MYTH OF THE WHITE WOLF",
                                    "1": "PG",
                                    "2": "Parental Guidance"
                                },
                                {
                                    "0": "THE INKWELL",
                                    "1": "R",
                                    "2": "Restricted"
                                },
                                {
                                    "0": "WHEN A MAN LOVES A WOMAN",
                                    "1": "R",
                                    "2": "Restricted"
                                },
                                {
                                    "0": "3 NINJAS KICK BACK",
                                    "1": "PG",
                                    "2": "Parental Guidance"
                                },
                                {
                                    "0": "RENAISSANCE MAN",
                                    "1": "PG-13",
                                    "2": "Parental Guidance-13"
                                },
                                {
                                    "0": "THE LION KING",
                                    "1": "G",
                                    "2": "General audiences"
                                },
                                {
                                    "0": "I LOVE TROUBLE",
                                    "1": "PG",
                                    "2": "Parental Guidance"
                                },
                                {
                                    "0": "ANGELS IN THE OUTFIELD",
                                    "1": "PG",
                                    "2": "Parental Guidance"
                                },
                                {
                                    "0": "IN THE ARMY NOW",
                                    "1": "PG",
                                    "2": "Parental Guidance"
                                },
                                {
                                    "0": "COLOR OF NIGHT",
                                    "1": "R",
                                    "2": "Restricted"
                                },
                                {
                                    "0": "CAMP NOWHERE",
                                    "1": "PG",
                                    "2": "Parental Guidance"
                                },
                                {
                                    "0": "IT'S PAT",
                                    "1": "NULL",
                                    "2": "NULL"
                                },
                                {
                                    "0": "A SIMPLE TWIST OF FATE",
                                    "1": "PG-13",
                                    "2": "Parental Guidance-13"
                                },
                                {
                                    "0": "QUIZ SHOW",
                                    "1": "PG-13",
                                    "2": "Parental Guidance-13"
                                },
                                {
                                    "0": "TERMINAL VELOCITY",
                                    "1": "PG-13",
                                    "2": "Parental Guidance-13"
                                },
                                {
                                    "0": "ED WOOD",
                                    "1": "R",
                                    "2": "Restricted"
                                },
                                {
                                    "0": "THE PUPPET MASTERS",
                                    "1": "R",
                                    "2": "Restricted"
                                },
                                {
                                    "0": "SQUANTO: A WARRIOR'S TALE",
                                    "1": "PG",
                                    "2": "Parental Guidance"
                                },
                                {
                                    "0": "THE SANTA CLAUSE",
                                    "1": "PG",
                                    "2": "Parental Guidance"
                                },
                                {
                                    "0": "A LOW DOWN DIRTY SHAME",
                                    "1": "R",
                                    "2": "Restricted"
                                },
                                {
                                    "0": "THE JUNGLE BOOK",
                                    "1": "PG",
                                    "2": "Parental Guidance"
                                },
                                {
                                    "0": "HOUSEGUEST",
                                    "1": "PG",
                                    "2": "Parental Guidance"
                                },
                                {
                                    "0": "BAD COMPANY",
                                    "1": "R",
                                    "2": "Restricted"
                                },
                                {
                                    "0": "MIAMI RHAPSODY",
                                    "1": "PG-13",
                                    "2": "Parental Guidance-13"
                                },
                                {
                                    "0": "THE JERKY BOYS",
                                    "1": "R",
                                    "2": "Restricted"
                                },
                                {
                                    "0": "HEAVY WEIGHTS",
                                    "1": "PG",
                                    "2": "Parental Guidance"
                                },
                                {
                                    "0": "MAN OF THE HOUSE",
                                    "1": "PG",
                                    "2": "Parental Guidance"
                                },
                                {
                                    "0": "ROOMMATES",
                                    "1": "PG",
                                    "2": "Parental Guidance"
                                },
                                {
                                    "0": "TALL TALE",
                                    "1": "PG",
                                    "2": "Parental Guidance"
                                },
                                {
                                    "0": "A PYROMANIAC'S LOVE STORY",
                                    "1": "PG",
                                    "2": "Parental Guidance"
                                },
                                {
                                    "0": "JEFFERSON IN PARIS",
                                    "1": "PG-13",
                                    "2": "Parental Guidance-13"
                                },
                                {
                                    "0": "FUNNY BONES",
                                    "1": "R",
                                    "2": "Restricted"
                                },
                                {
                                    "0": "A GOOFY MOVIE",
                                    "1": "G",
                                    "2": "General audiences"
                                },
                                {
                                    "0": "WHILE YOU WERE SLEEPING",
                                    "1": "PG",
                                    "2": "Parental Guidance"
                                },
                                {
                                    "0": "CRIMSON TIDE",
                                    "1": "R",
                                    "2": "Restricted"
                                },
                                {
                                    "0": "MAD LOVE",
                                    "1": "PG-13",
                                    "2": "Parental Guidance-13"
                                },
                                {
                                    "0": "POCAHONTAS",
                                    "1": "G",
                                    "2": "General audiences"
                                },
                                {
                                    "0": "JUDGE DREDD",
                                    "1": "R",
                                    "2": "Restricted"
                                },
                                {
                                    "0": "OPERATION DUMBO DROP",
                                    "1": "PG",
                                    "2": "Parental Guidance"
                                },
                                {
                                    "0": "DANGEROUS MINDS",
                                    "1": "R",
                                    "2": "Restricted"
                                },
                                {
                                    "0": "A KID IN KING ARTHUR'S COURT",
                                    "1": "PG",
                                    "2": "Parental Guidance"
                                },
                                {
                                    "0": "THE TIE THAT BINDS",
                                    "1": "R",
                                    "2": "Restricted"
                                },
                                {
                                    "0": "UNSTRUNG HEROES",
                                    "1": "PG",
                                    "2": "Parental Guidance"
                                },
                                {
                                    "0": "THE BIG GREEN",
                                    "1": "PG",
                                    "2": "Parental Guidance"
                                },
                                {
                                    "0": "DEAD PRESIDENTS",
                                    "1": "R",
                                    "2": "Restricted"
                                },
                                {
                                    "0": "THE SCARLET LETTER",
                                    "1": "R",
                                    "2": "Restricted"
                                },
                                {
                                    "0": "FEAST OF JULY",
                                    "1": "R",
                                    "2": "Restricted"
                                },
                                {
                                    "0": "POWDER",
                                    "1": "PG-13",
                                    "2": "Parental Guidance-13"
                                },
                                {
                                    "0": "TOY STORY",
                                    "1": "G",
                                    "2": "General audiences"
                                },
                                {
                                    "0": "FATHER OF THE BRIDE PART II",
                                    "1": "PG",
                                    "2": "Parental Guidance"
                                },
                                {
                                    "0": "NIXON",
                                    "1": "R",
                                    "2": "Restricted"
                                },
                                {
                                    "0": "TOM AND HUCK",
                                    "1": "PG",
                                    "2": "Parental Guidance"
                                },
                                {
                                    "0": "MR. HOLLAND'S OPUS",
                                    "1": "PG",
                                    "2": "Parental Guidance"
                                },
                                {
                                    "0": "WHITE SQUALL",
                                    "1": "PG-13",
                                    "2": "Parental Guidance-13"
                                },
                                {
                                    "0": "MUPPET TREASURE ISLAND",
                                    "1": "G",
                                    "2": "General audiences"
                                },
                                {
                                    "0": "MR. WRONG",
                                    "1": "PG-13",
                                    "2": "Parental Guidance-13"
                                },
                                {
                                    "0": "BEFORE AND AFTER",
                                    "1": "PG-13",
                                    "2": "Parental Guidance-13"
                                },
                                {
                                    "0": "UP CLOSE & PERSONAL",
                                    "1": "PG-13",
                                    "2": "Parental Guidance-13"
                                },
                                {
                                    "0": "HOMEWARD BOUND II: LOST IN SAN FRANC…",
                                    "1": "G",
                                    "2": "General audiences"
                                },
                                {
                                    "0": "TWO MUCH",
                                    "1": "PG-13",
                                    "2": "Parental Guidance-13"
                                },
                                {
                                    "0": "UN INDIEN DANS LA VILLE",
                                    "1": "PG",
                                    "2": "Parental Guidance"
                                },
                                {
                                    "0": "JAMES AND THE GIANT PEACH",
                                    "1": "PG",
                                    "2": "Parental Guidance"
                                },
                                {
                                    "0": "CELTIC PRIDE",
                                    "1": "PG-13",
                                    "2": "Parental Guidance-13"
                                },
                                {
                                    "0": "LAST DANCE",
                                    "1": "R",
                                    "2": "Restricted"
                                },
                                {
                                    "0": "BOYS",
                                    "1": "PG-13",
                                    "2": "Parental Guidance-13"
                                },
                                {
                                    "0": "SPY HARD",
                                    "1": "PG-13",
                                    "2": "Parental Guidance-13"
                                },
                                {
                                    "0": "EDDIE",
                                    "1": "PG-13",
                                    "2": "Parental Guidance-13"
                                },
                                {
                                    "0": "THE ROCK",
                                    "1": "R",
                                    "2": "Restricted"
                                },
                                {
                                    "0": "THE HUNCHBACK OF NOTRE DAME",
                                    "1": "G",
                                    "2": "General audiences"
                                },
                                {
                                    "0": "PHENOMENON",
                                    "1": "PG",
                                    "2": "Parental Guidance"
                                },
                                {
                                    "0": "KAZAAM",
                                    "1": "PG",
                                    "2": "Parental Guidance"
                                },
                                {
                                    "0": "JACK",
                                    "1": "PG-13",
                                    "2": "Parental Guidance-13"
                                },
                                {
                                    "0": "FIRST KID",
                                    "1": "PG",
                                    "2": "Parental Guidance"
                                },
                                {
                                    "0": "THE RICH MAN'S WIFE",
                                    "1": "R",
                                    "2": "Restricted"
                                },
                                {
                                    "0": "D3: THE MIGHTY DUCKS",
                                    "1": "PG",
                                    "2": "Parental Guidance"
                                },
                                {
                                    "0": "THE ASSOCIATE",
                                    "1": "PG-13",
                                    "2": "Parental Guidance-13"
                                },
                                {
                                    "0": "RANSOM",
                                    "1": "R",
                                    "2": "Restricted"
                                },
                                {
                                    "0": "THE WAR AT HOME",
                                    "1": "R",
                                    "2": "Restricted"
                                },
                                {
                                    "0": "101 DALMATIANS",
                                    "1": "G",
                                    "2": "General audiences"
                                },
                                {
                                    "0": "THE PREACHER'S WIFE",
                                    "1": "PG",
                                    "2": "Parental Guidance"
                                },
                                {
                                    "0": "EVITA",
                                    "1": "PG",
                                    "2": "Parental Guidance"
                                },
                                {
                                    "0": "METRO",
                                    "1": "R",
                                    "2": "Restricted"
                                },
                                {
                                    "0": "PREFONTAINE",
                                    "1": "PG-13",
                                    "2": "Parental Guidance-13"
                                },
                                {
                                    "0": "SHADOW CONSPIRACY",
                                    "1": "R",
                                    "2": "Restricted"
                                },
                                {
                                    "0": "THAT DARN CAT",
                                    "1": "PG",
                                    "2": "Parental Guidance"
                                },
                                {
                                    "0": "JUNGLE 2 JUNGLE",
                                    "1": "PG",
                                    "2": "Parental Guidance"
                                },
                                {
                                    "0": "THE SIXTH MAN",
                                    "1": "PG-13",
                                    "2": "Parental Guidance-13"
                                },
                                {
                                    "0": "GROSSE POINTE BLANK",
                                    "1": "R",
                                    "2": "Restricted"
                                },
                                {
                                    "0": "ROMY AND MICHELE'S HIGH SCHOOL REUNION",
                                    "1": "R",
                                    "2": "Restricted"
                                },
                                {
                                    "0": "GONE FISHIN'",
                                    "1": "PG",
                                    "2": "Parental Guidance"
                                },
                                {
                                    "0": "CON AIR",
                                    "1": "R",
                                    "2": "Restricted"
                                },
                                {
                                    "0": "HERCULES",
                                    "1": "G",
                                    "2": "General audiences"
                                },
                                {
                                    "0": "GEORGE OF THE JUNGLE",
                                    "1": "PG",
                                    "2": "Parental Guidance"
                                },
                                {
                                    "0": "NOTHING TO LOSE",
                                    "1": "R",
                                    "2": "Restricted"
                                },
                                {
                                    "0": "AIR BUD",
                                    "1": "PG",
                                    "2": "Parental Guidance"
                                },
                                {
                                    "0": "G.I. JANE",
                                    "1": "R",
                                    "2": "Restricted"
                                },
                                {
                                    "0": "A THOUSAND ACRES",
                                    "1": "R",
                                    "2": "Restricted"
                                },
                                {
                                    "0": "WASHINGTON SQUARE",
                                    "1": "PG",
                                    "2": "Parental Guidance"
                                },
                                {
                                    "0": "ROCKET MAN",
                                    "1": "PG",
                                    "2": "Parental Guidance"
                                },
                                {
                                    "0": "PLAYING GOD",
                                    "1": "R",
                                    "2": "Restricted"
                                },
                                {
                                    "0": "FLUBBER",
                                    "1": "PG",
                                    "2": "Parental Guidance"
                                },
                                {
                                    "0": "AN AMERICAN WEREWOLF IN PARIS",
                                    "1": "R",
                                    "2": "Restricted"
                                },
                                {
                                    "0": "MR. MAGOO",
                                    "1": "PG",
                                    "2": "Parental Guidance"
                                },
                                {
                                    "0": "KUNDUN",
                                    "1": "PG-13",
                                    "2": "Parental Guidance-13"
                                },
                                {
                                    "0": "DEEP RISING",
                                    "1": "R",
                                    "2": "Restricted"
                                },
                                {
                                    "0": "KRIPPENDORF'S TRIBE",
                                    "1": "PG-13",
                                    "2": "Parental Guidance-13"
                                },
                                {
                                    "0": "AN ALAN SMITHEE FILM: BURN HOLLYWOOD …",
                                    "1": "R",
                                    "2": "Restricted"
                                },
                                {
                                    "0": "MEET THE DEEDLES",
                                    "1": "PG",
                                    "2": "Parental Guidance"
                                },
                                {
                                    "0": "HE GOT GAME",
                                    "1": "R",
                                    "2": "Restricted"
                                },
                                {
                                    "0": "THE HORSE WHISPERER",
                                    "1": "PG-13",
                                    "2": "Parental Guidance-13"
                                },
                                {
                                    "0": "SIX DAYS, SEVEN NIGHTS",
                                    "1": "PG-13",
                                    "2": "Parental Guidance-13"
                                },
                                {
                                    "0": "MULAN",
                                    "1": "G",
                                    "2": "General audiences"
                                },
                                {
                                    "0": "ARMAGEDDON",
                                    "1": "PG-13",
                                    "2": "Parental Guidance-13"
                                },
                                {
                                    "0": "JANE AUSTEN'S MAFIA",
                                    "1": "PG-13",
                                    "2": "Parental Guidance-13"
                                },
                                {
                                    "0": "THE PARENT TRAP",
                                    "1": "PG",
                                    "2": "Parental Guidance"
                                },
                                {
                                    "0": "FIRELIGHT",
                                    "1": "R",
                                    "2": "Restricted"
                                },
                                {
                                    "0": "SIMON BIRCH",
                                    "1": "PG",
                                    "2": "Parental Guidance"
                                },
                                {
                                    "0": "HOLY MAN",
                                    "1": "PG",
                                    "2": "Parental Guidance"
                                },
                                {
                                    "0": "BELOVED",
                                    "1": "R",
                                    "2": "Restricted"
                                },
                                {
                                    "0": "THE WATERBOY",
                                    "1": "PG-13",
                                    "2": "Parental Guidance-13"
                                },
                                {
                                    "0": "I'LL BE HOME FOR CHRISTMAS",
                                    "1": "PG",
                                    "2": "Parental Guidance"
                                },
                                {
                                    "0": "A BUG'S LIFE",
                                    "1": "G",
                                    "2": "General audiences"
                                },
                                {
                                    "0": "ENEMY OF THE STATE",
                                    "1": "R",
                                    "2": "Restricted"
                                },
                                {
                                    "0": "RUSHMORE",
                                    "1": "R",
                                    "2": "Restricted"
                                },
                                {
                                    "0": "A CIVIL ACTION",
                                    "1": "PG-13",
                                    "2": "Parental Guidance-13"
                                },
                                {
                                    "0": "MIGHTY JOE YOUNG",
                                    "1": "PG",
                                    "2": "Parental Guidance"
                                },
                                {
                                    "0": "MY FAVORITE MARTIAN",
                                    "1": "PG",
                                    "2": "Parental Guidance"
                                },
                                {
                                    "0": "THE OTHER SISTER",
                                    "1": "PG-13",
                                    "2": "Parental Guidance-13"
                                },
                                {
                                    "0": "DOUG'S 1ST MOVIE",
                                    "1": "G",
                                    "2": "General audiences"
                                },
                                {
                                    "0": "TEN THINGS I HATE ABOUT YOU",
                                    "1": "PG-13",
                                    "2": "Parental Guidance-13"
                                },
                                {
                                    "0": "ENDURANCE",
                                    "1": "PG",
                                    "2": "Parental Guidance"
                                },
                                {
                                    "0": "INSTINCT",
                                    "1": "R",
                                    "2": "Restricted"
                                },
                                {
                                    "0": "TARZAN",
                                    "1": "G",
                                    "2": "General audiences"
                                },
                                {
                                    "0": "SUMMER OF SAM",
                                    "1": "R",
                                    "2": "Restricted"
                                },
                                {
                                    "0": "INSPECTOR GADGET",
                                    "1": "PG",
                                    "2": "Parental Guidance"
                                },
                                {
                                    "0": "THE SIXTH SENSE",
                                    "1": "PG-13",
                                    "2": "Parental Guidance-13"
                                },
                                {
                                    "0": "THE 13TH WARRIOR",
                                    "1": "R",
                                    "2": "Restricted"
                                },
                                {
                                    "0": "BREAKFAST OF CHAMPIONS",
                                    "1": "R",
                                    "2": "Restricted"
                                },
                                {
                                    "0": "MUMFORD",
                                    "1": "R",
                                    "2": "Restricted"
                                },
                                {
                                    "0": "MYSTERY, ALASKA",
                                    "1": "R",
                                    "2": "Restricted"
                                },
                                {
                                    "0": "THE STRAIGHT STORY",
                                    "1": "G",
                                    "2": "General audiences"
                                },
                                {
                                    "0": "THE INSIDER",
                                    "1": "R",
                                    "2": "Restricted"
                                },
                                {
                                    "0": "TOY STORY 2",
                                    "1": "G",
                                    "2": "General audiences"
                                },
                                {
                                    "0": "CRADLE WILL ROCK",
                                    "1": "R",
                                    "2": "Restricted"
                                },
                                {
                                    "0": "DEUCE BIGALOW: MALE GIGOLO",
                                    "1": "R",
                                    "2": "Restricted"
                                },
                                {
                                    "0": "BICENTENNIAL MAN",
                                    "1": "PG",
                                    "2": "Parental Guidance"
                                },
                                {
                                    "0": "PLAY IT TO THE BONE",
                                    "1": "R",
                                    "2": "Restricted"
                                },
                                {
                                    "0": "FANTASIA 2000 (IMAX)",
                                    "1": "G",
                                    "2": "General audiences"
                                },
                                {
                                    "0": "GUN SHY",
                                    "1": "R",
                                    "2": "Restricted"
                                },
                                {
                                    "0": "THE TIGGER MOVIE",
                                    "1": "G",
                                    "2": "General audiences"
                                },
                                {
                                    "0": "MISSION TO MARS",
                                    "1": "PG",
                                    "2": "Parental Guidance"
                                },
                                {
                                    "0": "HIGH FIDELITY",
                                    "1": "R",
                                    "2": "Restricted"
                                },
                                {
                                    "0": "KEEPING THE FAITH",
                                    "1": "PG-13",
                                    "2": "Parental Guidance-13"
                                },
                                {
                                    "0": "DINOSAUR",
                                    "1": "PG",
                                    "2": "Parental Guidance"
                                },
                                {
                                    "0": "SHANGHAI NOON",
                                    "1": "PG-13",
                                    "2": "Parental Guidance-13"
                                },
                                {
                                    "0": "GONE IN 60 SECONDS",
                                    "1": "PG-13",
                                    "2": "Parental Guidance-13"
                                },
                                {
                                    "0": "FANTASIA 2000 (THEATRICAL RELEASE)",
                                    "1": "G",
                                    "2": "General audiences"
                                },
                                {
                                    "0": "THE KID",
                                    "1": "PG",
                                    "2": "Parental Guidance"
                                },
                                {
                                    "0": "COYOTE UGLY",
                                    "1": "PG-13",
                                    "2": "Parental Guidance-13"
                                },
                                {
                                    "0": "THE CREW",
                                    "1": "PG-13",
                                    "2": "Parental Guidance-13"
                                },
                                {
                                    "0": "DUETS",
                                    "1": "R",
                                    "2": "Restricted"
                                },
                                {
                                    "0": "REMEMBER THE TITANS",
                                    "1": "PG",
                                    "2": "Parental Guidance"
                                },
                                {
                                    "0": "UNBREAKABLE",
                                    "1": "PG-13",
                                    "2": "Parental Guidance-13"
                                },
                                {
                                    "0": "102 DALMATIANS",
                                    "1": "G",
                                    "2": "General audiences"
                                },
                                {
                                    "0": "THE EMPEROR'S NEW GROOVE",
                                    "1": "G",
                                    "2": "General audiences"
                                },
                                {
                                    "0": "O BROTHER, WHERE ART THOU?",
                                    "1": "PG-13",
                                    "2": "Parental Guidance-13"
                                },
                                {
                                    "0": "DOUBLE TAKE",
                                    "1": "PG-13",
                                    "2": "Parental Guidance-13"
                                },
                                {
                                    "0": "RECESS: SCHOOL'S OUT",
                                    "1": "G",
                                    "2": "General audiences"
                                },
                                {
                                    "0": "JUST VISITING",
                                    "1": "PG-13",
                                    "2": "Parental Guidance-13"
                                },
                                {
                                    "0": "PEARL HARBOR",
                                    "1": "PG-13",
                                    "2": "Parental Guidance-13"
                                },
                                {
                                    "0": "ATLANTIS: THE LOST EMPIRE",
                                    "1": "PG",
                                    "2": "Parental Guidance"
                                },
                                {
                                    "0": "CRAZY/BEAUTIFUL",
                                    "1": "PG-13",
                                    "2": "Parental Guidance-13"
                                },
                                {
                                    "0": "THE PRINCESS DIARIES",
                                    "1": "G",
                                    "2": "General audiences"
                                },
                                {
                                    "0": "BUBBLE BOY",
                                    "1": "PG-13",
                                    "2": "Parental Guidance-13"
                                },
                                {
                                    "0": "MAX KEEBLE'S BIG MOVE",
                                    "1": "PG",
                                    "2": "Parental Guidance"
                                },
                                {
                                    "0": "CORKY ROMANO",
                                    "1": "PG-13",
                                    "2": "Parental Guidance-13"
                                },
                                {
                                    "0": "HIGH HEELS AND LOW LIFES",
                                    "1": "R",
                                    "2": "Restricted"
                                },
                                {
                                    "0": "MONSTERS, INC.",
                                    "1": "G",
                                    "2": "General audiences"
                                },
                                {
                                    "0": "OUT COLD",
                                    "1": "PG-13",
                                    "2": "Parental Guidance-13"
                                },
                                {
                                    "0": "THE ROYAL TENENBAUMS",
                                    "1": "R",
                                    "2": "Restricted"
                                },
                                {
                                    "0": "BEAUTY AND THE BEAST (IMAX)",
                                    "1": "G",
                                    "2": "General audiences"
                                },
                                {
                                    "0": "FRANK MCKLUSKY C.I.",
                                    "1": "NULL",
                                    "2": "NULL"
                                },
                                {
                                    "0": "SNOW DOGS",
                                    "1": "PG",
                                    "2": "Parental Guidance"
                                },
                                {
                                    "0": "THE COUNT OF MONTE CRISTO",
                                    "1": "PG-13",
                                    "2": "Parental Guidance-13"
                                },
                                {
                                    "0": "PETER PAN: RETURN TO NEVERLAND",
                                    "1": "G",
                                    "2": "General audiences"
                                },
                                {
                                    "0": "REIGN OF FIRE",
                                    "1": "PG-13",
                                    "2": "Parental Guidance-13"
                                },
                                {
                                    "0": "SORORITY BOYS",
                                    "1": "R",
                                    "2": "Restricted"
                                },
                                {
                                    "0": "THE ROOKIE",
                                    "1": "G",
                                    "2": "General audiences"
                                },
                                {
                                    "0": "BIG TROUBLE",
                                    "1": "PG-13",
                                    "2": "Parental Guidance-13"
                                },
                                {
                                    "0": "ESPN'S ULTIMATE X - THE MOVIE",
                                    "1": "PG",
                                    "2": "Parental Guidance"
                                },
                                {
                                    "0": "BAD COMPANY",
                                    "1": "PG-13",
                                    "2": "Parental Guidance-13"
                                },
                                {
                                    "0": "LILO & STITCH",
                                    "1": "PG",
                                    "2": "Parental Guidance"
                                },
                                {
                                    "0": "THE COUNTRY BEARS",
                                    "1": "G",
                                    "2": "General audiences"
                                },
                                {
                                    "0": "SIGNS",
                                    "1": "PG-13",
                                    "2": "Parental Guidance-13"
                                },
                                {
                                    "0": "SEN TO CHIHIRO NO KAMIKAKUSHI",
                                    "1": "PG",
                                    "2": "Parental Guidance"
                                },
                                {
                                    "0": "SWEET HOME ALABAMA",
                                    "1": "PG-13",
                                    "2": "Parental Guidance-13"
                                },
                                {
                                    "0": "MOONLIGHT MILE",
                                    "1": "PG-13",
                                    "2": "Parental Guidance-13"
                                },
                                {
                                    "0": "TUCK EVERLASTING",
                                    "1": "PG",
                                    "2": "Parental Guidance"
                                },
                                {
                                    "0": "THE SANTA CLAUSE 2",
                                    "1": "G",
                                    "2": "General audiences"
                                },
                                {
                                    "0": "TREASURE PLANET",
                                    "1": "PG",
                                    "2": "Parental Guidance"
                                },
                                {
                                    "0": "THE HOT CHICK",
                                    "1": "PG-13",
                                    "2": "Parental Guidance-13"
                                },
                                {
                                    "0": "25TH HOUR",
                                    "1": "R",
                                    "2": "Restricted"
                                },
                                {
                                    "0": "THE RECRUIT",
                                    "1": "PG-13",
                                    "2": "Parental Guidance-13"
                                },
                                {
                                    "0": "SHANGHAI KNIGHTS",
                                    "1": "PG-13",
                                    "2": "Parental Guidance-13"
                                },
                                {
                                    "0": "THE JUNGLE BOOK 2",
                                    "1": "G",
                                    "2": "General audiences"
                                },
                                {
                                    "0": "BRINGING DOWN THE HOUSE",
                                    "1": "PG-13",
                                    "2": "Parental Guidance-13"
                                },
                                {
                                    "0": "PIGLET'S BIG MOVIE",
                                    "1": "G",
                                    "2": "General audiences"
                                },
                                {
                                    "0": "GHOSTS OF THE ABYSS",
                                    "1": "G",
                                    "2": "General audiences"
                                },
                                {
                                    "0": "HOLES",
                                    "1": "PG",
                                    "2": "Parental Guidance"
                                },
                                {
                                    "0": "THE LIZZIE MCGUIRE MOVIE",
                                    "1": "PG",
                                    "2": "Parental Guidance"
                                },
                                {
                                    "0": "FINDING NEMO",
                                    "1": "G",
                                    "2": "General audiences"
                                },
                                {
                                    "0": "PIRATES OF THE CARIBBEAN: THE CURSE O…",
                                    "1": "PG-13",
                                    "2": "Parental Guidance-13"
                                },
                                {
                                    "0": "FREAKY FRIDAY",
                                    "1": "PG",
                                    "2": "Parental Guidance"
                                },
                                {
                                    "0": "OPEN RANGE",
                                    "1": "R",
                                    "2": "Restricted"
                                },
                                {
                                    "0": "COLD CREEK MANOR",
                                    "1": "R",
                                    "2": "Restricted"
                                },
                                {
                                    "0": "UNDER THE TUSCAN SUN",
                                    "1": "PG-13",
                                    "2": "Parental Guidance-13"
                                },
                                {
                                    "0": "VERONICA GUERIN",
                                    "1": "R",
                                    "2": "Restricted"
                                },
                                {
                                    "0": "BROTHER BEAR",
                                    "1": "G",
                                    "2": "General audiences"
                                },
                                {
                                    "0": "THE HAUNTED MANSION",
                                    "1": "PG",
                                    "2": "Parental Guidance"
                                },
                                {
                                    "0": "CALENDAR GIRLS",
                                    "1": "PG-13",
                                    "2": "Parental Guidance-13"
                                },
                                {
                                    "0": "YOUNG BLACK STALLION",
                                    "1": "G",
                                    "2": "General audiences"
                                },
                                {
                                    "0": "TEACHER'S PET: THE MOVIE",
                                    "1": "PG",
                                    "2": "Parental Guidance"
                                },
                                {
                                    "0": "MIRACLE",
                                    "1": "PG",
                                    "2": "Parental Guidance"
                                },
                                {
                                    "0": "CONFESSIONS OF A TEENAGE DRAMA QUEEN",
                                    "1": "PG",
                                    "2": "Parental Guidance"
                                },
                                {
                                    "0": "HIDALGO",
                                    "1": "PG-13",
                                    "2": "Parental Guidance-13"
                                },
                                {
                                    "0": "THE LADYKILLERS",
                                    "1": "R",
                                    "2": "Restricted"
                                },
                                {
                                    "0": "HOME ON THE RANGE",
                                    "1": "PG",
                                    "2": "Parental Guidance"
                                },
                                {
                                    "0": "THE ALAMO",
                                    "1": "PG-13",
                                    "2": "Parental Guidance-13"
                                },
                                {
                                    "0": "RAISING HELEN",
                                    "1": "PG-13",
                                    "2": "Parental Guidance-13"
                                },
                                {
                                    "0": "AROUND THE WORLD IN 80 DAYS",
                                    "1": "PG",
                                    "2": "Parental Guidance"
                                },
                                {
                                    "0": "AMERICA'S HEART AND SOUL",
                                    "1": "Not Rated",
                                    "2": "Not Rated"
                                },
                                {
                                    "0": "KING ARTHUR",
                                    "1": "PG-13",
                                    "2": "Parental Guidance-13"
                                },
                                {
                                    "0": "THE VILLAGE",
                                    "1": "PG-13",
                                    "2": "Parental Guidance-13"
                                },
                                {
                                    "0": "THE PRINCESS DIARIES 2: ROYAL ENGAGEMENT",
                                    "1": "G",
                                    "2": "General audiences"
                                },
                                {
                                    "0": "MR. 3000",
                                    "1": "PG-13",
                                    "2": "Parental Guidance-13"
                                },
                                {
                                    "0": "THE LAST SHOT",
                                    "1": "R",
                                    "2": "Restricted"
                                },
                                {
                                    "0": "LADDER 49",
                                    "1": "PG-13",
                                    "2": "Parental Guidance-13"
                                },
                                {
                                    "0": "THE INCREDIBLES",
                                    "1": "PG",
                                    "2": "Parental Guidance"
                                },
                                {
                                    "0": "NATIONAL TREASURE",
                                    "1": "PG",
                                    "2": "Parental Guidance"
                                },
                                {
                                    "0": "THE LIFE AQUATIC WITH STEVE ZISSOU",
                                    "1": "R",
                                    "2": "Restricted"
                                },
                                {
                                    "0": "ALIENS OF THE DEEP",
                                    "1": "G",
                                    "2": "General audiences"
                                },
                                {
                                    "0": "POOH'S HEFFALUMP MOVIE",
                                    "1": "G",
                                    "2": "General audiences"
                                },
                                {
                                    "0": "THE PACIFIER",
                                    "1": "PG",
                                    "2": "Parental Guidance"
                                },
                                {
                                    "0": "ICE PRINCESS",
                                    "1": "G",
                                    "2": "General audiences"
                                },
                                {
                                    "0": "A LOT LIKE LOVE",
                                    "1": "PG-13",
                                    "2": "Parental Guidance-13"
                                },
                                {
                                    "0": "THE HITCHHIKER'S GUIDE TO THE GALAXY",
                                    "1": "PG",
                                    "2": "Parental Guidance"
                                },
                                {
                                    "0": "HAURU NO UGOKU SHIRO",
                                    "1": "PG",
                                    "2": "Parental Guidance"
                                },
                                {
                                    "0": "HERBIE: FULLY LOADED",
                                    "1": "G",
                                    "2": "General audiences"
                                },
                                {
                                    "0": "DARK WATER",
                                    "1": "PG-13",
                                    "2": "Parental Guidance-13"
                                },
                                {
                                    "0": "SKY HIGH",
                                    "1": "PG",
                                    "2": "Parental Guidance"
                                },
                                {
                                    "0": "VALIANT",
                                    "1": "G",
                                    "2": "General audiences"
                                },
                                {
                                    "0": "FLIGHTPLAN",
                                    "1": "PG-13",
                                    "2": "Parental Guidance-13"
                                },
                                {
                                    "0": "THE GREATEST GAME EVER PLAYED",
                                    "1": "PG",
                                    "2": "Parental Guidance"
                                },
                                {
                                    "0": "SHOPGIRL",
                                    "1": "R",
                                    "2": "Restricted"
                                },
                                {
                                    "0": "CHICKEN LITTLE",
                                    "1": "G",
                                    "2": "General audiences"
                                },
                                {
                                    "0": "THE CHRONICLES OF NARNIA: THE LION, T…",
                                    "1": "PG",
                                    "2": "Parental Guidance"
                                },
                                {
                                    "0": "CASANOVA",
                                    "1": "R",
                                    "2": "Restricted"
                                },
                                {
                                    "0": "GLORY ROAD",
                                    "1": "PG",
                                    "2": "Parental Guidance"
                                },
                                {
                                    "0": "ANNAPOLIS",
                                    "1": "PG-13",
                                    "2": "Parental Guidance-13"
                                },
                                {
                                    "0": "ROVING MARS",
                                    "1": "G",
                                    "2": "General audiences"
                                },
                                {
                                    "0": "EIGHT BELOW",
                                    "1": "PG",
                                    "2": "Parental Guidance"
                                },
                                {
                                    "0": "THE SHAGGY DOG",
                                    "1": "PG",
                                    "2": "Parental Guidance"
                                },
                                {
                                    "0": "STAY ALIVE",
                                    "1": "PG-13",
                                    "2": "Parental Guidance-13"
                                },
                                {
                                    "0": "THE WILD",
                                    "1": "G",
                                    "2": "General audiences"
                                },
                                {
                                    "0": "STICK IT",
                                    "1": "PG-13",
                                    "2": "Parental Guidance-13"
                                },
                                {
                                    "0": "GOAL! THE DREAM BEGINS",
                                    "1": "PG",
                                    "2": "Parental Guidance"
                                },
                                {
                                    "0": "CARS",
                                    "1": "G",
                                    "2": "General audiences"
                                },
                                {
                                    "0": "PIRATES OF THE CARIBBEAN: DEAD MAN’…",
                                    "1": "PG-13",
                                    "2": "Parental Guidance-13"
                                },
                                {
                                    "0": "STEP UP",
                                    "1": "PG-13",
                                    "2": "Parental Guidance-13"
                                },
                                {
                                    "0": "INVINCIBLE",
                                    "1": "PG",
                                    "2": "Parental Guidance"
                                },
                                {
                                    "0": "THE GUARDIAN",
                                    "1": "PG-13",
                                    "2": "Parental Guidance-13"
                                },
                                {
                                    "0": "THE PRESTIGE",
                                    "1": "PG-13",
                                    "2": "Parental Guidance-13"
                                },
                                {
                                    "0": "TIM BURTON'S THE NIGHTMARE BEFORE CHR…",
                                    "1": "PG",
                                    "2": "Parental Guidance"
                                },
                                {
                                    "0": "THE SANTA CLAUSE 3: THE ESCAPE CLAUSE",
                                    "1": "G",
                                    "2": "General audiences"
                                },
                                {
                                    "0": "DÉJÀ VU",
                                    "1": "PG-13",
                                    "2": "Parental Guidance-13"
                                },
                                {
                                    "0": "APOCALYPTO",
                                    "1": "R",
                                    "2": "Restricted"
                                },
                                {
                                    "0": "PRIMEVAL",
                                    "1": "R",
                                    "2": "Restricted"
                                },
                                {
                                    "0": "BRIDGE TO TERABITHIA",
                                    "1": "PG",
                                    "2": "Parental Guidance"
                                },
                                {
                                    "0": "WILD HOGS",
                                    "1": "PG-13",
                                    "2": "Parental Guidance-13"
                                },
                                {
                                    "0": "MEET THE ROBINSONS",
                                    "1": "G",
                                    "2": "General audiences"
                                },
                                {
                                    "0": "THE LOOKOUT",
                                    "1": "R",
                                    "2": "Restricted"
                                },
                                {
                                    "0": "THE HOAX",
                                    "1": "R",
                                    "2": "Restricted"
                                },
                                {
                                    "0": "THE INVISIBLE",
                                    "1": "PG-13",
                                    "2": "Parental Guidance-13"
                                },
                                {
                                    "0": "PIRATES OF THE CARIBBEAN: AT WORLD’…",
                                    "1": "PG-13",
                                    "2": "Parental Guidance-13"
                                },
                                {
                                    "0": "RATATOUILLE",
                                    "1": "G",
                                    "2": "General audiences"
                                },
                                {
                                    "0": "UNDERDOG",
                                    "1": "PG",
                                    "2": "Parental Guidance"
                                },
                                {
                                    "0": "THE GAME PLAN",
                                    "1": "PG",
                                    "2": "Parental Guidance"
                                },
                                {
                                    "0": "DAN IN REAL LIFE",
                                    "1": "PG-13",
                                    "2": "Parental Guidance-13"
                                },
                                {
                                    "0": "ENCHANTED",
                                    "1": "PG",
                                    "2": "Parental Guidance"
                                },
                                {
                                    "0": "NATIONAL TREASURE 2: BOOK OF SECRETS",
                                    "1": "PG",
                                    "2": "Parental Guidance"
                                },
                                {
                                    "0": "HANNAH MONTANA/MILEY CYRUS: BEST OF B…",
                                    "1": "G",
                                    "2": "General audiences"
                                },
                                {
                                    "0": "STEP UP 2 THE STREETS",
                                    "1": "PG-13",
                                    "2": "Parental Guidance-13"
                                },
                                {
                                    "0": "COLLEGE ROAD TRIP",
                                    "1": "G",
                                    "2": "General audiences"
                                },
                                {
                                    "0": "THE CHRONICLES OF NARNIA: PRINCE CASPIAN",
                                    "1": "PG",
                                    "2": "Parental Guidance"
                                },
                                {
                                    "0": "WALL-E",
                                    "1": "G",
                                    "2": "General audiences"
                                },
                                {
                                    "0": "SWING VOTE",
                                    "1": "PG-13",
                                    "2": "Parental Guidance-13"
                                },
                                {
                                    "0": "GOAL! 2: LIVING THE DREAM...",
                                    "1": "PG-13",
                                    "2": "Parental Guidance-13"
                                },
                                {
                                    "0": "MIRACLE AT ST. ANNA",
                                    "1": "R",
                                    "2": "Restricted"
                                },
                                {
                                    "0": "BEVERLY HILLS CHIHUAHUA",
                                    "1": "PG",
                                    "2": "Parental Guidance"
                                },
                                {
                                    "0": "MORNING LIGHT",
                                    "1": "PG",
                                    "2": "Parental Guidance"
                                },
                                {
                                    "0": "HIGH SCHOOL MUSICAL 3: SENIOR YEAR",
                                    "1": "G",
                                    "2": "General audiences"
                                },
                                {
                                    "0": "BOLT",
                                    "1": "PG",
                                    "2": "Parental Guidance"
                                },
                                {
                                    "0": "BEDTIME STORIES",
                                    "1": "PG",
                                    "2": "Parental Guidance"
                                },
                                {
                                    "0": "CONFESSIONS OF A SHOPAHOLIC",
                                    "1": "PG",
                                    "2": "Parental Guidance"
                                },
                                {
                                    "0": "JONAS BROTHERS: THE 3D CONCERT EXPERI…",
                                    "1": "G",
                                    "2": "General audiences"
                                },
                                {
                                    "0": "RACE TO WITCH MOUNTAIN",
                                    "1": "PG",
                                    "2": "Parental Guidance"
                                },
                                {
                                    "0": "HANNAH MONTANA THE MOVIE",
                                    "1": "G",
                                    "2": "General audiences"
                                },
                                {
                                    "0": "EARTH",
                                    "1": "G",
                                    "2": "General audiences"
                                },
                                {
                                    "0": "UP",
                                    "1": "PG",
                                    "2": "Parental Guidance"
                                },
                                {
                                    "0": "THE PROPOSAL",
                                    "1": "PG-13",
                                    "2": "Parental Guidance-13"
                                },
                                {
                                    "0": "G-FORCE",
                                    "1": "PG",
                                    "2": "Parental Guidance"
                                },
                                {
                                    "0": "GAKE NO UE NO PONYO",
                                    "1": "G",
                                    "2": "General audiences"
                                },
                                {
                                    "0": "X GAMES 3D: THE MOVIE",
                                    "1": "PG",
                                    "2": "Parental Guidance"
                                },
                                {
                                    "0": "WALT AND EL GRUPO",
                                    "1": "PG",
                                    "2": "Parental Guidance"
                                },
                                {
                                    "0": "SURROGATES",
                                    "1": "PG-13",
                                    "2": "Parental Guidance-13"
                                },
                                {
                                    "0": "TOY STORY 3D DOUBLE FEATURE",
                                    "1": "G",
                                    "2": "General audiences"
                                },
                                {
                                    "0": "DISNEY'S A CHRISTMAS CAROL",
                                    "1": "PG",
                                    "2": "Parental Guidance"
                                },
                                {
                                    "0": "THE PRINCESS AND THE FROG",
                                    "1": "G",
                                    "2": "General audiences"
                                },
                                {
                                    "0": "OLD DOGS",
                                    "1": "PG",
                                    "2": "Parental Guidance"
                                },
                                {
                                    "0": "WHEN IN ROME",
                                    "1": "PG-13",
                                    "2": "Parental Guidance-13"
                                },
                                {
                                    "0": "ALICE IN WONDERLAND",
                                    "1": "PG",
                                    "2": "Parental Guidance"
                                },
                                {
                                    "0": "WAKING SLEEPING BEAUTY",
                                    "1": "PG",
                                    "2": "Parental Guidance"
                                },
                                {
                                    "0": "THE LAST SONG",
                                    "1": "PG",
                                    "2": "Parental Guidance"
                                },
                                {
                                    "0": "OCEANS",
                                    "1": "G",
                                    "2": "General audiences"
                                },
                                {
                                    "0": "PRINCE OF PERSIA: SANDS OF TIME",
                                    "1": "PG-13",
                                    "2": "Parental Guidance-13"
                                },
                                {
                                    "0": "TOY STORY 3",
                                    "1": "G",
                                    "2": "General audiences"
                                },
                                {
                                    "0": "THE SORCERER'S APPRENTICE",
                                    "1": "PG",
                                    "2": "Parental Guidance"
                                },
                                {
                                    "0": "STEP UP 3D",
                                    "1": "PG-13",
                                    "2": "Parental Guidance-13"
                                },
                                {
                                    "0": "GEDO SENKI (TALES FROM EARTHSEA)",
                                    "1": "PG-13",
                                    "2": "Parental Guidance-13"
                                },
                                {
                                    "0": "YOU AGAIN",
                                    "1": "PG",
                                    "2": "Parental Guidance"
                                },
                                {
                                    "0": "SECRETARIAT",
                                    "1": "PG",
                                    "2": "Parental Guidance"
                                },
                                {
                                    "0": "TANGLED",
                                    "1": "PG",
                                    "2": "Parental Guidance"
                                },
                                {
                                    "0": "TRON: LEGACY",
                                    "1": "PG",
                                    "2": "Parental Guidance"
                                },
                                {
                                    "0": "GNOMEO AND JULIET",
                                    "1": "G",
                                    "2": "General audiences"
                                },
                                {
                                    "0": "I AM NUMBER FOUR",
                                    "1": "PG-13",
                                    "2": "Parental Guidance-13"
                                },
                                {
                                    "0": "MARS NEEDS MOMS",
                                    "1": "PG",
                                    "2": "Parental Guidance"
                                },
                                {
                                    "0": "AFRICAN CATS",
                                    "1": "G",
                                    "2": "General audiences"
                                },
                                {
                                    "0": "ZOKKOMON",
                                    "1": "PG",
                                    "2": "Parental Guidance"
                                },
                                {
                                    "0": "PROM",
                                    "1": "PG",
                                    "2": "Parental Guidance"
                                },
                                {
                                    "0": "PIRATES OF THE CARIBBEAN: ON STRANGER…",
                                    "1": "PG-13",
                                    "2": "Parental Guidance-13"
                                },
                                {
                                    "0": "CARS 2",
                                    "1": "G",
                                    "2": "General audiences"
                                },
                                {
                                    "0": "WINNIE THE POOH",
                                    "1": "G",
                                    "2": "General audiences"
                                },
                                {
                                    "0": "THE HELP",
                                    "1": "PG-13",
                                    "2": "Parental Guidance-13"
                                },
                                {
                                    "0": "FRIGHT NIGHT",
                                    "1": "R",
                                    "2": "Restricted"
                                },
                                {
                                    "0": "REAL STEEL",
                                    "1": "PG-13",
                                    "2": "Parental Guidance-13"
                                },
                                {
                                    "0": "THE MUPPETS",
                                    "1": "PG",
                                    "2": "Parental Guidance"
                                },
                                {
                                    "0": "WAR HORSE",
                                    "1": "PG-13",
                                    "2": "Parental Guidance-13"
                                },
                                {
                                    "0": "THE SECRET WORLD OF ARIETTY",
                                    "1": "G",
                                    "2": "General audiences"
                                },
                                {
                                    "0": "JOHN CARTER",
                                    "1": "PG-13",
                                    "2": "Parental Guidance-13"
                                },
                                {
                                    "0": "CHIMPANZEE",
                                    "1": "G",
                                    "2": "General audiences"
                                },
                                {
                                    "0": "THE AVENGERS",
                                    "1": "PG-13",
                                    "2": "Parental Guidance-13"
                                },
                                {
                                    "0": "BRAVE",
                                    "1": "PG",
                                    "2": "Parental Guidance"
                                },
                                {
                                    "0": "PEOPLE LIKE US",
                                    "1": "PG-13",
                                    "2": "Parental Guidance-13"
                                },
                                {
                                    "0": "THE ODD LIFE OF TIMOTHY GREEN",
                                    "1": "PG",
                                    "2": "Parental Guidance"
                                },
                                {
                                    "0": "FRANKENWEENIE",
                                    "1": "PG",
                                    "2": "Parental Guidance"
                                },
                                {
                                    "0": "WRECK-IT RALPH",
                                    "1": "PG",
                                    "2": "Parental Guidance"
                                },
                                {
                                    "0": "LINCOLN",
                                    "1": "PG-13",
                                    "2": "Parental Guidance-13"
                                },
                                {
                                    "0": "OZ THE GREAT AND POWERFUL",
                                    "1": "PG",
                                    "2": "Parental Guidance"
                                },
                                {
                                    "0": "IRON MAN 3",
                                    "1": "PG-13",
                                    "2": "Parental Guidance-13"
                                },
                                {
                                    "0": "MONSTERS UNIVERSITY",
                                    "1": "G",
                                    "2": "General audiences"
                                },
                                {
                                    "0": "THE LONE RANGER",
                                    "1": "PG-13",
                                    "2": "Parental Guidance-13"
                                },
                                {
                                    "0": "DISNEY PLANES",
                                    "1": "PG",
                                    "2": "Parental Guidance"
                                },
                                {
                                    "0": "THE FIFTH ESTATE",
                                    "1": "R",
                                    "2": "Restricted"
                                },
                                {
                                    "0": "THOR: THE DARK WORLD",
                                    "1": "PG-13",
                                    "2": "Parental Guidance-13"
                                },
                                {
                                    "0": "KAZE TACHINU",
                                    "1": "PG-13",
                                    "2": "Parental Guidance-13"
                                },
                                {
                                    "0": "FROZEN",
                                    "1": "PG",
                                    "2": "Parental Guidance"
                                },
                                {
                                    "0": "DELIVERY MAN",
                                    "1": "PG-13",
                                    "2": "Parental Guidance-13"
                                },
                                {
                                    "0": "SAVING MR. BANKS",
                                    "1": "PG-13",
                                    "2": "Parental Guidance-13"
                                },
                                {
                                    "0": "NEED FOR SPEED",
                                    "1": "PG-13",
                                    "2": "Parental Guidance-13"
                                },
                                {
                                    "0": "MUPPETS MOST WANTED",
                                    "1": "PG",
                                    "2": "Parental Guidance"
                                },
                                {
                                    "0": "CAPTAIN AMERICA: THE WINTER SOLDIER",
                                    "1": "PG-13",
                                    "2": "Parental Guidance-13"
                                },
                                {
                                    "0": "BEARS",
                                    "1": "G",
                                    "2": "General audiences"
                                },
                                {
                                    "0": "MILLION DOLLAR ARM",
                                    "1": "PG",
                                    "2": "Parental Guidance"
                                },
                                {
                                    "0": "MALEFICENT",
                                    "1": "PG",
                                    "2": "Parental Guidance"
                                },
                                {
                                    "0": "PLANES: FIRE AND RESCUE",
                                    "1": "PG",
                                    "2": "Parental Guidance"
                                },
                                {
                                    "0": "GUARDIANS OF THE GALAXY",
                                    "1": "PG-13",
                                    "2": "Parental Guidance-13"
                                },
                                {
                                    "0": "THE HUNDRED-FOOT JOURNEY",
                                    "1": "PG",
                                    "2": "Parental Guidance"
                                },
                                {
                                    "0": "ALEXANDER AND THE TERRIBLE, HORRIBLE,…",
                                    "1": "PG",
                                    "2": "Parental Guidance"
                                },
                                {
                                    "0": "BIG HERO 6",
                                    "1": "PG",
                                    "2": "Parental Guidance"
                                },
                                {
                                    "0": "INTO THE WOODS",
                                    "1": "PG",
                                    "2": "Parental Guidance"
                                },
                                {
                                    "0": "STRANGE MAGIC",
                                    "1": "PG",
                                    "2": "Parental Guidance"
                                },
                                {
                                    "0": "MCFARLAND, USA",
                                    "1": "PG",
                                    "2": "Parental Guidance"
                                },
                                {
                                    "0": "CINDERELLA",
                                    "1": "PG",
                                    "2": "Parental Guidance"
                                },
                                {
                                    "0": "MONKEY KINGDOM",
                                    "1": "G",
                                    "2": "General audiences"
                                },
                                {
                                    "0": "AVENGERS: AGE OF ULTRON",
                                    "1": "PG-13",
                                    "2": "Parental Guidance-13"
                                },
                                {
                                    "0": "TOMORROWLAND",
                                    "1": "PG",
                                    "2": "Parental Guidance"
                                },
                                {
                                    "0": "INSIDE OUT",
                                    "1": "PG",
                                    "2": "Parental Guidance"
                                },
                                {
                                    "0": "ANT-MAN",
                                    "1": "PG-13",
                                    "2": "Parental Guidance-13"
                                },
                                {
                                    "0": "BRIDGE OF SPIES",
                                    "1": "PG-13",
                                    "2": "Parental Guidance-13"
                                },
                                {
                                    "0": "THE GOOD DINOSAUR",
                                    "1": "PG",
                                    "2": "Parental Guidance"
                                },
                                {
                                    "0": "STAR WARS EP. VII: THE FORCE AWAKENS",
                                    "1": "PG-13",
                                    "2": "Parental Guidance-13"
                                },
                                {
                                    "0": "THE FINEST HOURS",
                                    "1": "PG",
                                    "2": "Parental Guidance"
                                },
                                {
                                    "0": "ZOOTOPIA",
                                    "1": "PG",
                                    "2": "Parental Guidance"
                                },
                                {
                                    "0": "THE JUNGLE BOOK",
                                    "1": "PG",
                                    "2": "Parental Guidance"
                                },
                                {
                                    "0": "A BEAUTIFUL PLANET",
                                    "1": "G",
                                    "2": "General audiences"
                                },
                                {
                                    "0": "CAPTAIN AMERICA: CIVIL WAR",
                                    "1": "PG-13",
                                    "2": "Parental Guidance-13"
                                },
                                {
                                    "0": "ALICE THROUGH THE LOOKING GLASS",
                                    "1": "PG",
                                    "2": "Parental Guidance"
                                },
                                {
                                    "0": "FINDING DORY",
                                    "1": "PG",
                                    "2": "Parental Guidance"
                                },
                                {
                                    "0": "THE BFG",
                                    "1": "PG",
                                    "2": "Parental Guidance"
                                },
                                {
                                    "0": "PETE’S DRAGON",
                                    "1": "PG",
                                    "2": "Parental Guidance"
                                },
                                {
                                    "0": "THE LIGHT BETWEEN OCEANS",
                                    "1": "PG-13",
                                    "2": "Parental Guidance-13"
                                },
                                {
                                    "0": "QUEEN OF KATWE",
                                    "1": "PG",
                                    "2": "Parental Guidance"
                                },
                                {
                                    "0": "DOCTOR STRANGE",
                                    "1": "PG-13",
                                    "2": "Parental Guidance-13"
                                },
                                {
                                    "0": "MOANA",
                                    "1": "PG",
                                    "2": "Parental Guidance"
                                },
                                {
                                    "0": "ROGUE ONE: A STAR WARS STORY",
                                    "1": "PG-13",
                                    "2": "Parental Guidance-13"
                                }
                            ]
                        },
                        "text/html": "<table><tr><th>movie_title</th><th>mpaa_rating</th><th>mpaa</th></tr><tr><td>SNOW WHITE AND THE SEVEN DWARFS</td><td>G</td><td>General audiences</td></tr><tr><td>PINOCCHIO</td><td>G</td><td>General audiences</td></tr><tr><td>FANTASIA</td><td>G</td><td>General audiences</td></tr><tr><td>SONG OF THE SOUTH</td><td>G</td><td>General audiences</td></tr><tr><td>CINDERELLA</td><td>G</td><td>General audiences</td></tr><tr><td>20,000 LEAGUES UNDER THE SEA</td><td>NULL</td><td>NULL</td></tr><tr><td>LADY AND THE TRAMP</td><td>G</td><td>General audiences</td></tr><tr><td>SLEEPING BEAUTY</td><td>NULL</td><td>NULL</td></tr><tr><td>101 DALMATIANS</td><td>G</td><td>General audiences</td></tr><tr><td>THE ABSENT MINDED PROFESSOR</td><td>NULL</td><td>NULL</td></tr><tr><td>BABES IN TOYLAND</td><td>G</td><td>General audiences</td></tr><tr><td>BON VOYAGE!</td><td>Not Rated</td><td>Not Rated</td></tr><tr><td>THE SWORD IN THE STONE</td><td>NULL</td><td>NULL</td></tr><tr><td>THE JUNGLE BOOK</td><td>Not Rated</td><td>Not Rated</td></tr><tr><td>BLACKBEARD'S GHOST</td><td>NULL</td><td>NULL</td></tr><tr><td>THE ARISTOCATS</td><td>G</td><td>General audiences</td></tr><tr><td>THE BOATNIKS</td><td>NULL</td><td>NULL</td></tr><tr><td>BEDKNOBS AND BROOMSTICKS</td><td>NULL</td><td>NULL</td></tr><tr><td>THE APPLE DUMPLING GANG</td><td>NULL</td><td>NULL</td></tr><tr><td>FREAKY FRIDAY</td><td>NULL</td><td>NULL</td></tr><tr><td>THE MANY ADVENTURES OF WINNIE THE POOH</td><td>NULL</td><td>NULL</td></tr><tr><td>THE RESCUERS</td><td>NULL</td><td>NULL</td></tr><tr><td>HERBIE GOES TO MONTE CARLO</td><td>NULL</td><td>NULL</td></tr><tr><td>THE BLACK HOLE</td><td>NULL</td><td>NULL</td></tr><tr><td>MIDNIGHT MADNESS</td><td>NULL</td><td>NULL</td></tr><tr><td>THE LAST FLIGHT OF NOAH’S ARK</td><td>NULL</td><td>NULL</td></tr><tr><td>THE DEVIL AND MAX DEVLIN</td><td>NULL</td><td>NULL</td></tr><tr><td>AMY</td><td>NULL</td><td>NULL</td></tr><tr><td>THE FOX AND THE HOUND</td><td>NULL</td><td>NULL</td></tr><tr><td>CONDORMAN</td><td>NULL</td><td>NULL</td></tr><tr><td>NIGHT CROSSING</td><td>NULL</td><td>NULL</td></tr><tr><td>TRON</td><td>NULL</td><td>NULL</td></tr><tr><td>TEX</td><td>NULL</td><td>NULL</td></tr><tr><td>TRENCHCOAT</td><td>NULL</td><td>NULL</td></tr><tr><td>SOMETHING WICKED THIS WAY COMES</td><td>NULL</td><td>NULL</td></tr><tr><td>NEVER CRY WOLF</td><td>NULL</td><td>NULL</td></tr><tr><td>RUNNING BRAVE</td><td>NULL</td><td>NULL</td></tr><tr><td>SPLASH</td><td>PG</td><td>Parental Guidance</td></tr><tr><td>COUNTRY</td><td>NULL</td><td>NULL</td></tr><tr><td>BABY: SECRET OF THE LOST LEGEND</td><td>NULL</td><td>NULL</td></tr><tr><td>RETURN TO OZ</td><td>NULL</td><td>NULL</td></tr><tr><td>THE BLACK CAULDRON</td><td>NULL</td><td>NULL</td></tr><tr><td>MY SCIENCE PROJECT</td><td>NULL</td><td>NULL</td></tr><tr><td>THE JOURNEY OF NATTY GANN</td><td>NULL</td><td>NULL</td></tr><tr><td>ONE MAGIC CHRISTMAS</td><td>NULL</td><td>NULL</td></tr><tr><td>DOWN AND OUT IN BEVERLY HILLS</td><td>R</td><td>Restricted</td></tr><tr><td>OFF BEAT</td><td>NULL</td><td>NULL</td></tr><tr><td>RUTHLESS PEOPLE</td><td>R</td><td>Restricted</td></tr><tr><td>THE GREAT MOUSE DETECTIVE</td><td>NULL</td><td>NULL</td></tr><tr><td>FLIGHT OF THE NAVIGATOR</td><td>NULL</td><td>NULL</td></tr><tr><td>TOUGH GUYS</td><td>NULL</td><td>NULL</td></tr><tr><td>THE COLOR OF MONEY</td><td>R</td><td>Restricted</td></tr><tr><td>OUTRAGEOUS FORTUNE</td><td>R</td><td>Restricted</td></tr><tr><td>TIN MEN</td><td>NULL</td><td>NULL</td></tr><tr><td>ERNEST GOES TO CAMP</td><td>NULL</td><td>NULL</td></tr><tr><td>BENJI THE HUNTED</td><td>NULL</td><td>NULL</td></tr><tr><td>ADVENTURES IN BABYSITTING</td><td>NULL</td><td>NULL</td></tr><tr><td>STAKEOUT</td><td>R</td><td>Restricted</td></tr><tr><td>CAN'T BUY ME LOVE</td><td>NULL</td><td>NULL</td></tr><tr><td>HELLO AGAIN</td><td>NULL</td><td>NULL</td></tr><tr><td>3 MEN AND A BABY</td><td>PG</td><td>Parental Guidance</td></tr><tr><td>GOOD MORNING VIETNAM</td><td>R</td><td>Restricted</td></tr><tr><td>SHOOT TO KILL</td><td>NULL</td><td>NULL</td></tr><tr><td>D.O.A.</td><td>NULL</td><td>NULL</td></tr><tr><td>RETURN TO SNOWY RIVER</td><td>PG</td><td>Parental Guidance</td></tr><tr><td>BIG BUSINESS</td><td>PG</td><td>Parental Guidance</td></tr><tr><td>WHO FRAMED ROGER RABBIT?</td><td>PG</td><td>Parental Guidance</td></tr><tr><td>COCKTAIL</td><td>R</td><td>Restricted</td></tr><tr><td>THE RESCUE</td><td>NULL</td><td>NULL</td></tr><tr><td>HEARTBREAK HOTEL</td><td>NULL</td><td>NULL</td></tr><tr><td>THE GOOD MOTHER</td><td>NULL</td><td>NULL</td></tr><tr><td>ERNEST SAVES CHRISTMAS</td><td>PG</td><td>Parental Guidance</td></tr><tr><td>OLIVER &amp; COMPANY</td><td>G</td><td>General audiences</td></tr><tr><td>BEACHES</td><td>PG-13</td><td>Parental Guidance-13</td></tr><tr><td>THREE FUGITIVES</td><td>PG-13</td><td>Parental Guidance-13</td></tr><tr><td>NEW YORK STORIES</td><td>PG</td><td>Parental Guidance</td></tr><tr><td>DISORGANIZED CRIME</td><td>NULL</td><td>NULL</td></tr><tr><td>DEAD POETS SOCIETY</td><td>PG</td><td>Parental Guidance</td></tr><tr><td>HONEY, I SHRUNK THE KIDS</td><td>PG</td><td>Parental Guidance</td></tr><tr><td>TURNER &amp; HOOCH</td><td>PG</td><td>Parental Guidance</td></tr><tr><td>CHEETAH</td><td>NULL</td><td>NULL</td></tr><tr><td>AN INNOCENT MAN</td><td>R</td><td>Restricted</td></tr><tr><td>GROSS ANATOMY</td><td>PG-13</td><td>Parental Guidance-13</td></tr><tr><td>THE LITTLE MERMAID</td><td>G</td><td>General audiences</td></tr><tr><td>BLAZE</td><td>R</td><td>Restricted</td></tr><tr><td>STELLA</td><td>PG-13</td><td>Parental Guidance-13</td></tr><tr><td>WHERE THE HEART IS</td><td>NULL</td><td>NULL</td></tr><tr><td>PRETTY WOMAN</td><td>R</td><td>Restricted</td></tr><tr><td>ERNEST GOES TO JAIL</td><td>PG</td><td>Parental Guidance</td></tr><tr><td>SPACED INVADERS</td><td>PG</td><td>Parental Guidance</td></tr><tr><td>FIRE BIRDS</td><td>PG-13</td><td>Parental Guidance-13</td></tr><tr><td>DICK TRACY</td><td>PG</td><td>Parental Guidance</td></tr><tr><td>BETSY'S WEDDING</td><td>R</td><td>Restricted</td></tr><tr><td>ARACHNOPHOBIA</td><td>PG-13</td><td>Parental Guidance-13</td></tr><tr><td>DUCKTALES: THE MOVIE - TREASURE OF TH…</td><td>G</td><td>General audiences</td></tr><tr><td>TAKING CARE OF BUSINESS</td><td>R</td><td>Restricted</td></tr><tr><td>MR. DESTINY</td><td>PG-13</td><td>Parental Guidance-13</td></tr><tr><td>THE RESCUERS DOWN UNDER</td><td>G</td><td>General audiences</td></tr><tr><td>3 MEN AND A LITTLE LADY</td><td>PG</td><td>Parental Guidance</td></tr><tr><td>GREEN CARD</td><td>PG-13</td><td>Parental Guidance-13</td></tr><tr><td>WHITE FANG</td><td>PG</td><td>Parental Guidance</td></tr><tr><td>SCENES FROM A MALL</td><td>NULL</td><td>NULL</td></tr><tr><td>HAAKON HAAKONSEN</td><td>PG</td><td>Parental Guidance</td></tr><tr><td>THE MARRYING MAN</td><td>R</td><td>Restricted</td></tr><tr><td>OSCAR</td><td>PG</td><td>Parental Guidance</td></tr><tr><td>ONE GOOD COP</td><td>R</td><td>Restricted</td></tr><tr><td>WHAT ABOUT BOB?</td><td>PG</td><td>Parental Guidance</td></tr><tr><td>WILD HEARTS CAN'T BE BROKEN</td><td>NULL</td><td>NULL</td></tr><tr><td>THE ROCKETEER</td><td>PG</td><td>Parental Guidance</td></tr><tr><td>THE DOCTOR</td><td>PG-13</td><td>Parental Guidance-13</td></tr><tr><td>PARADISE</td><td>PG-13</td><td>Parental Guidance-13</td></tr><tr><td>DECEIVED</td><td>PG-13</td><td>Parental Guidance-13</td></tr><tr><td>ERNEST SCARED STUPID</td><td>PG</td><td>Parental Guidance</td></tr><tr><td>BILLY BATHGATE</td><td>R</td><td>Restricted</td></tr><tr><td>BEAUTY AND THE BEAST</td><td>G</td><td>General audiences</td></tr><tr><td>FATHER OF THE BRIDE</td><td>PG</td><td>Parental Guidance</td></tr><tr><td>THE HAND THAT ROCKS THE CRADLE</td><td>R</td><td>Restricted</td></tr><tr><td>MEDICINE MAN</td><td>PG-13</td><td>Parental Guidance-13</td></tr><tr><td>BLAME IT ON THE BELLBOY</td><td>PG-13</td><td>Parental Guidance-13</td></tr><tr><td>NOISES OFF...</td><td>PG-13</td><td>Parental Guidance-13</td></tr><tr><td>STRAIGHT TALK</td><td>PG</td><td>Parental Guidance</td></tr><tr><td>NEWSIES</td><td>PG</td><td>Parental Guidance</td></tr><tr><td>PASSED AWAY</td><td>PG-13</td><td>Parental Guidance-13</td></tr><tr><td>ENCINO MAN</td><td>PG</td><td>Parental Guidance</td></tr><tr><td>SISTER ACT</td><td>PG</td><td>Parental Guidance</td></tr><tr><td>HONEY I BLEW UP THE KID</td><td>PG</td><td>Parental Guidance</td></tr><tr><td>A STRANGER AMONG US</td><td>PG-13</td><td>Parental Guidance-13</td></tr><tr><td>3 NINJAS</td><td>PG</td><td>Parental Guidance</td></tr><tr><td>A GUN IN BETTY LOU'S HANDBAG</td><td>PG-13</td><td>Parental Guidance-13</td></tr><tr><td>CAPTAIN RON</td><td>PG-13</td><td>Parental Guidance-13</td></tr><tr><td>SARAFINA!</td><td>PG-13</td><td>Parental Guidance-13</td></tr><tr><td>INNOCENT BLOOD</td><td>R</td><td>Restricted</td></tr><tr><td>THE MIGHTY DUCKS</td><td>PG</td><td>Parental Guidance</td></tr><tr><td>1492: CONQUEST OF PARADISE</td><td>PG-13</td><td>Parental Guidance-13</td></tr><tr><td>CONSENTING ADULTS</td><td>R</td><td>Restricted</td></tr><tr><td>ALADDIN</td><td>G</td><td>General audiences</td></tr><tr><td>THE DISTINGUISHED GENTLEMAN</td><td>R</td><td>Restricted</td></tr><tr><td>THE MUPPET CHRISTMAS CAROL</td><td>G</td><td>General audiences</td></tr><tr><td>ALIVE</td><td>R</td><td>Restricted</td></tr><tr><td>ASPEN EXTREME</td><td>PG-13</td><td>Parental Guidance-13</td></tr><tr><td>HOMEWARD BOUND: THE INCREDIBLE JOURNEY</td><td>G</td><td>General audiences</td></tr><tr><td>THE CEMETERY CLUB</td><td>PG-13</td><td>Parental Guidance-13</td></tr><tr><td>SWING KIDS</td><td>PG-13</td><td>Parental Guidance-13</td></tr><tr><td>A FAR OFF PLACE</td><td>PG</td><td>Parental Guidance</td></tr><tr><td>BORN YESTERDAY</td><td>PG</td><td>Parental Guidance</td></tr><tr><td>THE ADVENTURES OF HUCK FINN</td><td>PG</td><td>Parental Guidance</td></tr><tr><td>BOUND BY HONOR</td><td>R</td><td>Restricted</td></tr><tr><td>INDIAN SUMMER</td><td>R</td><td>Restricted</td></tr><tr><td>SUPER MARIO BROS.</td><td>PG</td><td>Parental Guidance</td></tr><tr><td>GUILTY AS SIN</td><td>R</td><td>Restricted</td></tr><tr><td>LIFE WITH MIKEY</td><td>PG</td><td>Parental Guidance</td></tr><tr><td>WHAT'S LOVE GOT TO DO WITH IT</td><td>R</td><td>Restricted</td></tr><tr><td>SON IN LAW</td><td>PG-13</td><td>Parental Guidance-13</td></tr><tr><td>HOCUS POCUS</td><td>PG</td><td>Parental Guidance</td></tr><tr><td>ANOTHER STAKEOUT</td><td>PG-13</td><td>Parental Guidance-13</td></tr><tr><td>MY BOYFRIEND'S BACK</td><td>PG-13</td><td>Parental Guidance-13</td></tr><tr><td>FATHER HOOD</td><td>PG-13</td><td>Parental Guidance-13</td></tr><tr><td>THE JOY LUCK CLUB</td><td>R</td><td>Restricted</td></tr><tr><td>MONEY FOR NOTHING</td><td>R</td><td>Restricted</td></tr><tr><td>THE PROGRAM</td><td>R</td><td>Restricted</td></tr><tr><td>COOL RUNNINGS</td><td>PG</td><td>Parental Guidance</td></tr><tr><td>THE NIGHTMARE BEFORE CHRISTMAS</td><td>PG</td><td>Parental Guidance</td></tr><tr><td>THE THREE MUSKETEERS</td><td>PG</td><td>Parental Guidance</td></tr><tr><td>SISTER ACT 2 BACK IN THE HABIT</td><td>PG</td><td>Parental Guidance</td></tr><tr><td>TOMBSTONE</td><td>R</td><td>Restricted</td></tr><tr><td>THE AIR UP THERE</td><td>PG</td><td>Parental Guidance</td></tr><tr><td>CABIN BOY</td><td>PG-13</td><td>Parental Guidance-13</td></tr><tr><td>IRON WILL</td><td>PG</td><td>Parental Guidance</td></tr><tr><td>RED ROCK WEST</td><td>R</td><td>Restricted</td></tr><tr><td>BLANK CHECK</td><td>PG</td><td>Parental Guidance</td></tr><tr><td>ANGIE</td><td>R</td><td>Restricted</td></tr><tr><td>THE REF</td><td>R</td><td>Restricted</td></tr><tr><td>D2: THE MIGHTY DUCKS</td><td>PG</td><td>Parental Guidance</td></tr><tr><td>HOLY MATRIMONY</td><td>NULL</td><td>NULL</td></tr><tr><td>WHITE FANG 2: MYTH OF THE WHITE WOLF</td><td>PG</td><td>Parental Guidance</td></tr><tr><td>THE INKWELL</td><td>R</td><td>Restricted</td></tr><tr><td>WHEN A MAN LOVES A WOMAN</td><td>R</td><td>Restricted</td></tr><tr><td>3 NINJAS KICK BACK</td><td>PG</td><td>Parental Guidance</td></tr><tr><td>RENAISSANCE MAN</td><td>PG-13</td><td>Parental Guidance-13</td></tr><tr><td>THE LION KING</td><td>G</td><td>General audiences</td></tr><tr><td>I LOVE TROUBLE</td><td>PG</td><td>Parental Guidance</td></tr><tr><td>ANGELS IN THE OUTFIELD</td><td>PG</td><td>Parental Guidance</td></tr><tr><td>IN THE ARMY NOW</td><td>PG</td><td>Parental Guidance</td></tr><tr><td>COLOR OF NIGHT</td><td>R</td><td>Restricted</td></tr><tr><td>CAMP NOWHERE</td><td>PG</td><td>Parental Guidance</td></tr><tr><td>IT'S PAT</td><td>NULL</td><td>NULL</td></tr><tr><td>A SIMPLE TWIST OF FATE</td><td>PG-13</td><td>Parental Guidance-13</td></tr><tr><td>QUIZ SHOW</td><td>PG-13</td><td>Parental Guidance-13</td></tr><tr><td>TERMINAL VELOCITY</td><td>PG-13</td><td>Parental Guidance-13</td></tr><tr><td>ED WOOD</td><td>R</td><td>Restricted</td></tr><tr><td>THE PUPPET MASTERS</td><td>R</td><td>Restricted</td></tr><tr><td>SQUANTO: A WARRIOR'S TALE</td><td>PG</td><td>Parental Guidance</td></tr><tr><td>THE SANTA CLAUSE</td><td>PG</td><td>Parental Guidance</td></tr><tr><td>A LOW DOWN DIRTY SHAME</td><td>R</td><td>Restricted</td></tr><tr><td>THE JUNGLE BOOK</td><td>PG</td><td>Parental Guidance</td></tr><tr><td>HOUSEGUEST</td><td>PG</td><td>Parental Guidance</td></tr><tr><td>BAD COMPANY</td><td>R</td><td>Restricted</td></tr><tr><td>MIAMI RHAPSODY</td><td>PG-13</td><td>Parental Guidance-13</td></tr><tr><td>THE JERKY BOYS</td><td>R</td><td>Restricted</td></tr><tr><td>HEAVY WEIGHTS</td><td>PG</td><td>Parental Guidance</td></tr><tr><td>MAN OF THE HOUSE</td><td>PG</td><td>Parental Guidance</td></tr><tr><td>ROOMMATES</td><td>PG</td><td>Parental Guidance</td></tr><tr><td>TALL TALE</td><td>PG</td><td>Parental Guidance</td></tr><tr><td>A PYROMANIAC'S LOVE STORY</td><td>PG</td><td>Parental Guidance</td></tr><tr><td>JEFFERSON IN PARIS</td><td>PG-13</td><td>Parental Guidance-13</td></tr><tr><td>FUNNY BONES</td><td>R</td><td>Restricted</td></tr><tr><td>A GOOFY MOVIE</td><td>G</td><td>General audiences</td></tr><tr><td>WHILE YOU WERE SLEEPING</td><td>PG</td><td>Parental Guidance</td></tr><tr><td>CRIMSON TIDE</td><td>R</td><td>Restricted</td></tr><tr><td>MAD LOVE</td><td>PG-13</td><td>Parental Guidance-13</td></tr><tr><td>POCAHONTAS</td><td>G</td><td>General audiences</td></tr><tr><td>JUDGE DREDD</td><td>R</td><td>Restricted</td></tr><tr><td>OPERATION DUMBO DROP</td><td>PG</td><td>Parental Guidance</td></tr><tr><td>DANGEROUS MINDS</td><td>R</td><td>Restricted</td></tr><tr><td>A KID IN KING ARTHUR'S COURT</td><td>PG</td><td>Parental Guidance</td></tr><tr><td>THE TIE THAT BINDS</td><td>R</td><td>Restricted</td></tr><tr><td>UNSTRUNG HEROES</td><td>PG</td><td>Parental Guidance</td></tr><tr><td>THE BIG GREEN</td><td>PG</td><td>Parental Guidance</td></tr><tr><td>DEAD PRESIDENTS</td><td>R</td><td>Restricted</td></tr><tr><td>THE SCARLET LETTER</td><td>R</td><td>Restricted</td></tr><tr><td>FEAST OF JULY</td><td>R</td><td>Restricted</td></tr><tr><td>POWDER</td><td>PG-13</td><td>Parental Guidance-13</td></tr><tr><td>TOY STORY</td><td>G</td><td>General audiences</td></tr><tr><td>FATHER OF THE BRIDE PART II</td><td>PG</td><td>Parental Guidance</td></tr><tr><td>NIXON</td><td>R</td><td>Restricted</td></tr><tr><td>TOM AND HUCK</td><td>PG</td><td>Parental Guidance</td></tr><tr><td>MR. HOLLAND'S OPUS</td><td>PG</td><td>Parental Guidance</td></tr><tr><td>WHITE SQUALL</td><td>PG-13</td><td>Parental Guidance-13</td></tr><tr><td>MUPPET TREASURE ISLAND</td><td>G</td><td>General audiences</td></tr><tr><td>MR. WRONG</td><td>PG-13</td><td>Parental Guidance-13</td></tr><tr><td>BEFORE AND AFTER</td><td>PG-13</td><td>Parental Guidance-13</td></tr><tr><td>UP CLOSE &amp; PERSONAL</td><td>PG-13</td><td>Parental Guidance-13</td></tr><tr><td>HOMEWARD BOUND II: LOST IN SAN FRANC…</td><td>G</td><td>General audiences</td></tr><tr><td>TWO MUCH</td><td>PG-13</td><td>Parental Guidance-13</td></tr><tr><td>UN INDIEN DANS LA VILLE</td><td>PG</td><td>Parental Guidance</td></tr><tr><td>JAMES AND THE GIANT PEACH</td><td>PG</td><td>Parental Guidance</td></tr><tr><td>CELTIC PRIDE</td><td>PG-13</td><td>Parental Guidance-13</td></tr><tr><td>LAST DANCE</td><td>R</td><td>Restricted</td></tr><tr><td>BOYS</td><td>PG-13</td><td>Parental Guidance-13</td></tr><tr><td>SPY HARD</td><td>PG-13</td><td>Parental Guidance-13</td></tr><tr><td>EDDIE</td><td>PG-13</td><td>Parental Guidance-13</td></tr><tr><td>THE ROCK</td><td>R</td><td>Restricted</td></tr><tr><td>THE HUNCHBACK OF NOTRE DAME</td><td>G</td><td>General audiences</td></tr><tr><td>PHENOMENON</td><td>PG</td><td>Parental Guidance</td></tr><tr><td>KAZAAM</td><td>PG</td><td>Parental Guidance</td></tr><tr><td>JACK</td><td>PG-13</td><td>Parental Guidance-13</td></tr><tr><td>FIRST KID</td><td>PG</td><td>Parental Guidance</td></tr><tr><td>THE RICH MAN'S WIFE</td><td>R</td><td>Restricted</td></tr><tr><td>D3: THE MIGHTY DUCKS</td><td>PG</td><td>Parental Guidance</td></tr><tr><td>THE ASSOCIATE</td><td>PG-13</td><td>Parental Guidance-13</td></tr><tr><td>RANSOM</td><td>R</td><td>Restricted</td></tr><tr><td>THE WAR AT HOME</td><td>R</td><td>Restricted</td></tr><tr><td>101 DALMATIANS</td><td>G</td><td>General audiences</td></tr><tr><td>THE PREACHER'S WIFE</td><td>PG</td><td>Parental Guidance</td></tr><tr><td>EVITA</td><td>PG</td><td>Parental Guidance</td></tr><tr><td>METRO</td><td>R</td><td>Restricted</td></tr><tr><td>PREFONTAINE</td><td>PG-13</td><td>Parental Guidance-13</td></tr><tr><td>SHADOW CONSPIRACY</td><td>R</td><td>Restricted</td></tr><tr><td>THAT DARN CAT</td><td>PG</td><td>Parental Guidance</td></tr><tr><td>JUNGLE 2 JUNGLE</td><td>PG</td><td>Parental Guidance</td></tr><tr><td>THE SIXTH MAN</td><td>PG-13</td><td>Parental Guidance-13</td></tr><tr><td>GROSSE POINTE BLANK</td><td>R</td><td>Restricted</td></tr><tr><td>ROMY AND MICHELE'S HIGH SCHOOL REUNION</td><td>R</td><td>Restricted</td></tr><tr><td>GONE FISHIN'</td><td>PG</td><td>Parental Guidance</td></tr><tr><td>CON AIR</td><td>R</td><td>Restricted</td></tr><tr><td>HERCULES</td><td>G</td><td>General audiences</td></tr><tr><td>GEORGE OF THE JUNGLE</td><td>PG</td><td>Parental Guidance</td></tr><tr><td>NOTHING TO LOSE</td><td>R</td><td>Restricted</td></tr><tr><td>AIR BUD</td><td>PG</td><td>Parental Guidance</td></tr><tr><td>G.I. JANE</td><td>R</td><td>Restricted</td></tr><tr><td>A THOUSAND ACRES</td><td>R</td><td>Restricted</td></tr><tr><td>WASHINGTON SQUARE</td><td>PG</td><td>Parental Guidance</td></tr><tr><td>ROCKET MAN</td><td>PG</td><td>Parental Guidance</td></tr><tr><td>PLAYING GOD</td><td>R</td><td>Restricted</td></tr><tr><td>FLUBBER</td><td>PG</td><td>Parental Guidance</td></tr><tr><td>AN AMERICAN WEREWOLF IN PARIS</td><td>R</td><td>Restricted</td></tr><tr><td>MR. MAGOO</td><td>PG</td><td>Parental Guidance</td></tr><tr><td>KUNDUN</td><td>PG-13</td><td>Parental Guidance-13</td></tr><tr><td>DEEP RISING</td><td>R</td><td>Restricted</td></tr><tr><td>KRIPPENDORF'S TRIBE</td><td>PG-13</td><td>Parental Guidance-13</td></tr><tr><td>AN ALAN SMITHEE FILM: BURN HOLLYWOOD …</td><td>R</td><td>Restricted</td></tr><tr><td>MEET THE DEEDLES</td><td>PG</td><td>Parental Guidance</td></tr><tr><td>HE GOT GAME</td><td>R</td><td>Restricted</td></tr><tr><td>THE HORSE WHISPERER</td><td>PG-13</td><td>Parental Guidance-13</td></tr><tr><td>SIX DAYS, SEVEN NIGHTS</td><td>PG-13</td><td>Parental Guidance-13</td></tr><tr><td>MULAN</td><td>G</td><td>General audiences</td></tr><tr><td>ARMAGEDDON</td><td>PG-13</td><td>Parental Guidance-13</td></tr><tr><td>JANE AUSTEN'S MAFIA</td><td>PG-13</td><td>Parental Guidance-13</td></tr><tr><td>THE PARENT TRAP</td><td>PG</td><td>Parental Guidance</td></tr><tr><td>FIRELIGHT</td><td>R</td><td>Restricted</td></tr><tr><td>SIMON BIRCH</td><td>PG</td><td>Parental Guidance</td></tr><tr><td>HOLY MAN</td><td>PG</td><td>Parental Guidance</td></tr><tr><td>BELOVED</td><td>R</td><td>Restricted</td></tr><tr><td>THE WATERBOY</td><td>PG-13</td><td>Parental Guidance-13</td></tr><tr><td>I'LL BE HOME FOR CHRISTMAS</td><td>PG</td><td>Parental Guidance</td></tr><tr><td>A BUG'S LIFE</td><td>G</td><td>General audiences</td></tr><tr><td>ENEMY OF THE STATE</td><td>R</td><td>Restricted</td></tr><tr><td>RUSHMORE</td><td>R</td><td>Restricted</td></tr><tr><td>A CIVIL ACTION</td><td>PG-13</td><td>Parental Guidance-13</td></tr><tr><td>MIGHTY JOE YOUNG</td><td>PG</td><td>Parental Guidance</td></tr><tr><td>MY FAVORITE MARTIAN</td><td>PG</td><td>Parental Guidance</td></tr><tr><td>THE OTHER SISTER</td><td>PG-13</td><td>Parental Guidance-13</td></tr><tr><td>DOUG'S 1ST MOVIE</td><td>G</td><td>General audiences</td></tr><tr><td>TEN THINGS I HATE ABOUT YOU</td><td>PG-13</td><td>Parental Guidance-13</td></tr><tr><td>ENDURANCE</td><td>PG</td><td>Parental Guidance</td></tr><tr><td>INSTINCT</td><td>R</td><td>Restricted</td></tr><tr><td>TARZAN</td><td>G</td><td>General audiences</td></tr><tr><td>SUMMER OF SAM</td><td>R</td><td>Restricted</td></tr><tr><td>INSPECTOR GADGET</td><td>PG</td><td>Parental Guidance</td></tr><tr><td>THE SIXTH SENSE</td><td>PG-13</td><td>Parental Guidance-13</td></tr><tr><td>THE 13TH WARRIOR</td><td>R</td><td>Restricted</td></tr><tr><td>BREAKFAST OF CHAMPIONS</td><td>R</td><td>Restricted</td></tr><tr><td>MUMFORD</td><td>R</td><td>Restricted</td></tr><tr><td>MYSTERY, ALASKA</td><td>R</td><td>Restricted</td></tr><tr><td>THE STRAIGHT STORY</td><td>G</td><td>General audiences</td></tr><tr><td>THE INSIDER</td><td>R</td><td>Restricted</td></tr><tr><td>TOY STORY 2</td><td>G</td><td>General audiences</td></tr><tr><td>CRADLE WILL ROCK</td><td>R</td><td>Restricted</td></tr><tr><td>DEUCE BIGALOW: MALE GIGOLO</td><td>R</td><td>Restricted</td></tr><tr><td>BICENTENNIAL MAN</td><td>PG</td><td>Parental Guidance</td></tr><tr><td>PLAY IT TO THE BONE</td><td>R</td><td>Restricted</td></tr><tr><td>FANTASIA 2000 (IMAX)</td><td>G</td><td>General audiences</td></tr><tr><td>GUN SHY</td><td>R</td><td>Restricted</td></tr><tr><td>THE TIGGER MOVIE</td><td>G</td><td>General audiences</td></tr><tr><td>MISSION TO MARS</td><td>PG</td><td>Parental Guidance</td></tr><tr><td>HIGH FIDELITY</td><td>R</td><td>Restricted</td></tr><tr><td>KEEPING THE FAITH</td><td>PG-13</td><td>Parental Guidance-13</td></tr><tr><td>DINOSAUR</td><td>PG</td><td>Parental Guidance</td></tr><tr><td>SHANGHAI NOON</td><td>PG-13</td><td>Parental Guidance-13</td></tr><tr><td>GONE IN 60 SECONDS</td><td>PG-13</td><td>Parental Guidance-13</td></tr><tr><td>FANTASIA 2000 (THEATRICAL RELEASE)</td><td>G</td><td>General audiences</td></tr><tr><td>THE KID</td><td>PG</td><td>Parental Guidance</td></tr><tr><td>COYOTE UGLY</td><td>PG-13</td><td>Parental Guidance-13</td></tr><tr><td>THE CREW</td><td>PG-13</td><td>Parental Guidance-13</td></tr><tr><td>DUETS</td><td>R</td><td>Restricted</td></tr><tr><td>REMEMBER THE TITANS</td><td>PG</td><td>Parental Guidance</td></tr><tr><td>UNBREAKABLE</td><td>PG-13</td><td>Parental Guidance-13</td></tr><tr><td>102 DALMATIANS</td><td>G</td><td>General audiences</td></tr><tr><td>THE EMPEROR'S NEW GROOVE</td><td>G</td><td>General audiences</td></tr><tr><td>O BROTHER, WHERE ART THOU?</td><td>PG-13</td><td>Parental Guidance-13</td></tr><tr><td>DOUBLE TAKE</td><td>PG-13</td><td>Parental Guidance-13</td></tr><tr><td>RECESS: SCHOOL'S OUT</td><td>G</td><td>General audiences</td></tr><tr><td>JUST VISITING</td><td>PG-13</td><td>Parental Guidance-13</td></tr><tr><td>PEARL HARBOR</td><td>PG-13</td><td>Parental Guidance-13</td></tr><tr><td>ATLANTIS: THE LOST EMPIRE</td><td>PG</td><td>Parental Guidance</td></tr><tr><td>CRAZY/BEAUTIFUL</td><td>PG-13</td><td>Parental Guidance-13</td></tr><tr><td>THE PRINCESS DIARIES</td><td>G</td><td>General audiences</td></tr><tr><td>BUBBLE BOY</td><td>PG-13</td><td>Parental Guidance-13</td></tr><tr><td>MAX KEEBLE'S BIG MOVE</td><td>PG</td><td>Parental Guidance</td></tr><tr><td>CORKY ROMANO</td><td>PG-13</td><td>Parental Guidance-13</td></tr><tr><td>HIGH HEELS AND LOW LIFES</td><td>R</td><td>Restricted</td></tr><tr><td>MONSTERS, INC.</td><td>G</td><td>General audiences</td></tr><tr><td>OUT COLD</td><td>PG-13</td><td>Parental Guidance-13</td></tr><tr><td>THE ROYAL TENENBAUMS</td><td>R</td><td>Restricted</td></tr><tr><td>BEAUTY AND THE BEAST (IMAX)</td><td>G</td><td>General audiences</td></tr><tr><td>FRANK MCKLUSKY C.I.</td><td>NULL</td><td>NULL</td></tr><tr><td>SNOW DOGS</td><td>PG</td><td>Parental Guidance</td></tr><tr><td>THE COUNT OF MONTE CRISTO</td><td>PG-13</td><td>Parental Guidance-13</td></tr><tr><td>PETER PAN: RETURN TO NEVERLAND</td><td>G</td><td>General audiences</td></tr><tr><td>REIGN OF FIRE</td><td>PG-13</td><td>Parental Guidance-13</td></tr><tr><td>SORORITY BOYS</td><td>R</td><td>Restricted</td></tr><tr><td>THE ROOKIE</td><td>G</td><td>General audiences</td></tr><tr><td>BIG TROUBLE</td><td>PG-13</td><td>Parental Guidance-13</td></tr><tr><td>ESPN'S ULTIMATE X - THE MOVIE</td><td>PG</td><td>Parental Guidance</td></tr><tr><td>BAD COMPANY</td><td>PG-13</td><td>Parental Guidance-13</td></tr><tr><td>LILO &amp; STITCH</td><td>PG</td><td>Parental Guidance</td></tr><tr><td>THE COUNTRY BEARS</td><td>G</td><td>General audiences</td></tr><tr><td>SIGNS</td><td>PG-13</td><td>Parental Guidance-13</td></tr><tr><td>SEN TO CHIHIRO NO KAMIKAKUSHI</td><td>PG</td><td>Parental Guidance</td></tr><tr><td>SWEET HOME ALABAMA</td><td>PG-13</td><td>Parental Guidance-13</td></tr><tr><td>MOONLIGHT MILE</td><td>PG-13</td><td>Parental Guidance-13</td></tr><tr><td>TUCK EVERLASTING</td><td>PG</td><td>Parental Guidance</td></tr><tr><td>THE SANTA CLAUSE 2</td><td>G</td><td>General audiences</td></tr><tr><td>TREASURE PLANET</td><td>PG</td><td>Parental Guidance</td></tr><tr><td>THE HOT CHICK</td><td>PG-13</td><td>Parental Guidance-13</td></tr><tr><td>25TH HOUR</td><td>R</td><td>Restricted</td></tr><tr><td>THE RECRUIT</td><td>PG-13</td><td>Parental Guidance-13</td></tr><tr><td>SHANGHAI KNIGHTS</td><td>PG-13</td><td>Parental Guidance-13</td></tr><tr><td>THE JUNGLE BOOK 2</td><td>G</td><td>General audiences</td></tr><tr><td>BRINGING DOWN THE HOUSE</td><td>PG-13</td><td>Parental Guidance-13</td></tr><tr><td>PIGLET'S BIG MOVIE</td><td>G</td><td>General audiences</td></tr><tr><td>GHOSTS OF THE ABYSS</td><td>G</td><td>General audiences</td></tr><tr><td>HOLES</td><td>PG</td><td>Parental Guidance</td></tr><tr><td>THE LIZZIE MCGUIRE MOVIE</td><td>PG</td><td>Parental Guidance</td></tr><tr><td>FINDING NEMO</td><td>G</td><td>General audiences</td></tr><tr><td>PIRATES OF THE CARIBBEAN: THE CURSE O…</td><td>PG-13</td><td>Parental Guidance-13</td></tr><tr><td>FREAKY FRIDAY</td><td>PG</td><td>Parental Guidance</td></tr><tr><td>OPEN RANGE</td><td>R</td><td>Restricted</td></tr><tr><td>COLD CREEK MANOR</td><td>R</td><td>Restricted</td></tr><tr><td>UNDER THE TUSCAN SUN</td><td>PG-13</td><td>Parental Guidance-13</td></tr><tr><td>VERONICA GUERIN</td><td>R</td><td>Restricted</td></tr><tr><td>BROTHER BEAR</td><td>G</td><td>General audiences</td></tr><tr><td>THE HAUNTED MANSION</td><td>PG</td><td>Parental Guidance</td></tr><tr><td>CALENDAR GIRLS</td><td>PG-13</td><td>Parental Guidance-13</td></tr><tr><td>YOUNG BLACK STALLION</td><td>G</td><td>General audiences</td></tr><tr><td>TEACHER'S PET: THE MOVIE</td><td>PG</td><td>Parental Guidance</td></tr><tr><td>MIRACLE</td><td>PG</td><td>Parental Guidance</td></tr><tr><td>CONFESSIONS OF A TEENAGE DRAMA QUEEN</td><td>PG</td><td>Parental Guidance</td></tr><tr><td>HIDALGO</td><td>PG-13</td><td>Parental Guidance-13</td></tr><tr><td>THE LADYKILLERS</td><td>R</td><td>Restricted</td></tr><tr><td>HOME ON THE RANGE</td><td>PG</td><td>Parental Guidance</td></tr><tr><td>THE ALAMO</td><td>PG-13</td><td>Parental Guidance-13</td></tr><tr><td>RAISING HELEN</td><td>PG-13</td><td>Parental Guidance-13</td></tr><tr><td>AROUND THE WORLD IN 80 DAYS</td><td>PG</td><td>Parental Guidance</td></tr><tr><td>AMERICA'S HEART AND SOUL</td><td>Not Rated</td><td>Not Rated</td></tr><tr><td>KING ARTHUR</td><td>PG-13</td><td>Parental Guidance-13</td></tr><tr><td>THE VILLAGE</td><td>PG-13</td><td>Parental Guidance-13</td></tr><tr><td>THE PRINCESS DIARIES 2: ROYAL ENGAGEMENT</td><td>G</td><td>General audiences</td></tr><tr><td>MR. 3000</td><td>PG-13</td><td>Parental Guidance-13</td></tr><tr><td>THE LAST SHOT</td><td>R</td><td>Restricted</td></tr><tr><td>LADDER 49</td><td>PG-13</td><td>Parental Guidance-13</td></tr><tr><td>THE INCREDIBLES</td><td>PG</td><td>Parental Guidance</td></tr><tr><td>NATIONAL TREASURE</td><td>PG</td><td>Parental Guidance</td></tr><tr><td>THE LIFE AQUATIC WITH STEVE ZISSOU</td><td>R</td><td>Restricted</td></tr><tr><td>ALIENS OF THE DEEP</td><td>G</td><td>General audiences</td></tr><tr><td>POOH'S HEFFALUMP MOVIE</td><td>G</td><td>General audiences</td></tr><tr><td>THE PACIFIER</td><td>PG</td><td>Parental Guidance</td></tr><tr><td>ICE PRINCESS</td><td>G</td><td>General audiences</td></tr><tr><td>A LOT LIKE LOVE</td><td>PG-13</td><td>Parental Guidance-13</td></tr><tr><td>THE HITCHHIKER'S GUIDE TO THE GALAXY</td><td>PG</td><td>Parental Guidance</td></tr><tr><td>HAURU NO UGOKU SHIRO</td><td>PG</td><td>Parental Guidance</td></tr><tr><td>HERBIE: FULLY LOADED</td><td>G</td><td>General audiences</td></tr><tr><td>DARK WATER</td><td>PG-13</td><td>Parental Guidance-13</td></tr><tr><td>SKY HIGH</td><td>PG</td><td>Parental Guidance</td></tr><tr><td>VALIANT</td><td>G</td><td>General audiences</td></tr><tr><td>FLIGHTPLAN</td><td>PG-13</td><td>Parental Guidance-13</td></tr><tr><td>THE GREATEST GAME EVER PLAYED</td><td>PG</td><td>Parental Guidance</td></tr><tr><td>SHOPGIRL</td><td>R</td><td>Restricted</td></tr><tr><td>CHICKEN LITTLE</td><td>G</td><td>General audiences</td></tr><tr><td>THE CHRONICLES OF NARNIA: THE LION, T…</td><td>PG</td><td>Parental Guidance</td></tr><tr><td>CASANOVA</td><td>R</td><td>Restricted</td></tr><tr><td>GLORY ROAD</td><td>PG</td><td>Parental Guidance</td></tr><tr><td>ANNAPOLIS</td><td>PG-13</td><td>Parental Guidance-13</td></tr><tr><td>ROVING MARS</td><td>G</td><td>General audiences</td></tr><tr><td>EIGHT BELOW</td><td>PG</td><td>Parental Guidance</td></tr><tr><td>THE SHAGGY DOG</td><td>PG</td><td>Parental Guidance</td></tr><tr><td>STAY ALIVE</td><td>PG-13</td><td>Parental Guidance-13</td></tr><tr><td>THE WILD</td><td>G</td><td>General audiences</td></tr><tr><td>STICK IT</td><td>PG-13</td><td>Parental Guidance-13</td></tr><tr><td>GOAL! THE DREAM BEGINS</td><td>PG</td><td>Parental Guidance</td></tr><tr><td>CARS</td><td>G</td><td>General audiences</td></tr><tr><td>PIRATES OF THE CARIBBEAN: DEAD MAN’…</td><td>PG-13</td><td>Parental Guidance-13</td></tr><tr><td>STEP UP</td><td>PG-13</td><td>Parental Guidance-13</td></tr><tr><td>INVINCIBLE</td><td>PG</td><td>Parental Guidance</td></tr><tr><td>THE GUARDIAN</td><td>PG-13</td><td>Parental Guidance-13</td></tr><tr><td>THE PRESTIGE</td><td>PG-13</td><td>Parental Guidance-13</td></tr><tr><td>TIM BURTON'S THE NIGHTMARE BEFORE CHR…</td><td>PG</td><td>Parental Guidance</td></tr><tr><td>THE SANTA CLAUSE 3: THE ESCAPE CLAUSE</td><td>G</td><td>General audiences</td></tr><tr><td>DÉJÀ VU</td><td>PG-13</td><td>Parental Guidance-13</td></tr><tr><td>APOCALYPTO</td><td>R</td><td>Restricted</td></tr><tr><td>PRIMEVAL</td><td>R</td><td>Restricted</td></tr><tr><td>BRIDGE TO TERABITHIA</td><td>PG</td><td>Parental Guidance</td></tr><tr><td>WILD HOGS</td><td>PG-13</td><td>Parental Guidance-13</td></tr><tr><td>MEET THE ROBINSONS</td><td>G</td><td>General audiences</td></tr><tr><td>THE LOOKOUT</td><td>R</td><td>Restricted</td></tr><tr><td>THE HOAX</td><td>R</td><td>Restricted</td></tr><tr><td>THE INVISIBLE</td><td>PG-13</td><td>Parental Guidance-13</td></tr><tr><td>PIRATES OF THE CARIBBEAN: AT WORLD’…</td><td>PG-13</td><td>Parental Guidance-13</td></tr><tr><td>RATATOUILLE</td><td>G</td><td>General audiences</td></tr><tr><td>UNDERDOG</td><td>PG</td><td>Parental Guidance</td></tr><tr><td>THE GAME PLAN</td><td>PG</td><td>Parental Guidance</td></tr><tr><td>DAN IN REAL LIFE</td><td>PG-13</td><td>Parental Guidance-13</td></tr><tr><td>ENCHANTED</td><td>PG</td><td>Parental Guidance</td></tr><tr><td>NATIONAL TREASURE 2: BOOK OF SECRETS</td><td>PG</td><td>Parental Guidance</td></tr><tr><td>HANNAH MONTANA/MILEY CYRUS: BEST OF B…</td><td>G</td><td>General audiences</td></tr><tr><td>STEP UP 2 THE STREETS</td><td>PG-13</td><td>Parental Guidance-13</td></tr><tr><td>COLLEGE ROAD TRIP</td><td>G</td><td>General audiences</td></tr><tr><td>THE CHRONICLES OF NARNIA: PRINCE CASPIAN</td><td>PG</td><td>Parental Guidance</td></tr><tr><td>WALL-E</td><td>G</td><td>General audiences</td></tr><tr><td>SWING VOTE</td><td>PG-13</td><td>Parental Guidance-13</td></tr><tr><td>GOAL! 2: LIVING THE DREAM...</td><td>PG-13</td><td>Parental Guidance-13</td></tr><tr><td>MIRACLE AT ST. ANNA</td><td>R</td><td>Restricted</td></tr><tr><td>BEVERLY HILLS CHIHUAHUA</td><td>PG</td><td>Parental Guidance</td></tr><tr><td>MORNING LIGHT</td><td>PG</td><td>Parental Guidance</td></tr><tr><td>HIGH SCHOOL MUSICAL 3: SENIOR YEAR</td><td>G</td><td>General audiences</td></tr><tr><td>BOLT</td><td>PG</td><td>Parental Guidance</td></tr><tr><td>BEDTIME STORIES</td><td>PG</td><td>Parental Guidance</td></tr><tr><td>CONFESSIONS OF A SHOPAHOLIC</td><td>PG</td><td>Parental Guidance</td></tr><tr><td>JONAS BROTHERS: THE 3D CONCERT EXPERI…</td><td>G</td><td>General audiences</td></tr><tr><td>RACE TO WITCH MOUNTAIN</td><td>PG</td><td>Parental Guidance</td></tr><tr><td>HANNAH MONTANA THE MOVIE</td><td>G</td><td>General audiences</td></tr><tr><td>EARTH</td><td>G</td><td>General audiences</td></tr><tr><td>UP</td><td>PG</td><td>Parental Guidance</td></tr><tr><td>THE PROPOSAL</td><td>PG-13</td><td>Parental Guidance-13</td></tr><tr><td>G-FORCE</td><td>PG</td><td>Parental Guidance</td></tr><tr><td>GAKE NO UE NO PONYO</td><td>G</td><td>General audiences</td></tr><tr><td>X GAMES 3D: THE MOVIE</td><td>PG</td><td>Parental Guidance</td></tr><tr><td>WALT AND EL GRUPO</td><td>PG</td><td>Parental Guidance</td></tr><tr><td>SURROGATES</td><td>PG-13</td><td>Parental Guidance-13</td></tr><tr><td>TOY STORY 3D DOUBLE FEATURE</td><td>G</td><td>General audiences</td></tr><tr><td>DISNEY'S A CHRISTMAS CAROL</td><td>PG</td><td>Parental Guidance</td></tr><tr><td>THE PRINCESS AND THE FROG</td><td>G</td><td>General audiences</td></tr><tr><td>OLD DOGS</td><td>PG</td><td>Parental Guidance</td></tr><tr><td>WHEN IN ROME</td><td>PG-13</td><td>Parental Guidance-13</td></tr><tr><td>ALICE IN WONDERLAND</td><td>PG</td><td>Parental Guidance</td></tr><tr><td>WAKING SLEEPING BEAUTY</td><td>PG</td><td>Parental Guidance</td></tr><tr><td>THE LAST SONG</td><td>PG</td><td>Parental Guidance</td></tr><tr><td>OCEANS</td><td>G</td><td>General audiences</td></tr><tr><td>PRINCE OF PERSIA: SANDS OF TIME</td><td>PG-13</td><td>Parental Guidance-13</td></tr><tr><td>TOY STORY 3</td><td>G</td><td>General audiences</td></tr><tr><td>THE SORCERER'S APPRENTICE</td><td>PG</td><td>Parental Guidance</td></tr><tr><td>STEP UP 3D</td><td>PG-13</td><td>Parental Guidance-13</td></tr><tr><td>GEDO SENKI (TALES FROM EARTHSEA)</td><td>PG-13</td><td>Parental Guidance-13</td></tr><tr><td>YOU AGAIN</td><td>PG</td><td>Parental Guidance</td></tr><tr><td>SECRETARIAT</td><td>PG</td><td>Parental Guidance</td></tr><tr><td>TANGLED</td><td>PG</td><td>Parental Guidance</td></tr><tr><td>TRON: LEGACY</td><td>PG</td><td>Parental Guidance</td></tr><tr><td>GNOMEO AND JULIET</td><td>G</td><td>General audiences</td></tr><tr><td>I AM NUMBER FOUR</td><td>PG-13</td><td>Parental Guidance-13</td></tr><tr><td>MARS NEEDS MOMS</td><td>PG</td><td>Parental Guidance</td></tr><tr><td>AFRICAN CATS</td><td>G</td><td>General audiences</td></tr><tr><td>ZOKKOMON</td><td>PG</td><td>Parental Guidance</td></tr><tr><td>PROM</td><td>PG</td><td>Parental Guidance</td></tr><tr><td>PIRATES OF THE CARIBBEAN: ON STRANGER…</td><td>PG-13</td><td>Parental Guidance-13</td></tr><tr><td>CARS 2</td><td>G</td><td>General audiences</td></tr><tr><td>WINNIE THE POOH</td><td>G</td><td>General audiences</td></tr><tr><td>THE HELP</td><td>PG-13</td><td>Parental Guidance-13</td></tr><tr><td>FRIGHT NIGHT</td><td>R</td><td>Restricted</td></tr><tr><td>REAL STEEL</td><td>PG-13</td><td>Parental Guidance-13</td></tr><tr><td>THE MUPPETS</td><td>PG</td><td>Parental Guidance</td></tr><tr><td>WAR HORSE</td><td>PG-13</td><td>Parental Guidance-13</td></tr><tr><td>THE SECRET WORLD OF ARIETTY</td><td>G</td><td>General audiences</td></tr><tr><td>JOHN CARTER</td><td>PG-13</td><td>Parental Guidance-13</td></tr><tr><td>CHIMPANZEE</td><td>G</td><td>General audiences</td></tr><tr><td>THE AVENGERS</td><td>PG-13</td><td>Parental Guidance-13</td></tr><tr><td>BRAVE</td><td>PG</td><td>Parental Guidance</td></tr><tr><td>PEOPLE LIKE US</td><td>PG-13</td><td>Parental Guidance-13</td></tr><tr><td>THE ODD LIFE OF TIMOTHY GREEN</td><td>PG</td><td>Parental Guidance</td></tr><tr><td>FRANKENWEENIE</td><td>PG</td><td>Parental Guidance</td></tr><tr><td>WRECK-IT RALPH</td><td>PG</td><td>Parental Guidance</td></tr><tr><td>LINCOLN</td><td>PG-13</td><td>Parental Guidance-13</td></tr><tr><td>OZ THE GREAT AND POWERFUL</td><td>PG</td><td>Parental Guidance</td></tr><tr><td>IRON MAN 3</td><td>PG-13</td><td>Parental Guidance-13</td></tr><tr><td>MONSTERS UNIVERSITY</td><td>G</td><td>General audiences</td></tr><tr><td>THE LONE RANGER</td><td>PG-13</td><td>Parental Guidance-13</td></tr><tr><td>DISNEY PLANES</td><td>PG</td><td>Parental Guidance</td></tr><tr><td>THE FIFTH ESTATE</td><td>R</td><td>Restricted</td></tr><tr><td>THOR: THE DARK WORLD</td><td>PG-13</td><td>Parental Guidance-13</td></tr><tr><td>KAZE TACHINU</td><td>PG-13</td><td>Parental Guidance-13</td></tr><tr><td>FROZEN</td><td>PG</td><td>Parental Guidance</td></tr><tr><td>DELIVERY MAN</td><td>PG-13</td><td>Parental Guidance-13</td></tr><tr><td>SAVING MR. BANKS</td><td>PG-13</td><td>Parental Guidance-13</td></tr><tr><td>NEED FOR SPEED</td><td>PG-13</td><td>Parental Guidance-13</td></tr><tr><td>MUPPETS MOST WANTED</td><td>PG</td><td>Parental Guidance</td></tr><tr><td>CAPTAIN AMERICA: THE WINTER SOLDIER</td><td>PG-13</td><td>Parental Guidance-13</td></tr><tr><td>BEARS</td><td>G</td><td>General audiences</td></tr><tr><td>MILLION DOLLAR ARM</td><td>PG</td><td>Parental Guidance</td></tr><tr><td>MALEFICENT</td><td>PG</td><td>Parental Guidance</td></tr><tr><td>PLANES: FIRE AND RESCUE</td><td>PG</td><td>Parental Guidance</td></tr><tr><td>GUARDIANS OF THE GALAXY</td><td>PG-13</td><td>Parental Guidance-13</td></tr><tr><td>THE HUNDRED-FOOT JOURNEY</td><td>PG</td><td>Parental Guidance</td></tr><tr><td>ALEXANDER AND THE TERRIBLE, HORRIBLE,…</td><td>PG</td><td>Parental Guidance</td></tr><tr><td>BIG HERO 6</td><td>PG</td><td>Parental Guidance</td></tr><tr><td>INTO THE WOODS</td><td>PG</td><td>Parental Guidance</td></tr><tr><td>STRANGE MAGIC</td><td>PG</td><td>Parental Guidance</td></tr><tr><td>MCFARLAND, USA</td><td>PG</td><td>Parental Guidance</td></tr><tr><td>CINDERELLA</td><td>PG</td><td>Parental Guidance</td></tr><tr><td>MONKEY KINGDOM</td><td>G</td><td>General audiences</td></tr><tr><td>AVENGERS: AGE OF ULTRON</td><td>PG-13</td><td>Parental Guidance-13</td></tr><tr><td>TOMORROWLAND</td><td>PG</td><td>Parental Guidance</td></tr><tr><td>INSIDE OUT</td><td>PG</td><td>Parental Guidance</td></tr><tr><td>ANT-MAN</td><td>PG-13</td><td>Parental Guidance-13</td></tr><tr><td>BRIDGE OF SPIES</td><td>PG-13</td><td>Parental Guidance-13</td></tr><tr><td>THE GOOD DINOSAUR</td><td>PG</td><td>Parental Guidance</td></tr><tr><td>STAR WARS EP. VII: THE FORCE AWAKENS</td><td>PG-13</td><td>Parental Guidance-13</td></tr><tr><td>THE FINEST HOURS</td><td>PG</td><td>Parental Guidance</td></tr><tr><td>ZOOTOPIA</td><td>PG</td><td>Parental Guidance</td></tr><tr><td>THE JUNGLE BOOK</td><td>PG</td><td>Parental Guidance</td></tr><tr><td>A BEAUTIFUL PLANET</td><td>G</td><td>General audiences</td></tr><tr><td>CAPTAIN AMERICA: CIVIL WAR</td><td>PG-13</td><td>Parental Guidance-13</td></tr><tr><td>ALICE THROUGH THE LOOKING GLASS</td><td>PG</td><td>Parental Guidance</td></tr><tr><td>FINDING DORY</td><td>PG</td><td>Parental Guidance</td></tr><tr><td>THE BFG</td><td>PG</td><td>Parental Guidance</td></tr><tr><td>PETE’S DRAGON</td><td>PG</td><td>Parental Guidance</td></tr><tr><td>THE LIGHT BETWEEN OCEANS</td><td>PG-13</td><td>Parental Guidance-13</td></tr><tr><td>QUEEN OF KATWE</td><td>PG</td><td>Parental Guidance</td></tr><tr><td>DOCTOR STRANGE</td><td>PG-13</td><td>Parental Guidance-13</td></tr><tr><td>MOANA</td><td>PG</td><td>Parental Guidance</td></tr><tr><td>ROGUE ONE: A STAR WARS STORY</td><td>PG-13</td><td>Parental Guidance-13</td></tr></table>"
                    },
                    "metadata": {}
                }
            ],
            "execution_count": 17
        }
    ]
}