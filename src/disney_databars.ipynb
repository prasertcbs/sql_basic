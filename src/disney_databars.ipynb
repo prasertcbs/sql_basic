{
    "metadata": {
        "kernelspec": {
            "name": "SQL",
            "display_name": "SQL",
            "language": "sql"
        },
        "language_info": {
            "name": "sql",
            "version": ""
        }
    },
    "nbformat_minor": 2,
    "nbformat": 4,
    "cells": [
        {
            "cell_type": "markdown",
            "source": [
                "# Create data bars: REPLICATE(), NCHAR()\r\n",
                "## Server: Microsoft SQL Server\r\n",
                "## Database: disney\r\n",
                "## Author: Prasert Kanawattanachai\r\n",
                "## YouTube: https://youtu.be/o8fBtNO25d4"
            ],
            "metadata": {}
        },
        {
            "cell_type": "code",
            "source": "select REPLICATE('+', 10), REPLICATE('|', 20) ",
            "metadata": {},
            "outputs": [
                {
                    "output_type": "display_data",
                    "data": {
                        "text/html": "(1 row affected)"
                    },
                    "metadata": {}
                },
                {
                    "output_type": "display_data",
                    "data": {
                        "text/html": "Total execution time: 00:00:00.113"
                    },
                    "metadata": {}
                },
                {
                    "output_type": "execute_result",
                    "execution_count": 22,
                    "data": {
                        "application/vnd.dataresource+json": {
                            "schema": {
                                "fields": [
                                    {
                                        "name": "(No column name)"
                                    },
                                    {
                                        "name": "(No column name)"
                                    }
                                ]
                            },
                            "data": [
                                {
                                    "0": "++++++++++",
                                    "1": "||||||||||||||||||||"
                                }
                            ]
                        },
                        "text/html": "<table><tr><th>(No column name)</th><th>(No column name)</th></tr><tr><td>++++++++++</td><td>||||||||||||||||||||</td></tr></table>"
                    },
                    "metadata": {}
                }
            ],
            "execution_count": 22
        },
        {
            "cell_type": "markdown",
            "source": "Box characters: https://en.wikipedia.org/wiki/Box-drawing_character",
            "metadata": {}
        },
        {
            "cell_type": "code",
            "source": "select nchar(65), nchar(0x41), nchar(0x2588), nchar(0x2591)",
            "metadata": {},
            "outputs": [
                {
                    "output_type": "display_data",
                    "data": {
                        "text/html": "(1 row affected)"
                    },
                    "metadata": {}
                },
                {
                    "output_type": "display_data",
                    "data": {
                        "text/html": "Total execution time: 00:00:02.320"
                    },
                    "metadata": {}
                },
                {
                    "output_type": "execute_result",
                    "execution_count": 23,
                    "data": {
                        "application/vnd.dataresource+json": {
                            "schema": {
                                "fields": [
                                    {
                                        "name": "(No column name)"
                                    },
                                    {
                                        "name": "(No column name)"
                                    },
                                    {
                                        "name": "(No column name)"
                                    },
                                    {
                                        "name": "(No column name)"
                                    }
                                ]
                            },
                            "data": [
                                {
                                    "0": "A",
                                    "1": "A",
                                    "2": "█",
                                    "3": "░"
                                }
                            ]
                        },
                        "text/html": "<table><tr><th>(No column name)</th><th>(No column name)</th><th>(No column name)</th><th>(No column name)</th></tr><tr><td>A</td><td>A</td><td>█</td><td>░</td></tr></table>"
                    },
                    "metadata": {}
                }
            ],
            "execution_count": 23
        },
        {
            "cell_type": "code",
            "source": "select replicate(nchar(0x2588), 10), replicate(nchar(0x2591), 10)",
            "metadata": {},
            "outputs": [
                {
                    "output_type": "display_data",
                    "data": {
                        "text/html": "(1 row affected)"
                    },
                    "metadata": {}
                },
                {
                    "output_type": "display_data",
                    "data": {
                        "text/html": "Total execution time: 00:00:00.082"
                    },
                    "metadata": {}
                },
                {
                    "output_type": "execute_result",
                    "execution_count": 24,
                    "data": {
                        "application/vnd.dataresource+json": {
                            "schema": {
                                "fields": [
                                    {
                                        "name": "(No column name)"
                                    },
                                    {
                                        "name": "(No column name)"
                                    }
                                ]
                            },
                            "data": [
                                {
                                    "0": "██████████",
                                    "1": "░░░░░░░░░░"
                                }
                            ]
                        },
                        "text/html": "<table><tr><th>(No column name)</th><th>(No column name)</th></tr><tr><td>██████████</td><td>░░░░░░░░░░</td></tr></table>"
                    },
                    "metadata": {}
                }
            ],
            "execution_count": 24
        },
        {
            "cell_type": "code",
            "source": [
                "select director, count(*) no_movies, \n",
                "    replicate(nchar(0x2588), count(*)) block_0x2588, \n",
                "    replicate(nchar(0x2591), count(*)) block_0x2591,\n",
                "    replicate(nchar(0x259E), count(*)) block_0x259E\n",
                "    from director \n",
                "    group by director \n",
                "    having count(*) > 1\n",
                "    order by no_movies desc"
            ],
            "metadata": {},
            "outputs": [
                {
                    "output_type": "display_data",
                    "data": {
                        "text/html": "(13 rows affected)"
                    },
                    "metadata": {}
                },
                {
                    "output_type": "display_data",
                    "data": {
                        "text/html": "Total execution time: 00:00:00.275"
                    },
                    "metadata": {}
                },
                {
                    "output_type": "execute_result",
                    "execution_count": 1,
                    "data": {
                        "application/vnd.dataresource+json": {
                            "schema": {
                                "fields": [
                                    {
                                        "name": "director"
                                    },
                                    {
                                        "name": "no_movies"
                                    },
                                    {
                                        "name": "block_0x2588"
                                    },
                                    {
                                        "name": "block_0x2591"
                                    },
                                    {
                                        "name": "block_0x259E"
                                    }
                                ]
                            },
                            "data": [
                                {
                                    "0": "Ron Clements",
                                    "1": "7",
                                    "2": "███████",
                                    "3": "░░░░░░░",
                                    "4": "▞▞▞▞▞▞▞"
                                },
                                {
                                    "0": "Wolfgang Reitherman",
                                    "1": "7",
                                    "2": "███████",
                                    "3": "░░░░░░░",
                                    "4": "▞▞▞▞▞▞▞"
                                },
                                {
                                    "0": "Jack Kinney",
                                    "1": "4",
                                    "2": "████",
                                    "3": "░░░░",
                                    "4": "▞▞▞▞"
                                },
                                {
                                    "0": "Gary Trousdale",
                                    "1": "3",
                                    "2": "███",
                                    "3": "░░░",
                                    "4": "▞▞▞"
                                },
                                {
                                    "0": "Clyde Geronimi",
                                    "1": "3",
                                    "2": "███",
                                    "3": "░░░",
                                    "4": "▞▞▞"
                                },
                                {
                                    "0": "David Hand",
                                    "1": "2",
                                    "2": "██",
                                    "3": "░░",
                                    "4": "▞▞"
                                },
                                {
                                    "0": "full credits",
                                    "1": "2",
                                    "2": "██",
                                    "3": "░░",
                                    "4": "▞▞"
                                },
                                {
                                    "0": "Ben Sharpsteen",
                                    "1": "2",
                                    "2": "██",
                                    "3": "░░",
                                    "4": "▞▞"
                                },
                                {
                                    "0": "Chris Buck",
                                    "1": "2",
                                    "2": "██",
                                    "3": "░░",
                                    "4": "▞▞"
                                },
                                {
                                    "0": "Hamilton Luske",
                                    "1": "2",
                                    "2": "██",
                                    "3": "░░",
                                    "4": "▞▞"
                                },
                                {
                                    "0": "Mark Dindal",
                                    "1": "2",
                                    "2": "██",
                                    "3": "░░",
                                    "4": "▞▞"
                                },
                                {
                                    "0": "Mike Gabriel",
                                    "1": "2",
                                    "2": "██",
                                    "3": "░░",
                                    "4": "▞▞"
                                },
                                {
                                    "0": "Stephen J. Anderson",
                                    "1": "2",
                                    "2": "██",
                                    "3": "░░",
                                    "4": "▞▞"
                                }
                            ]
                        },
                        "text/html": "<table><tr><th>director</th><th>no_movies</th><th>block_0x2588</th><th>block_0x2591</th><th>block_0x259E</th></tr><tr><td>Ron Clements</td><td>7</td><td>███████</td><td>░░░░░░░</td><td>▞▞▞▞▞▞▞</td></tr><tr><td>Wolfgang Reitherman</td><td>7</td><td>███████</td><td>░░░░░░░</td><td>▞▞▞▞▞▞▞</td></tr><tr><td>Jack Kinney</td><td>4</td><td>████</td><td>░░░░</td><td>▞▞▞▞</td></tr><tr><td>Gary Trousdale</td><td>3</td><td>███</td><td>░░░</td><td>▞▞▞</td></tr><tr><td>Clyde Geronimi</td><td>3</td><td>███</td><td>░░░</td><td>▞▞▞</td></tr><tr><td>David Hand</td><td>2</td><td>██</td><td>░░</td><td>▞▞</td></tr><tr><td>full credits</td><td>2</td><td>██</td><td>░░</td><td>▞▞</td></tr><tr><td>Ben Sharpsteen</td><td>2</td><td>██</td><td>░░</td><td>▞▞</td></tr><tr><td>Chris Buck</td><td>2</td><td>██</td><td>░░</td><td>▞▞</td></tr><tr><td>Hamilton Luske</td><td>2</td><td>██</td><td>░░</td><td>▞▞</td></tr><tr><td>Mark Dindal</td><td>2</td><td>██</td><td>░░</td><td>▞▞</td></tr><tr><td>Mike Gabriel</td><td>2</td><td>██</td><td>░░</td><td>▞▞</td></tr><tr><td>Stephen J. Anderson</td><td>2</td><td>██</td><td>░░</td><td>▞▞</td></tr></table>"
                    },
                    "metadata": {}
                }
            ],
            "execution_count": 1
        },
        {
            "cell_type": "code",
            "source": [
                "select year(release_date) year, count(*) no_movies, \n",
                "    replicate(nchar(0x2588), count(*)) block_0x2588,\n",
                "    replicate(nchar(0x2589), count(*)) block_0x2589\n",
                "    from movie_gross\n",
                "    where year(release_date) > 2000\n",
                "    group by year(release_date)\n",
                "    order by no_movies desc"
            ],
            "metadata": {},
            "outputs": [
                {
                    "output_type": "display_data",
                    "data": {
                        "text/html": "(16 rows affected)"
                    },
                    "metadata": {}
                },
                {
                    "output_type": "display_data",
                    "data": {
                        "text/html": "Total execution time: 00:00:00.083"
                    },
                    "metadata": {}
                },
                {
                    "output_type": "execute_result",
                    "execution_count": 30,
                    "data": {
                        "application/vnd.dataresource+json": {
                            "schema": {
                                "fields": [
                                    {
                                        "name": "year"
                                    },
                                    {
                                        "name": "no_movies"
                                    },
                                    {
                                        "name": "block_0x2588"
                                    },
                                    {
                                        "name": "block_0x2589"
                                    }
                                ]
                            },
                            "data": [
                                {
                                    "0": "2002",
                                    "1": "22",
                                    "2": "██████████████████████",
                                    "3": "▉▉▉▉▉▉▉▉▉▉▉▉▉▉▉▉▉▉▉▉▉▉"
                                },
                                {
                                    "0": "2003",
                                    "1": "19",
                                    "2": "███████████████████",
                                    "3": "▉▉▉▉▉▉▉▉▉▉▉▉▉▉▉▉▉▉▉"
                                },
                                {
                                    "0": "2004",
                                    "1": "19",
                                    "2": "███████████████████",
                                    "3": "▉▉▉▉▉▉▉▉▉▉▉▉▉▉▉▉▉▉▉"
                                },
                                {
                                    "0": "2006",
                                    "1": "19",
                                    "2": "███████████████████",
                                    "3": "▉▉▉▉▉▉▉▉▉▉▉▉▉▉▉▉▉▉▉"
                                },
                                {
                                    "0": "2005",
                                    "1": "17",
                                    "2": "█████████████████",
                                    "3": "▉▉▉▉▉▉▉▉▉▉▉▉▉▉▉▉▉"
                                },
                                {
                                    "0": "2009",
                                    "1": "16",
                                    "2": "████████████████",
                                    "3": "▉▉▉▉▉▉▉▉▉▉▉▉▉▉▉▉"
                                },
                                {
                                    "0": "2010",
                                    "1": "14",
                                    "2": "██████████████",
                                    "3": "▉▉▉▉▉▉▉▉▉▉▉▉▉▉"
                                },
                                {
                                    "0": "2011",
                                    "1": "14",
                                    "2": "██████████████",
                                    "3": "▉▉▉▉▉▉▉▉▉▉▉▉▉▉"
                                },
                                {
                                    "0": "2007",
                                    "1": "14",
                                    "2": "██████████████",
                                    "3": "▉▉▉▉▉▉▉▉▉▉▉▉▉▉"
                                },
                                {
                                    "0": "2001",
                                    "1": "14",
                                    "2": "██████████████",
                                    "3": "▉▉▉▉▉▉▉▉▉▉▉▉▉▉"
                                },
                                {
                                    "0": "2016",
                                    "1": "14",
                                    "2": "██████████████",
                                    "3": "▉▉▉▉▉▉▉▉▉▉▉▉▉▉"
                                },
                                {
                                    "0": "2008",
                                    "1": "13",
                                    "2": "█████████████",
                                    "3": "▉▉▉▉▉▉▉▉▉▉▉▉▉"
                                },
                                {
                                    "0": "2014",
                                    "1": "12",
                                    "2": "████████████",
                                    "3": "▉▉▉▉▉▉▉▉▉▉▉▉"
                                },
                                {
                                    "0": "2015",
                                    "1": "11",
                                    "2": "███████████",
                                    "3": "▉▉▉▉▉▉▉▉▉▉▉"
                                },
                                {
                                    "0": "2013",
                                    "1": "11",
                                    "2": "███████████",
                                    "3": "▉▉▉▉▉▉▉▉▉▉▉"
                                },
                                {
                                    "0": "2012",
                                    "1": "10",
                                    "2": "██████████",
                                    "3": "▉▉▉▉▉▉▉▉▉▉"
                                }
                            ]
                        },
                        "text/html": "<table><tr><th>year</th><th>no_movies</th><th>block_0x2588</th><th>block_0x2589</th></tr><tr><td>2002</td><td>22</td><td>██████████████████████</td><td>▉▉▉▉▉▉▉▉▉▉▉▉▉▉▉▉▉▉▉▉▉▉</td></tr><tr><td>2003</td><td>19</td><td>███████████████████</td><td>▉▉▉▉▉▉▉▉▉▉▉▉▉▉▉▉▉▉▉</td></tr><tr><td>2004</td><td>19</td><td>███████████████████</td><td>▉▉▉▉▉▉▉▉▉▉▉▉▉▉▉▉▉▉▉</td></tr><tr><td>2006</td><td>19</td><td>███████████████████</td><td>▉▉▉▉▉▉▉▉▉▉▉▉▉▉▉▉▉▉▉</td></tr><tr><td>2005</td><td>17</td><td>█████████████████</td><td>▉▉▉▉▉▉▉▉▉▉▉▉▉▉▉▉▉</td></tr><tr><td>2009</td><td>16</td><td>████████████████</td><td>▉▉▉▉▉▉▉▉▉▉▉▉▉▉▉▉</td></tr><tr><td>2010</td><td>14</td><td>██████████████</td><td>▉▉▉▉▉▉▉▉▉▉▉▉▉▉</td></tr><tr><td>2011</td><td>14</td><td>██████████████</td><td>▉▉▉▉▉▉▉▉▉▉▉▉▉▉</td></tr><tr><td>2007</td><td>14</td><td>██████████████</td><td>▉▉▉▉▉▉▉▉▉▉▉▉▉▉</td></tr><tr><td>2001</td><td>14</td><td>██████████████</td><td>▉▉▉▉▉▉▉▉▉▉▉▉▉▉</td></tr><tr><td>2016</td><td>14</td><td>██████████████</td><td>▉▉▉▉▉▉▉▉▉▉▉▉▉▉</td></tr><tr><td>2008</td><td>13</td><td>█████████████</td><td>▉▉▉▉▉▉▉▉▉▉▉▉▉</td></tr><tr><td>2014</td><td>12</td><td>████████████</td><td>▉▉▉▉▉▉▉▉▉▉▉▉</td></tr><tr><td>2015</td><td>11</td><td>███████████</td><td>▉▉▉▉▉▉▉▉▉▉▉</td></tr><tr><td>2013</td><td>11</td><td>███████████</td><td>▉▉▉▉▉▉▉▉▉▉▉</td></tr><tr><td>2012</td><td>10</td><td>██████████</td><td>▉▉▉▉▉▉▉▉▉▉</td></tr></table>"
                    },
                    "metadata": {}
                }
            ],
            "execution_count": 30
        },
        {
            "cell_type": "code",
            "source": [
                "select movie_title, \n",
                "    total_gross,\n",
                "    format(total_gross, '#,##0,,m') USD,\n",
                "    replicate(nchar(0x2588), ceiling(total_gross / 10e6)) bar\n",
                "    from movie_gross\n",
                "    where year(release_date) = 2016\n",
                "    order by total_gross desc"
            ],
            "metadata": {},
            "outputs": [
                {
                    "output_type": "display_data",
                    "data": {
                        "text/html": "(14 rows affected)"
                    },
                    "metadata": {}
                },
                {
                    "output_type": "display_data",
                    "data": {
                        "text/html": "Total execution time: 00:00:00.176"
                    },
                    "metadata": {}
                },
                {
                    "output_type": "execute_result",
                    "execution_count": 28,
                    "data": {
                        "application/vnd.dataresource+json": {
                            "schema": {
                                "fields": [
                                    {
                                        "name": "movie_title"
                                    },
                                    {
                                        "name": "total_gross"
                                    },
                                    {
                                        "name": "USD"
                                    },
                                    {
                                        "name": "bar"
                                    }
                                ]
                            },
                            "data": [
                                {
                                    "0": "Rogue One: A Star Wars Story",
                                    "1": "529483936",
                                    "2": "529m",
                                    "3": "█████████████████████████████████████████████████████"
                                },
                                {
                                    "0": "Finding Dory",
                                    "1": "486295561",
                                    "2": "486m",
                                    "3": "█████████████████████████████████████████████████"
                                },
                                {
                                    "0": "Captain America: Civil War",
                                    "1": "408084349",
                                    "2": "408m",
                                    "3": "█████████████████████████████████████████"
                                },
                                {
                                    "0": "The Jungle Book",
                                    "1": "364001123",
                                    "2": "364m",
                                    "3": "█████████████████████████████████████"
                                },
                                {
                                    "0": "Zootopia",
                                    "1": "341268248",
                                    "2": "341m",
                                    "3": "███████████████████████████████████"
                                },
                                {
                                    "0": "Moana",
                                    "1": "246082029",
                                    "2": "246m",
                                    "3": "█████████████████████████"
                                },
                                {
                                    "0": "Doctor Strange",
                                    "1": "232532923",
                                    "2": "233m",
                                    "3": "████████████████████████"
                                },
                                {
                                    "0": "Alice Through the Looking Glass",
                                    "1": "77042381",
                                    "2": "77m",
                                    "3": "████████"
                                },
                                {
                                    "0": "Pete’s Dragon",
                                    "1": "76233151",
                                    "2": "76m",
                                    "3": "████████"
                                },
                                {
                                    "0": "The BFG",
                                    "1": "55483770",
                                    "2": "55m",
                                    "3": "██████"
                                },
                                {
                                    "0": "The Finest Hours",
                                    "1": "27569558",
                                    "2": "28m",
                                    "3": "███"
                                },
                                {
                                    "0": "The Light Between Oceans",
                                    "1": "12545979",
                                    "2": "13m",
                                    "3": "██"
                                },
                                {
                                    "0": "Queen of Katwe",
                                    "1": "8874389",
                                    "2": "9m",
                                    "3": "█"
                                },
                                {
                                    "0": "A Beautiful Planet",
                                    "1": "7895708",
                                    "2": "8m",
                                    "3": "█"
                                }
                            ]
                        },
                        "text/html": "<table><tr><th>movie_title</th><th>total_gross</th><th>USD</th><th>bar</th></tr><tr><td>Rogue One: A Star Wars Story</td><td>529483936</td><td>529m</td><td>█████████████████████████████████████████████████████</td></tr><tr><td>Finding Dory</td><td>486295561</td><td>486m</td><td>█████████████████████████████████████████████████</td></tr><tr><td>Captain America: Civil War</td><td>408084349</td><td>408m</td><td>█████████████████████████████████████████</td></tr><tr><td>The Jungle Book</td><td>364001123</td><td>364m</td><td>█████████████████████████████████████</td></tr><tr><td>Zootopia</td><td>341268248</td><td>341m</td><td>███████████████████████████████████</td></tr><tr><td>Moana</td><td>246082029</td><td>246m</td><td>█████████████████████████</td></tr><tr><td>Doctor Strange</td><td>232532923</td><td>233m</td><td>████████████████████████</td></tr><tr><td>Alice Through the Looking Glass</td><td>77042381</td><td>77m</td><td>████████</td></tr><tr><td>Pete’s Dragon</td><td>76233151</td><td>76m</td><td>████████</td></tr><tr><td>The BFG</td><td>55483770</td><td>55m</td><td>██████</td></tr><tr><td>The Finest Hours</td><td>27569558</td><td>28m</td><td>███</td></tr><tr><td>The Light Between Oceans</td><td>12545979</td><td>13m</td><td>██</td></tr><tr><td>Queen of Katwe</td><td>8874389</td><td>9m</td><td>█</td></tr><tr><td>A Beautiful Planet</td><td>7895708</td><td>8m</td><td>█</td></tr></table>"
                    },
                    "metadata": {}
                }
            ],
            "execution_count": 28
        }
    ]
}