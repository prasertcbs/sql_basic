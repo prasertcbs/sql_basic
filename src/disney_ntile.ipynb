{
    "metadata": {
        "kernelspec": {
            "name": "SQL",
            "display_name": "SQL",
            "language": "sql"
        },
        "language_info": {
            "name": "sql",
            "version": ""
        }
    },
    "nbformat_minor": 2,
    "nbformat": 4,
    "cells": [
        {
            "cell_type": "markdown",
            "source": [
                "# NTILE()\n",
                "https://docs.microsoft.com/en-us/sql/t-sql/functions/ntile-transact-sql?view=sql-server-2017\n",
                "## Server: Microsoft SQL Server\n",
                "## Database: disney\n",
                "## Author: Prasert Kanawattanachai\n",
                "## YouTube: https://youtu.be/Flz4sLC4dbM\n",
                ""
            ],
            "metadata": {}
        },
        {
            "cell_type": "code",
            "source": "select * from movie_gross where year(release_date) > 2010",
            "metadata": {},
            "outputs": [
                {
                    "output_type": "display_data",
                    "data": {
                        "text/html": "(72 rows affected)"
                    },
                    "metadata": {}
                },
                {
                    "output_type": "display_data",
                    "data": {
                        "text/html": "Total execution time: 00:00:00.275"
                    },
                    "metadata": {}
                },
                {
                    "output_type": "execute_result",
                    "execution_count": 1,
                    "data": {
                        "application/vnd.dataresource+json": {
                            "schema": {
                                "fields": [
                                    {
                                        "name": "movie_title"
                                    },
                                    {
                                        "name": "release_date"
                                    },
                                    {
                                        "name": "genre"
                                    },
                                    {
                                        "name": "mpaa_rating"
                                    },
                                    {
                                        "name": "total_gross"
                                    },
                                    {
                                        "name": "inflation_adjusted_gross"
                                    }
                                ]
                            },
                            "data": [
                                {
                                    "0": "Gnomeo and Juliet",
                                    "1": "2011-02-11",
                                    "2": "Comedy",
                                    "3": "G",
                                    "4": "99967670",
                                    "5": "106270797"
                                },
                                {
                                    "0": "I am Number Four",
                                    "1": "2011-02-18",
                                    "2": "Adventure",
                                    "3": "PG-13",
                                    "4": "55100437",
                                    "5": "58574607"
                                },
                                {
                                    "0": "Mars Needs Moms",
                                    "1": "2011-03-11",
                                    "2": "Adventure",
                                    "3": "PG",
                                    "4": "21392758",
                                    "5": "22741603"
                                },
                                {
                                    "0": "African Cats",
                                    "1": "2011-04-22",
                                    "2": "Documentary",
                                    "3": "G",
                                    "4": "15428747",
                                    "5": "16401551"
                                },
                                {
                                    "0": "Zokkomon",
                                    "1": "2011-04-22",
                                    "2": "Adventure",
                                    "3": "PG",
                                    "4": "2815",
                                    "5": "2984"
                                },
                                {
                                    "0": "Prom",
                                    "1": "2011-04-29",
                                    "2": "Comedy",
                                    "3": "PG",
                                    "4": "10130219",
                                    "5": "10768946"
                                },
                                {
                                    "0": "Pirates of the Caribbean: On Stranger…",
                                    "1": "2011-05-20",
                                    "2": "Adventure",
                                    "3": "PG-13",
                                    "4": "241063875",
                                    "5": "256263359"
                                },
                                {
                                    "0": "Cars 2",
                                    "1": "2011-06-24",
                                    "2": "Adventure",
                                    "3": "G",
                                    "4": "191450875",
                                    "5": "203522177"
                                },
                                {
                                    "0": "Winnie the Pooh",
                                    "1": "2011-07-15",
                                    "2": "Adventure",
                                    "3": "G",
                                    "4": "26692846",
                                    "5": "28375869"
                                },
                                {
                                    "0": "The Help",
                                    "1": "2011-08-10",
                                    "2": "Drama",
                                    "3": "PG-13",
                                    "4": "169705587",
                                    "5": "180404976"
                                },
                                {
                                    "0": "Fright Night",
                                    "1": "2011-08-19",
                                    "2": "Horror",
                                    "3": "R",
                                    "4": "18298649",
                                    "5": "19452402"
                                },
                                {
                                    "0": "Real Steel",
                                    "1": "2011-10-07",
                                    "2": "Action",
                                    "3": "PG-13",
                                    "4": "85463309",
                                    "5": "90848019"
                                },
                                {
                                    "0": "The Muppets",
                                    "1": "2011-11-23",
                                    "2": "Comedy",
                                    "3": "PG",
                                    "4": "88625922",
                                    "5": "94189503"
                                },
                                {
                                    "0": "War Horse",
                                    "1": "2011-12-25",
                                    "2": "Drama",
                                    "3": "PG-13",
                                    "4": "79883359",
                                    "5": "84762149"
                                },
                                {
                                    "0": "The Secret World of Arietty",
                                    "1": "2012-02-17",
                                    "2": "Adventure",
                                    "3": "G",
                                    "4": "19192510",
                                    "5": "20325733"
                                },
                                {
                                    "0": "John Carter",
                                    "1": "2012-03-09",
                                    "2": "Adventure",
                                    "3": "PG-13",
                                    "4": "73058679",
                                    "5": "77372445"
                                },
                                {
                                    "0": "Chimpanzee",
                                    "1": "2012-04-20",
                                    "2": "Documentary",
                                    "3": "G",
                                    "4": "28965459",
                                    "5": "30675725"
                                },
                                {
                                    "0": "The Avengers",
                                    "1": "2012-05-04",
                                    "2": "Action",
                                    "3": "PG-13",
                                    "4": "623279547",
                                    "5": "660081224"
                                },
                                {
                                    "0": "Brave",
                                    "1": "2012-06-22",
                                    "2": "Adventure",
                                    "3": "PG",
                                    "4": "237282182",
                                    "5": "251292441"
                                },
                                {
                                    "0": "People Like Us",
                                    "1": "2012-06-29",
                                    "2": "Drama",
                                    "3": "PG-13",
                                    "4": "12431792",
                                    "5": "13165822"
                                },
                                {
                                    "0": "The Odd Life of Timothy Green",
                                    "1": "2012-08-15",
                                    "2": "Drama",
                                    "3": "PG",
                                    "4": "51853450",
                                    "5": "54914942"
                                },
                                {
                                    "0": "Frankenweenie",
                                    "1": "2012-10-05",
                                    "2": "Comedy",
                                    "3": "PG",
                                    "4": "35287788",
                                    "5": "37363513"
                                },
                                {
                                    "0": "Wreck-It Ralph",
                                    "1": "2012-11-02",
                                    "2": "Adventure",
                                    "3": "PG",
                                    "4": "189412677",
                                    "5": "200354959"
                                },
                                {
                                    "0": "Lincoln",
                                    "1": "2012-11-09",
                                    "2": "Drama",
                                    "3": "PG-13",
                                    "4": "182207973",
                                    "5": "192122330"
                                },
                                {
                                    "0": "Oz the Great and Powerful",
                                    "1": "2013-03-08",
                                    "2": "Adventure",
                                    "3": "PG",
                                    "4": "234770996",
                                    "5": "243434130"
                                },
                                {
                                    "0": "Iron Man 3",
                                    "1": "2013-05-03",
                                    "2": "Action",
                                    "3": "PG-13",
                                    "4": "408992272",
                                    "5": "424084233"
                                },
                                {
                                    "0": "Monsters University",
                                    "1": "2013-06-21",
                                    "2": "Adventure",
                                    "3": "G",
                                    "4": "268488329",
                                    "5": "278395641"
                                },
                                {
                                    "0": "The Lone Ranger",
                                    "1": "2013-07-02",
                                    "2": "Western",
                                    "3": "PG-13",
                                    "4": "89302115",
                                    "5": "92597388"
                                },
                                {
                                    "0": "Disney Planes",
                                    "1": "2013-08-09",
                                    "2": "Comedy",
                                    "3": "PG",
                                    "4": "90282580",
                                    "5": "93614037"
                                },
                                {
                                    "0": "The Fifth Estate",
                                    "1": "2013-10-18",
                                    "2": "Drama",
                                    "3": "R",
                                    "4": "3254172",
                                    "5": "3374251"
                                },
                                {
                                    "0": "Thor: The Dark World",
                                    "1": "2013-11-08",
                                    "2": "Adventure",
                                    "3": "PG-13",
                                    "4": "206362140",
                                    "5": "213962184"
                                },
                                {
                                    "0": "Kaze Tachinu",
                                    "1": "2013-11-08",
                                    "2": "Drama",
                                    "3": "PG-13",
                                    "4": "5201879",
                                    "5": "5367415"
                                },
                                {
                                    "0": "Frozen",
                                    "1": "2013-11-22",
                                    "2": "Adventure",
                                    "3": "PG",
                                    "4": "400738009",
                                    "5": "414997174"
                                },
                                {
                                    "0": "Delivery Man",
                                    "1": "2013-11-22",
                                    "2": "Comedy",
                                    "3": "PG-13",
                                    "4": "30659817",
                                    "5": "31787136"
                                },
                                {
                                    "0": "Saving Mr. Banks",
                                    "1": "2013-12-13",
                                    "2": "Drama",
                                    "3": "PG-13",
                                    "4": "83299761",
                                    "5": "86249969"
                                },
                                {
                                    "0": "Need for Speed",
                                    "1": "2014-03-14",
                                    "2": "Action",
                                    "3": "PG-13",
                                    "4": "43568507",
                                    "5": "44955015"
                                },
                                {
                                    "0": "Muppets Most Wanted",
                                    "1": "2014-03-21",
                                    "2": "Comedy",
                                    "3": "PG",
                                    "4": "51178893",
                                    "5": "52807594"
                                },
                                {
                                    "0": "Captain America: The Winter Soldier",
                                    "1": "2014-04-04",
                                    "2": "Action",
                                    "3": "PG-13",
                                    "4": "259746958",
                                    "5": "268013076"
                                },
                                {
                                    "0": "Bears",
                                    "1": "2014-04-18",
                                    "2": "Documentary",
                                    "3": "G",
                                    "4": "17780194",
                                    "5": "18346024"
                                },
                                {
                                    "0": "Million Dollar Arm",
                                    "1": "2014-05-10",
                                    "2": "Drama",
                                    "3": "PG",
                                    "4": "36447959",
                                    "5": "37607865"
                                },
                                {
                                    "0": "Maleficent",
                                    "1": "2014-05-30",
                                    "2": "Adventure",
                                    "3": "PG",
                                    "4": "241407328",
                                    "5": "249089809"
                                },
                                {
                                    "0": "Planes: Fire and Rescue",
                                    "1": "2014-07-18",
                                    "2": "Adventure",
                                    "3": "PG",
                                    "4": "59157732",
                                    "5": "61040349"
                                },
                                {
                                    "0": "Guardians of the Galaxy",
                                    "1": "2014-08-01",
                                    "2": "Adventure",
                                    "3": "PG-13",
                                    "4": "333172112",
                                    "5": "343771168"
                                },
                                {
                                    "0": "The Hundred-Foot Journey",
                                    "1": "2014-08-08",
                                    "2": "Romantic Comedy",
                                    "3": "PG",
                                    "4": "54235441",
                                    "5": "55961409"
                                },
                                {
                                    "0": "Alexander and the Terrible, Horrible,…",
                                    "1": "2014-10-10",
                                    "2": "Comedy",
                                    "3": "PG",
                                    "4": "66954149",
                                    "5": "69055550"
                                },
                                {
                                    "0": "Big Hero 6",
                                    "1": "2014-11-07",
                                    "2": "Adventure",
                                    "3": "PG",
                                    "4": "222527828",
                                    "5": "229249222"
                                },
                                {
                                    "0": "Into the Woods",
                                    "1": "2014-12-25",
                                    "2": "Musical",
                                    "3": "PG",
                                    "4": "128002372",
                                    "5": "130894237"
                                },
                                {
                                    "0": "Strange Magic",
                                    "1": "2015-01-23",
                                    "2": "Adventure",
                                    "3": "PG",
                                    "4": "12429583",
                                    "5": "12429583"
                                },
                                {
                                    "0": "McFarland, USA",
                                    "1": "2015-02-20",
                                    "2": "Drama",
                                    "3": "PG",
                                    "4": "44480275",
                                    "5": "44480275"
                                },
                                {
                                    "0": "Cinderella",
                                    "1": "2015-03-13",
                                    "2": "Drama",
                                    "3": "PG",
                                    "4": "201151353",
                                    "5": "201151353"
                                },
                                {
                                    "0": "Monkey Kingdom",
                                    "1": "2015-04-17",
                                    "2": "Documentary",
                                    "3": "G",
                                    "4": "16432322",
                                    "5": "16432322"
                                },
                                {
                                    "0": "Avengers: Age of Ultron",
                                    "1": "2015-05-01",
                                    "2": "Action",
                                    "3": "PG-13",
                                    "4": "459005868",
                                    "5": "459005868"
                                },
                                {
                                    "0": "Tomorrowland",
                                    "1": "2015-05-22",
                                    "2": "Adventure",
                                    "3": "PG",
                                    "4": "93436322",
                                    "5": "93436322"
                                },
                                {
                                    "0": "Inside Out",
                                    "1": "2015-06-19",
                                    "2": "Adventure",
                                    "3": "PG",
                                    "4": "356461711",
                                    "5": "356461711"
                                },
                                {
                                    "0": "Ant-Man",
                                    "1": "2015-07-17",
                                    "2": "Action",
                                    "3": "PG-13",
                                    "4": "180202163",
                                    "5": "180202163"
                                },
                                {
                                    "0": "Bridge of Spies",
                                    "1": "2015-10-16",
                                    "2": "Thriller/Suspense",
                                    "3": "PG-13",
                                    "4": "72313754",
                                    "5": "72313754"
                                },
                                {
                                    "0": "The Good Dinosaur",
                                    "1": "2015-11-25",
                                    "2": "Adventure",
                                    "3": "PG",
                                    "4": "123087120",
                                    "5": "123087120"
                                },
                                {
                                    "0": "Star Wars Ep. VII: The Force Awakens",
                                    "1": "2015-12-18",
                                    "2": "Adventure",
                                    "3": "PG-13",
                                    "4": "936662225",
                                    "5": "936662225"
                                },
                                {
                                    "0": "The Finest Hours",
                                    "1": "2016-01-29",
                                    "2": "Thriller/Suspense",
                                    "3": "PG",
                                    "4": "27569558",
                                    "5": "27569558"
                                },
                                {
                                    "0": "Zootopia",
                                    "1": "2016-03-04",
                                    "2": "Adventure",
                                    "3": "PG",
                                    "4": "341268248",
                                    "5": "341268248"
                                },
                                {
                                    "0": "The Jungle Book",
                                    "1": "2016-04-15",
                                    "2": "Adventure",
                                    "3": "PG",
                                    "4": "364001123",
                                    "5": "364001123"
                                },
                                {
                                    "0": "A Beautiful Planet",
                                    "1": "2016-04-29",
                                    "2": "Documentary",
                                    "3": "G",
                                    "4": "7895708",
                                    "5": "7895708"
                                },
                                {
                                    "0": "Captain America: Civil War",
                                    "1": "2016-05-06",
                                    "2": "Action",
                                    "3": "PG-13",
                                    "4": "408084349",
                                    "5": "408084349"
                                },
                                {
                                    "0": "Alice Through the Looking Glass",
                                    "1": "2016-05-27",
                                    "2": "Adventure",
                                    "3": "PG",
                                    "4": "77042381",
                                    "5": "77042381"
                                },
                                {
                                    "0": "Finding Dory",
                                    "1": "2016-06-17",
                                    "2": "Adventure",
                                    "3": "PG",
                                    "4": "486295561",
                                    "5": "486295561"
                                },
                                {
                                    "0": "The BFG",
                                    "1": "2016-07-01",
                                    "2": "Adventure",
                                    "3": "PG",
                                    "4": "55483770",
                                    "5": "55483770"
                                },
                                {
                                    "0": "Pete’s Dragon",
                                    "1": "2016-08-12",
                                    "2": "Adventure",
                                    "3": "PG",
                                    "4": "76233151",
                                    "5": "76233151"
                                },
                                {
                                    "0": "The Light Between Oceans",
                                    "1": "2016-09-02",
                                    "2": "Drama",
                                    "3": "PG-13",
                                    "4": "12545979",
                                    "5": "12545979"
                                },
                                {
                                    "0": "Queen of Katwe",
                                    "1": "2016-09-23",
                                    "2": "Drama",
                                    "3": "PG",
                                    "4": "8874389",
                                    "5": "8874389"
                                },
                                {
                                    "0": "Doctor Strange",
                                    "1": "2016-11-04",
                                    "2": "Adventure",
                                    "3": "PG-13",
                                    "4": "232532923",
                                    "5": "232532923"
                                },
                                {
                                    "0": "Moana",
                                    "1": "2016-11-23",
                                    "2": "Adventure",
                                    "3": "PG",
                                    "4": "246082029",
                                    "5": "246082029"
                                },
                                {
                                    "0": "Rogue One: A Star Wars Story",
                                    "1": "2016-12-16",
                                    "2": "Adventure",
                                    "3": "PG-13",
                                    "4": "529483936",
                                    "5": "529483936"
                                }
                            ]
                        },
                        "text/html": "<table><tr><th>movie_title</th><th>release_date</th><th>genre</th><th>mpaa_rating</th><th>total_gross</th><th>inflation_adjusted_gross</th></tr><tr><td>Gnomeo and Juliet</td><td>2011-02-11</td><td>Comedy</td><td>G</td><td>99967670</td><td>106270797</td></tr><tr><td>I am Number Four</td><td>2011-02-18</td><td>Adventure</td><td>PG-13</td><td>55100437</td><td>58574607</td></tr><tr><td>Mars Needs Moms</td><td>2011-03-11</td><td>Adventure</td><td>PG</td><td>21392758</td><td>22741603</td></tr><tr><td>African Cats</td><td>2011-04-22</td><td>Documentary</td><td>G</td><td>15428747</td><td>16401551</td></tr><tr><td>Zokkomon</td><td>2011-04-22</td><td>Adventure</td><td>PG</td><td>2815</td><td>2984</td></tr><tr><td>Prom</td><td>2011-04-29</td><td>Comedy</td><td>PG</td><td>10130219</td><td>10768946</td></tr><tr><td>Pirates of the Caribbean: On Stranger…</td><td>2011-05-20</td><td>Adventure</td><td>PG-13</td><td>241063875</td><td>256263359</td></tr><tr><td>Cars 2</td><td>2011-06-24</td><td>Adventure</td><td>G</td><td>191450875</td><td>203522177</td></tr><tr><td>Winnie the Pooh</td><td>2011-07-15</td><td>Adventure</td><td>G</td><td>26692846</td><td>28375869</td></tr><tr><td>The Help</td><td>2011-08-10</td><td>Drama</td><td>PG-13</td><td>169705587</td><td>180404976</td></tr><tr><td>Fright Night</td><td>2011-08-19</td><td>Horror</td><td>R</td><td>18298649</td><td>19452402</td></tr><tr><td>Real Steel</td><td>2011-10-07</td><td>Action</td><td>PG-13</td><td>85463309</td><td>90848019</td></tr><tr><td>The Muppets</td><td>2011-11-23</td><td>Comedy</td><td>PG</td><td>88625922</td><td>94189503</td></tr><tr><td>War Horse</td><td>2011-12-25</td><td>Drama</td><td>PG-13</td><td>79883359</td><td>84762149</td></tr><tr><td>The Secret World of Arietty</td><td>2012-02-17</td><td>Adventure</td><td>G</td><td>19192510</td><td>20325733</td></tr><tr><td>John Carter</td><td>2012-03-09</td><td>Adventure</td><td>PG-13</td><td>73058679</td><td>77372445</td></tr><tr><td>Chimpanzee</td><td>2012-04-20</td><td>Documentary</td><td>G</td><td>28965459</td><td>30675725</td></tr><tr><td>The Avengers</td><td>2012-05-04</td><td>Action</td><td>PG-13</td><td>623279547</td><td>660081224</td></tr><tr><td>Brave</td><td>2012-06-22</td><td>Adventure</td><td>PG</td><td>237282182</td><td>251292441</td></tr><tr><td>People Like Us</td><td>2012-06-29</td><td>Drama</td><td>PG-13</td><td>12431792</td><td>13165822</td></tr><tr><td>The Odd Life of Timothy Green</td><td>2012-08-15</td><td>Drama</td><td>PG</td><td>51853450</td><td>54914942</td></tr><tr><td>Frankenweenie</td><td>2012-10-05</td><td>Comedy</td><td>PG</td><td>35287788</td><td>37363513</td></tr><tr><td>Wreck-It Ralph</td><td>2012-11-02</td><td>Adventure</td><td>PG</td><td>189412677</td><td>200354959</td></tr><tr><td>Lincoln</td><td>2012-11-09</td><td>Drama</td><td>PG-13</td><td>182207973</td><td>192122330</td></tr><tr><td>Oz the Great and Powerful</td><td>2013-03-08</td><td>Adventure</td><td>PG</td><td>234770996</td><td>243434130</td></tr><tr><td>Iron Man 3</td><td>2013-05-03</td><td>Action</td><td>PG-13</td><td>408992272</td><td>424084233</td></tr><tr><td>Monsters University</td><td>2013-06-21</td><td>Adventure</td><td>G</td><td>268488329</td><td>278395641</td></tr><tr><td>The Lone Ranger</td><td>2013-07-02</td><td>Western</td><td>PG-13</td><td>89302115</td><td>92597388</td></tr><tr><td>Disney Planes</td><td>2013-08-09</td><td>Comedy</td><td>PG</td><td>90282580</td><td>93614037</td></tr><tr><td>The Fifth Estate</td><td>2013-10-18</td><td>Drama</td><td>R</td><td>3254172</td><td>3374251</td></tr><tr><td>Thor: The Dark World</td><td>2013-11-08</td><td>Adventure</td><td>PG-13</td><td>206362140</td><td>213962184</td></tr><tr><td>Kaze Tachinu</td><td>2013-11-08</td><td>Drama</td><td>PG-13</td><td>5201879</td><td>5367415</td></tr><tr><td>Frozen</td><td>2013-11-22</td><td>Adventure</td><td>PG</td><td>400738009</td><td>414997174</td></tr><tr><td>Delivery Man</td><td>2013-11-22</td><td>Comedy</td><td>PG-13</td><td>30659817</td><td>31787136</td></tr><tr><td>Saving Mr. Banks</td><td>2013-12-13</td><td>Drama</td><td>PG-13</td><td>83299761</td><td>86249969</td></tr><tr><td>Need for Speed</td><td>2014-03-14</td><td>Action</td><td>PG-13</td><td>43568507</td><td>44955015</td></tr><tr><td>Muppets Most Wanted</td><td>2014-03-21</td><td>Comedy</td><td>PG</td><td>51178893</td><td>52807594</td></tr><tr><td>Captain America: The Winter Soldier</td><td>2014-04-04</td><td>Action</td><td>PG-13</td><td>259746958</td><td>268013076</td></tr><tr><td>Bears</td><td>2014-04-18</td><td>Documentary</td><td>G</td><td>17780194</td><td>18346024</td></tr><tr><td>Million Dollar Arm</td><td>2014-05-10</td><td>Drama</td><td>PG</td><td>36447959</td><td>37607865</td></tr><tr><td>Maleficent</td><td>2014-05-30</td><td>Adventure</td><td>PG</td><td>241407328</td><td>249089809</td></tr><tr><td>Planes: Fire and Rescue</td><td>2014-07-18</td><td>Adventure</td><td>PG</td><td>59157732</td><td>61040349</td></tr><tr><td>Guardians of the Galaxy</td><td>2014-08-01</td><td>Adventure</td><td>PG-13</td><td>333172112</td><td>343771168</td></tr><tr><td>The Hundred-Foot Journey</td><td>2014-08-08</td><td>Romantic Comedy</td><td>PG</td><td>54235441</td><td>55961409</td></tr><tr><td>Alexander and the Terrible, Horrible,…</td><td>2014-10-10</td><td>Comedy</td><td>PG</td><td>66954149</td><td>69055550</td></tr><tr><td>Big Hero 6</td><td>2014-11-07</td><td>Adventure</td><td>PG</td><td>222527828</td><td>229249222</td></tr><tr><td>Into the Woods</td><td>2014-12-25</td><td>Musical</td><td>PG</td><td>128002372</td><td>130894237</td></tr><tr><td>Strange Magic</td><td>2015-01-23</td><td>Adventure</td><td>PG</td><td>12429583</td><td>12429583</td></tr><tr><td>McFarland, USA</td><td>2015-02-20</td><td>Drama</td><td>PG</td><td>44480275</td><td>44480275</td></tr><tr><td>Cinderella</td><td>2015-03-13</td><td>Drama</td><td>PG</td><td>201151353</td><td>201151353</td></tr><tr><td>Monkey Kingdom</td><td>2015-04-17</td><td>Documentary</td><td>G</td><td>16432322</td><td>16432322</td></tr><tr><td>Avengers: Age of Ultron</td><td>2015-05-01</td><td>Action</td><td>PG-13</td><td>459005868</td><td>459005868</td></tr><tr><td>Tomorrowland</td><td>2015-05-22</td><td>Adventure</td><td>PG</td><td>93436322</td><td>93436322</td></tr><tr><td>Inside Out</td><td>2015-06-19</td><td>Adventure</td><td>PG</td><td>356461711</td><td>356461711</td></tr><tr><td>Ant-Man</td><td>2015-07-17</td><td>Action</td><td>PG-13</td><td>180202163</td><td>180202163</td></tr><tr><td>Bridge of Spies</td><td>2015-10-16</td><td>Thriller/Suspense</td><td>PG-13</td><td>72313754</td><td>72313754</td></tr><tr><td>The Good Dinosaur</td><td>2015-11-25</td><td>Adventure</td><td>PG</td><td>123087120</td><td>123087120</td></tr><tr><td>Star Wars Ep. VII: The Force Awakens</td><td>2015-12-18</td><td>Adventure</td><td>PG-13</td><td>936662225</td><td>936662225</td></tr><tr><td>The Finest Hours</td><td>2016-01-29</td><td>Thriller/Suspense</td><td>PG</td><td>27569558</td><td>27569558</td></tr><tr><td>Zootopia</td><td>2016-03-04</td><td>Adventure</td><td>PG</td><td>341268248</td><td>341268248</td></tr><tr><td>The Jungle Book</td><td>2016-04-15</td><td>Adventure</td><td>PG</td><td>364001123</td><td>364001123</td></tr><tr><td>A Beautiful Planet</td><td>2016-04-29</td><td>Documentary</td><td>G</td><td>7895708</td><td>7895708</td></tr><tr><td>Captain America: Civil War</td><td>2016-05-06</td><td>Action</td><td>PG-13</td><td>408084349</td><td>408084349</td></tr><tr><td>Alice Through the Looking Glass</td><td>2016-05-27</td><td>Adventure</td><td>PG</td><td>77042381</td><td>77042381</td></tr><tr><td>Finding Dory</td><td>2016-06-17</td><td>Adventure</td><td>PG</td><td>486295561</td><td>486295561</td></tr><tr><td>The BFG</td><td>2016-07-01</td><td>Adventure</td><td>PG</td><td>55483770</td><td>55483770</td></tr><tr><td>Pete’s Dragon</td><td>2016-08-12</td><td>Adventure</td><td>PG</td><td>76233151</td><td>76233151</td></tr><tr><td>The Light Between Oceans</td><td>2016-09-02</td><td>Drama</td><td>PG-13</td><td>12545979</td><td>12545979</td></tr><tr><td>Queen of Katwe</td><td>2016-09-23</td><td>Drama</td><td>PG</td><td>8874389</td><td>8874389</td></tr><tr><td>Doctor Strange</td><td>2016-11-04</td><td>Adventure</td><td>PG-13</td><td>232532923</td><td>232532923</td></tr><tr><td>Moana</td><td>2016-11-23</td><td>Adventure</td><td>PG</td><td>246082029</td><td>246082029</td></tr><tr><td>Rogue One: A Star Wars Story</td><td>2016-12-16</td><td>Adventure</td><td>PG-13</td><td>529483936</td><td>529483936</td></tr></table>"
                    },
                    "metadata": {}
                }
            ],
            "execution_count": 1
        },
        {
            "cell_type": "code",
            "source": [
                "select movie_title, release_date, inflation_adjusted_gross\n",
                "    from movie_gross where year(release_date) > 2010"
            ],
            "metadata": {},
            "outputs": [
                {
                    "output_type": "display_data",
                    "data": {
                        "text/html": "(72 rows affected)"
                    },
                    "metadata": {}
                },
                {
                    "output_type": "display_data",
                    "data": {
                        "text/html": "Total execution time: 00:00:00.071"
                    },
                    "metadata": {}
                },
                {
                    "output_type": "execute_result",
                    "execution_count": 2,
                    "data": {
                        "application/vnd.dataresource+json": {
                            "schema": {
                                "fields": [
                                    {
                                        "name": "movie_title"
                                    },
                                    {
                                        "name": "release_date"
                                    },
                                    {
                                        "name": "inflation_adjusted_gross"
                                    }
                                ]
                            },
                            "data": [
                                {
                                    "0": "Gnomeo and Juliet",
                                    "1": "2011-02-11",
                                    "2": "106270797"
                                },
                                {
                                    "0": "I am Number Four",
                                    "1": "2011-02-18",
                                    "2": "58574607"
                                },
                                {
                                    "0": "Mars Needs Moms",
                                    "1": "2011-03-11",
                                    "2": "22741603"
                                },
                                {
                                    "0": "African Cats",
                                    "1": "2011-04-22",
                                    "2": "16401551"
                                },
                                {
                                    "0": "Zokkomon",
                                    "1": "2011-04-22",
                                    "2": "2984"
                                },
                                {
                                    "0": "Prom",
                                    "1": "2011-04-29",
                                    "2": "10768946"
                                },
                                {
                                    "0": "Pirates of the Caribbean: On Stranger…",
                                    "1": "2011-05-20",
                                    "2": "256263359"
                                },
                                {
                                    "0": "Cars 2",
                                    "1": "2011-06-24",
                                    "2": "203522177"
                                },
                                {
                                    "0": "Winnie the Pooh",
                                    "1": "2011-07-15",
                                    "2": "28375869"
                                },
                                {
                                    "0": "The Help",
                                    "1": "2011-08-10",
                                    "2": "180404976"
                                },
                                {
                                    "0": "Fright Night",
                                    "1": "2011-08-19",
                                    "2": "19452402"
                                },
                                {
                                    "0": "Real Steel",
                                    "1": "2011-10-07",
                                    "2": "90848019"
                                },
                                {
                                    "0": "The Muppets",
                                    "1": "2011-11-23",
                                    "2": "94189503"
                                },
                                {
                                    "0": "War Horse",
                                    "1": "2011-12-25",
                                    "2": "84762149"
                                },
                                {
                                    "0": "The Secret World of Arietty",
                                    "1": "2012-02-17",
                                    "2": "20325733"
                                },
                                {
                                    "0": "John Carter",
                                    "1": "2012-03-09",
                                    "2": "77372445"
                                },
                                {
                                    "0": "Chimpanzee",
                                    "1": "2012-04-20",
                                    "2": "30675725"
                                },
                                {
                                    "0": "The Avengers",
                                    "1": "2012-05-04",
                                    "2": "660081224"
                                },
                                {
                                    "0": "Brave",
                                    "1": "2012-06-22",
                                    "2": "251292441"
                                },
                                {
                                    "0": "People Like Us",
                                    "1": "2012-06-29",
                                    "2": "13165822"
                                },
                                {
                                    "0": "The Odd Life of Timothy Green",
                                    "1": "2012-08-15",
                                    "2": "54914942"
                                },
                                {
                                    "0": "Frankenweenie",
                                    "1": "2012-10-05",
                                    "2": "37363513"
                                },
                                {
                                    "0": "Wreck-It Ralph",
                                    "1": "2012-11-02",
                                    "2": "200354959"
                                },
                                {
                                    "0": "Lincoln",
                                    "1": "2012-11-09",
                                    "2": "192122330"
                                },
                                {
                                    "0": "Oz the Great and Powerful",
                                    "1": "2013-03-08",
                                    "2": "243434130"
                                },
                                {
                                    "0": "Iron Man 3",
                                    "1": "2013-05-03",
                                    "2": "424084233"
                                },
                                {
                                    "0": "Monsters University",
                                    "1": "2013-06-21",
                                    "2": "278395641"
                                },
                                {
                                    "0": "The Lone Ranger",
                                    "1": "2013-07-02",
                                    "2": "92597388"
                                },
                                {
                                    "0": "Disney Planes",
                                    "1": "2013-08-09",
                                    "2": "93614037"
                                },
                                {
                                    "0": "The Fifth Estate",
                                    "1": "2013-10-18",
                                    "2": "3374251"
                                },
                                {
                                    "0": "Thor: The Dark World",
                                    "1": "2013-11-08",
                                    "2": "213962184"
                                },
                                {
                                    "0": "Kaze Tachinu",
                                    "1": "2013-11-08",
                                    "2": "5367415"
                                },
                                {
                                    "0": "Frozen",
                                    "1": "2013-11-22",
                                    "2": "414997174"
                                },
                                {
                                    "0": "Delivery Man",
                                    "1": "2013-11-22",
                                    "2": "31787136"
                                },
                                {
                                    "0": "Saving Mr. Banks",
                                    "1": "2013-12-13",
                                    "2": "86249969"
                                },
                                {
                                    "0": "Need for Speed",
                                    "1": "2014-03-14",
                                    "2": "44955015"
                                },
                                {
                                    "0": "Muppets Most Wanted",
                                    "1": "2014-03-21",
                                    "2": "52807594"
                                },
                                {
                                    "0": "Captain America: The Winter Soldier",
                                    "1": "2014-04-04",
                                    "2": "268013076"
                                },
                                {
                                    "0": "Bears",
                                    "1": "2014-04-18",
                                    "2": "18346024"
                                },
                                {
                                    "0": "Million Dollar Arm",
                                    "1": "2014-05-10",
                                    "2": "37607865"
                                },
                                {
                                    "0": "Maleficent",
                                    "1": "2014-05-30",
                                    "2": "249089809"
                                },
                                {
                                    "0": "Planes: Fire and Rescue",
                                    "1": "2014-07-18",
                                    "2": "61040349"
                                },
                                {
                                    "0": "Guardians of the Galaxy",
                                    "1": "2014-08-01",
                                    "2": "343771168"
                                },
                                {
                                    "0": "The Hundred-Foot Journey",
                                    "1": "2014-08-08",
                                    "2": "55961409"
                                },
                                {
                                    "0": "Alexander and the Terrible, Horrible,…",
                                    "1": "2014-10-10",
                                    "2": "69055550"
                                },
                                {
                                    "0": "Big Hero 6",
                                    "1": "2014-11-07",
                                    "2": "229249222"
                                },
                                {
                                    "0": "Into the Woods",
                                    "1": "2014-12-25",
                                    "2": "130894237"
                                },
                                {
                                    "0": "Strange Magic",
                                    "1": "2015-01-23",
                                    "2": "12429583"
                                },
                                {
                                    "0": "McFarland, USA",
                                    "1": "2015-02-20",
                                    "2": "44480275"
                                },
                                {
                                    "0": "Cinderella",
                                    "1": "2015-03-13",
                                    "2": "201151353"
                                },
                                {
                                    "0": "Monkey Kingdom",
                                    "1": "2015-04-17",
                                    "2": "16432322"
                                },
                                {
                                    "0": "Avengers: Age of Ultron",
                                    "1": "2015-05-01",
                                    "2": "459005868"
                                },
                                {
                                    "0": "Tomorrowland",
                                    "1": "2015-05-22",
                                    "2": "93436322"
                                },
                                {
                                    "0": "Inside Out",
                                    "1": "2015-06-19",
                                    "2": "356461711"
                                },
                                {
                                    "0": "Ant-Man",
                                    "1": "2015-07-17",
                                    "2": "180202163"
                                },
                                {
                                    "0": "Bridge of Spies",
                                    "1": "2015-10-16",
                                    "2": "72313754"
                                },
                                {
                                    "0": "The Good Dinosaur",
                                    "1": "2015-11-25",
                                    "2": "123087120"
                                },
                                {
                                    "0": "Star Wars Ep. VII: The Force Awakens",
                                    "1": "2015-12-18",
                                    "2": "936662225"
                                },
                                {
                                    "0": "The Finest Hours",
                                    "1": "2016-01-29",
                                    "2": "27569558"
                                },
                                {
                                    "0": "Zootopia",
                                    "1": "2016-03-04",
                                    "2": "341268248"
                                },
                                {
                                    "0": "The Jungle Book",
                                    "1": "2016-04-15",
                                    "2": "364001123"
                                },
                                {
                                    "0": "A Beautiful Planet",
                                    "1": "2016-04-29",
                                    "2": "7895708"
                                },
                                {
                                    "0": "Captain America: Civil War",
                                    "1": "2016-05-06",
                                    "2": "408084349"
                                },
                                {
                                    "0": "Alice Through the Looking Glass",
                                    "1": "2016-05-27",
                                    "2": "77042381"
                                },
                                {
                                    "0": "Finding Dory",
                                    "1": "2016-06-17",
                                    "2": "486295561"
                                },
                                {
                                    "0": "The BFG",
                                    "1": "2016-07-01",
                                    "2": "55483770"
                                },
                                {
                                    "0": "Pete’s Dragon",
                                    "1": "2016-08-12",
                                    "2": "76233151"
                                },
                                {
                                    "0": "The Light Between Oceans",
                                    "1": "2016-09-02",
                                    "2": "12545979"
                                },
                                {
                                    "0": "Queen of Katwe",
                                    "1": "2016-09-23",
                                    "2": "8874389"
                                },
                                {
                                    "0": "Doctor Strange",
                                    "1": "2016-11-04",
                                    "2": "232532923"
                                },
                                {
                                    "0": "Moana",
                                    "1": "2016-11-23",
                                    "2": "246082029"
                                },
                                {
                                    "0": "Rogue One: A Star Wars Story",
                                    "1": "2016-12-16",
                                    "2": "529483936"
                                }
                            ]
                        },
                        "text/html": "<table><tr><th>movie_title</th><th>release_date</th><th>inflation_adjusted_gross</th></tr><tr><td>Gnomeo and Juliet</td><td>2011-02-11</td><td>106270797</td></tr><tr><td>I am Number Four</td><td>2011-02-18</td><td>58574607</td></tr><tr><td>Mars Needs Moms</td><td>2011-03-11</td><td>22741603</td></tr><tr><td>African Cats</td><td>2011-04-22</td><td>16401551</td></tr><tr><td>Zokkomon</td><td>2011-04-22</td><td>2984</td></tr><tr><td>Prom</td><td>2011-04-29</td><td>10768946</td></tr><tr><td>Pirates of the Caribbean: On Stranger…</td><td>2011-05-20</td><td>256263359</td></tr><tr><td>Cars 2</td><td>2011-06-24</td><td>203522177</td></tr><tr><td>Winnie the Pooh</td><td>2011-07-15</td><td>28375869</td></tr><tr><td>The Help</td><td>2011-08-10</td><td>180404976</td></tr><tr><td>Fright Night</td><td>2011-08-19</td><td>19452402</td></tr><tr><td>Real Steel</td><td>2011-10-07</td><td>90848019</td></tr><tr><td>The Muppets</td><td>2011-11-23</td><td>94189503</td></tr><tr><td>War Horse</td><td>2011-12-25</td><td>84762149</td></tr><tr><td>The Secret World of Arietty</td><td>2012-02-17</td><td>20325733</td></tr><tr><td>John Carter</td><td>2012-03-09</td><td>77372445</td></tr><tr><td>Chimpanzee</td><td>2012-04-20</td><td>30675725</td></tr><tr><td>The Avengers</td><td>2012-05-04</td><td>660081224</td></tr><tr><td>Brave</td><td>2012-06-22</td><td>251292441</td></tr><tr><td>People Like Us</td><td>2012-06-29</td><td>13165822</td></tr><tr><td>The Odd Life of Timothy Green</td><td>2012-08-15</td><td>54914942</td></tr><tr><td>Frankenweenie</td><td>2012-10-05</td><td>37363513</td></tr><tr><td>Wreck-It Ralph</td><td>2012-11-02</td><td>200354959</td></tr><tr><td>Lincoln</td><td>2012-11-09</td><td>192122330</td></tr><tr><td>Oz the Great and Powerful</td><td>2013-03-08</td><td>243434130</td></tr><tr><td>Iron Man 3</td><td>2013-05-03</td><td>424084233</td></tr><tr><td>Monsters University</td><td>2013-06-21</td><td>278395641</td></tr><tr><td>The Lone Ranger</td><td>2013-07-02</td><td>92597388</td></tr><tr><td>Disney Planes</td><td>2013-08-09</td><td>93614037</td></tr><tr><td>The Fifth Estate</td><td>2013-10-18</td><td>3374251</td></tr><tr><td>Thor: The Dark World</td><td>2013-11-08</td><td>213962184</td></tr><tr><td>Kaze Tachinu</td><td>2013-11-08</td><td>5367415</td></tr><tr><td>Frozen</td><td>2013-11-22</td><td>414997174</td></tr><tr><td>Delivery Man</td><td>2013-11-22</td><td>31787136</td></tr><tr><td>Saving Mr. Banks</td><td>2013-12-13</td><td>86249969</td></tr><tr><td>Need for Speed</td><td>2014-03-14</td><td>44955015</td></tr><tr><td>Muppets Most Wanted</td><td>2014-03-21</td><td>52807594</td></tr><tr><td>Captain America: The Winter Soldier</td><td>2014-04-04</td><td>268013076</td></tr><tr><td>Bears</td><td>2014-04-18</td><td>18346024</td></tr><tr><td>Million Dollar Arm</td><td>2014-05-10</td><td>37607865</td></tr><tr><td>Maleficent</td><td>2014-05-30</td><td>249089809</td></tr><tr><td>Planes: Fire and Rescue</td><td>2014-07-18</td><td>61040349</td></tr><tr><td>Guardians of the Galaxy</td><td>2014-08-01</td><td>343771168</td></tr><tr><td>The Hundred-Foot Journey</td><td>2014-08-08</td><td>55961409</td></tr><tr><td>Alexander and the Terrible, Horrible,…</td><td>2014-10-10</td><td>69055550</td></tr><tr><td>Big Hero 6</td><td>2014-11-07</td><td>229249222</td></tr><tr><td>Into the Woods</td><td>2014-12-25</td><td>130894237</td></tr><tr><td>Strange Magic</td><td>2015-01-23</td><td>12429583</td></tr><tr><td>McFarland, USA</td><td>2015-02-20</td><td>44480275</td></tr><tr><td>Cinderella</td><td>2015-03-13</td><td>201151353</td></tr><tr><td>Monkey Kingdom</td><td>2015-04-17</td><td>16432322</td></tr><tr><td>Avengers: Age of Ultron</td><td>2015-05-01</td><td>459005868</td></tr><tr><td>Tomorrowland</td><td>2015-05-22</td><td>93436322</td></tr><tr><td>Inside Out</td><td>2015-06-19</td><td>356461711</td></tr><tr><td>Ant-Man</td><td>2015-07-17</td><td>180202163</td></tr><tr><td>Bridge of Spies</td><td>2015-10-16</td><td>72313754</td></tr><tr><td>The Good Dinosaur</td><td>2015-11-25</td><td>123087120</td></tr><tr><td>Star Wars Ep. VII: The Force Awakens</td><td>2015-12-18</td><td>936662225</td></tr><tr><td>The Finest Hours</td><td>2016-01-29</td><td>27569558</td></tr><tr><td>Zootopia</td><td>2016-03-04</td><td>341268248</td></tr><tr><td>The Jungle Book</td><td>2016-04-15</td><td>364001123</td></tr><tr><td>A Beautiful Planet</td><td>2016-04-29</td><td>7895708</td></tr><tr><td>Captain America: Civil War</td><td>2016-05-06</td><td>408084349</td></tr><tr><td>Alice Through the Looking Glass</td><td>2016-05-27</td><td>77042381</td></tr><tr><td>Finding Dory</td><td>2016-06-17</td><td>486295561</td></tr><tr><td>The BFG</td><td>2016-07-01</td><td>55483770</td></tr><tr><td>Pete’s Dragon</td><td>2016-08-12</td><td>76233151</td></tr><tr><td>The Light Between Oceans</td><td>2016-09-02</td><td>12545979</td></tr><tr><td>Queen of Katwe</td><td>2016-09-23</td><td>8874389</td></tr><tr><td>Doctor Strange</td><td>2016-11-04</td><td>232532923</td></tr><tr><td>Moana</td><td>2016-11-23</td><td>246082029</td></tr><tr><td>Rogue One: A Star Wars Story</td><td>2016-12-16</td><td>529483936</td></tr></table>"
                    },
                    "metadata": {}
                }
            ],
            "execution_count": 2
        },
        {
            "cell_type": "markdown",
            "source": "# แบ่งเป็น 4 กลุ่ม (quartile) ตามรายได้ โดย quartile ที่ 1 หมายถึงหนังที่ทำรายได้สูง",
            "metadata": {}
        },
        {
            "cell_type": "code",
            "source": [
                "select movie_title, release_date, inflation_adjusted_gross,\n",
                "    ntile(4) over (order by inflation_adjusted_gross desc) as quartile\n",
                "    from movie_gross \n",
                "    where year(release_date) > 2010"
            ],
            "metadata": {},
            "outputs": [
                {
                    "output_type": "display_data",
                    "data": {
                        "text/html": "(72 rows affected)"
                    },
                    "metadata": {}
                },
                {
                    "output_type": "display_data",
                    "data": {
                        "text/html": "Total execution time: 00:00:00.060"
                    },
                    "metadata": {}
                },
                {
                    "output_type": "execute_result",
                    "execution_count": 3,
                    "data": {
                        "application/vnd.dataresource+json": {
                            "schema": {
                                "fields": [
                                    {
                                        "name": "movie_title"
                                    },
                                    {
                                        "name": "release_date"
                                    },
                                    {
                                        "name": "inflation_adjusted_gross"
                                    },
                                    {
                                        "name": "quartile"
                                    }
                                ]
                            },
                            "data": [
                                {
                                    "0": "Star Wars Ep. VII: The Force Awakens",
                                    "1": "2015-12-18",
                                    "2": "936662225",
                                    "3": "1"
                                },
                                {
                                    "0": "The Avengers",
                                    "1": "2012-05-04",
                                    "2": "660081224",
                                    "3": "1"
                                },
                                {
                                    "0": "Rogue One: A Star Wars Story",
                                    "1": "2016-12-16",
                                    "2": "529483936",
                                    "3": "1"
                                },
                                {
                                    "0": "Finding Dory",
                                    "1": "2016-06-17",
                                    "2": "486295561",
                                    "3": "1"
                                },
                                {
                                    "0": "Avengers: Age of Ultron",
                                    "1": "2015-05-01",
                                    "2": "459005868",
                                    "3": "1"
                                },
                                {
                                    "0": "Iron Man 3",
                                    "1": "2013-05-03",
                                    "2": "424084233",
                                    "3": "1"
                                },
                                {
                                    "0": "Frozen",
                                    "1": "2013-11-22",
                                    "2": "414997174",
                                    "3": "1"
                                },
                                {
                                    "0": "Captain America: Civil War",
                                    "1": "2016-05-06",
                                    "2": "408084349",
                                    "3": "1"
                                },
                                {
                                    "0": "The Jungle Book",
                                    "1": "2016-04-15",
                                    "2": "364001123",
                                    "3": "1"
                                },
                                {
                                    "0": "Inside Out",
                                    "1": "2015-06-19",
                                    "2": "356461711",
                                    "3": "1"
                                },
                                {
                                    "0": "Guardians of the Galaxy",
                                    "1": "2014-08-01",
                                    "2": "343771168",
                                    "3": "1"
                                },
                                {
                                    "0": "Zootopia",
                                    "1": "2016-03-04",
                                    "2": "341268248",
                                    "3": "1"
                                },
                                {
                                    "0": "Monsters University",
                                    "1": "2013-06-21",
                                    "2": "278395641",
                                    "3": "1"
                                },
                                {
                                    "0": "Captain America: The Winter Soldier",
                                    "1": "2014-04-04",
                                    "2": "268013076",
                                    "3": "1"
                                },
                                {
                                    "0": "Pirates of the Caribbean: On Stranger…",
                                    "1": "2011-05-20",
                                    "2": "256263359",
                                    "3": "1"
                                },
                                {
                                    "0": "Brave",
                                    "1": "2012-06-22",
                                    "2": "251292441",
                                    "3": "1"
                                },
                                {
                                    "0": "Maleficent",
                                    "1": "2014-05-30",
                                    "2": "249089809",
                                    "3": "1"
                                },
                                {
                                    "0": "Moana",
                                    "1": "2016-11-23",
                                    "2": "246082029",
                                    "3": "1"
                                },
                                {
                                    "0": "Oz the Great and Powerful",
                                    "1": "2013-03-08",
                                    "2": "243434130",
                                    "3": "2"
                                },
                                {
                                    "0": "Doctor Strange",
                                    "1": "2016-11-04",
                                    "2": "232532923",
                                    "3": "2"
                                },
                                {
                                    "0": "Big Hero 6",
                                    "1": "2014-11-07",
                                    "2": "229249222",
                                    "3": "2"
                                },
                                {
                                    "0": "Thor: The Dark World",
                                    "1": "2013-11-08",
                                    "2": "213962184",
                                    "3": "2"
                                },
                                {
                                    "0": "Cars 2",
                                    "1": "2011-06-24",
                                    "2": "203522177",
                                    "3": "2"
                                },
                                {
                                    "0": "Cinderella",
                                    "1": "2015-03-13",
                                    "2": "201151353",
                                    "3": "2"
                                },
                                {
                                    "0": "Wreck-It Ralph",
                                    "1": "2012-11-02",
                                    "2": "200354959",
                                    "3": "2"
                                },
                                {
                                    "0": "Lincoln",
                                    "1": "2012-11-09",
                                    "2": "192122330",
                                    "3": "2"
                                },
                                {
                                    "0": "The Help",
                                    "1": "2011-08-10",
                                    "2": "180404976",
                                    "3": "2"
                                },
                                {
                                    "0": "Ant-Man",
                                    "1": "2015-07-17",
                                    "2": "180202163",
                                    "3": "2"
                                },
                                {
                                    "0": "Into the Woods",
                                    "1": "2014-12-25",
                                    "2": "130894237",
                                    "3": "2"
                                },
                                {
                                    "0": "The Good Dinosaur",
                                    "1": "2015-11-25",
                                    "2": "123087120",
                                    "3": "2"
                                },
                                {
                                    "0": "Gnomeo and Juliet",
                                    "1": "2011-02-11",
                                    "2": "106270797",
                                    "3": "2"
                                },
                                {
                                    "0": "The Muppets",
                                    "1": "2011-11-23",
                                    "2": "94189503",
                                    "3": "2"
                                },
                                {
                                    "0": "Disney Planes",
                                    "1": "2013-08-09",
                                    "2": "93614037",
                                    "3": "2"
                                },
                                {
                                    "0": "Tomorrowland",
                                    "1": "2015-05-22",
                                    "2": "93436322",
                                    "3": "2"
                                },
                                {
                                    "0": "The Lone Ranger",
                                    "1": "2013-07-02",
                                    "2": "92597388",
                                    "3": "2"
                                },
                                {
                                    "0": "Real Steel",
                                    "1": "2011-10-07",
                                    "2": "90848019",
                                    "3": "2"
                                },
                                {
                                    "0": "Saving Mr. Banks",
                                    "1": "2013-12-13",
                                    "2": "86249969",
                                    "3": "3"
                                },
                                {
                                    "0": "War Horse",
                                    "1": "2011-12-25",
                                    "2": "84762149",
                                    "3": "3"
                                },
                                {
                                    "0": "John Carter",
                                    "1": "2012-03-09",
                                    "2": "77372445",
                                    "3": "3"
                                },
                                {
                                    "0": "Alice Through the Looking Glass",
                                    "1": "2016-05-27",
                                    "2": "77042381",
                                    "3": "3"
                                },
                                {
                                    "0": "Pete’s Dragon",
                                    "1": "2016-08-12",
                                    "2": "76233151",
                                    "3": "3"
                                },
                                {
                                    "0": "Bridge of Spies",
                                    "1": "2015-10-16",
                                    "2": "72313754",
                                    "3": "3"
                                },
                                {
                                    "0": "Alexander and the Terrible, Horrible,…",
                                    "1": "2014-10-10",
                                    "2": "69055550",
                                    "3": "3"
                                },
                                {
                                    "0": "Planes: Fire and Rescue",
                                    "1": "2014-07-18",
                                    "2": "61040349",
                                    "3": "3"
                                },
                                {
                                    "0": "I am Number Four",
                                    "1": "2011-02-18",
                                    "2": "58574607",
                                    "3": "3"
                                },
                                {
                                    "0": "The Hundred-Foot Journey",
                                    "1": "2014-08-08",
                                    "2": "55961409",
                                    "3": "3"
                                },
                                {
                                    "0": "The BFG",
                                    "1": "2016-07-01",
                                    "2": "55483770",
                                    "3": "3"
                                },
                                {
                                    "0": "The Odd Life of Timothy Green",
                                    "1": "2012-08-15",
                                    "2": "54914942",
                                    "3": "3"
                                },
                                {
                                    "0": "Muppets Most Wanted",
                                    "1": "2014-03-21",
                                    "2": "52807594",
                                    "3": "3"
                                },
                                {
                                    "0": "Need for Speed",
                                    "1": "2014-03-14",
                                    "2": "44955015",
                                    "3": "3"
                                },
                                {
                                    "0": "McFarland, USA",
                                    "1": "2015-02-20",
                                    "2": "44480275",
                                    "3": "3"
                                },
                                {
                                    "0": "Million Dollar Arm",
                                    "1": "2014-05-10",
                                    "2": "37607865",
                                    "3": "3"
                                },
                                {
                                    "0": "Frankenweenie",
                                    "1": "2012-10-05",
                                    "2": "37363513",
                                    "3": "3"
                                },
                                {
                                    "0": "Delivery Man",
                                    "1": "2013-11-22",
                                    "2": "31787136",
                                    "3": "3"
                                },
                                {
                                    "0": "Chimpanzee",
                                    "1": "2012-04-20",
                                    "2": "30675725",
                                    "3": "4"
                                },
                                {
                                    "0": "Winnie the Pooh",
                                    "1": "2011-07-15",
                                    "2": "28375869",
                                    "3": "4"
                                },
                                {
                                    "0": "The Finest Hours",
                                    "1": "2016-01-29",
                                    "2": "27569558",
                                    "3": "4"
                                },
                                {
                                    "0": "Mars Needs Moms",
                                    "1": "2011-03-11",
                                    "2": "22741603",
                                    "3": "4"
                                },
                                {
                                    "0": "The Secret World of Arietty",
                                    "1": "2012-02-17",
                                    "2": "20325733",
                                    "3": "4"
                                },
                                {
                                    "0": "Fright Night",
                                    "1": "2011-08-19",
                                    "2": "19452402",
                                    "3": "4"
                                },
                                {
                                    "0": "Bears",
                                    "1": "2014-04-18",
                                    "2": "18346024",
                                    "3": "4"
                                },
                                {
                                    "0": "Monkey Kingdom",
                                    "1": "2015-04-17",
                                    "2": "16432322",
                                    "3": "4"
                                },
                                {
                                    "0": "African Cats",
                                    "1": "2011-04-22",
                                    "2": "16401551",
                                    "3": "4"
                                },
                                {
                                    "0": "People Like Us",
                                    "1": "2012-06-29",
                                    "2": "13165822",
                                    "3": "4"
                                },
                                {
                                    "0": "The Light Between Oceans",
                                    "1": "2016-09-02",
                                    "2": "12545979",
                                    "3": "4"
                                },
                                {
                                    "0": "Strange Magic",
                                    "1": "2015-01-23",
                                    "2": "12429583",
                                    "3": "4"
                                },
                                {
                                    "0": "Prom",
                                    "1": "2011-04-29",
                                    "2": "10768946",
                                    "3": "4"
                                },
                                {
                                    "0": "Queen of Katwe",
                                    "1": "2016-09-23",
                                    "2": "8874389",
                                    "3": "4"
                                },
                                {
                                    "0": "A Beautiful Planet",
                                    "1": "2016-04-29",
                                    "2": "7895708",
                                    "3": "4"
                                },
                                {
                                    "0": "Kaze Tachinu",
                                    "1": "2013-11-08",
                                    "2": "5367415",
                                    "3": "4"
                                },
                                {
                                    "0": "The Fifth Estate",
                                    "1": "2013-10-18",
                                    "2": "3374251",
                                    "3": "4"
                                },
                                {
                                    "0": "Zokkomon",
                                    "1": "2011-04-22",
                                    "2": "2984",
                                    "3": "4"
                                }
                            ]
                        },
                        "text/html": "<table><tr><th>movie_title</th><th>release_date</th><th>inflation_adjusted_gross</th><th>quartile</th></tr><tr><td>Star Wars Ep. VII: The Force Awakens</td><td>2015-12-18</td><td>936662225</td><td>1</td></tr><tr><td>The Avengers</td><td>2012-05-04</td><td>660081224</td><td>1</td></tr><tr><td>Rogue One: A Star Wars Story</td><td>2016-12-16</td><td>529483936</td><td>1</td></tr><tr><td>Finding Dory</td><td>2016-06-17</td><td>486295561</td><td>1</td></tr><tr><td>Avengers: Age of Ultron</td><td>2015-05-01</td><td>459005868</td><td>1</td></tr><tr><td>Iron Man 3</td><td>2013-05-03</td><td>424084233</td><td>1</td></tr><tr><td>Frozen</td><td>2013-11-22</td><td>414997174</td><td>1</td></tr><tr><td>Captain America: Civil War</td><td>2016-05-06</td><td>408084349</td><td>1</td></tr><tr><td>The Jungle Book</td><td>2016-04-15</td><td>364001123</td><td>1</td></tr><tr><td>Inside Out</td><td>2015-06-19</td><td>356461711</td><td>1</td></tr><tr><td>Guardians of the Galaxy</td><td>2014-08-01</td><td>343771168</td><td>1</td></tr><tr><td>Zootopia</td><td>2016-03-04</td><td>341268248</td><td>1</td></tr><tr><td>Monsters University</td><td>2013-06-21</td><td>278395641</td><td>1</td></tr><tr><td>Captain America: The Winter Soldier</td><td>2014-04-04</td><td>268013076</td><td>1</td></tr><tr><td>Pirates of the Caribbean: On Stranger…</td><td>2011-05-20</td><td>256263359</td><td>1</td></tr><tr><td>Brave</td><td>2012-06-22</td><td>251292441</td><td>1</td></tr><tr><td>Maleficent</td><td>2014-05-30</td><td>249089809</td><td>1</td></tr><tr><td>Moana</td><td>2016-11-23</td><td>246082029</td><td>1</td></tr><tr><td>Oz the Great and Powerful</td><td>2013-03-08</td><td>243434130</td><td>2</td></tr><tr><td>Doctor Strange</td><td>2016-11-04</td><td>232532923</td><td>2</td></tr><tr><td>Big Hero 6</td><td>2014-11-07</td><td>229249222</td><td>2</td></tr><tr><td>Thor: The Dark World</td><td>2013-11-08</td><td>213962184</td><td>2</td></tr><tr><td>Cars 2</td><td>2011-06-24</td><td>203522177</td><td>2</td></tr><tr><td>Cinderella</td><td>2015-03-13</td><td>201151353</td><td>2</td></tr><tr><td>Wreck-It Ralph</td><td>2012-11-02</td><td>200354959</td><td>2</td></tr><tr><td>Lincoln</td><td>2012-11-09</td><td>192122330</td><td>2</td></tr><tr><td>The Help</td><td>2011-08-10</td><td>180404976</td><td>2</td></tr><tr><td>Ant-Man</td><td>2015-07-17</td><td>180202163</td><td>2</td></tr><tr><td>Into the Woods</td><td>2014-12-25</td><td>130894237</td><td>2</td></tr><tr><td>The Good Dinosaur</td><td>2015-11-25</td><td>123087120</td><td>2</td></tr><tr><td>Gnomeo and Juliet</td><td>2011-02-11</td><td>106270797</td><td>2</td></tr><tr><td>The Muppets</td><td>2011-11-23</td><td>94189503</td><td>2</td></tr><tr><td>Disney Planes</td><td>2013-08-09</td><td>93614037</td><td>2</td></tr><tr><td>Tomorrowland</td><td>2015-05-22</td><td>93436322</td><td>2</td></tr><tr><td>The Lone Ranger</td><td>2013-07-02</td><td>92597388</td><td>2</td></tr><tr><td>Real Steel</td><td>2011-10-07</td><td>90848019</td><td>2</td></tr><tr><td>Saving Mr. Banks</td><td>2013-12-13</td><td>86249969</td><td>3</td></tr><tr><td>War Horse</td><td>2011-12-25</td><td>84762149</td><td>3</td></tr><tr><td>John Carter</td><td>2012-03-09</td><td>77372445</td><td>3</td></tr><tr><td>Alice Through the Looking Glass</td><td>2016-05-27</td><td>77042381</td><td>3</td></tr><tr><td>Pete’s Dragon</td><td>2016-08-12</td><td>76233151</td><td>3</td></tr><tr><td>Bridge of Spies</td><td>2015-10-16</td><td>72313754</td><td>3</td></tr><tr><td>Alexander and the Terrible, Horrible,…</td><td>2014-10-10</td><td>69055550</td><td>3</td></tr><tr><td>Planes: Fire and Rescue</td><td>2014-07-18</td><td>61040349</td><td>3</td></tr><tr><td>I am Number Four</td><td>2011-02-18</td><td>58574607</td><td>3</td></tr><tr><td>The Hundred-Foot Journey</td><td>2014-08-08</td><td>55961409</td><td>3</td></tr><tr><td>The BFG</td><td>2016-07-01</td><td>55483770</td><td>3</td></tr><tr><td>The Odd Life of Timothy Green</td><td>2012-08-15</td><td>54914942</td><td>3</td></tr><tr><td>Muppets Most Wanted</td><td>2014-03-21</td><td>52807594</td><td>3</td></tr><tr><td>Need for Speed</td><td>2014-03-14</td><td>44955015</td><td>3</td></tr><tr><td>McFarland, USA</td><td>2015-02-20</td><td>44480275</td><td>3</td></tr><tr><td>Million Dollar Arm</td><td>2014-05-10</td><td>37607865</td><td>3</td></tr><tr><td>Frankenweenie</td><td>2012-10-05</td><td>37363513</td><td>3</td></tr><tr><td>Delivery Man</td><td>2013-11-22</td><td>31787136</td><td>3</td></tr><tr><td>Chimpanzee</td><td>2012-04-20</td><td>30675725</td><td>4</td></tr><tr><td>Winnie the Pooh</td><td>2011-07-15</td><td>28375869</td><td>4</td></tr><tr><td>The Finest Hours</td><td>2016-01-29</td><td>27569558</td><td>4</td></tr><tr><td>Mars Needs Moms</td><td>2011-03-11</td><td>22741603</td><td>4</td></tr><tr><td>The Secret World of Arietty</td><td>2012-02-17</td><td>20325733</td><td>4</td></tr><tr><td>Fright Night</td><td>2011-08-19</td><td>19452402</td><td>4</td></tr><tr><td>Bears</td><td>2014-04-18</td><td>18346024</td><td>4</td></tr><tr><td>Monkey Kingdom</td><td>2015-04-17</td><td>16432322</td><td>4</td></tr><tr><td>African Cats</td><td>2011-04-22</td><td>16401551</td><td>4</td></tr><tr><td>People Like Us</td><td>2012-06-29</td><td>13165822</td><td>4</td></tr><tr><td>The Light Between Oceans</td><td>2016-09-02</td><td>12545979</td><td>4</td></tr><tr><td>Strange Magic</td><td>2015-01-23</td><td>12429583</td><td>4</td></tr><tr><td>Prom</td><td>2011-04-29</td><td>10768946</td><td>4</td></tr><tr><td>Queen of Katwe</td><td>2016-09-23</td><td>8874389</td><td>4</td></tr><tr><td>A Beautiful Planet</td><td>2016-04-29</td><td>7895708</td><td>4</td></tr><tr><td>Kaze Tachinu</td><td>2013-11-08</td><td>5367415</td><td>4</td></tr><tr><td>The Fifth Estate</td><td>2013-10-18</td><td>3374251</td><td>4</td></tr><tr><td>Zokkomon</td><td>2011-04-22</td><td>2984</td><td>4</td></tr></table>"
                    },
                    "metadata": {}
                }
            ],
            "execution_count": 3
        },
        {
            "cell_type": "markdown",
            "source": "# แสดงเฉพาะ quartile ที่ 1",
            "metadata": {}
        },
        {
            "cell_type": "code",
            "source": [
                "with cte as (\n",
                "    select movie_title, release_date, inflation_adjusted_gross,\n",
                "        ntile(4) over (order by inflation_adjusted_gross desc) as quartile\n",
                "        from movie_gross \n",
                "        where year(release_date) > 2010    \n",
                ")\n",
                "select * from cte where quartile = 1"
            ],
            "metadata": {},
            "outputs": [
                {
                    "output_type": "display_data",
                    "data": {
                        "text/html": "(18 rows affected)"
                    },
                    "metadata": {}
                },
                {
                    "output_type": "display_data",
                    "data": {
                        "text/html": "Total execution time: 00:00:00.057"
                    },
                    "metadata": {}
                },
                {
                    "output_type": "execute_result",
                    "execution_count": 4,
                    "data": {
                        "application/vnd.dataresource+json": {
                            "schema": {
                                "fields": [
                                    {
                                        "name": "movie_title"
                                    },
                                    {
                                        "name": "release_date"
                                    },
                                    {
                                        "name": "inflation_adjusted_gross"
                                    },
                                    {
                                        "name": "quartile"
                                    }
                                ]
                            },
                            "data": [
                                {
                                    "0": "Star Wars Ep. VII: The Force Awakens",
                                    "1": "2015-12-18",
                                    "2": "936662225",
                                    "3": "1"
                                },
                                {
                                    "0": "The Avengers",
                                    "1": "2012-05-04",
                                    "2": "660081224",
                                    "3": "1"
                                },
                                {
                                    "0": "Rogue One: A Star Wars Story",
                                    "1": "2016-12-16",
                                    "2": "529483936",
                                    "3": "1"
                                },
                                {
                                    "0": "Finding Dory",
                                    "1": "2016-06-17",
                                    "2": "486295561",
                                    "3": "1"
                                },
                                {
                                    "0": "Avengers: Age of Ultron",
                                    "1": "2015-05-01",
                                    "2": "459005868",
                                    "3": "1"
                                },
                                {
                                    "0": "Iron Man 3",
                                    "1": "2013-05-03",
                                    "2": "424084233",
                                    "3": "1"
                                },
                                {
                                    "0": "Frozen",
                                    "1": "2013-11-22",
                                    "2": "414997174",
                                    "3": "1"
                                },
                                {
                                    "0": "Captain America: Civil War",
                                    "1": "2016-05-06",
                                    "2": "408084349",
                                    "3": "1"
                                },
                                {
                                    "0": "The Jungle Book",
                                    "1": "2016-04-15",
                                    "2": "364001123",
                                    "3": "1"
                                },
                                {
                                    "0": "Inside Out",
                                    "1": "2015-06-19",
                                    "2": "356461711",
                                    "3": "1"
                                },
                                {
                                    "0": "Guardians of the Galaxy",
                                    "1": "2014-08-01",
                                    "2": "343771168",
                                    "3": "1"
                                },
                                {
                                    "0": "Zootopia",
                                    "1": "2016-03-04",
                                    "2": "341268248",
                                    "3": "1"
                                },
                                {
                                    "0": "Monsters University",
                                    "1": "2013-06-21",
                                    "2": "278395641",
                                    "3": "1"
                                },
                                {
                                    "0": "Captain America: The Winter Soldier",
                                    "1": "2014-04-04",
                                    "2": "268013076",
                                    "3": "1"
                                },
                                {
                                    "0": "Pirates of the Caribbean: On Stranger…",
                                    "1": "2011-05-20",
                                    "2": "256263359",
                                    "3": "1"
                                },
                                {
                                    "0": "Brave",
                                    "1": "2012-06-22",
                                    "2": "251292441",
                                    "3": "1"
                                },
                                {
                                    "0": "Maleficent",
                                    "1": "2014-05-30",
                                    "2": "249089809",
                                    "3": "1"
                                },
                                {
                                    "0": "Moana",
                                    "1": "2016-11-23",
                                    "2": "246082029",
                                    "3": "1"
                                }
                            ]
                        },
                        "text/html": "<table><tr><th>movie_title</th><th>release_date</th><th>inflation_adjusted_gross</th><th>quartile</th></tr><tr><td>Star Wars Ep. VII: The Force Awakens</td><td>2015-12-18</td><td>936662225</td><td>1</td></tr><tr><td>The Avengers</td><td>2012-05-04</td><td>660081224</td><td>1</td></tr><tr><td>Rogue One: A Star Wars Story</td><td>2016-12-16</td><td>529483936</td><td>1</td></tr><tr><td>Finding Dory</td><td>2016-06-17</td><td>486295561</td><td>1</td></tr><tr><td>Avengers: Age of Ultron</td><td>2015-05-01</td><td>459005868</td><td>1</td></tr><tr><td>Iron Man 3</td><td>2013-05-03</td><td>424084233</td><td>1</td></tr><tr><td>Frozen</td><td>2013-11-22</td><td>414997174</td><td>1</td></tr><tr><td>Captain America: Civil War</td><td>2016-05-06</td><td>408084349</td><td>1</td></tr><tr><td>The Jungle Book</td><td>2016-04-15</td><td>364001123</td><td>1</td></tr><tr><td>Inside Out</td><td>2015-06-19</td><td>356461711</td><td>1</td></tr><tr><td>Guardians of the Galaxy</td><td>2014-08-01</td><td>343771168</td><td>1</td></tr><tr><td>Zootopia</td><td>2016-03-04</td><td>341268248</td><td>1</td></tr><tr><td>Monsters University</td><td>2013-06-21</td><td>278395641</td><td>1</td></tr><tr><td>Captain America: The Winter Soldier</td><td>2014-04-04</td><td>268013076</td><td>1</td></tr><tr><td>Pirates of the Caribbean: On Stranger…</td><td>2011-05-20</td><td>256263359</td><td>1</td></tr><tr><td>Brave</td><td>2012-06-22</td><td>251292441</td><td>1</td></tr><tr><td>Maleficent</td><td>2014-05-30</td><td>249089809</td><td>1</td></tr><tr><td>Moana</td><td>2016-11-23</td><td>246082029</td><td>1</td></tr></table>"
                    },
                    "metadata": {}
                }
            ],
            "execution_count": 4
        },
        {
            "cell_type": "markdown",
            "source": "# การกำหนดให้ quarter ที่ 1 หมายถึงหนังที่ทำเงินได้น้อย",
            "metadata": {}
        },
        {
            "cell_type": "code",
            "source": [
                "with cte as (\n",
                "    select movie_title, release_date, inflation_adjusted_gross,\n",
                "        ntile(4) over (order by inflation_adjusted_gross asc) as quartile\n",
                "        from movie_gross \n",
                "        where year(release_date) > 2010    \n",
                ")\n",
                "select * from cte where quartile = 1"
            ],
            "metadata": {},
            "outputs": [
                {
                    "output_type": "display_data",
                    "data": {
                        "text/html": "(18 rows affected)"
                    },
                    "metadata": {}
                },
                {
                    "output_type": "display_data",
                    "data": {
                        "text/html": "Total execution time: 00:00:01.958"
                    },
                    "metadata": {}
                },
                {
                    "output_type": "execute_result",
                    "execution_count": 5,
                    "data": {
                        "application/vnd.dataresource+json": {
                            "schema": {
                                "fields": [
                                    {
                                        "name": "movie_title"
                                    },
                                    {
                                        "name": "release_date"
                                    },
                                    {
                                        "name": "inflation_adjusted_gross"
                                    },
                                    {
                                        "name": "quartile"
                                    }
                                ]
                            },
                            "data": [
                                {
                                    "0": "Zokkomon",
                                    "1": "2011-04-22",
                                    "2": "2984",
                                    "3": "1"
                                },
                                {
                                    "0": "The Fifth Estate",
                                    "1": "2013-10-18",
                                    "2": "3374251",
                                    "3": "1"
                                },
                                {
                                    "0": "Kaze Tachinu",
                                    "1": "2013-11-08",
                                    "2": "5367415",
                                    "3": "1"
                                },
                                {
                                    "0": "A Beautiful Planet",
                                    "1": "2016-04-29",
                                    "2": "7895708",
                                    "3": "1"
                                },
                                {
                                    "0": "Queen of Katwe",
                                    "1": "2016-09-23",
                                    "2": "8874389",
                                    "3": "1"
                                },
                                {
                                    "0": "Prom",
                                    "1": "2011-04-29",
                                    "2": "10768946",
                                    "3": "1"
                                },
                                {
                                    "0": "Strange Magic",
                                    "1": "2015-01-23",
                                    "2": "12429583",
                                    "3": "1"
                                },
                                {
                                    "0": "The Light Between Oceans",
                                    "1": "2016-09-02",
                                    "2": "12545979",
                                    "3": "1"
                                },
                                {
                                    "0": "People Like Us",
                                    "1": "2012-06-29",
                                    "2": "13165822",
                                    "3": "1"
                                },
                                {
                                    "0": "African Cats",
                                    "1": "2011-04-22",
                                    "2": "16401551",
                                    "3": "1"
                                },
                                {
                                    "0": "Monkey Kingdom",
                                    "1": "2015-04-17",
                                    "2": "16432322",
                                    "3": "1"
                                },
                                {
                                    "0": "Bears",
                                    "1": "2014-04-18",
                                    "2": "18346024",
                                    "3": "1"
                                },
                                {
                                    "0": "Fright Night",
                                    "1": "2011-08-19",
                                    "2": "19452402",
                                    "3": "1"
                                },
                                {
                                    "0": "The Secret World of Arietty",
                                    "1": "2012-02-17",
                                    "2": "20325733",
                                    "3": "1"
                                },
                                {
                                    "0": "Mars Needs Moms",
                                    "1": "2011-03-11",
                                    "2": "22741603",
                                    "3": "1"
                                },
                                {
                                    "0": "The Finest Hours",
                                    "1": "2016-01-29",
                                    "2": "27569558",
                                    "3": "1"
                                },
                                {
                                    "0": "Winnie the Pooh",
                                    "1": "2011-07-15",
                                    "2": "28375869",
                                    "3": "1"
                                },
                                {
                                    "0": "Chimpanzee",
                                    "1": "2012-04-20",
                                    "2": "30675725",
                                    "3": "1"
                                }
                            ]
                        },
                        "text/html": "<table><tr><th>movie_title</th><th>release_date</th><th>inflation_adjusted_gross</th><th>quartile</th></tr><tr><td>Zokkomon</td><td>2011-04-22</td><td>2984</td><td>1</td></tr><tr><td>The Fifth Estate</td><td>2013-10-18</td><td>3374251</td><td>1</td></tr><tr><td>Kaze Tachinu</td><td>2013-11-08</td><td>5367415</td><td>1</td></tr><tr><td>A Beautiful Planet</td><td>2016-04-29</td><td>7895708</td><td>1</td></tr><tr><td>Queen of Katwe</td><td>2016-09-23</td><td>8874389</td><td>1</td></tr><tr><td>Prom</td><td>2011-04-29</td><td>10768946</td><td>1</td></tr><tr><td>Strange Magic</td><td>2015-01-23</td><td>12429583</td><td>1</td></tr><tr><td>The Light Between Oceans</td><td>2016-09-02</td><td>12545979</td><td>1</td></tr><tr><td>People Like Us</td><td>2012-06-29</td><td>13165822</td><td>1</td></tr><tr><td>African Cats</td><td>2011-04-22</td><td>16401551</td><td>1</td></tr><tr><td>Monkey Kingdom</td><td>2015-04-17</td><td>16432322</td><td>1</td></tr><tr><td>Bears</td><td>2014-04-18</td><td>18346024</td><td>1</td></tr><tr><td>Fright Night</td><td>2011-08-19</td><td>19452402</td><td>1</td></tr><tr><td>The Secret World of Arietty</td><td>2012-02-17</td><td>20325733</td><td>1</td></tr><tr><td>Mars Needs Moms</td><td>2011-03-11</td><td>22741603</td><td>1</td></tr><tr><td>The Finest Hours</td><td>2016-01-29</td><td>27569558</td><td>1</td></tr><tr><td>Winnie the Pooh</td><td>2011-07-15</td><td>28375869</td><td>1</td></tr><tr><td>Chimpanzee</td><td>2012-04-20</td><td>30675725</td><td>1</td></tr></table>"
                    },
                    "metadata": {}
                }
            ],
            "execution_count": 5
        },
        {
            "cell_type": "markdown",
            "source": "# แบ่งเป็น 10 กลุ่ม (decile)",
            "metadata": {}
        },
        {
            "cell_type": "code",
            "source": [
                "select movie_title, release_date, inflation_adjusted_gross,\n",
                "    ntile(10) over (order by inflation_adjusted_gross desc) as decile\n",
                "    from movie_gross \n",
                "    where year(release_date) > 2010"
            ],
            "metadata": {},
            "outputs": [
                {
                    "output_type": "display_data",
                    "data": {
                        "text/html": "(72 rows affected)"
                    },
                    "metadata": {}
                },
                {
                    "output_type": "display_data",
                    "data": {
                        "text/html": "Total execution time: 00:00:00.064"
                    },
                    "metadata": {}
                },
                {
                    "output_type": "execute_result",
                    "execution_count": 6,
                    "data": {
                        "application/vnd.dataresource+json": {
                            "schema": {
                                "fields": [
                                    {
                                        "name": "movie_title"
                                    },
                                    {
                                        "name": "release_date"
                                    },
                                    {
                                        "name": "inflation_adjusted_gross"
                                    },
                                    {
                                        "name": "decile"
                                    }
                                ]
                            },
                            "data": [
                                {
                                    "0": "Star Wars Ep. VII: The Force Awakens",
                                    "1": "2015-12-18",
                                    "2": "936662225",
                                    "3": "1"
                                },
                                {
                                    "0": "The Avengers",
                                    "1": "2012-05-04",
                                    "2": "660081224",
                                    "3": "1"
                                },
                                {
                                    "0": "Rogue One: A Star Wars Story",
                                    "1": "2016-12-16",
                                    "2": "529483936",
                                    "3": "1"
                                },
                                {
                                    "0": "Finding Dory",
                                    "1": "2016-06-17",
                                    "2": "486295561",
                                    "3": "1"
                                },
                                {
                                    "0": "Avengers: Age of Ultron",
                                    "1": "2015-05-01",
                                    "2": "459005868",
                                    "3": "1"
                                },
                                {
                                    "0": "Iron Man 3",
                                    "1": "2013-05-03",
                                    "2": "424084233",
                                    "3": "1"
                                },
                                {
                                    "0": "Frozen",
                                    "1": "2013-11-22",
                                    "2": "414997174",
                                    "3": "1"
                                },
                                {
                                    "0": "Captain America: Civil War",
                                    "1": "2016-05-06",
                                    "2": "408084349",
                                    "3": "1"
                                },
                                {
                                    "0": "The Jungle Book",
                                    "1": "2016-04-15",
                                    "2": "364001123",
                                    "3": "2"
                                },
                                {
                                    "0": "Inside Out",
                                    "1": "2015-06-19",
                                    "2": "356461711",
                                    "3": "2"
                                },
                                {
                                    "0": "Guardians of the Galaxy",
                                    "1": "2014-08-01",
                                    "2": "343771168",
                                    "3": "2"
                                },
                                {
                                    "0": "Zootopia",
                                    "1": "2016-03-04",
                                    "2": "341268248",
                                    "3": "2"
                                },
                                {
                                    "0": "Monsters University",
                                    "1": "2013-06-21",
                                    "2": "278395641",
                                    "3": "2"
                                },
                                {
                                    "0": "Captain America: The Winter Soldier",
                                    "1": "2014-04-04",
                                    "2": "268013076",
                                    "3": "2"
                                },
                                {
                                    "0": "Pirates of the Caribbean: On Stranger…",
                                    "1": "2011-05-20",
                                    "2": "256263359",
                                    "3": "2"
                                },
                                {
                                    "0": "Brave",
                                    "1": "2012-06-22",
                                    "2": "251292441",
                                    "3": "2"
                                },
                                {
                                    "0": "Maleficent",
                                    "1": "2014-05-30",
                                    "2": "249089809",
                                    "3": "3"
                                },
                                {
                                    "0": "Moana",
                                    "1": "2016-11-23",
                                    "2": "246082029",
                                    "3": "3"
                                },
                                {
                                    "0": "Oz the Great and Powerful",
                                    "1": "2013-03-08",
                                    "2": "243434130",
                                    "3": "3"
                                },
                                {
                                    "0": "Doctor Strange",
                                    "1": "2016-11-04",
                                    "2": "232532923",
                                    "3": "3"
                                },
                                {
                                    "0": "Big Hero 6",
                                    "1": "2014-11-07",
                                    "2": "229249222",
                                    "3": "3"
                                },
                                {
                                    "0": "Thor: The Dark World",
                                    "1": "2013-11-08",
                                    "2": "213962184",
                                    "3": "3"
                                },
                                {
                                    "0": "Cars 2",
                                    "1": "2011-06-24",
                                    "2": "203522177",
                                    "3": "3"
                                },
                                {
                                    "0": "Cinderella",
                                    "1": "2015-03-13",
                                    "2": "201151353",
                                    "3": "4"
                                },
                                {
                                    "0": "Wreck-It Ralph",
                                    "1": "2012-11-02",
                                    "2": "200354959",
                                    "3": "4"
                                },
                                {
                                    "0": "Lincoln",
                                    "1": "2012-11-09",
                                    "2": "192122330",
                                    "3": "4"
                                },
                                {
                                    "0": "The Help",
                                    "1": "2011-08-10",
                                    "2": "180404976",
                                    "3": "4"
                                },
                                {
                                    "0": "Ant-Man",
                                    "1": "2015-07-17",
                                    "2": "180202163",
                                    "3": "4"
                                },
                                {
                                    "0": "Into the Woods",
                                    "1": "2014-12-25",
                                    "2": "130894237",
                                    "3": "4"
                                },
                                {
                                    "0": "The Good Dinosaur",
                                    "1": "2015-11-25",
                                    "2": "123087120",
                                    "3": "4"
                                },
                                {
                                    "0": "Gnomeo and Juliet",
                                    "1": "2011-02-11",
                                    "2": "106270797",
                                    "3": "5"
                                },
                                {
                                    "0": "The Muppets",
                                    "1": "2011-11-23",
                                    "2": "94189503",
                                    "3": "5"
                                },
                                {
                                    "0": "Disney Planes",
                                    "1": "2013-08-09",
                                    "2": "93614037",
                                    "3": "5"
                                },
                                {
                                    "0": "Tomorrowland",
                                    "1": "2015-05-22",
                                    "2": "93436322",
                                    "3": "5"
                                },
                                {
                                    "0": "The Lone Ranger",
                                    "1": "2013-07-02",
                                    "2": "92597388",
                                    "3": "5"
                                },
                                {
                                    "0": "Real Steel",
                                    "1": "2011-10-07",
                                    "2": "90848019",
                                    "3": "5"
                                },
                                {
                                    "0": "Saving Mr. Banks",
                                    "1": "2013-12-13",
                                    "2": "86249969",
                                    "3": "5"
                                },
                                {
                                    "0": "War Horse",
                                    "1": "2011-12-25",
                                    "2": "84762149",
                                    "3": "6"
                                },
                                {
                                    "0": "John Carter",
                                    "1": "2012-03-09",
                                    "2": "77372445",
                                    "3": "6"
                                },
                                {
                                    "0": "Alice Through the Looking Glass",
                                    "1": "2016-05-27",
                                    "2": "77042381",
                                    "3": "6"
                                },
                                {
                                    "0": "Pete’s Dragon",
                                    "1": "2016-08-12",
                                    "2": "76233151",
                                    "3": "6"
                                },
                                {
                                    "0": "Bridge of Spies",
                                    "1": "2015-10-16",
                                    "2": "72313754",
                                    "3": "6"
                                },
                                {
                                    "0": "Alexander and the Terrible, Horrible,…",
                                    "1": "2014-10-10",
                                    "2": "69055550",
                                    "3": "6"
                                },
                                {
                                    "0": "Planes: Fire and Rescue",
                                    "1": "2014-07-18",
                                    "2": "61040349",
                                    "3": "6"
                                },
                                {
                                    "0": "I am Number Four",
                                    "1": "2011-02-18",
                                    "2": "58574607",
                                    "3": "7"
                                },
                                {
                                    "0": "The Hundred-Foot Journey",
                                    "1": "2014-08-08",
                                    "2": "55961409",
                                    "3": "7"
                                },
                                {
                                    "0": "The BFG",
                                    "1": "2016-07-01",
                                    "2": "55483770",
                                    "3": "7"
                                },
                                {
                                    "0": "The Odd Life of Timothy Green",
                                    "1": "2012-08-15",
                                    "2": "54914942",
                                    "3": "7"
                                },
                                {
                                    "0": "Muppets Most Wanted",
                                    "1": "2014-03-21",
                                    "2": "52807594",
                                    "3": "7"
                                },
                                {
                                    "0": "Need for Speed",
                                    "1": "2014-03-14",
                                    "2": "44955015",
                                    "3": "7"
                                },
                                {
                                    "0": "McFarland, USA",
                                    "1": "2015-02-20",
                                    "2": "44480275",
                                    "3": "7"
                                },
                                {
                                    "0": "Million Dollar Arm",
                                    "1": "2014-05-10",
                                    "2": "37607865",
                                    "3": "8"
                                },
                                {
                                    "0": "Frankenweenie",
                                    "1": "2012-10-05",
                                    "2": "37363513",
                                    "3": "8"
                                },
                                {
                                    "0": "Delivery Man",
                                    "1": "2013-11-22",
                                    "2": "31787136",
                                    "3": "8"
                                },
                                {
                                    "0": "Chimpanzee",
                                    "1": "2012-04-20",
                                    "2": "30675725",
                                    "3": "8"
                                },
                                {
                                    "0": "Winnie the Pooh",
                                    "1": "2011-07-15",
                                    "2": "28375869",
                                    "3": "8"
                                },
                                {
                                    "0": "The Finest Hours",
                                    "1": "2016-01-29",
                                    "2": "27569558",
                                    "3": "8"
                                },
                                {
                                    "0": "Mars Needs Moms",
                                    "1": "2011-03-11",
                                    "2": "22741603",
                                    "3": "8"
                                },
                                {
                                    "0": "The Secret World of Arietty",
                                    "1": "2012-02-17",
                                    "2": "20325733",
                                    "3": "9"
                                },
                                {
                                    "0": "Fright Night",
                                    "1": "2011-08-19",
                                    "2": "19452402",
                                    "3": "9"
                                },
                                {
                                    "0": "Bears",
                                    "1": "2014-04-18",
                                    "2": "18346024",
                                    "3": "9"
                                },
                                {
                                    "0": "Monkey Kingdom",
                                    "1": "2015-04-17",
                                    "2": "16432322",
                                    "3": "9"
                                },
                                {
                                    "0": "African Cats",
                                    "1": "2011-04-22",
                                    "2": "16401551",
                                    "3": "9"
                                },
                                {
                                    "0": "People Like Us",
                                    "1": "2012-06-29",
                                    "2": "13165822",
                                    "3": "9"
                                },
                                {
                                    "0": "The Light Between Oceans",
                                    "1": "2016-09-02",
                                    "2": "12545979",
                                    "3": "9"
                                },
                                {
                                    "0": "Strange Magic",
                                    "1": "2015-01-23",
                                    "2": "12429583",
                                    "3": "10"
                                },
                                {
                                    "0": "Prom",
                                    "1": "2011-04-29",
                                    "2": "10768946",
                                    "3": "10"
                                },
                                {
                                    "0": "Queen of Katwe",
                                    "1": "2016-09-23",
                                    "2": "8874389",
                                    "3": "10"
                                },
                                {
                                    "0": "A Beautiful Planet",
                                    "1": "2016-04-29",
                                    "2": "7895708",
                                    "3": "10"
                                },
                                {
                                    "0": "Kaze Tachinu",
                                    "1": "2013-11-08",
                                    "2": "5367415",
                                    "3": "10"
                                },
                                {
                                    "0": "The Fifth Estate",
                                    "1": "2013-10-18",
                                    "2": "3374251",
                                    "3": "10"
                                },
                                {
                                    "0": "Zokkomon",
                                    "1": "2011-04-22",
                                    "2": "2984",
                                    "3": "10"
                                }
                            ]
                        },
                        "text/html": "<table><tr><th>movie_title</th><th>release_date</th><th>inflation_adjusted_gross</th><th>decile</th></tr><tr><td>Star Wars Ep. VII: The Force Awakens</td><td>2015-12-18</td><td>936662225</td><td>1</td></tr><tr><td>The Avengers</td><td>2012-05-04</td><td>660081224</td><td>1</td></tr><tr><td>Rogue One: A Star Wars Story</td><td>2016-12-16</td><td>529483936</td><td>1</td></tr><tr><td>Finding Dory</td><td>2016-06-17</td><td>486295561</td><td>1</td></tr><tr><td>Avengers: Age of Ultron</td><td>2015-05-01</td><td>459005868</td><td>1</td></tr><tr><td>Iron Man 3</td><td>2013-05-03</td><td>424084233</td><td>1</td></tr><tr><td>Frozen</td><td>2013-11-22</td><td>414997174</td><td>1</td></tr><tr><td>Captain America: Civil War</td><td>2016-05-06</td><td>408084349</td><td>1</td></tr><tr><td>The Jungle Book</td><td>2016-04-15</td><td>364001123</td><td>2</td></tr><tr><td>Inside Out</td><td>2015-06-19</td><td>356461711</td><td>2</td></tr><tr><td>Guardians of the Galaxy</td><td>2014-08-01</td><td>343771168</td><td>2</td></tr><tr><td>Zootopia</td><td>2016-03-04</td><td>341268248</td><td>2</td></tr><tr><td>Monsters University</td><td>2013-06-21</td><td>278395641</td><td>2</td></tr><tr><td>Captain America: The Winter Soldier</td><td>2014-04-04</td><td>268013076</td><td>2</td></tr><tr><td>Pirates of the Caribbean: On Stranger…</td><td>2011-05-20</td><td>256263359</td><td>2</td></tr><tr><td>Brave</td><td>2012-06-22</td><td>251292441</td><td>2</td></tr><tr><td>Maleficent</td><td>2014-05-30</td><td>249089809</td><td>3</td></tr><tr><td>Moana</td><td>2016-11-23</td><td>246082029</td><td>3</td></tr><tr><td>Oz the Great and Powerful</td><td>2013-03-08</td><td>243434130</td><td>3</td></tr><tr><td>Doctor Strange</td><td>2016-11-04</td><td>232532923</td><td>3</td></tr><tr><td>Big Hero 6</td><td>2014-11-07</td><td>229249222</td><td>3</td></tr><tr><td>Thor: The Dark World</td><td>2013-11-08</td><td>213962184</td><td>3</td></tr><tr><td>Cars 2</td><td>2011-06-24</td><td>203522177</td><td>3</td></tr><tr><td>Cinderella</td><td>2015-03-13</td><td>201151353</td><td>4</td></tr><tr><td>Wreck-It Ralph</td><td>2012-11-02</td><td>200354959</td><td>4</td></tr><tr><td>Lincoln</td><td>2012-11-09</td><td>192122330</td><td>4</td></tr><tr><td>The Help</td><td>2011-08-10</td><td>180404976</td><td>4</td></tr><tr><td>Ant-Man</td><td>2015-07-17</td><td>180202163</td><td>4</td></tr><tr><td>Into the Woods</td><td>2014-12-25</td><td>130894237</td><td>4</td></tr><tr><td>The Good Dinosaur</td><td>2015-11-25</td><td>123087120</td><td>4</td></tr><tr><td>Gnomeo and Juliet</td><td>2011-02-11</td><td>106270797</td><td>5</td></tr><tr><td>The Muppets</td><td>2011-11-23</td><td>94189503</td><td>5</td></tr><tr><td>Disney Planes</td><td>2013-08-09</td><td>93614037</td><td>5</td></tr><tr><td>Tomorrowland</td><td>2015-05-22</td><td>93436322</td><td>5</td></tr><tr><td>The Lone Ranger</td><td>2013-07-02</td><td>92597388</td><td>5</td></tr><tr><td>Real Steel</td><td>2011-10-07</td><td>90848019</td><td>5</td></tr><tr><td>Saving Mr. Banks</td><td>2013-12-13</td><td>86249969</td><td>5</td></tr><tr><td>War Horse</td><td>2011-12-25</td><td>84762149</td><td>6</td></tr><tr><td>John Carter</td><td>2012-03-09</td><td>77372445</td><td>6</td></tr><tr><td>Alice Through the Looking Glass</td><td>2016-05-27</td><td>77042381</td><td>6</td></tr><tr><td>Pete’s Dragon</td><td>2016-08-12</td><td>76233151</td><td>6</td></tr><tr><td>Bridge of Spies</td><td>2015-10-16</td><td>72313754</td><td>6</td></tr><tr><td>Alexander and the Terrible, Horrible,…</td><td>2014-10-10</td><td>69055550</td><td>6</td></tr><tr><td>Planes: Fire and Rescue</td><td>2014-07-18</td><td>61040349</td><td>6</td></tr><tr><td>I am Number Four</td><td>2011-02-18</td><td>58574607</td><td>7</td></tr><tr><td>The Hundred-Foot Journey</td><td>2014-08-08</td><td>55961409</td><td>7</td></tr><tr><td>The BFG</td><td>2016-07-01</td><td>55483770</td><td>7</td></tr><tr><td>The Odd Life of Timothy Green</td><td>2012-08-15</td><td>54914942</td><td>7</td></tr><tr><td>Muppets Most Wanted</td><td>2014-03-21</td><td>52807594</td><td>7</td></tr><tr><td>Need for Speed</td><td>2014-03-14</td><td>44955015</td><td>7</td></tr><tr><td>McFarland, USA</td><td>2015-02-20</td><td>44480275</td><td>7</td></tr><tr><td>Million Dollar Arm</td><td>2014-05-10</td><td>37607865</td><td>8</td></tr><tr><td>Frankenweenie</td><td>2012-10-05</td><td>37363513</td><td>8</td></tr><tr><td>Delivery Man</td><td>2013-11-22</td><td>31787136</td><td>8</td></tr><tr><td>Chimpanzee</td><td>2012-04-20</td><td>30675725</td><td>8</td></tr><tr><td>Winnie the Pooh</td><td>2011-07-15</td><td>28375869</td><td>8</td></tr><tr><td>The Finest Hours</td><td>2016-01-29</td><td>27569558</td><td>8</td></tr><tr><td>Mars Needs Moms</td><td>2011-03-11</td><td>22741603</td><td>8</td></tr><tr><td>The Secret World of Arietty</td><td>2012-02-17</td><td>20325733</td><td>9</td></tr><tr><td>Fright Night</td><td>2011-08-19</td><td>19452402</td><td>9</td></tr><tr><td>Bears</td><td>2014-04-18</td><td>18346024</td><td>9</td></tr><tr><td>Monkey Kingdom</td><td>2015-04-17</td><td>16432322</td><td>9</td></tr><tr><td>African Cats</td><td>2011-04-22</td><td>16401551</td><td>9</td></tr><tr><td>People Like Us</td><td>2012-06-29</td><td>13165822</td><td>9</td></tr><tr><td>The Light Between Oceans</td><td>2016-09-02</td><td>12545979</td><td>9</td></tr><tr><td>Strange Magic</td><td>2015-01-23</td><td>12429583</td><td>10</td></tr><tr><td>Prom</td><td>2011-04-29</td><td>10768946</td><td>10</td></tr><tr><td>Queen of Katwe</td><td>2016-09-23</td><td>8874389</td><td>10</td></tr><tr><td>A Beautiful Planet</td><td>2016-04-29</td><td>7895708</td><td>10</td></tr><tr><td>Kaze Tachinu</td><td>2013-11-08</td><td>5367415</td><td>10</td></tr><tr><td>The Fifth Estate</td><td>2013-10-18</td><td>3374251</td><td>10</td></tr><tr><td>Zokkomon</td><td>2011-04-22</td><td>2984</td><td>10</td></tr></table>"
                    },
                    "metadata": {}
                }
            ],
            "execution_count": 6
        },
        {
            "cell_type": "markdown",
            "source": "# แบ่งเป็น quartile แยกตาม genre",
            "metadata": {}
        },
        {
            "cell_type": "code",
            "source": [
                "select *,\n",
                "    ntile(4) over (partition by genre order by inflation_adjusted_gross desc) quartile\n",
                "    from movie_gross\n",
                "    where year(release_date) > 2010"
            ],
            "metadata": {},
            "outputs": [
                {
                    "output_type": "display_data",
                    "data": {
                        "text/html": "(72 rows affected)"
                    },
                    "metadata": {}
                },
                {
                    "output_type": "display_data",
                    "data": {
                        "text/html": "Total execution time: 00:00:00.072"
                    },
                    "metadata": {}
                },
                {
                    "output_type": "execute_result",
                    "execution_count": 7,
                    "data": {
                        "application/vnd.dataresource+json": {
                            "schema": {
                                "fields": [
                                    {
                                        "name": "movie_title"
                                    },
                                    {
                                        "name": "release_date"
                                    },
                                    {
                                        "name": "genre"
                                    },
                                    {
                                        "name": "mpaa_rating"
                                    },
                                    {
                                        "name": "total_gross"
                                    },
                                    {
                                        "name": "inflation_adjusted_gross"
                                    },
                                    {
                                        "name": "quartile"
                                    }
                                ]
                            },
                            "data": [
                                {
                                    "0": "The Avengers",
                                    "1": "2012-05-04",
                                    "2": "Action",
                                    "3": "PG-13",
                                    "4": "623279547",
                                    "5": "660081224",
                                    "6": "1"
                                },
                                {
                                    "0": "Avengers: Age of Ultron",
                                    "1": "2015-05-01",
                                    "2": "Action",
                                    "3": "PG-13",
                                    "4": "459005868",
                                    "5": "459005868",
                                    "6": "1"
                                },
                                {
                                    "0": "Iron Man 3",
                                    "1": "2013-05-03",
                                    "2": "Action",
                                    "3": "PG-13",
                                    "4": "408992272",
                                    "5": "424084233",
                                    "6": "2"
                                },
                                {
                                    "0": "Captain America: Civil War",
                                    "1": "2016-05-06",
                                    "2": "Action",
                                    "3": "PG-13",
                                    "4": "408084349",
                                    "5": "408084349",
                                    "6": "2"
                                },
                                {
                                    "0": "Captain America: The Winter Soldier",
                                    "1": "2014-04-04",
                                    "2": "Action",
                                    "3": "PG-13",
                                    "4": "259746958",
                                    "5": "268013076",
                                    "6": "3"
                                },
                                {
                                    "0": "Ant-Man",
                                    "1": "2015-07-17",
                                    "2": "Action",
                                    "3": "PG-13",
                                    "4": "180202163",
                                    "5": "180202163",
                                    "6": "3"
                                },
                                {
                                    "0": "Real Steel",
                                    "1": "2011-10-07",
                                    "2": "Action",
                                    "3": "PG-13",
                                    "4": "85463309",
                                    "5": "90848019",
                                    "6": "4"
                                },
                                {
                                    "0": "Need for Speed",
                                    "1": "2014-03-14",
                                    "2": "Action",
                                    "3": "PG-13",
                                    "4": "43568507",
                                    "5": "44955015",
                                    "6": "4"
                                },
                                {
                                    "0": "Star Wars Ep. VII: The Force Awakens",
                                    "1": "2015-12-18",
                                    "2": "Adventure",
                                    "3": "PG-13",
                                    "4": "936662225",
                                    "5": "936662225",
                                    "6": "1"
                                },
                                {
                                    "0": "Rogue One: A Star Wars Story",
                                    "1": "2016-12-16",
                                    "2": "Adventure",
                                    "3": "PG-13",
                                    "4": "529483936",
                                    "5": "529483936",
                                    "6": "1"
                                },
                                {
                                    "0": "Finding Dory",
                                    "1": "2016-06-17",
                                    "2": "Adventure",
                                    "3": "PG",
                                    "4": "486295561",
                                    "5": "486295561",
                                    "6": "1"
                                },
                                {
                                    "0": "Frozen",
                                    "1": "2013-11-22",
                                    "2": "Adventure",
                                    "3": "PG",
                                    "4": "400738009",
                                    "5": "414997174",
                                    "6": "1"
                                },
                                {
                                    "0": "The Jungle Book",
                                    "1": "2016-04-15",
                                    "2": "Adventure",
                                    "3": "PG",
                                    "4": "364001123",
                                    "5": "364001123",
                                    "6": "1"
                                },
                                {
                                    "0": "Inside Out",
                                    "1": "2015-06-19",
                                    "2": "Adventure",
                                    "3": "PG",
                                    "4": "356461711",
                                    "5": "356461711",
                                    "6": "1"
                                },
                                {
                                    "0": "Guardians of the Galaxy",
                                    "1": "2014-08-01",
                                    "2": "Adventure",
                                    "3": "PG-13",
                                    "4": "333172112",
                                    "5": "343771168",
                                    "6": "1"
                                },
                                {
                                    "0": "Zootopia",
                                    "1": "2016-03-04",
                                    "2": "Adventure",
                                    "3": "PG",
                                    "4": "341268248",
                                    "5": "341268248",
                                    "6": "1"
                                },
                                {
                                    "0": "Monsters University",
                                    "1": "2013-06-21",
                                    "2": "Adventure",
                                    "3": "G",
                                    "4": "268488329",
                                    "5": "278395641",
                                    "6": "2"
                                },
                                {
                                    "0": "Pirates of the Caribbean: On Stranger…",
                                    "1": "2011-05-20",
                                    "2": "Adventure",
                                    "3": "PG-13",
                                    "4": "241063875",
                                    "5": "256263359",
                                    "6": "2"
                                },
                                {
                                    "0": "Brave",
                                    "1": "2012-06-22",
                                    "2": "Adventure",
                                    "3": "PG",
                                    "4": "237282182",
                                    "5": "251292441",
                                    "6": "2"
                                },
                                {
                                    "0": "Maleficent",
                                    "1": "2014-05-30",
                                    "2": "Adventure",
                                    "3": "PG",
                                    "4": "241407328",
                                    "5": "249089809",
                                    "6": "2"
                                },
                                {
                                    "0": "Moana",
                                    "1": "2016-11-23",
                                    "2": "Adventure",
                                    "3": "PG",
                                    "4": "246082029",
                                    "5": "246082029",
                                    "6": "2"
                                },
                                {
                                    "0": "Oz the Great and Powerful",
                                    "1": "2013-03-08",
                                    "2": "Adventure",
                                    "3": "PG",
                                    "4": "234770996",
                                    "5": "243434130",
                                    "6": "2"
                                },
                                {
                                    "0": "Doctor Strange",
                                    "1": "2016-11-04",
                                    "2": "Adventure",
                                    "3": "PG-13",
                                    "4": "232532923",
                                    "5": "232532923",
                                    "6": "2"
                                },
                                {
                                    "0": "Big Hero 6",
                                    "1": "2014-11-07",
                                    "2": "Adventure",
                                    "3": "PG",
                                    "4": "222527828",
                                    "5": "229249222",
                                    "6": "2"
                                },
                                {
                                    "0": "Thor: The Dark World",
                                    "1": "2013-11-08",
                                    "2": "Adventure",
                                    "3": "PG-13",
                                    "4": "206362140",
                                    "5": "213962184",
                                    "6": "3"
                                },
                                {
                                    "0": "Cars 2",
                                    "1": "2011-06-24",
                                    "2": "Adventure",
                                    "3": "G",
                                    "4": "191450875",
                                    "5": "203522177",
                                    "6": "3"
                                },
                                {
                                    "0": "Wreck-It Ralph",
                                    "1": "2012-11-02",
                                    "2": "Adventure",
                                    "3": "PG",
                                    "4": "189412677",
                                    "5": "200354959",
                                    "6": "3"
                                },
                                {
                                    "0": "The Good Dinosaur",
                                    "1": "2015-11-25",
                                    "2": "Adventure",
                                    "3": "PG",
                                    "4": "123087120",
                                    "5": "123087120",
                                    "6": "3"
                                },
                                {
                                    "0": "Tomorrowland",
                                    "1": "2015-05-22",
                                    "2": "Adventure",
                                    "3": "PG",
                                    "4": "93436322",
                                    "5": "93436322",
                                    "6": "3"
                                },
                                {
                                    "0": "John Carter",
                                    "1": "2012-03-09",
                                    "2": "Adventure",
                                    "3": "PG-13",
                                    "4": "73058679",
                                    "5": "77372445",
                                    "6": "3"
                                },
                                {
                                    "0": "Alice Through the Looking Glass",
                                    "1": "2016-05-27",
                                    "2": "Adventure",
                                    "3": "PG",
                                    "4": "77042381",
                                    "5": "77042381",
                                    "6": "3"
                                },
                                {
                                    "0": "Pete’s Dragon",
                                    "1": "2016-08-12",
                                    "2": "Adventure",
                                    "3": "PG",
                                    "4": "76233151",
                                    "5": "76233151",
                                    "6": "3"
                                },
                                {
                                    "0": "Planes: Fire and Rescue",
                                    "1": "2014-07-18",
                                    "2": "Adventure",
                                    "3": "PG",
                                    "4": "59157732",
                                    "5": "61040349",
                                    "6": "4"
                                },
                                {
                                    "0": "I am Number Four",
                                    "1": "2011-02-18",
                                    "2": "Adventure",
                                    "3": "PG-13",
                                    "4": "55100437",
                                    "5": "58574607",
                                    "6": "4"
                                },
                                {
                                    "0": "The BFG",
                                    "1": "2016-07-01",
                                    "2": "Adventure",
                                    "3": "PG",
                                    "4": "55483770",
                                    "5": "55483770",
                                    "6": "4"
                                },
                                {
                                    "0": "Winnie the Pooh",
                                    "1": "2011-07-15",
                                    "2": "Adventure",
                                    "3": "G",
                                    "4": "26692846",
                                    "5": "28375869",
                                    "6": "4"
                                },
                                {
                                    "0": "Mars Needs Moms",
                                    "1": "2011-03-11",
                                    "2": "Adventure",
                                    "3": "PG",
                                    "4": "21392758",
                                    "5": "22741603",
                                    "6": "4"
                                },
                                {
                                    "0": "The Secret World of Arietty",
                                    "1": "2012-02-17",
                                    "2": "Adventure",
                                    "3": "G",
                                    "4": "19192510",
                                    "5": "20325733",
                                    "6": "4"
                                },
                                {
                                    "0": "Strange Magic",
                                    "1": "2015-01-23",
                                    "2": "Adventure",
                                    "3": "PG",
                                    "4": "12429583",
                                    "5": "12429583",
                                    "6": "4"
                                },
                                {
                                    "0": "Zokkomon",
                                    "1": "2011-04-22",
                                    "2": "Adventure",
                                    "3": "PG",
                                    "4": "2815",
                                    "5": "2984",
                                    "6": "4"
                                },
                                {
                                    "0": "Gnomeo and Juliet",
                                    "1": "2011-02-11",
                                    "2": "Comedy",
                                    "3": "G",
                                    "4": "99967670",
                                    "5": "106270797",
                                    "6": "1"
                                },
                                {
                                    "0": "The Muppets",
                                    "1": "2011-11-23",
                                    "2": "Comedy",
                                    "3": "PG",
                                    "4": "88625922",
                                    "5": "94189503",
                                    "6": "1"
                                },
                                {
                                    "0": "Disney Planes",
                                    "1": "2013-08-09",
                                    "2": "Comedy",
                                    "3": "PG",
                                    "4": "90282580",
                                    "5": "93614037",
                                    "6": "2"
                                },
                                {
                                    "0": "Alexander and the Terrible, Horrible,…",
                                    "1": "2014-10-10",
                                    "2": "Comedy",
                                    "3": "PG",
                                    "4": "66954149",
                                    "5": "69055550",
                                    "6": "2"
                                },
                                {
                                    "0": "Muppets Most Wanted",
                                    "1": "2014-03-21",
                                    "2": "Comedy",
                                    "3": "PG",
                                    "4": "51178893",
                                    "5": "52807594",
                                    "6": "3"
                                },
                                {
                                    "0": "Frankenweenie",
                                    "1": "2012-10-05",
                                    "2": "Comedy",
                                    "3": "PG",
                                    "4": "35287788",
                                    "5": "37363513",
                                    "6": "3"
                                },
                                {
                                    "0": "Delivery Man",
                                    "1": "2013-11-22",
                                    "2": "Comedy",
                                    "3": "PG-13",
                                    "4": "30659817",
                                    "5": "31787136",
                                    "6": "4"
                                },
                                {
                                    "0": "Prom",
                                    "1": "2011-04-29",
                                    "2": "Comedy",
                                    "3": "PG",
                                    "4": "10130219",
                                    "5": "10768946",
                                    "6": "4"
                                },
                                {
                                    "0": "Chimpanzee",
                                    "1": "2012-04-20",
                                    "2": "Documentary",
                                    "3": "G",
                                    "4": "28965459",
                                    "5": "30675725",
                                    "6": "1"
                                },
                                {
                                    "0": "Bears",
                                    "1": "2014-04-18",
                                    "2": "Documentary",
                                    "3": "G",
                                    "4": "17780194",
                                    "5": "18346024",
                                    "6": "1"
                                },
                                {
                                    "0": "Monkey Kingdom",
                                    "1": "2015-04-17",
                                    "2": "Documentary",
                                    "3": "G",
                                    "4": "16432322",
                                    "5": "16432322",
                                    "6": "2"
                                },
                                {
                                    "0": "African Cats",
                                    "1": "2011-04-22",
                                    "2": "Documentary",
                                    "3": "G",
                                    "4": "15428747",
                                    "5": "16401551",
                                    "6": "3"
                                },
                                {
                                    "0": "A Beautiful Planet",
                                    "1": "2016-04-29",
                                    "2": "Documentary",
                                    "3": "G",
                                    "4": "7895708",
                                    "5": "7895708",
                                    "6": "4"
                                },
                                {
                                    "0": "Cinderella",
                                    "1": "2015-03-13",
                                    "2": "Drama",
                                    "3": "PG",
                                    "4": "201151353",
                                    "5": "201151353",
                                    "6": "1"
                                },
                                {
                                    "0": "Lincoln",
                                    "1": "2012-11-09",
                                    "2": "Drama",
                                    "3": "PG-13",
                                    "4": "182207973",
                                    "5": "192122330",
                                    "6": "1"
                                },
                                {
                                    "0": "The Help",
                                    "1": "2011-08-10",
                                    "2": "Drama",
                                    "3": "PG-13",
                                    "4": "169705587",
                                    "5": "180404976",
                                    "6": "1"
                                },
                                {
                                    "0": "Saving Mr. Banks",
                                    "1": "2013-12-13",
                                    "2": "Drama",
                                    "3": "PG-13",
                                    "4": "83299761",
                                    "5": "86249969",
                                    "6": "1"
                                },
                                {
                                    "0": "War Horse",
                                    "1": "2011-12-25",
                                    "2": "Drama",
                                    "3": "PG-13",
                                    "4": "79883359",
                                    "5": "84762149",
                                    "6": "2"
                                },
                                {
                                    "0": "The Odd Life of Timothy Green",
                                    "1": "2012-08-15",
                                    "2": "Drama",
                                    "3": "PG",
                                    "4": "51853450",
                                    "5": "54914942",
                                    "6": "2"
                                },
                                {
                                    "0": "McFarland, USA",
                                    "1": "2015-02-20",
                                    "2": "Drama",
                                    "3": "PG",
                                    "4": "44480275",
                                    "5": "44480275",
                                    "6": "2"
                                },
                                {
                                    "0": "Million Dollar Arm",
                                    "1": "2014-05-10",
                                    "2": "Drama",
                                    "3": "PG",
                                    "4": "36447959",
                                    "5": "37607865",
                                    "6": "3"
                                },
                                {
                                    "0": "People Like Us",
                                    "1": "2012-06-29",
                                    "2": "Drama",
                                    "3": "PG-13",
                                    "4": "12431792",
                                    "5": "13165822",
                                    "6": "3"
                                },
                                {
                                    "0": "The Light Between Oceans",
                                    "1": "2016-09-02",
                                    "2": "Drama",
                                    "3": "PG-13",
                                    "4": "12545979",
                                    "5": "12545979",
                                    "6": "3"
                                },
                                {
                                    "0": "Queen of Katwe",
                                    "1": "2016-09-23",
                                    "2": "Drama",
                                    "3": "PG",
                                    "4": "8874389",
                                    "5": "8874389",
                                    "6": "4"
                                },
                                {
                                    "0": "Kaze Tachinu",
                                    "1": "2013-11-08",
                                    "2": "Drama",
                                    "3": "PG-13",
                                    "4": "5201879",
                                    "5": "5367415",
                                    "6": "4"
                                },
                                {
                                    "0": "The Fifth Estate",
                                    "1": "2013-10-18",
                                    "2": "Drama",
                                    "3": "R",
                                    "4": "3254172",
                                    "5": "3374251",
                                    "6": "4"
                                },
                                {
                                    "0": "Fright Night",
                                    "1": "2011-08-19",
                                    "2": "Horror",
                                    "3": "R",
                                    "4": "18298649",
                                    "5": "19452402",
                                    "6": "1"
                                },
                                {
                                    "0": "Into the Woods",
                                    "1": "2014-12-25",
                                    "2": "Musical",
                                    "3": "PG",
                                    "4": "128002372",
                                    "5": "130894237",
                                    "6": "1"
                                },
                                {
                                    "0": "The Hundred-Foot Journey",
                                    "1": "2014-08-08",
                                    "2": "Romantic Comedy",
                                    "3": "PG",
                                    "4": "54235441",
                                    "5": "55961409",
                                    "6": "1"
                                },
                                {
                                    "0": "Bridge of Spies",
                                    "1": "2015-10-16",
                                    "2": "Thriller/Suspense",
                                    "3": "PG-13",
                                    "4": "72313754",
                                    "5": "72313754",
                                    "6": "1"
                                },
                                {
                                    "0": "The Finest Hours",
                                    "1": "2016-01-29",
                                    "2": "Thriller/Suspense",
                                    "3": "PG",
                                    "4": "27569558",
                                    "5": "27569558",
                                    "6": "2"
                                },
                                {
                                    "0": "The Lone Ranger",
                                    "1": "2013-07-02",
                                    "2": "Western",
                                    "3": "PG-13",
                                    "4": "89302115",
                                    "5": "92597388",
                                    "6": "1"
                                }
                            ]
                        },
                        "text/html": "<table><tr><th>movie_title</th><th>release_date</th><th>genre</th><th>mpaa_rating</th><th>total_gross</th><th>inflation_adjusted_gross</th><th>quartile</th></tr><tr><td>The Avengers</td><td>2012-05-04</td><td>Action</td><td>PG-13</td><td>623279547</td><td>660081224</td><td>1</td></tr><tr><td>Avengers: Age of Ultron</td><td>2015-05-01</td><td>Action</td><td>PG-13</td><td>459005868</td><td>459005868</td><td>1</td></tr><tr><td>Iron Man 3</td><td>2013-05-03</td><td>Action</td><td>PG-13</td><td>408992272</td><td>424084233</td><td>2</td></tr><tr><td>Captain America: Civil War</td><td>2016-05-06</td><td>Action</td><td>PG-13</td><td>408084349</td><td>408084349</td><td>2</td></tr><tr><td>Captain America: The Winter Soldier</td><td>2014-04-04</td><td>Action</td><td>PG-13</td><td>259746958</td><td>268013076</td><td>3</td></tr><tr><td>Ant-Man</td><td>2015-07-17</td><td>Action</td><td>PG-13</td><td>180202163</td><td>180202163</td><td>3</td></tr><tr><td>Real Steel</td><td>2011-10-07</td><td>Action</td><td>PG-13</td><td>85463309</td><td>90848019</td><td>4</td></tr><tr><td>Need for Speed</td><td>2014-03-14</td><td>Action</td><td>PG-13</td><td>43568507</td><td>44955015</td><td>4</td></tr><tr><td>Star Wars Ep. VII: The Force Awakens</td><td>2015-12-18</td><td>Adventure</td><td>PG-13</td><td>936662225</td><td>936662225</td><td>1</td></tr><tr><td>Rogue One: A Star Wars Story</td><td>2016-12-16</td><td>Adventure</td><td>PG-13</td><td>529483936</td><td>529483936</td><td>1</td></tr><tr><td>Finding Dory</td><td>2016-06-17</td><td>Adventure</td><td>PG</td><td>486295561</td><td>486295561</td><td>1</td></tr><tr><td>Frozen</td><td>2013-11-22</td><td>Adventure</td><td>PG</td><td>400738009</td><td>414997174</td><td>1</td></tr><tr><td>The Jungle Book</td><td>2016-04-15</td><td>Adventure</td><td>PG</td><td>364001123</td><td>364001123</td><td>1</td></tr><tr><td>Inside Out</td><td>2015-06-19</td><td>Adventure</td><td>PG</td><td>356461711</td><td>356461711</td><td>1</td></tr><tr><td>Guardians of the Galaxy</td><td>2014-08-01</td><td>Adventure</td><td>PG-13</td><td>333172112</td><td>343771168</td><td>1</td></tr><tr><td>Zootopia</td><td>2016-03-04</td><td>Adventure</td><td>PG</td><td>341268248</td><td>341268248</td><td>1</td></tr><tr><td>Monsters University</td><td>2013-06-21</td><td>Adventure</td><td>G</td><td>268488329</td><td>278395641</td><td>2</td></tr><tr><td>Pirates of the Caribbean: On Stranger…</td><td>2011-05-20</td><td>Adventure</td><td>PG-13</td><td>241063875</td><td>256263359</td><td>2</td></tr><tr><td>Brave</td><td>2012-06-22</td><td>Adventure</td><td>PG</td><td>237282182</td><td>251292441</td><td>2</td></tr><tr><td>Maleficent</td><td>2014-05-30</td><td>Adventure</td><td>PG</td><td>241407328</td><td>249089809</td><td>2</td></tr><tr><td>Moana</td><td>2016-11-23</td><td>Adventure</td><td>PG</td><td>246082029</td><td>246082029</td><td>2</td></tr><tr><td>Oz the Great and Powerful</td><td>2013-03-08</td><td>Adventure</td><td>PG</td><td>234770996</td><td>243434130</td><td>2</td></tr><tr><td>Doctor Strange</td><td>2016-11-04</td><td>Adventure</td><td>PG-13</td><td>232532923</td><td>232532923</td><td>2</td></tr><tr><td>Big Hero 6</td><td>2014-11-07</td><td>Adventure</td><td>PG</td><td>222527828</td><td>229249222</td><td>2</td></tr><tr><td>Thor: The Dark World</td><td>2013-11-08</td><td>Adventure</td><td>PG-13</td><td>206362140</td><td>213962184</td><td>3</td></tr><tr><td>Cars 2</td><td>2011-06-24</td><td>Adventure</td><td>G</td><td>191450875</td><td>203522177</td><td>3</td></tr><tr><td>Wreck-It Ralph</td><td>2012-11-02</td><td>Adventure</td><td>PG</td><td>189412677</td><td>200354959</td><td>3</td></tr><tr><td>The Good Dinosaur</td><td>2015-11-25</td><td>Adventure</td><td>PG</td><td>123087120</td><td>123087120</td><td>3</td></tr><tr><td>Tomorrowland</td><td>2015-05-22</td><td>Adventure</td><td>PG</td><td>93436322</td><td>93436322</td><td>3</td></tr><tr><td>John Carter</td><td>2012-03-09</td><td>Adventure</td><td>PG-13</td><td>73058679</td><td>77372445</td><td>3</td></tr><tr><td>Alice Through the Looking Glass</td><td>2016-05-27</td><td>Adventure</td><td>PG</td><td>77042381</td><td>77042381</td><td>3</td></tr><tr><td>Pete’s Dragon</td><td>2016-08-12</td><td>Adventure</td><td>PG</td><td>76233151</td><td>76233151</td><td>3</td></tr><tr><td>Planes: Fire and Rescue</td><td>2014-07-18</td><td>Adventure</td><td>PG</td><td>59157732</td><td>61040349</td><td>4</td></tr><tr><td>I am Number Four</td><td>2011-02-18</td><td>Adventure</td><td>PG-13</td><td>55100437</td><td>58574607</td><td>4</td></tr><tr><td>The BFG</td><td>2016-07-01</td><td>Adventure</td><td>PG</td><td>55483770</td><td>55483770</td><td>4</td></tr><tr><td>Winnie the Pooh</td><td>2011-07-15</td><td>Adventure</td><td>G</td><td>26692846</td><td>28375869</td><td>4</td></tr><tr><td>Mars Needs Moms</td><td>2011-03-11</td><td>Adventure</td><td>PG</td><td>21392758</td><td>22741603</td><td>4</td></tr><tr><td>The Secret World of Arietty</td><td>2012-02-17</td><td>Adventure</td><td>G</td><td>19192510</td><td>20325733</td><td>4</td></tr><tr><td>Strange Magic</td><td>2015-01-23</td><td>Adventure</td><td>PG</td><td>12429583</td><td>12429583</td><td>4</td></tr><tr><td>Zokkomon</td><td>2011-04-22</td><td>Adventure</td><td>PG</td><td>2815</td><td>2984</td><td>4</td></tr><tr><td>Gnomeo and Juliet</td><td>2011-02-11</td><td>Comedy</td><td>G</td><td>99967670</td><td>106270797</td><td>1</td></tr><tr><td>The Muppets</td><td>2011-11-23</td><td>Comedy</td><td>PG</td><td>88625922</td><td>94189503</td><td>1</td></tr><tr><td>Disney Planes</td><td>2013-08-09</td><td>Comedy</td><td>PG</td><td>90282580</td><td>93614037</td><td>2</td></tr><tr><td>Alexander and the Terrible, Horrible,…</td><td>2014-10-10</td><td>Comedy</td><td>PG</td><td>66954149</td><td>69055550</td><td>2</td></tr><tr><td>Muppets Most Wanted</td><td>2014-03-21</td><td>Comedy</td><td>PG</td><td>51178893</td><td>52807594</td><td>3</td></tr><tr><td>Frankenweenie</td><td>2012-10-05</td><td>Comedy</td><td>PG</td><td>35287788</td><td>37363513</td><td>3</td></tr><tr><td>Delivery Man</td><td>2013-11-22</td><td>Comedy</td><td>PG-13</td><td>30659817</td><td>31787136</td><td>4</td></tr><tr><td>Prom</td><td>2011-04-29</td><td>Comedy</td><td>PG</td><td>10130219</td><td>10768946</td><td>4</td></tr><tr><td>Chimpanzee</td><td>2012-04-20</td><td>Documentary</td><td>G</td><td>28965459</td><td>30675725</td><td>1</td></tr><tr><td>Bears</td><td>2014-04-18</td><td>Documentary</td><td>G</td><td>17780194</td><td>18346024</td><td>1</td></tr><tr><td>Monkey Kingdom</td><td>2015-04-17</td><td>Documentary</td><td>G</td><td>16432322</td><td>16432322</td><td>2</td></tr><tr><td>African Cats</td><td>2011-04-22</td><td>Documentary</td><td>G</td><td>15428747</td><td>16401551</td><td>3</td></tr><tr><td>A Beautiful Planet</td><td>2016-04-29</td><td>Documentary</td><td>G</td><td>7895708</td><td>7895708</td><td>4</td></tr><tr><td>Cinderella</td><td>2015-03-13</td><td>Drama</td><td>PG</td><td>201151353</td><td>201151353</td><td>1</td></tr><tr><td>Lincoln</td><td>2012-11-09</td><td>Drama</td><td>PG-13</td><td>182207973</td><td>192122330</td><td>1</td></tr><tr><td>The Help</td><td>2011-08-10</td><td>Drama</td><td>PG-13</td><td>169705587</td><td>180404976</td><td>1</td></tr><tr><td>Saving Mr. Banks</td><td>2013-12-13</td><td>Drama</td><td>PG-13</td><td>83299761</td><td>86249969</td><td>1</td></tr><tr><td>War Horse</td><td>2011-12-25</td><td>Drama</td><td>PG-13</td><td>79883359</td><td>84762149</td><td>2</td></tr><tr><td>The Odd Life of Timothy Green</td><td>2012-08-15</td><td>Drama</td><td>PG</td><td>51853450</td><td>54914942</td><td>2</td></tr><tr><td>McFarland, USA</td><td>2015-02-20</td><td>Drama</td><td>PG</td><td>44480275</td><td>44480275</td><td>2</td></tr><tr><td>Million Dollar Arm</td><td>2014-05-10</td><td>Drama</td><td>PG</td><td>36447959</td><td>37607865</td><td>3</td></tr><tr><td>People Like Us</td><td>2012-06-29</td><td>Drama</td><td>PG-13</td><td>12431792</td><td>13165822</td><td>3</td></tr><tr><td>The Light Between Oceans</td><td>2016-09-02</td><td>Drama</td><td>PG-13</td><td>12545979</td><td>12545979</td><td>3</td></tr><tr><td>Queen of Katwe</td><td>2016-09-23</td><td>Drama</td><td>PG</td><td>8874389</td><td>8874389</td><td>4</td></tr><tr><td>Kaze Tachinu</td><td>2013-11-08</td><td>Drama</td><td>PG-13</td><td>5201879</td><td>5367415</td><td>4</td></tr><tr><td>The Fifth Estate</td><td>2013-10-18</td><td>Drama</td><td>R</td><td>3254172</td><td>3374251</td><td>4</td></tr><tr><td>Fright Night</td><td>2011-08-19</td><td>Horror</td><td>R</td><td>18298649</td><td>19452402</td><td>1</td></tr><tr><td>Into the Woods</td><td>2014-12-25</td><td>Musical</td><td>PG</td><td>128002372</td><td>130894237</td><td>1</td></tr><tr><td>The Hundred-Foot Journey</td><td>2014-08-08</td><td>Romantic Comedy</td><td>PG</td><td>54235441</td><td>55961409</td><td>1</td></tr><tr><td>Bridge of Spies</td><td>2015-10-16</td><td>Thriller/Suspense</td><td>PG-13</td><td>72313754</td><td>72313754</td><td>1</td></tr><tr><td>The Finest Hours</td><td>2016-01-29</td><td>Thriller/Suspense</td><td>PG</td><td>27569558</td><td>27569558</td><td>2</td></tr><tr><td>The Lone Ranger</td><td>2013-07-02</td><td>Western</td><td>PG-13</td><td>89302115</td><td>92597388</td><td>1</td></tr></table>"
                    },
                    "metadata": {}
                }
            ],
            "execution_count": 7
        }
    ]
}