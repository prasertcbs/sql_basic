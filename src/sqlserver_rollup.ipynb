{
    "metadata": {
        "kernelspec": {
            "name": "SQL",
            "display_name": "SQL",
            "language": "sql"
        },
        "language_info": {
            "name": "sql",
            "version": ""
        }
    },
    "nbformat_minor": 2,
    "nbformat": 4,
    "cells": [
        {
            "cell_type": "markdown",
            "source": [
                "# GROUP BY ROLLUP()\n",
                "## Server: Microsoft SQL Server\n",
                "## Author: Prasert Kanawattanachai\n",
                "## YouTube: https://youtu.be/z9_kTtzs69Y"
            ],
            "metadata": {
                "azdata_cell_guid": "bbbf80be-1c9d-4df7-99bc-f34d6030fcf5"
            }
        },
        {
            "cell_type": "code",
            "source": [
                "select top 20 * from daily_sales;"
            ],
            "metadata": {
                "azdata_cell_guid": "d6fcfc32-3476-4286-b9d6-7278467f7bbc"
            },
            "outputs": [
                {
                    "output_type": "display_data",
                    "data": {
                        "text/html": "(20 rows affected)"
                    },
                    "metadata": {}
                },
                {
                    "output_type": "display_data",
                    "data": {
                        "text/html": "Total execution time: 00:00:00.600"
                    },
                    "metadata": {}
                },
                {
                    "output_type": "execute_result",
                    "execution_count": 7,
                    "data": {
                        "application/vnd.dataresource+json": {
                            "schema": {
                                "fields": [
                                    {
                                        "name": "menu"
                                    },
                                    {
                                        "name": "dt"
                                    },
                                    {
                                        "name": "revenue"
                                    }
                                ]
                            },
                            "data": [
                                {
                                    "0": "coffee",
                                    "1": "2018-01-01",
                                    "2": "20159"
                                },
                                {
                                    "0": "tea",
                                    "1": "2018-01-01",
                                    "2": "17818"
                                },
                                {
                                    "0": "coffee",
                                    "1": "2018-01-02",
                                    "2": "22023"
                                },
                                {
                                    "0": "tea",
                                    "1": "2018-01-02",
                                    "2": "18058"
                                },
                                {
                                    "0": "coffee",
                                    "1": "2018-01-03",
                                    "2": "7760"
                                },
                                {
                                    "0": "tea",
                                    "1": "2018-01-03",
                                    "2": "6893"
                                },
                                {
                                    "0": "coffee",
                                    "1": "2018-01-04",
                                    "2": "24526"
                                },
                                {
                                    "0": "tea",
                                    "1": "2018-01-04",
                                    "2": "17667"
                                },
                                {
                                    "0": "coffee",
                                    "1": "2018-01-05",
                                    "2": "15177"
                                },
                                {
                                    "0": "tea",
                                    "1": "2018-01-05",
                                    "2": "8150"
                                },
                                {
                                    "0": "coffee",
                                    "1": "2018-01-06",
                                    "2": "14111"
                                },
                                {
                                    "0": "tea",
                                    "1": "2018-01-06",
                                    "2": "18208"
                                },
                                {
                                    "0": "coffee",
                                    "1": "2018-01-07",
                                    "2": "9343"
                                },
                                {
                                    "0": "tea",
                                    "1": "2018-01-07",
                                    "2": "12813"
                                },
                                {
                                    "0": "coffee",
                                    "1": "2018-01-08",
                                    "2": "11293"
                                },
                                {
                                    "0": "tea",
                                    "1": "2018-01-08",
                                    "2": "11341"
                                },
                                {
                                    "0": "coffee",
                                    "1": "2018-01-09",
                                    "2": "22890"
                                },
                                {
                                    "0": "tea",
                                    "1": "2018-01-09",
                                    "2": "11598"
                                },
                                {
                                    "0": "coffee",
                                    "1": "2018-01-10",
                                    "2": "23291"
                                },
                                {
                                    "0": "tea",
                                    "1": "2018-01-10",
                                    "2": "11156"
                                }
                            ]
                        },
                        "text/html": "<table><tr><th>menu</th><th>dt</th><th>revenue</th></tr><tr><td>coffee</td><td>2018-01-01</td><td>20159</td></tr><tr><td>tea</td><td>2018-01-01</td><td>17818</td></tr><tr><td>coffee</td><td>2018-01-02</td><td>22023</td></tr><tr><td>tea</td><td>2018-01-02</td><td>18058</td></tr><tr><td>coffee</td><td>2018-01-03</td><td>7760</td></tr><tr><td>tea</td><td>2018-01-03</td><td>6893</td></tr><tr><td>coffee</td><td>2018-01-04</td><td>24526</td></tr><tr><td>tea</td><td>2018-01-04</td><td>17667</td></tr><tr><td>coffee</td><td>2018-01-05</td><td>15177</td></tr><tr><td>tea</td><td>2018-01-05</td><td>8150</td></tr><tr><td>coffee</td><td>2018-01-06</td><td>14111</td></tr><tr><td>tea</td><td>2018-01-06</td><td>18208</td></tr><tr><td>coffee</td><td>2018-01-07</td><td>9343</td></tr><tr><td>tea</td><td>2018-01-07</td><td>12813</td></tr><tr><td>coffee</td><td>2018-01-08</td><td>11293</td></tr><tr><td>tea</td><td>2018-01-08</td><td>11341</td></tr><tr><td>coffee</td><td>2018-01-09</td><td>22890</td></tr><tr><td>tea</td><td>2018-01-09</td><td>11598</td></tr><tr><td>coffee</td><td>2018-01-10</td><td>23291</td></tr><tr><td>tea</td><td>2018-01-10</td><td>11156</td></tr></table>"
                    },
                    "metadata": {}
                }
            ],
            "execution_count": 7
        },
        {
            "cell_type": "code",
            "source": [
                "select datepart(month, dt) month, sum(revenue) \n",
                "    from daily_sales \n",
                "    group by datepart(month, dt)\n",
                "    order by month"
            ],
            "metadata": {
                "azdata_cell_guid": "6c130080-da96-4199-8fac-9a182a70a8e2"
            },
            "outputs": [
                {
                    "output_type": "display_data",
                    "data": {
                        "text/html": "(12 rows affected)"
                    },
                    "metadata": {}
                },
                {
                    "output_type": "display_data",
                    "data": {
                        "text/html": "Total execution time: 00:00:00.060"
                    },
                    "metadata": {}
                },
                {
                    "output_type": "execute_result",
                    "execution_count": 8,
                    "data": {
                        "application/vnd.dataresource+json": {
                            "schema": {
                                "fields": [
                                    {
                                        "name": "month"
                                    },
                                    {
                                        "name": "(No column name)"
                                    }
                                ]
                            },
                            "data": [
                                {
                                    "0": "1",
                                    "1": "1738017"
                                },
                                {
                                    "0": "2",
                                    "1": "1720871"
                                },
                                {
                                    "0": "3",
                                    "1": "1864252"
                                },
                                {
                                    "0": "4",
                                    "1": "1779423"
                                },
                                {
                                    "0": "5",
                                    "1": "1755863"
                                },
                                {
                                    "0": "6",
                                    "1": "1857156"
                                },
                                {
                                    "0": "7",
                                    "1": "1770047"
                                },
                                {
                                    "0": "8",
                                    "1": "1838443"
                                },
                                {
                                    "0": "9",
                                    "1": "1838227"
                                },
                                {
                                    "0": "10",
                                    "1": "1801060"
                                },
                                {
                                    "0": "11",
                                    "1": "1739432"
                                },
                                {
                                    "0": "12",
                                    "1": "1917466"
                                }
                            ]
                        },
                        "text/html": "<table><tr><th>month</th><th>(No column name)</th></tr><tr><td>1</td><td>1738017</td></tr><tr><td>2</td><td>1720871</td></tr><tr><td>3</td><td>1864252</td></tr><tr><td>4</td><td>1779423</td></tr><tr><td>5</td><td>1755863</td></tr><tr><td>6</td><td>1857156</td></tr><tr><td>7</td><td>1770047</td></tr><tr><td>8</td><td>1838443</td></tr><tr><td>9</td><td>1838227</td></tr><tr><td>10</td><td>1801060</td></tr><tr><td>11</td><td>1739432</td></tr><tr><td>12</td><td>1917466</td></tr></table>"
                    },
                    "metadata": {}
                }
            ],
            "execution_count": 8
        },
        {
            "cell_type": "code",
            "source": [
                "select null, sum(revenue) \n",
                "    from daily_sales "
            ],
            "metadata": {
                "azdata_cell_guid": "8dae8278-b9db-48ee-803f-2b8e875a5e09"
            },
            "outputs": [
                {
                    "output_type": "display_data",
                    "data": {
                        "text/html": "(1 row affected)"
                    },
                    "metadata": {}
                },
                {
                    "output_type": "display_data",
                    "data": {
                        "text/html": "Total execution time: 00:00:00.065"
                    },
                    "metadata": {}
                },
                {
                    "output_type": "execute_result",
                    "execution_count": 9,
                    "data": {
                        "application/vnd.dataresource+json": {
                            "schema": {
                                "fields": [
                                    {
                                        "name": "(No column name)"
                                    },
                                    {
                                        "name": "(No column name)"
                                    }
                                ]
                            },
                            "data": [
                                {
                                    "0": "NULL",
                                    "1": "21620257"
                                }
                            ]
                        },
                        "text/html": "<table><tr><th>(No column name)</th><th>(No column name)</th></tr><tr><td>NULL</td><td>21620257</td></tr></table>"
                    },
                    "metadata": {}
                }
            ],
            "execution_count": 9
        },
        {
            "cell_type": "code",
            "source": [
                "select datepart(month, dt) month, sum(revenue) \n",
                "    from daily_sales \n",
                "    group by datepart(month, dt)\n",
                "union\n",
                "select null, sum(revenue) \n",
                "    from daily_sales \n",
                "order by month"
            ],
            "metadata": {
                "azdata_cell_guid": "c7915814-d2dd-453b-8aa9-68a0cebd5933"
            },
            "outputs": [
                {
                    "output_type": "display_data",
                    "data": {
                        "text/html": "(13 rows affected)"
                    },
                    "metadata": {}
                },
                {
                    "output_type": "display_data",
                    "data": {
                        "text/html": "Total execution time: 00:00:00.060"
                    },
                    "metadata": {}
                },
                {
                    "output_type": "execute_result",
                    "execution_count": 10,
                    "data": {
                        "application/vnd.dataresource+json": {
                            "schema": {
                                "fields": [
                                    {
                                        "name": "month"
                                    },
                                    {
                                        "name": "(No column name)"
                                    }
                                ]
                            },
                            "data": [
                                {
                                    "0": "NULL",
                                    "1": "21620257"
                                },
                                {
                                    "0": "1",
                                    "1": "1738017"
                                },
                                {
                                    "0": "2",
                                    "1": "1720871"
                                },
                                {
                                    "0": "3",
                                    "1": "1864252"
                                },
                                {
                                    "0": "4",
                                    "1": "1779423"
                                },
                                {
                                    "0": "5",
                                    "1": "1755863"
                                },
                                {
                                    "0": "6",
                                    "1": "1857156"
                                },
                                {
                                    "0": "7",
                                    "1": "1770047"
                                },
                                {
                                    "0": "8",
                                    "1": "1838443"
                                },
                                {
                                    "0": "9",
                                    "1": "1838227"
                                },
                                {
                                    "0": "10",
                                    "1": "1801060"
                                },
                                {
                                    "0": "11",
                                    "1": "1739432"
                                },
                                {
                                    "0": "12",
                                    "1": "1917466"
                                }
                            ]
                        },
                        "text/html": "<table><tr><th>month</th><th>(No column name)</th></tr><tr><td>NULL</td><td>21620257</td></tr><tr><td>1</td><td>1738017</td></tr><tr><td>2</td><td>1720871</td></tr><tr><td>3</td><td>1864252</td></tr><tr><td>4</td><td>1779423</td></tr><tr><td>5</td><td>1755863</td></tr><tr><td>6</td><td>1857156</td></tr><tr><td>7</td><td>1770047</td></tr><tr><td>8</td><td>1838443</td></tr><tr><td>9</td><td>1838227</td></tr><tr><td>10</td><td>1801060</td></tr><tr><td>11</td><td>1739432</td></tr><tr><td>12</td><td>1917466</td></tr></table>"
                    },
                    "metadata": {}
                }
            ],
            "execution_count": 10
        },
        {
            "cell_type": "code",
            "source": [
                "select datepart(year, dt) year, datepart(quarter, dt) quarter, datepart(month, dt) month, sum(revenue) total\n",
                "    from daily_sales \n",
                "    group by rollup(datepart(year, dt), datepart(quarter, dt), datepart(month, dt))\n",
                "    order by year, quarter, month"
            ],
            "metadata": {
                "azdata_cell_guid": "41df2f3d-4ce8-49d9-98e6-b2264c78e7a7"
            },
            "outputs": [
                {
                    "output_type": "display_data",
                    "data": {
                        "text/html": "(35 rows affected)"
                    },
                    "metadata": {}
                },
                {
                    "output_type": "display_data",
                    "data": {
                        "text/html": "Total execution time: 00:00:00.063"
                    },
                    "metadata": {}
                },
                {
                    "output_type": "execute_result",
                    "execution_count": 11,
                    "data": {
                        "application/vnd.dataresource+json": {
                            "schema": {
                                "fields": [
                                    {
                                        "name": "year"
                                    },
                                    {
                                        "name": "quarter"
                                    },
                                    {
                                        "name": "month"
                                    },
                                    {
                                        "name": "total"
                                    }
                                ]
                            },
                            "data": [
                                {
                                    "0": "NULL",
                                    "1": "NULL",
                                    "2": "NULL",
                                    "3": "21620257"
                                },
                                {
                                    "0": "2018",
                                    "1": "NULL",
                                    "2": "NULL",
                                    "3": "10779009"
                                },
                                {
                                    "0": "2018",
                                    "1": "1",
                                    "2": "NULL",
                                    "3": "2683932"
                                },
                                {
                                    "0": "2018",
                                    "1": "1",
                                    "2": "1",
                                    "3": "918772"
                                },
                                {
                                    "0": "2018",
                                    "1": "1",
                                    "2": "2",
                                    "3": "831727"
                                },
                                {
                                    "0": "2018",
                                    "1": "1",
                                    "2": "3",
                                    "3": "933433"
                                },
                                {
                                    "0": "2018",
                                    "1": "2",
                                    "2": "NULL",
                                    "3": "2706863"
                                },
                                {
                                    "0": "2018",
                                    "1": "2",
                                    "2": "4",
                                    "3": "875663"
                                },
                                {
                                    "0": "2018",
                                    "1": "2",
                                    "2": "5",
                                    "3": "887544"
                                },
                                {
                                    "0": "2018",
                                    "1": "2",
                                    "2": "6",
                                    "3": "943656"
                                },
                                {
                                    "0": "2018",
                                    "1": "3",
                                    "2": "NULL",
                                    "3": "2696377"
                                },
                                {
                                    "0": "2018",
                                    "1": "3",
                                    "2": "7",
                                    "3": "896094"
                                },
                                {
                                    "0": "2018",
                                    "1": "3",
                                    "2": "8",
                                    "3": "884056"
                                },
                                {
                                    "0": "2018",
                                    "1": "3",
                                    "2": "9",
                                    "3": "916227"
                                },
                                {
                                    "0": "2018",
                                    "1": "4",
                                    "2": "NULL",
                                    "3": "2691837"
                                },
                                {
                                    "0": "2018",
                                    "1": "4",
                                    "2": "10",
                                    "3": "864026"
                                },
                                {
                                    "0": "2018",
                                    "1": "4",
                                    "2": "11",
                                    "3": "877734"
                                },
                                {
                                    "0": "2018",
                                    "1": "4",
                                    "2": "12",
                                    "3": "950077"
                                },
                                {
                                    "0": "2019",
                                    "1": "NULL",
                                    "2": "NULL",
                                    "3": "10841248"
                                },
                                {
                                    "0": "2019",
                                    "1": "1",
                                    "2": "NULL",
                                    "3": "2639208"
                                },
                                {
                                    "0": "2019",
                                    "1": "1",
                                    "2": "1",
                                    "3": "819245"
                                },
                                {
                                    "0": "2019",
                                    "1": "1",
                                    "2": "2",
                                    "3": "889144"
                                },
                                {
                                    "0": "2019",
                                    "1": "1",
                                    "2": "3",
                                    "3": "930819"
                                },
                                {
                                    "0": "2019",
                                    "1": "2",
                                    "2": "NULL",
                                    "3": "2685579"
                                },
                                {
                                    "0": "2019",
                                    "1": "2",
                                    "2": "4",
                                    "3": "903760"
                                },
                                {
                                    "0": "2019",
                                    "1": "2",
                                    "2": "5",
                                    "3": "868319"
                                },
                                {
                                    "0": "2019",
                                    "1": "2",
                                    "2": "6",
                                    "3": "913500"
                                },
                                {
                                    "0": "2019",
                                    "1": "3",
                                    "2": "NULL",
                                    "3": "2750340"
                                },
                                {
                                    "0": "2019",
                                    "1": "3",
                                    "2": "7",
                                    "3": "873953"
                                },
                                {
                                    "0": "2019",
                                    "1": "3",
                                    "2": "8",
                                    "3": "954387"
                                },
                                {
                                    "0": "2019",
                                    "1": "3",
                                    "2": "9",
                                    "3": "922000"
                                },
                                {
                                    "0": "2019",
                                    "1": "4",
                                    "2": "NULL",
                                    "3": "2766121"
                                },
                                {
                                    "0": "2019",
                                    "1": "4",
                                    "2": "10",
                                    "3": "937034"
                                },
                                {
                                    "0": "2019",
                                    "1": "4",
                                    "2": "11",
                                    "3": "861698"
                                },
                                {
                                    "0": "2019",
                                    "1": "4",
                                    "2": "12",
                                    "3": "967389"
                                }
                            ]
                        },
                        "text/html": "<table><tr><th>year</th><th>quarter</th><th>month</th><th>total</th></tr><tr><td>NULL</td><td>NULL</td><td>NULL</td><td>21620257</td></tr><tr><td>2018</td><td>NULL</td><td>NULL</td><td>10779009</td></tr><tr><td>2018</td><td>1</td><td>NULL</td><td>2683932</td></tr><tr><td>2018</td><td>1</td><td>1</td><td>918772</td></tr><tr><td>2018</td><td>1</td><td>2</td><td>831727</td></tr><tr><td>2018</td><td>1</td><td>3</td><td>933433</td></tr><tr><td>2018</td><td>2</td><td>NULL</td><td>2706863</td></tr><tr><td>2018</td><td>2</td><td>4</td><td>875663</td></tr><tr><td>2018</td><td>2</td><td>5</td><td>887544</td></tr><tr><td>2018</td><td>2</td><td>6</td><td>943656</td></tr><tr><td>2018</td><td>3</td><td>NULL</td><td>2696377</td></tr><tr><td>2018</td><td>3</td><td>7</td><td>896094</td></tr><tr><td>2018</td><td>3</td><td>8</td><td>884056</td></tr><tr><td>2018</td><td>3</td><td>9</td><td>916227</td></tr><tr><td>2018</td><td>4</td><td>NULL</td><td>2691837</td></tr><tr><td>2018</td><td>4</td><td>10</td><td>864026</td></tr><tr><td>2018</td><td>4</td><td>11</td><td>877734</td></tr><tr><td>2018</td><td>4</td><td>12</td><td>950077</td></tr><tr><td>2019</td><td>NULL</td><td>NULL</td><td>10841248</td></tr><tr><td>2019</td><td>1</td><td>NULL</td><td>2639208</td></tr><tr><td>2019</td><td>1</td><td>1</td><td>819245</td></tr><tr><td>2019</td><td>1</td><td>2</td><td>889144</td></tr><tr><td>2019</td><td>1</td><td>3</td><td>930819</td></tr><tr><td>2019</td><td>2</td><td>NULL</td><td>2685579</td></tr><tr><td>2019</td><td>2</td><td>4</td><td>903760</td></tr><tr><td>2019</td><td>2</td><td>5</td><td>868319</td></tr><tr><td>2019</td><td>2</td><td>6</td><td>913500</td></tr><tr><td>2019</td><td>3</td><td>NULL</td><td>2750340</td></tr><tr><td>2019</td><td>3</td><td>7</td><td>873953</td></tr><tr><td>2019</td><td>3</td><td>8</td><td>954387</td></tr><tr><td>2019</td><td>3</td><td>9</td><td>922000</td></tr><tr><td>2019</td><td>4</td><td>NULL</td><td>2766121</td></tr><tr><td>2019</td><td>4</td><td>10</td><td>937034</td></tr><tr><td>2019</td><td>4</td><td>11</td><td>861698</td></tr><tr><td>2019</td><td>4</td><td>12</td><td>967389</td></tr></table>"
                    },
                    "metadata": {}
                }
            ],
            "execution_count": 11
        },
        {
            "cell_type": "code",
            "source": [
                "select datepart(year, dt) year,\n",
                "    datepart(quarter, dt) quarter, \n",
                "    -- datepart(month, dt) month, \n",
                "    sum(revenue) total\n",
                "    from daily_sales \n",
                "    group by rollup(datepart(year, dt), datepart(quarter, dt), datepart(month, dt))\n",
                "    having datepart(month, dt) is null\n",
                "    order by year, quarter\n",
                ""
            ],
            "metadata": {
                "azdata_cell_guid": "e93854d7-a146-4f0d-a492-2601306a2f2d"
            },
            "outputs": [
                {
                    "output_type": "display_data",
                    "data": {
                        "text/html": "(11 rows affected)"
                    },
                    "metadata": {}
                },
                {
                    "output_type": "display_data",
                    "data": {
                        "text/html": "Total execution time: 00:00:00.064"
                    },
                    "metadata": {}
                },
                {
                    "output_type": "execute_result",
                    "execution_count": 12,
                    "data": {
                        "application/vnd.dataresource+json": {
                            "schema": {
                                "fields": [
                                    {
                                        "name": "year"
                                    },
                                    {
                                        "name": "quarter"
                                    },
                                    {
                                        "name": "total"
                                    }
                                ]
                            },
                            "data": [
                                {
                                    "0": "NULL",
                                    "1": "NULL",
                                    "2": "21620257"
                                },
                                {
                                    "0": "2018",
                                    "1": "NULL",
                                    "2": "10779009"
                                },
                                {
                                    "0": "2018",
                                    "1": "1",
                                    "2": "2683932"
                                },
                                {
                                    "0": "2018",
                                    "1": "2",
                                    "2": "2706863"
                                },
                                {
                                    "0": "2018",
                                    "1": "3",
                                    "2": "2696377"
                                },
                                {
                                    "0": "2018",
                                    "1": "4",
                                    "2": "2691837"
                                },
                                {
                                    "0": "2019",
                                    "1": "NULL",
                                    "2": "10841248"
                                },
                                {
                                    "0": "2019",
                                    "1": "1",
                                    "2": "2639208"
                                },
                                {
                                    "0": "2019",
                                    "1": "2",
                                    "2": "2685579"
                                },
                                {
                                    "0": "2019",
                                    "1": "3",
                                    "2": "2750340"
                                },
                                {
                                    "0": "2019",
                                    "1": "4",
                                    "2": "2766121"
                                }
                            ]
                        },
                        "text/html": "<table><tr><th>year</th><th>quarter</th><th>total</th></tr><tr><td>NULL</td><td>NULL</td><td>21620257</td></tr><tr><td>2018</td><td>NULL</td><td>10779009</td></tr><tr><td>2018</td><td>1</td><td>2683932</td></tr><tr><td>2018</td><td>2</td><td>2706863</td></tr><tr><td>2018</td><td>3</td><td>2696377</td></tr><tr><td>2018</td><td>4</td><td>2691837</td></tr><tr><td>2019</td><td>NULL</td><td>10841248</td></tr><tr><td>2019</td><td>1</td><td>2639208</td></tr><tr><td>2019</td><td>2</td><td>2685579</td></tr><tr><td>2019</td><td>3</td><td>2750340</td></tr><tr><td>2019</td><td>4</td><td>2766121</td></tr></table>"
                    },
                    "metadata": {}
                }
            ],
            "execution_count": 12
        },
        {
            "cell_type": "code",
            "source": [
                "select datepart(year, dt) year, datepart(quarter, dt) quarter, datepart(month, dt) month, sum(revenue) total\n",
                "    from daily_sales \n",
                "    -- group by rollup(datepart(year, dt), datepart(quarter, dt), datepart(month, dt))\n",
                "    group by grouping sets (\n",
                "        (datepart(year, dt), datepart(quarter, dt), datepart(month, dt)),\n",
                "        (datepart(year, dt), datepart(quarter, dt)),\n",
                "        (datepart(year, dt)),\n",
                "        ()\n",
                "    )\n",
                "    order by year, quarter, month"
            ],
            "metadata": {
                "azdata_cell_guid": "530e2742-fe96-46dd-b794-5cce776a4f16"
            },
            "outputs": [
                {
                    "output_type": "display_data",
                    "data": {
                        "text/html": "(35 rows affected)"
                    },
                    "metadata": {}
                },
                {
                    "output_type": "display_data",
                    "data": {
                        "text/html": "Total execution time: 00:00:00.064"
                    },
                    "metadata": {}
                },
                {
                    "output_type": "execute_result",
                    "execution_count": 13,
                    "data": {
                        "application/vnd.dataresource+json": {
                            "schema": {
                                "fields": [
                                    {
                                        "name": "year"
                                    },
                                    {
                                        "name": "quarter"
                                    },
                                    {
                                        "name": "month"
                                    },
                                    {
                                        "name": "total"
                                    }
                                ]
                            },
                            "data": [
                                {
                                    "0": "NULL",
                                    "1": "NULL",
                                    "2": "NULL",
                                    "3": "21620257"
                                },
                                {
                                    "0": "2018",
                                    "1": "NULL",
                                    "2": "NULL",
                                    "3": "10779009"
                                },
                                {
                                    "0": "2018",
                                    "1": "1",
                                    "2": "NULL",
                                    "3": "2683932"
                                },
                                {
                                    "0": "2018",
                                    "1": "1",
                                    "2": "1",
                                    "3": "918772"
                                },
                                {
                                    "0": "2018",
                                    "1": "1",
                                    "2": "2",
                                    "3": "831727"
                                },
                                {
                                    "0": "2018",
                                    "1": "1",
                                    "2": "3",
                                    "3": "933433"
                                },
                                {
                                    "0": "2018",
                                    "1": "2",
                                    "2": "NULL",
                                    "3": "2706863"
                                },
                                {
                                    "0": "2018",
                                    "1": "2",
                                    "2": "4",
                                    "3": "875663"
                                },
                                {
                                    "0": "2018",
                                    "1": "2",
                                    "2": "5",
                                    "3": "887544"
                                },
                                {
                                    "0": "2018",
                                    "1": "2",
                                    "2": "6",
                                    "3": "943656"
                                },
                                {
                                    "0": "2018",
                                    "1": "3",
                                    "2": "NULL",
                                    "3": "2696377"
                                },
                                {
                                    "0": "2018",
                                    "1": "3",
                                    "2": "7",
                                    "3": "896094"
                                },
                                {
                                    "0": "2018",
                                    "1": "3",
                                    "2": "8",
                                    "3": "884056"
                                },
                                {
                                    "0": "2018",
                                    "1": "3",
                                    "2": "9",
                                    "3": "916227"
                                },
                                {
                                    "0": "2018",
                                    "1": "4",
                                    "2": "NULL",
                                    "3": "2691837"
                                },
                                {
                                    "0": "2018",
                                    "1": "4",
                                    "2": "10",
                                    "3": "864026"
                                },
                                {
                                    "0": "2018",
                                    "1": "4",
                                    "2": "11",
                                    "3": "877734"
                                },
                                {
                                    "0": "2018",
                                    "1": "4",
                                    "2": "12",
                                    "3": "950077"
                                },
                                {
                                    "0": "2019",
                                    "1": "NULL",
                                    "2": "NULL",
                                    "3": "10841248"
                                },
                                {
                                    "0": "2019",
                                    "1": "1",
                                    "2": "NULL",
                                    "3": "2639208"
                                },
                                {
                                    "0": "2019",
                                    "1": "1",
                                    "2": "1",
                                    "3": "819245"
                                },
                                {
                                    "0": "2019",
                                    "1": "1",
                                    "2": "2",
                                    "3": "889144"
                                },
                                {
                                    "0": "2019",
                                    "1": "1",
                                    "2": "3",
                                    "3": "930819"
                                },
                                {
                                    "0": "2019",
                                    "1": "2",
                                    "2": "NULL",
                                    "3": "2685579"
                                },
                                {
                                    "0": "2019",
                                    "1": "2",
                                    "2": "4",
                                    "3": "903760"
                                },
                                {
                                    "0": "2019",
                                    "1": "2",
                                    "2": "5",
                                    "3": "868319"
                                },
                                {
                                    "0": "2019",
                                    "1": "2",
                                    "2": "6",
                                    "3": "913500"
                                },
                                {
                                    "0": "2019",
                                    "1": "3",
                                    "2": "NULL",
                                    "3": "2750340"
                                },
                                {
                                    "0": "2019",
                                    "1": "3",
                                    "2": "7",
                                    "3": "873953"
                                },
                                {
                                    "0": "2019",
                                    "1": "3",
                                    "2": "8",
                                    "3": "954387"
                                },
                                {
                                    "0": "2019",
                                    "1": "3",
                                    "2": "9",
                                    "3": "922000"
                                },
                                {
                                    "0": "2019",
                                    "1": "4",
                                    "2": "NULL",
                                    "3": "2766121"
                                },
                                {
                                    "0": "2019",
                                    "1": "4",
                                    "2": "10",
                                    "3": "937034"
                                },
                                {
                                    "0": "2019",
                                    "1": "4",
                                    "2": "11",
                                    "3": "861698"
                                },
                                {
                                    "0": "2019",
                                    "1": "4",
                                    "2": "12",
                                    "3": "967389"
                                }
                            ]
                        },
                        "text/html": "<table><tr><th>year</th><th>quarter</th><th>month</th><th>total</th></tr><tr><td>NULL</td><td>NULL</td><td>NULL</td><td>21620257</td></tr><tr><td>2018</td><td>NULL</td><td>NULL</td><td>10779009</td></tr><tr><td>2018</td><td>1</td><td>NULL</td><td>2683932</td></tr><tr><td>2018</td><td>1</td><td>1</td><td>918772</td></tr><tr><td>2018</td><td>1</td><td>2</td><td>831727</td></tr><tr><td>2018</td><td>1</td><td>3</td><td>933433</td></tr><tr><td>2018</td><td>2</td><td>NULL</td><td>2706863</td></tr><tr><td>2018</td><td>2</td><td>4</td><td>875663</td></tr><tr><td>2018</td><td>2</td><td>5</td><td>887544</td></tr><tr><td>2018</td><td>2</td><td>6</td><td>943656</td></tr><tr><td>2018</td><td>3</td><td>NULL</td><td>2696377</td></tr><tr><td>2018</td><td>3</td><td>7</td><td>896094</td></tr><tr><td>2018</td><td>3</td><td>8</td><td>884056</td></tr><tr><td>2018</td><td>3</td><td>9</td><td>916227</td></tr><tr><td>2018</td><td>4</td><td>NULL</td><td>2691837</td></tr><tr><td>2018</td><td>4</td><td>10</td><td>864026</td></tr><tr><td>2018</td><td>4</td><td>11</td><td>877734</td></tr><tr><td>2018</td><td>4</td><td>12</td><td>950077</td></tr><tr><td>2019</td><td>NULL</td><td>NULL</td><td>10841248</td></tr><tr><td>2019</td><td>1</td><td>NULL</td><td>2639208</td></tr><tr><td>2019</td><td>1</td><td>1</td><td>819245</td></tr><tr><td>2019</td><td>1</td><td>2</td><td>889144</td></tr><tr><td>2019</td><td>1</td><td>3</td><td>930819</td></tr><tr><td>2019</td><td>2</td><td>NULL</td><td>2685579</td></tr><tr><td>2019</td><td>2</td><td>4</td><td>903760</td></tr><tr><td>2019</td><td>2</td><td>5</td><td>868319</td></tr><tr><td>2019</td><td>2</td><td>6</td><td>913500</td></tr><tr><td>2019</td><td>3</td><td>NULL</td><td>2750340</td></tr><tr><td>2019</td><td>3</td><td>7</td><td>873953</td></tr><tr><td>2019</td><td>3</td><td>8</td><td>954387</td></tr><tr><td>2019</td><td>3</td><td>9</td><td>922000</td></tr><tr><td>2019</td><td>4</td><td>NULL</td><td>2766121</td></tr><tr><td>2019</td><td>4</td><td>10</td><td>937034</td></tr><tr><td>2019</td><td>4</td><td>11</td><td>861698</td></tr><tr><td>2019</td><td>4</td><td>12</td><td>967389</td></tr></table>"
                    },
                    "metadata": {}
                }
            ],
            "execution_count": 13
        },
        {
            "cell_type": "code",
            "source": [
                "select menu, datepart(year, dt) year, datepart(quarter, dt) quarter, datepart(month, dt) month, \n",
                "    sum(revenue) total\n",
                "    from daily_sales \n",
                "    group by rollup(menu, datepart(year, dt), datepart(quarter, dt), datepart(month, dt))\n",
                "    order by menu, year, quarter, month"
            ],
            "metadata": {
                "azdata_cell_guid": "52865223-f52a-46ba-9374-42e9ffb98005"
            },
            "outputs": [
                {
                    "output_type": "display_data",
                    "data": {
                        "text/html": "(71 rows affected)"
                    },
                    "metadata": {}
                },
                {
                    "output_type": "display_data",
                    "data": {
                        "text/html": "Total execution time: 00:00:00.069"
                    },
                    "metadata": {}
                },
                {
                    "output_type": "execute_result",
                    "execution_count": 14,
                    "data": {
                        "application/vnd.dataresource+json": {
                            "schema": {
                                "fields": [
                                    {
                                        "name": "menu"
                                    },
                                    {
                                        "name": "year"
                                    },
                                    {
                                        "name": "quarter"
                                    },
                                    {
                                        "name": "month"
                                    },
                                    {
                                        "name": "total"
                                    }
                                ]
                            },
                            "data": [
                                {
                                    "0": "NULL",
                                    "1": "NULL",
                                    "2": "NULL",
                                    "3": "NULL",
                                    "4": "21620257"
                                },
                                {
                                    "0": "coffee",
                                    "1": "NULL",
                                    "2": "NULL",
                                    "3": "NULL",
                                    "4": "12601464"
                                },
                                {
                                    "0": "coffee",
                                    "1": "2018",
                                    "2": "NULL",
                                    "3": "NULL",
                                    "4": "6312978"
                                },
                                {
                                    "0": "coffee",
                                    "1": "2018",
                                    "2": "1",
                                    "3": "NULL",
                                    "4": "1570848"
                                },
                                {
                                    "0": "coffee",
                                    "1": "2018",
                                    "2": "1",
                                    "3": "1",
                                    "4": "521885"
                                },
                                {
                                    "0": "coffee",
                                    "1": "2018",
                                    "2": "1",
                                    "3": "2",
                                    "4": "489741"
                                },
                                {
                                    "0": "coffee",
                                    "1": "2018",
                                    "2": "1",
                                    "3": "3",
                                    "4": "559222"
                                },
                                {
                                    "0": "coffee",
                                    "1": "2018",
                                    "2": "2",
                                    "3": "NULL",
                                    "4": "1560423"
                                },
                                {
                                    "0": "coffee",
                                    "1": "2018",
                                    "2": "2",
                                    "3": "4",
                                    "4": "516407"
                                },
                                {
                                    "0": "coffee",
                                    "1": "2018",
                                    "2": "2",
                                    "3": "5",
                                    "4": "501545"
                                },
                                {
                                    "0": "coffee",
                                    "1": "2018",
                                    "2": "2",
                                    "3": "6",
                                    "4": "542471"
                                },
                                {
                                    "0": "coffee",
                                    "1": "2018",
                                    "2": "3",
                                    "3": "NULL",
                                    "4": "1612060"
                                },
                                {
                                    "0": "coffee",
                                    "1": "2018",
                                    "2": "3",
                                    "3": "7",
                                    "4": "537287"
                                },
                                {
                                    "0": "coffee",
                                    "1": "2018",
                                    "2": "3",
                                    "3": "8",
                                    "4": "525584"
                                },
                                {
                                    "0": "coffee",
                                    "1": "2018",
                                    "2": "3",
                                    "3": "9",
                                    "4": "549189"
                                },
                                {
                                    "0": "coffee",
                                    "1": "2018",
                                    "2": "4",
                                    "3": "NULL",
                                    "4": "1569647"
                                },
                                {
                                    "0": "coffee",
                                    "1": "2018",
                                    "2": "4",
                                    "3": "10",
                                    "4": "504161"
                                },
                                {
                                    "0": "coffee",
                                    "1": "2018",
                                    "2": "4",
                                    "3": "11",
                                    "4": "539423"
                                },
                                {
                                    "0": "coffee",
                                    "1": "2018",
                                    "2": "4",
                                    "3": "12",
                                    "4": "526063"
                                },
                                {
                                    "0": "coffee",
                                    "1": "2019",
                                    "2": "NULL",
                                    "3": "NULL",
                                    "4": "6288486"
                                },
                                {
                                    "0": "coffee",
                                    "1": "2019",
                                    "2": "1",
                                    "3": "NULL",
                                    "4": "1528872"
                                },
                                {
                                    "0": "coffee",
                                    "1": "2019",
                                    "2": "1",
                                    "3": "1",
                                    "4": "474720"
                                },
                                {
                                    "0": "coffee",
                                    "1": "2019",
                                    "2": "1",
                                    "3": "2",
                                    "4": "530733"
                                },
                                {
                                    "0": "coffee",
                                    "1": "2019",
                                    "2": "1",
                                    "3": "3",
                                    "4": "523419"
                                },
                                {
                                    "0": "coffee",
                                    "1": "2019",
                                    "2": "2",
                                    "3": "NULL",
                                    "4": "1547352"
                                },
                                {
                                    "0": "coffee",
                                    "1": "2019",
                                    "2": "2",
                                    "3": "4",
                                    "4": "525330"
                                },
                                {
                                    "0": "coffee",
                                    "1": "2019",
                                    "2": "2",
                                    "3": "5",
                                    "4": "488686"
                                },
                                {
                                    "0": "coffee",
                                    "1": "2019",
                                    "2": "2",
                                    "3": "6",
                                    "4": "533336"
                                },
                                {
                                    "0": "coffee",
                                    "1": "2019",
                                    "2": "3",
                                    "3": "NULL",
                                    "4": "1658964"
                                },
                                {
                                    "0": "coffee",
                                    "1": "2019",
                                    "2": "3",
                                    "3": "7",
                                    "4": "514311"
                                },
                                {
                                    "0": "coffee",
                                    "1": "2019",
                                    "2": "3",
                                    "3": "8",
                                    "4": "580807"
                                },
                                {
                                    "0": "coffee",
                                    "1": "2019",
                                    "2": "3",
                                    "3": "9",
                                    "4": "563846"
                                },
                                {
                                    "0": "coffee",
                                    "1": "2019",
                                    "2": "4",
                                    "3": "NULL",
                                    "4": "1553298"
                                },
                                {
                                    "0": "coffee",
                                    "1": "2019",
                                    "2": "4",
                                    "3": "10",
                                    "4": "545969"
                                },
                                {
                                    "0": "coffee",
                                    "1": "2019",
                                    "2": "4",
                                    "3": "11",
                                    "4": "463664"
                                },
                                {
                                    "0": "coffee",
                                    "1": "2019",
                                    "2": "4",
                                    "3": "12",
                                    "4": "543665"
                                },
                                {
                                    "0": "tea",
                                    "1": "NULL",
                                    "2": "NULL",
                                    "3": "NULL",
                                    "4": "9018793"
                                },
                                {
                                    "0": "tea",
                                    "1": "2018",
                                    "2": "NULL",
                                    "3": "NULL",
                                    "4": "4466031"
                                },
                                {
                                    "0": "tea",
                                    "1": "2018",
                                    "2": "1",
                                    "3": "NULL",
                                    "4": "1113084"
                                },
                                {
                                    "0": "tea",
                                    "1": "2018",
                                    "2": "1",
                                    "3": "1",
                                    "4": "396887"
                                },
                                {
                                    "0": "tea",
                                    "1": "2018",
                                    "2": "1",
                                    "3": "2",
                                    "4": "341986"
                                },
                                {
                                    "0": "tea",
                                    "1": "2018",
                                    "2": "1",
                                    "3": "3",
                                    "4": "374211"
                                },
                                {
                                    "0": "tea",
                                    "1": "2018",
                                    "2": "2",
                                    "3": "NULL",
                                    "4": "1146440"
                                },
                                {
                                    "0": "tea",
                                    "1": "2018",
                                    "2": "2",
                                    "3": "4",
                                    "4": "359256"
                                },
                                {
                                    "0": "tea",
                                    "1": "2018",
                                    "2": "2",
                                    "3": "5",
                                    "4": "385999"
                                },
                                {
                                    "0": "tea",
                                    "1": "2018",
                                    "2": "2",
                                    "3": "6",
                                    "4": "401185"
                                },
                                {
                                    "0": "tea",
                                    "1": "2018",
                                    "2": "3",
                                    "3": "NULL",
                                    "4": "1084317"
                                },
                                {
                                    "0": "tea",
                                    "1": "2018",
                                    "2": "3",
                                    "3": "7",
                                    "4": "358807"
                                },
                                {
                                    "0": "tea",
                                    "1": "2018",
                                    "2": "3",
                                    "3": "8",
                                    "4": "358472"
                                },
                                {
                                    "0": "tea",
                                    "1": "2018",
                                    "2": "3",
                                    "3": "9",
                                    "4": "367038"
                                },
                                {
                                    "0": "tea",
                                    "1": "2018",
                                    "2": "4",
                                    "3": "NULL",
                                    "4": "1122190"
                                },
                                {
                                    "0": "tea",
                                    "1": "2018",
                                    "2": "4",
                                    "3": "10",
                                    "4": "359865"
                                },
                                {
                                    "0": "tea",
                                    "1": "2018",
                                    "2": "4",
                                    "3": "11",
                                    "4": "338311"
                                },
                                {
                                    "0": "tea",
                                    "1": "2018",
                                    "2": "4",
                                    "3": "12",
                                    "4": "424014"
                                },
                                {
                                    "0": "tea",
                                    "1": "2019",
                                    "2": "NULL",
                                    "3": "NULL",
                                    "4": "4552762"
                                },
                                {
                                    "0": "tea",
                                    "1": "2019",
                                    "2": "1",
                                    "3": "NULL",
                                    "4": "1110336"
                                },
                                {
                                    "0": "tea",
                                    "1": "2019",
                                    "2": "1",
                                    "3": "1",
                                    "4": "344525"
                                },
                                {
                                    "0": "tea",
                                    "1": "2019",
                                    "2": "1",
                                    "3": "2",
                                    "4": "358411"
                                },
                                {
                                    "0": "tea",
                                    "1": "2019",
                                    "2": "1",
                                    "3": "3",
                                    "4": "407400"
                                },
                                {
                                    "0": "tea",
                                    "1": "2019",
                                    "2": "2",
                                    "3": "NULL",
                                    "4": "1138227"
                                },
                                {
                                    "0": "tea",
                                    "1": "2019",
                                    "2": "2",
                                    "3": "4",
                                    "4": "378430"
                                },
                                {
                                    "0": "tea",
                                    "1": "2019",
                                    "2": "2",
                                    "3": "5",
                                    "4": "379633"
                                },
                                {
                                    "0": "tea",
                                    "1": "2019",
                                    "2": "2",
                                    "3": "6",
                                    "4": "380164"
                                },
                                {
                                    "0": "tea",
                                    "1": "2019",
                                    "2": "3",
                                    "3": "NULL",
                                    "4": "1091376"
                                },
                                {
                                    "0": "tea",
                                    "1": "2019",
                                    "2": "3",
                                    "3": "7",
                                    "4": "359642"
                                },
                                {
                                    "0": "tea",
                                    "1": "2019",
                                    "2": "3",
                                    "3": "8",
                                    "4": "373580"
                                },
                                {
                                    "0": "tea",
                                    "1": "2019",
                                    "2": "3",
                                    "3": "9",
                                    "4": "358154"
                                },
                                {
                                    "0": "tea",
                                    "1": "2019",
                                    "2": "4",
                                    "3": "NULL",
                                    "4": "1212823"
                                },
                                {
                                    "0": "tea",
                                    "1": "2019",
                                    "2": "4",
                                    "3": "10",
                                    "4": "391065"
                                },
                                {
                                    "0": "tea",
                                    "1": "2019",
                                    "2": "4",
                                    "3": "11",
                                    "4": "398034"
                                },
                                {
                                    "0": "tea",
                                    "1": "2019",
                                    "2": "4",
                                    "3": "12",
                                    "4": "423724"
                                }
                            ]
                        },
                        "text/html": "<table><tr><th>menu</th><th>year</th><th>quarter</th><th>month</th><th>total</th></tr><tr><td>NULL</td><td>NULL</td><td>NULL</td><td>NULL</td><td>21620257</td></tr><tr><td>coffee</td><td>NULL</td><td>NULL</td><td>NULL</td><td>12601464</td></tr><tr><td>coffee</td><td>2018</td><td>NULL</td><td>NULL</td><td>6312978</td></tr><tr><td>coffee</td><td>2018</td><td>1</td><td>NULL</td><td>1570848</td></tr><tr><td>coffee</td><td>2018</td><td>1</td><td>1</td><td>521885</td></tr><tr><td>coffee</td><td>2018</td><td>1</td><td>2</td><td>489741</td></tr><tr><td>coffee</td><td>2018</td><td>1</td><td>3</td><td>559222</td></tr><tr><td>coffee</td><td>2018</td><td>2</td><td>NULL</td><td>1560423</td></tr><tr><td>coffee</td><td>2018</td><td>2</td><td>4</td><td>516407</td></tr><tr><td>coffee</td><td>2018</td><td>2</td><td>5</td><td>501545</td></tr><tr><td>coffee</td><td>2018</td><td>2</td><td>6</td><td>542471</td></tr><tr><td>coffee</td><td>2018</td><td>3</td><td>NULL</td><td>1612060</td></tr><tr><td>coffee</td><td>2018</td><td>3</td><td>7</td><td>537287</td></tr><tr><td>coffee</td><td>2018</td><td>3</td><td>8</td><td>525584</td></tr><tr><td>coffee</td><td>2018</td><td>3</td><td>9</td><td>549189</td></tr><tr><td>coffee</td><td>2018</td><td>4</td><td>NULL</td><td>1569647</td></tr><tr><td>coffee</td><td>2018</td><td>4</td><td>10</td><td>504161</td></tr><tr><td>coffee</td><td>2018</td><td>4</td><td>11</td><td>539423</td></tr><tr><td>coffee</td><td>2018</td><td>4</td><td>12</td><td>526063</td></tr><tr><td>coffee</td><td>2019</td><td>NULL</td><td>NULL</td><td>6288486</td></tr><tr><td>coffee</td><td>2019</td><td>1</td><td>NULL</td><td>1528872</td></tr><tr><td>coffee</td><td>2019</td><td>1</td><td>1</td><td>474720</td></tr><tr><td>coffee</td><td>2019</td><td>1</td><td>2</td><td>530733</td></tr><tr><td>coffee</td><td>2019</td><td>1</td><td>3</td><td>523419</td></tr><tr><td>coffee</td><td>2019</td><td>2</td><td>NULL</td><td>1547352</td></tr><tr><td>coffee</td><td>2019</td><td>2</td><td>4</td><td>525330</td></tr><tr><td>coffee</td><td>2019</td><td>2</td><td>5</td><td>488686</td></tr><tr><td>coffee</td><td>2019</td><td>2</td><td>6</td><td>533336</td></tr><tr><td>coffee</td><td>2019</td><td>3</td><td>NULL</td><td>1658964</td></tr><tr><td>coffee</td><td>2019</td><td>3</td><td>7</td><td>514311</td></tr><tr><td>coffee</td><td>2019</td><td>3</td><td>8</td><td>580807</td></tr><tr><td>coffee</td><td>2019</td><td>3</td><td>9</td><td>563846</td></tr><tr><td>coffee</td><td>2019</td><td>4</td><td>NULL</td><td>1553298</td></tr><tr><td>coffee</td><td>2019</td><td>4</td><td>10</td><td>545969</td></tr><tr><td>coffee</td><td>2019</td><td>4</td><td>11</td><td>463664</td></tr><tr><td>coffee</td><td>2019</td><td>4</td><td>12</td><td>543665</td></tr><tr><td>tea</td><td>NULL</td><td>NULL</td><td>NULL</td><td>9018793</td></tr><tr><td>tea</td><td>2018</td><td>NULL</td><td>NULL</td><td>4466031</td></tr><tr><td>tea</td><td>2018</td><td>1</td><td>NULL</td><td>1113084</td></tr><tr><td>tea</td><td>2018</td><td>1</td><td>1</td><td>396887</td></tr><tr><td>tea</td><td>2018</td><td>1</td><td>2</td><td>341986</td></tr><tr><td>tea</td><td>2018</td><td>1</td><td>3</td><td>374211</td></tr><tr><td>tea</td><td>2018</td><td>2</td><td>NULL</td><td>1146440</td></tr><tr><td>tea</td><td>2018</td><td>2</td><td>4</td><td>359256</td></tr><tr><td>tea</td><td>2018</td><td>2</td><td>5</td><td>385999</td></tr><tr><td>tea</td><td>2018</td><td>2</td><td>6</td><td>401185</td></tr><tr><td>tea</td><td>2018</td><td>3</td><td>NULL</td><td>1084317</td></tr><tr><td>tea</td><td>2018</td><td>3</td><td>7</td><td>358807</td></tr><tr><td>tea</td><td>2018</td><td>3</td><td>8</td><td>358472</td></tr><tr><td>tea</td><td>2018</td><td>3</td><td>9</td><td>367038</td></tr><tr><td>tea</td><td>2018</td><td>4</td><td>NULL</td><td>1122190</td></tr><tr><td>tea</td><td>2018</td><td>4</td><td>10</td><td>359865</td></tr><tr><td>tea</td><td>2018</td><td>4</td><td>11</td><td>338311</td></tr><tr><td>tea</td><td>2018</td><td>4</td><td>12</td><td>424014</td></tr><tr><td>tea</td><td>2019</td><td>NULL</td><td>NULL</td><td>4552762</td></tr><tr><td>tea</td><td>2019</td><td>1</td><td>NULL</td><td>1110336</td></tr><tr><td>tea</td><td>2019</td><td>1</td><td>1</td><td>344525</td></tr><tr><td>tea</td><td>2019</td><td>1</td><td>2</td><td>358411</td></tr><tr><td>tea</td><td>2019</td><td>1</td><td>3</td><td>407400</td></tr><tr><td>tea</td><td>2019</td><td>2</td><td>NULL</td><td>1138227</td></tr><tr><td>tea</td><td>2019</td><td>2</td><td>4</td><td>378430</td></tr><tr><td>tea</td><td>2019</td><td>2</td><td>5</td><td>379633</td></tr><tr><td>tea</td><td>2019</td><td>2</td><td>6</td><td>380164</td></tr><tr><td>tea</td><td>2019</td><td>3</td><td>NULL</td><td>1091376</td></tr><tr><td>tea</td><td>2019</td><td>3</td><td>7</td><td>359642</td></tr><tr><td>tea</td><td>2019</td><td>3</td><td>8</td><td>373580</td></tr><tr><td>tea</td><td>2019</td><td>3</td><td>9</td><td>358154</td></tr><tr><td>tea</td><td>2019</td><td>4</td><td>NULL</td><td>1212823</td></tr><tr><td>tea</td><td>2019</td><td>4</td><td>10</td><td>391065</td></tr><tr><td>tea</td><td>2019</td><td>4</td><td>11</td><td>398034</td></tr><tr><td>tea</td><td>2019</td><td>4</td><td>12</td><td>423724</td></tr></table>"
                    },
                    "metadata": {}
                }
            ],
            "execution_count": 14
        },
        {
            "cell_type": "code",
            "source": [
                "select menu, datepart(year, dt) year, datepart(quarter, dt) quarter, datepart(month, dt) month, \n",
                "    sum(revenue) total\n",
                "    from daily_sales \n",
                "    group by menu, rollup(datepart(year, dt), datepart(quarter, dt), datepart(month, dt))\n",
                "    having datepart(quarter, dt) is null\n",
                "    order by menu, year, quarter, month"
            ],
            "metadata": {
                "azdata_cell_guid": "0047292d-c9bb-47b3-8825-67cba23b5053"
            },
            "outputs": [
                {
                    "output_type": "display_data",
                    "data": {
                        "text/html": "(6 rows affected)"
                    },
                    "metadata": {}
                },
                {
                    "output_type": "display_data",
                    "data": {
                        "text/html": "Total execution time: 00:00:00.059"
                    },
                    "metadata": {}
                },
                {
                    "output_type": "execute_result",
                    "execution_count": 15,
                    "data": {
                        "application/vnd.dataresource+json": {
                            "schema": {
                                "fields": [
                                    {
                                        "name": "menu"
                                    },
                                    {
                                        "name": "year"
                                    },
                                    {
                                        "name": "quarter"
                                    },
                                    {
                                        "name": "month"
                                    },
                                    {
                                        "name": "total"
                                    }
                                ]
                            },
                            "data": [
                                {
                                    "0": "coffee",
                                    "1": "NULL",
                                    "2": "NULL",
                                    "3": "NULL",
                                    "4": "12601464"
                                },
                                {
                                    "0": "coffee",
                                    "1": "2018",
                                    "2": "NULL",
                                    "3": "NULL",
                                    "4": "6312978"
                                },
                                {
                                    "0": "coffee",
                                    "1": "2019",
                                    "2": "NULL",
                                    "3": "NULL",
                                    "4": "6288486"
                                },
                                {
                                    "0": "tea",
                                    "1": "NULL",
                                    "2": "NULL",
                                    "3": "NULL",
                                    "4": "9018793"
                                },
                                {
                                    "0": "tea",
                                    "1": "2018",
                                    "2": "NULL",
                                    "3": "NULL",
                                    "4": "4466031"
                                },
                                {
                                    "0": "tea",
                                    "1": "2019",
                                    "2": "NULL",
                                    "3": "NULL",
                                    "4": "4552762"
                                }
                            ]
                        },
                        "text/html": "<table><tr><th>menu</th><th>year</th><th>quarter</th><th>month</th><th>total</th></tr><tr><td>coffee</td><td>NULL</td><td>NULL</td><td>NULL</td><td>12601464</td></tr><tr><td>coffee</td><td>2018</td><td>NULL</td><td>NULL</td><td>6312978</td></tr><tr><td>coffee</td><td>2019</td><td>NULL</td><td>NULL</td><td>6288486</td></tr><tr><td>tea</td><td>NULL</td><td>NULL</td><td>NULL</td><td>9018793</td></tr><tr><td>tea</td><td>2018</td><td>NULL</td><td>NULL</td><td>4466031</td></tr><tr><td>tea</td><td>2019</td><td>NULL</td><td>NULL</td><td>4552762</td></tr></table>"
                    },
                    "metadata": {}
                }
            ],
            "execution_count": 15
        },
        {
            "cell_type": "code",
            "source": [
                "select menu, datepart(year, dt) year, datepart(quarter, dt) quarter, datepart(month, dt) month, \n",
                "    sum(revenue) total\n",
                "    from daily_sales \n",
                "    group by rollup(menu, datepart(year, dt), datepart(quarter, dt), datepart(month, dt))\n",
                "    having datepart(quarter, dt) is null\n",
                "    order by menu, year, quarter, month"
            ],
            "metadata": {
                "azdata_cell_guid": "0e6519a4-ee44-4d73-8da8-58521743d99c"
            },
            "outputs": [
                {
                    "output_type": "display_data",
                    "data": {
                        "text/html": "(7 rows affected)"
                    },
                    "metadata": {}
                },
                {
                    "output_type": "display_data",
                    "data": {
                        "text/html": "Total execution time: 00:00:00.411"
                    },
                    "metadata": {}
                },
                {
                    "output_type": "execute_result",
                    "execution_count": 16,
                    "data": {
                        "application/vnd.dataresource+json": {
                            "schema": {
                                "fields": [
                                    {
                                        "name": "menu"
                                    },
                                    {
                                        "name": "year"
                                    },
                                    {
                                        "name": "quarter"
                                    },
                                    {
                                        "name": "month"
                                    },
                                    {
                                        "name": "total"
                                    }
                                ]
                            },
                            "data": [
                                {
                                    "0": "NULL",
                                    "1": "NULL",
                                    "2": "NULL",
                                    "3": "NULL",
                                    "4": "21620257"
                                },
                                {
                                    "0": "coffee",
                                    "1": "NULL",
                                    "2": "NULL",
                                    "3": "NULL",
                                    "4": "12601464"
                                },
                                {
                                    "0": "coffee",
                                    "1": "2018",
                                    "2": "NULL",
                                    "3": "NULL",
                                    "4": "6312978"
                                },
                                {
                                    "0": "coffee",
                                    "1": "2019",
                                    "2": "NULL",
                                    "3": "NULL",
                                    "4": "6288486"
                                },
                                {
                                    "0": "tea",
                                    "1": "NULL",
                                    "2": "NULL",
                                    "3": "NULL",
                                    "4": "9018793"
                                },
                                {
                                    "0": "tea",
                                    "1": "2018",
                                    "2": "NULL",
                                    "3": "NULL",
                                    "4": "4466031"
                                },
                                {
                                    "0": "tea",
                                    "1": "2019",
                                    "2": "NULL",
                                    "3": "NULL",
                                    "4": "4552762"
                                }
                            ]
                        },
                        "text/html": "<table><tr><th>menu</th><th>year</th><th>quarter</th><th>month</th><th>total</th></tr><tr><td>NULL</td><td>NULL</td><td>NULL</td><td>NULL</td><td>21620257</td></tr><tr><td>coffee</td><td>NULL</td><td>NULL</td><td>NULL</td><td>12601464</td></tr><tr><td>coffee</td><td>2018</td><td>NULL</td><td>NULL</td><td>6312978</td></tr><tr><td>coffee</td><td>2019</td><td>NULL</td><td>NULL</td><td>6288486</td></tr><tr><td>tea</td><td>NULL</td><td>NULL</td><td>NULL</td><td>9018793</td></tr><tr><td>tea</td><td>2018</td><td>NULL</td><td>NULL</td><td>4466031</td></tr><tr><td>tea</td><td>2019</td><td>NULL</td><td>NULL</td><td>4552762</td></tr></table>"
                    },
                    "metadata": {}
                }
            ],
            "execution_count": 16
        }
    ]
}