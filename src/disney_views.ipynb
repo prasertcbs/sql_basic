{
    "metadata": {
        "kernelspec": {
            "name": "SQL",
            "display_name": "SQL",
            "language": "sql"
        },
        "language_info": {
            "name": "sql",
            "version": ""
        }
    },
    "nbformat_minor": 2,
    "nbformat": 4,
    "cells": [
        {
            "cell_type": "markdown",
            "source": [
                "# VIEW\n",
                "## Server: Microsoft SQL Server\n",
                "## Database: disney\n",
                "## Author: Prasert Kanawattanachai\n",
                "## YouTube: https://youtu.be/_tocAYU6jl0"
            ],
            "metadata": {}
        },
        {
            "cell_type": "code",
            "source": [
                "drop view if exists vw_g\n",
                "drop view if exists vw_debut\n",
                "drop view if exists vw_movie_director\n",
                "drop view if exists vw_mw2000"
            ],
            "metadata": {},
            "outputs": [
                {
                    "output_type": "display_data",
                    "data": {
                        "text/html": "Commands completed successfully."
                    },
                    "metadata": {}
                },
                {
                    "output_type": "display_data",
                    "data": {
                        "text/html": "Total execution time: 00:00:00.207"
                    },
                    "metadata": {}
                }
            ],
            "execution_count": 1
        },
        {
            "cell_type": "code",
            "source": "SELECT * FROM movie_gross where mpaa_rating = 'G'",
            "metadata": {},
            "outputs": [
                {
                    "output_type": "display_data",
                    "data": {
                        "text/html": "(86 rows affected)"
                    },
                    "metadata": {}
                },
                {
                    "output_type": "display_data",
                    "data": {
                        "text/html": "Total execution time: 00:00:00.063"
                    },
                    "metadata": {}
                },
                {
                    "output_type": "execute_result",
                    "execution_count": 1,
                    "data": {
                        "application/vnd.dataresource+json": {
                            "schema": {
                                "fields": [
                                    {
                                        "name": "movie_title"
                                    },
                                    {
                                        "name": "release_date"
                                    },
                                    {
                                        "name": "genre"
                                    },
                                    {
                                        "name": "mpaa_rating"
                                    },
                                    {
                                        "name": "total_gross"
                                    },
                                    {
                                        "name": "inflation_adjusted_gross"
                                    }
                                ]
                            },
                            "data": [
                                {
                                    "0": "Snow White and the Seven Dwarfs",
                                    "1": "1937-12-21",
                                    "2": "Musical",
                                    "3": "G",
                                    "4": "184925485",
                                    "5": "5228953251"
                                },
                                {
                                    "0": "Pinocchio",
                                    "1": "1940-02-09",
                                    "2": "Adventure",
                                    "3": "G",
                                    "4": "84300000",
                                    "5": "2188229052"
                                },
                                {
                                    "0": "Fantasia",
                                    "1": "1940-11-13",
                                    "2": "Musical",
                                    "3": "G",
                                    "4": "83320000",
                                    "5": "2187090808"
                                },
                                {
                                    "0": "Song of the South",
                                    "1": "1946-11-12",
                                    "2": "Adventure",
                                    "3": "G",
                                    "4": "65000000",
                                    "5": "1078510579"
                                },
                                {
                                    "0": "Cinderella",
                                    "1": "1950-02-15",
                                    "2": "Drama",
                                    "3": "G",
                                    "4": "85000000",
                                    "5": "920608730"
                                },
                                {
                                    "0": "Lady and the Tramp",
                                    "1": "1955-06-22",
                                    "2": "Drama",
                                    "3": "G",
                                    "4": "93600000",
                                    "5": "1236035515"
                                },
                                {
                                    "0": "101 Dalmatians",
                                    "1": "1961-01-25",
                                    "2": "Comedy",
                                    "3": "G",
                                    "4": "153000000",
                                    "5": "1362870985"
                                },
                                {
                                    "0": "Babes in Toyland",
                                    "1": "1961-12-14",
                                    "2": "Musical",
                                    "3": "G",
                                    "4": "10218316",
                                    "5": "124841160"
                                },
                                {
                                    "0": "The Aristocats",
                                    "1": "1970-04-24",
                                    "2": "Musical",
                                    "3": "G",
                                    "4": "55675257",
                                    "5": "255161499"
                                },
                                {
                                    "0": "Oliver & Company",
                                    "1": "1988-11-18",
                                    "2": "Adventure",
                                    "3": "G",
                                    "4": "49576671",
                                    "5": "102254492"
                                },
                                {
                                    "0": "The Little Mermaid",
                                    "1": "1989-11-15",
                                    "2": "Adventure",
                                    "3": "G",
                                    "4": "111543479",
                                    "5": "223726012"
                                },
                                {
                                    "0": "DuckTales: The Movie - Treasure of th…",
                                    "1": "1990-08-03",
                                    "2": "Adventure",
                                    "3": "G",
                                    "4": "18075331",
                                    "5": "36107823"
                                },
                                {
                                    "0": "The Rescuers Down Under",
                                    "1": "1990-11-16",
                                    "2": "Adventure",
                                    "3": "G",
                                    "4": "27931461",
                                    "5": "55796728"
                                },
                                {
                                    "0": "Beauty and the Beast",
                                    "1": "1991-11-13",
                                    "2": "Musical",
                                    "3": "G",
                                    "4": "218951625",
                                    "5": "363017667"
                                },
                                {
                                    "0": "Aladdin",
                                    "1": "1992-11-11",
                                    "2": "Comedy",
                                    "3": "G",
                                    "4": "217350219",
                                    "5": "441969178"
                                },
                                {
                                    "0": "The Muppet Christmas Carol",
                                    "1": "1992-12-11",
                                    "2": "Comedy",
                                    "3": "G",
                                    "4": "27281507",
                                    "5": "55417615"
                                },
                                {
                                    "0": "Homeward Bound: The Incredible Journey",
                                    "1": "1993-02-03",
                                    "2": "Adventure",
                                    "3": "G",
                                    "4": "41833324",
                                    "5": "85182343"
                                },
                                {
                                    "0": "The Lion King",
                                    "1": "1994-06-15",
                                    "2": "Adventure",
                                    "3": "G",
                                    "4": "422780140",
                                    "5": "761640898"
                                },
                                {
                                    "0": "A Goofy Movie",
                                    "1": "1995-04-07",
                                    "2": "Comedy",
                                    "3": "G",
                                    "4": "35336439",
                                    "5": "68479579"
                                },
                                {
                                    "0": "Pocahontas",
                                    "1": "1995-06-10",
                                    "2": "Adventure",
                                    "3": "G",
                                    "4": "141579773",
                                    "5": "274370957"
                                },
                                {
                                    "0": "Toy Story",
                                    "1": "1995-11-22",
                                    "2": "Adventure",
                                    "3": "G",
                                    "4": "191796233",
                                    "5": "370409631"
                                },
                                {
                                    "0": "Muppet Treasure Island",
                                    "1": "1996-02-16",
                                    "2": "Adventure",
                                    "3": "G",
                                    "4": "34327391",
                                    "5": "65470567"
                                },
                                {
                                    "0": "Homeward Bound II: Lost in San Franc…",
                                    "1": "1996-03-08",
                                    "2": "Adventure",
                                    "3": "G",
                                    "4": "32709423",
                                    "5": "62384706"
                                },
                                {
                                    "0": "The Hunchback of Notre Dame",
                                    "1": "1996-06-21",
                                    "2": "Adventure",
                                    "3": "G",
                                    "4": "100138851",
                                    "5": "190988799"
                                },
                                {
                                    "0": "101 Dalmatians",
                                    "1": "1996-11-27",
                                    "2": "Comedy",
                                    "3": "G",
                                    "4": "136189294",
                                    "5": "258728898"
                                },
                                {
                                    "0": "Hercules",
                                    "1": "1997-06-13",
                                    "2": "Adventure",
                                    "3": "G",
                                    "4": "99112101",
                                    "5": "182029412"
                                },
                                {
                                    "0": "Mulan",
                                    "1": "1998-06-19",
                                    "2": "Adventure",
                                    "3": "G",
                                    "4": "120620254",
                                    "5": "216807832"
                                },
                                {
                                    "0": "A Bug's Life",
                                    "1": "1998-11-20",
                                    "2": "Adventure",
                                    "3": "G",
                                    "4": "162798565",
                                    "5": "288981698"
                                },
                                {
                                    "0": "Doug's 1st Movie",
                                    "1": "1999-03-26",
                                    "2": "Adventure",
                                    "3": "G",
                                    "4": "19421271",
                                    "5": "32228598"
                                },
                                {
                                    "0": "Tarzan",
                                    "1": "1999-06-16",
                                    "2": "Adventure",
                                    "3": "G",
                                    "4": "171091819",
                                    "5": "283900254"
                                },
                                {
                                    "0": "The Straight Story",
                                    "1": "1999-10-15",
                                    "2": "Drama",
                                    "3": "G",
                                    "4": "6197866",
                                    "5": "10111144"
                                },
                                {
                                    "0": "Toy Story 2",
                                    "1": "1999-11-19",
                                    "2": "Adventure",
                                    "3": "G",
                                    "4": "245852179",
                                    "5": "404450426"
                                },
                                {
                                    "0": "Fantasia 2000 (IMAX)",
                                    "1": "2000-01-01",
                                    "2": "Musical",
                                    "3": "G",
                                    "4": "60507228",
                                    "5": "94852354"
                                },
                                {
                                    "0": "The Tigger Movie",
                                    "1": "2000-02-11",
                                    "2": "Adventure",
                                    "3": "G",
                                    "4": "45542421",
                                    "5": "71228678"
                                },
                                {
                                    "0": "Fantasia 2000 (Theatrical Release)",
                                    "1": "2000-06-16",
                                    "2": "Musical",
                                    "3": "G",
                                    "4": "9103630",
                                    "5": "14238144"
                                },
                                {
                                    "0": "102 Dalmatians",
                                    "1": "2000-11-22",
                                    "2": "Comedy",
                                    "3": "G",
                                    "4": "66941559",
                                    "5": "104055039"
                                },
                                {
                                    "0": "The Emperor's New Groove",
                                    "1": "2000-12-15",
                                    "2": "Adventure",
                                    "3": "G",
                                    "4": "89296573",
                                    "5": "136789252"
                                },
                                {
                                    "0": "Recess: School's Out",
                                    "1": "2001-02-16",
                                    "2": "Comedy",
                                    "3": "G",
                                    "4": "36696761",
                                    "5": "54656124"
                                },
                                {
                                    "0": "The Princess Diaries",
                                    "1": "2001-08-03",
                                    "2": "Comedy",
                                    "3": "G",
                                    "4": "108244774",
                                    "5": "161218928"
                                },
                                {
                                    "0": "Monsters, Inc.",
                                    "1": "2001-11-02",
                                    "2": "Adventure",
                                    "3": "G",
                                    "4": "289423425",
                                    "5": "416073179"
                                },
                                {
                                    "0": "Beauty and the Beast (IMAX)",
                                    "1": "2002-01-01",
                                    "2": "Musical",
                                    "3": "G",
                                    "4": "25487028",
                                    "5": "36980311"
                                },
                                {
                                    "0": "Peter Pan: Return to Neverland",
                                    "1": "2002-02-15",
                                    "2": "Adventure",
                                    "3": "G",
                                    "4": "48430258",
                                    "5": "70269715"
                                },
                                {
                                    "0": "The Rookie",
                                    "1": "2002-03-29",
                                    "2": "Drama",
                                    "3": "G",
                                    "4": "75600072",
                                    "5": "109691666"
                                },
                                {
                                    "0": "The Country Bears",
                                    "1": "2002-07-26",
                                    "2": "Adventure",
                                    "3": "G",
                                    "4": "16988996",
                                    "5": "24650121"
                                },
                                {
                                    "0": "The Santa Clause 2",
                                    "1": "2002-11-01",
                                    "2": "Comedy",
                                    "3": "G",
                                    "4": "139225854",
                                    "5": "201959095"
                                },
                                {
                                    "0": "The Jungle Book 2",
                                    "1": "2003-02-14",
                                    "2": "Adventure",
                                    "3": "G",
                                    "4": "47901582",
                                    "5": "66966883"
                                },
                                {
                                    "0": "Piglet's Big Movie",
                                    "1": "2003-03-21",
                                    "2": "Comedy",
                                    "3": "G",
                                    "4": "23103423",
                                    "5": "32298812"
                                },
                                {
                                    "0": "Ghosts of the Abyss",
                                    "1": "2003-04-11",
                                    "2": "Documentary",
                                    "3": "G",
                                    "4": "17093668",
                                    "5": "23803108"
                                },
                                {
                                    "0": "Finding Nemo",
                                    "1": "2003-05-30",
                                    "2": "Adventure",
                                    "3": "G",
                                    "4": "380529370",
                                    "5": "518148559"
                                },
                                {
                                    "0": "Brother Bear",
                                    "1": "2003-10-24",
                                    "2": "Adventure",
                                    "3": "G",
                                    "4": "85336277",
                                    "5": "119218333"
                                },
                                {
                                    "0": "Young Black Stallion",
                                    "1": "2003-12-25",
                                    "2": "Adventure",
                                    "3": "G",
                                    "4": "6751389",
                                    "5": "9254344"
                                },
                                {
                                    "0": "The Princess Diaries 2: Royal Engagement",
                                    "1": "2004-08-11",
                                    "2": "Romantic Comedy",
                                    "3": "G",
                                    "4": "95149435",
                                    "5": "129164207"
                                },
                                {
                                    "0": "Aliens of the Deep",
                                    "1": "2005-01-28",
                                    "2": "Documentary",
                                    "3": "G",
                                    "4": "8968684",
                                    "5": "11740942"
                                },
                                {
                                    "0": "Pooh's Heffalump Movie",
                                    "1": "2005-02-11",
                                    "2": "Adventure",
                                    "3": "G",
                                    "4": "18098433",
                                    "5": "23801835"
                                },
                                {
                                    "0": "Ice Princess",
                                    "1": "2005-03-18",
                                    "2": "Comedy",
                                    "3": "G",
                                    "4": "24381334",
                                    "5": "32064685"
                                },
                                {
                                    "0": "Herbie: Fully Loaded",
                                    "1": "2005-06-22",
                                    "2": "Comedy",
                                    "3": "G",
                                    "4": "66010682",
                                    "5": "86812798"
                                },
                                {
                                    "0": "Valiant",
                                    "1": "2005-08-19",
                                    "2": "Adventure",
                                    "3": "G",
                                    "4": "19478106",
                                    "5": "25616292"
                                },
                                {
                                    "0": "Chicken Little",
                                    "1": "2005-11-04",
                                    "2": "Adventure",
                                    "3": "G",
                                    "4": "135386665",
                                    "5": "177954661"
                                },
                                {
                                    "0": "Roving Mars",
                                    "1": "2006-01-27",
                                    "2": "Documentary",
                                    "3": "G",
                                    "4": "10407978",
                                    "5": "12948025"
                                },
                                {
                                    "0": "The Wild",
                                    "1": "2006-04-14",
                                    "2": "Adventure",
                                    "3": "G",
                                    "4": "37384046",
                                    "5": "48114115"
                                },
                                {
                                    "0": "Cars",
                                    "1": "2006-06-09",
                                    "2": "Comedy",
                                    "3": "G",
                                    "4": "244082982",
                                    "5": "314140384"
                                },
                                {
                                    "0": "The Santa Clause 3: The Escape Clause",
                                    "1": "2006-11-03",
                                    "2": "Comedy",
                                    "3": "G",
                                    "4": "84500122",
                                    "5": "108694869"
                                },
                                {
                                    "0": "Meet the Robinsons",
                                    "1": "2007-03-30",
                                    "2": "Adventure",
                                    "3": "G",
                                    "4": "97822171",
                                    "5": "119860589"
                                },
                                {
                                    "0": "Ratatouille",
                                    "1": "2007-06-29",
                                    "2": "Comedy",
                                    "3": "G",
                                    "4": "206445654",
                                    "5": "252955933"
                                },
                                {
                                    "0": "Hannah Montana/Miley Cyrus: Best of B…",
                                    "1": "2008-02-01",
                                    "2": "Concert/Performance",
                                    "3": "G",
                                    "4": "65281781",
                                    "5": "76646993"
                                },
                                {
                                    "0": "College Road Trip",
                                    "1": "2008-03-07",
                                    "2": "Comedy",
                                    "3": "G",
                                    "4": "45610425",
                                    "5": "53550960"
                                },
                                {
                                    "0": "WALL-E",
                                    "1": "2008-06-27",
                                    "2": "Adventure",
                                    "3": "G",
                                    "4": "223808164",
                                    "5": "262771918"
                                },
                                {
                                    "0": "High School Musical 3: Senior Year",
                                    "1": "2008-10-24",
                                    "2": "Musical",
                                    "3": "G",
                                    "4": "90559416",
                                    "5": "106308538"
                                },
                                {
                                    "0": "Jonas Brothers: The 3D Concert Experi…",
                                    "1": "2009-02-27",
                                    "2": "Concert/Performance",
                                    "3": "G",
                                    "4": "38174685",
                                    "5": "38174685"
                                },
                                {
                                    "0": "Hannah Montana the Movie",
                                    "1": "2009-04-10",
                                    "2": "Drama",
                                    "3": "G",
                                    "4": "79576189",
                                    "5": "89443640"
                                },
                                {
                                    "0": "Earth",
                                    "1": "2009-04-22",
                                    "2": "Documentary",
                                    "3": "G",
                                    "4": "32011576",
                                    "5": "35981010"
                                },
                                {
                                    "0": "Gake no ue no Ponyo",
                                    "1": "2009-08-14",
                                    "2": "Adventure",
                                    "3": "G",
                                    "4": "15090399",
                                    "5": "16961607"
                                },
                                {
                                    "0": "Toy Story 3D Double Feature",
                                    "1": "2009-10-02",
                                    "2": "Adventure",
                                    "3": "G",
                                    "4": "30702446",
                                    "5": "34509545"
                                },
                                {
                                    "0": "The Princess and the Frog",
                                    "1": "2009-11-25",
                                    "2": "Adventure",
                                    "3": "G",
                                    "4": "104400899",
                                    "5": "116316457"
                                },
                                {
                                    "0": "Oceans",
                                    "1": "2010-04-22",
                                    "2": "Documentary",
                                    "3": "G",
                                    "4": "19422319",
                                    "5": "20751600"
                                },
                                {
                                    "0": "Toy Story 3",
                                    "1": "2010-06-18",
                                    "2": "Adventure",
                                    "3": "G",
                                    "4": "415004880",
                                    "5": "443408255"
                                },
                                {
                                    "0": "Gnomeo and Juliet",
                                    "1": "2011-02-11",
                                    "2": "Comedy",
                                    "3": "G",
                                    "4": "99967670",
                                    "5": "106270797"
                                },
                                {
                                    "0": "African Cats",
                                    "1": "2011-04-22",
                                    "2": "Documentary",
                                    "3": "G",
                                    "4": "15428747",
                                    "5": "16401551"
                                },
                                {
                                    "0": "Cars 2",
                                    "1": "2011-06-24",
                                    "2": "Adventure",
                                    "3": "G",
                                    "4": "191450875",
                                    "5": "203522177"
                                },
                                {
                                    "0": "Winnie the Pooh",
                                    "1": "2011-07-15",
                                    "2": "Adventure",
                                    "3": "G",
                                    "4": "26692846",
                                    "5": "28375869"
                                },
                                {
                                    "0": "The Secret World of Arietty",
                                    "1": "2012-02-17",
                                    "2": "Adventure",
                                    "3": "G",
                                    "4": "19192510",
                                    "5": "20325733"
                                },
                                {
                                    "0": "Chimpanzee",
                                    "1": "2012-04-20",
                                    "2": "Documentary",
                                    "3": "G",
                                    "4": "28965459",
                                    "5": "30675725"
                                },
                                {
                                    "0": "Monsters University",
                                    "1": "2013-06-21",
                                    "2": "Adventure",
                                    "3": "G",
                                    "4": "268488329",
                                    "5": "278395641"
                                },
                                {
                                    "0": "Bears",
                                    "1": "2014-04-18",
                                    "2": "Documentary",
                                    "3": "G",
                                    "4": "17780194",
                                    "5": "18346024"
                                },
                                {
                                    "0": "Monkey Kingdom",
                                    "1": "2015-04-17",
                                    "2": "Documentary",
                                    "3": "G",
                                    "4": "16432322",
                                    "5": "16432322"
                                },
                                {
                                    "0": "A Beautiful Planet",
                                    "1": "2016-04-29",
                                    "2": "Documentary",
                                    "3": "G",
                                    "4": "7895708",
                                    "5": "7895708"
                                }
                            ]
                        },
                        "text/html": "<table><tr><th>movie_title</th><th>release_date</th><th>genre</th><th>mpaa_rating</th><th>total_gross</th><th>inflation_adjusted_gross</th></tr><tr><td>Snow White and the Seven Dwarfs</td><td>1937-12-21</td><td>Musical</td><td>G</td><td>184925485</td><td>5228953251</td></tr><tr><td>Pinocchio</td><td>1940-02-09</td><td>Adventure</td><td>G</td><td>84300000</td><td>2188229052</td></tr><tr><td>Fantasia</td><td>1940-11-13</td><td>Musical</td><td>G</td><td>83320000</td><td>2187090808</td></tr><tr><td>Song of the South</td><td>1946-11-12</td><td>Adventure</td><td>G</td><td>65000000</td><td>1078510579</td></tr><tr><td>Cinderella</td><td>1950-02-15</td><td>Drama</td><td>G</td><td>85000000</td><td>920608730</td></tr><tr><td>Lady and the Tramp</td><td>1955-06-22</td><td>Drama</td><td>G</td><td>93600000</td><td>1236035515</td></tr><tr><td>101 Dalmatians</td><td>1961-01-25</td><td>Comedy</td><td>G</td><td>153000000</td><td>1362870985</td></tr><tr><td>Babes in Toyland</td><td>1961-12-14</td><td>Musical</td><td>G</td><td>10218316</td><td>124841160</td></tr><tr><td>The Aristocats</td><td>1970-04-24</td><td>Musical</td><td>G</td><td>55675257</td><td>255161499</td></tr><tr><td>Oliver &amp; Company</td><td>1988-11-18</td><td>Adventure</td><td>G</td><td>49576671</td><td>102254492</td></tr><tr><td>The Little Mermaid</td><td>1989-11-15</td><td>Adventure</td><td>G</td><td>111543479</td><td>223726012</td></tr><tr><td>DuckTales: The Movie - Treasure of th…</td><td>1990-08-03</td><td>Adventure</td><td>G</td><td>18075331</td><td>36107823</td></tr><tr><td>The Rescuers Down Under</td><td>1990-11-16</td><td>Adventure</td><td>G</td><td>27931461</td><td>55796728</td></tr><tr><td>Beauty and the Beast</td><td>1991-11-13</td><td>Musical</td><td>G</td><td>218951625</td><td>363017667</td></tr><tr><td>Aladdin</td><td>1992-11-11</td><td>Comedy</td><td>G</td><td>217350219</td><td>441969178</td></tr><tr><td>The Muppet Christmas Carol</td><td>1992-12-11</td><td>Comedy</td><td>G</td><td>27281507</td><td>55417615</td></tr><tr><td>Homeward Bound: The Incredible Journey</td><td>1993-02-03</td><td>Adventure</td><td>G</td><td>41833324</td><td>85182343</td></tr><tr><td>The Lion King</td><td>1994-06-15</td><td>Adventure</td><td>G</td><td>422780140</td><td>761640898</td></tr><tr><td>A Goofy Movie</td><td>1995-04-07</td><td>Comedy</td><td>G</td><td>35336439</td><td>68479579</td></tr><tr><td>Pocahontas</td><td>1995-06-10</td><td>Adventure</td><td>G</td><td>141579773</td><td>274370957</td></tr><tr><td>Toy Story</td><td>1995-11-22</td><td>Adventure</td><td>G</td><td>191796233</td><td>370409631</td></tr><tr><td>Muppet Treasure Island</td><td>1996-02-16</td><td>Adventure</td><td>G</td><td>34327391</td><td>65470567</td></tr><tr><td>Homeward Bound II: Lost in San Franc…</td><td>1996-03-08</td><td>Adventure</td><td>G</td><td>32709423</td><td>62384706</td></tr><tr><td>The Hunchback of Notre Dame</td><td>1996-06-21</td><td>Adventure</td><td>G</td><td>100138851</td><td>190988799</td></tr><tr><td>101 Dalmatians</td><td>1996-11-27</td><td>Comedy</td><td>G</td><td>136189294</td><td>258728898</td></tr><tr><td>Hercules</td><td>1997-06-13</td><td>Adventure</td><td>G</td><td>99112101</td><td>182029412</td></tr><tr><td>Mulan</td><td>1998-06-19</td><td>Adventure</td><td>G</td><td>120620254</td><td>216807832</td></tr><tr><td>A Bug's Life</td><td>1998-11-20</td><td>Adventure</td><td>G</td><td>162798565</td><td>288981698</td></tr><tr><td>Doug's 1st Movie</td><td>1999-03-26</td><td>Adventure</td><td>G</td><td>19421271</td><td>32228598</td></tr><tr><td>Tarzan</td><td>1999-06-16</td><td>Adventure</td><td>G</td><td>171091819</td><td>283900254</td></tr><tr><td>The Straight Story</td><td>1999-10-15</td><td>Drama</td><td>G</td><td>6197866</td><td>10111144</td></tr><tr><td>Toy Story 2</td><td>1999-11-19</td><td>Adventure</td><td>G</td><td>245852179</td><td>404450426</td></tr><tr><td>Fantasia 2000 (IMAX)</td><td>2000-01-01</td><td>Musical</td><td>G</td><td>60507228</td><td>94852354</td></tr><tr><td>The Tigger Movie</td><td>2000-02-11</td><td>Adventure</td><td>G</td><td>45542421</td><td>71228678</td></tr><tr><td>Fantasia 2000 (Theatrical Release)</td><td>2000-06-16</td><td>Musical</td><td>G</td><td>9103630</td><td>14238144</td></tr><tr><td>102 Dalmatians</td><td>2000-11-22</td><td>Comedy</td><td>G</td><td>66941559</td><td>104055039</td></tr><tr><td>The Emperor's New Groove</td><td>2000-12-15</td><td>Adventure</td><td>G</td><td>89296573</td><td>136789252</td></tr><tr><td>Recess: School's Out</td><td>2001-02-16</td><td>Comedy</td><td>G</td><td>36696761</td><td>54656124</td></tr><tr><td>The Princess Diaries</td><td>2001-08-03</td><td>Comedy</td><td>G</td><td>108244774</td><td>161218928</td></tr><tr><td>Monsters, Inc.</td><td>2001-11-02</td><td>Adventure</td><td>G</td><td>289423425</td><td>416073179</td></tr><tr><td>Beauty and the Beast (IMAX)</td><td>2002-01-01</td><td>Musical</td><td>G</td><td>25487028</td><td>36980311</td></tr><tr><td>Peter Pan: Return to Neverland</td><td>2002-02-15</td><td>Adventure</td><td>G</td><td>48430258</td><td>70269715</td></tr><tr><td>The Rookie</td><td>2002-03-29</td><td>Drama</td><td>G</td><td>75600072</td><td>109691666</td></tr><tr><td>The Country Bears</td><td>2002-07-26</td><td>Adventure</td><td>G</td><td>16988996</td><td>24650121</td></tr><tr><td>The Santa Clause 2</td><td>2002-11-01</td><td>Comedy</td><td>G</td><td>139225854</td><td>201959095</td></tr><tr><td>The Jungle Book 2</td><td>2003-02-14</td><td>Adventure</td><td>G</td><td>47901582</td><td>66966883</td></tr><tr><td>Piglet's Big Movie</td><td>2003-03-21</td><td>Comedy</td><td>G</td><td>23103423</td><td>32298812</td></tr><tr><td>Ghosts of the Abyss</td><td>2003-04-11</td><td>Documentary</td><td>G</td><td>17093668</td><td>23803108</td></tr><tr><td>Finding Nemo</td><td>2003-05-30</td><td>Adventure</td><td>G</td><td>380529370</td><td>518148559</td></tr><tr><td>Brother Bear</td><td>2003-10-24</td><td>Adventure</td><td>G</td><td>85336277</td><td>119218333</td></tr><tr><td>Young Black Stallion</td><td>2003-12-25</td><td>Adventure</td><td>G</td><td>6751389</td><td>9254344</td></tr><tr><td>The Princess Diaries 2: Royal Engagement</td><td>2004-08-11</td><td>Romantic Comedy</td><td>G</td><td>95149435</td><td>129164207</td></tr><tr><td>Aliens of the Deep</td><td>2005-01-28</td><td>Documentary</td><td>G</td><td>8968684</td><td>11740942</td></tr><tr><td>Pooh's Heffalump Movie</td><td>2005-02-11</td><td>Adventure</td><td>G</td><td>18098433</td><td>23801835</td></tr><tr><td>Ice Princess</td><td>2005-03-18</td><td>Comedy</td><td>G</td><td>24381334</td><td>32064685</td></tr><tr><td>Herbie: Fully Loaded</td><td>2005-06-22</td><td>Comedy</td><td>G</td><td>66010682</td><td>86812798</td></tr><tr><td>Valiant</td><td>2005-08-19</td><td>Adventure</td><td>G</td><td>19478106</td><td>25616292</td></tr><tr><td>Chicken Little</td><td>2005-11-04</td><td>Adventure</td><td>G</td><td>135386665</td><td>177954661</td></tr><tr><td>Roving Mars</td><td>2006-01-27</td><td>Documentary</td><td>G</td><td>10407978</td><td>12948025</td></tr><tr><td>The Wild</td><td>2006-04-14</td><td>Adventure</td><td>G</td><td>37384046</td><td>48114115</td></tr><tr><td>Cars</td><td>2006-06-09</td><td>Comedy</td><td>G</td><td>244082982</td><td>314140384</td></tr><tr><td>The Santa Clause 3: The Escape Clause</td><td>2006-11-03</td><td>Comedy</td><td>G</td><td>84500122</td><td>108694869</td></tr><tr><td>Meet the Robinsons</td><td>2007-03-30</td><td>Adventure</td><td>G</td><td>97822171</td><td>119860589</td></tr><tr><td>Ratatouille</td><td>2007-06-29</td><td>Comedy</td><td>G</td><td>206445654</td><td>252955933</td></tr><tr><td>Hannah Montana/Miley Cyrus: Best of B…</td><td>2008-02-01</td><td>Concert/Performance</td><td>G</td><td>65281781</td><td>76646993</td></tr><tr><td>College Road Trip</td><td>2008-03-07</td><td>Comedy</td><td>G</td><td>45610425</td><td>53550960</td></tr><tr><td>WALL-E</td><td>2008-06-27</td><td>Adventure</td><td>G</td><td>223808164</td><td>262771918</td></tr><tr><td>High School Musical 3: Senior Year</td><td>2008-10-24</td><td>Musical</td><td>G</td><td>90559416</td><td>106308538</td></tr><tr><td>Jonas Brothers: The 3D Concert Experi…</td><td>2009-02-27</td><td>Concert/Performance</td><td>G</td><td>38174685</td><td>38174685</td></tr><tr><td>Hannah Montana the Movie</td><td>2009-04-10</td><td>Drama</td><td>G</td><td>79576189</td><td>89443640</td></tr><tr><td>Earth</td><td>2009-04-22</td><td>Documentary</td><td>G</td><td>32011576</td><td>35981010</td></tr><tr><td>Gake no ue no Ponyo</td><td>2009-08-14</td><td>Adventure</td><td>G</td><td>15090399</td><td>16961607</td></tr><tr><td>Toy Story 3D Double Feature</td><td>2009-10-02</td><td>Adventure</td><td>G</td><td>30702446</td><td>34509545</td></tr><tr><td>The Princess and the Frog</td><td>2009-11-25</td><td>Adventure</td><td>G</td><td>104400899</td><td>116316457</td></tr><tr><td>Oceans</td><td>2010-04-22</td><td>Documentary</td><td>G</td><td>19422319</td><td>20751600</td></tr><tr><td>Toy Story 3</td><td>2010-06-18</td><td>Adventure</td><td>G</td><td>415004880</td><td>443408255</td></tr><tr><td>Gnomeo and Juliet</td><td>2011-02-11</td><td>Comedy</td><td>G</td><td>99967670</td><td>106270797</td></tr><tr><td>African Cats</td><td>2011-04-22</td><td>Documentary</td><td>G</td><td>15428747</td><td>16401551</td></tr><tr><td>Cars 2</td><td>2011-06-24</td><td>Adventure</td><td>G</td><td>191450875</td><td>203522177</td></tr><tr><td>Winnie the Pooh</td><td>2011-07-15</td><td>Adventure</td><td>G</td><td>26692846</td><td>28375869</td></tr><tr><td>The Secret World of Arietty</td><td>2012-02-17</td><td>Adventure</td><td>G</td><td>19192510</td><td>20325733</td></tr><tr><td>Chimpanzee</td><td>2012-04-20</td><td>Documentary</td><td>G</td><td>28965459</td><td>30675725</td></tr><tr><td>Monsters University</td><td>2013-06-21</td><td>Adventure</td><td>G</td><td>268488329</td><td>278395641</td></tr><tr><td>Bears</td><td>2014-04-18</td><td>Documentary</td><td>G</td><td>17780194</td><td>18346024</td></tr><tr><td>Monkey Kingdom</td><td>2015-04-17</td><td>Documentary</td><td>G</td><td>16432322</td><td>16432322</td></tr><tr><td>A Beautiful Planet</td><td>2016-04-29</td><td>Documentary</td><td>G</td><td>7895708</td><td>7895708</td></tr></table>"
                    },
                    "metadata": {}
                }
            ],
            "execution_count": 1
        },
        {
            "cell_type": "code",
            "source": [
                "create view vw_g as\n",
                "    SELECT * FROM movie_gross where mpaa_rating = 'G'"
            ],
            "metadata": {},
            "outputs": [
                {
                    "output_type": "display_data",
                    "data": {
                        "text/html": "Commands completed successfully."
                    },
                    "metadata": {}
                },
                {
                    "output_type": "display_data",
                    "data": {
                        "text/html": "Total execution time: 00:00:00.081"
                    },
                    "metadata": {}
                }
            ],
            "execution_count": 2
        },
        {
            "cell_type": "code",
            "source": "select * from vw_g where year(release_date) > 2000",
            "metadata": {},
            "outputs": [
                {
                    "output_type": "display_data",
                    "data": {
                        "text/html": "(49 rows affected)"
                    },
                    "metadata": {}
                },
                {
                    "output_type": "display_data",
                    "data": {
                        "text/html": "Total execution time: 00:00:00.063"
                    },
                    "metadata": {}
                },
                {
                    "output_type": "execute_result",
                    "execution_count": 4,
                    "data": {
                        "application/vnd.dataresource+json": {
                            "schema": {
                                "fields": [
                                    {
                                        "name": "movie_title"
                                    },
                                    {
                                        "name": "release_date"
                                    },
                                    {
                                        "name": "genre"
                                    },
                                    {
                                        "name": "mpaa_rating"
                                    },
                                    {
                                        "name": "total_gross"
                                    },
                                    {
                                        "name": "inflation_adjusted_gross"
                                    }
                                ]
                            },
                            "data": [
                                {
                                    "0": "Recess: School's Out",
                                    "1": "2001-02-16",
                                    "2": "Comedy",
                                    "3": "G",
                                    "4": "36696761",
                                    "5": "54656124"
                                },
                                {
                                    "0": "The Princess Diaries",
                                    "1": "2001-08-03",
                                    "2": "Comedy",
                                    "3": "G",
                                    "4": "108244774",
                                    "5": "161218928"
                                },
                                {
                                    "0": "Monsters, Inc.",
                                    "1": "2001-11-02",
                                    "2": "Adventure",
                                    "3": "G",
                                    "4": "289423425",
                                    "5": "416073179"
                                },
                                {
                                    "0": "Beauty and the Beast (IMAX)",
                                    "1": "2002-01-01",
                                    "2": "Musical",
                                    "3": "G",
                                    "4": "25487028",
                                    "5": "36980311"
                                },
                                {
                                    "0": "Peter Pan: Return to Neverland",
                                    "1": "2002-02-15",
                                    "2": "Adventure",
                                    "3": "G",
                                    "4": "48430258",
                                    "5": "70269715"
                                },
                                {
                                    "0": "The Rookie",
                                    "1": "2002-03-29",
                                    "2": "Drama",
                                    "3": "G",
                                    "4": "75600072",
                                    "5": "109691666"
                                },
                                {
                                    "0": "The Country Bears",
                                    "1": "2002-07-26",
                                    "2": "Adventure",
                                    "3": "G",
                                    "4": "16988996",
                                    "5": "24650121"
                                },
                                {
                                    "0": "The Santa Clause 2",
                                    "1": "2002-11-01",
                                    "2": "Comedy",
                                    "3": "G",
                                    "4": "139225854",
                                    "5": "201959095"
                                },
                                {
                                    "0": "The Jungle Book 2",
                                    "1": "2003-02-14",
                                    "2": "Adventure",
                                    "3": "G",
                                    "4": "47901582",
                                    "5": "66966883"
                                },
                                {
                                    "0": "Piglet's Big Movie",
                                    "1": "2003-03-21",
                                    "2": "Comedy",
                                    "3": "G",
                                    "4": "23103423",
                                    "5": "32298812"
                                },
                                {
                                    "0": "Ghosts of the Abyss",
                                    "1": "2003-04-11",
                                    "2": "Documentary",
                                    "3": "G",
                                    "4": "17093668",
                                    "5": "23803108"
                                },
                                {
                                    "0": "Finding Nemo",
                                    "1": "2003-05-30",
                                    "2": "Adventure",
                                    "3": "G",
                                    "4": "380529370",
                                    "5": "518148559"
                                },
                                {
                                    "0": "Brother Bear",
                                    "1": "2003-10-24",
                                    "2": "Adventure",
                                    "3": "G",
                                    "4": "85336277",
                                    "5": "119218333"
                                },
                                {
                                    "0": "Young Black Stallion",
                                    "1": "2003-12-25",
                                    "2": "Adventure",
                                    "3": "G",
                                    "4": "6751389",
                                    "5": "9254344"
                                },
                                {
                                    "0": "The Princess Diaries 2: Royal Engagement",
                                    "1": "2004-08-11",
                                    "2": "Romantic Comedy",
                                    "3": "G",
                                    "4": "95149435",
                                    "5": "129164207"
                                },
                                {
                                    "0": "Aliens of the Deep",
                                    "1": "2005-01-28",
                                    "2": "Documentary",
                                    "3": "G",
                                    "4": "8968684",
                                    "5": "11740942"
                                },
                                {
                                    "0": "Pooh's Heffalump Movie",
                                    "1": "2005-02-11",
                                    "2": "Adventure",
                                    "3": "G",
                                    "4": "18098433",
                                    "5": "23801835"
                                },
                                {
                                    "0": "Ice Princess",
                                    "1": "2005-03-18",
                                    "2": "Comedy",
                                    "3": "G",
                                    "4": "24381334",
                                    "5": "32064685"
                                },
                                {
                                    "0": "Herbie: Fully Loaded",
                                    "1": "2005-06-22",
                                    "2": "Comedy",
                                    "3": "G",
                                    "4": "66010682",
                                    "5": "86812798"
                                },
                                {
                                    "0": "Valiant",
                                    "1": "2005-08-19",
                                    "2": "Adventure",
                                    "3": "G",
                                    "4": "19478106",
                                    "5": "25616292"
                                },
                                {
                                    "0": "Chicken Little",
                                    "1": "2005-11-04",
                                    "2": "Adventure",
                                    "3": "G",
                                    "4": "135386665",
                                    "5": "177954661"
                                },
                                {
                                    "0": "Roving Mars",
                                    "1": "2006-01-27",
                                    "2": "Documentary",
                                    "3": "G",
                                    "4": "10407978",
                                    "5": "12948025"
                                },
                                {
                                    "0": "The Wild",
                                    "1": "2006-04-14",
                                    "2": "Adventure",
                                    "3": "G",
                                    "4": "37384046",
                                    "5": "48114115"
                                },
                                {
                                    "0": "Cars",
                                    "1": "2006-06-09",
                                    "2": "Comedy",
                                    "3": "G",
                                    "4": "244082982",
                                    "5": "314140384"
                                },
                                {
                                    "0": "The Santa Clause 3: The Escape Clause",
                                    "1": "2006-11-03",
                                    "2": "Comedy",
                                    "3": "G",
                                    "4": "84500122",
                                    "5": "108694869"
                                },
                                {
                                    "0": "Meet the Robinsons",
                                    "1": "2007-03-30",
                                    "2": "Adventure",
                                    "3": "G",
                                    "4": "97822171",
                                    "5": "119860589"
                                },
                                {
                                    "0": "Ratatouille",
                                    "1": "2007-06-29",
                                    "2": "Comedy",
                                    "3": "G",
                                    "4": "206445654",
                                    "5": "252955933"
                                },
                                {
                                    "0": "Hannah Montana/Miley Cyrus: Best of B…",
                                    "1": "2008-02-01",
                                    "2": "Concert/Performance",
                                    "3": "G",
                                    "4": "65281781",
                                    "5": "76646993"
                                },
                                {
                                    "0": "College Road Trip",
                                    "1": "2008-03-07",
                                    "2": "Comedy",
                                    "3": "G",
                                    "4": "45610425",
                                    "5": "53550960"
                                },
                                {
                                    "0": "WALL-E",
                                    "1": "2008-06-27",
                                    "2": "Adventure",
                                    "3": "G",
                                    "4": "223808164",
                                    "5": "262771918"
                                },
                                {
                                    "0": "High School Musical 3: Senior Year",
                                    "1": "2008-10-24",
                                    "2": "Musical",
                                    "3": "G",
                                    "4": "90559416",
                                    "5": "106308538"
                                },
                                {
                                    "0": "Jonas Brothers: The 3D Concert Experi…",
                                    "1": "2009-02-27",
                                    "2": "Concert/Performance",
                                    "3": "G",
                                    "4": "38174685",
                                    "5": "38174685"
                                },
                                {
                                    "0": "Hannah Montana the Movie",
                                    "1": "2009-04-10",
                                    "2": "Drama",
                                    "3": "G",
                                    "4": "79576189",
                                    "5": "89443640"
                                },
                                {
                                    "0": "Earth",
                                    "1": "2009-04-22",
                                    "2": "Documentary",
                                    "3": "G",
                                    "4": "32011576",
                                    "5": "35981010"
                                },
                                {
                                    "0": "Gake no ue no Ponyo",
                                    "1": "2009-08-14",
                                    "2": "Adventure",
                                    "3": "G",
                                    "4": "15090399",
                                    "5": "16961607"
                                },
                                {
                                    "0": "Toy Story 3D Double Feature",
                                    "1": "2009-10-02",
                                    "2": "Adventure",
                                    "3": "G",
                                    "4": "30702446",
                                    "5": "34509545"
                                },
                                {
                                    "0": "The Princess and the Frog",
                                    "1": "2009-11-25",
                                    "2": "Adventure",
                                    "3": "G",
                                    "4": "104400899",
                                    "5": "116316457"
                                },
                                {
                                    "0": "Oceans",
                                    "1": "2010-04-22",
                                    "2": "Documentary",
                                    "3": "G",
                                    "4": "19422319",
                                    "5": "20751600"
                                },
                                {
                                    "0": "Toy Story 3",
                                    "1": "2010-06-18",
                                    "2": "Adventure",
                                    "3": "G",
                                    "4": "415004880",
                                    "5": "443408255"
                                },
                                {
                                    "0": "Gnomeo and Juliet",
                                    "1": "2011-02-11",
                                    "2": "Comedy",
                                    "3": "G",
                                    "4": "99967670",
                                    "5": "106270797"
                                },
                                {
                                    "0": "African Cats",
                                    "1": "2011-04-22",
                                    "2": "Documentary",
                                    "3": "G",
                                    "4": "15428747",
                                    "5": "16401551"
                                },
                                {
                                    "0": "Cars 2",
                                    "1": "2011-06-24",
                                    "2": "Adventure",
                                    "3": "G",
                                    "4": "191450875",
                                    "5": "203522177"
                                },
                                {
                                    "0": "Winnie the Pooh",
                                    "1": "2011-07-15",
                                    "2": "Adventure",
                                    "3": "G",
                                    "4": "26692846",
                                    "5": "28375869"
                                },
                                {
                                    "0": "The Secret World of Arietty",
                                    "1": "2012-02-17",
                                    "2": "Adventure",
                                    "3": "G",
                                    "4": "19192510",
                                    "5": "20325733"
                                },
                                {
                                    "0": "Chimpanzee",
                                    "1": "2012-04-20",
                                    "2": "Documentary",
                                    "3": "G",
                                    "4": "28965459",
                                    "5": "30675725"
                                },
                                {
                                    "0": "Monsters University",
                                    "1": "2013-06-21",
                                    "2": "Adventure",
                                    "3": "G",
                                    "4": "268488329",
                                    "5": "278395641"
                                },
                                {
                                    "0": "Bears",
                                    "1": "2014-04-18",
                                    "2": "Documentary",
                                    "3": "G",
                                    "4": "17780194",
                                    "5": "18346024"
                                },
                                {
                                    "0": "Monkey Kingdom",
                                    "1": "2015-04-17",
                                    "2": "Documentary",
                                    "3": "G",
                                    "4": "16432322",
                                    "5": "16432322"
                                },
                                {
                                    "0": "A Beautiful Planet",
                                    "1": "2016-04-29",
                                    "2": "Documentary",
                                    "3": "G",
                                    "4": "7895708",
                                    "5": "7895708"
                                }
                            ]
                        },
                        "text/html": "<table><tr><th>movie_title</th><th>release_date</th><th>genre</th><th>mpaa_rating</th><th>total_gross</th><th>inflation_adjusted_gross</th></tr><tr><td>Recess: School's Out</td><td>2001-02-16</td><td>Comedy</td><td>G</td><td>36696761</td><td>54656124</td></tr><tr><td>The Princess Diaries</td><td>2001-08-03</td><td>Comedy</td><td>G</td><td>108244774</td><td>161218928</td></tr><tr><td>Monsters, Inc.</td><td>2001-11-02</td><td>Adventure</td><td>G</td><td>289423425</td><td>416073179</td></tr><tr><td>Beauty and the Beast (IMAX)</td><td>2002-01-01</td><td>Musical</td><td>G</td><td>25487028</td><td>36980311</td></tr><tr><td>Peter Pan: Return to Neverland</td><td>2002-02-15</td><td>Adventure</td><td>G</td><td>48430258</td><td>70269715</td></tr><tr><td>The Rookie</td><td>2002-03-29</td><td>Drama</td><td>G</td><td>75600072</td><td>109691666</td></tr><tr><td>The Country Bears</td><td>2002-07-26</td><td>Adventure</td><td>G</td><td>16988996</td><td>24650121</td></tr><tr><td>The Santa Clause 2</td><td>2002-11-01</td><td>Comedy</td><td>G</td><td>139225854</td><td>201959095</td></tr><tr><td>The Jungle Book 2</td><td>2003-02-14</td><td>Adventure</td><td>G</td><td>47901582</td><td>66966883</td></tr><tr><td>Piglet's Big Movie</td><td>2003-03-21</td><td>Comedy</td><td>G</td><td>23103423</td><td>32298812</td></tr><tr><td>Ghosts of the Abyss</td><td>2003-04-11</td><td>Documentary</td><td>G</td><td>17093668</td><td>23803108</td></tr><tr><td>Finding Nemo</td><td>2003-05-30</td><td>Adventure</td><td>G</td><td>380529370</td><td>518148559</td></tr><tr><td>Brother Bear</td><td>2003-10-24</td><td>Adventure</td><td>G</td><td>85336277</td><td>119218333</td></tr><tr><td>Young Black Stallion</td><td>2003-12-25</td><td>Adventure</td><td>G</td><td>6751389</td><td>9254344</td></tr><tr><td>The Princess Diaries 2: Royal Engagement</td><td>2004-08-11</td><td>Romantic Comedy</td><td>G</td><td>95149435</td><td>129164207</td></tr><tr><td>Aliens of the Deep</td><td>2005-01-28</td><td>Documentary</td><td>G</td><td>8968684</td><td>11740942</td></tr><tr><td>Pooh's Heffalump Movie</td><td>2005-02-11</td><td>Adventure</td><td>G</td><td>18098433</td><td>23801835</td></tr><tr><td>Ice Princess</td><td>2005-03-18</td><td>Comedy</td><td>G</td><td>24381334</td><td>32064685</td></tr><tr><td>Herbie: Fully Loaded</td><td>2005-06-22</td><td>Comedy</td><td>G</td><td>66010682</td><td>86812798</td></tr><tr><td>Valiant</td><td>2005-08-19</td><td>Adventure</td><td>G</td><td>19478106</td><td>25616292</td></tr><tr><td>Chicken Little</td><td>2005-11-04</td><td>Adventure</td><td>G</td><td>135386665</td><td>177954661</td></tr><tr><td>Roving Mars</td><td>2006-01-27</td><td>Documentary</td><td>G</td><td>10407978</td><td>12948025</td></tr><tr><td>The Wild</td><td>2006-04-14</td><td>Adventure</td><td>G</td><td>37384046</td><td>48114115</td></tr><tr><td>Cars</td><td>2006-06-09</td><td>Comedy</td><td>G</td><td>244082982</td><td>314140384</td></tr><tr><td>The Santa Clause 3: The Escape Clause</td><td>2006-11-03</td><td>Comedy</td><td>G</td><td>84500122</td><td>108694869</td></tr><tr><td>Meet the Robinsons</td><td>2007-03-30</td><td>Adventure</td><td>G</td><td>97822171</td><td>119860589</td></tr><tr><td>Ratatouille</td><td>2007-06-29</td><td>Comedy</td><td>G</td><td>206445654</td><td>252955933</td></tr><tr><td>Hannah Montana/Miley Cyrus: Best of B…</td><td>2008-02-01</td><td>Concert/Performance</td><td>G</td><td>65281781</td><td>76646993</td></tr><tr><td>College Road Trip</td><td>2008-03-07</td><td>Comedy</td><td>G</td><td>45610425</td><td>53550960</td></tr><tr><td>WALL-E</td><td>2008-06-27</td><td>Adventure</td><td>G</td><td>223808164</td><td>262771918</td></tr><tr><td>High School Musical 3: Senior Year</td><td>2008-10-24</td><td>Musical</td><td>G</td><td>90559416</td><td>106308538</td></tr><tr><td>Jonas Brothers: The 3D Concert Experi…</td><td>2009-02-27</td><td>Concert/Performance</td><td>G</td><td>38174685</td><td>38174685</td></tr><tr><td>Hannah Montana the Movie</td><td>2009-04-10</td><td>Drama</td><td>G</td><td>79576189</td><td>89443640</td></tr><tr><td>Earth</td><td>2009-04-22</td><td>Documentary</td><td>G</td><td>32011576</td><td>35981010</td></tr><tr><td>Gake no ue no Ponyo</td><td>2009-08-14</td><td>Adventure</td><td>G</td><td>15090399</td><td>16961607</td></tr><tr><td>Toy Story 3D Double Feature</td><td>2009-10-02</td><td>Adventure</td><td>G</td><td>30702446</td><td>34509545</td></tr><tr><td>The Princess and the Frog</td><td>2009-11-25</td><td>Adventure</td><td>G</td><td>104400899</td><td>116316457</td></tr><tr><td>Oceans</td><td>2010-04-22</td><td>Documentary</td><td>G</td><td>19422319</td><td>20751600</td></tr><tr><td>Toy Story 3</td><td>2010-06-18</td><td>Adventure</td><td>G</td><td>415004880</td><td>443408255</td></tr><tr><td>Gnomeo and Juliet</td><td>2011-02-11</td><td>Comedy</td><td>G</td><td>99967670</td><td>106270797</td></tr><tr><td>African Cats</td><td>2011-04-22</td><td>Documentary</td><td>G</td><td>15428747</td><td>16401551</td></tr><tr><td>Cars 2</td><td>2011-06-24</td><td>Adventure</td><td>G</td><td>191450875</td><td>203522177</td></tr><tr><td>Winnie the Pooh</td><td>2011-07-15</td><td>Adventure</td><td>G</td><td>26692846</td><td>28375869</td></tr><tr><td>The Secret World of Arietty</td><td>2012-02-17</td><td>Adventure</td><td>G</td><td>19192510</td><td>20325733</td></tr><tr><td>Chimpanzee</td><td>2012-04-20</td><td>Documentary</td><td>G</td><td>28965459</td><td>30675725</td></tr><tr><td>Monsters University</td><td>2013-06-21</td><td>Adventure</td><td>G</td><td>268488329</td><td>278395641</td></tr><tr><td>Bears</td><td>2014-04-18</td><td>Documentary</td><td>G</td><td>17780194</td><td>18346024</td></tr><tr><td>Monkey Kingdom</td><td>2015-04-17</td><td>Documentary</td><td>G</td><td>16432322</td><td>16432322</td></tr><tr><td>A Beautiful Planet</td><td>2016-04-29</td><td>Documentary</td><td>G</td><td>7895708</td><td>7895708</td></tr></table>"
                    },
                    "metadata": {}
                }
            ],
            "execution_count": 4
        },
        {
            "cell_type": "code",
            "source": [
                "create or alter view vw_debut as\n",
                "    select movie_title, release_date, \n",
                "        datename(WEEKDAY, release_date) weekday,\n",
                "        month(release_date) month,\n",
                "        year(release_date) year\n",
                "        from movie_gross"
            ],
            "metadata": {},
            "outputs": [
                {
                    "output_type": "display_data",
                    "data": {
                        "text/html": "Commands completed successfully."
                    },
                    "metadata": {}
                },
                {
                    "output_type": "display_data",
                    "data": {
                        "text/html": "Total execution time: 00:00:00.066"
                    },
                    "metadata": {}
                }
            ],
            "execution_count": 14
        },
        {
            "cell_type": "code",
            "source": [
                "ALTER   view [dbo].[vw_debut] as\n",
                "    select movie_title, release_date, \n",
                "        datename(WEEKDAY, release_date) weekday,\n",
                "        month(release_date) month,\n",
                "        year(release_date) year\n",
                "        from movie_gross"
            ],
            "metadata": {},
            "outputs": [],
            "execution_count": 0
        },
        {
            "cell_type": "code",
            "source": "select * from vw_debut",
            "metadata": {},
            "outputs": [
                {
                    "output_type": "display_data",
                    "data": {
                        "text/html": "(579 rows affected)"
                    },
                    "metadata": {}
                },
                {
                    "output_type": "display_data",
                    "data": {
                        "text/html": "Total execution time: 00:00:00.067"
                    },
                    "metadata": {}
                },
                {
                    "output_type": "execute_result",
                    "execution_count": 15,
                    "data": {
                        "application/vnd.dataresource+json": {
                            "schema": {
                                "fields": [
                                    {
                                        "name": "movie_title"
                                    },
                                    {
                                        "name": "release_date"
                                    },
                                    {
                                        "name": "weekday"
                                    },
                                    {
                                        "name": "month"
                                    },
                                    {
                                        "name": "year"
                                    }
                                ]
                            },
                            "data": [
                                {
                                    "0": "Snow White and the Seven Dwarfs",
                                    "1": "1937-12-21",
                                    "2": "Tuesday",
                                    "3": "12",
                                    "4": "1937"
                                },
                                {
                                    "0": "Pinocchio",
                                    "1": "1940-02-09",
                                    "2": "Friday",
                                    "3": "2",
                                    "4": "1940"
                                },
                                {
                                    "0": "Fantasia",
                                    "1": "1940-11-13",
                                    "2": "Wednesday",
                                    "3": "11",
                                    "4": "1940"
                                },
                                {
                                    "0": "Song of the South",
                                    "1": "1946-11-12",
                                    "2": "Tuesday",
                                    "3": "11",
                                    "4": "1946"
                                },
                                {
                                    "0": "Cinderella",
                                    "1": "1950-02-15",
                                    "2": "Wednesday",
                                    "3": "2",
                                    "4": "1950"
                                },
                                {
                                    "0": "20,000 Leagues Under the Sea",
                                    "1": "1954-12-23",
                                    "2": "Thursday",
                                    "3": "12",
                                    "4": "1954"
                                },
                                {
                                    "0": "Lady and the Tramp",
                                    "1": "1955-06-22",
                                    "2": "Wednesday",
                                    "3": "6",
                                    "4": "1955"
                                },
                                {
                                    "0": "Sleeping Beauty",
                                    "1": "1959-01-29",
                                    "2": "Thursday",
                                    "3": "1",
                                    "4": "1959"
                                },
                                {
                                    "0": "101 Dalmatians",
                                    "1": "1961-01-25",
                                    "2": "Wednesday",
                                    "3": "1",
                                    "4": "1961"
                                },
                                {
                                    "0": "The Absent Minded Professor",
                                    "1": "1961-03-16",
                                    "2": "Thursday",
                                    "3": "3",
                                    "4": "1961"
                                },
                                {
                                    "0": "Babes in Toyland",
                                    "1": "1961-12-14",
                                    "2": "Thursday",
                                    "3": "12",
                                    "4": "1961"
                                },
                                {
                                    "0": "Bon Voyage!",
                                    "1": "1962-05-17",
                                    "2": "Thursday",
                                    "3": "5",
                                    "4": "1962"
                                },
                                {
                                    "0": "The Sword in the Stone",
                                    "1": "1963-12-25",
                                    "2": "Wednesday",
                                    "3": "12",
                                    "4": "1963"
                                },
                                {
                                    "0": "The Jungle Book",
                                    "1": "1967-10-18",
                                    "2": "Wednesday",
                                    "3": "10",
                                    "4": "1967"
                                },
                                {
                                    "0": "Blackbeard's Ghost",
                                    "1": "1968-02-08",
                                    "2": "Thursday",
                                    "3": "2",
                                    "4": "1968"
                                },
                                {
                                    "0": "The Aristocats",
                                    "1": "1970-04-24",
                                    "2": "Friday",
                                    "3": "4",
                                    "4": "1970"
                                },
                                {
                                    "0": "The Boatniks",
                                    "1": "1970-07-01",
                                    "2": "Wednesday",
                                    "3": "7",
                                    "4": "1970"
                                },
                                {
                                    "0": "Bedknobs and Broomsticks",
                                    "1": "1971-10-07",
                                    "2": "Thursday",
                                    "3": "10",
                                    "4": "1971"
                                },
                                {
                                    "0": "The Apple Dumpling Gang",
                                    "1": "1975-07-01",
                                    "2": "Tuesday",
                                    "3": "7",
                                    "4": "1975"
                                },
                                {
                                    "0": "Freaky Friday",
                                    "1": "1977-01-21",
                                    "2": "Friday",
                                    "3": "1",
                                    "4": "1977"
                                },
                                {
                                    "0": "The Many Adventures of Winnie the Pooh",
                                    "1": "1977-03-11",
                                    "2": "Friday",
                                    "3": "3",
                                    "4": "1977"
                                },
                                {
                                    "0": "The Rescuers",
                                    "1": "1977-06-22",
                                    "2": "Wednesday",
                                    "3": "6",
                                    "4": "1977"
                                },
                                {
                                    "0": "Herbie Goes to Monte Carlo",
                                    "1": "1977-06-24",
                                    "2": "Friday",
                                    "3": "6",
                                    "4": "1977"
                                },
                                {
                                    "0": "The Black Hole",
                                    "1": "1979-12-21",
                                    "2": "Friday",
                                    "3": "12",
                                    "4": "1979"
                                },
                                {
                                    "0": "Midnight Madness",
                                    "1": "1980-02-08",
                                    "2": "Friday",
                                    "3": "2",
                                    "4": "1980"
                                },
                                {
                                    "0": "The Last Flight of Noah’s Ark",
                                    "1": "1980-06-25",
                                    "2": "Wednesday",
                                    "3": "6",
                                    "4": "1980"
                                },
                                {
                                    "0": "The Devil and Max Devlin",
                                    "1": "1981-01-01",
                                    "2": "Thursday",
                                    "3": "1",
                                    "4": "1981"
                                },
                                {
                                    "0": "Amy",
                                    "1": "1981-03-20",
                                    "2": "Friday",
                                    "3": "3",
                                    "4": "1981"
                                },
                                {
                                    "0": "The Fox and the Hound",
                                    "1": "1981-07-10",
                                    "2": "Friday",
                                    "3": "7",
                                    "4": "1981"
                                },
                                {
                                    "0": "Condorman",
                                    "1": "1981-08-07",
                                    "2": "Friday",
                                    "3": "8",
                                    "4": "1981"
                                },
                                {
                                    "0": "Night Crossing",
                                    "1": "1982-02-05",
                                    "2": "Friday",
                                    "3": "2",
                                    "4": "1982"
                                },
                                {
                                    "0": "Tron",
                                    "1": "1982-07-09",
                                    "2": "Friday",
                                    "3": "7",
                                    "4": "1982"
                                },
                                {
                                    "0": "Tex",
                                    "1": "1982-11-19",
                                    "2": "Friday",
                                    "3": "11",
                                    "4": "1982"
                                },
                                {
                                    "0": "Trenchcoat",
                                    "1": "1983-03-11",
                                    "2": "Friday",
                                    "3": "3",
                                    "4": "1983"
                                },
                                {
                                    "0": "Something Wicked This Way Comes",
                                    "1": "1983-04-29",
                                    "2": "Friday",
                                    "3": "4",
                                    "4": "1983"
                                },
                                {
                                    "0": "Never Cry Wolf",
                                    "1": "1983-10-07",
                                    "2": "Friday",
                                    "3": "10",
                                    "4": "1983"
                                },
                                {
                                    "0": "Running Brave",
                                    "1": "1983-11-04",
                                    "2": "Friday",
                                    "3": "11",
                                    "4": "1983"
                                },
                                {
                                    "0": "Splash",
                                    "1": "1984-03-09",
                                    "2": "Friday",
                                    "3": "3",
                                    "4": "1984"
                                },
                                {
                                    "0": "Country",
                                    "1": "1984-09-29",
                                    "2": "Saturday",
                                    "3": "9",
                                    "4": "1984"
                                },
                                {
                                    "0": "Baby: Secret of the Lost Legend",
                                    "1": "1985-03-22",
                                    "2": "Friday",
                                    "3": "3",
                                    "4": "1985"
                                },
                                {
                                    "0": "Return to Oz",
                                    "1": "1985-06-21",
                                    "2": "Friday",
                                    "3": "6",
                                    "4": "1985"
                                },
                                {
                                    "0": "The Black Cauldron",
                                    "1": "1985-07-24",
                                    "2": "Wednesday",
                                    "3": "7",
                                    "4": "1985"
                                },
                                {
                                    "0": "My Science Project",
                                    "1": "1985-08-09",
                                    "2": "Friday",
                                    "3": "8",
                                    "4": "1985"
                                },
                                {
                                    "0": "The Journey of Natty Gann",
                                    "1": "1985-09-27",
                                    "2": "Friday",
                                    "3": "9",
                                    "4": "1985"
                                },
                                {
                                    "0": "One Magic Christmas",
                                    "1": "1985-11-22",
                                    "2": "Friday",
                                    "3": "11",
                                    "4": "1985"
                                },
                                {
                                    "0": "Down and Out in Beverly Hills",
                                    "1": "1986-01-31",
                                    "2": "Friday",
                                    "3": "1",
                                    "4": "1986"
                                },
                                {
                                    "0": "Off Beat",
                                    "1": "1986-04-11",
                                    "2": "Friday",
                                    "3": "4",
                                    "4": "1986"
                                },
                                {
                                    "0": "Ruthless People",
                                    "1": "1986-06-27",
                                    "2": "Friday",
                                    "3": "6",
                                    "4": "1986"
                                },
                                {
                                    "0": "The Great Mouse Detective",
                                    "1": "1986-07-02",
                                    "2": "Wednesday",
                                    "3": "7",
                                    "4": "1986"
                                },
                                {
                                    "0": "Flight of the Navigator",
                                    "1": "1986-07-30",
                                    "2": "Wednesday",
                                    "3": "7",
                                    "4": "1986"
                                },
                                {
                                    "0": "Tough Guys",
                                    "1": "1986-10-03",
                                    "2": "Friday",
                                    "3": "10",
                                    "4": "1986"
                                },
                                {
                                    "0": "The Color of Money",
                                    "1": "1986-10-17",
                                    "2": "Friday",
                                    "3": "10",
                                    "4": "1986"
                                },
                                {
                                    "0": "Outrageous Fortune",
                                    "1": "1987-01-30",
                                    "2": "Friday",
                                    "3": "1",
                                    "4": "1987"
                                },
                                {
                                    "0": "Tin Men",
                                    "1": "1987-03-06",
                                    "2": "Friday",
                                    "3": "3",
                                    "4": "1987"
                                },
                                {
                                    "0": "Ernest Goes to Camp",
                                    "1": "1987-05-22",
                                    "2": "Friday",
                                    "3": "5",
                                    "4": "1987"
                                },
                                {
                                    "0": "Benji the Hunted",
                                    "1": "1987-06-05",
                                    "2": "Friday",
                                    "3": "6",
                                    "4": "1987"
                                },
                                {
                                    "0": "Adventures in Babysitting",
                                    "1": "1987-07-03",
                                    "2": "Friday",
                                    "3": "7",
                                    "4": "1987"
                                },
                                {
                                    "0": "Stakeout",
                                    "1": "1987-08-05",
                                    "2": "Wednesday",
                                    "3": "8",
                                    "4": "1987"
                                },
                                {
                                    "0": "Can't Buy Me Love",
                                    "1": "1987-08-14",
                                    "2": "Friday",
                                    "3": "8",
                                    "4": "1987"
                                },
                                {
                                    "0": "Hello Again",
                                    "1": "1987-11-06",
                                    "2": "Friday",
                                    "3": "11",
                                    "4": "1987"
                                },
                                {
                                    "0": "3 Men and a Baby",
                                    "1": "1987-11-25",
                                    "2": "Wednesday",
                                    "3": "11",
                                    "4": "1987"
                                },
                                {
                                    "0": "Good Morning Vietnam",
                                    "1": "1987-12-23",
                                    "2": "Wednesday",
                                    "3": "12",
                                    "4": "1987"
                                },
                                {
                                    "0": "Shoot to Kill",
                                    "1": "1988-02-12",
                                    "2": "Friday",
                                    "3": "2",
                                    "4": "1988"
                                },
                                {
                                    "0": "D.O.A.",
                                    "1": "1988-03-18",
                                    "2": "Friday",
                                    "3": "3",
                                    "4": "1988"
                                },
                                {
                                    "0": "Return to Snowy River",
                                    "1": "1988-04-15",
                                    "2": "Friday",
                                    "3": "4",
                                    "4": "1988"
                                },
                                {
                                    "0": "Big Business",
                                    "1": "1988-06-10",
                                    "2": "Friday",
                                    "3": "6",
                                    "4": "1988"
                                },
                                {
                                    "0": "Who Framed Roger Rabbit?",
                                    "1": "1988-06-22",
                                    "2": "Wednesday",
                                    "3": "6",
                                    "4": "1988"
                                },
                                {
                                    "0": "Cocktail",
                                    "1": "1988-07-29",
                                    "2": "Friday",
                                    "3": "7",
                                    "4": "1988"
                                },
                                {
                                    "0": "The Rescue",
                                    "1": "1988-08-05",
                                    "2": "Friday",
                                    "3": "8",
                                    "4": "1988"
                                },
                                {
                                    "0": "Heartbreak Hotel",
                                    "1": "1988-09-30",
                                    "2": "Friday",
                                    "3": "9",
                                    "4": "1988"
                                },
                                {
                                    "0": "The Good Mother",
                                    "1": "1988-11-04",
                                    "2": "Friday",
                                    "3": "11",
                                    "4": "1988"
                                },
                                {
                                    "0": "Ernest Saves Christmas",
                                    "1": "1988-11-11",
                                    "2": "Friday",
                                    "3": "11",
                                    "4": "1988"
                                },
                                {
                                    "0": "Oliver & Company",
                                    "1": "1988-11-18",
                                    "2": "Friday",
                                    "3": "11",
                                    "4": "1988"
                                },
                                {
                                    "0": "Beaches",
                                    "1": "1988-12-21",
                                    "2": "Wednesday",
                                    "3": "12",
                                    "4": "1988"
                                },
                                {
                                    "0": "Three Fugitives",
                                    "1": "1989-01-27",
                                    "2": "Friday",
                                    "3": "1",
                                    "4": "1989"
                                },
                                {
                                    "0": "New York Stories",
                                    "1": "1989-03-01",
                                    "2": "Wednesday",
                                    "3": "3",
                                    "4": "1989"
                                },
                                {
                                    "0": "Disorganized Crime",
                                    "1": "1989-04-14",
                                    "2": "Friday",
                                    "3": "4",
                                    "4": "1989"
                                },
                                {
                                    "0": "Dead Poets Society",
                                    "1": "1989-06-02",
                                    "2": "Friday",
                                    "3": "6",
                                    "4": "1989"
                                },
                                {
                                    "0": "Honey, I Shrunk the Kids",
                                    "1": "1989-06-23",
                                    "2": "Friday",
                                    "3": "6",
                                    "4": "1989"
                                },
                                {
                                    "0": "Turner & Hooch",
                                    "1": "1989-07-28",
                                    "2": "Friday",
                                    "3": "7",
                                    "4": "1989"
                                },
                                {
                                    "0": "Cheetah",
                                    "1": "1989-08-18",
                                    "2": "Friday",
                                    "3": "8",
                                    "4": "1989"
                                },
                                {
                                    "0": "An Innocent Man",
                                    "1": "1989-10-06",
                                    "2": "Friday",
                                    "3": "10",
                                    "4": "1989"
                                },
                                {
                                    "0": "Gross Anatomy",
                                    "1": "1989-10-20",
                                    "2": "Friday",
                                    "3": "10",
                                    "4": "1989"
                                },
                                {
                                    "0": "The Little Mermaid",
                                    "1": "1989-11-15",
                                    "2": "Wednesday",
                                    "3": "11",
                                    "4": "1989"
                                },
                                {
                                    "0": "Blaze",
                                    "1": "1989-12-13",
                                    "2": "Wednesday",
                                    "3": "12",
                                    "4": "1989"
                                },
                                {
                                    "0": "Stella",
                                    "1": "1990-02-02",
                                    "2": "Friday",
                                    "3": "2",
                                    "4": "1990"
                                },
                                {
                                    "0": "Where the Heart Is",
                                    "1": "1990-02-23",
                                    "2": "Friday",
                                    "3": "2",
                                    "4": "1990"
                                },
                                {
                                    "0": "Pretty Woman",
                                    "1": "1990-03-23",
                                    "2": "Friday",
                                    "3": "3",
                                    "4": "1990"
                                },
                                {
                                    "0": "Ernest Goes to Jail",
                                    "1": "1990-04-06",
                                    "2": "Friday",
                                    "3": "4",
                                    "4": "1990"
                                },
                                {
                                    "0": "Spaced Invaders",
                                    "1": "1990-04-27",
                                    "2": "Friday",
                                    "3": "4",
                                    "4": "1990"
                                },
                                {
                                    "0": "Fire Birds",
                                    "1": "1990-05-24",
                                    "2": "Thursday",
                                    "3": "5",
                                    "4": "1990"
                                },
                                {
                                    "0": "Dick Tracy",
                                    "1": "1990-06-15",
                                    "2": "Friday",
                                    "3": "6",
                                    "4": "1990"
                                },
                                {
                                    "0": "Betsy's Wedding",
                                    "1": "1990-06-22",
                                    "2": "Friday",
                                    "3": "6",
                                    "4": "1990"
                                },
                                {
                                    "0": "Arachnophobia",
                                    "1": "1990-07-18",
                                    "2": "Wednesday",
                                    "3": "7",
                                    "4": "1990"
                                },
                                {
                                    "0": "DuckTales: The Movie - Treasure of th…",
                                    "1": "1990-08-03",
                                    "2": "Friday",
                                    "3": "8",
                                    "4": "1990"
                                },
                                {
                                    "0": "Taking Care of Business",
                                    "1": "1990-08-17",
                                    "2": "Friday",
                                    "3": "8",
                                    "4": "1990"
                                },
                                {
                                    "0": "Mr. Destiny",
                                    "1": "1990-10-12",
                                    "2": "Friday",
                                    "3": "10",
                                    "4": "1990"
                                },
                                {
                                    "0": "The Rescuers Down Under",
                                    "1": "1990-11-16",
                                    "2": "Friday",
                                    "3": "11",
                                    "4": "1990"
                                },
                                {
                                    "0": "3 Men and a Little Lady",
                                    "1": "1990-11-21",
                                    "2": "Wednesday",
                                    "3": "11",
                                    "4": "1990"
                                },
                                {
                                    "0": "Green Card",
                                    "1": "1990-12-25",
                                    "2": "Tuesday",
                                    "3": "12",
                                    "4": "1990"
                                },
                                {
                                    "0": "White Fang",
                                    "1": "1991-01-18",
                                    "2": "Friday",
                                    "3": "1",
                                    "4": "1991"
                                },
                                {
                                    "0": "Scenes from a Mall",
                                    "1": "1991-02-22",
                                    "2": "Friday",
                                    "3": "2",
                                    "4": "1991"
                                },
                                {
                                    "0": "Haakon Haakonsen",
                                    "1": "1991-03-01",
                                    "2": "Friday",
                                    "3": "3",
                                    "4": "1991"
                                },
                                {
                                    "0": "The Marrying Man",
                                    "1": "1991-04-05",
                                    "2": "Friday",
                                    "3": "4",
                                    "4": "1991"
                                },
                                {
                                    "0": "Oscar",
                                    "1": "1991-04-26",
                                    "2": "Friday",
                                    "3": "4",
                                    "4": "1991"
                                },
                                {
                                    "0": "One Good Cop",
                                    "1": "1991-05-03",
                                    "2": "Friday",
                                    "3": "5",
                                    "4": "1991"
                                },
                                {
                                    "0": "What About Bob?",
                                    "1": "1991-05-17",
                                    "2": "Friday",
                                    "3": "5",
                                    "4": "1991"
                                },
                                {
                                    "0": "Wild Hearts Can't Be Broken",
                                    "1": "1991-05-24",
                                    "2": "Friday",
                                    "3": "5",
                                    "4": "1991"
                                },
                                {
                                    "0": "The Rocketeer",
                                    "1": "1991-06-21",
                                    "2": "Friday",
                                    "3": "6",
                                    "4": "1991"
                                },
                                {
                                    "0": "The Doctor",
                                    "1": "1991-07-24",
                                    "2": "Wednesday",
                                    "3": "7",
                                    "4": "1991"
                                },
                                {
                                    "0": "Paradise",
                                    "1": "1991-09-18",
                                    "2": "Wednesday",
                                    "3": "9",
                                    "4": "1991"
                                },
                                {
                                    "0": "Deceived",
                                    "1": "1991-09-27",
                                    "2": "Friday",
                                    "3": "9",
                                    "4": "1991"
                                },
                                {
                                    "0": "Ernest Scared Stupid",
                                    "1": "1991-10-11",
                                    "2": "Friday",
                                    "3": "10",
                                    "4": "1991"
                                },
                                {
                                    "0": "Billy Bathgate",
                                    "1": "1991-11-01",
                                    "2": "Friday",
                                    "3": "11",
                                    "4": "1991"
                                },
                                {
                                    "0": "Beauty and the Beast",
                                    "1": "1991-11-13",
                                    "2": "Wednesday",
                                    "3": "11",
                                    "4": "1991"
                                },
                                {
                                    "0": "Father of the Bride",
                                    "1": "1991-12-20",
                                    "2": "Friday",
                                    "3": "12",
                                    "4": "1991"
                                },
                                {
                                    "0": "The Hand That Rocks the Cradle",
                                    "1": "1992-01-10",
                                    "2": "Friday",
                                    "3": "1",
                                    "4": "1992"
                                },
                                {
                                    "0": "Medicine Man",
                                    "1": "1992-02-07",
                                    "2": "Friday",
                                    "3": "2",
                                    "4": "1992"
                                },
                                {
                                    "0": "Blame it on the Bellboy",
                                    "1": "1992-03-06",
                                    "2": "Friday",
                                    "3": "3",
                                    "4": "1992"
                                },
                                {
                                    "0": "Noises Off...",
                                    "1": "1992-03-20",
                                    "2": "Friday",
                                    "3": "3",
                                    "4": "1992"
                                },
                                {
                                    "0": "Straight Talk",
                                    "1": "1992-04-03",
                                    "2": "Friday",
                                    "3": "4",
                                    "4": "1992"
                                },
                                {
                                    "0": "Newsies",
                                    "1": "1992-04-08",
                                    "2": "Wednesday",
                                    "3": "4",
                                    "4": "1992"
                                },
                                {
                                    "0": "Passed Away",
                                    "1": "1992-04-24",
                                    "2": "Friday",
                                    "3": "4",
                                    "4": "1992"
                                },
                                {
                                    "0": "Encino Man",
                                    "1": "1992-05-22",
                                    "2": "Friday",
                                    "3": "5",
                                    "4": "1992"
                                },
                                {
                                    "0": "Sister Act",
                                    "1": "1992-05-29",
                                    "2": "Friday",
                                    "3": "5",
                                    "4": "1992"
                                },
                                {
                                    "0": "Honey I Blew Up the Kid",
                                    "1": "1992-07-17",
                                    "2": "Friday",
                                    "3": "7",
                                    "4": "1992"
                                },
                                {
                                    "0": "A Stranger Among Us",
                                    "1": "1992-07-17",
                                    "2": "Friday",
                                    "3": "7",
                                    "4": "1992"
                                },
                                {
                                    "0": "3 Ninjas",
                                    "1": "1992-08-07",
                                    "2": "Friday",
                                    "3": "8",
                                    "4": "1992"
                                },
                                {
                                    "0": "A Gun in Betty Lou's Handbag",
                                    "1": "1992-08-21",
                                    "2": "Friday",
                                    "3": "8",
                                    "4": "1992"
                                },
                                {
                                    "0": "Captain Ron",
                                    "1": "1992-09-18",
                                    "2": "Friday",
                                    "3": "9",
                                    "4": "1992"
                                },
                                {
                                    "0": "Sarafina!",
                                    "1": "1992-09-18",
                                    "2": "Friday",
                                    "3": "9",
                                    "4": "1992"
                                },
                                {
                                    "0": "Innocent Blood",
                                    "1": "1992-09-25",
                                    "2": "Friday",
                                    "3": "9",
                                    "4": "1992"
                                },
                                {
                                    "0": "The Mighty Ducks",
                                    "1": "1992-10-02",
                                    "2": "Friday",
                                    "3": "10",
                                    "4": "1992"
                                },
                                {
                                    "0": "1492: Conquest of Paradise",
                                    "1": "1992-10-09",
                                    "2": "Friday",
                                    "3": "10",
                                    "4": "1992"
                                },
                                {
                                    "0": "Consenting Adults",
                                    "1": "1992-10-16",
                                    "2": "Friday",
                                    "3": "10",
                                    "4": "1992"
                                },
                                {
                                    "0": "Aladdin",
                                    "1": "1992-11-11",
                                    "2": "Wednesday",
                                    "3": "11",
                                    "4": "1992"
                                },
                                {
                                    "0": "The Distinguished Gentleman",
                                    "1": "1992-12-04",
                                    "2": "Friday",
                                    "3": "12",
                                    "4": "1992"
                                },
                                {
                                    "0": "The Muppet Christmas Carol",
                                    "1": "1992-12-11",
                                    "2": "Friday",
                                    "3": "12",
                                    "4": "1992"
                                },
                                {
                                    "0": "Alive",
                                    "1": "1993-01-15",
                                    "2": "Friday",
                                    "3": "1",
                                    "4": "1993"
                                },
                                {
                                    "0": "Aspen Extreme",
                                    "1": "1993-01-22",
                                    "2": "Friday",
                                    "3": "1",
                                    "4": "1993"
                                },
                                {
                                    "0": "Homeward Bound: The Incredible Journey",
                                    "1": "1993-02-03",
                                    "2": "Wednesday",
                                    "3": "2",
                                    "4": "1993"
                                },
                                {
                                    "0": "The Cemetery Club",
                                    "1": "1993-02-03",
                                    "2": "Wednesday",
                                    "3": "2",
                                    "4": "1993"
                                },
                                {
                                    "0": "Swing Kids",
                                    "1": "1993-03-05",
                                    "2": "Friday",
                                    "3": "3",
                                    "4": "1993"
                                },
                                {
                                    "0": "A Far Off Place",
                                    "1": "1993-03-12",
                                    "2": "Friday",
                                    "3": "3",
                                    "4": "1993"
                                },
                                {
                                    "0": "Born Yesterday",
                                    "1": "1993-03-26",
                                    "2": "Friday",
                                    "3": "3",
                                    "4": "1993"
                                },
                                {
                                    "0": "The Adventures of Huck Finn",
                                    "1": "1993-04-02",
                                    "2": "Friday",
                                    "3": "4",
                                    "4": "1993"
                                },
                                {
                                    "0": "Bound by Honor",
                                    "1": "1993-04-16",
                                    "2": "Friday",
                                    "3": "4",
                                    "4": "1993"
                                },
                                {
                                    "0": "Indian Summer",
                                    "1": "1993-04-23",
                                    "2": "Friday",
                                    "3": "4",
                                    "4": "1993"
                                },
                                {
                                    "0": "Super Mario Bros.",
                                    "1": "1993-05-28",
                                    "2": "Friday",
                                    "3": "5",
                                    "4": "1993"
                                },
                                {
                                    "0": "Guilty as Sin",
                                    "1": "1993-06-04",
                                    "2": "Friday",
                                    "3": "6",
                                    "4": "1993"
                                },
                                {
                                    "0": "Life With Mikey",
                                    "1": "1993-06-04",
                                    "2": "Friday",
                                    "3": "6",
                                    "4": "1993"
                                },
                                {
                                    "0": "What's Love Got to Do With It",
                                    "1": "1993-06-09",
                                    "2": "Wednesday",
                                    "3": "6",
                                    "4": "1993"
                                },
                                {
                                    "0": "Son in Law",
                                    "1": "1993-07-02",
                                    "2": "Friday",
                                    "3": "7",
                                    "4": "1993"
                                },
                                {
                                    "0": "Hocus Pocus",
                                    "1": "1993-07-16",
                                    "2": "Friday",
                                    "3": "7",
                                    "4": "1993"
                                },
                                {
                                    "0": "Another Stakeout",
                                    "1": "1993-07-23",
                                    "2": "Friday",
                                    "3": "7",
                                    "4": "1993"
                                },
                                {
                                    "0": "My Boyfriend's Back",
                                    "1": "1993-08-06",
                                    "2": "Friday",
                                    "3": "8",
                                    "4": "1993"
                                },
                                {
                                    "0": "Father Hood",
                                    "1": "1993-08-27",
                                    "2": "Friday",
                                    "3": "8",
                                    "4": "1993"
                                },
                                {
                                    "0": "The Joy Luck Club",
                                    "1": "1993-09-08",
                                    "2": "Wednesday",
                                    "3": "9",
                                    "4": "1993"
                                },
                                {
                                    "0": "Money for Nothing",
                                    "1": "1993-09-10",
                                    "2": "Friday",
                                    "3": "9",
                                    "4": "1993"
                                },
                                {
                                    "0": "The Program",
                                    "1": "1993-09-24",
                                    "2": "Friday",
                                    "3": "9",
                                    "4": "1993"
                                },
                                {
                                    "0": "Cool Runnings",
                                    "1": "1993-10-01",
                                    "2": "Friday",
                                    "3": "10",
                                    "4": "1993"
                                },
                                {
                                    "0": "The Nightmare Before Christmas",
                                    "1": "1993-10-13",
                                    "2": "Wednesday",
                                    "3": "10",
                                    "4": "1993"
                                },
                                {
                                    "0": "The Three Musketeers",
                                    "1": "1993-11-12",
                                    "2": "Friday",
                                    "3": "11",
                                    "4": "1993"
                                },
                                {
                                    "0": "Sister Act 2 Back in the Habit",
                                    "1": "1993-12-10",
                                    "2": "Friday",
                                    "3": "12",
                                    "4": "1993"
                                },
                                {
                                    "0": "Tombstone",
                                    "1": "1993-12-25",
                                    "2": "Saturday",
                                    "3": "12",
                                    "4": "1993"
                                },
                                {
                                    "0": "The Air Up There",
                                    "1": "1994-01-07",
                                    "2": "Friday",
                                    "3": "1",
                                    "4": "1994"
                                },
                                {
                                    "0": "Cabin Boy",
                                    "1": "1994-01-07",
                                    "2": "Friday",
                                    "3": "1",
                                    "4": "1994"
                                },
                                {
                                    "0": "Iron Will",
                                    "1": "1994-01-14",
                                    "2": "Friday",
                                    "3": "1",
                                    "4": "1994"
                                },
                                {
                                    "0": "Red Rock West",
                                    "1": "1994-01-28",
                                    "2": "Friday",
                                    "3": "1",
                                    "4": "1994"
                                },
                                {
                                    "0": "Blank Check",
                                    "1": "1994-02-11",
                                    "2": "Friday",
                                    "3": "2",
                                    "4": "1994"
                                },
                                {
                                    "0": "Angie",
                                    "1": "1994-03-04",
                                    "2": "Friday",
                                    "3": "3",
                                    "4": "1994"
                                },
                                {
                                    "0": "The Ref",
                                    "1": "1994-03-09",
                                    "2": "Wednesday",
                                    "3": "3",
                                    "4": "1994"
                                },
                                {
                                    "0": "D2: The Mighty Ducks",
                                    "1": "1994-03-25",
                                    "2": "Friday",
                                    "3": "3",
                                    "4": "1994"
                                },
                                {
                                    "0": "Holy Matrimony",
                                    "1": "1994-04-08",
                                    "2": "Friday",
                                    "3": "4",
                                    "4": "1994"
                                },
                                {
                                    "0": "White Fang 2: Myth of the White Wolf",
                                    "1": "1994-04-15",
                                    "2": "Friday",
                                    "3": "4",
                                    "4": "1994"
                                },
                                {
                                    "0": "The Inkwell",
                                    "1": "1994-04-22",
                                    "2": "Friday",
                                    "3": "4",
                                    "4": "1994"
                                },
                                {
                                    "0": "When a Man Loves a Woman",
                                    "1": "1994-04-29",
                                    "2": "Friday",
                                    "3": "4",
                                    "4": "1994"
                                },
                                {
                                    "0": "3 Ninjas Kick Back",
                                    "1": "1994-05-06",
                                    "2": "Friday",
                                    "3": "5",
                                    "4": "1994"
                                },
                                {
                                    "0": "Renaissance Man",
                                    "1": "1994-06-03",
                                    "2": "Friday",
                                    "3": "6",
                                    "4": "1994"
                                },
                                {
                                    "0": "The Lion King",
                                    "1": "1994-06-15",
                                    "2": "Wednesday",
                                    "3": "6",
                                    "4": "1994"
                                },
                                {
                                    "0": "I Love Trouble",
                                    "1": "1994-06-29",
                                    "2": "Wednesday",
                                    "3": "6",
                                    "4": "1994"
                                },
                                {
                                    "0": "Angels in the Outfield",
                                    "1": "1994-07-15",
                                    "2": "Friday",
                                    "3": "7",
                                    "4": "1994"
                                },
                                {
                                    "0": "In the Army Now",
                                    "1": "1994-08-12",
                                    "2": "Friday",
                                    "3": "8",
                                    "4": "1994"
                                },
                                {
                                    "0": "Color of Night",
                                    "1": "1994-08-19",
                                    "2": "Friday",
                                    "3": "8",
                                    "4": "1994"
                                },
                                {
                                    "0": "Camp Nowhere",
                                    "1": "1994-08-26",
                                    "2": "Friday",
                                    "3": "8",
                                    "4": "1994"
                                },
                                {
                                    "0": "It's Pat",
                                    "1": "1994-08-26",
                                    "2": "Friday",
                                    "3": "8",
                                    "4": "1994"
                                },
                                {
                                    "0": "A Simple Twist of Fate",
                                    "1": "1994-09-02",
                                    "2": "Friday",
                                    "3": "9",
                                    "4": "1994"
                                },
                                {
                                    "0": "Quiz Show",
                                    "1": "1994-09-14",
                                    "2": "Wednesday",
                                    "3": "9",
                                    "4": "1994"
                                },
                                {
                                    "0": "Terminal Velocity",
                                    "1": "1994-09-23",
                                    "2": "Friday",
                                    "3": "9",
                                    "4": "1994"
                                },
                                {
                                    "0": "Ed Wood",
                                    "1": "1994-09-30",
                                    "2": "Friday",
                                    "3": "9",
                                    "4": "1994"
                                },
                                {
                                    "0": "The Puppet Masters",
                                    "1": "1994-10-21",
                                    "2": "Friday",
                                    "3": "10",
                                    "4": "1994"
                                },
                                {
                                    "0": "Squanto: A Warrior's Tale",
                                    "1": "1994-10-28",
                                    "2": "Friday",
                                    "3": "10",
                                    "4": "1994"
                                },
                                {
                                    "0": "The Santa Clause",
                                    "1": "1994-11-11",
                                    "2": "Friday",
                                    "3": "11",
                                    "4": "1994"
                                },
                                {
                                    "0": "A Low Down Dirty Shame",
                                    "1": "1994-11-23",
                                    "2": "Wednesday",
                                    "3": "11",
                                    "4": "1994"
                                },
                                {
                                    "0": "The Jungle Book",
                                    "1": "1994-12-25",
                                    "2": "Sunday",
                                    "3": "12",
                                    "4": "1994"
                                },
                                {
                                    "0": "Houseguest",
                                    "1": "1995-01-06",
                                    "2": "Friday",
                                    "3": "1",
                                    "4": "1995"
                                },
                                {
                                    "0": "Bad Company",
                                    "1": "1995-01-20",
                                    "2": "Friday",
                                    "3": "1",
                                    "4": "1995"
                                },
                                {
                                    "0": "Miami Rhapsody",
                                    "1": "1995-01-27",
                                    "2": "Friday",
                                    "3": "1",
                                    "4": "1995"
                                },
                                {
                                    "0": "The Jerky Boys",
                                    "1": "1995-02-03",
                                    "2": "Friday",
                                    "3": "2",
                                    "4": "1995"
                                },
                                {
                                    "0": "Heavy Weights",
                                    "1": "1995-02-17",
                                    "2": "Friday",
                                    "3": "2",
                                    "4": "1995"
                                },
                                {
                                    "0": "Man of the House",
                                    "1": "1995-03-03",
                                    "2": "Friday",
                                    "3": "3",
                                    "4": "1995"
                                },
                                {
                                    "0": "Roommates",
                                    "1": "1995-03-03",
                                    "2": "Friday",
                                    "3": "3",
                                    "4": "1995"
                                },
                                {
                                    "0": "Tall Tale",
                                    "1": "1995-03-24",
                                    "2": "Friday",
                                    "3": "3",
                                    "4": "1995"
                                },
                                {
                                    "0": "A Pyromaniac's Love Story",
                                    "1": "1995-03-28",
                                    "2": "Tuesday",
                                    "3": "3",
                                    "4": "1995"
                                },
                                {
                                    "0": "Jefferson in Paris",
                                    "1": "1995-03-31",
                                    "2": "Friday",
                                    "3": "3",
                                    "4": "1995"
                                },
                                {
                                    "0": "Funny Bones",
                                    "1": "1995-03-31",
                                    "2": "Friday",
                                    "3": "3",
                                    "4": "1995"
                                },
                                {
                                    "0": "A Goofy Movie",
                                    "1": "1995-04-07",
                                    "2": "Friday",
                                    "3": "4",
                                    "4": "1995"
                                },
                                {
                                    "0": "While You Were Sleeping",
                                    "1": "1995-04-21",
                                    "2": "Friday",
                                    "3": "4",
                                    "4": "1995"
                                },
                                {
                                    "0": "Crimson Tide",
                                    "1": "1995-05-12",
                                    "2": "Friday",
                                    "3": "5",
                                    "4": "1995"
                                },
                                {
                                    "0": "Mad Love",
                                    "1": "1995-05-26",
                                    "2": "Friday",
                                    "3": "5",
                                    "4": "1995"
                                },
                                {
                                    "0": "Pocahontas",
                                    "1": "1995-06-10",
                                    "2": "Saturday",
                                    "3": "6",
                                    "4": "1995"
                                },
                                {
                                    "0": "Judge Dredd",
                                    "1": "1995-06-30",
                                    "2": "Friday",
                                    "3": "6",
                                    "4": "1995"
                                },
                                {
                                    "0": "Operation Dumbo Drop",
                                    "1": "1995-07-28",
                                    "2": "Friday",
                                    "3": "7",
                                    "4": "1995"
                                },
                                {
                                    "0": "Dangerous Minds",
                                    "1": "1995-08-11",
                                    "2": "Friday",
                                    "3": "8",
                                    "4": "1995"
                                },
                                {
                                    "0": "A Kid in King Arthur's Court",
                                    "1": "1995-08-11",
                                    "2": "Friday",
                                    "3": "8",
                                    "4": "1995"
                                },
                                {
                                    "0": "The Tie That Binds",
                                    "1": "1995-09-08",
                                    "2": "Friday",
                                    "3": "9",
                                    "4": "1995"
                                },
                                {
                                    "0": "Unstrung Heroes",
                                    "1": "1995-09-15",
                                    "2": "Friday",
                                    "3": "9",
                                    "4": "1995"
                                },
                                {
                                    "0": "The Big Green",
                                    "1": "1995-09-29",
                                    "2": "Friday",
                                    "3": "9",
                                    "4": "1995"
                                },
                                {
                                    "0": "Dead Presidents",
                                    "1": "1995-10-04",
                                    "2": "Wednesday",
                                    "3": "10",
                                    "4": "1995"
                                },
                                {
                                    "0": "The Scarlet Letter",
                                    "1": "1995-10-13",
                                    "2": "Friday",
                                    "3": "10",
                                    "4": "1995"
                                },
                                {
                                    "0": "Feast of July",
                                    "1": "1995-10-13",
                                    "2": "Friday",
                                    "3": "10",
                                    "4": "1995"
                                },
                                {
                                    "0": "Powder",
                                    "1": "1995-10-27",
                                    "2": "Friday",
                                    "3": "10",
                                    "4": "1995"
                                },
                                {
                                    "0": "Toy Story",
                                    "1": "1995-11-22",
                                    "2": "Wednesday",
                                    "3": "11",
                                    "4": "1995"
                                },
                                {
                                    "0": "Father of the Bride Part II",
                                    "1": "1995-12-08",
                                    "2": "Friday",
                                    "3": "12",
                                    "4": "1995"
                                },
                                {
                                    "0": "Nixon",
                                    "1": "1995-12-20",
                                    "2": "Wednesday",
                                    "3": "12",
                                    "4": "1995"
                                },
                                {
                                    "0": "Tom and Huck",
                                    "1": "1995-12-22",
                                    "2": "Friday",
                                    "3": "12",
                                    "4": "1995"
                                },
                                {
                                    "0": "Mr. Holland's Opus",
                                    "1": "1995-12-29",
                                    "2": "Friday",
                                    "3": "12",
                                    "4": "1995"
                                },
                                {
                                    "0": "White Squall",
                                    "1": "1996-02-02",
                                    "2": "Friday",
                                    "3": "2",
                                    "4": "1996"
                                },
                                {
                                    "0": "Muppet Treasure Island",
                                    "1": "1996-02-16",
                                    "2": "Friday",
                                    "3": "2",
                                    "4": "1996"
                                },
                                {
                                    "0": "Mr. Wrong",
                                    "1": "1996-02-16",
                                    "2": "Friday",
                                    "3": "2",
                                    "4": "1996"
                                },
                                {
                                    "0": "Before and After",
                                    "1": "1996-02-23",
                                    "2": "Friday",
                                    "3": "2",
                                    "4": "1996"
                                },
                                {
                                    "0": "Up Close & Personal",
                                    "1": "1996-03-01",
                                    "2": "Friday",
                                    "3": "3",
                                    "4": "1996"
                                },
                                {
                                    "0": "Homeward Bound II: Lost in San Franc…",
                                    "1": "1996-03-08",
                                    "2": "Friday",
                                    "3": "3",
                                    "4": "1996"
                                },
                                {
                                    "0": "Two Much",
                                    "1": "1996-03-15",
                                    "2": "Friday",
                                    "3": "3",
                                    "4": "1996"
                                },
                                {
                                    "0": "Un indien dans la ville",
                                    "1": "1996-03-22",
                                    "2": "Friday",
                                    "3": "3",
                                    "4": "1996"
                                },
                                {
                                    "0": "James and the Giant Peach",
                                    "1": "1996-04-12",
                                    "2": "Friday",
                                    "3": "4",
                                    "4": "1996"
                                },
                                {
                                    "0": "Celtic Pride",
                                    "1": "1996-04-19",
                                    "2": "Friday",
                                    "3": "4",
                                    "4": "1996"
                                },
                                {
                                    "0": "Last Dance",
                                    "1": "1996-05-03",
                                    "2": "Friday",
                                    "3": "5",
                                    "4": "1996"
                                },
                                {
                                    "0": "Boys",
                                    "1": "1996-05-10",
                                    "2": "Friday",
                                    "3": "5",
                                    "4": "1996"
                                },
                                {
                                    "0": "Spy Hard",
                                    "1": "1996-05-24",
                                    "2": "Friday",
                                    "3": "5",
                                    "4": "1996"
                                },
                                {
                                    "0": "Eddie",
                                    "1": "1996-05-31",
                                    "2": "Friday",
                                    "3": "5",
                                    "4": "1996"
                                },
                                {
                                    "0": "The Rock",
                                    "1": "1996-06-07",
                                    "2": "Friday",
                                    "3": "6",
                                    "4": "1996"
                                },
                                {
                                    "0": "The Hunchback of Notre Dame",
                                    "1": "1996-06-21",
                                    "2": "Friday",
                                    "3": "6",
                                    "4": "1996"
                                },
                                {
                                    "0": "Phenomenon",
                                    "1": "1996-07-05",
                                    "2": "Friday",
                                    "3": "7",
                                    "4": "1996"
                                },
                                {
                                    "0": "Kazaam",
                                    "1": "1996-07-17",
                                    "2": "Wednesday",
                                    "3": "7",
                                    "4": "1996"
                                },
                                {
                                    "0": "Jack",
                                    "1": "1996-08-09",
                                    "2": "Friday",
                                    "3": "8",
                                    "4": "1996"
                                },
                                {
                                    "0": "First Kid",
                                    "1": "1996-08-30",
                                    "2": "Friday",
                                    "3": "8",
                                    "4": "1996"
                                },
                                {
                                    "0": "The Rich Man's Wife",
                                    "1": "1996-09-13",
                                    "2": "Friday",
                                    "3": "9",
                                    "4": "1996"
                                },
                                {
                                    "0": "D3: The Mighty Ducks",
                                    "1": "1996-10-04",
                                    "2": "Friday",
                                    "3": "10",
                                    "4": "1996"
                                },
                                {
                                    "0": "The Associate",
                                    "1": "1996-10-25",
                                    "2": "Friday",
                                    "3": "10",
                                    "4": "1996"
                                },
                                {
                                    "0": "Ransom",
                                    "1": "1996-11-08",
                                    "2": "Friday",
                                    "3": "11",
                                    "4": "1996"
                                },
                                {
                                    "0": "The War at Home",
                                    "1": "1996-11-20",
                                    "2": "Wednesday",
                                    "3": "11",
                                    "4": "1996"
                                },
                                {
                                    "0": "101 Dalmatians",
                                    "1": "1996-11-27",
                                    "2": "Wednesday",
                                    "3": "11",
                                    "4": "1996"
                                },
                                {
                                    "0": "The Preacher's Wife",
                                    "1": "1996-12-13",
                                    "2": "Friday",
                                    "3": "12",
                                    "4": "1996"
                                },
                                {
                                    "0": "Evita",
                                    "1": "1996-12-25",
                                    "2": "Wednesday",
                                    "3": "12",
                                    "4": "1996"
                                },
                                {
                                    "0": "Metro",
                                    "1": "1997-01-17",
                                    "2": "Friday",
                                    "3": "1",
                                    "4": "1997"
                                },
                                {
                                    "0": "Prefontaine",
                                    "1": "1997-01-24",
                                    "2": "Friday",
                                    "3": "1",
                                    "4": "1997"
                                },
                                {
                                    "0": "Shadow Conspiracy",
                                    "1": "1997-01-31",
                                    "2": "Friday",
                                    "3": "1",
                                    "4": "1997"
                                },
                                {
                                    "0": "That Darn Cat",
                                    "1": "1997-02-14",
                                    "2": "Friday",
                                    "3": "2",
                                    "4": "1997"
                                },
                                {
                                    "0": "Jungle 2 Jungle",
                                    "1": "1997-03-07",
                                    "2": "Friday",
                                    "3": "3",
                                    "4": "1997"
                                },
                                {
                                    "0": "The Sixth Man",
                                    "1": "1997-03-28",
                                    "2": "Friday",
                                    "3": "3",
                                    "4": "1997"
                                },
                                {
                                    "0": "Grosse Pointe Blank",
                                    "1": "1997-04-11",
                                    "2": "Friday",
                                    "3": "4",
                                    "4": "1997"
                                },
                                {
                                    "0": "Romy and Michele's High School Reunion",
                                    "1": "1997-04-25",
                                    "2": "Friday",
                                    "3": "4",
                                    "4": "1997"
                                },
                                {
                                    "0": "Gone Fishin'",
                                    "1": "1997-05-30",
                                    "2": "Friday",
                                    "3": "5",
                                    "4": "1997"
                                },
                                {
                                    "0": "Con Air",
                                    "1": "1997-06-06",
                                    "2": "Friday",
                                    "3": "6",
                                    "4": "1997"
                                },
                                {
                                    "0": "Hercules",
                                    "1": "1997-06-13",
                                    "2": "Friday",
                                    "3": "6",
                                    "4": "1997"
                                },
                                {
                                    "0": "George Of The Jungle",
                                    "1": "1997-07-16",
                                    "2": "Wednesday",
                                    "3": "7",
                                    "4": "1997"
                                },
                                {
                                    "0": "Nothing To Lose",
                                    "1": "1997-07-18",
                                    "2": "Friday",
                                    "3": "7",
                                    "4": "1997"
                                },
                                {
                                    "0": "Air Bud",
                                    "1": "1997-08-01",
                                    "2": "Friday",
                                    "3": "8",
                                    "4": "1997"
                                },
                                {
                                    "0": "G.I. Jane",
                                    "1": "1997-08-22",
                                    "2": "Friday",
                                    "3": "8",
                                    "4": "1997"
                                },
                                {
                                    "0": "A Thousand Acres",
                                    "1": "1997-09-19",
                                    "2": "Friday",
                                    "3": "9",
                                    "4": "1997"
                                },
                                {
                                    "0": "Washington Square",
                                    "1": "1997-10-05",
                                    "2": "Sunday",
                                    "3": "10",
                                    "4": "1997"
                                },
                                {
                                    "0": "Rocket Man",
                                    "1": "1997-10-10",
                                    "2": "Friday",
                                    "3": "10",
                                    "4": "1997"
                                },
                                {
                                    "0": "Playing God",
                                    "1": "1997-10-17",
                                    "2": "Friday",
                                    "3": "10",
                                    "4": "1997"
                                },
                                {
                                    "0": "Flubber",
                                    "1": "1997-11-26",
                                    "2": "Wednesday",
                                    "3": "11",
                                    "4": "1997"
                                },
                                {
                                    "0": "An American Werewolf in Paris",
                                    "1": "1997-12-25",
                                    "2": "Thursday",
                                    "3": "12",
                                    "4": "1997"
                                },
                                {
                                    "0": "Mr. Magoo",
                                    "1": "1997-12-25",
                                    "2": "Thursday",
                                    "3": "12",
                                    "4": "1997"
                                },
                                {
                                    "0": "Kundun",
                                    "1": "1997-12-25",
                                    "2": "Thursday",
                                    "3": "12",
                                    "4": "1997"
                                },
                                {
                                    "0": "Deep Rising",
                                    "1": "1998-01-30",
                                    "2": "Friday",
                                    "3": "1",
                                    "4": "1998"
                                },
                                {
                                    "0": "Krippendorf's Tribe",
                                    "1": "1998-02-27",
                                    "2": "Friday",
                                    "3": "2",
                                    "4": "1998"
                                },
                                {
                                    "0": "An Alan Smithee Film: Burn Hollywood …",
                                    "1": "1998-02-27",
                                    "2": "Friday",
                                    "3": "2",
                                    "4": "1998"
                                },
                                {
                                    "0": "Meet the Deedles",
                                    "1": "1998-03-27",
                                    "2": "Friday",
                                    "3": "3",
                                    "4": "1998"
                                },
                                {
                                    "0": "He Got Game",
                                    "1": "1998-05-01",
                                    "2": "Friday",
                                    "3": "5",
                                    "4": "1998"
                                },
                                {
                                    "0": "The Horse Whisperer",
                                    "1": "1998-05-15",
                                    "2": "Friday",
                                    "3": "5",
                                    "4": "1998"
                                },
                                {
                                    "0": "Six Days, Seven Nights",
                                    "1": "1998-06-12",
                                    "2": "Friday",
                                    "3": "6",
                                    "4": "1998"
                                },
                                {
                                    "0": "Mulan",
                                    "1": "1998-06-19",
                                    "2": "Friday",
                                    "3": "6",
                                    "4": "1998"
                                },
                                {
                                    "0": "Armageddon",
                                    "1": "1998-07-01",
                                    "2": "Wednesday",
                                    "3": "7",
                                    "4": "1998"
                                },
                                {
                                    "0": "Jane Austen's Mafia",
                                    "1": "1998-07-24",
                                    "2": "Friday",
                                    "3": "7",
                                    "4": "1998"
                                },
                                {
                                    "0": "The Parent Trap",
                                    "1": "1998-07-29",
                                    "2": "Wednesday",
                                    "3": "7",
                                    "4": "1998"
                                },
                                {
                                    "0": "Firelight",
                                    "1": "1998-09-04",
                                    "2": "Friday",
                                    "3": "9",
                                    "4": "1998"
                                },
                                {
                                    "0": "Simon Birch",
                                    "1": "1998-09-11",
                                    "2": "Friday",
                                    "3": "9",
                                    "4": "1998"
                                },
                                {
                                    "0": "Holy Man",
                                    "1": "1998-10-09",
                                    "2": "Friday",
                                    "3": "10",
                                    "4": "1998"
                                },
                                {
                                    "0": "Beloved",
                                    "1": "1998-10-16",
                                    "2": "Friday",
                                    "3": "10",
                                    "4": "1998"
                                },
                                {
                                    "0": "The Waterboy",
                                    "1": "1998-11-06",
                                    "2": "Friday",
                                    "3": "11",
                                    "4": "1998"
                                },
                                {
                                    "0": "I'll Be Home For Christmas",
                                    "1": "1998-11-13",
                                    "2": "Friday",
                                    "3": "11",
                                    "4": "1998"
                                },
                                {
                                    "0": "A Bug's Life",
                                    "1": "1998-11-20",
                                    "2": "Friday",
                                    "3": "11",
                                    "4": "1998"
                                },
                                {
                                    "0": "Enemy of the State",
                                    "1": "1998-11-20",
                                    "2": "Friday",
                                    "3": "11",
                                    "4": "1998"
                                },
                                {
                                    "0": "Rushmore",
                                    "1": "1998-12-11",
                                    "2": "Friday",
                                    "3": "12",
                                    "4": "1998"
                                },
                                {
                                    "0": "A Civil Action",
                                    "1": "1998-12-25",
                                    "2": "Friday",
                                    "3": "12",
                                    "4": "1998"
                                },
                                {
                                    "0": "Mighty Joe Young",
                                    "1": "1998-12-25",
                                    "2": "Friday",
                                    "3": "12",
                                    "4": "1998"
                                },
                                {
                                    "0": "My Favorite Martian",
                                    "1": "1999-02-12",
                                    "2": "Friday",
                                    "3": "2",
                                    "4": "1999"
                                },
                                {
                                    "0": "The Other Sister",
                                    "1": "1999-02-26",
                                    "2": "Friday",
                                    "3": "2",
                                    "4": "1999"
                                },
                                {
                                    "0": "Doug's 1st Movie",
                                    "1": "1999-03-26",
                                    "2": "Friday",
                                    "3": "3",
                                    "4": "1999"
                                },
                                {
                                    "0": "Ten Things I Hate About You",
                                    "1": "1999-03-31",
                                    "2": "Wednesday",
                                    "3": "3",
                                    "4": "1999"
                                },
                                {
                                    "0": "Endurance",
                                    "1": "1999-05-14",
                                    "2": "Friday",
                                    "3": "5",
                                    "4": "1999"
                                },
                                {
                                    "0": "Instinct",
                                    "1": "1999-06-04",
                                    "2": "Friday",
                                    "3": "6",
                                    "4": "1999"
                                },
                                {
                                    "0": "Tarzan",
                                    "1": "1999-06-16",
                                    "2": "Wednesday",
                                    "3": "6",
                                    "4": "1999"
                                },
                                {
                                    "0": "Summer of Sam",
                                    "1": "1999-07-02",
                                    "2": "Friday",
                                    "3": "7",
                                    "4": "1999"
                                },
                                {
                                    "0": "Inspector Gadget",
                                    "1": "1999-07-23",
                                    "2": "Friday",
                                    "3": "7",
                                    "4": "1999"
                                },
                                {
                                    "0": "The Sixth Sense",
                                    "1": "1999-08-06",
                                    "2": "Friday",
                                    "3": "8",
                                    "4": "1999"
                                },
                                {
                                    "0": "The 13th Warrior",
                                    "1": "1999-08-27",
                                    "2": "Friday",
                                    "3": "8",
                                    "4": "1999"
                                },
                                {
                                    "0": "Breakfast of Champions",
                                    "1": "1999-09-17",
                                    "2": "Friday",
                                    "3": "9",
                                    "4": "1999"
                                },
                                {
                                    "0": "Mumford",
                                    "1": "1999-09-24",
                                    "2": "Friday",
                                    "3": "9",
                                    "4": "1999"
                                },
                                {
                                    "0": "Mystery, Alaska",
                                    "1": "1999-10-01",
                                    "2": "Friday",
                                    "3": "10",
                                    "4": "1999"
                                },
                                {
                                    "0": "The Straight Story",
                                    "1": "1999-10-15",
                                    "2": "Friday",
                                    "3": "10",
                                    "4": "1999"
                                },
                                {
                                    "0": "The Insider",
                                    "1": "1999-11-05",
                                    "2": "Friday",
                                    "3": "11",
                                    "4": "1999"
                                },
                                {
                                    "0": "Toy Story 2",
                                    "1": "1999-11-19",
                                    "2": "Friday",
                                    "3": "11",
                                    "4": "1999"
                                },
                                {
                                    "0": "Cradle Will Rock",
                                    "1": "1999-12-08",
                                    "2": "Wednesday",
                                    "3": "12",
                                    "4": "1999"
                                },
                                {
                                    "0": "Deuce Bigalow: Male Gigolo",
                                    "1": "1999-12-10",
                                    "2": "Friday",
                                    "3": "12",
                                    "4": "1999"
                                },
                                {
                                    "0": "Bicentennial Man",
                                    "1": "1999-12-17",
                                    "2": "Friday",
                                    "3": "12",
                                    "4": "1999"
                                },
                                {
                                    "0": "Play it to the Bone",
                                    "1": "1999-12-24",
                                    "2": "Friday",
                                    "3": "12",
                                    "4": "1999"
                                },
                                {
                                    "0": "Fantasia 2000 (IMAX)",
                                    "1": "2000-01-01",
                                    "2": "Saturday",
                                    "3": "1",
                                    "4": "2000"
                                },
                                {
                                    "0": "Gun Shy",
                                    "1": "2000-02-04",
                                    "2": "Friday",
                                    "3": "2",
                                    "4": "2000"
                                },
                                {
                                    "0": "The Tigger Movie",
                                    "1": "2000-02-11",
                                    "2": "Friday",
                                    "3": "2",
                                    "4": "2000"
                                },
                                {
                                    "0": "Mission to Mars",
                                    "1": "2000-03-10",
                                    "2": "Friday",
                                    "3": "3",
                                    "4": "2000"
                                },
                                {
                                    "0": "High Fidelity",
                                    "1": "2000-03-31",
                                    "2": "Friday",
                                    "3": "3",
                                    "4": "2000"
                                },
                                {
                                    "0": "Keeping the Faith",
                                    "1": "2000-04-14",
                                    "2": "Friday",
                                    "3": "4",
                                    "4": "2000"
                                },
                                {
                                    "0": "Dinosaur",
                                    "1": "2000-05-19",
                                    "2": "Friday",
                                    "3": "5",
                                    "4": "2000"
                                },
                                {
                                    "0": "Shanghai Noon",
                                    "1": "2000-05-26",
                                    "2": "Friday",
                                    "3": "5",
                                    "4": "2000"
                                },
                                {
                                    "0": "Gone in 60 Seconds",
                                    "1": "2000-06-09",
                                    "2": "Friday",
                                    "3": "6",
                                    "4": "2000"
                                },
                                {
                                    "0": "Fantasia 2000 (Theatrical Release)",
                                    "1": "2000-06-16",
                                    "2": "Friday",
                                    "3": "6",
                                    "4": "2000"
                                },
                                {
                                    "0": "The Kid",
                                    "1": "2000-07-07",
                                    "2": "Friday",
                                    "3": "7",
                                    "4": "2000"
                                },
                                {
                                    "0": "Coyote Ugly",
                                    "1": "2000-08-04",
                                    "2": "Friday",
                                    "3": "8",
                                    "4": "2000"
                                },
                                {
                                    "0": "The Crew",
                                    "1": "2000-08-25",
                                    "2": "Friday",
                                    "3": "8",
                                    "4": "2000"
                                },
                                {
                                    "0": "Duets",
                                    "1": "2000-09-15",
                                    "2": "Friday",
                                    "3": "9",
                                    "4": "2000"
                                },
                                {
                                    "0": "Remember the Titans",
                                    "1": "2000-09-29",
                                    "2": "Friday",
                                    "3": "9",
                                    "4": "2000"
                                },
                                {
                                    "0": "Unbreakable",
                                    "1": "2000-11-22",
                                    "2": "Wednesday",
                                    "3": "11",
                                    "4": "2000"
                                },
                                {
                                    "0": "102 Dalmatians",
                                    "1": "2000-11-22",
                                    "2": "Wednesday",
                                    "3": "11",
                                    "4": "2000"
                                },
                                {
                                    "0": "The Emperor's New Groove",
                                    "1": "2000-12-15",
                                    "2": "Friday",
                                    "3": "12",
                                    "4": "2000"
                                },
                                {
                                    "0": "O Brother, Where Art Thou?",
                                    "1": "2000-12-22",
                                    "2": "Friday",
                                    "3": "12",
                                    "4": "2000"
                                },
                                {
                                    "0": "Double Take",
                                    "1": "2001-01-12",
                                    "2": "Friday",
                                    "3": "1",
                                    "4": "2001"
                                },
                                {
                                    "0": "Recess: School's Out",
                                    "1": "2001-02-16",
                                    "2": "Friday",
                                    "3": "2",
                                    "4": "2001"
                                },
                                {
                                    "0": "Just Visiting",
                                    "1": "2001-04-06",
                                    "2": "Friday",
                                    "3": "4",
                                    "4": "2001"
                                },
                                {
                                    "0": "Pearl Harbor",
                                    "1": "2001-05-25",
                                    "2": "Friday",
                                    "3": "5",
                                    "4": "2001"
                                },
                                {
                                    "0": "Atlantis: The Lost Empire",
                                    "1": "2001-06-08",
                                    "2": "Friday",
                                    "3": "6",
                                    "4": "2001"
                                },
                                {
                                    "0": "crazy/beautiful",
                                    "1": "2001-06-29",
                                    "2": "Friday",
                                    "3": "6",
                                    "4": "2001"
                                },
                                {
                                    "0": "The Princess Diaries",
                                    "1": "2001-08-03",
                                    "2": "Friday",
                                    "3": "8",
                                    "4": "2001"
                                },
                                {
                                    "0": "Bubble Boy",
                                    "1": "2001-08-24",
                                    "2": "Friday",
                                    "3": "8",
                                    "4": "2001"
                                },
                                {
                                    "0": "Max Keeble's Big Move",
                                    "1": "2001-10-05",
                                    "2": "Friday",
                                    "3": "10",
                                    "4": "2001"
                                },
                                {
                                    "0": "Corky Romano",
                                    "1": "2001-10-12",
                                    "2": "Friday",
                                    "3": "10",
                                    "4": "2001"
                                },
                                {
                                    "0": "High Heels and Low Lifes",
                                    "1": "2001-10-26",
                                    "2": "Friday",
                                    "3": "10",
                                    "4": "2001"
                                },
                                {
                                    "0": "Monsters, Inc.",
                                    "1": "2001-11-02",
                                    "2": "Friday",
                                    "3": "11",
                                    "4": "2001"
                                },
                                {
                                    "0": "Out Cold",
                                    "1": "2001-11-21",
                                    "2": "Wednesday",
                                    "3": "11",
                                    "4": "2001"
                                },
                                {
                                    "0": "The Royal Tenenbaums",
                                    "1": "2001-12-14",
                                    "2": "Friday",
                                    "3": "12",
                                    "4": "2001"
                                },
                                {
                                    "0": "Beauty and the Beast (IMAX)",
                                    "1": "2002-01-01",
                                    "2": "Tuesday",
                                    "3": "1",
                                    "4": "2002"
                                },
                                {
                                    "0": "Frank McKlusky C.I.",
                                    "1": "2002-01-01",
                                    "2": "Tuesday",
                                    "3": "1",
                                    "4": "2002"
                                },
                                {
                                    "0": "Snow Dogs",
                                    "1": "2002-01-18",
                                    "2": "Friday",
                                    "3": "1",
                                    "4": "2002"
                                },
                                {
                                    "0": "The Count of Monte Cristo",
                                    "1": "2002-01-25",
                                    "2": "Friday",
                                    "3": "1",
                                    "4": "2002"
                                },
                                {
                                    "0": "Peter Pan: Return to Neverland",
                                    "1": "2002-02-15",
                                    "2": "Friday",
                                    "3": "2",
                                    "4": "2002"
                                },
                                {
                                    "0": "Reign of Fire",
                                    "1": "2002-02-19",
                                    "2": "Tuesday",
                                    "3": "2",
                                    "4": "2002"
                                },
                                {
                                    "0": "Sorority Boys",
                                    "1": "2002-03-22",
                                    "2": "Friday",
                                    "3": "3",
                                    "4": "2002"
                                },
                                {
                                    "0": "The Rookie",
                                    "1": "2002-03-29",
                                    "2": "Friday",
                                    "3": "3",
                                    "4": "2002"
                                },
                                {
                                    "0": "Big Trouble",
                                    "1": "2002-04-05",
                                    "2": "Friday",
                                    "3": "4",
                                    "4": "2002"
                                },
                                {
                                    "0": "ESPN's Ultimate X - The Movie",
                                    "1": "2002-05-10",
                                    "2": "Friday",
                                    "3": "5",
                                    "4": "2002"
                                },
                                {
                                    "0": "Bad Company",
                                    "1": "2002-06-07",
                                    "2": "Friday",
                                    "3": "6",
                                    "4": "2002"
                                },
                                {
                                    "0": "Lilo & Stitch",
                                    "1": "2002-06-21",
                                    "2": "Friday",
                                    "3": "6",
                                    "4": "2002"
                                },
                                {
                                    "0": "The Country Bears",
                                    "1": "2002-07-26",
                                    "2": "Friday",
                                    "3": "7",
                                    "4": "2002"
                                },
                                {
                                    "0": "Signs",
                                    "1": "2002-08-02",
                                    "2": "Friday",
                                    "3": "8",
                                    "4": "2002"
                                },
                                {
                                    "0": "Sen to Chihiro no Kamikakushi",
                                    "1": "2002-09-20",
                                    "2": "Friday",
                                    "3": "9",
                                    "4": "2002"
                                },
                                {
                                    "0": "Sweet Home Alabama",
                                    "1": "2002-09-27",
                                    "2": "Friday",
                                    "3": "9",
                                    "4": "2002"
                                },
                                {
                                    "0": "Moonlight Mile",
                                    "1": "2002-09-27",
                                    "2": "Friday",
                                    "3": "9",
                                    "4": "2002"
                                },
                                {
                                    "0": "Tuck Everlasting",
                                    "1": "2002-10-11",
                                    "2": "Friday",
                                    "3": "10",
                                    "4": "2002"
                                },
                                {
                                    "0": "The Santa Clause 2",
                                    "1": "2002-11-01",
                                    "2": "Friday",
                                    "3": "11",
                                    "4": "2002"
                                },
                                {
                                    "0": "Treasure Planet",
                                    "1": "2002-11-27",
                                    "2": "Wednesday",
                                    "3": "11",
                                    "4": "2002"
                                },
                                {
                                    "0": "The Hot Chick",
                                    "1": "2002-12-13",
                                    "2": "Friday",
                                    "3": "12",
                                    "4": "2002"
                                },
                                {
                                    "0": "25th Hour",
                                    "1": "2002-12-19",
                                    "2": "Thursday",
                                    "3": "12",
                                    "4": "2002"
                                },
                                {
                                    "0": "The Recruit",
                                    "1": "2003-01-31",
                                    "2": "Friday",
                                    "3": "1",
                                    "4": "2003"
                                },
                                {
                                    "0": "Shanghai Knights",
                                    "1": "2003-02-07",
                                    "2": "Friday",
                                    "3": "2",
                                    "4": "2003"
                                },
                                {
                                    "0": "The Jungle Book 2",
                                    "1": "2003-02-14",
                                    "2": "Friday",
                                    "3": "2",
                                    "4": "2003"
                                },
                                {
                                    "0": "Bringing Down the House",
                                    "1": "2003-03-07",
                                    "2": "Friday",
                                    "3": "3",
                                    "4": "2003"
                                },
                                {
                                    "0": "Piglet's Big Movie",
                                    "1": "2003-03-21",
                                    "2": "Friday",
                                    "3": "3",
                                    "4": "2003"
                                },
                                {
                                    "0": "Ghosts of the Abyss",
                                    "1": "2003-04-11",
                                    "2": "Friday",
                                    "3": "4",
                                    "4": "2003"
                                },
                                {
                                    "0": "Holes",
                                    "1": "2003-04-18",
                                    "2": "Friday",
                                    "3": "4",
                                    "4": "2003"
                                },
                                {
                                    "0": "The Lizzie McGuire Movie",
                                    "1": "2003-05-02",
                                    "2": "Friday",
                                    "3": "5",
                                    "4": "2003"
                                },
                                {
                                    "0": "Finding Nemo",
                                    "1": "2003-05-30",
                                    "2": "Friday",
                                    "3": "5",
                                    "4": "2003"
                                },
                                {
                                    "0": "Pirates of the Caribbean: The Curse o…",
                                    "1": "2003-07-09",
                                    "2": "Wednesday",
                                    "3": "7",
                                    "4": "2003"
                                },
                                {
                                    "0": "Freaky Friday",
                                    "1": "2003-08-06",
                                    "2": "Wednesday",
                                    "3": "8",
                                    "4": "2003"
                                },
                                {
                                    "0": "Open Range",
                                    "1": "2003-08-15",
                                    "2": "Friday",
                                    "3": "8",
                                    "4": "2003"
                                },
                                {
                                    "0": "Cold Creek Manor",
                                    "1": "2003-09-19",
                                    "2": "Friday",
                                    "3": "9",
                                    "4": "2003"
                                },
                                {
                                    "0": "Under the Tuscan Sun",
                                    "1": "2003-09-26",
                                    "2": "Friday",
                                    "3": "9",
                                    "4": "2003"
                                },
                                {
                                    "0": "Veronica Guerin",
                                    "1": "2003-10-17",
                                    "2": "Friday",
                                    "3": "10",
                                    "4": "2003"
                                },
                                {
                                    "0": "Brother Bear",
                                    "1": "2003-10-24",
                                    "2": "Friday",
                                    "3": "10",
                                    "4": "2003"
                                },
                                {
                                    "0": "The Haunted Mansion",
                                    "1": "2003-11-26",
                                    "2": "Wednesday",
                                    "3": "11",
                                    "4": "2003"
                                },
                                {
                                    "0": "Calendar Girls",
                                    "1": "2003-12-19",
                                    "2": "Friday",
                                    "3": "12",
                                    "4": "2003"
                                },
                                {
                                    "0": "Young Black Stallion",
                                    "1": "2003-12-25",
                                    "2": "Thursday",
                                    "3": "12",
                                    "4": "2003"
                                },
                                {
                                    "0": "Teacher's Pet: The Movie",
                                    "1": "2004-01-16",
                                    "2": "Friday",
                                    "3": "1",
                                    "4": "2004"
                                },
                                {
                                    "0": "Miracle",
                                    "1": "2004-02-06",
                                    "2": "Friday",
                                    "3": "2",
                                    "4": "2004"
                                },
                                {
                                    "0": "Confessions of a Teenage Drama Queen",
                                    "1": "2004-02-20",
                                    "2": "Friday",
                                    "3": "2",
                                    "4": "2004"
                                },
                                {
                                    "0": "Hidalgo",
                                    "1": "2004-03-05",
                                    "2": "Friday",
                                    "3": "3",
                                    "4": "2004"
                                },
                                {
                                    "0": "The Ladykillers",
                                    "1": "2004-03-26",
                                    "2": "Friday",
                                    "3": "3",
                                    "4": "2004"
                                },
                                {
                                    "0": "Home on the Range",
                                    "1": "2004-04-02",
                                    "2": "Friday",
                                    "3": "4",
                                    "4": "2004"
                                },
                                {
                                    "0": "The Alamo",
                                    "1": "2004-04-09",
                                    "2": "Friday",
                                    "3": "4",
                                    "4": "2004"
                                },
                                {
                                    "0": "Raising Helen",
                                    "1": "2004-05-28",
                                    "2": "Friday",
                                    "3": "5",
                                    "4": "2004"
                                },
                                {
                                    "0": "Around the World in 80 Days",
                                    "1": "2004-06-16",
                                    "2": "Wednesday",
                                    "3": "6",
                                    "4": "2004"
                                },
                                {
                                    "0": "America's Heart and Soul",
                                    "1": "2004-07-02",
                                    "2": "Friday",
                                    "3": "7",
                                    "4": "2004"
                                },
                                {
                                    "0": "King Arthur",
                                    "1": "2004-07-07",
                                    "2": "Wednesday",
                                    "3": "7",
                                    "4": "2004"
                                },
                                {
                                    "0": "The Village",
                                    "1": "2004-07-30",
                                    "2": "Friday",
                                    "3": "7",
                                    "4": "2004"
                                },
                                {
                                    "0": "The Princess Diaries 2: Royal Engagement",
                                    "1": "2004-08-11",
                                    "2": "Wednesday",
                                    "3": "8",
                                    "4": "2004"
                                },
                                {
                                    "0": "Mr. 3000",
                                    "1": "2004-09-17",
                                    "2": "Friday",
                                    "3": "9",
                                    "4": "2004"
                                },
                                {
                                    "0": "The Last Shot",
                                    "1": "2004-09-24",
                                    "2": "Friday",
                                    "3": "9",
                                    "4": "2004"
                                },
                                {
                                    "0": "Ladder 49",
                                    "1": "2004-10-01",
                                    "2": "Friday",
                                    "3": "10",
                                    "4": "2004"
                                },
                                {
                                    "0": "The Incredibles",
                                    "1": "2004-11-05",
                                    "2": "Friday",
                                    "3": "11",
                                    "4": "2004"
                                },
                                {
                                    "0": "National Treasure",
                                    "1": "2004-11-19",
                                    "2": "Friday",
                                    "3": "11",
                                    "4": "2004"
                                },
                                {
                                    "0": "The Life Aquatic with Steve Zissou",
                                    "1": "2004-12-10",
                                    "2": "Friday",
                                    "3": "12",
                                    "4": "2004"
                                },
                                {
                                    "0": "Aliens of the Deep",
                                    "1": "2005-01-28",
                                    "2": "Friday",
                                    "3": "1",
                                    "4": "2005"
                                },
                                {
                                    "0": "Pooh's Heffalump Movie",
                                    "1": "2005-02-11",
                                    "2": "Friday",
                                    "3": "2",
                                    "4": "2005"
                                },
                                {
                                    "0": "The Pacifier",
                                    "1": "2005-03-04",
                                    "2": "Friday",
                                    "3": "3",
                                    "4": "2005"
                                },
                                {
                                    "0": "Ice Princess",
                                    "1": "2005-03-18",
                                    "2": "Friday",
                                    "3": "3",
                                    "4": "2005"
                                },
                                {
                                    "0": "A Lot Like Love",
                                    "1": "2005-04-22",
                                    "2": "Friday",
                                    "3": "4",
                                    "4": "2005"
                                },
                                {
                                    "0": "The Hitchhiker's Guide to the Galaxy",
                                    "1": "2005-04-29",
                                    "2": "Friday",
                                    "3": "4",
                                    "4": "2005"
                                },
                                {
                                    "0": "Hauru no ugoku shiro",
                                    "1": "2005-06-10",
                                    "2": "Friday",
                                    "3": "6",
                                    "4": "2005"
                                },
                                {
                                    "0": "Herbie: Fully Loaded",
                                    "1": "2005-06-22",
                                    "2": "Wednesday",
                                    "3": "6",
                                    "4": "2005"
                                },
                                {
                                    "0": "Dark Water",
                                    "1": "2005-07-08",
                                    "2": "Friday",
                                    "3": "7",
                                    "4": "2005"
                                },
                                {
                                    "0": "Sky High",
                                    "1": "2005-07-29",
                                    "2": "Friday",
                                    "3": "7",
                                    "4": "2005"
                                },
                                {
                                    "0": "Valiant",
                                    "1": "2005-08-19",
                                    "2": "Friday",
                                    "3": "8",
                                    "4": "2005"
                                },
                                {
                                    "0": "Flightplan",
                                    "1": "2005-09-23",
                                    "2": "Friday",
                                    "3": "9",
                                    "4": "2005"
                                },
                                {
                                    "0": "The Greatest Game Ever Played",
                                    "1": "2005-09-30",
                                    "2": "Friday",
                                    "3": "9",
                                    "4": "2005"
                                },
                                {
                                    "0": "Shopgirl",
                                    "1": "2005-10-21",
                                    "2": "Friday",
                                    "3": "10",
                                    "4": "2005"
                                },
                                {
                                    "0": "Chicken Little",
                                    "1": "2005-11-04",
                                    "2": "Friday",
                                    "3": "11",
                                    "4": "2005"
                                },
                                {
                                    "0": "The Chronicles of Narnia: The Lion, t…",
                                    "1": "2005-12-09",
                                    "2": "Friday",
                                    "3": "12",
                                    "4": "2005"
                                },
                                {
                                    "0": "Casanova",
                                    "1": "2005-12-25",
                                    "2": "Sunday",
                                    "3": "12",
                                    "4": "2005"
                                },
                                {
                                    "0": "Glory Road",
                                    "1": "2006-01-13",
                                    "2": "Friday",
                                    "3": "1",
                                    "4": "2006"
                                },
                                {
                                    "0": "Annapolis",
                                    "1": "2006-01-27",
                                    "2": "Friday",
                                    "3": "1",
                                    "4": "2006"
                                },
                                {
                                    "0": "Roving Mars",
                                    "1": "2006-01-27",
                                    "2": "Friday",
                                    "3": "1",
                                    "4": "2006"
                                },
                                {
                                    "0": "Eight Below",
                                    "1": "2006-02-17",
                                    "2": "Friday",
                                    "3": "2",
                                    "4": "2006"
                                },
                                {
                                    "0": "The Shaggy Dog",
                                    "1": "2006-03-10",
                                    "2": "Friday",
                                    "3": "3",
                                    "4": "2006"
                                },
                                {
                                    "0": "Stay Alive",
                                    "1": "2006-03-24",
                                    "2": "Friday",
                                    "3": "3",
                                    "4": "2006"
                                },
                                {
                                    "0": "The Wild",
                                    "1": "2006-04-14",
                                    "2": "Friday",
                                    "3": "4",
                                    "4": "2006"
                                },
                                {
                                    "0": "Stick It",
                                    "1": "2006-04-28",
                                    "2": "Friday",
                                    "3": "4",
                                    "4": "2006"
                                },
                                {
                                    "0": "Goal! The Dream Begins",
                                    "1": "2006-05-12",
                                    "2": "Friday",
                                    "3": "5",
                                    "4": "2006"
                                },
                                {
                                    "0": "Cars",
                                    "1": "2006-06-09",
                                    "2": "Friday",
                                    "3": "6",
                                    "4": "2006"
                                },
                                {
                                    "0": "Pirates of the Caribbean: Dead Man’…",
                                    "1": "2006-07-07",
                                    "2": "Friday",
                                    "3": "7",
                                    "4": "2006"
                                },
                                {
                                    "0": "Step Up",
                                    "1": "2006-08-11",
                                    "2": "Friday",
                                    "3": "8",
                                    "4": "2006"
                                },
                                {
                                    "0": "Invincible",
                                    "1": "2006-08-25",
                                    "2": "Friday",
                                    "3": "8",
                                    "4": "2006"
                                },
                                {
                                    "0": "The Guardian",
                                    "1": "2006-09-29",
                                    "2": "Friday",
                                    "3": "9",
                                    "4": "2006"
                                },
                                {
                                    "0": "The Prestige",
                                    "1": "2006-10-20",
                                    "2": "Friday",
                                    "3": "10",
                                    "4": "2006"
                                },
                                {
                                    "0": "Tim Burton's The Nightmare Before Chr…",
                                    "1": "2006-10-20",
                                    "2": "Friday",
                                    "3": "10",
                                    "4": "2006"
                                },
                                {
                                    "0": "The Santa Clause 3: The Escape Clause",
                                    "1": "2006-11-03",
                                    "2": "Friday",
                                    "3": "11",
                                    "4": "2006"
                                },
                                {
                                    "0": "Déjà Vu",
                                    "1": "2006-11-22",
                                    "2": "Wednesday",
                                    "3": "11",
                                    "4": "2006"
                                },
                                {
                                    "0": "Apocalypto",
                                    "1": "2006-12-08",
                                    "2": "Friday",
                                    "3": "12",
                                    "4": "2006"
                                },
                                {
                                    "0": "Primeval",
                                    "1": "2007-01-12",
                                    "2": "Friday",
                                    "3": "1",
                                    "4": "2007"
                                },
                                {
                                    "0": "Bridge to Terabithia",
                                    "1": "2007-02-16",
                                    "2": "Friday",
                                    "3": "2",
                                    "4": "2007"
                                },
                                {
                                    "0": "Wild Hogs",
                                    "1": "2007-03-02",
                                    "2": "Friday",
                                    "3": "3",
                                    "4": "2007"
                                },
                                {
                                    "0": "Meet the Robinsons",
                                    "1": "2007-03-30",
                                    "2": "Friday",
                                    "3": "3",
                                    "4": "2007"
                                },
                                {
                                    "0": "The Lookout",
                                    "1": "2007-03-30",
                                    "2": "Friday",
                                    "3": "3",
                                    "4": "2007"
                                },
                                {
                                    "0": "The Hoax",
                                    "1": "2007-04-06",
                                    "2": "Friday",
                                    "3": "4",
                                    "4": "2007"
                                },
                                {
                                    "0": "The Invisible",
                                    "1": "2007-04-27",
                                    "2": "Friday",
                                    "3": "4",
                                    "4": "2007"
                                },
                                {
                                    "0": "Pirates of the Caribbean: At World’…",
                                    "1": "2007-05-24",
                                    "2": "Thursday",
                                    "3": "5",
                                    "4": "2007"
                                },
                                {
                                    "0": "Ratatouille",
                                    "1": "2007-06-29",
                                    "2": "Friday",
                                    "3": "6",
                                    "4": "2007"
                                },
                                {
                                    "0": "Underdog",
                                    "1": "2007-08-03",
                                    "2": "Friday",
                                    "3": "8",
                                    "4": "2007"
                                },
                                {
                                    "0": "The Game Plan",
                                    "1": "2007-09-22",
                                    "2": "Saturday",
                                    "3": "9",
                                    "4": "2007"
                                },
                                {
                                    "0": "Dan in Real Life",
                                    "1": "2007-10-20",
                                    "2": "Saturday",
                                    "3": "10",
                                    "4": "2007"
                                },
                                {
                                    "0": "Enchanted",
                                    "1": "2007-11-21",
                                    "2": "Wednesday",
                                    "3": "11",
                                    "4": "2007"
                                },
                                {
                                    "0": "National Treasure 2: Book of Secrets",
                                    "1": "2007-12-21",
                                    "2": "Friday",
                                    "3": "12",
                                    "4": "2007"
                                },
                                {
                                    "0": "Hannah Montana/Miley Cyrus: Best of B…",
                                    "1": "2008-02-01",
                                    "2": "Friday",
                                    "3": "2",
                                    "4": "2008"
                                },
                                {
                                    "0": "Step Up 2 the Streets",
                                    "1": "2008-02-14",
                                    "2": "Thursday",
                                    "3": "2",
                                    "4": "2008"
                                },
                                {
                                    "0": "College Road Trip",
                                    "1": "2008-03-07",
                                    "2": "Friday",
                                    "3": "3",
                                    "4": "2008"
                                },
                                {
                                    "0": "The Chronicles of Narnia: Prince Caspian",
                                    "1": "2008-05-16",
                                    "2": "Friday",
                                    "3": "5",
                                    "4": "2008"
                                },
                                {
                                    "0": "WALL-E",
                                    "1": "2008-06-27",
                                    "2": "Friday",
                                    "3": "6",
                                    "4": "2008"
                                },
                                {
                                    "0": "Swing Vote",
                                    "1": "2008-08-01",
                                    "2": "Friday",
                                    "3": "8",
                                    "4": "2008"
                                },
                                {
                                    "0": "Goal! 2: Living the Dream...",
                                    "1": "2008-08-29",
                                    "2": "Friday",
                                    "3": "8",
                                    "4": "2008"
                                },
                                {
                                    "0": "Miracle at St. Anna",
                                    "1": "2008-09-26",
                                    "2": "Friday",
                                    "3": "9",
                                    "4": "2008"
                                },
                                {
                                    "0": "Beverly Hills Chihuahua",
                                    "1": "2008-10-03",
                                    "2": "Friday",
                                    "3": "10",
                                    "4": "2008"
                                },
                                {
                                    "0": "Morning Light",
                                    "1": "2008-10-17",
                                    "2": "Friday",
                                    "3": "10",
                                    "4": "2008"
                                },
                                {
                                    "0": "High School Musical 3: Senior Year",
                                    "1": "2008-10-24",
                                    "2": "Friday",
                                    "3": "10",
                                    "4": "2008"
                                },
                                {
                                    "0": "Bolt",
                                    "1": "2008-11-21",
                                    "2": "Friday",
                                    "3": "11",
                                    "4": "2008"
                                },
                                {
                                    "0": "Bedtime Stories",
                                    "1": "2008-12-25",
                                    "2": "Thursday",
                                    "3": "12",
                                    "4": "2008"
                                },
                                {
                                    "0": "Confessions of a Shopaholic",
                                    "1": "2009-02-13",
                                    "2": "Friday",
                                    "3": "2",
                                    "4": "2009"
                                },
                                {
                                    "0": "Jonas Brothers: The 3D Concert Experi…",
                                    "1": "2009-02-27",
                                    "2": "Friday",
                                    "3": "2",
                                    "4": "2009"
                                },
                                {
                                    "0": "Race to Witch Mountain",
                                    "1": "2009-03-13",
                                    "2": "Friday",
                                    "3": "3",
                                    "4": "2009"
                                },
                                {
                                    "0": "Hannah Montana the Movie",
                                    "1": "2009-04-10",
                                    "2": "Friday",
                                    "3": "4",
                                    "4": "2009"
                                },
                                {
                                    "0": "Earth",
                                    "1": "2009-04-22",
                                    "2": "Wednesday",
                                    "3": "4",
                                    "4": "2009"
                                },
                                {
                                    "0": "Up",
                                    "1": "2009-05-29",
                                    "2": "Friday",
                                    "3": "5",
                                    "4": "2009"
                                },
                                {
                                    "0": "The Proposal",
                                    "1": "2009-06-19",
                                    "2": "Friday",
                                    "3": "6",
                                    "4": "2009"
                                },
                                {
                                    "0": "G-Force",
                                    "1": "2009-07-24",
                                    "2": "Friday",
                                    "3": "7",
                                    "4": "2009"
                                },
                                {
                                    "0": "Gake no ue no Ponyo",
                                    "1": "2009-08-14",
                                    "2": "Friday",
                                    "3": "8",
                                    "4": "2009"
                                },
                                {
                                    "0": "X Games 3D: The Movie",
                                    "1": "2009-08-21",
                                    "2": "Friday",
                                    "3": "8",
                                    "4": "2009"
                                },
                                {
                                    "0": "Walt and El Grupo",
                                    "1": "2009-09-10",
                                    "2": "Thursday",
                                    "3": "9",
                                    "4": "2009"
                                },
                                {
                                    "0": "Surrogates",
                                    "1": "2009-09-25",
                                    "2": "Friday",
                                    "3": "9",
                                    "4": "2009"
                                },
                                {
                                    "0": "Toy Story 3D Double Feature",
                                    "1": "2009-10-02",
                                    "2": "Friday",
                                    "3": "10",
                                    "4": "2009"
                                },
                                {
                                    "0": "Disney's A Christmas Carol",
                                    "1": "2009-11-06",
                                    "2": "Friday",
                                    "3": "11",
                                    "4": "2009"
                                },
                                {
                                    "0": "The Princess and the Frog",
                                    "1": "2009-11-25",
                                    "2": "Wednesday",
                                    "3": "11",
                                    "4": "2009"
                                },
                                {
                                    "0": "Old Dogs",
                                    "1": "2009-11-25",
                                    "2": "Wednesday",
                                    "3": "11",
                                    "4": "2009"
                                },
                                {
                                    "0": "When in Rome",
                                    "1": "2010-01-29",
                                    "2": "Friday",
                                    "3": "1",
                                    "4": "2010"
                                },
                                {
                                    "0": "Alice in Wonderland",
                                    "1": "2010-03-05",
                                    "2": "Friday",
                                    "3": "3",
                                    "4": "2010"
                                },
                                {
                                    "0": "Waking Sleeping Beauty",
                                    "1": "2010-03-26",
                                    "2": "Friday",
                                    "3": "3",
                                    "4": "2010"
                                },
                                {
                                    "0": "The Last Song",
                                    "1": "2010-03-31",
                                    "2": "Wednesday",
                                    "3": "3",
                                    "4": "2010"
                                },
                                {
                                    "0": "Oceans",
                                    "1": "2010-04-22",
                                    "2": "Thursday",
                                    "3": "4",
                                    "4": "2010"
                                },
                                {
                                    "0": "Prince of Persia: Sands of Time",
                                    "1": "2010-05-28",
                                    "2": "Friday",
                                    "3": "5",
                                    "4": "2010"
                                },
                                {
                                    "0": "Toy Story 3",
                                    "1": "2010-06-18",
                                    "2": "Friday",
                                    "3": "6",
                                    "4": "2010"
                                },
                                {
                                    "0": "The Sorcerer's Apprentice",
                                    "1": "2010-07-14",
                                    "2": "Wednesday",
                                    "3": "7",
                                    "4": "2010"
                                },
                                {
                                    "0": "Step Up 3D",
                                    "1": "2010-08-06",
                                    "2": "Friday",
                                    "3": "8",
                                    "4": "2010"
                                },
                                {
                                    "0": "Gedo Senki (Tales from Earthsea)",
                                    "1": "2010-08-13",
                                    "2": "Friday",
                                    "3": "8",
                                    "4": "2010"
                                },
                                {
                                    "0": "You Again",
                                    "1": "2010-09-24",
                                    "2": "Friday",
                                    "3": "9",
                                    "4": "2010"
                                },
                                {
                                    "0": "Secretariat",
                                    "1": "2010-10-08",
                                    "2": "Friday",
                                    "3": "10",
                                    "4": "2010"
                                },
                                {
                                    "0": "Tangled",
                                    "1": "2010-11-24",
                                    "2": "Wednesday",
                                    "3": "11",
                                    "4": "2010"
                                },
                                {
                                    "0": "Tron: Legacy",
                                    "1": "2010-12-17",
                                    "2": "Friday",
                                    "3": "12",
                                    "4": "2010"
                                },
                                {
                                    "0": "Gnomeo and Juliet",
                                    "1": "2011-02-11",
                                    "2": "Friday",
                                    "3": "2",
                                    "4": "2011"
                                },
                                {
                                    "0": "I am Number Four",
                                    "1": "2011-02-18",
                                    "2": "Friday",
                                    "3": "2",
                                    "4": "2011"
                                },
                                {
                                    "0": "Mars Needs Moms",
                                    "1": "2011-03-11",
                                    "2": "Friday",
                                    "3": "3",
                                    "4": "2011"
                                },
                                {
                                    "0": "African Cats",
                                    "1": "2011-04-22",
                                    "2": "Friday",
                                    "3": "4",
                                    "4": "2011"
                                },
                                {
                                    "0": "Zokkomon",
                                    "1": "2011-04-22",
                                    "2": "Friday",
                                    "3": "4",
                                    "4": "2011"
                                },
                                {
                                    "0": "Prom",
                                    "1": "2011-04-29",
                                    "2": "Friday",
                                    "3": "4",
                                    "4": "2011"
                                },
                                {
                                    "0": "Pirates of the Caribbean: On Stranger…",
                                    "1": "2011-05-20",
                                    "2": "Friday",
                                    "3": "5",
                                    "4": "2011"
                                },
                                {
                                    "0": "Cars 2",
                                    "1": "2011-06-24",
                                    "2": "Friday",
                                    "3": "6",
                                    "4": "2011"
                                },
                                {
                                    "0": "Winnie the Pooh",
                                    "1": "2011-07-15",
                                    "2": "Friday",
                                    "3": "7",
                                    "4": "2011"
                                },
                                {
                                    "0": "The Help",
                                    "1": "2011-08-10",
                                    "2": "Wednesday",
                                    "3": "8",
                                    "4": "2011"
                                },
                                {
                                    "0": "Fright Night",
                                    "1": "2011-08-19",
                                    "2": "Friday",
                                    "3": "8",
                                    "4": "2011"
                                },
                                {
                                    "0": "Real Steel",
                                    "1": "2011-10-07",
                                    "2": "Friday",
                                    "3": "10",
                                    "4": "2011"
                                },
                                {
                                    "0": "The Muppets",
                                    "1": "2011-11-23",
                                    "2": "Wednesday",
                                    "3": "11",
                                    "4": "2011"
                                },
                                {
                                    "0": "War Horse",
                                    "1": "2011-12-25",
                                    "2": "Sunday",
                                    "3": "12",
                                    "4": "2011"
                                },
                                {
                                    "0": "The Secret World of Arietty",
                                    "1": "2012-02-17",
                                    "2": "Friday",
                                    "3": "2",
                                    "4": "2012"
                                },
                                {
                                    "0": "John Carter",
                                    "1": "2012-03-09",
                                    "2": "Friday",
                                    "3": "3",
                                    "4": "2012"
                                },
                                {
                                    "0": "Chimpanzee",
                                    "1": "2012-04-20",
                                    "2": "Friday",
                                    "3": "4",
                                    "4": "2012"
                                },
                                {
                                    "0": "The Avengers",
                                    "1": "2012-05-04",
                                    "2": "Friday",
                                    "3": "5",
                                    "4": "2012"
                                },
                                {
                                    "0": "Brave",
                                    "1": "2012-06-22",
                                    "2": "Friday",
                                    "3": "6",
                                    "4": "2012"
                                },
                                {
                                    "0": "People Like Us",
                                    "1": "2012-06-29",
                                    "2": "Friday",
                                    "3": "6",
                                    "4": "2012"
                                },
                                {
                                    "0": "The Odd Life of Timothy Green",
                                    "1": "2012-08-15",
                                    "2": "Wednesday",
                                    "3": "8",
                                    "4": "2012"
                                },
                                {
                                    "0": "Frankenweenie",
                                    "1": "2012-10-05",
                                    "2": "Friday",
                                    "3": "10",
                                    "4": "2012"
                                },
                                {
                                    "0": "Wreck-It Ralph",
                                    "1": "2012-11-02",
                                    "2": "Friday",
                                    "3": "11",
                                    "4": "2012"
                                },
                                {
                                    "0": "Lincoln",
                                    "1": "2012-11-09",
                                    "2": "Friday",
                                    "3": "11",
                                    "4": "2012"
                                },
                                {
                                    "0": "Oz the Great and Powerful",
                                    "1": "2013-03-08",
                                    "2": "Friday",
                                    "3": "3",
                                    "4": "2013"
                                },
                                {
                                    "0": "Iron Man 3",
                                    "1": "2013-05-03",
                                    "2": "Friday",
                                    "3": "5",
                                    "4": "2013"
                                },
                                {
                                    "0": "Monsters University",
                                    "1": "2013-06-21",
                                    "2": "Friday",
                                    "3": "6",
                                    "4": "2013"
                                },
                                {
                                    "0": "The Lone Ranger",
                                    "1": "2013-07-02",
                                    "2": "Tuesday",
                                    "3": "7",
                                    "4": "2013"
                                },
                                {
                                    "0": "Disney Planes",
                                    "1": "2013-08-09",
                                    "2": "Friday",
                                    "3": "8",
                                    "4": "2013"
                                },
                                {
                                    "0": "The Fifth Estate",
                                    "1": "2013-10-18",
                                    "2": "Friday",
                                    "3": "10",
                                    "4": "2013"
                                },
                                {
                                    "0": "Thor: The Dark World",
                                    "1": "2013-11-08",
                                    "2": "Friday",
                                    "3": "11",
                                    "4": "2013"
                                },
                                {
                                    "0": "Kaze Tachinu",
                                    "1": "2013-11-08",
                                    "2": "Friday",
                                    "3": "11",
                                    "4": "2013"
                                },
                                {
                                    "0": "Frozen",
                                    "1": "2013-11-22",
                                    "2": "Friday",
                                    "3": "11",
                                    "4": "2013"
                                },
                                {
                                    "0": "Delivery Man",
                                    "1": "2013-11-22",
                                    "2": "Friday",
                                    "3": "11",
                                    "4": "2013"
                                },
                                {
                                    "0": "Saving Mr. Banks",
                                    "1": "2013-12-13",
                                    "2": "Friday",
                                    "3": "12",
                                    "4": "2013"
                                },
                                {
                                    "0": "Need for Speed",
                                    "1": "2014-03-14",
                                    "2": "Friday",
                                    "3": "3",
                                    "4": "2014"
                                },
                                {
                                    "0": "Muppets Most Wanted",
                                    "1": "2014-03-21",
                                    "2": "Friday",
                                    "3": "3",
                                    "4": "2014"
                                },
                                {
                                    "0": "Captain America: The Winter Soldier",
                                    "1": "2014-04-04",
                                    "2": "Friday",
                                    "3": "4",
                                    "4": "2014"
                                },
                                {
                                    "0": "Bears",
                                    "1": "2014-04-18",
                                    "2": "Friday",
                                    "3": "4",
                                    "4": "2014"
                                },
                                {
                                    "0": "Million Dollar Arm",
                                    "1": "2014-05-10",
                                    "2": "Saturday",
                                    "3": "5",
                                    "4": "2014"
                                },
                                {
                                    "0": "Maleficent",
                                    "1": "2014-05-30",
                                    "2": "Friday",
                                    "3": "5",
                                    "4": "2014"
                                },
                                {
                                    "0": "Planes: Fire and Rescue",
                                    "1": "2014-07-18",
                                    "2": "Friday",
                                    "3": "7",
                                    "4": "2014"
                                },
                                {
                                    "0": "Guardians of the Galaxy",
                                    "1": "2014-08-01",
                                    "2": "Friday",
                                    "3": "8",
                                    "4": "2014"
                                },
                                {
                                    "0": "The Hundred-Foot Journey",
                                    "1": "2014-08-08",
                                    "2": "Friday",
                                    "3": "8",
                                    "4": "2014"
                                },
                                {
                                    "0": "Alexander and the Terrible, Horrible,…",
                                    "1": "2014-10-10",
                                    "2": "Friday",
                                    "3": "10",
                                    "4": "2014"
                                },
                                {
                                    "0": "Big Hero 6",
                                    "1": "2014-11-07",
                                    "2": "Friday",
                                    "3": "11",
                                    "4": "2014"
                                },
                                {
                                    "0": "Into the Woods",
                                    "1": "2014-12-25",
                                    "2": "Thursday",
                                    "3": "12",
                                    "4": "2014"
                                },
                                {
                                    "0": "Strange Magic",
                                    "1": "2015-01-23",
                                    "2": "Friday",
                                    "3": "1",
                                    "4": "2015"
                                },
                                {
                                    "0": "McFarland, USA",
                                    "1": "2015-02-20",
                                    "2": "Friday",
                                    "3": "2",
                                    "4": "2015"
                                },
                                {
                                    "0": "Cinderella",
                                    "1": "2015-03-13",
                                    "2": "Friday",
                                    "3": "3",
                                    "4": "2015"
                                },
                                {
                                    "0": "Monkey Kingdom",
                                    "1": "2015-04-17",
                                    "2": "Friday",
                                    "3": "4",
                                    "4": "2015"
                                },
                                {
                                    "0": "Avengers: Age of Ultron",
                                    "1": "2015-05-01",
                                    "2": "Friday",
                                    "3": "5",
                                    "4": "2015"
                                },
                                {
                                    "0": "Tomorrowland",
                                    "1": "2015-05-22",
                                    "2": "Friday",
                                    "3": "5",
                                    "4": "2015"
                                },
                                {
                                    "0": "Inside Out",
                                    "1": "2015-06-19",
                                    "2": "Friday",
                                    "3": "6",
                                    "4": "2015"
                                },
                                {
                                    "0": "Ant-Man",
                                    "1": "2015-07-17",
                                    "2": "Friday",
                                    "3": "7",
                                    "4": "2015"
                                },
                                {
                                    "0": "Bridge of Spies",
                                    "1": "2015-10-16",
                                    "2": "Friday",
                                    "3": "10",
                                    "4": "2015"
                                },
                                {
                                    "0": "The Good Dinosaur",
                                    "1": "2015-11-25",
                                    "2": "Wednesday",
                                    "3": "11",
                                    "4": "2015"
                                },
                                {
                                    "0": "Star Wars Ep. VII: The Force Awakens",
                                    "1": "2015-12-18",
                                    "2": "Friday",
                                    "3": "12",
                                    "4": "2015"
                                },
                                {
                                    "0": "The Finest Hours",
                                    "1": "2016-01-29",
                                    "2": "Friday",
                                    "3": "1",
                                    "4": "2016"
                                },
                                {
                                    "0": "Zootopia",
                                    "1": "2016-03-04",
                                    "2": "Friday",
                                    "3": "3",
                                    "4": "2016"
                                },
                                {
                                    "0": "The Jungle Book",
                                    "1": "2016-04-15",
                                    "2": "Friday",
                                    "3": "4",
                                    "4": "2016"
                                },
                                {
                                    "0": "A Beautiful Planet",
                                    "1": "2016-04-29",
                                    "2": "Friday",
                                    "3": "4",
                                    "4": "2016"
                                },
                                {
                                    "0": "Captain America: Civil War",
                                    "1": "2016-05-06",
                                    "2": "Friday",
                                    "3": "5",
                                    "4": "2016"
                                },
                                {
                                    "0": "Alice Through the Looking Glass",
                                    "1": "2016-05-27",
                                    "2": "Friday",
                                    "3": "5",
                                    "4": "2016"
                                },
                                {
                                    "0": "Finding Dory",
                                    "1": "2016-06-17",
                                    "2": "Friday",
                                    "3": "6",
                                    "4": "2016"
                                },
                                {
                                    "0": "The BFG",
                                    "1": "2016-07-01",
                                    "2": "Friday",
                                    "3": "7",
                                    "4": "2016"
                                },
                                {
                                    "0": "Pete’s Dragon",
                                    "1": "2016-08-12",
                                    "2": "Friday",
                                    "3": "8",
                                    "4": "2016"
                                },
                                {
                                    "0": "The Light Between Oceans",
                                    "1": "2016-09-02",
                                    "2": "Friday",
                                    "3": "9",
                                    "4": "2016"
                                },
                                {
                                    "0": "Queen of Katwe",
                                    "1": "2016-09-23",
                                    "2": "Friday",
                                    "3": "9",
                                    "4": "2016"
                                },
                                {
                                    "0": "Doctor Strange",
                                    "1": "2016-11-04",
                                    "2": "Friday",
                                    "3": "11",
                                    "4": "2016"
                                },
                                {
                                    "0": "Moana",
                                    "1": "2016-11-23",
                                    "2": "Wednesday",
                                    "3": "11",
                                    "4": "2016"
                                },
                                {
                                    "0": "Rogue One: A Star Wars Story",
                                    "1": "2016-12-16",
                                    "2": "Friday",
                                    "3": "12",
                                    "4": "2016"
                                }
                            ]
                        },
                        "text/html": "<table><tr><th>movie_title</th><th>release_date</th><th>weekday</th><th>month</th><th>year</th></tr><tr><td>Snow White and the Seven Dwarfs</td><td>1937-12-21</td><td>Tuesday</td><td>12</td><td>1937</td></tr><tr><td>Pinocchio</td><td>1940-02-09</td><td>Friday</td><td>2</td><td>1940</td></tr><tr><td>Fantasia</td><td>1940-11-13</td><td>Wednesday</td><td>11</td><td>1940</td></tr><tr><td>Song of the South</td><td>1946-11-12</td><td>Tuesday</td><td>11</td><td>1946</td></tr><tr><td>Cinderella</td><td>1950-02-15</td><td>Wednesday</td><td>2</td><td>1950</td></tr><tr><td>20,000 Leagues Under the Sea</td><td>1954-12-23</td><td>Thursday</td><td>12</td><td>1954</td></tr><tr><td>Lady and the Tramp</td><td>1955-06-22</td><td>Wednesday</td><td>6</td><td>1955</td></tr><tr><td>Sleeping Beauty</td><td>1959-01-29</td><td>Thursday</td><td>1</td><td>1959</td></tr><tr><td>101 Dalmatians</td><td>1961-01-25</td><td>Wednesday</td><td>1</td><td>1961</td></tr><tr><td>The Absent Minded Professor</td><td>1961-03-16</td><td>Thursday</td><td>3</td><td>1961</td></tr><tr><td>Babes in Toyland</td><td>1961-12-14</td><td>Thursday</td><td>12</td><td>1961</td></tr><tr><td>Bon Voyage!</td><td>1962-05-17</td><td>Thursday</td><td>5</td><td>1962</td></tr><tr><td>The Sword in the Stone</td><td>1963-12-25</td><td>Wednesday</td><td>12</td><td>1963</td></tr><tr><td>The Jungle Book</td><td>1967-10-18</td><td>Wednesday</td><td>10</td><td>1967</td></tr><tr><td>Blackbeard's Ghost</td><td>1968-02-08</td><td>Thursday</td><td>2</td><td>1968</td></tr><tr><td>The Aristocats</td><td>1970-04-24</td><td>Friday</td><td>4</td><td>1970</td></tr><tr><td>The Boatniks</td><td>1970-07-01</td><td>Wednesday</td><td>7</td><td>1970</td></tr><tr><td>Bedknobs and Broomsticks</td><td>1971-10-07</td><td>Thursday</td><td>10</td><td>1971</td></tr><tr><td>The Apple Dumpling Gang</td><td>1975-07-01</td><td>Tuesday</td><td>7</td><td>1975</td></tr><tr><td>Freaky Friday</td><td>1977-01-21</td><td>Friday</td><td>1</td><td>1977</td></tr><tr><td>The Many Adventures of Winnie the Pooh</td><td>1977-03-11</td><td>Friday</td><td>3</td><td>1977</td></tr><tr><td>The Rescuers</td><td>1977-06-22</td><td>Wednesday</td><td>6</td><td>1977</td></tr><tr><td>Herbie Goes to Monte Carlo</td><td>1977-06-24</td><td>Friday</td><td>6</td><td>1977</td></tr><tr><td>The Black Hole</td><td>1979-12-21</td><td>Friday</td><td>12</td><td>1979</td></tr><tr><td>Midnight Madness</td><td>1980-02-08</td><td>Friday</td><td>2</td><td>1980</td></tr><tr><td>The Last Flight of Noah’s Ark</td><td>1980-06-25</td><td>Wednesday</td><td>6</td><td>1980</td></tr><tr><td>The Devil and Max Devlin</td><td>1981-01-01</td><td>Thursday</td><td>1</td><td>1981</td></tr><tr><td>Amy</td><td>1981-03-20</td><td>Friday</td><td>3</td><td>1981</td></tr><tr><td>The Fox and the Hound</td><td>1981-07-10</td><td>Friday</td><td>7</td><td>1981</td></tr><tr><td>Condorman</td><td>1981-08-07</td><td>Friday</td><td>8</td><td>1981</td></tr><tr><td>Night Crossing</td><td>1982-02-05</td><td>Friday</td><td>2</td><td>1982</td></tr><tr><td>Tron</td><td>1982-07-09</td><td>Friday</td><td>7</td><td>1982</td></tr><tr><td>Tex</td><td>1982-11-19</td><td>Friday</td><td>11</td><td>1982</td></tr><tr><td>Trenchcoat</td><td>1983-03-11</td><td>Friday</td><td>3</td><td>1983</td></tr><tr><td>Something Wicked This Way Comes</td><td>1983-04-29</td><td>Friday</td><td>4</td><td>1983</td></tr><tr><td>Never Cry Wolf</td><td>1983-10-07</td><td>Friday</td><td>10</td><td>1983</td></tr><tr><td>Running Brave</td><td>1983-11-04</td><td>Friday</td><td>11</td><td>1983</td></tr><tr><td>Splash</td><td>1984-03-09</td><td>Friday</td><td>3</td><td>1984</td></tr><tr><td>Country</td><td>1984-09-29</td><td>Saturday</td><td>9</td><td>1984</td></tr><tr><td>Baby: Secret of the Lost Legend</td><td>1985-03-22</td><td>Friday</td><td>3</td><td>1985</td></tr><tr><td>Return to Oz</td><td>1985-06-21</td><td>Friday</td><td>6</td><td>1985</td></tr><tr><td>The Black Cauldron</td><td>1985-07-24</td><td>Wednesday</td><td>7</td><td>1985</td></tr><tr><td>My Science Project</td><td>1985-08-09</td><td>Friday</td><td>8</td><td>1985</td></tr><tr><td>The Journey of Natty Gann</td><td>1985-09-27</td><td>Friday</td><td>9</td><td>1985</td></tr><tr><td>One Magic Christmas</td><td>1985-11-22</td><td>Friday</td><td>11</td><td>1985</td></tr><tr><td>Down and Out in Beverly Hills</td><td>1986-01-31</td><td>Friday</td><td>1</td><td>1986</td></tr><tr><td>Off Beat</td><td>1986-04-11</td><td>Friday</td><td>4</td><td>1986</td></tr><tr><td>Ruthless People</td><td>1986-06-27</td><td>Friday</td><td>6</td><td>1986</td></tr><tr><td>The Great Mouse Detective</td><td>1986-07-02</td><td>Wednesday</td><td>7</td><td>1986</td></tr><tr><td>Flight of the Navigator</td><td>1986-07-30</td><td>Wednesday</td><td>7</td><td>1986</td></tr><tr><td>Tough Guys</td><td>1986-10-03</td><td>Friday</td><td>10</td><td>1986</td></tr><tr><td>The Color of Money</td><td>1986-10-17</td><td>Friday</td><td>10</td><td>1986</td></tr><tr><td>Outrageous Fortune</td><td>1987-01-30</td><td>Friday</td><td>1</td><td>1987</td></tr><tr><td>Tin Men</td><td>1987-03-06</td><td>Friday</td><td>3</td><td>1987</td></tr><tr><td>Ernest Goes to Camp</td><td>1987-05-22</td><td>Friday</td><td>5</td><td>1987</td></tr><tr><td>Benji the Hunted</td><td>1987-06-05</td><td>Friday</td><td>6</td><td>1987</td></tr><tr><td>Adventures in Babysitting</td><td>1987-07-03</td><td>Friday</td><td>7</td><td>1987</td></tr><tr><td>Stakeout</td><td>1987-08-05</td><td>Wednesday</td><td>8</td><td>1987</td></tr><tr><td>Can't Buy Me Love</td><td>1987-08-14</td><td>Friday</td><td>8</td><td>1987</td></tr><tr><td>Hello Again</td><td>1987-11-06</td><td>Friday</td><td>11</td><td>1987</td></tr><tr><td>3 Men and a Baby</td><td>1987-11-25</td><td>Wednesday</td><td>11</td><td>1987</td></tr><tr><td>Good Morning Vietnam</td><td>1987-12-23</td><td>Wednesday</td><td>12</td><td>1987</td></tr><tr><td>Shoot to Kill</td><td>1988-02-12</td><td>Friday</td><td>2</td><td>1988</td></tr><tr><td>D.O.A.</td><td>1988-03-18</td><td>Friday</td><td>3</td><td>1988</td></tr><tr><td>Return to Snowy River</td><td>1988-04-15</td><td>Friday</td><td>4</td><td>1988</td></tr><tr><td>Big Business</td><td>1988-06-10</td><td>Friday</td><td>6</td><td>1988</td></tr><tr><td>Who Framed Roger Rabbit?</td><td>1988-06-22</td><td>Wednesday</td><td>6</td><td>1988</td></tr><tr><td>Cocktail</td><td>1988-07-29</td><td>Friday</td><td>7</td><td>1988</td></tr><tr><td>The Rescue</td><td>1988-08-05</td><td>Friday</td><td>8</td><td>1988</td></tr><tr><td>Heartbreak Hotel</td><td>1988-09-30</td><td>Friday</td><td>9</td><td>1988</td></tr><tr><td>The Good Mother</td><td>1988-11-04</td><td>Friday</td><td>11</td><td>1988</td></tr><tr><td>Ernest Saves Christmas</td><td>1988-11-11</td><td>Friday</td><td>11</td><td>1988</td></tr><tr><td>Oliver &amp; Company</td><td>1988-11-18</td><td>Friday</td><td>11</td><td>1988</td></tr><tr><td>Beaches</td><td>1988-12-21</td><td>Wednesday</td><td>12</td><td>1988</td></tr><tr><td>Three Fugitives</td><td>1989-01-27</td><td>Friday</td><td>1</td><td>1989</td></tr><tr><td>New York Stories</td><td>1989-03-01</td><td>Wednesday</td><td>3</td><td>1989</td></tr><tr><td>Disorganized Crime</td><td>1989-04-14</td><td>Friday</td><td>4</td><td>1989</td></tr><tr><td>Dead Poets Society</td><td>1989-06-02</td><td>Friday</td><td>6</td><td>1989</td></tr><tr><td>Honey, I Shrunk the Kids</td><td>1989-06-23</td><td>Friday</td><td>6</td><td>1989</td></tr><tr><td>Turner &amp; Hooch</td><td>1989-07-28</td><td>Friday</td><td>7</td><td>1989</td></tr><tr><td>Cheetah</td><td>1989-08-18</td><td>Friday</td><td>8</td><td>1989</td></tr><tr><td>An Innocent Man</td><td>1989-10-06</td><td>Friday</td><td>10</td><td>1989</td></tr><tr><td>Gross Anatomy</td><td>1989-10-20</td><td>Friday</td><td>10</td><td>1989</td></tr><tr><td>The Little Mermaid</td><td>1989-11-15</td><td>Wednesday</td><td>11</td><td>1989</td></tr><tr><td>Blaze</td><td>1989-12-13</td><td>Wednesday</td><td>12</td><td>1989</td></tr><tr><td>Stella</td><td>1990-02-02</td><td>Friday</td><td>2</td><td>1990</td></tr><tr><td>Where the Heart Is</td><td>1990-02-23</td><td>Friday</td><td>2</td><td>1990</td></tr><tr><td>Pretty Woman</td><td>1990-03-23</td><td>Friday</td><td>3</td><td>1990</td></tr><tr><td>Ernest Goes to Jail</td><td>1990-04-06</td><td>Friday</td><td>4</td><td>1990</td></tr><tr><td>Spaced Invaders</td><td>1990-04-27</td><td>Friday</td><td>4</td><td>1990</td></tr><tr><td>Fire Birds</td><td>1990-05-24</td><td>Thursday</td><td>5</td><td>1990</td></tr><tr><td>Dick Tracy</td><td>1990-06-15</td><td>Friday</td><td>6</td><td>1990</td></tr><tr><td>Betsy's Wedding</td><td>1990-06-22</td><td>Friday</td><td>6</td><td>1990</td></tr><tr><td>Arachnophobia</td><td>1990-07-18</td><td>Wednesday</td><td>7</td><td>1990</td></tr><tr><td>DuckTales: The Movie - Treasure of th…</td><td>1990-08-03</td><td>Friday</td><td>8</td><td>1990</td></tr><tr><td>Taking Care of Business</td><td>1990-08-17</td><td>Friday</td><td>8</td><td>1990</td></tr><tr><td>Mr. Destiny</td><td>1990-10-12</td><td>Friday</td><td>10</td><td>1990</td></tr><tr><td>The Rescuers Down Under</td><td>1990-11-16</td><td>Friday</td><td>11</td><td>1990</td></tr><tr><td>3 Men and a Little Lady</td><td>1990-11-21</td><td>Wednesday</td><td>11</td><td>1990</td></tr><tr><td>Green Card</td><td>1990-12-25</td><td>Tuesday</td><td>12</td><td>1990</td></tr><tr><td>White Fang</td><td>1991-01-18</td><td>Friday</td><td>1</td><td>1991</td></tr><tr><td>Scenes from a Mall</td><td>1991-02-22</td><td>Friday</td><td>2</td><td>1991</td></tr><tr><td>Haakon Haakonsen</td><td>1991-03-01</td><td>Friday</td><td>3</td><td>1991</td></tr><tr><td>The Marrying Man</td><td>1991-04-05</td><td>Friday</td><td>4</td><td>1991</td></tr><tr><td>Oscar</td><td>1991-04-26</td><td>Friday</td><td>4</td><td>1991</td></tr><tr><td>One Good Cop</td><td>1991-05-03</td><td>Friday</td><td>5</td><td>1991</td></tr><tr><td>What About Bob?</td><td>1991-05-17</td><td>Friday</td><td>5</td><td>1991</td></tr><tr><td>Wild Hearts Can't Be Broken</td><td>1991-05-24</td><td>Friday</td><td>5</td><td>1991</td></tr><tr><td>The Rocketeer</td><td>1991-06-21</td><td>Friday</td><td>6</td><td>1991</td></tr><tr><td>The Doctor</td><td>1991-07-24</td><td>Wednesday</td><td>7</td><td>1991</td></tr><tr><td>Paradise</td><td>1991-09-18</td><td>Wednesday</td><td>9</td><td>1991</td></tr><tr><td>Deceived</td><td>1991-09-27</td><td>Friday</td><td>9</td><td>1991</td></tr><tr><td>Ernest Scared Stupid</td><td>1991-10-11</td><td>Friday</td><td>10</td><td>1991</td></tr><tr><td>Billy Bathgate</td><td>1991-11-01</td><td>Friday</td><td>11</td><td>1991</td></tr><tr><td>Beauty and the Beast</td><td>1991-11-13</td><td>Wednesday</td><td>11</td><td>1991</td></tr><tr><td>Father of the Bride</td><td>1991-12-20</td><td>Friday</td><td>12</td><td>1991</td></tr><tr><td>The Hand That Rocks the Cradle</td><td>1992-01-10</td><td>Friday</td><td>1</td><td>1992</td></tr><tr><td>Medicine Man</td><td>1992-02-07</td><td>Friday</td><td>2</td><td>1992</td></tr><tr><td>Blame it on the Bellboy</td><td>1992-03-06</td><td>Friday</td><td>3</td><td>1992</td></tr><tr><td>Noises Off...</td><td>1992-03-20</td><td>Friday</td><td>3</td><td>1992</td></tr><tr><td>Straight Talk</td><td>1992-04-03</td><td>Friday</td><td>4</td><td>1992</td></tr><tr><td>Newsies</td><td>1992-04-08</td><td>Wednesday</td><td>4</td><td>1992</td></tr><tr><td>Passed Away</td><td>1992-04-24</td><td>Friday</td><td>4</td><td>1992</td></tr><tr><td>Encino Man</td><td>1992-05-22</td><td>Friday</td><td>5</td><td>1992</td></tr><tr><td>Sister Act</td><td>1992-05-29</td><td>Friday</td><td>5</td><td>1992</td></tr><tr><td>Honey I Blew Up the Kid</td><td>1992-07-17</td><td>Friday</td><td>7</td><td>1992</td></tr><tr><td>A Stranger Among Us</td><td>1992-07-17</td><td>Friday</td><td>7</td><td>1992</td></tr><tr><td>3 Ninjas</td><td>1992-08-07</td><td>Friday</td><td>8</td><td>1992</td></tr><tr><td>A Gun in Betty Lou's Handbag</td><td>1992-08-21</td><td>Friday</td><td>8</td><td>1992</td></tr><tr><td>Captain Ron</td><td>1992-09-18</td><td>Friday</td><td>9</td><td>1992</td></tr><tr><td>Sarafina!</td><td>1992-09-18</td><td>Friday</td><td>9</td><td>1992</td></tr><tr><td>Innocent Blood</td><td>1992-09-25</td><td>Friday</td><td>9</td><td>1992</td></tr><tr><td>The Mighty Ducks</td><td>1992-10-02</td><td>Friday</td><td>10</td><td>1992</td></tr><tr><td>1492: Conquest of Paradise</td><td>1992-10-09</td><td>Friday</td><td>10</td><td>1992</td></tr><tr><td>Consenting Adults</td><td>1992-10-16</td><td>Friday</td><td>10</td><td>1992</td></tr><tr><td>Aladdin</td><td>1992-11-11</td><td>Wednesday</td><td>11</td><td>1992</td></tr><tr><td>The Distinguished Gentleman</td><td>1992-12-04</td><td>Friday</td><td>12</td><td>1992</td></tr><tr><td>The Muppet Christmas Carol</td><td>1992-12-11</td><td>Friday</td><td>12</td><td>1992</td></tr><tr><td>Alive</td><td>1993-01-15</td><td>Friday</td><td>1</td><td>1993</td></tr><tr><td>Aspen Extreme</td><td>1993-01-22</td><td>Friday</td><td>1</td><td>1993</td></tr><tr><td>Homeward Bound: The Incredible Journey</td><td>1993-02-03</td><td>Wednesday</td><td>2</td><td>1993</td></tr><tr><td>The Cemetery Club</td><td>1993-02-03</td><td>Wednesday</td><td>2</td><td>1993</td></tr><tr><td>Swing Kids</td><td>1993-03-05</td><td>Friday</td><td>3</td><td>1993</td></tr><tr><td>A Far Off Place</td><td>1993-03-12</td><td>Friday</td><td>3</td><td>1993</td></tr><tr><td>Born Yesterday</td><td>1993-03-26</td><td>Friday</td><td>3</td><td>1993</td></tr><tr><td>The Adventures of Huck Finn</td><td>1993-04-02</td><td>Friday</td><td>4</td><td>1993</td></tr><tr><td>Bound by Honor</td><td>1993-04-16</td><td>Friday</td><td>4</td><td>1993</td></tr><tr><td>Indian Summer</td><td>1993-04-23</td><td>Friday</td><td>4</td><td>1993</td></tr><tr><td>Super Mario Bros.</td><td>1993-05-28</td><td>Friday</td><td>5</td><td>1993</td></tr><tr><td>Guilty as Sin</td><td>1993-06-04</td><td>Friday</td><td>6</td><td>1993</td></tr><tr><td>Life With Mikey</td><td>1993-06-04</td><td>Friday</td><td>6</td><td>1993</td></tr><tr><td>What's Love Got to Do With It</td><td>1993-06-09</td><td>Wednesday</td><td>6</td><td>1993</td></tr><tr><td>Son in Law</td><td>1993-07-02</td><td>Friday</td><td>7</td><td>1993</td></tr><tr><td>Hocus Pocus</td><td>1993-07-16</td><td>Friday</td><td>7</td><td>1993</td></tr><tr><td>Another Stakeout</td><td>1993-07-23</td><td>Friday</td><td>7</td><td>1993</td></tr><tr><td>My Boyfriend's Back</td><td>1993-08-06</td><td>Friday</td><td>8</td><td>1993</td></tr><tr><td>Father Hood</td><td>1993-08-27</td><td>Friday</td><td>8</td><td>1993</td></tr><tr><td>The Joy Luck Club</td><td>1993-09-08</td><td>Wednesday</td><td>9</td><td>1993</td></tr><tr><td>Money for Nothing</td><td>1993-09-10</td><td>Friday</td><td>9</td><td>1993</td></tr><tr><td>The Program</td><td>1993-09-24</td><td>Friday</td><td>9</td><td>1993</td></tr><tr><td>Cool Runnings</td><td>1993-10-01</td><td>Friday</td><td>10</td><td>1993</td></tr><tr><td>The Nightmare Before Christmas</td><td>1993-10-13</td><td>Wednesday</td><td>10</td><td>1993</td></tr><tr><td>The Three Musketeers</td><td>1993-11-12</td><td>Friday</td><td>11</td><td>1993</td></tr><tr><td>Sister Act 2 Back in the Habit</td><td>1993-12-10</td><td>Friday</td><td>12</td><td>1993</td></tr><tr><td>Tombstone</td><td>1993-12-25</td><td>Saturday</td><td>12</td><td>1993</td></tr><tr><td>The Air Up There</td><td>1994-01-07</td><td>Friday</td><td>1</td><td>1994</td></tr><tr><td>Cabin Boy</td><td>1994-01-07</td><td>Friday</td><td>1</td><td>1994</td></tr><tr><td>Iron Will</td><td>1994-01-14</td><td>Friday</td><td>1</td><td>1994</td></tr><tr><td>Red Rock West</td><td>1994-01-28</td><td>Friday</td><td>1</td><td>1994</td></tr><tr><td>Blank Check</td><td>1994-02-11</td><td>Friday</td><td>2</td><td>1994</td></tr><tr><td>Angie</td><td>1994-03-04</td><td>Friday</td><td>3</td><td>1994</td></tr><tr><td>The Ref</td><td>1994-03-09</td><td>Wednesday</td><td>3</td><td>1994</td></tr><tr><td>D2: The Mighty Ducks</td><td>1994-03-25</td><td>Friday</td><td>3</td><td>1994</td></tr><tr><td>Holy Matrimony</td><td>1994-04-08</td><td>Friday</td><td>4</td><td>1994</td></tr><tr><td>White Fang 2: Myth of the White Wolf</td><td>1994-04-15</td><td>Friday</td><td>4</td><td>1994</td></tr><tr><td>The Inkwell</td><td>1994-04-22</td><td>Friday</td><td>4</td><td>1994</td></tr><tr><td>When a Man Loves a Woman</td><td>1994-04-29</td><td>Friday</td><td>4</td><td>1994</td></tr><tr><td>3 Ninjas Kick Back</td><td>1994-05-06</td><td>Friday</td><td>5</td><td>1994</td></tr><tr><td>Renaissance Man</td><td>1994-06-03</td><td>Friday</td><td>6</td><td>1994</td></tr><tr><td>The Lion King</td><td>1994-06-15</td><td>Wednesday</td><td>6</td><td>1994</td></tr><tr><td>I Love Trouble</td><td>1994-06-29</td><td>Wednesday</td><td>6</td><td>1994</td></tr><tr><td>Angels in the Outfield</td><td>1994-07-15</td><td>Friday</td><td>7</td><td>1994</td></tr><tr><td>In the Army Now</td><td>1994-08-12</td><td>Friday</td><td>8</td><td>1994</td></tr><tr><td>Color of Night</td><td>1994-08-19</td><td>Friday</td><td>8</td><td>1994</td></tr><tr><td>Camp Nowhere</td><td>1994-08-26</td><td>Friday</td><td>8</td><td>1994</td></tr><tr><td>It's Pat</td><td>1994-08-26</td><td>Friday</td><td>8</td><td>1994</td></tr><tr><td>A Simple Twist of Fate</td><td>1994-09-02</td><td>Friday</td><td>9</td><td>1994</td></tr><tr><td>Quiz Show</td><td>1994-09-14</td><td>Wednesday</td><td>9</td><td>1994</td></tr><tr><td>Terminal Velocity</td><td>1994-09-23</td><td>Friday</td><td>9</td><td>1994</td></tr><tr><td>Ed Wood</td><td>1994-09-30</td><td>Friday</td><td>9</td><td>1994</td></tr><tr><td>The Puppet Masters</td><td>1994-10-21</td><td>Friday</td><td>10</td><td>1994</td></tr><tr><td>Squanto: A Warrior's Tale</td><td>1994-10-28</td><td>Friday</td><td>10</td><td>1994</td></tr><tr><td>The Santa Clause</td><td>1994-11-11</td><td>Friday</td><td>11</td><td>1994</td></tr><tr><td>A Low Down Dirty Shame</td><td>1994-11-23</td><td>Wednesday</td><td>11</td><td>1994</td></tr><tr><td>The Jungle Book</td><td>1994-12-25</td><td>Sunday</td><td>12</td><td>1994</td></tr><tr><td>Houseguest</td><td>1995-01-06</td><td>Friday</td><td>1</td><td>1995</td></tr><tr><td>Bad Company</td><td>1995-01-20</td><td>Friday</td><td>1</td><td>1995</td></tr><tr><td>Miami Rhapsody</td><td>1995-01-27</td><td>Friday</td><td>1</td><td>1995</td></tr><tr><td>The Jerky Boys</td><td>1995-02-03</td><td>Friday</td><td>2</td><td>1995</td></tr><tr><td>Heavy Weights</td><td>1995-02-17</td><td>Friday</td><td>2</td><td>1995</td></tr><tr><td>Man of the House</td><td>1995-03-03</td><td>Friday</td><td>3</td><td>1995</td></tr><tr><td>Roommates</td><td>1995-03-03</td><td>Friday</td><td>3</td><td>1995</td></tr><tr><td>Tall Tale</td><td>1995-03-24</td><td>Friday</td><td>3</td><td>1995</td></tr><tr><td>A Pyromaniac's Love Story</td><td>1995-03-28</td><td>Tuesday</td><td>3</td><td>1995</td></tr><tr><td>Jefferson in Paris</td><td>1995-03-31</td><td>Friday</td><td>3</td><td>1995</td></tr><tr><td>Funny Bones</td><td>1995-03-31</td><td>Friday</td><td>3</td><td>1995</td></tr><tr><td>A Goofy Movie</td><td>1995-04-07</td><td>Friday</td><td>4</td><td>1995</td></tr><tr><td>While You Were Sleeping</td><td>1995-04-21</td><td>Friday</td><td>4</td><td>1995</td></tr><tr><td>Crimson Tide</td><td>1995-05-12</td><td>Friday</td><td>5</td><td>1995</td></tr><tr><td>Mad Love</td><td>1995-05-26</td><td>Friday</td><td>5</td><td>1995</td></tr><tr><td>Pocahontas</td><td>1995-06-10</td><td>Saturday</td><td>6</td><td>1995</td></tr><tr><td>Judge Dredd</td><td>1995-06-30</td><td>Friday</td><td>6</td><td>1995</td></tr><tr><td>Operation Dumbo Drop</td><td>1995-07-28</td><td>Friday</td><td>7</td><td>1995</td></tr><tr><td>Dangerous Minds</td><td>1995-08-11</td><td>Friday</td><td>8</td><td>1995</td></tr><tr><td>A Kid in King Arthur's Court</td><td>1995-08-11</td><td>Friday</td><td>8</td><td>1995</td></tr><tr><td>The Tie That Binds</td><td>1995-09-08</td><td>Friday</td><td>9</td><td>1995</td></tr><tr><td>Unstrung Heroes</td><td>1995-09-15</td><td>Friday</td><td>9</td><td>1995</td></tr><tr><td>The Big Green</td><td>1995-09-29</td><td>Friday</td><td>9</td><td>1995</td></tr><tr><td>Dead Presidents</td><td>1995-10-04</td><td>Wednesday</td><td>10</td><td>1995</td></tr><tr><td>The Scarlet Letter</td><td>1995-10-13</td><td>Friday</td><td>10</td><td>1995</td></tr><tr><td>Feast of July</td><td>1995-10-13</td><td>Friday</td><td>10</td><td>1995</td></tr><tr><td>Powder</td><td>1995-10-27</td><td>Friday</td><td>10</td><td>1995</td></tr><tr><td>Toy Story</td><td>1995-11-22</td><td>Wednesday</td><td>11</td><td>1995</td></tr><tr><td>Father of the Bride Part II</td><td>1995-12-08</td><td>Friday</td><td>12</td><td>1995</td></tr><tr><td>Nixon</td><td>1995-12-20</td><td>Wednesday</td><td>12</td><td>1995</td></tr><tr><td>Tom and Huck</td><td>1995-12-22</td><td>Friday</td><td>12</td><td>1995</td></tr><tr><td>Mr. Holland's Opus</td><td>1995-12-29</td><td>Friday</td><td>12</td><td>1995</td></tr><tr><td>White Squall</td><td>1996-02-02</td><td>Friday</td><td>2</td><td>1996</td></tr><tr><td>Muppet Treasure Island</td><td>1996-02-16</td><td>Friday</td><td>2</td><td>1996</td></tr><tr><td>Mr. Wrong</td><td>1996-02-16</td><td>Friday</td><td>2</td><td>1996</td></tr><tr><td>Before and After</td><td>1996-02-23</td><td>Friday</td><td>2</td><td>1996</td></tr><tr><td>Up Close &amp; Personal</td><td>1996-03-01</td><td>Friday</td><td>3</td><td>1996</td></tr><tr><td>Homeward Bound II: Lost in San Franc…</td><td>1996-03-08</td><td>Friday</td><td>3</td><td>1996</td></tr><tr><td>Two Much</td><td>1996-03-15</td><td>Friday</td><td>3</td><td>1996</td></tr><tr><td>Un indien dans la ville</td><td>1996-03-22</td><td>Friday</td><td>3</td><td>1996</td></tr><tr><td>James and the Giant Peach</td><td>1996-04-12</td><td>Friday</td><td>4</td><td>1996</td></tr><tr><td>Celtic Pride</td><td>1996-04-19</td><td>Friday</td><td>4</td><td>1996</td></tr><tr><td>Last Dance</td><td>1996-05-03</td><td>Friday</td><td>5</td><td>1996</td></tr><tr><td>Boys</td><td>1996-05-10</td><td>Friday</td><td>5</td><td>1996</td></tr><tr><td>Spy Hard</td><td>1996-05-24</td><td>Friday</td><td>5</td><td>1996</td></tr><tr><td>Eddie</td><td>1996-05-31</td><td>Friday</td><td>5</td><td>1996</td></tr><tr><td>The Rock</td><td>1996-06-07</td><td>Friday</td><td>6</td><td>1996</td></tr><tr><td>The Hunchback of Notre Dame</td><td>1996-06-21</td><td>Friday</td><td>6</td><td>1996</td></tr><tr><td>Phenomenon</td><td>1996-07-05</td><td>Friday</td><td>7</td><td>1996</td></tr><tr><td>Kazaam</td><td>1996-07-17</td><td>Wednesday</td><td>7</td><td>1996</td></tr><tr><td>Jack</td><td>1996-08-09</td><td>Friday</td><td>8</td><td>1996</td></tr><tr><td>First Kid</td><td>1996-08-30</td><td>Friday</td><td>8</td><td>1996</td></tr><tr><td>The Rich Man's Wife</td><td>1996-09-13</td><td>Friday</td><td>9</td><td>1996</td></tr><tr><td>D3: The Mighty Ducks</td><td>1996-10-04</td><td>Friday</td><td>10</td><td>1996</td></tr><tr><td>The Associate</td><td>1996-10-25</td><td>Friday</td><td>10</td><td>1996</td></tr><tr><td>Ransom</td><td>1996-11-08</td><td>Friday</td><td>11</td><td>1996</td></tr><tr><td>The War at Home</td><td>1996-11-20</td><td>Wednesday</td><td>11</td><td>1996</td></tr><tr><td>101 Dalmatians</td><td>1996-11-27</td><td>Wednesday</td><td>11</td><td>1996</td></tr><tr><td>The Preacher's Wife</td><td>1996-12-13</td><td>Friday</td><td>12</td><td>1996</td></tr><tr><td>Evita</td><td>1996-12-25</td><td>Wednesday</td><td>12</td><td>1996</td></tr><tr><td>Metro</td><td>1997-01-17</td><td>Friday</td><td>1</td><td>1997</td></tr><tr><td>Prefontaine</td><td>1997-01-24</td><td>Friday</td><td>1</td><td>1997</td></tr><tr><td>Shadow Conspiracy</td><td>1997-01-31</td><td>Friday</td><td>1</td><td>1997</td></tr><tr><td>That Darn Cat</td><td>1997-02-14</td><td>Friday</td><td>2</td><td>1997</td></tr><tr><td>Jungle 2 Jungle</td><td>1997-03-07</td><td>Friday</td><td>3</td><td>1997</td></tr><tr><td>The Sixth Man</td><td>1997-03-28</td><td>Friday</td><td>3</td><td>1997</td></tr><tr><td>Grosse Pointe Blank</td><td>1997-04-11</td><td>Friday</td><td>4</td><td>1997</td></tr><tr><td>Romy and Michele's High School Reunion</td><td>1997-04-25</td><td>Friday</td><td>4</td><td>1997</td></tr><tr><td>Gone Fishin'</td><td>1997-05-30</td><td>Friday</td><td>5</td><td>1997</td></tr><tr><td>Con Air</td><td>1997-06-06</td><td>Friday</td><td>6</td><td>1997</td></tr><tr><td>Hercules</td><td>1997-06-13</td><td>Friday</td><td>6</td><td>1997</td></tr><tr><td>George Of The Jungle</td><td>1997-07-16</td><td>Wednesday</td><td>7</td><td>1997</td></tr><tr><td>Nothing To Lose</td><td>1997-07-18</td><td>Friday</td><td>7</td><td>1997</td></tr><tr><td>Air Bud</td><td>1997-08-01</td><td>Friday</td><td>8</td><td>1997</td></tr><tr><td>G.I. Jane</td><td>1997-08-22</td><td>Friday</td><td>8</td><td>1997</td></tr><tr><td>A Thousand Acres</td><td>1997-09-19</td><td>Friday</td><td>9</td><td>1997</td></tr><tr><td>Washington Square</td><td>1997-10-05</td><td>Sunday</td><td>10</td><td>1997</td></tr><tr><td>Rocket Man</td><td>1997-10-10</td><td>Friday</td><td>10</td><td>1997</td></tr><tr><td>Playing God</td><td>1997-10-17</td><td>Friday</td><td>10</td><td>1997</td></tr><tr><td>Flubber</td><td>1997-11-26</td><td>Wednesday</td><td>11</td><td>1997</td></tr><tr><td>An American Werewolf in Paris</td><td>1997-12-25</td><td>Thursday</td><td>12</td><td>1997</td></tr><tr><td>Mr. Magoo</td><td>1997-12-25</td><td>Thursday</td><td>12</td><td>1997</td></tr><tr><td>Kundun</td><td>1997-12-25</td><td>Thursday</td><td>12</td><td>1997</td></tr><tr><td>Deep Rising</td><td>1998-01-30</td><td>Friday</td><td>1</td><td>1998</td></tr><tr><td>Krippendorf's Tribe</td><td>1998-02-27</td><td>Friday</td><td>2</td><td>1998</td></tr><tr><td>An Alan Smithee Film: Burn Hollywood …</td><td>1998-02-27</td><td>Friday</td><td>2</td><td>1998</td></tr><tr><td>Meet the Deedles</td><td>1998-03-27</td><td>Friday</td><td>3</td><td>1998</td></tr><tr><td>He Got Game</td><td>1998-05-01</td><td>Friday</td><td>5</td><td>1998</td></tr><tr><td>The Horse Whisperer</td><td>1998-05-15</td><td>Friday</td><td>5</td><td>1998</td></tr><tr><td>Six Days, Seven Nights</td><td>1998-06-12</td><td>Friday</td><td>6</td><td>1998</td></tr><tr><td>Mulan</td><td>1998-06-19</td><td>Friday</td><td>6</td><td>1998</td></tr><tr><td>Armageddon</td><td>1998-07-01</td><td>Wednesday</td><td>7</td><td>1998</td></tr><tr><td>Jane Austen's Mafia</td><td>1998-07-24</td><td>Friday</td><td>7</td><td>1998</td></tr><tr><td>The Parent Trap</td><td>1998-07-29</td><td>Wednesday</td><td>7</td><td>1998</td></tr><tr><td>Firelight</td><td>1998-09-04</td><td>Friday</td><td>9</td><td>1998</td></tr><tr><td>Simon Birch</td><td>1998-09-11</td><td>Friday</td><td>9</td><td>1998</td></tr><tr><td>Holy Man</td><td>1998-10-09</td><td>Friday</td><td>10</td><td>1998</td></tr><tr><td>Beloved</td><td>1998-10-16</td><td>Friday</td><td>10</td><td>1998</td></tr><tr><td>The Waterboy</td><td>1998-11-06</td><td>Friday</td><td>11</td><td>1998</td></tr><tr><td>I'll Be Home For Christmas</td><td>1998-11-13</td><td>Friday</td><td>11</td><td>1998</td></tr><tr><td>A Bug's Life</td><td>1998-11-20</td><td>Friday</td><td>11</td><td>1998</td></tr><tr><td>Enemy of the State</td><td>1998-11-20</td><td>Friday</td><td>11</td><td>1998</td></tr><tr><td>Rushmore</td><td>1998-12-11</td><td>Friday</td><td>12</td><td>1998</td></tr><tr><td>A Civil Action</td><td>1998-12-25</td><td>Friday</td><td>12</td><td>1998</td></tr><tr><td>Mighty Joe Young</td><td>1998-12-25</td><td>Friday</td><td>12</td><td>1998</td></tr><tr><td>My Favorite Martian</td><td>1999-02-12</td><td>Friday</td><td>2</td><td>1999</td></tr><tr><td>The Other Sister</td><td>1999-02-26</td><td>Friday</td><td>2</td><td>1999</td></tr><tr><td>Doug's 1st Movie</td><td>1999-03-26</td><td>Friday</td><td>3</td><td>1999</td></tr><tr><td>Ten Things I Hate About You</td><td>1999-03-31</td><td>Wednesday</td><td>3</td><td>1999</td></tr><tr><td>Endurance</td><td>1999-05-14</td><td>Friday</td><td>5</td><td>1999</td></tr><tr><td>Instinct</td><td>1999-06-04</td><td>Friday</td><td>6</td><td>1999</td></tr><tr><td>Tarzan</td><td>1999-06-16</td><td>Wednesday</td><td>6</td><td>1999</td></tr><tr><td>Summer of Sam</td><td>1999-07-02</td><td>Friday</td><td>7</td><td>1999</td></tr><tr><td>Inspector Gadget</td><td>1999-07-23</td><td>Friday</td><td>7</td><td>1999</td></tr><tr><td>The Sixth Sense</td><td>1999-08-06</td><td>Friday</td><td>8</td><td>1999</td></tr><tr><td>The 13th Warrior</td><td>1999-08-27</td><td>Friday</td><td>8</td><td>1999</td></tr><tr><td>Breakfast of Champions</td><td>1999-09-17</td><td>Friday</td><td>9</td><td>1999</td></tr><tr><td>Mumford</td><td>1999-09-24</td><td>Friday</td><td>9</td><td>1999</td></tr><tr><td>Mystery, Alaska</td><td>1999-10-01</td><td>Friday</td><td>10</td><td>1999</td></tr><tr><td>The Straight Story</td><td>1999-10-15</td><td>Friday</td><td>10</td><td>1999</td></tr><tr><td>The Insider</td><td>1999-11-05</td><td>Friday</td><td>11</td><td>1999</td></tr><tr><td>Toy Story 2</td><td>1999-11-19</td><td>Friday</td><td>11</td><td>1999</td></tr><tr><td>Cradle Will Rock</td><td>1999-12-08</td><td>Wednesday</td><td>12</td><td>1999</td></tr><tr><td>Deuce Bigalow: Male Gigolo</td><td>1999-12-10</td><td>Friday</td><td>12</td><td>1999</td></tr><tr><td>Bicentennial Man</td><td>1999-12-17</td><td>Friday</td><td>12</td><td>1999</td></tr><tr><td>Play it to the Bone</td><td>1999-12-24</td><td>Friday</td><td>12</td><td>1999</td></tr><tr><td>Fantasia 2000 (IMAX)</td><td>2000-01-01</td><td>Saturday</td><td>1</td><td>2000</td></tr><tr><td>Gun Shy</td><td>2000-02-04</td><td>Friday</td><td>2</td><td>2000</td></tr><tr><td>The Tigger Movie</td><td>2000-02-11</td><td>Friday</td><td>2</td><td>2000</td></tr><tr><td>Mission to Mars</td><td>2000-03-10</td><td>Friday</td><td>3</td><td>2000</td></tr><tr><td>High Fidelity</td><td>2000-03-31</td><td>Friday</td><td>3</td><td>2000</td></tr><tr><td>Keeping the Faith</td><td>2000-04-14</td><td>Friday</td><td>4</td><td>2000</td></tr><tr><td>Dinosaur</td><td>2000-05-19</td><td>Friday</td><td>5</td><td>2000</td></tr><tr><td>Shanghai Noon</td><td>2000-05-26</td><td>Friday</td><td>5</td><td>2000</td></tr><tr><td>Gone in 60 Seconds</td><td>2000-06-09</td><td>Friday</td><td>6</td><td>2000</td></tr><tr><td>Fantasia 2000 (Theatrical Release)</td><td>2000-06-16</td><td>Friday</td><td>6</td><td>2000</td></tr><tr><td>The Kid</td><td>2000-07-07</td><td>Friday</td><td>7</td><td>2000</td></tr><tr><td>Coyote Ugly</td><td>2000-08-04</td><td>Friday</td><td>8</td><td>2000</td></tr><tr><td>The Crew</td><td>2000-08-25</td><td>Friday</td><td>8</td><td>2000</td></tr><tr><td>Duets</td><td>2000-09-15</td><td>Friday</td><td>9</td><td>2000</td></tr><tr><td>Remember the Titans</td><td>2000-09-29</td><td>Friday</td><td>9</td><td>2000</td></tr><tr><td>Unbreakable</td><td>2000-11-22</td><td>Wednesday</td><td>11</td><td>2000</td></tr><tr><td>102 Dalmatians</td><td>2000-11-22</td><td>Wednesday</td><td>11</td><td>2000</td></tr><tr><td>The Emperor's New Groove</td><td>2000-12-15</td><td>Friday</td><td>12</td><td>2000</td></tr><tr><td>O Brother, Where Art Thou?</td><td>2000-12-22</td><td>Friday</td><td>12</td><td>2000</td></tr><tr><td>Double Take</td><td>2001-01-12</td><td>Friday</td><td>1</td><td>2001</td></tr><tr><td>Recess: School's Out</td><td>2001-02-16</td><td>Friday</td><td>2</td><td>2001</td></tr><tr><td>Just Visiting</td><td>2001-04-06</td><td>Friday</td><td>4</td><td>2001</td></tr><tr><td>Pearl Harbor</td><td>2001-05-25</td><td>Friday</td><td>5</td><td>2001</td></tr><tr><td>Atlantis: The Lost Empire</td><td>2001-06-08</td><td>Friday</td><td>6</td><td>2001</td></tr><tr><td>crazy/beautiful</td><td>2001-06-29</td><td>Friday</td><td>6</td><td>2001</td></tr><tr><td>The Princess Diaries</td><td>2001-08-03</td><td>Friday</td><td>8</td><td>2001</td></tr><tr><td>Bubble Boy</td><td>2001-08-24</td><td>Friday</td><td>8</td><td>2001</td></tr><tr><td>Max Keeble's Big Move</td><td>2001-10-05</td><td>Friday</td><td>10</td><td>2001</td></tr><tr><td>Corky Romano</td><td>2001-10-12</td><td>Friday</td><td>10</td><td>2001</td></tr><tr><td>High Heels and Low Lifes</td><td>2001-10-26</td><td>Friday</td><td>10</td><td>2001</td></tr><tr><td>Monsters, Inc.</td><td>2001-11-02</td><td>Friday</td><td>11</td><td>2001</td></tr><tr><td>Out Cold</td><td>2001-11-21</td><td>Wednesday</td><td>11</td><td>2001</td></tr><tr><td>The Royal Tenenbaums</td><td>2001-12-14</td><td>Friday</td><td>12</td><td>2001</td></tr><tr><td>Beauty and the Beast (IMAX)</td><td>2002-01-01</td><td>Tuesday</td><td>1</td><td>2002</td></tr><tr><td>Frank McKlusky C.I.</td><td>2002-01-01</td><td>Tuesday</td><td>1</td><td>2002</td></tr><tr><td>Snow Dogs</td><td>2002-01-18</td><td>Friday</td><td>1</td><td>2002</td></tr><tr><td>The Count of Monte Cristo</td><td>2002-01-25</td><td>Friday</td><td>1</td><td>2002</td></tr><tr><td>Peter Pan: Return to Neverland</td><td>2002-02-15</td><td>Friday</td><td>2</td><td>2002</td></tr><tr><td>Reign of Fire</td><td>2002-02-19</td><td>Tuesday</td><td>2</td><td>2002</td></tr><tr><td>Sorority Boys</td><td>2002-03-22</td><td>Friday</td><td>3</td><td>2002</td></tr><tr><td>The Rookie</td><td>2002-03-29</td><td>Friday</td><td>3</td><td>2002</td></tr><tr><td>Big Trouble</td><td>2002-04-05</td><td>Friday</td><td>4</td><td>2002</td></tr><tr><td>ESPN's Ultimate X - The Movie</td><td>2002-05-10</td><td>Friday</td><td>5</td><td>2002</td></tr><tr><td>Bad Company</td><td>2002-06-07</td><td>Friday</td><td>6</td><td>2002</td></tr><tr><td>Lilo &amp; Stitch</td><td>2002-06-21</td><td>Friday</td><td>6</td><td>2002</td></tr><tr><td>The Country Bears</td><td>2002-07-26</td><td>Friday</td><td>7</td><td>2002</td></tr><tr><td>Signs</td><td>2002-08-02</td><td>Friday</td><td>8</td><td>2002</td></tr><tr><td>Sen to Chihiro no Kamikakushi</td><td>2002-09-20</td><td>Friday</td><td>9</td><td>2002</td></tr><tr><td>Sweet Home Alabama</td><td>2002-09-27</td><td>Friday</td><td>9</td><td>2002</td></tr><tr><td>Moonlight Mile</td><td>2002-09-27</td><td>Friday</td><td>9</td><td>2002</td></tr><tr><td>Tuck Everlasting</td><td>2002-10-11</td><td>Friday</td><td>10</td><td>2002</td></tr><tr><td>The Santa Clause 2</td><td>2002-11-01</td><td>Friday</td><td>11</td><td>2002</td></tr><tr><td>Treasure Planet</td><td>2002-11-27</td><td>Wednesday</td><td>11</td><td>2002</td></tr><tr><td>The Hot Chick</td><td>2002-12-13</td><td>Friday</td><td>12</td><td>2002</td></tr><tr><td>25th Hour</td><td>2002-12-19</td><td>Thursday</td><td>12</td><td>2002</td></tr><tr><td>The Recruit</td><td>2003-01-31</td><td>Friday</td><td>1</td><td>2003</td></tr><tr><td>Shanghai Knights</td><td>2003-02-07</td><td>Friday</td><td>2</td><td>2003</td></tr><tr><td>The Jungle Book 2</td><td>2003-02-14</td><td>Friday</td><td>2</td><td>2003</td></tr><tr><td>Bringing Down the House</td><td>2003-03-07</td><td>Friday</td><td>3</td><td>2003</td></tr><tr><td>Piglet's Big Movie</td><td>2003-03-21</td><td>Friday</td><td>3</td><td>2003</td></tr><tr><td>Ghosts of the Abyss</td><td>2003-04-11</td><td>Friday</td><td>4</td><td>2003</td></tr><tr><td>Holes</td><td>2003-04-18</td><td>Friday</td><td>4</td><td>2003</td></tr><tr><td>The Lizzie McGuire Movie</td><td>2003-05-02</td><td>Friday</td><td>5</td><td>2003</td></tr><tr><td>Finding Nemo</td><td>2003-05-30</td><td>Friday</td><td>5</td><td>2003</td></tr><tr><td>Pirates of the Caribbean: The Curse o…</td><td>2003-07-09</td><td>Wednesday</td><td>7</td><td>2003</td></tr><tr><td>Freaky Friday</td><td>2003-08-06</td><td>Wednesday</td><td>8</td><td>2003</td></tr><tr><td>Open Range</td><td>2003-08-15</td><td>Friday</td><td>8</td><td>2003</td></tr><tr><td>Cold Creek Manor</td><td>2003-09-19</td><td>Friday</td><td>9</td><td>2003</td></tr><tr><td>Under the Tuscan Sun</td><td>2003-09-26</td><td>Friday</td><td>9</td><td>2003</td></tr><tr><td>Veronica Guerin</td><td>2003-10-17</td><td>Friday</td><td>10</td><td>2003</td></tr><tr><td>Brother Bear</td><td>2003-10-24</td><td>Friday</td><td>10</td><td>2003</td></tr><tr><td>The Haunted Mansion</td><td>2003-11-26</td><td>Wednesday</td><td>11</td><td>2003</td></tr><tr><td>Calendar Girls</td><td>2003-12-19</td><td>Friday</td><td>12</td><td>2003</td></tr><tr><td>Young Black Stallion</td><td>2003-12-25</td><td>Thursday</td><td>12</td><td>2003</td></tr><tr><td>Teacher's Pet: The Movie</td><td>2004-01-16</td><td>Friday</td><td>1</td><td>2004</td></tr><tr><td>Miracle</td><td>2004-02-06</td><td>Friday</td><td>2</td><td>2004</td></tr><tr><td>Confessions of a Teenage Drama Queen</td><td>2004-02-20</td><td>Friday</td><td>2</td><td>2004</td></tr><tr><td>Hidalgo</td><td>2004-03-05</td><td>Friday</td><td>3</td><td>2004</td></tr><tr><td>The Ladykillers</td><td>2004-03-26</td><td>Friday</td><td>3</td><td>2004</td></tr><tr><td>Home on the Range</td><td>2004-04-02</td><td>Friday</td><td>4</td><td>2004</td></tr><tr><td>The Alamo</td><td>2004-04-09</td><td>Friday</td><td>4</td><td>2004</td></tr><tr><td>Raising Helen</td><td>2004-05-28</td><td>Friday</td><td>5</td><td>2004</td></tr><tr><td>Around the World in 80 Days</td><td>2004-06-16</td><td>Wednesday</td><td>6</td><td>2004</td></tr><tr><td>America's Heart and Soul</td><td>2004-07-02</td><td>Friday</td><td>7</td><td>2004</td></tr><tr><td>King Arthur</td><td>2004-07-07</td><td>Wednesday</td><td>7</td><td>2004</td></tr><tr><td>The Village</td><td>2004-07-30</td><td>Friday</td><td>7</td><td>2004</td></tr><tr><td>The Princess Diaries 2: Royal Engagement</td><td>2004-08-11</td><td>Wednesday</td><td>8</td><td>2004</td></tr><tr><td>Mr. 3000</td><td>2004-09-17</td><td>Friday</td><td>9</td><td>2004</td></tr><tr><td>The Last Shot</td><td>2004-09-24</td><td>Friday</td><td>9</td><td>2004</td></tr><tr><td>Ladder 49</td><td>2004-10-01</td><td>Friday</td><td>10</td><td>2004</td></tr><tr><td>The Incredibles</td><td>2004-11-05</td><td>Friday</td><td>11</td><td>2004</td></tr><tr><td>National Treasure</td><td>2004-11-19</td><td>Friday</td><td>11</td><td>2004</td></tr><tr><td>The Life Aquatic with Steve Zissou</td><td>2004-12-10</td><td>Friday</td><td>12</td><td>2004</td></tr><tr><td>Aliens of the Deep</td><td>2005-01-28</td><td>Friday</td><td>1</td><td>2005</td></tr><tr><td>Pooh's Heffalump Movie</td><td>2005-02-11</td><td>Friday</td><td>2</td><td>2005</td></tr><tr><td>The Pacifier</td><td>2005-03-04</td><td>Friday</td><td>3</td><td>2005</td></tr><tr><td>Ice Princess</td><td>2005-03-18</td><td>Friday</td><td>3</td><td>2005</td></tr><tr><td>A Lot Like Love</td><td>2005-04-22</td><td>Friday</td><td>4</td><td>2005</td></tr><tr><td>The Hitchhiker's Guide to the Galaxy</td><td>2005-04-29</td><td>Friday</td><td>4</td><td>2005</td></tr><tr><td>Hauru no ugoku shiro</td><td>2005-06-10</td><td>Friday</td><td>6</td><td>2005</td></tr><tr><td>Herbie: Fully Loaded</td><td>2005-06-22</td><td>Wednesday</td><td>6</td><td>2005</td></tr><tr><td>Dark Water</td><td>2005-07-08</td><td>Friday</td><td>7</td><td>2005</td></tr><tr><td>Sky High</td><td>2005-07-29</td><td>Friday</td><td>7</td><td>2005</td></tr><tr><td>Valiant</td><td>2005-08-19</td><td>Friday</td><td>8</td><td>2005</td></tr><tr><td>Flightplan</td><td>2005-09-23</td><td>Friday</td><td>9</td><td>2005</td></tr><tr><td>The Greatest Game Ever Played</td><td>2005-09-30</td><td>Friday</td><td>9</td><td>2005</td></tr><tr><td>Shopgirl</td><td>2005-10-21</td><td>Friday</td><td>10</td><td>2005</td></tr><tr><td>Chicken Little</td><td>2005-11-04</td><td>Friday</td><td>11</td><td>2005</td></tr><tr><td>The Chronicles of Narnia: The Lion, t…</td><td>2005-12-09</td><td>Friday</td><td>12</td><td>2005</td></tr><tr><td>Casanova</td><td>2005-12-25</td><td>Sunday</td><td>12</td><td>2005</td></tr><tr><td>Glory Road</td><td>2006-01-13</td><td>Friday</td><td>1</td><td>2006</td></tr><tr><td>Annapolis</td><td>2006-01-27</td><td>Friday</td><td>1</td><td>2006</td></tr><tr><td>Roving Mars</td><td>2006-01-27</td><td>Friday</td><td>1</td><td>2006</td></tr><tr><td>Eight Below</td><td>2006-02-17</td><td>Friday</td><td>2</td><td>2006</td></tr><tr><td>The Shaggy Dog</td><td>2006-03-10</td><td>Friday</td><td>3</td><td>2006</td></tr><tr><td>Stay Alive</td><td>2006-03-24</td><td>Friday</td><td>3</td><td>2006</td></tr><tr><td>The Wild</td><td>2006-04-14</td><td>Friday</td><td>4</td><td>2006</td></tr><tr><td>Stick It</td><td>2006-04-28</td><td>Friday</td><td>4</td><td>2006</td></tr><tr><td>Goal! The Dream Begins</td><td>2006-05-12</td><td>Friday</td><td>5</td><td>2006</td></tr><tr><td>Cars</td><td>2006-06-09</td><td>Friday</td><td>6</td><td>2006</td></tr><tr><td>Pirates of the Caribbean: Dead Man’…</td><td>2006-07-07</td><td>Friday</td><td>7</td><td>2006</td></tr><tr><td>Step Up</td><td>2006-08-11</td><td>Friday</td><td>8</td><td>2006</td></tr><tr><td>Invincible</td><td>2006-08-25</td><td>Friday</td><td>8</td><td>2006</td></tr><tr><td>The Guardian</td><td>2006-09-29</td><td>Friday</td><td>9</td><td>2006</td></tr><tr><td>The Prestige</td><td>2006-10-20</td><td>Friday</td><td>10</td><td>2006</td></tr><tr><td>Tim Burton's The Nightmare Before Chr…</td><td>2006-10-20</td><td>Friday</td><td>10</td><td>2006</td></tr><tr><td>The Santa Clause 3: The Escape Clause</td><td>2006-11-03</td><td>Friday</td><td>11</td><td>2006</td></tr><tr><td>Déjà Vu</td><td>2006-11-22</td><td>Wednesday</td><td>11</td><td>2006</td></tr><tr><td>Apocalypto</td><td>2006-12-08</td><td>Friday</td><td>12</td><td>2006</td></tr><tr><td>Primeval</td><td>2007-01-12</td><td>Friday</td><td>1</td><td>2007</td></tr><tr><td>Bridge to Terabithia</td><td>2007-02-16</td><td>Friday</td><td>2</td><td>2007</td></tr><tr><td>Wild Hogs</td><td>2007-03-02</td><td>Friday</td><td>3</td><td>2007</td></tr><tr><td>Meet the Robinsons</td><td>2007-03-30</td><td>Friday</td><td>3</td><td>2007</td></tr><tr><td>The Lookout</td><td>2007-03-30</td><td>Friday</td><td>3</td><td>2007</td></tr><tr><td>The Hoax</td><td>2007-04-06</td><td>Friday</td><td>4</td><td>2007</td></tr><tr><td>The Invisible</td><td>2007-04-27</td><td>Friday</td><td>4</td><td>2007</td></tr><tr><td>Pirates of the Caribbean: At World’…</td><td>2007-05-24</td><td>Thursday</td><td>5</td><td>2007</td></tr><tr><td>Ratatouille</td><td>2007-06-29</td><td>Friday</td><td>6</td><td>2007</td></tr><tr><td>Underdog</td><td>2007-08-03</td><td>Friday</td><td>8</td><td>2007</td></tr><tr><td>The Game Plan</td><td>2007-09-22</td><td>Saturday</td><td>9</td><td>2007</td></tr><tr><td>Dan in Real Life</td><td>2007-10-20</td><td>Saturday</td><td>10</td><td>2007</td></tr><tr><td>Enchanted</td><td>2007-11-21</td><td>Wednesday</td><td>11</td><td>2007</td></tr><tr><td>National Treasure 2: Book of Secrets</td><td>2007-12-21</td><td>Friday</td><td>12</td><td>2007</td></tr><tr><td>Hannah Montana/Miley Cyrus: Best of B…</td><td>2008-02-01</td><td>Friday</td><td>2</td><td>2008</td></tr><tr><td>Step Up 2 the Streets</td><td>2008-02-14</td><td>Thursday</td><td>2</td><td>2008</td></tr><tr><td>College Road Trip</td><td>2008-03-07</td><td>Friday</td><td>3</td><td>2008</td></tr><tr><td>The Chronicles of Narnia: Prince Caspian</td><td>2008-05-16</td><td>Friday</td><td>5</td><td>2008</td></tr><tr><td>WALL-E</td><td>2008-06-27</td><td>Friday</td><td>6</td><td>2008</td></tr><tr><td>Swing Vote</td><td>2008-08-01</td><td>Friday</td><td>8</td><td>2008</td></tr><tr><td>Goal! 2: Living the Dream...</td><td>2008-08-29</td><td>Friday</td><td>8</td><td>2008</td></tr><tr><td>Miracle at St. Anna</td><td>2008-09-26</td><td>Friday</td><td>9</td><td>2008</td></tr><tr><td>Beverly Hills Chihuahua</td><td>2008-10-03</td><td>Friday</td><td>10</td><td>2008</td></tr><tr><td>Morning Light</td><td>2008-10-17</td><td>Friday</td><td>10</td><td>2008</td></tr><tr><td>High School Musical 3: Senior Year</td><td>2008-10-24</td><td>Friday</td><td>10</td><td>2008</td></tr><tr><td>Bolt</td><td>2008-11-21</td><td>Friday</td><td>11</td><td>2008</td></tr><tr><td>Bedtime Stories</td><td>2008-12-25</td><td>Thursday</td><td>12</td><td>2008</td></tr><tr><td>Confessions of a Shopaholic</td><td>2009-02-13</td><td>Friday</td><td>2</td><td>2009</td></tr><tr><td>Jonas Brothers: The 3D Concert Experi…</td><td>2009-02-27</td><td>Friday</td><td>2</td><td>2009</td></tr><tr><td>Race to Witch Mountain</td><td>2009-03-13</td><td>Friday</td><td>3</td><td>2009</td></tr><tr><td>Hannah Montana the Movie</td><td>2009-04-10</td><td>Friday</td><td>4</td><td>2009</td></tr><tr><td>Earth</td><td>2009-04-22</td><td>Wednesday</td><td>4</td><td>2009</td></tr><tr><td>Up</td><td>2009-05-29</td><td>Friday</td><td>5</td><td>2009</td></tr><tr><td>The Proposal</td><td>2009-06-19</td><td>Friday</td><td>6</td><td>2009</td></tr><tr><td>G-Force</td><td>2009-07-24</td><td>Friday</td><td>7</td><td>2009</td></tr><tr><td>Gake no ue no Ponyo</td><td>2009-08-14</td><td>Friday</td><td>8</td><td>2009</td></tr><tr><td>X Games 3D: The Movie</td><td>2009-08-21</td><td>Friday</td><td>8</td><td>2009</td></tr><tr><td>Walt and El Grupo</td><td>2009-09-10</td><td>Thursday</td><td>9</td><td>2009</td></tr><tr><td>Surrogates</td><td>2009-09-25</td><td>Friday</td><td>9</td><td>2009</td></tr><tr><td>Toy Story 3D Double Feature</td><td>2009-10-02</td><td>Friday</td><td>10</td><td>2009</td></tr><tr><td>Disney's A Christmas Carol</td><td>2009-11-06</td><td>Friday</td><td>11</td><td>2009</td></tr><tr><td>The Princess and the Frog</td><td>2009-11-25</td><td>Wednesday</td><td>11</td><td>2009</td></tr><tr><td>Old Dogs</td><td>2009-11-25</td><td>Wednesday</td><td>11</td><td>2009</td></tr><tr><td>When in Rome</td><td>2010-01-29</td><td>Friday</td><td>1</td><td>2010</td></tr><tr><td>Alice in Wonderland</td><td>2010-03-05</td><td>Friday</td><td>3</td><td>2010</td></tr><tr><td>Waking Sleeping Beauty</td><td>2010-03-26</td><td>Friday</td><td>3</td><td>2010</td></tr><tr><td>The Last Song</td><td>2010-03-31</td><td>Wednesday</td><td>3</td><td>2010</td></tr><tr><td>Oceans</td><td>2010-04-22</td><td>Thursday</td><td>4</td><td>2010</td></tr><tr><td>Prince of Persia: Sands of Time</td><td>2010-05-28</td><td>Friday</td><td>5</td><td>2010</td></tr><tr><td>Toy Story 3</td><td>2010-06-18</td><td>Friday</td><td>6</td><td>2010</td></tr><tr><td>The Sorcerer's Apprentice</td><td>2010-07-14</td><td>Wednesday</td><td>7</td><td>2010</td></tr><tr><td>Step Up 3D</td><td>2010-08-06</td><td>Friday</td><td>8</td><td>2010</td></tr><tr><td>Gedo Senki (Tales from Earthsea)</td><td>2010-08-13</td><td>Friday</td><td>8</td><td>2010</td></tr><tr><td>You Again</td><td>2010-09-24</td><td>Friday</td><td>9</td><td>2010</td></tr><tr><td>Secretariat</td><td>2010-10-08</td><td>Friday</td><td>10</td><td>2010</td></tr><tr><td>Tangled</td><td>2010-11-24</td><td>Wednesday</td><td>11</td><td>2010</td></tr><tr><td>Tron: Legacy</td><td>2010-12-17</td><td>Friday</td><td>12</td><td>2010</td></tr><tr><td>Gnomeo and Juliet</td><td>2011-02-11</td><td>Friday</td><td>2</td><td>2011</td></tr><tr><td>I am Number Four</td><td>2011-02-18</td><td>Friday</td><td>2</td><td>2011</td></tr><tr><td>Mars Needs Moms</td><td>2011-03-11</td><td>Friday</td><td>3</td><td>2011</td></tr><tr><td>African Cats</td><td>2011-04-22</td><td>Friday</td><td>4</td><td>2011</td></tr><tr><td>Zokkomon</td><td>2011-04-22</td><td>Friday</td><td>4</td><td>2011</td></tr><tr><td>Prom</td><td>2011-04-29</td><td>Friday</td><td>4</td><td>2011</td></tr><tr><td>Pirates of the Caribbean: On Stranger…</td><td>2011-05-20</td><td>Friday</td><td>5</td><td>2011</td></tr><tr><td>Cars 2</td><td>2011-06-24</td><td>Friday</td><td>6</td><td>2011</td></tr><tr><td>Winnie the Pooh</td><td>2011-07-15</td><td>Friday</td><td>7</td><td>2011</td></tr><tr><td>The Help</td><td>2011-08-10</td><td>Wednesday</td><td>8</td><td>2011</td></tr><tr><td>Fright Night</td><td>2011-08-19</td><td>Friday</td><td>8</td><td>2011</td></tr><tr><td>Real Steel</td><td>2011-10-07</td><td>Friday</td><td>10</td><td>2011</td></tr><tr><td>The Muppets</td><td>2011-11-23</td><td>Wednesday</td><td>11</td><td>2011</td></tr><tr><td>War Horse</td><td>2011-12-25</td><td>Sunday</td><td>12</td><td>2011</td></tr><tr><td>The Secret World of Arietty</td><td>2012-02-17</td><td>Friday</td><td>2</td><td>2012</td></tr><tr><td>John Carter</td><td>2012-03-09</td><td>Friday</td><td>3</td><td>2012</td></tr><tr><td>Chimpanzee</td><td>2012-04-20</td><td>Friday</td><td>4</td><td>2012</td></tr><tr><td>The Avengers</td><td>2012-05-04</td><td>Friday</td><td>5</td><td>2012</td></tr><tr><td>Brave</td><td>2012-06-22</td><td>Friday</td><td>6</td><td>2012</td></tr><tr><td>People Like Us</td><td>2012-06-29</td><td>Friday</td><td>6</td><td>2012</td></tr><tr><td>The Odd Life of Timothy Green</td><td>2012-08-15</td><td>Wednesday</td><td>8</td><td>2012</td></tr><tr><td>Frankenweenie</td><td>2012-10-05</td><td>Friday</td><td>10</td><td>2012</td></tr><tr><td>Wreck-It Ralph</td><td>2012-11-02</td><td>Friday</td><td>11</td><td>2012</td></tr><tr><td>Lincoln</td><td>2012-11-09</td><td>Friday</td><td>11</td><td>2012</td></tr><tr><td>Oz the Great and Powerful</td><td>2013-03-08</td><td>Friday</td><td>3</td><td>2013</td></tr><tr><td>Iron Man 3</td><td>2013-05-03</td><td>Friday</td><td>5</td><td>2013</td></tr><tr><td>Monsters University</td><td>2013-06-21</td><td>Friday</td><td>6</td><td>2013</td></tr><tr><td>The Lone Ranger</td><td>2013-07-02</td><td>Tuesday</td><td>7</td><td>2013</td></tr><tr><td>Disney Planes</td><td>2013-08-09</td><td>Friday</td><td>8</td><td>2013</td></tr><tr><td>The Fifth Estate</td><td>2013-10-18</td><td>Friday</td><td>10</td><td>2013</td></tr><tr><td>Thor: The Dark World</td><td>2013-11-08</td><td>Friday</td><td>11</td><td>2013</td></tr><tr><td>Kaze Tachinu</td><td>2013-11-08</td><td>Friday</td><td>11</td><td>2013</td></tr><tr><td>Frozen</td><td>2013-11-22</td><td>Friday</td><td>11</td><td>2013</td></tr><tr><td>Delivery Man</td><td>2013-11-22</td><td>Friday</td><td>11</td><td>2013</td></tr><tr><td>Saving Mr. Banks</td><td>2013-12-13</td><td>Friday</td><td>12</td><td>2013</td></tr><tr><td>Need for Speed</td><td>2014-03-14</td><td>Friday</td><td>3</td><td>2014</td></tr><tr><td>Muppets Most Wanted</td><td>2014-03-21</td><td>Friday</td><td>3</td><td>2014</td></tr><tr><td>Captain America: The Winter Soldier</td><td>2014-04-04</td><td>Friday</td><td>4</td><td>2014</td></tr><tr><td>Bears</td><td>2014-04-18</td><td>Friday</td><td>4</td><td>2014</td></tr><tr><td>Million Dollar Arm</td><td>2014-05-10</td><td>Saturday</td><td>5</td><td>2014</td></tr><tr><td>Maleficent</td><td>2014-05-30</td><td>Friday</td><td>5</td><td>2014</td></tr><tr><td>Planes: Fire and Rescue</td><td>2014-07-18</td><td>Friday</td><td>7</td><td>2014</td></tr><tr><td>Guardians of the Galaxy</td><td>2014-08-01</td><td>Friday</td><td>8</td><td>2014</td></tr><tr><td>The Hundred-Foot Journey</td><td>2014-08-08</td><td>Friday</td><td>8</td><td>2014</td></tr><tr><td>Alexander and the Terrible, Horrible,…</td><td>2014-10-10</td><td>Friday</td><td>10</td><td>2014</td></tr><tr><td>Big Hero 6</td><td>2014-11-07</td><td>Friday</td><td>11</td><td>2014</td></tr><tr><td>Into the Woods</td><td>2014-12-25</td><td>Thursday</td><td>12</td><td>2014</td></tr><tr><td>Strange Magic</td><td>2015-01-23</td><td>Friday</td><td>1</td><td>2015</td></tr><tr><td>McFarland, USA</td><td>2015-02-20</td><td>Friday</td><td>2</td><td>2015</td></tr><tr><td>Cinderella</td><td>2015-03-13</td><td>Friday</td><td>3</td><td>2015</td></tr><tr><td>Monkey Kingdom</td><td>2015-04-17</td><td>Friday</td><td>4</td><td>2015</td></tr><tr><td>Avengers: Age of Ultron</td><td>2015-05-01</td><td>Friday</td><td>5</td><td>2015</td></tr><tr><td>Tomorrowland</td><td>2015-05-22</td><td>Friday</td><td>5</td><td>2015</td></tr><tr><td>Inside Out</td><td>2015-06-19</td><td>Friday</td><td>6</td><td>2015</td></tr><tr><td>Ant-Man</td><td>2015-07-17</td><td>Friday</td><td>7</td><td>2015</td></tr><tr><td>Bridge of Spies</td><td>2015-10-16</td><td>Friday</td><td>10</td><td>2015</td></tr><tr><td>The Good Dinosaur</td><td>2015-11-25</td><td>Wednesday</td><td>11</td><td>2015</td></tr><tr><td>Star Wars Ep. VII: The Force Awakens</td><td>2015-12-18</td><td>Friday</td><td>12</td><td>2015</td></tr><tr><td>The Finest Hours</td><td>2016-01-29</td><td>Friday</td><td>1</td><td>2016</td></tr><tr><td>Zootopia</td><td>2016-03-04</td><td>Friday</td><td>3</td><td>2016</td></tr><tr><td>The Jungle Book</td><td>2016-04-15</td><td>Friday</td><td>4</td><td>2016</td></tr><tr><td>A Beautiful Planet</td><td>2016-04-29</td><td>Friday</td><td>4</td><td>2016</td></tr><tr><td>Captain America: Civil War</td><td>2016-05-06</td><td>Friday</td><td>5</td><td>2016</td></tr><tr><td>Alice Through the Looking Glass</td><td>2016-05-27</td><td>Friday</td><td>5</td><td>2016</td></tr><tr><td>Finding Dory</td><td>2016-06-17</td><td>Friday</td><td>6</td><td>2016</td></tr><tr><td>The BFG</td><td>2016-07-01</td><td>Friday</td><td>7</td><td>2016</td></tr><tr><td>Pete’s Dragon</td><td>2016-08-12</td><td>Friday</td><td>8</td><td>2016</td></tr><tr><td>The Light Between Oceans</td><td>2016-09-02</td><td>Friday</td><td>9</td><td>2016</td></tr><tr><td>Queen of Katwe</td><td>2016-09-23</td><td>Friday</td><td>9</td><td>2016</td></tr><tr><td>Doctor Strange</td><td>2016-11-04</td><td>Friday</td><td>11</td><td>2016</td></tr><tr><td>Moana</td><td>2016-11-23</td><td>Wednesday</td><td>11</td><td>2016</td></tr><tr><td>Rogue One: A Star Wars Story</td><td>2016-12-16</td><td>Friday</td><td>12</td><td>2016</td></tr></table>"
                    },
                    "metadata": {}
                }
            ],
            "execution_count": 15
        },
        {
            "cell_type": "code",
            "source": [
                "select weekday, count(weekday) from vw_debut\n",
                "    group by weekday\n",
                "    order by count(weekday) desc"
            ],
            "metadata": {},
            "outputs": [
                {
                    "output_type": "display_data",
                    "data": {
                        "text/html": "(6 rows affected)"
                    },
                    "metadata": {}
                },
                {
                    "output_type": "display_data",
                    "data": {
                        "text/html": "Total execution time: 00:00:00.059"
                    },
                    "metadata": {}
                },
                {
                    "output_type": "execute_result",
                    "execution_count": 10,
                    "data": {
                        "application/vnd.dataresource+json": {
                            "schema": {
                                "fields": [
                                    {
                                        "name": "weekday"
                                    },
                                    {
                                        "name": "(No column name)"
                                    }
                                ]
                            },
                            "data": [
                                {
                                    "0": "Friday",
                                    "1": "464"
                                },
                                {
                                    "0": "Wednesday",
                                    "1": "75"
                                },
                                {
                                    "0": "Thursday",
                                    "1": "20"
                                },
                                {
                                    "0": "Tuesday",
                                    "1": "9"
                                },
                                {
                                    "0": "Saturday",
                                    "1": "7"
                                },
                                {
                                    "0": "Sunday",
                                    "1": "4"
                                }
                            ]
                        },
                        "text/html": "<table><tr><th>weekday</th><th>(No column name)</th></tr><tr><td>Friday</td><td>464</td></tr><tr><td>Wednesday</td><td>75</td></tr><tr><td>Thursday</td><td>20</td></tr><tr><td>Tuesday</td><td>9</td></tr><tr><td>Saturday</td><td>7</td></tr><tr><td>Sunday</td><td>4</td></tr></table>"
                    },
                    "metadata": {}
                }
            ],
            "execution_count": 10
        },
        {
            "cell_type": "code",
            "source": "drop view vw_g",
            "metadata": {},
            "outputs": [
                {
                    "output_type": "display_data",
                    "data": {
                        "text/html": "Commands completed successfully."
                    },
                    "metadata": {}
                },
                {
                    "output_type": "display_data",
                    "data": {
                        "text/html": "Total execution time: 00:00:00.075"
                    },
                    "metadata": {}
                }
            ],
            "execution_count": 11
        },
        {
            "cell_type": "code",
            "source": "select * from director",
            "metadata": {},
            "outputs": [
                {
                    "output_type": "display_data",
                    "data": {
                        "text/html": "(56 rows affected)"
                    },
                    "metadata": {}
                },
                {
                    "output_type": "display_data",
                    "data": {
                        "text/html": "Total execution time: 00:00:00.123"
                    },
                    "metadata": {}
                },
                {
                    "output_type": "execute_result",
                    "execution_count": 16,
                    "data": {
                        "application/vnd.dataresource+json": {
                            "schema": {
                                "fields": [
                                    {
                                        "name": "movie_title"
                                    },
                                    {
                                        "name": "director"
                                    }
                                ]
                            },
                            "data": [
                                {
                                    "0": "Snow White and the Seven Dwarfs",
                                    "1": "David Hand"
                                },
                                {
                                    "0": "Pinocchio",
                                    "1": "Ben Sharpsteen"
                                },
                                {
                                    "0": "Fantasia",
                                    "1": "full credits"
                                },
                                {
                                    "0": "Dumbo",
                                    "1": "Ben Sharpsteen"
                                },
                                {
                                    "0": "Bambi",
                                    "1": "David Hand"
                                },
                                {
                                    "0": "Saludos Amigos",
                                    "1": "Jack Kinney"
                                },
                                {
                                    "0": "The Three Caballeros",
                                    "1": "Norman Ferguson"
                                },
                                {
                                    "0": "Make Mine Music",
                                    "1": "Jack Kinney"
                                },
                                {
                                    "0": "Fun and Fancy Free",
                                    "1": "Jack Kinney"
                                },
                                {
                                    "0": "Melody Time",
                                    "1": "Clyde Geronimi"
                                },
                                {
                                    "0": "The Adventures of Ichabod and Mr. Toad",
                                    "1": "Jack Kinney"
                                },
                                {
                                    "0": "Cinderella",
                                    "1": "Wilfred Jackson"
                                },
                                {
                                    "0": "Alice in Wonderland",
                                    "1": "Clyde Geronimi"
                                },
                                {
                                    "0": "Peter Pan",
                                    "1": "Hamilton Luske"
                                },
                                {
                                    "0": "Lady and the Tramp",
                                    "1": "Hamilton Luske"
                                },
                                {
                                    "0": "Sleeping Beauty",
                                    "1": "Clyde Geronimi"
                                },
                                {
                                    "0": "101 Dalmatians",
                                    "1": "Wolfgang Reitherman"
                                },
                                {
                                    "0": "The Sword in the Stone",
                                    "1": "Wolfgang Reitherman"
                                },
                                {
                                    "0": "The Jungle Book",
                                    "1": "Wolfgang Reitherman"
                                },
                                {
                                    "0": "The Aristocats",
                                    "1": "Wolfgang Reitherman"
                                },
                                {
                                    "0": "Robin Hood",
                                    "1": "Wolfgang Reitherman"
                                },
                                {
                                    "0": "The Many Adventures of Winnie the Pooh",
                                    "1": "Wolfgang Reitherman"
                                },
                                {
                                    "0": "The Rescuers",
                                    "1": "Wolfgang Reitherman"
                                },
                                {
                                    "0": "The Fox and the Hound",
                                    "1": "Art Stevens"
                                },
                                {
                                    "0": "The Black Cauldron",
                                    "1": "Ted Berman"
                                },
                                {
                                    "0": "The Great Mouse Detective",
                                    "1": "Ron Clements"
                                },
                                {
                                    "0": "Oliver & Company",
                                    "1": "George Scribner"
                                },
                                {
                                    "0": "The Little Mermaid",
                                    "1": "Ron Clements"
                                },
                                {
                                    "0": "The Rescuers Down Under",
                                    "1": "Mike Gabriel"
                                },
                                {
                                    "0": "Beauty and the Beast",
                                    "1": "Gary Trousdale"
                                },
                                {
                                    "0": "Aladdin",
                                    "1": "Ron Clements"
                                },
                                {
                                    "0": "The Lion King",
                                    "1": "Roger Allers"
                                },
                                {
                                    "0": "Pocahontas",
                                    "1": "Mike Gabriel"
                                },
                                {
                                    "0": "The Hunchback of Notre Dame",
                                    "1": "Gary Trousdale"
                                },
                                {
                                    "0": "Hercules",
                                    "1": "Ron Clements"
                                },
                                {
                                    "0": "Mulan",
                                    "1": "Barry Cook"
                                },
                                {
                                    "0": "Tarzan",
                                    "1": "Chris Buck"
                                },
                                {
                                    "0": "Fantasia 2000",
                                    "1": "full credits"
                                },
                                {
                                    "0": "Dinosaur",
                                    "1": "Ralph Zondag"
                                },
                                {
                                    "0": "The Emperor's New Groove",
                                    "1": "Mark Dindal"
                                },
                                {
                                    "0": "Atlantis: The Lost Empire",
                                    "1": "Gary Trousdale"
                                },
                                {
                                    "0": "Lilo & Stitch",
                                    "1": "Chris Sanders"
                                },
                                {
                                    "0": "Treasure Planet",
                                    "1": "Ron Clements"
                                },
                                {
                                    "0": "Brother Bear",
                                    "1": "Robert Walker"
                                },
                                {
                                    "0": "Home on the Range",
                                    "1": "Will Finn"
                                },
                                {
                                    "0": "Chicken Little",
                                    "1": "Mark Dindal"
                                },
                                {
                                    "0": "Meet the Robinsons",
                                    "1": "Stephen J. Anderson"
                                },
                                {
                                    "0": "Bolt",
                                    "1": "Chris Williams"
                                },
                                {
                                    "0": "The Princess and the Frog",
                                    "1": "Ron Clements"
                                },
                                {
                                    "0": "Tangled",
                                    "1": "Nathan Greno"
                                },
                                {
                                    "0": "Winnie the Pooh",
                                    "1": "Stephen J. Anderson"
                                },
                                {
                                    "0": "Wreck-It Ralph",
                                    "1": "Rich Moore"
                                },
                                {
                                    "0": "Frozen",
                                    "1": "Chris Buck"
                                },
                                {
                                    "0": "Big Hero 6",
                                    "1": "Don Hall"
                                },
                                {
                                    "0": "Zootopia",
                                    "1": "Byron Howard"
                                },
                                {
                                    "0": "Moana",
                                    "1": "Ron Clements"
                                }
                            ]
                        },
                        "text/html": "<table><tr><th>movie_title</th><th>director</th></tr><tr><td>Snow White and the Seven Dwarfs</td><td>David Hand</td></tr><tr><td>Pinocchio</td><td>Ben Sharpsteen</td></tr><tr><td>Fantasia</td><td>full credits</td></tr><tr><td>Dumbo</td><td>Ben Sharpsteen</td></tr><tr><td>Bambi</td><td>David Hand</td></tr><tr><td>Saludos Amigos</td><td>Jack Kinney</td></tr><tr><td>The Three Caballeros</td><td>Norman Ferguson</td></tr><tr><td>Make Mine Music</td><td>Jack Kinney</td></tr><tr><td>Fun and Fancy Free</td><td>Jack Kinney</td></tr><tr><td>Melody Time</td><td>Clyde Geronimi</td></tr><tr><td>The Adventures of Ichabod and Mr. Toad</td><td>Jack Kinney</td></tr><tr><td>Cinderella</td><td>Wilfred Jackson</td></tr><tr><td>Alice in Wonderland</td><td>Clyde Geronimi</td></tr><tr><td>Peter Pan</td><td>Hamilton Luske</td></tr><tr><td>Lady and the Tramp</td><td>Hamilton Luske</td></tr><tr><td>Sleeping Beauty</td><td>Clyde Geronimi</td></tr><tr><td>101 Dalmatians</td><td>Wolfgang Reitherman</td></tr><tr><td>The Sword in the Stone</td><td>Wolfgang Reitherman</td></tr><tr><td>The Jungle Book</td><td>Wolfgang Reitherman</td></tr><tr><td>The Aristocats</td><td>Wolfgang Reitherman</td></tr><tr><td>Robin Hood</td><td>Wolfgang Reitherman</td></tr><tr><td>The Many Adventures of Winnie the Pooh</td><td>Wolfgang Reitherman</td></tr><tr><td>The Rescuers</td><td>Wolfgang Reitherman</td></tr><tr><td>The Fox and the Hound</td><td>Art Stevens</td></tr><tr><td>The Black Cauldron</td><td>Ted Berman</td></tr><tr><td>The Great Mouse Detective</td><td>Ron Clements</td></tr><tr><td>Oliver &amp; Company</td><td>George Scribner</td></tr><tr><td>The Little Mermaid</td><td>Ron Clements</td></tr><tr><td>The Rescuers Down Under</td><td>Mike Gabriel</td></tr><tr><td>Beauty and the Beast</td><td>Gary Trousdale</td></tr><tr><td>Aladdin</td><td>Ron Clements</td></tr><tr><td>The Lion King</td><td>Roger Allers</td></tr><tr><td>Pocahontas</td><td>Mike Gabriel</td></tr><tr><td>The Hunchback of Notre Dame</td><td>Gary Trousdale</td></tr><tr><td>Hercules</td><td>Ron Clements</td></tr><tr><td>Mulan</td><td>Barry Cook</td></tr><tr><td>Tarzan</td><td>Chris Buck</td></tr><tr><td>Fantasia 2000</td><td>full credits</td></tr><tr><td>Dinosaur</td><td>Ralph Zondag</td></tr><tr><td>The Emperor's New Groove</td><td>Mark Dindal</td></tr><tr><td>Atlantis: The Lost Empire</td><td>Gary Trousdale</td></tr><tr><td>Lilo &amp; Stitch</td><td>Chris Sanders</td></tr><tr><td>Treasure Planet</td><td>Ron Clements</td></tr><tr><td>Brother Bear</td><td>Robert Walker</td></tr><tr><td>Home on the Range</td><td>Will Finn</td></tr><tr><td>Chicken Little</td><td>Mark Dindal</td></tr><tr><td>Meet the Robinsons</td><td>Stephen J. Anderson</td></tr><tr><td>Bolt</td><td>Chris Williams</td></tr><tr><td>The Princess and the Frog</td><td>Ron Clements</td></tr><tr><td>Tangled</td><td>Nathan Greno</td></tr><tr><td>Winnie the Pooh</td><td>Stephen J. Anderson</td></tr><tr><td>Wreck-It Ralph</td><td>Rich Moore</td></tr><tr><td>Frozen</td><td>Chris Buck</td></tr><tr><td>Big Hero 6</td><td>Don Hall</td></tr><tr><td>Zootopia</td><td>Byron Howard</td></tr><tr><td>Moana</td><td>Ron Clements</td></tr></table>"
                    },
                    "metadata": {}
                }
            ],
            "execution_count": 16
        },
        {
            "cell_type": "code",
            "source": "select top 10 * from movie_gross",
            "metadata": {},
            "outputs": [
                {
                    "output_type": "display_data",
                    "data": {
                        "text/html": "(10 rows affected)"
                    },
                    "metadata": {}
                },
                {
                    "output_type": "display_data",
                    "data": {
                        "text/html": "Total execution time: 00:00:00.058"
                    },
                    "metadata": {}
                },
                {
                    "output_type": "execute_result",
                    "execution_count": 17,
                    "data": {
                        "application/vnd.dataresource+json": {
                            "schema": {
                                "fields": [
                                    {
                                        "name": "movie_title"
                                    },
                                    {
                                        "name": "release_date"
                                    },
                                    {
                                        "name": "genre"
                                    },
                                    {
                                        "name": "mpaa_rating"
                                    },
                                    {
                                        "name": "total_gross"
                                    },
                                    {
                                        "name": "inflation_adjusted_gross"
                                    }
                                ]
                            },
                            "data": [
                                {
                                    "0": "Snow White and the Seven Dwarfs",
                                    "1": "1937-12-21",
                                    "2": "Musical",
                                    "3": "G",
                                    "4": "184925485",
                                    "5": "5228953251"
                                },
                                {
                                    "0": "Pinocchio",
                                    "1": "1940-02-09",
                                    "2": "Adventure",
                                    "3": "G",
                                    "4": "84300000",
                                    "5": "2188229052"
                                },
                                {
                                    "0": "Fantasia",
                                    "1": "1940-11-13",
                                    "2": "Musical",
                                    "3": "G",
                                    "4": "83320000",
                                    "5": "2187090808"
                                },
                                {
                                    "0": "Song of the South",
                                    "1": "1946-11-12",
                                    "2": "Adventure",
                                    "3": "G",
                                    "4": "65000000",
                                    "5": "1078510579"
                                },
                                {
                                    "0": "Cinderella",
                                    "1": "1950-02-15",
                                    "2": "Drama",
                                    "3": "G",
                                    "4": "85000000",
                                    "5": "920608730"
                                },
                                {
                                    "0": "20,000 Leagues Under the Sea",
                                    "1": "1954-12-23",
                                    "2": "Adventure",
                                    "3": "NULL",
                                    "4": "28200000",
                                    "5": "528279994"
                                },
                                {
                                    "0": "Lady and the Tramp",
                                    "1": "1955-06-22",
                                    "2": "Drama",
                                    "3": "G",
                                    "4": "93600000",
                                    "5": "1236035515"
                                },
                                {
                                    "0": "Sleeping Beauty",
                                    "1": "1959-01-29",
                                    "2": "Drama",
                                    "3": "NULL",
                                    "4": "9464608",
                                    "5": "21505832"
                                },
                                {
                                    "0": "101 Dalmatians",
                                    "1": "1961-01-25",
                                    "2": "Comedy",
                                    "3": "G",
                                    "4": "153000000",
                                    "5": "1362870985"
                                },
                                {
                                    "0": "The Absent Minded Professor",
                                    "1": "1961-03-16",
                                    "2": "Comedy",
                                    "3": "NULL",
                                    "4": "25381407",
                                    "5": "310094574"
                                }
                            ]
                        },
                        "text/html": "<table><tr><th>movie_title</th><th>release_date</th><th>genre</th><th>mpaa_rating</th><th>total_gross</th><th>inflation_adjusted_gross</th></tr><tr><td>Snow White and the Seven Dwarfs</td><td>1937-12-21</td><td>Musical</td><td>G</td><td>184925485</td><td>5228953251</td></tr><tr><td>Pinocchio</td><td>1940-02-09</td><td>Adventure</td><td>G</td><td>84300000</td><td>2188229052</td></tr><tr><td>Fantasia</td><td>1940-11-13</td><td>Musical</td><td>G</td><td>83320000</td><td>2187090808</td></tr><tr><td>Song of the South</td><td>1946-11-12</td><td>Adventure</td><td>G</td><td>65000000</td><td>1078510579</td></tr><tr><td>Cinderella</td><td>1950-02-15</td><td>Drama</td><td>G</td><td>85000000</td><td>920608730</td></tr><tr><td>20,000 Leagues Under the Sea</td><td>1954-12-23</td><td>Adventure</td><td>NULL</td><td>28200000</td><td>528279994</td></tr><tr><td>Lady and the Tramp</td><td>1955-06-22</td><td>Drama</td><td>G</td><td>93600000</td><td>1236035515</td></tr><tr><td>Sleeping Beauty</td><td>1959-01-29</td><td>Drama</td><td>NULL</td><td>9464608</td><td>21505832</td></tr><tr><td>101 Dalmatians</td><td>1961-01-25</td><td>Comedy</td><td>G</td><td>153000000</td><td>1362870985</td></tr><tr><td>The Absent Minded Professor</td><td>1961-03-16</td><td>Comedy</td><td>NULL</td><td>25381407</td><td>310094574</td></tr></table>"
                    },
                    "metadata": {}
                }
            ],
            "execution_count": 17
        },
        {
            "cell_type": "code",
            "source": [
                "create view vw_movie_director as\n",
                "    select m.movie_title, release_date, genre, d.director\n",
                "        from movie_gross m left join director d on m.movie_title = d.movie_title"
            ],
            "metadata": {},
            "outputs": [
                {
                    "output_type": "display_data",
                    "data": {
                        "text/html": "Commands completed successfully."
                    },
                    "metadata": {}
                },
                {
                    "output_type": "display_data",
                    "data": {
                        "text/html": "Total execution time: 00:00:00.081"
                    },
                    "metadata": {}
                }
            ],
            "execution_count": 20
        },
        {
            "cell_type": "code",
            "source": [
                "select * from vw_movie_director\n",
                "    where genre='Musical'"
            ],
            "metadata": {},
            "outputs": [
                {
                    "output_type": "display_data",
                    "data": {
                        "text/html": "(16 rows affected)"
                    },
                    "metadata": {}
                },
                {
                    "output_type": "display_data",
                    "data": {
                        "text/html": "Total execution time: 00:00:00.063"
                    },
                    "metadata": {}
                },
                {
                    "output_type": "execute_result",
                    "execution_count": 22,
                    "data": {
                        "application/vnd.dataresource+json": {
                            "schema": {
                                "fields": [
                                    {
                                        "name": "movie_title"
                                    },
                                    {
                                        "name": "release_date"
                                    },
                                    {
                                        "name": "genre"
                                    },
                                    {
                                        "name": "director"
                                    }
                                ]
                            },
                            "data": [
                                {
                                    "0": "Snow White and the Seven Dwarfs",
                                    "1": "1937-12-21",
                                    "2": "Musical",
                                    "3": "David Hand"
                                },
                                {
                                    "0": "Fantasia",
                                    "1": "1940-11-13",
                                    "2": "Musical",
                                    "3": "full credits"
                                },
                                {
                                    "0": "Babes in Toyland",
                                    "1": "1961-12-14",
                                    "2": "Musical",
                                    "3": "NULL"
                                },
                                {
                                    "0": "The Jungle Book",
                                    "1": "1967-10-18",
                                    "2": "Musical",
                                    "3": "Wolfgang Reitherman"
                                },
                                {
                                    "0": "The Aristocats",
                                    "1": "1970-04-24",
                                    "2": "Musical",
                                    "3": "Wolfgang Reitherman"
                                },
                                {
                                    "0": "Bedknobs and Broomsticks",
                                    "1": "1971-10-07",
                                    "2": "Musical",
                                    "3": "NULL"
                                },
                                {
                                    "0": "Beauty and the Beast",
                                    "1": "1991-11-13",
                                    "2": "Musical",
                                    "3": "Gary Trousdale"
                                },
                                {
                                    "0": "Swing Kids",
                                    "1": "1993-03-05",
                                    "2": "Musical",
                                    "3": "NULL"
                                },
                                {
                                    "0": "The Nightmare Before Christmas",
                                    "1": "1993-10-13",
                                    "2": "Musical",
                                    "3": "NULL"
                                },
                                {
                                    "0": "Evita",
                                    "1": "1996-12-25",
                                    "2": "Musical",
                                    "3": "NULL"
                                },
                                {
                                    "0": "Fantasia 2000 (IMAX)",
                                    "1": "2000-01-01",
                                    "2": "Musical",
                                    "3": "NULL"
                                },
                                {
                                    "0": "Fantasia 2000 (Theatrical Release)",
                                    "1": "2000-06-16",
                                    "2": "Musical",
                                    "3": "NULL"
                                },
                                {
                                    "0": "Beauty and the Beast (IMAX)",
                                    "1": "2002-01-01",
                                    "2": "Musical",
                                    "3": "NULL"
                                },
                                {
                                    "0": "Tim Burton's The Nightmare Before Chr…",
                                    "1": "2006-10-20",
                                    "2": "Musical",
                                    "3": "NULL"
                                },
                                {
                                    "0": "High School Musical 3: Senior Year",
                                    "1": "2008-10-24",
                                    "2": "Musical",
                                    "3": "NULL"
                                },
                                {
                                    "0": "Into the Woods",
                                    "1": "2014-12-25",
                                    "2": "Musical",
                                    "3": "NULL"
                                }
                            ]
                        },
                        "text/html": "<table><tr><th>movie_title</th><th>release_date</th><th>genre</th><th>director</th></tr><tr><td>Snow White and the Seven Dwarfs</td><td>1937-12-21</td><td>Musical</td><td>David Hand</td></tr><tr><td>Fantasia</td><td>1940-11-13</td><td>Musical</td><td>full credits</td></tr><tr><td>Babes in Toyland</td><td>1961-12-14</td><td>Musical</td><td>NULL</td></tr><tr><td>The Jungle Book</td><td>1967-10-18</td><td>Musical</td><td>Wolfgang Reitherman</td></tr><tr><td>The Aristocats</td><td>1970-04-24</td><td>Musical</td><td>Wolfgang Reitherman</td></tr><tr><td>Bedknobs and Broomsticks</td><td>1971-10-07</td><td>Musical</td><td>NULL</td></tr><tr><td>Beauty and the Beast</td><td>1991-11-13</td><td>Musical</td><td>Gary Trousdale</td></tr><tr><td>Swing Kids</td><td>1993-03-05</td><td>Musical</td><td>NULL</td></tr><tr><td>The Nightmare Before Christmas</td><td>1993-10-13</td><td>Musical</td><td>NULL</td></tr><tr><td>Evita</td><td>1996-12-25</td><td>Musical</td><td>NULL</td></tr><tr><td>Fantasia 2000 (IMAX)</td><td>2000-01-01</td><td>Musical</td><td>NULL</td></tr><tr><td>Fantasia 2000 (Theatrical Release)</td><td>2000-06-16</td><td>Musical</td><td>NULL</td></tr><tr><td>Beauty and the Beast (IMAX)</td><td>2002-01-01</td><td>Musical</td><td>NULL</td></tr><tr><td>Tim Burton's The Nightmare Before Chr…</td><td>2006-10-20</td><td>Musical</td><td>NULL</td></tr><tr><td>High School Musical 3: Senior Year</td><td>2008-10-24</td><td>Musical</td><td>NULL</td></tr><tr><td>Into the Woods</td><td>2014-12-25</td><td>Musical</td><td>NULL</td></tr></table>"
                    },
                    "metadata": {}
                }
            ],
            "execution_count": 22
        },
        {
            "cell_type": "code",
            "source": [
                "create view vw_m2000 as\n",
                "    select * from vw_debut where year > 2000"
            ],
            "metadata": {},
            "outputs": [
                {
                    "output_type": "display_data",
                    "data": {
                        "text/html": "Commands completed successfully."
                    },
                    "metadata": {}
                },
                {
                    "output_type": "display_data",
                    "data": {
                        "text/html": "Total execution time: 00:00:00.076"
                    },
                    "metadata": {}
                }
            ],
            "execution_count": 24
        },
        {
            "cell_type": "code",
            "source": "select * from vw_m2000 where weekday ='Monday'",
            "metadata": {},
            "outputs": [
                {
                    "output_type": "display_data",
                    "data": {
                        "text/html": "(0 rows affected)"
                    },
                    "metadata": {}
                },
                {
                    "output_type": "execute_result",
                    "execution_count": 27,
                    "data": {
                        "application/vnd.dataresource+json": {
                            "schema": {
                                "fields": [
                                    {
                                        "name": "movie_title"
                                    },
                                    {
                                        "name": "release_date"
                                    },
                                    {
                                        "name": "weekday"
                                    },
                                    {
                                        "name": "month"
                                    },
                                    {
                                        "name": "year"
                                    }
                                ]
                            },
                            "data": []
                        },
                        "text/html": "<table><tr><th>movie_title</th><th>release_date</th><th>weekday</th><th>month</th><th>year</th></tr></table>"
                    },
                    "metadata": {}
                },
                {
                    "output_type": "display_data",
                    "data": {
                        "text/html": "Total execution time: 00:00:00.055"
                    },
                    "metadata": {}
                }
            ],
            "execution_count": 27
        },
        {
            "cell_type": "code",
            "source": "",
            "metadata": {},
            "outputs": [],
            "execution_count": 0
        }
    ]
}