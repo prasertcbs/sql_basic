{
    "metadata": {
        "kernelspec": {
            "name": "SQL",
            "display_name": "SQL",
            "language": "sql"
        },
        "language_info": {
            "name": "sql",
            "version": ""
        }
    },
    "nbformat_minor": 2,
    "nbformat": 4,
    "cells": [
        {
            "cell_type": "markdown",
            "source": [
                "# WHERE vs. HAVING\n",
                "## Server: Microsoft SQL Server\n",
                "## Database: disney\n",
                "## Author: Prasert Kanawattanachai\n",
                "## YouTube: https://youtu.be/2w54NthhBbQ"
            ],
            "metadata": {}
        },
        {
            "cell_type": "markdown",
            "source": [
                "```\n",
                "SELECT [ ALL | DISTINCT ]   \n",
                "    [TOP ( expression ) [PERCENT] [ WITH TIES ] ]   \n",
                "\tFROM table_source \n",
                "\t[ WHERE search_condition ]\n",
                "\t[ GROUP BY group_by_expression ]\n",
                "\t[ HAVING search_condition ]\n",
                "\t[ ORDER BY order_expression [ ASC | DESC ] ]\n",
                "```"
            ],
            "metadata": {}
        },
        {
            "cell_type": "code",
            "source": [
                "select * from movie_gross\n",
                "    where inflation_adjusted_gross > 500e6"
            ],
            "metadata": {},
            "outputs": [
                {
                    "output_type": "display_data",
                    "data": {
                        "text/html": "(15 rows affected)"
                    },
                    "metadata": {}
                },
                {
                    "output_type": "display_data",
                    "data": {
                        "text/html": "Total execution time: 00:00:00.076"
                    },
                    "metadata": {}
                },
                {
                    "output_type": "execute_result",
                    "execution_count": 14,
                    "data": {
                        "application/vnd.dataresource+json": {
                            "schema": {
                                "fields": [
                                    {
                                        "name": "movie_title"
                                    },
                                    {
                                        "name": "release_date"
                                    },
                                    {
                                        "name": "genre"
                                    },
                                    {
                                        "name": "mpaa_rating"
                                    },
                                    {
                                        "name": "total_gross"
                                    },
                                    {
                                        "name": "inflation_adjusted_gross"
                                    }
                                ]
                            },
                            "data": [
                                {
                                    "0": "Snow White and the Seven Dwarfs",
                                    "1": "1937-12-21",
                                    "2": "Musical",
                                    "3": "G",
                                    "4": "184925485",
                                    "5": "5228953251"
                                },
                                {
                                    "0": "Pinocchio",
                                    "1": "1940-02-09",
                                    "2": "Adventure",
                                    "3": "G",
                                    "4": "84300000",
                                    "5": "2188229052"
                                },
                                {
                                    "0": "Fantasia",
                                    "1": "1940-11-13",
                                    "2": "Musical",
                                    "3": "G",
                                    "4": "83320000",
                                    "5": "2187090808"
                                },
                                {
                                    "0": "Song of the South",
                                    "1": "1946-11-12",
                                    "2": "Adventure",
                                    "3": "G",
                                    "4": "65000000",
                                    "5": "1078510579"
                                },
                                {
                                    "0": "Cinderella",
                                    "1": "1950-02-15",
                                    "2": "Drama",
                                    "3": "G",
                                    "4": "85000000",
                                    "5": "920608730"
                                },
                                {
                                    "0": "20,000 Leagues Under the Sea",
                                    "1": "1954-12-23",
                                    "2": "Adventure",
                                    "3": "NULL",
                                    "4": "28200000",
                                    "5": "528279994"
                                },
                                {
                                    "0": "Lady and the Tramp",
                                    "1": "1955-06-22",
                                    "2": "Drama",
                                    "3": "G",
                                    "4": "93600000",
                                    "5": "1236035515"
                                },
                                {
                                    "0": "101 Dalmatians",
                                    "1": "1961-01-25",
                                    "2": "Comedy",
                                    "3": "G",
                                    "4": "153000000",
                                    "5": "1362870985"
                                },
                                {
                                    "0": "The Jungle Book",
                                    "1": "1967-10-18",
                                    "2": "Musical",
                                    "3": "Not Rated",
                                    "4": "141843000",
                                    "5": "789612346"
                                },
                                {
                                    "0": "The Lion King",
                                    "1": "1994-06-15",
                                    "2": "Adventure",
                                    "3": "G",
                                    "4": "422780140",
                                    "5": "761640898"
                                },
                                {
                                    "0": "Finding Nemo",
                                    "1": "2003-05-30",
                                    "2": "Adventure",
                                    "3": "G",
                                    "4": "380529370",
                                    "5": "518148559"
                                },
                                {
                                    "0": "Pirates of the Caribbean: Dead Man’…",
                                    "1": "2006-07-07",
                                    "2": "Adventure",
                                    "3": "PG-13",
                                    "4": "423315812",
                                    "5": "544817142"
                                },
                                {
                                    "0": "The Avengers",
                                    "1": "2012-05-04",
                                    "2": "Action",
                                    "3": "PG-13",
                                    "4": "623279547",
                                    "5": "660081224"
                                },
                                {
                                    "0": "Star Wars Ep. VII: The Force Awakens",
                                    "1": "2015-12-18",
                                    "2": "Adventure",
                                    "3": "PG-13",
                                    "4": "936662225",
                                    "5": "936662225"
                                },
                                {
                                    "0": "Rogue One: A Star Wars Story",
                                    "1": "2016-12-16",
                                    "2": "Adventure",
                                    "3": "PG-13",
                                    "4": "529483936",
                                    "5": "529483936"
                                }
                            ]
                        },
                        "text/html": "<table><tr><th>movie_title</th><th>release_date</th><th>genre</th><th>mpaa_rating</th><th>total_gross</th><th>inflation_adjusted_gross</th></tr><tr><td>Snow White and the Seven Dwarfs</td><td>1937-12-21</td><td>Musical</td><td>G</td><td>184925485</td><td>5228953251</td></tr><tr><td>Pinocchio</td><td>1940-02-09</td><td>Adventure</td><td>G</td><td>84300000</td><td>2188229052</td></tr><tr><td>Fantasia</td><td>1940-11-13</td><td>Musical</td><td>G</td><td>83320000</td><td>2187090808</td></tr><tr><td>Song of the South</td><td>1946-11-12</td><td>Adventure</td><td>G</td><td>65000000</td><td>1078510579</td></tr><tr><td>Cinderella</td><td>1950-02-15</td><td>Drama</td><td>G</td><td>85000000</td><td>920608730</td></tr><tr><td>20,000 Leagues Under the Sea</td><td>1954-12-23</td><td>Adventure</td><td>NULL</td><td>28200000</td><td>528279994</td></tr><tr><td>Lady and the Tramp</td><td>1955-06-22</td><td>Drama</td><td>G</td><td>93600000</td><td>1236035515</td></tr><tr><td>101 Dalmatians</td><td>1961-01-25</td><td>Comedy</td><td>G</td><td>153000000</td><td>1362870985</td></tr><tr><td>The Jungle Book</td><td>1967-10-18</td><td>Musical</td><td>Not Rated</td><td>141843000</td><td>789612346</td></tr><tr><td>The Lion King</td><td>1994-06-15</td><td>Adventure</td><td>G</td><td>422780140</td><td>761640898</td></tr><tr><td>Finding Nemo</td><td>2003-05-30</td><td>Adventure</td><td>G</td><td>380529370</td><td>518148559</td></tr><tr><td>Pirates of the Caribbean: Dead Man’…</td><td>2006-07-07</td><td>Adventure</td><td>PG-13</td><td>423315812</td><td>544817142</td></tr><tr><td>The Avengers</td><td>2012-05-04</td><td>Action</td><td>PG-13</td><td>623279547</td><td>660081224</td></tr><tr><td>Star Wars Ep. VII: The Force Awakens</td><td>2015-12-18</td><td>Adventure</td><td>PG-13</td><td>936662225</td><td>936662225</td></tr><tr><td>Rogue One: A Star Wars Story</td><td>2016-12-16</td><td>Adventure</td><td>PG-13</td><td>529483936</td><td>529483936</td></tr></table>"
                    },
                    "metadata": {}
                }
            ],
            "execution_count": 14
        },
        {
            "cell_type": "code",
            "source": [
                "select genre, count(*) no_movies\n",
                "    from movie_gross\n",
                "    group by genre"
            ],
            "metadata": {},
            "outputs": [
                {
                    "output_type": "display_data",
                    "data": {
                        "text/html": "(13 rows affected)"
                    },
                    "metadata": {}
                },
                {
                    "output_type": "display_data",
                    "data": {
                        "text/html": "Total execution time: 00:00:00.058"
                    },
                    "metadata": {}
                },
                {
                    "output_type": "execute_result",
                    "execution_count": 15,
                    "data": {
                        "application/vnd.dataresource+json": {
                            "schema": {
                                "fields": [
                                    {
                                        "name": "genre"
                                    },
                                    {
                                        "name": "no_movies"
                                    }
                                ]
                            },
                            "data": [
                                {
                                    "0": "NULL",
                                    "1": "17"
                                },
                                {
                                    "0": "Action",
                                    "1": "40"
                                },
                                {
                                    "0": "Adventure",
                                    "1": "129"
                                },
                                {
                                    "0": "Black Comedy",
                                    "1": "3"
                                },
                                {
                                    "0": "Comedy",
                                    "1": "182"
                                },
                                {
                                    "0": "Concert/Performance",
                                    "1": "2"
                                },
                                {
                                    "0": "Documentary",
                                    "1": "16"
                                },
                                {
                                    "0": "Drama",
                                    "1": "114"
                                },
                                {
                                    "0": "Horror",
                                    "1": "6"
                                },
                                {
                                    "0": "Musical",
                                    "1": "16"
                                },
                                {
                                    "0": "Romantic Comedy",
                                    "1": "23"
                                },
                                {
                                    "0": "Thriller/Suspense",
                                    "1": "24"
                                },
                                {
                                    "0": "Western",
                                    "1": "7"
                                }
                            ]
                        },
                        "text/html": "<table><tr><th>genre</th><th>no_movies</th></tr><tr><td>NULL</td><td>17</td></tr><tr><td>Action</td><td>40</td></tr><tr><td>Adventure</td><td>129</td></tr><tr><td>Black Comedy</td><td>3</td></tr><tr><td>Comedy</td><td>182</td></tr><tr><td>Concert/Performance</td><td>2</td></tr><tr><td>Documentary</td><td>16</td></tr><tr><td>Drama</td><td>114</td></tr><tr><td>Horror</td><td>6</td></tr><tr><td>Musical</td><td>16</td></tr><tr><td>Romantic Comedy</td><td>23</td></tr><tr><td>Thriller/Suspense</td><td>24</td></tr><tr><td>Western</td><td>7</td></tr></table>"
                    },
                    "metadata": {}
                }
            ],
            "execution_count": 15
        },
        {
            "cell_type": "code",
            "source": [
                "select genre, count(*) no_movies\n",
                "    from movie_gross\n",
                "    group by genre\n",
                "    having count(*) > 100"
            ],
            "metadata": {},
            "outputs": [
                {
                    "output_type": "display_data",
                    "data": {
                        "text/html": "(3 rows affected)"
                    },
                    "metadata": {}
                },
                {
                    "output_type": "display_data",
                    "data": {
                        "text/html": "Total execution time: 00:00:00.058"
                    },
                    "metadata": {}
                },
                {
                    "output_type": "execute_result",
                    "execution_count": 16,
                    "data": {
                        "application/vnd.dataresource+json": {
                            "schema": {
                                "fields": [
                                    {
                                        "name": "genre"
                                    },
                                    {
                                        "name": "no_movies"
                                    }
                                ]
                            },
                            "data": [
                                {
                                    "0": "Adventure",
                                    "1": "129"
                                },
                                {
                                    "0": "Comedy",
                                    "1": "182"
                                },
                                {
                                    "0": "Drama",
                                    "1": "114"
                                }
                            ]
                        },
                        "text/html": "<table><tr><th>genre</th><th>no_movies</th></tr><tr><td>Adventure</td><td>129</td></tr><tr><td>Comedy</td><td>182</td></tr><tr><td>Drama</td><td>114</td></tr></table>"
                    },
                    "metadata": {}
                }
            ],
            "execution_count": 16
        },
        {
            "cell_type": "code",
            "source": [
                "select count(*) no_movies\n",
                "    from movie_gross\n",
                "    where year(release_date) > 2000"
            ],
            "metadata": {},
            "outputs": [
                {
                    "output_type": "display_data",
                    "data": {
                        "text/html": "(1 row affected)"
                    },
                    "metadata": {}
                },
                {
                    "output_type": "display_data",
                    "data": {
                        "text/html": "Total execution time: 00:00:00.062"
                    },
                    "metadata": {}
                },
                {
                    "output_type": "execute_result",
                    "execution_count": 17,
                    "data": {
                        "application/vnd.dataresource+json": {
                            "schema": {
                                "fields": [
                                    {
                                        "name": "no_movies"
                                    }
                                ]
                            },
                            "data": [
                                {
                                    "0": "239"
                                }
                            ]
                        },
                        "text/html": "<table><tr><th>no_movies</th></tr><tr><td>239</td></tr></table>"
                    },
                    "metadata": {}
                }
            ],
            "execution_count": 17
        },
        {
            "cell_type": "code",
            "source": [
                "select year(release_date) year, count(*) no_movies\n",
                "    from movie_gross\n",
                "    where year(release_date) > 2000\n",
                "    group by year(release_date)"
            ],
            "metadata": {},
            "outputs": [
                {
                    "output_type": "display_data",
                    "data": {
                        "text/html": "(16 rows affected)"
                    },
                    "metadata": {}
                },
                {
                    "output_type": "display_data",
                    "data": {
                        "text/html": "Total execution time: 00:00:00.103"
                    },
                    "metadata": {}
                },
                {
                    "output_type": "execute_result",
                    "execution_count": 18,
                    "data": {
                        "application/vnd.dataresource+json": {
                            "schema": {
                                "fields": [
                                    {
                                        "name": "year"
                                    },
                                    {
                                        "name": "no_movies"
                                    }
                                ]
                            },
                            "data": [
                                {
                                    "0": "2001",
                                    "1": "14"
                                },
                                {
                                    "0": "2002",
                                    "1": "22"
                                },
                                {
                                    "0": "2003",
                                    "1": "19"
                                },
                                {
                                    "0": "2004",
                                    "1": "19"
                                },
                                {
                                    "0": "2005",
                                    "1": "17"
                                },
                                {
                                    "0": "2006",
                                    "1": "19"
                                },
                                {
                                    "0": "2007",
                                    "1": "14"
                                },
                                {
                                    "0": "2008",
                                    "1": "13"
                                },
                                {
                                    "0": "2009",
                                    "1": "16"
                                },
                                {
                                    "0": "2010",
                                    "1": "14"
                                },
                                {
                                    "0": "2011",
                                    "1": "14"
                                },
                                {
                                    "0": "2012",
                                    "1": "10"
                                },
                                {
                                    "0": "2013",
                                    "1": "11"
                                },
                                {
                                    "0": "2014",
                                    "1": "12"
                                },
                                {
                                    "0": "2015",
                                    "1": "11"
                                },
                                {
                                    "0": "2016",
                                    "1": "14"
                                }
                            ]
                        },
                        "text/html": "<table><tr><th>year</th><th>no_movies</th></tr><tr><td>2001</td><td>14</td></tr><tr><td>2002</td><td>22</td></tr><tr><td>2003</td><td>19</td></tr><tr><td>2004</td><td>19</td></tr><tr><td>2005</td><td>17</td></tr><tr><td>2006</td><td>19</td></tr><tr><td>2007</td><td>14</td></tr><tr><td>2008</td><td>13</td></tr><tr><td>2009</td><td>16</td></tr><tr><td>2010</td><td>14</td></tr><tr><td>2011</td><td>14</td></tr><tr><td>2012</td><td>10</td></tr><tr><td>2013</td><td>11</td></tr><tr><td>2014</td><td>12</td></tr><tr><td>2015</td><td>11</td></tr><tr><td>2016</td><td>14</td></tr></table>"
                    },
                    "metadata": {}
                }
            ],
            "execution_count": 18
        },
        {
            "cell_type": "code",
            "source": [
                "select year(release_date) year, count(*) no_movies\n",
                "    from movie_gross\n",
                "    -- where year(release_date) > 2000\n",
                "    group by year(release_date)\n",
                "    having year(release_date) > 2000"
            ],
            "metadata": {},
            "outputs": [
                {
                    "output_type": "display_data",
                    "data": {
                        "text/html": "(16 rows affected)"
                    },
                    "metadata": {}
                },
                {
                    "output_type": "display_data",
                    "data": {
                        "text/html": "Total execution time: 00:00:00.092"
                    },
                    "metadata": {}
                },
                {
                    "output_type": "execute_result",
                    "execution_count": 19,
                    "data": {
                        "application/vnd.dataresource+json": {
                            "schema": {
                                "fields": [
                                    {
                                        "name": "year"
                                    },
                                    {
                                        "name": "no_movies"
                                    }
                                ]
                            },
                            "data": [
                                {
                                    "0": "2001",
                                    "1": "14"
                                },
                                {
                                    "0": "2002",
                                    "1": "22"
                                },
                                {
                                    "0": "2003",
                                    "1": "19"
                                },
                                {
                                    "0": "2004",
                                    "1": "19"
                                },
                                {
                                    "0": "2005",
                                    "1": "17"
                                },
                                {
                                    "0": "2006",
                                    "1": "19"
                                },
                                {
                                    "0": "2007",
                                    "1": "14"
                                },
                                {
                                    "0": "2008",
                                    "1": "13"
                                },
                                {
                                    "0": "2009",
                                    "1": "16"
                                },
                                {
                                    "0": "2010",
                                    "1": "14"
                                },
                                {
                                    "0": "2011",
                                    "1": "14"
                                },
                                {
                                    "0": "2012",
                                    "1": "10"
                                },
                                {
                                    "0": "2013",
                                    "1": "11"
                                },
                                {
                                    "0": "2014",
                                    "1": "12"
                                },
                                {
                                    "0": "2015",
                                    "1": "11"
                                },
                                {
                                    "0": "2016",
                                    "1": "14"
                                }
                            ]
                        },
                        "text/html": "<table><tr><th>year</th><th>no_movies</th></tr><tr><td>2001</td><td>14</td></tr><tr><td>2002</td><td>22</td></tr><tr><td>2003</td><td>19</td></tr><tr><td>2004</td><td>19</td></tr><tr><td>2005</td><td>17</td></tr><tr><td>2006</td><td>19</td></tr><tr><td>2007</td><td>14</td></tr><tr><td>2008</td><td>13</td></tr><tr><td>2009</td><td>16</td></tr><tr><td>2010</td><td>14</td></tr><tr><td>2011</td><td>14</td></tr><tr><td>2012</td><td>10</td></tr><tr><td>2013</td><td>11</td></tr><tr><td>2014</td><td>12</td></tr><tr><td>2015</td><td>11</td></tr><tr><td>2016</td><td>14</td></tr></table>"
                    },
                    "metadata": {}
                }
            ],
            "execution_count": 19
        },
        {
            "cell_type": "code",
            "source": [
                "select year(release_date) year, count(*) no_movies\n",
                "    from movie_gross\n",
                "    where year(release_date) > 2000\n",
                "    group by year(release_date)\n",
                "    having count(*) > 15\n",
                "    order by no_movies desc"
            ],
            "metadata": {},
            "outputs": [
                {
                    "output_type": "display_data",
                    "data": {
                        "text/html": "(6 rows affected)"
                    },
                    "metadata": {}
                },
                {
                    "output_type": "display_data",
                    "data": {
                        "text/html": "Total execution time: 00:00:00.057"
                    },
                    "metadata": {}
                },
                {
                    "output_type": "execute_result",
                    "execution_count": 20,
                    "data": {
                        "application/vnd.dataresource+json": {
                            "schema": {
                                "fields": [
                                    {
                                        "name": "year"
                                    },
                                    {
                                        "name": "no_movies"
                                    }
                                ]
                            },
                            "data": [
                                {
                                    "0": "2002",
                                    "1": "22"
                                },
                                {
                                    "0": "2003",
                                    "1": "19"
                                },
                                {
                                    "0": "2004",
                                    "1": "19"
                                },
                                {
                                    "0": "2006",
                                    "1": "19"
                                },
                                {
                                    "0": "2005",
                                    "1": "17"
                                },
                                {
                                    "0": "2009",
                                    "1": "16"
                                }
                            ]
                        },
                        "text/html": "<table><tr><th>year</th><th>no_movies</th></tr><tr><td>2002</td><td>22</td></tr><tr><td>2003</td><td>19</td></tr><tr><td>2004</td><td>19</td></tr><tr><td>2006</td><td>19</td></tr><tr><td>2005</td><td>17</td></tr><tr><td>2009</td><td>16</td></tr></table>"
                    },
                    "metadata": {}
                }
            ],
            "execution_count": 20
        },
        {
            "cell_type": "code",
            "source": [
                "select year(release_date) year, count(*) no_movies\n",
                "    from movie_gross\n",
                "    -- where year(release_date) > 2000\n",
                "    group by year(release_date)\n",
                "    having count(*) > 15 and year(release_date) > 2000\n",
                "    order by no_movies desc"
            ],
            "metadata": {},
            "outputs": [
                {
                    "output_type": "display_data",
                    "data": {
                        "text/html": "(6 rows affected)"
                    },
                    "metadata": {}
                },
                {
                    "output_type": "display_data",
                    "data": {
                        "text/html": "Total execution time: 00:00:00.062"
                    },
                    "metadata": {}
                },
                {
                    "output_type": "execute_result",
                    "execution_count": 22,
                    "data": {
                        "application/vnd.dataresource+json": {
                            "schema": {
                                "fields": [
                                    {
                                        "name": "year"
                                    },
                                    {
                                        "name": "no_movies"
                                    }
                                ]
                            },
                            "data": [
                                {
                                    "0": "2002",
                                    "1": "22"
                                },
                                {
                                    "0": "2003",
                                    "1": "19"
                                },
                                {
                                    "0": "2004",
                                    "1": "19"
                                },
                                {
                                    "0": "2006",
                                    "1": "19"
                                },
                                {
                                    "0": "2005",
                                    "1": "17"
                                },
                                {
                                    "0": "2009",
                                    "1": "16"
                                }
                            ]
                        },
                        "text/html": "<table><tr><th>year</th><th>no_movies</th></tr><tr><td>2002</td><td>22</td></tr><tr><td>2003</td><td>19</td></tr><tr><td>2004</td><td>19</td></tr><tr><td>2006</td><td>19</td></tr><tr><td>2005</td><td>17</td></tr><tr><td>2009</td><td>16</td></tr></table>"
                    },
                    "metadata": {}
                }
            ],
            "execution_count": 22
        }
    ]
}