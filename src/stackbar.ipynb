{
    "metadata": {
        "kernelspec": {
            "name": "SQL",
            "display_name": "SQL",
            "language": "sql"
        },
        "language_info": {
            "name": "sql",
            "version": ""
        }
    },
    "nbformat_minor": 2,
    "nbformat": 4,
    "cells": [
        {
            "cell_type": "markdown",
            "source": [
                "# Stackbar\n",
                "## Server: Microsoft SQL Server\n",
                "## Author: Prasert Kanawattanachai\n",
                "## YouTube: https://youtu.be/OgFFTvsxvJk"
            ],
            "metadata": {
                "azdata_cell_guid": "c3b431d3-0d85-4e56-a304-44c59ee46898"
            }
        },
        {
            "cell_type": "code",
            "source": [
                "drop table if exists vote3;\n",
                "\n",
                "create table vote3 (\n",
                "    menu varchar(50),\n",
                "    [like] int,\n",
                "    neutral int,\n",
                "    dislike int\n",
                ")"
            ],
            "metadata": {
                "azdata_cell_guid": "6b339987-7419-42b0-854d-c04f8b2dbf26"
            },
            "outputs": [
                {
                    "output_type": "display_data",
                    "data": {
                        "text/html": "Commands completed successfully."
                    },
                    "metadata": {}
                },
                {
                    "output_type": "display_data",
                    "data": {
                        "text/html": "Total execution time: 00:00:00.067"
                    },
                    "metadata": {}
                }
            ],
            "execution_count": 40
        },
        {
            "cell_type": "code",
            "source": [
                "insert into vote3 values\n",
                "    ('mocha',25,20,11),\n",
                "    ('latte',22,12,5),\n",
                "    ('green tea',29,5,8),\n",
                "    ('jasmine tea',10,15,20),\n",
                "    ('mango smoothie',20,15,4),\n",
                "    ('kiwi smoothie',5,20,7)"
            ],
            "metadata": {
                "azdata_cell_guid": "c5cab6c8-b635-47b9-b13d-bab760a90917"
            },
            "outputs": [
                {
                    "output_type": "display_data",
                    "data": {
                        "text/html": "(6 rows affected)"
                    },
                    "metadata": {}
                },
                {
                    "output_type": "display_data",
                    "data": {
                        "text/html": "Total execution time: 00:00:00.064"
                    },
                    "metadata": {}
                }
            ],
            "execution_count": 41
        },
        {
            "cell_type": "code",
            "source": [
                "select * from vote3"
            ],
            "metadata": {
                "azdata_cell_guid": "153629bc-f007-48e8-a9d7-87fd6821ac2f"
            },
            "outputs": [
                {
                    "output_type": "display_data",
                    "data": {
                        "text/html": "(6 rows affected)"
                    },
                    "metadata": {}
                },
                {
                    "output_type": "display_data",
                    "data": {
                        "text/html": "Total execution time: 00:00:00.059"
                    },
                    "metadata": {}
                },
                {
                    "output_type": "execute_result",
                    "execution_count": 42,
                    "data": {
                        "application/vnd.dataresource+json": {
                            "schema": {
                                "fields": [
                                    {
                                        "name": "menu"
                                    },
                                    {
                                        "name": "like"
                                    },
                                    {
                                        "name": "neutral"
                                    },
                                    {
                                        "name": "dislike"
                                    }
                                ]
                            },
                            "data": [
                                {
                                    "0": "mocha",
                                    "1": "25",
                                    "2": "20",
                                    "3": "11"
                                },
                                {
                                    "0": "latte",
                                    "1": "22",
                                    "2": "12",
                                    "3": "5"
                                },
                                {
                                    "0": "green tea",
                                    "1": "29",
                                    "2": "5",
                                    "3": "8"
                                },
                                {
                                    "0": "jasmine tea",
                                    "1": "10",
                                    "2": "15",
                                    "3": "20"
                                },
                                {
                                    "0": "mango smoothie",
                                    "1": "20",
                                    "2": "15",
                                    "3": "4"
                                },
                                {
                                    "0": "kiwi smoothie",
                                    "1": "5",
                                    "2": "20",
                                    "3": "7"
                                }
                            ]
                        },
                        "text/html": "<table><tr><th>menu</th><th>like</th><th>neutral</th><th>dislike</th></tr><tr><td>mocha</td><td>25</td><td>20</td><td>11</td></tr><tr><td>latte</td><td>22</td><td>12</td><td>5</td></tr><tr><td>green tea</td><td>29</td><td>5</td><td>8</td></tr><tr><td>jasmine tea</td><td>10</td><td>15</td><td>20</td></tr><tr><td>mango smoothie</td><td>20</td><td>15</td><td>4</td></tr><tr><td>kiwi smoothie</td><td>5</td><td>20</td><td>7</td></tr></table>"
                    },
                    "metadata": {}
                }
            ],
            "execution_count": 42
        },
        {
            "cell_type": "markdown",
            "source": [
                "block characters: https://en.wikipedia.org/wiki/Block_Elements"
            ],
            "metadata": {
                "azdata_cell_guid": "0113cbff-aeed-4f9f-9942-170dece4ebd3"
            }
        },
        {
            "cell_type": "code",
            "source": [
                "select nchar(0x2591), nchar(0x2592), nchar(0x2593)"
            ],
            "metadata": {
                "azdata_cell_guid": "70dcf793-2988-4ce8-931a-dc31b0dd4458"
            },
            "outputs": [
                {
                    "output_type": "display_data",
                    "data": {
                        "text/html": "(1 row affected)"
                    },
                    "metadata": {}
                },
                {
                    "output_type": "display_data",
                    "data": {
                        "text/html": "Total execution time: 00:00:01.505"
                    },
                    "metadata": {}
                },
                {
                    "output_type": "execute_result",
                    "execution_count": 43,
                    "data": {
                        "application/vnd.dataresource+json": {
                            "schema": {
                                "fields": [
                                    {
                                        "name": "(No column name)"
                                    },
                                    {
                                        "name": "(No column name)"
                                    },
                                    {
                                        "name": "(No column name)"
                                    }
                                ]
                            },
                            "data": [
                                {
                                    "0": "░",
                                    "1": "▒",
                                    "2": "▓"
                                }
                            ]
                        },
                        "text/html": "<table><tr><th>(No column name)</th><th>(No column name)</th><th>(No column name)</th></tr><tr><td>░</td><td>▒</td><td>▓</td></tr></table>"
                    },
                    "metadata": {}
                }
            ],
            "execution_count": 43
        },
        {
            "cell_type": "code",
            "source": [
                "select nchar(0x2591) as [░ like], nchar(0x2592) as [▒ neutral], nchar(0x2593) as [▓ dislike]"
            ],
            "metadata": {
                "azdata_cell_guid": "647fada8-3b59-421d-ae39-4c3a9da3c0b2"
            },
            "outputs": [
                {
                    "output_type": "display_data",
                    "data": {
                        "text/html": "(1 row affected)"
                    },
                    "metadata": {}
                },
                {
                    "output_type": "display_data",
                    "data": {
                        "text/html": "Total execution time: 00:00:00.743"
                    },
                    "metadata": {}
                },
                {
                    "output_type": "execute_result",
                    "execution_count": 44,
                    "data": {
                        "application/vnd.dataresource+json": {
                            "schema": {
                                "fields": [
                                    {
                                        "name": "░ like"
                                    },
                                    {
                                        "name": "▒ neutral"
                                    },
                                    {
                                        "name": "▓ dislike"
                                    }
                                ]
                            },
                            "data": [
                                {
                                    "0": "░",
                                    "1": "▒",
                                    "2": "▓"
                                }
                            ]
                        },
                        "text/html": "<table><tr><th>░ like</th><th>▒ neutral</th><th>▓ dislike</th></tr><tr><td>░</td><td>▒</td><td>▓</td></tr></table>"
                    },
                    "metadata": {}
                }
            ],
            "execution_count": 44
        },
        {
            "cell_type": "code",
            "source": [
                "select replicate('+', 5), replicate(nchar(0x2591), 5)"
            ],
            "metadata": {
                "azdata_cell_guid": "79508883-3469-4de7-8d14-a14fff7a9dc4"
            },
            "outputs": [
                {
                    "output_type": "display_data",
                    "data": {
                        "text/html": "(1 row affected)"
                    },
                    "metadata": {}
                },
                {
                    "output_type": "display_data",
                    "data": {
                        "text/html": "Total execution time: 00:00:00.414"
                    },
                    "metadata": {}
                },
                {
                    "output_type": "execute_result",
                    "execution_count": 45,
                    "data": {
                        "application/vnd.dataresource+json": {
                            "schema": {
                                "fields": [
                                    {
                                        "name": "(No column name)"
                                    },
                                    {
                                        "name": "(No column name)"
                                    }
                                ]
                            },
                            "data": [
                                {
                                    "0": "+++++",
                                    "1": "░░░░░"
                                }
                            ]
                        },
                        "text/html": "<table><tr><th>(No column name)</th><th>(No column name)</th></tr><tr><td>+++++</td><td>░░░░░</td></tr></table>"
                    },
                    "metadata": {}
                }
            ],
            "execution_count": 45
        },
        {
            "cell_type": "code",
            "source": [
                "select menu, [like], neutral, dislike,\r\n",
                "    replicate(nchar(0x2591), [like]) as [░ like], \r\n",
                "    replicate(nchar(0x2592), neutral) as [▒ neutral], \r\n",
                "    replicate(nchar(0x2593), dislike) as [▓ dislike]\r\n",
                "    from vote3"
            ],
            "metadata": {
                "azdata_cell_guid": "c1fdd011-dc06-4575-96a5-5b21f1c24068"
            },
            "outputs": [
                {
                    "output_type": "display_data",
                    "data": {
                        "text/html": "(6 rows affected)"
                    },
                    "metadata": {}
                },
                {
                    "output_type": "display_data",
                    "data": {
                        "text/html": "Total execution time: 00:00:00.452"
                    },
                    "metadata": {}
                },
                {
                    "output_type": "execute_result",
                    "execution_count": 46,
                    "data": {
                        "application/vnd.dataresource+json": {
                            "schema": {
                                "fields": [
                                    {
                                        "name": "menu"
                                    },
                                    {
                                        "name": "like"
                                    },
                                    {
                                        "name": "neutral"
                                    },
                                    {
                                        "name": "dislike"
                                    },
                                    {
                                        "name": "░ like"
                                    },
                                    {
                                        "name": "▒ neutral"
                                    },
                                    {
                                        "name": "▓ dislike"
                                    }
                                ]
                            },
                            "data": [
                                {
                                    "0": "mocha",
                                    "1": "25",
                                    "2": "20",
                                    "3": "11",
                                    "4": "░░░░░░░░░░░░░░░░░░░░░░░░░",
                                    "5": "▒▒▒▒▒▒▒▒▒▒▒▒▒▒▒▒▒▒▒▒",
                                    "6": "▓▓▓▓▓▓▓▓▓▓▓"
                                },
                                {
                                    "0": "latte",
                                    "1": "22",
                                    "2": "12",
                                    "3": "5",
                                    "4": "░░░░░░░░░░░░░░░░░░░░░░",
                                    "5": "▒▒▒▒▒▒▒▒▒▒▒▒",
                                    "6": "▓▓▓▓▓"
                                },
                                {
                                    "0": "green tea",
                                    "1": "29",
                                    "2": "5",
                                    "3": "8",
                                    "4": "░░░░░░░░░░░░░░░░░░░░░░░░░░░░░",
                                    "5": "▒▒▒▒▒",
                                    "6": "▓▓▓▓▓▓▓▓"
                                },
                                {
                                    "0": "jasmine tea",
                                    "1": "10",
                                    "2": "15",
                                    "3": "20",
                                    "4": "░░░░░░░░░░",
                                    "5": "▒▒▒▒▒▒▒▒▒▒▒▒▒▒▒",
                                    "6": "▓▓▓▓▓▓▓▓▓▓▓▓▓▓▓▓▓▓▓▓"
                                },
                                {
                                    "0": "mango smoothie",
                                    "1": "20",
                                    "2": "15",
                                    "3": "4",
                                    "4": "░░░░░░░░░░░░░░░░░░░░",
                                    "5": "▒▒▒▒▒▒▒▒▒▒▒▒▒▒▒",
                                    "6": "▓▓▓▓"
                                },
                                {
                                    "0": "kiwi smoothie",
                                    "1": "5",
                                    "2": "20",
                                    "3": "7",
                                    "4": "░░░░░",
                                    "5": "▒▒▒▒▒▒▒▒▒▒▒▒▒▒▒▒▒▒▒▒",
                                    "6": "▓▓▓▓▓▓▓"
                                }
                            ]
                        },
                        "text/html": "<table><tr><th>menu</th><th>like</th><th>neutral</th><th>dislike</th><th>░ like</th><th>▒ neutral</th><th>▓ dislike</th></tr><tr><td>mocha</td><td>25</td><td>20</td><td>11</td><td>░░░░░░░░░░░░░░░░░░░░░░░░░</td><td>▒▒▒▒▒▒▒▒▒▒▒▒▒▒▒▒▒▒▒▒</td><td>▓▓▓▓▓▓▓▓▓▓▓</td></tr><tr><td>latte</td><td>22</td><td>12</td><td>5</td><td>░░░░░░░░░░░░░░░░░░░░░░</td><td>▒▒▒▒▒▒▒▒▒▒▒▒</td><td>▓▓▓▓▓</td></tr><tr><td>green tea</td><td>29</td><td>5</td><td>8</td><td>░░░░░░░░░░░░░░░░░░░░░░░░░░░░░</td><td>▒▒▒▒▒</td><td>▓▓▓▓▓▓▓▓</td></tr><tr><td>jasmine tea</td><td>10</td><td>15</td><td>20</td><td>░░░░░░░░░░</td><td>▒▒▒▒▒▒▒▒▒▒▒▒▒▒▒</td><td>▓▓▓▓▓▓▓▓▓▓▓▓▓▓▓▓▓▓▓▓</td></tr><tr><td>mango smoothie</td><td>20</td><td>15</td><td>4</td><td>░░░░░░░░░░░░░░░░░░░░</td><td>▒▒▒▒▒▒▒▒▒▒▒▒▒▒▒</td><td>▓▓▓▓</td></tr><tr><td>kiwi smoothie</td><td>5</td><td>20</td><td>7</td><td>░░░░░</td><td>▒▒▒▒▒▒▒▒▒▒▒▒▒▒▒▒▒▒▒▒</td><td>▓▓▓▓▓▓▓</td></tr></table>"
                    },
                    "metadata": {}
                }
            ],
            "execution_count": 46
        },
        {
            "cell_type": "code",
            "source": [
                "select menu, [like], neutral, dislike,\n",
                "    replicate(nchar(0x2591), [like]) + \n",
                "    replicate(nchar(0x2592), neutral) + \n",
                "    replicate(nchar(0x2593), dislike) as [░ like  ▒ neutral  ▓ dislike]\n",
                "    from vote3"
            ],
            "metadata": {
                "azdata_cell_guid": "1c62f14e-38c8-4835-b427-7a9a0dd42d70"
            },
            "outputs": [
                {
                    "output_type": "display_data",
                    "data": {
                        "text/html": "(6 rows affected)"
                    },
                    "metadata": {}
                },
                {
                    "output_type": "display_data",
                    "data": {
                        "text/html": "Total execution time: 00:00:00.495"
                    },
                    "metadata": {}
                },
                {
                    "output_type": "execute_result",
                    "execution_count": 47,
                    "data": {
                        "application/vnd.dataresource+json": {
                            "schema": {
                                "fields": [
                                    {
                                        "name": "menu"
                                    },
                                    {
                                        "name": "like"
                                    },
                                    {
                                        "name": "neutral"
                                    },
                                    {
                                        "name": "dislike"
                                    },
                                    {
                                        "name": "░ like  ▒ neutral  ▓ dislike"
                                    }
                                ]
                            },
                            "data": [
                                {
                                    "0": "mocha",
                                    "1": "25",
                                    "2": "20",
                                    "3": "11",
                                    "4": "░░░░░░░░░░░░░░░░░░░░░░░░░▒▒▒▒▒▒▒▒▒▒▒▒▒▒▒▒▒▒▒▒▓▓▓▓▓▓▓▓▓▓▓"
                                },
                                {
                                    "0": "latte",
                                    "1": "22",
                                    "2": "12",
                                    "3": "5",
                                    "4": "░░░░░░░░░░░░░░░░░░░░░░▒▒▒▒▒▒▒▒▒▒▒▒▓▓▓▓▓"
                                },
                                {
                                    "0": "green tea",
                                    "1": "29",
                                    "2": "5",
                                    "3": "8",
                                    "4": "░░░░░░░░░░░░░░░░░░░░░░░░░░░░░▒▒▒▒▒▓▓▓▓▓▓▓▓"
                                },
                                {
                                    "0": "jasmine tea",
                                    "1": "10",
                                    "2": "15",
                                    "3": "20",
                                    "4": "░░░░░░░░░░▒▒▒▒▒▒▒▒▒▒▒▒▒▒▒▓▓▓▓▓▓▓▓▓▓▓▓▓▓▓▓▓▓▓▓"
                                },
                                {
                                    "0": "mango smoothie",
                                    "1": "20",
                                    "2": "15",
                                    "3": "4",
                                    "4": "░░░░░░░░░░░░░░░░░░░░▒▒▒▒▒▒▒▒▒▒▒▒▒▒▒▓▓▓▓"
                                },
                                {
                                    "0": "kiwi smoothie",
                                    "1": "5",
                                    "2": "20",
                                    "3": "7",
                                    "4": "░░░░░▒▒▒▒▒▒▒▒▒▒▒▒▒▒▒▒▒▒▒▒▓▓▓▓▓▓▓"
                                }
                            ]
                        },
                        "text/html": "<table><tr><th>menu</th><th>like</th><th>neutral</th><th>dislike</th><th>░ like  ▒ neutral  ▓ dislike</th></tr><tr><td>mocha</td><td>25</td><td>20</td><td>11</td><td>░░░░░░░░░░░░░░░░░░░░░░░░░▒▒▒▒▒▒▒▒▒▒▒▒▒▒▒▒▒▒▒▒▓▓▓▓▓▓▓▓▓▓▓</td></tr><tr><td>latte</td><td>22</td><td>12</td><td>5</td><td>░░░░░░░░░░░░░░░░░░░░░░▒▒▒▒▒▒▒▒▒▒▒▒▓▓▓▓▓</td></tr><tr><td>green tea</td><td>29</td><td>5</td><td>8</td><td>░░░░░░░░░░░░░░░░░░░░░░░░░░░░░▒▒▒▒▒▓▓▓▓▓▓▓▓</td></tr><tr><td>jasmine tea</td><td>10</td><td>15</td><td>20</td><td>░░░░░░░░░░▒▒▒▒▒▒▒▒▒▒▒▒▒▒▒▓▓▓▓▓▓▓▓▓▓▓▓▓▓▓▓▓▓▓▓</td></tr><tr><td>mango smoothie</td><td>20</td><td>15</td><td>4</td><td>░░░░░░░░░░░░░░░░░░░░▒▒▒▒▒▒▒▒▒▒▒▒▒▒▒▓▓▓▓</td></tr><tr><td>kiwi smoothie</td><td>5</td><td>20</td><td>7</td><td>░░░░░▒▒▒▒▒▒▒▒▒▒▒▒▒▒▒▒▒▒▒▒▓▓▓▓▓▓▓</td></tr></table>"
                    },
                    "metadata": {}
                }
            ],
            "execution_count": 47
        },
        {
            "cell_type": "code",
            "source": [
                "select menu, [like], neutral, dislike,\n",
                "    replicate(nchar(0x2591), [like] * 100.0 / ([like]+neutral+dislike)) + \n",
                "    replicate(nchar(0x2592), neutral * 100.0 / ([like]+neutral+dislike)) + \n",
                "    replicate(nchar(0x2593), dislike * 100.0 / ([like]+neutral+dislike)) as [░ like  ▒ neutral  ▓ dislike]\n",
                "    from vote3"
            ],
            "metadata": {
                "azdata_cell_guid": "b062f0c7-c082-4955-ac4d-ee307796bfef"
            },
            "outputs": [
                {
                    "output_type": "display_data",
                    "data": {
                        "text/html": "(6 rows affected)"
                    },
                    "metadata": {}
                },
                {
                    "output_type": "display_data",
                    "data": {
                        "text/html": "Total execution time: 00:00:00.497"
                    },
                    "metadata": {}
                },
                {
                    "output_type": "execute_result",
                    "execution_count": 48,
                    "data": {
                        "application/vnd.dataresource+json": {
                            "schema": {
                                "fields": [
                                    {
                                        "name": "menu"
                                    },
                                    {
                                        "name": "like"
                                    },
                                    {
                                        "name": "neutral"
                                    },
                                    {
                                        "name": "dislike"
                                    },
                                    {
                                        "name": "░ like  ▒ neutral  ▓ dislike"
                                    }
                                ]
                            },
                            "data": [
                                {
                                    "0": "mocha",
                                    "1": "25",
                                    "2": "20",
                                    "3": "11",
                                    "4": "░░░░░░░░░░░░░░░░░░░░░░░░░░░░░░░░░░░░░░░░░░░░▒▒▒▒▒▒▒▒▒▒▒▒▒▒▒▒▒▒▒▒▒▒▒▒▒▒▒▒▒▒▒▒▒▒▒▓▓▓▓▓▓▓▓▓▓▓▓▓▓▓▓▓▓▓"
                                },
                                {
                                    "0": "latte",
                                    "1": "22",
                                    "2": "12",
                                    "3": "5",
                                    "4": "░░░░░░░░░░░░░░░░░░░░░░░░░░░░░░░░░░░░░░░░░░░░░░░░░░░░░░░░▒▒▒▒▒▒▒▒▒▒▒▒▒▒▒▒▒▒▒▒▒▒▒▒▒▒▒▒▒▒▓▓▓▓▓▓▓▓▓▓▓▓"
                                },
                                {
                                    "0": "green tea",
                                    "1": "29",
                                    "2": "5",
                                    "3": "8",
                                    "4": "░░░░░░░░░░░░░░░░░░░░░░░░░░░░░░░░░░░░░░░░░░░░░░░░░░░░░░░░░░░░░░░░░░░░░▒▒▒▒▒▒▒▒▒▒▒▓▓▓▓▓▓▓▓▓▓▓▓▓▓▓▓▓▓▓"
                                },
                                {
                                    "0": "jasmine tea",
                                    "1": "10",
                                    "2": "15",
                                    "3": "20",
                                    "4": "░░░░░░░░░░░░░░░░░░░░░░▒▒▒▒▒▒▒▒▒▒▒▒▒▒▒▒▒▒▒▒▒▒▒▒▒▒▒▒▒▒▒▒▒▓▓▓▓▓▓▓▓▓▓▓▓▓▓▓▓▓▓▓▓▓▓▓▓▓▓▓▓▓▓▓▓▓▓▓▓▓▓▓▓▓▓▓▓"
                                },
                                {
                                    "0": "mango smoothie",
                                    "1": "20",
                                    "2": "15",
                                    "3": "4",
                                    "4": "░░░░░░░░░░░░░░░░░░░░░░░░░░░░░░░░░░░░░░░░░░░░░░░░░░░▒▒▒▒▒▒▒▒▒▒▒▒▒▒▒▒▒▒▒▒▒▒▒▒▒▒▒▒▒▒▒▒▒▒▒▒▒▒▓▓▓▓▓▓▓▓▓▓"
                                },
                                {
                                    "0": "kiwi smoothie",
                                    "1": "5",
                                    "2": "20",
                                    "3": "7",
                                    "4": "░░░░░░░░░░░░░░░▒▒▒▒▒▒▒▒▒▒▒▒▒▒▒▒▒▒▒▒▒▒▒▒▒▒▒▒▒▒▒▒▒▒▒▒▒▒▒▒▒▒▒▒▒▒▒▒▒▒▒▒▒▒▒▒▒▒▒▒▒▒▓▓▓▓▓▓▓▓▓▓▓▓▓▓▓▓▓▓▓▓▓"
                                }
                            ]
                        },
                        "text/html": "<table><tr><th>menu</th><th>like</th><th>neutral</th><th>dislike</th><th>░ like  ▒ neutral  ▓ dislike</th></tr><tr><td>mocha</td><td>25</td><td>20</td><td>11</td><td>░░░░░░░░░░░░░░░░░░░░░░░░░░░░░░░░░░░░░░░░░░░░▒▒▒▒▒▒▒▒▒▒▒▒▒▒▒▒▒▒▒▒▒▒▒▒▒▒▒▒▒▒▒▒▒▒▒▓▓▓▓▓▓▓▓▓▓▓▓▓▓▓▓▓▓▓</td></tr><tr><td>latte</td><td>22</td><td>12</td><td>5</td><td>░░░░░░░░░░░░░░░░░░░░░░░░░░░░░░░░░░░░░░░░░░░░░░░░░░░░░░░░▒▒▒▒▒▒▒▒▒▒▒▒▒▒▒▒▒▒▒▒▒▒▒▒▒▒▒▒▒▒▓▓▓▓▓▓▓▓▓▓▓▓</td></tr><tr><td>green tea</td><td>29</td><td>5</td><td>8</td><td>░░░░░░░░░░░░░░░░░░░░░░░░░░░░░░░░░░░░░░░░░░░░░░░░░░░░░░░░░░░░░░░░░░░░░▒▒▒▒▒▒▒▒▒▒▒▓▓▓▓▓▓▓▓▓▓▓▓▓▓▓▓▓▓▓</td></tr><tr><td>jasmine tea</td><td>10</td><td>15</td><td>20</td><td>░░░░░░░░░░░░░░░░░░░░░░▒▒▒▒▒▒▒▒▒▒▒▒▒▒▒▒▒▒▒▒▒▒▒▒▒▒▒▒▒▒▒▒▒▓▓▓▓▓▓▓▓▓▓▓▓▓▓▓▓▓▓▓▓▓▓▓▓▓▓▓▓▓▓▓▓▓▓▓▓▓▓▓▓▓▓▓▓</td></tr><tr><td>mango smoothie</td><td>20</td><td>15</td><td>4</td><td>░░░░░░░░░░░░░░░░░░░░░░░░░░░░░░░░░░░░░░░░░░░░░░░░░░░▒▒▒▒▒▒▒▒▒▒▒▒▒▒▒▒▒▒▒▒▒▒▒▒▒▒▒▒▒▒▒▒▒▒▒▒▒▒▓▓▓▓▓▓▓▓▓▓</td></tr><tr><td>kiwi smoothie</td><td>5</td><td>20</td><td>7</td><td>░░░░░░░░░░░░░░░▒▒▒▒▒▒▒▒▒▒▒▒▒▒▒▒▒▒▒▒▒▒▒▒▒▒▒▒▒▒▒▒▒▒▒▒▒▒▒▒▒▒▒▒▒▒▒▒▒▒▒▒▒▒▒▒▒▒▒▒▒▒▓▓▓▓▓▓▓▓▓▓▓▓▓▓▓▓▓▓▓▓▓</td></tr></table>"
                    },
                    "metadata": {}
                }
            ],
            "execution_count": 48
        },
        {
            "cell_type": "code",
            "source": [
                "select menu, [like], neutral, dislike,\n",
                "    replicate(nchar(0x2591), [like] * 50.0 / ([like]+neutral+dislike)) + \n",
                "    replicate(nchar(0x2592), neutral * 50.0 / ([like]+neutral+dislike)) + \n",
                "    replicate(nchar(0x2593), dislike * 50.0 / ([like]+neutral+dislike)) as [░ like  ▒ neutral  ▓ dislike]\n",
                "    from vote3"
            ],
            "metadata": {
                "azdata_cell_guid": "fcee4ff2-da5e-432c-82b1-e938cf060f90"
            },
            "outputs": [
                {
                    "output_type": "display_data",
                    "data": {
                        "text/html": "(6 rows affected)"
                    },
                    "metadata": {}
                },
                {
                    "output_type": "display_data",
                    "data": {
                        "text/html": "Total execution time: 00:00:00.498"
                    },
                    "metadata": {}
                },
                {
                    "output_type": "execute_result",
                    "execution_count": 49,
                    "data": {
                        "application/vnd.dataresource+json": {
                            "schema": {
                                "fields": [
                                    {
                                        "name": "menu"
                                    },
                                    {
                                        "name": "like"
                                    },
                                    {
                                        "name": "neutral"
                                    },
                                    {
                                        "name": "dislike"
                                    },
                                    {
                                        "name": "░ like  ▒ neutral  ▓ dislike"
                                    }
                                ]
                            },
                            "data": [
                                {
                                    "0": "mocha",
                                    "1": "25",
                                    "2": "20",
                                    "3": "11",
                                    "4": "░░░░░░░░░░░░░░░░░░░░░░▒▒▒▒▒▒▒▒▒▒▒▒▒▒▒▒▒▓▓▓▓▓▓▓▓▓"
                                },
                                {
                                    "0": "latte",
                                    "1": "22",
                                    "2": "12",
                                    "3": "5",
                                    "4": "░░░░░░░░░░░░░░░░░░░░░░░░░░░░▒▒▒▒▒▒▒▒▒▒▒▒▒▒▒▓▓▓▓▓▓"
                                },
                                {
                                    "0": "green tea",
                                    "1": "29",
                                    "2": "5",
                                    "3": "8",
                                    "4": "░░░░░░░░░░░░░░░░░░░░░░░░░░░░░░░░░░▒▒▒▒▒▓▓▓▓▓▓▓▓▓"
                                },
                                {
                                    "0": "jasmine tea",
                                    "1": "10",
                                    "2": "15",
                                    "3": "20",
                                    "4": "░░░░░░░░░░░▒▒▒▒▒▒▒▒▒▒▒▒▒▒▒▒▓▓▓▓▓▓▓▓▓▓▓▓▓▓▓▓▓▓▓▓▓▓"
                                },
                                {
                                    "0": "mango smoothie",
                                    "1": "20",
                                    "2": "15",
                                    "3": "4",
                                    "4": "░░░░░░░░░░░░░░░░░░░░░░░░░▒▒▒▒▒▒▒▒▒▒▒▒▒▒▒▒▒▒▒▓▓▓▓▓"
                                },
                                {
                                    "0": "kiwi smoothie",
                                    "1": "5",
                                    "2": "20",
                                    "3": "7",
                                    "4": "░░░░░░░▒▒▒▒▒▒▒▒▒▒▒▒▒▒▒▒▒▒▒▒▒▒▒▒▒▒▒▒▒▒▒▓▓▓▓▓▓▓▓▓▓"
                                }
                            ]
                        },
                        "text/html": "<table><tr><th>menu</th><th>like</th><th>neutral</th><th>dislike</th><th>░ like  ▒ neutral  ▓ dislike</th></tr><tr><td>mocha</td><td>25</td><td>20</td><td>11</td><td>░░░░░░░░░░░░░░░░░░░░░░▒▒▒▒▒▒▒▒▒▒▒▒▒▒▒▒▒▓▓▓▓▓▓▓▓▓</td></tr><tr><td>latte</td><td>22</td><td>12</td><td>5</td><td>░░░░░░░░░░░░░░░░░░░░░░░░░░░░▒▒▒▒▒▒▒▒▒▒▒▒▒▒▒▓▓▓▓▓▓</td></tr><tr><td>green tea</td><td>29</td><td>5</td><td>8</td><td>░░░░░░░░░░░░░░░░░░░░░░░░░░░░░░░░░░▒▒▒▒▒▓▓▓▓▓▓▓▓▓</td></tr><tr><td>jasmine tea</td><td>10</td><td>15</td><td>20</td><td>░░░░░░░░░░░▒▒▒▒▒▒▒▒▒▒▒▒▒▒▒▒▓▓▓▓▓▓▓▓▓▓▓▓▓▓▓▓▓▓▓▓▓▓</td></tr><tr><td>mango smoothie</td><td>20</td><td>15</td><td>4</td><td>░░░░░░░░░░░░░░░░░░░░░░░░░▒▒▒▒▒▒▒▒▒▒▒▒▒▒▒▒▒▒▒▓▓▓▓▓</td></tr><tr><td>kiwi smoothie</td><td>5</td><td>20</td><td>7</td><td>░░░░░░░▒▒▒▒▒▒▒▒▒▒▒▒▒▒▒▒▒▒▒▒▒▒▒▒▒▒▒▒▒▒▒▓▓▓▓▓▓▓▓▓▓</td></tr></table>"
                    },
                    "metadata": {}
                }
            ],
            "execution_count": 49
        }
    ]
}