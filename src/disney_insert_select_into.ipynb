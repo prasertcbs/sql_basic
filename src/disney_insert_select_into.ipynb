{
    "metadata": {
        "kernelspec": {
            "name": "SQL",
            "display_name": "SQL",
            "language": "sql"
        },
        "language_info": {
            "name": "sql",
            "version": ""
        }
    },
    "nbformat_minor": 2,
    "nbformat": 4,
    "cells": [
        {
            "cell_type": "markdown",
            "source": [
                "# INSERT INTO\n",
                "# SELECT INTO\n",
                "## Server: Microsoft SQL Server\n",
                "## Database: disney\n",
                "## Author: Prasert Kanawattanachai\n",
                "## YouTube: https://youtu.be/BAP7CUEAUIo"
            ],
            "metadata": {}
        },
        {
            "cell_type": "code",
            "source": [
                "drop table if exists movie\n",
                "drop table if exists m2000\n",
                "drop table if exists m2001"
            ],
            "metadata": {},
            "outputs": [
                {
                    "output_type": "display_data",
                    "data": {
                        "text/html": "Commands completed successfully."
                    },
                    "metadata": {}
                },
                {
                    "output_type": "display_data",
                    "data": {
                        "text/html": "Total execution time: 00:00:00.218"
                    },
                    "metadata": {}
                }
            ],
            "execution_count": 1
        },
        {
            "cell_type": "code",
            "source": "select top 5 * from movie_gross",
            "metadata": {},
            "outputs": [
                {
                    "output_type": "display_data",
                    "data": {
                        "text/html": "(5 rows affected)"
                    },
                    "metadata": {}
                },
                {
                    "output_type": "display_data",
                    "data": {
                        "text/html": "Total execution time: 00:00:00.053"
                    },
                    "metadata": {}
                },
                {
                    "output_type": "execute_result",
                    "execution_count": 2,
                    "data": {
                        "application/vnd.dataresource+json": {
                            "schema": {
                                "fields": [
                                    {
                                        "name": "movie_title"
                                    },
                                    {
                                        "name": "release_date"
                                    },
                                    {
                                        "name": "genre"
                                    },
                                    {
                                        "name": "mpaa_rating"
                                    },
                                    {
                                        "name": "total_gross"
                                    },
                                    {
                                        "name": "inflation_adjusted_gross"
                                    }
                                ]
                            },
                            "data": [
                                {
                                    "0": "Snow White and the Seven Dwarfs",
                                    "1": "1937-12-21",
                                    "2": "Musical",
                                    "3": "G",
                                    "4": "184925485",
                                    "5": "5228953251"
                                },
                                {
                                    "0": "Pinocchio",
                                    "1": "1940-02-09",
                                    "2": "Adventure",
                                    "3": "G",
                                    "4": "84300000",
                                    "5": "2188229052"
                                },
                                {
                                    "0": "Fantasia",
                                    "1": "1940-11-13",
                                    "2": "Musical",
                                    "3": "G",
                                    "4": "83320000",
                                    "5": "2187090808"
                                },
                                {
                                    "0": "Song of the South",
                                    "1": "1946-11-12",
                                    "2": "Adventure",
                                    "3": "G",
                                    "4": "65000000",
                                    "5": "1078510579"
                                },
                                {
                                    "0": "Cinderella",
                                    "1": "1950-02-15",
                                    "2": "Drama",
                                    "3": "G",
                                    "4": "85000000",
                                    "5": "920608730"
                                }
                            ]
                        },
                        "text/html": "<table><tr><th>movie_title</th><th>release_date</th><th>genre</th><th>mpaa_rating</th><th>total_gross</th><th>inflation_adjusted_gross</th></tr><tr><td>Snow White and the Seven Dwarfs</td><td>1937-12-21</td><td>Musical</td><td>G</td><td>184925485</td><td>5228953251</td></tr><tr><td>Pinocchio</td><td>1940-02-09</td><td>Adventure</td><td>G</td><td>84300000</td><td>2188229052</td></tr><tr><td>Fantasia</td><td>1940-11-13</td><td>Musical</td><td>G</td><td>83320000</td><td>2187090808</td></tr><tr><td>Song of the South</td><td>1946-11-12</td><td>Adventure</td><td>G</td><td>65000000</td><td>1078510579</td></tr><tr><td>Cinderella</td><td>1950-02-15</td><td>Drama</td><td>G</td><td>85000000</td><td>920608730</td></tr></table>"
                    },
                    "metadata": {}
                }
            ],
            "execution_count": 2
        },
        {
            "cell_type": "markdown",
            "source": "## เอาข้อมูล 5 แถวแรกจากตาราง movie_gross ไปสร้างตารางใหม่ชื่อ movie ",
            "metadata": {}
        },
        {
            "cell_type": "code",
            "source": [
                "select top 5 * \n",
                "    into movie\n",
                "    from movie_gross"
            ],
            "metadata": {},
            "outputs": [
                {
                    "output_type": "display_data",
                    "data": {
                        "text/html": "(5 rows affected)"
                    },
                    "metadata": {}
                },
                {
                    "output_type": "display_data",
                    "data": {
                        "text/html": "Total execution time: 00:00:00.099"
                    },
                    "metadata": {}
                }
            ],
            "execution_count": 3
        },
        {
            "cell_type": "code",
            "source": "select * from movie",
            "metadata": {},
            "outputs": [
                {
                    "output_type": "display_data",
                    "data": {
                        "text/html": "(5 rows affected)"
                    },
                    "metadata": {}
                },
                {
                    "output_type": "display_data",
                    "data": {
                        "text/html": "Total execution time: 00:00:00.063"
                    },
                    "metadata": {}
                },
                {
                    "output_type": "execute_result",
                    "execution_count": 4,
                    "data": {
                        "application/vnd.dataresource+json": {
                            "schema": {
                                "fields": [
                                    {
                                        "name": "movie_title"
                                    },
                                    {
                                        "name": "release_date"
                                    },
                                    {
                                        "name": "genre"
                                    },
                                    {
                                        "name": "mpaa_rating"
                                    },
                                    {
                                        "name": "total_gross"
                                    },
                                    {
                                        "name": "inflation_adjusted_gross"
                                    }
                                ]
                            },
                            "data": [
                                {
                                    "0": "Snow White and the Seven Dwarfs",
                                    "1": "1937-12-21",
                                    "2": "Musical",
                                    "3": "G",
                                    "4": "184925485",
                                    "5": "5228953251"
                                },
                                {
                                    "0": "Pinocchio",
                                    "1": "1940-02-09",
                                    "2": "Adventure",
                                    "3": "G",
                                    "4": "84300000",
                                    "5": "2188229052"
                                },
                                {
                                    "0": "Fantasia",
                                    "1": "1940-11-13",
                                    "2": "Musical",
                                    "3": "G",
                                    "4": "83320000",
                                    "5": "2187090808"
                                },
                                {
                                    "0": "Song of the South",
                                    "1": "1946-11-12",
                                    "2": "Adventure",
                                    "3": "G",
                                    "4": "65000000",
                                    "5": "1078510579"
                                },
                                {
                                    "0": "Cinderella",
                                    "1": "1950-02-15",
                                    "2": "Drama",
                                    "3": "G",
                                    "4": "85000000",
                                    "5": "920608730"
                                }
                            ]
                        },
                        "text/html": "<table><tr><th>movie_title</th><th>release_date</th><th>genre</th><th>mpaa_rating</th><th>total_gross</th><th>inflation_adjusted_gross</th></tr><tr><td>Snow White and the Seven Dwarfs</td><td>1937-12-21</td><td>Musical</td><td>G</td><td>184925485</td><td>5228953251</td></tr><tr><td>Pinocchio</td><td>1940-02-09</td><td>Adventure</td><td>G</td><td>84300000</td><td>2188229052</td></tr><tr><td>Fantasia</td><td>1940-11-13</td><td>Musical</td><td>G</td><td>83320000</td><td>2187090808</td></tr><tr><td>Song of the South</td><td>1946-11-12</td><td>Adventure</td><td>G</td><td>65000000</td><td>1078510579</td></tr><tr><td>Cinderella</td><td>1950-02-15</td><td>Drama</td><td>G</td><td>85000000</td><td>920608730</td></tr></table>"
                    },
                    "metadata": {}
                }
            ],
            "execution_count": 4
        },
        {
            "cell_type": "markdown",
            "source": "## การเพิ่มข้อมูล 1 แถว",
            "metadata": {}
        },
        {
            "cell_type": "code",
            "source": "insert into movie values('demo', '2019-08-25', 'Drama', 'G', NULL, NULL)",
            "metadata": {},
            "outputs": [
                {
                    "output_type": "display_data",
                    "data": {
                        "text/html": "(1 row affected)"
                    },
                    "metadata": {}
                },
                {
                    "output_type": "display_data",
                    "data": {
                        "text/html": "Total execution time: 00:00:00.065"
                    },
                    "metadata": {}
                }
            ],
            "execution_count": 5
        },
        {
            "cell_type": "code",
            "source": "select * from movie",
            "metadata": {},
            "outputs": [
                {
                    "output_type": "display_data",
                    "data": {
                        "text/html": "(6 rows affected)"
                    },
                    "metadata": {}
                },
                {
                    "output_type": "display_data",
                    "data": {
                        "text/html": "Total execution time: 00:00:00.057"
                    },
                    "metadata": {}
                },
                {
                    "output_type": "execute_result",
                    "execution_count": 6,
                    "data": {
                        "application/vnd.dataresource+json": {
                            "schema": {
                                "fields": [
                                    {
                                        "name": "movie_title"
                                    },
                                    {
                                        "name": "release_date"
                                    },
                                    {
                                        "name": "genre"
                                    },
                                    {
                                        "name": "mpaa_rating"
                                    },
                                    {
                                        "name": "total_gross"
                                    },
                                    {
                                        "name": "inflation_adjusted_gross"
                                    }
                                ]
                            },
                            "data": [
                                {
                                    "0": "Snow White and the Seven Dwarfs",
                                    "1": "1937-12-21",
                                    "2": "Musical",
                                    "3": "G",
                                    "4": "184925485",
                                    "5": "5228953251"
                                },
                                {
                                    "0": "Pinocchio",
                                    "1": "1940-02-09",
                                    "2": "Adventure",
                                    "3": "G",
                                    "4": "84300000",
                                    "5": "2188229052"
                                },
                                {
                                    "0": "Fantasia",
                                    "1": "1940-11-13",
                                    "2": "Musical",
                                    "3": "G",
                                    "4": "83320000",
                                    "5": "2187090808"
                                },
                                {
                                    "0": "Song of the South",
                                    "1": "1946-11-12",
                                    "2": "Adventure",
                                    "3": "G",
                                    "4": "65000000",
                                    "5": "1078510579"
                                },
                                {
                                    "0": "Cinderella",
                                    "1": "1950-02-15",
                                    "2": "Drama",
                                    "3": "G",
                                    "4": "85000000",
                                    "5": "920608730"
                                },
                                {
                                    "0": "demo",
                                    "1": "2019-08-25",
                                    "2": "Drama",
                                    "3": "G",
                                    "4": "NULL",
                                    "5": "NULL"
                                }
                            ]
                        },
                        "text/html": "<table><tr><th>movie_title</th><th>release_date</th><th>genre</th><th>mpaa_rating</th><th>total_gross</th><th>inflation_adjusted_gross</th></tr><tr><td>Snow White and the Seven Dwarfs</td><td>1937-12-21</td><td>Musical</td><td>G</td><td>184925485</td><td>5228953251</td></tr><tr><td>Pinocchio</td><td>1940-02-09</td><td>Adventure</td><td>G</td><td>84300000</td><td>2188229052</td></tr><tr><td>Fantasia</td><td>1940-11-13</td><td>Musical</td><td>G</td><td>83320000</td><td>2187090808</td></tr><tr><td>Song of the South</td><td>1946-11-12</td><td>Adventure</td><td>G</td><td>65000000</td><td>1078510579</td></tr><tr><td>Cinderella</td><td>1950-02-15</td><td>Drama</td><td>G</td><td>85000000</td><td>920608730</td></tr><tr><td>demo</td><td>2019-08-25</td><td>Drama</td><td>G</td><td>NULL</td><td>NULL</td></tr></table>"
                    },
                    "metadata": {}
                }
            ],
            "execution_count": 6
        },
        {
            "cell_type": "markdown",
            "source": "## การเพิ่มข้อมูลเฉพาะบางคอลัมน์",
            "metadata": {}
        },
        {
            "cell_type": "code",
            "source": "insert into movie(movie_title, genre) values ('frozen 2', 'Adventure')",
            "metadata": {},
            "outputs": [
                {
                    "output_type": "display_data",
                    "data": {
                        "text/html": "(1 row affected)"
                    },
                    "metadata": {}
                },
                {
                    "output_type": "display_data",
                    "data": {
                        "text/html": "Total execution time: 00:00:00.128"
                    },
                    "metadata": {}
                }
            ],
            "execution_count": 7
        },
        {
            "cell_type": "code",
            "source": "select * from movie",
            "metadata": {},
            "outputs": [
                {
                    "output_type": "display_data",
                    "data": {
                        "text/html": "(7 rows affected)"
                    },
                    "metadata": {}
                },
                {
                    "output_type": "display_data",
                    "data": {
                        "text/html": "Total execution time: 00:00:00.055"
                    },
                    "metadata": {}
                },
                {
                    "output_type": "execute_result",
                    "execution_count": 8,
                    "data": {
                        "application/vnd.dataresource+json": {
                            "schema": {
                                "fields": [
                                    {
                                        "name": "movie_title"
                                    },
                                    {
                                        "name": "release_date"
                                    },
                                    {
                                        "name": "genre"
                                    },
                                    {
                                        "name": "mpaa_rating"
                                    },
                                    {
                                        "name": "total_gross"
                                    },
                                    {
                                        "name": "inflation_adjusted_gross"
                                    }
                                ]
                            },
                            "data": [
                                {
                                    "0": "Snow White and the Seven Dwarfs",
                                    "1": "1937-12-21",
                                    "2": "Musical",
                                    "3": "G",
                                    "4": "184925485",
                                    "5": "5228953251"
                                },
                                {
                                    "0": "Pinocchio",
                                    "1": "1940-02-09",
                                    "2": "Adventure",
                                    "3": "G",
                                    "4": "84300000",
                                    "5": "2188229052"
                                },
                                {
                                    "0": "Fantasia",
                                    "1": "1940-11-13",
                                    "2": "Musical",
                                    "3": "G",
                                    "4": "83320000",
                                    "5": "2187090808"
                                },
                                {
                                    "0": "Song of the South",
                                    "1": "1946-11-12",
                                    "2": "Adventure",
                                    "3": "G",
                                    "4": "65000000",
                                    "5": "1078510579"
                                },
                                {
                                    "0": "Cinderella",
                                    "1": "1950-02-15",
                                    "2": "Drama",
                                    "3": "G",
                                    "4": "85000000",
                                    "5": "920608730"
                                },
                                {
                                    "0": "demo",
                                    "1": "2019-08-25",
                                    "2": "Drama",
                                    "3": "G",
                                    "4": "NULL",
                                    "5": "NULL"
                                },
                                {
                                    "0": "frozen 2",
                                    "1": "NULL",
                                    "2": "Adventure",
                                    "3": "NULL",
                                    "4": "NULL",
                                    "5": "NULL"
                                }
                            ]
                        },
                        "text/html": "<table><tr><th>movie_title</th><th>release_date</th><th>genre</th><th>mpaa_rating</th><th>total_gross</th><th>inflation_adjusted_gross</th></tr><tr><td>Snow White and the Seven Dwarfs</td><td>1937-12-21</td><td>Musical</td><td>G</td><td>184925485</td><td>5228953251</td></tr><tr><td>Pinocchio</td><td>1940-02-09</td><td>Adventure</td><td>G</td><td>84300000</td><td>2188229052</td></tr><tr><td>Fantasia</td><td>1940-11-13</td><td>Musical</td><td>G</td><td>83320000</td><td>2187090808</td></tr><tr><td>Song of the South</td><td>1946-11-12</td><td>Adventure</td><td>G</td><td>65000000</td><td>1078510579</td></tr><tr><td>Cinderella</td><td>1950-02-15</td><td>Drama</td><td>G</td><td>85000000</td><td>920608730</td></tr><tr><td>demo</td><td>2019-08-25</td><td>Drama</td><td>G</td><td>NULL</td><td>NULL</td></tr><tr><td>frozen 2</td><td>NULL</td><td>Adventure</td><td>NULL</td><td>NULL</td><td>NULL</td></tr></table>"
                    },
                    "metadata": {}
                }
            ],
            "execution_count": 8
        },
        {
            "cell_type": "markdown",
            "source": "## การเพิ่มข้อมูลหลาย ๆ แถว",
            "metadata": {}
        },
        {
            "cell_type": "code",
            "source": [
                "insert into movie(movie_title, genre) \n",
                "    values \n",
                "        ('frozen 3', 'Adventure'), \n",
                "        ('Avengers 10', 'Action'), \n",
                "        ('Mickey Mouse 2019', 'Drama')"
            ],
            "metadata": {},
            "outputs": [
                {
                    "output_type": "display_data",
                    "data": {
                        "text/html": "(3 rows affected)"
                    },
                    "metadata": {}
                },
                {
                    "output_type": "display_data",
                    "data": {
                        "text/html": "Total execution time: 00:00:00.094"
                    },
                    "metadata": {}
                }
            ],
            "execution_count": 9
        },
        {
            "cell_type": "code",
            "source": "select * from movie",
            "metadata": {},
            "outputs": [
                {
                    "output_type": "display_data",
                    "data": {
                        "text/html": "(10 rows affected)"
                    },
                    "metadata": {}
                },
                {
                    "output_type": "display_data",
                    "data": {
                        "text/html": "Total execution time: 00:00:00.065"
                    },
                    "metadata": {}
                },
                {
                    "output_type": "execute_result",
                    "execution_count": 10,
                    "data": {
                        "application/vnd.dataresource+json": {
                            "schema": {
                                "fields": [
                                    {
                                        "name": "movie_title"
                                    },
                                    {
                                        "name": "release_date"
                                    },
                                    {
                                        "name": "genre"
                                    },
                                    {
                                        "name": "mpaa_rating"
                                    },
                                    {
                                        "name": "total_gross"
                                    },
                                    {
                                        "name": "inflation_adjusted_gross"
                                    }
                                ]
                            },
                            "data": [
                                {
                                    "0": "Snow White and the Seven Dwarfs",
                                    "1": "1937-12-21",
                                    "2": "Musical",
                                    "3": "G",
                                    "4": "184925485",
                                    "5": "5228953251"
                                },
                                {
                                    "0": "Pinocchio",
                                    "1": "1940-02-09",
                                    "2": "Adventure",
                                    "3": "G",
                                    "4": "84300000",
                                    "5": "2188229052"
                                },
                                {
                                    "0": "Fantasia",
                                    "1": "1940-11-13",
                                    "2": "Musical",
                                    "3": "G",
                                    "4": "83320000",
                                    "5": "2187090808"
                                },
                                {
                                    "0": "Song of the South",
                                    "1": "1946-11-12",
                                    "2": "Adventure",
                                    "3": "G",
                                    "4": "65000000",
                                    "5": "1078510579"
                                },
                                {
                                    "0": "Cinderella",
                                    "1": "1950-02-15",
                                    "2": "Drama",
                                    "3": "G",
                                    "4": "85000000",
                                    "5": "920608730"
                                },
                                {
                                    "0": "demo",
                                    "1": "2019-08-25",
                                    "2": "Drama",
                                    "3": "G",
                                    "4": "NULL",
                                    "5": "NULL"
                                },
                                {
                                    "0": "frozen 2",
                                    "1": "NULL",
                                    "2": "Adventure",
                                    "3": "NULL",
                                    "4": "NULL",
                                    "5": "NULL"
                                },
                                {
                                    "0": "frozen 3",
                                    "1": "NULL",
                                    "2": "Adventure",
                                    "3": "NULL",
                                    "4": "NULL",
                                    "5": "NULL"
                                },
                                {
                                    "0": "Avengers 10",
                                    "1": "NULL",
                                    "2": "Action",
                                    "3": "NULL",
                                    "4": "NULL",
                                    "5": "NULL"
                                },
                                {
                                    "0": "Mickey Mouse 2019",
                                    "1": "NULL",
                                    "2": "Drama",
                                    "3": "NULL",
                                    "4": "NULL",
                                    "5": "NULL"
                                }
                            ]
                        },
                        "text/html": "<table><tr><th>movie_title</th><th>release_date</th><th>genre</th><th>mpaa_rating</th><th>total_gross</th><th>inflation_adjusted_gross</th></tr><tr><td>Snow White and the Seven Dwarfs</td><td>1937-12-21</td><td>Musical</td><td>G</td><td>184925485</td><td>5228953251</td></tr><tr><td>Pinocchio</td><td>1940-02-09</td><td>Adventure</td><td>G</td><td>84300000</td><td>2188229052</td></tr><tr><td>Fantasia</td><td>1940-11-13</td><td>Musical</td><td>G</td><td>83320000</td><td>2187090808</td></tr><tr><td>Song of the South</td><td>1946-11-12</td><td>Adventure</td><td>G</td><td>65000000</td><td>1078510579</td></tr><tr><td>Cinderella</td><td>1950-02-15</td><td>Drama</td><td>G</td><td>85000000</td><td>920608730</td></tr><tr><td>demo</td><td>2019-08-25</td><td>Drama</td><td>G</td><td>NULL</td><td>NULL</td></tr><tr><td>frozen 2</td><td>NULL</td><td>Adventure</td><td>NULL</td><td>NULL</td><td>NULL</td></tr><tr><td>frozen 3</td><td>NULL</td><td>Adventure</td><td>NULL</td><td>NULL</td><td>NULL</td></tr><tr><td>Avengers 10</td><td>NULL</td><td>Action</td><td>NULL</td><td>NULL</td><td>NULL</td></tr><tr><td>Mickey Mouse 2019</td><td>NULL</td><td>Drama</td><td>NULL</td><td>NULL</td><td>NULL</td></tr></table>"
                    },
                    "metadata": {}
                }
            ],
            "execution_count": 10
        },
        {
            "cell_type": "code",
            "source": "-- insert into movie values ('Aladdin', '2019-07-01')",
            "metadata": {},
            "outputs": [
                {
                    "output_type": "display_data",
                    "data": {
                        "text/html": "Commands completed successfully."
                    },
                    "metadata": {}
                },
                {
                    "output_type": "display_data",
                    "data": {
                        "text/html": "Total execution time: 00:00:00.052"
                    },
                    "metadata": {}
                }
            ],
            "execution_count": 11
        },
        {
            "cell_type": "code",
            "source": "insert into movie(movie_title, release_date) values ('Aladdin', '2019-07-01')",
            "metadata": {},
            "outputs": [
                {
                    "output_type": "display_data",
                    "data": {
                        "text/html": "(1 row affected)"
                    },
                    "metadata": {}
                },
                {
                    "output_type": "display_data",
                    "data": {
                        "text/html": "Total execution time: 00:00:00.077"
                    },
                    "metadata": {}
                }
            ],
            "execution_count": 12
        },
        {
            "cell_type": "code",
            "source": "select * from movie",
            "metadata": {},
            "outputs": [
                {
                    "output_type": "display_data",
                    "data": {
                        "text/html": "(11 rows affected)"
                    },
                    "metadata": {}
                },
                {
                    "output_type": "display_data",
                    "data": {
                        "text/html": "Total execution time: 00:00:00.057"
                    },
                    "metadata": {}
                },
                {
                    "output_type": "execute_result",
                    "execution_count": 13,
                    "data": {
                        "application/vnd.dataresource+json": {
                            "schema": {
                                "fields": [
                                    {
                                        "name": "movie_title"
                                    },
                                    {
                                        "name": "release_date"
                                    },
                                    {
                                        "name": "genre"
                                    },
                                    {
                                        "name": "mpaa_rating"
                                    },
                                    {
                                        "name": "total_gross"
                                    },
                                    {
                                        "name": "inflation_adjusted_gross"
                                    }
                                ]
                            },
                            "data": [
                                {
                                    "0": "Snow White and the Seven Dwarfs",
                                    "1": "1937-12-21",
                                    "2": "Musical",
                                    "3": "G",
                                    "4": "184925485",
                                    "5": "5228953251"
                                },
                                {
                                    "0": "Pinocchio",
                                    "1": "1940-02-09",
                                    "2": "Adventure",
                                    "3": "G",
                                    "4": "84300000",
                                    "5": "2188229052"
                                },
                                {
                                    "0": "Fantasia",
                                    "1": "1940-11-13",
                                    "2": "Musical",
                                    "3": "G",
                                    "4": "83320000",
                                    "5": "2187090808"
                                },
                                {
                                    "0": "Song of the South",
                                    "1": "1946-11-12",
                                    "2": "Adventure",
                                    "3": "G",
                                    "4": "65000000",
                                    "5": "1078510579"
                                },
                                {
                                    "0": "Cinderella",
                                    "1": "1950-02-15",
                                    "2": "Drama",
                                    "3": "G",
                                    "4": "85000000",
                                    "5": "920608730"
                                },
                                {
                                    "0": "demo",
                                    "1": "2019-08-25",
                                    "2": "Drama",
                                    "3": "G",
                                    "4": "NULL",
                                    "5": "NULL"
                                },
                                {
                                    "0": "frozen 2",
                                    "1": "NULL",
                                    "2": "Adventure",
                                    "3": "NULL",
                                    "4": "NULL",
                                    "5": "NULL"
                                },
                                {
                                    "0": "frozen 3",
                                    "1": "NULL",
                                    "2": "Adventure",
                                    "3": "NULL",
                                    "4": "NULL",
                                    "5": "NULL"
                                },
                                {
                                    "0": "Avengers 10",
                                    "1": "NULL",
                                    "2": "Action",
                                    "3": "NULL",
                                    "4": "NULL",
                                    "5": "NULL"
                                },
                                {
                                    "0": "Mickey Mouse 2019",
                                    "1": "NULL",
                                    "2": "Drama",
                                    "3": "NULL",
                                    "4": "NULL",
                                    "5": "NULL"
                                },
                                {
                                    "0": "Aladdin",
                                    "1": "2019-07-01",
                                    "2": "NULL",
                                    "3": "NULL",
                                    "4": "NULL",
                                    "5": "NULL"
                                }
                            ]
                        },
                        "text/html": "<table><tr><th>movie_title</th><th>release_date</th><th>genre</th><th>mpaa_rating</th><th>total_gross</th><th>inflation_adjusted_gross</th></tr><tr><td>Snow White and the Seven Dwarfs</td><td>1937-12-21</td><td>Musical</td><td>G</td><td>184925485</td><td>5228953251</td></tr><tr><td>Pinocchio</td><td>1940-02-09</td><td>Adventure</td><td>G</td><td>84300000</td><td>2188229052</td></tr><tr><td>Fantasia</td><td>1940-11-13</td><td>Musical</td><td>G</td><td>83320000</td><td>2187090808</td></tr><tr><td>Song of the South</td><td>1946-11-12</td><td>Adventure</td><td>G</td><td>65000000</td><td>1078510579</td></tr><tr><td>Cinderella</td><td>1950-02-15</td><td>Drama</td><td>G</td><td>85000000</td><td>920608730</td></tr><tr><td>demo</td><td>2019-08-25</td><td>Drama</td><td>G</td><td>NULL</td><td>NULL</td></tr><tr><td>frozen 2</td><td>NULL</td><td>Adventure</td><td>NULL</td><td>NULL</td><td>NULL</td></tr><tr><td>frozen 3</td><td>NULL</td><td>Adventure</td><td>NULL</td><td>NULL</td><td>NULL</td></tr><tr><td>Avengers 10</td><td>NULL</td><td>Action</td><td>NULL</td><td>NULL</td><td>NULL</td></tr><tr><td>Mickey Mouse 2019</td><td>NULL</td><td>Drama</td><td>NULL</td><td>NULL</td><td>NULL</td></tr><tr><td>Aladdin</td><td>2019-07-01</td><td>NULL</td><td>NULL</td><td>NULL</td><td>NULL</td></tr></table>"
                    },
                    "metadata": {}
                }
            ],
            "execution_count": 13
        },
        {
            "cell_type": "code",
            "source": "select * into m2000 from movie_gross where year(release_date) = 2000",
            "metadata": {},
            "outputs": [
                {
                    "output_type": "display_data",
                    "data": {
                        "text/html": "(19 rows affected)"
                    },
                    "metadata": {}
                },
                {
                    "output_type": "display_data",
                    "data": {
                        "text/html": "Total execution time: 00:00:00.108"
                    },
                    "metadata": {}
                }
            ],
            "execution_count": 14
        },
        {
            "cell_type": "code",
            "source": "select * into m2001 from movie_gross where year(release_date) = 2001",
            "metadata": {},
            "outputs": [
                {
                    "output_type": "display_data",
                    "data": {
                        "text/html": "(14 rows affected)"
                    },
                    "metadata": {}
                },
                {
                    "output_type": "display_data",
                    "data": {
                        "text/html": "Total execution time: 00:00:00.121"
                    },
                    "metadata": {}
                }
            ],
            "execution_count": 15
        },
        {
            "cell_type": "code",
            "source": "select * from m2000",
            "metadata": {},
            "outputs": [
                {
                    "output_type": "display_data",
                    "data": {
                        "text/html": "(19 rows affected)"
                    },
                    "metadata": {}
                },
                {
                    "output_type": "display_data",
                    "data": {
                        "text/html": "Total execution time: 00:00:00.063"
                    },
                    "metadata": {}
                },
                {
                    "output_type": "execute_result",
                    "execution_count": 16,
                    "data": {
                        "application/vnd.dataresource+json": {
                            "schema": {
                                "fields": [
                                    {
                                        "name": "movie_title"
                                    },
                                    {
                                        "name": "release_date"
                                    },
                                    {
                                        "name": "genre"
                                    },
                                    {
                                        "name": "mpaa_rating"
                                    },
                                    {
                                        "name": "total_gross"
                                    },
                                    {
                                        "name": "inflation_adjusted_gross"
                                    }
                                ]
                            },
                            "data": [
                                {
                                    "0": "Fantasia 2000 (IMAX)",
                                    "1": "2000-01-01",
                                    "2": "Musical",
                                    "3": "G",
                                    "4": "60507228",
                                    "5": "94852354"
                                },
                                {
                                    "0": "Gun Shy",
                                    "1": "2000-02-04",
                                    "2": "Comedy",
                                    "3": "R",
                                    "4": "1638202",
                                    "5": "2562155"
                                },
                                {
                                    "0": "The Tigger Movie",
                                    "1": "2000-02-11",
                                    "2": "Adventure",
                                    "3": "G",
                                    "4": "45542421",
                                    "5": "71228678"
                                },
                                {
                                    "0": "Mission to Mars",
                                    "1": "2000-03-10",
                                    "2": "Adventure",
                                    "3": "PG",
                                    "4": "60874615",
                                    "5": "95208344"
                                },
                                {
                                    "0": "High Fidelity",
                                    "1": "2000-03-31",
                                    "2": "Comedy",
                                    "3": "R",
                                    "4": "27277055",
                                    "5": "42661516"
                                },
                                {
                                    "0": "Keeping the Faith",
                                    "1": "2000-04-14",
                                    "2": "Romantic Comedy",
                                    "3": "PG-13",
                                    "4": "37036404",
                                    "5": "57925202"
                                },
                                {
                                    "0": "Dinosaur",
                                    "1": "2000-05-19",
                                    "2": "Adventure",
                                    "3": "PG",
                                    "4": "137748063",
                                    "5": "215438985"
                                },
                                {
                                    "0": "Shanghai Noon",
                                    "1": "2000-05-26",
                                    "2": "Western",
                                    "3": "PG-13",
                                    "4": "56932305",
                                    "5": "89042541"
                                },
                                {
                                    "0": "Gone in 60 Seconds",
                                    "1": "2000-06-09",
                                    "2": "Action",
                                    "3": "PG-13",
                                    "4": "101643008",
                                    "5": "158970411"
                                },
                                {
                                    "0": "Fantasia 2000 (Theatrical Release)",
                                    "1": "2000-06-16",
                                    "2": "Musical",
                                    "3": "G",
                                    "4": "9103630",
                                    "5": "14238144"
                                },
                                {
                                    "0": "The Kid",
                                    "1": "2000-07-07",
                                    "2": "Comedy",
                                    "3": "PG",
                                    "4": "69688384",
                                    "5": "108993148"
                                },
                                {
                                    "0": "Coyote Ugly",
                                    "1": "2000-08-04",
                                    "2": "Drama",
                                    "3": "PG-13",
                                    "4": "60786269",
                                    "5": "95070168"
                                },
                                {
                                    "0": "The Crew",
                                    "1": "2000-08-25",
                                    "2": "Comedy",
                                    "3": "PG-13",
                                    "4": "13019253",
                                    "5": "20362201"
                                },
                                {
                                    "0": "Duets",
                                    "1": "2000-09-15",
                                    "2": "Drama",
                                    "3": "R",
                                    "4": "4734235",
                                    "5": "7404372"
                                },
                                {
                                    "0": "Remember the Titans",
                                    "1": "2000-09-29",
                                    "2": "Drama",
                                    "3": "PG",
                                    "4": "115654751",
                                    "5": "180742479"
                                },
                                {
                                    "0": "Unbreakable",
                                    "1": "2000-11-22",
                                    "2": "Thriller/Suspense",
                                    "3": "PG-13",
                                    "4": "94999143",
                                    "5": "148208901"
                                },
                                {
                                    "0": "102 Dalmatians",
                                    "1": "2000-11-22",
                                    "2": "Comedy",
                                    "3": "G",
                                    "4": "66941559",
                                    "5": "104055039"
                                },
                                {
                                    "0": "The Emperor's New Groove",
                                    "1": "2000-12-15",
                                    "2": "Adventure",
                                    "3": "G",
                                    "4": "89296573",
                                    "5": "136789252"
                                },
                                {
                                    "0": "O Brother, Where Art Thou?",
                                    "1": "2000-12-22",
                                    "2": "Comedy",
                                    "3": "PG-13",
                                    "4": "45506619",
                                    "5": "67922002"
                                }
                            ]
                        },
                        "text/html": "<table><tr><th>movie_title</th><th>release_date</th><th>genre</th><th>mpaa_rating</th><th>total_gross</th><th>inflation_adjusted_gross</th></tr><tr><td>Fantasia 2000 (IMAX)</td><td>2000-01-01</td><td>Musical</td><td>G</td><td>60507228</td><td>94852354</td></tr><tr><td>Gun Shy</td><td>2000-02-04</td><td>Comedy</td><td>R</td><td>1638202</td><td>2562155</td></tr><tr><td>The Tigger Movie</td><td>2000-02-11</td><td>Adventure</td><td>G</td><td>45542421</td><td>71228678</td></tr><tr><td>Mission to Mars</td><td>2000-03-10</td><td>Adventure</td><td>PG</td><td>60874615</td><td>95208344</td></tr><tr><td>High Fidelity</td><td>2000-03-31</td><td>Comedy</td><td>R</td><td>27277055</td><td>42661516</td></tr><tr><td>Keeping the Faith</td><td>2000-04-14</td><td>Romantic Comedy</td><td>PG-13</td><td>37036404</td><td>57925202</td></tr><tr><td>Dinosaur</td><td>2000-05-19</td><td>Adventure</td><td>PG</td><td>137748063</td><td>215438985</td></tr><tr><td>Shanghai Noon</td><td>2000-05-26</td><td>Western</td><td>PG-13</td><td>56932305</td><td>89042541</td></tr><tr><td>Gone in 60 Seconds</td><td>2000-06-09</td><td>Action</td><td>PG-13</td><td>101643008</td><td>158970411</td></tr><tr><td>Fantasia 2000 (Theatrical Release)</td><td>2000-06-16</td><td>Musical</td><td>G</td><td>9103630</td><td>14238144</td></tr><tr><td>The Kid</td><td>2000-07-07</td><td>Comedy</td><td>PG</td><td>69688384</td><td>108993148</td></tr><tr><td>Coyote Ugly</td><td>2000-08-04</td><td>Drama</td><td>PG-13</td><td>60786269</td><td>95070168</td></tr><tr><td>The Crew</td><td>2000-08-25</td><td>Comedy</td><td>PG-13</td><td>13019253</td><td>20362201</td></tr><tr><td>Duets</td><td>2000-09-15</td><td>Drama</td><td>R</td><td>4734235</td><td>7404372</td></tr><tr><td>Remember the Titans</td><td>2000-09-29</td><td>Drama</td><td>PG</td><td>115654751</td><td>180742479</td></tr><tr><td>Unbreakable</td><td>2000-11-22</td><td>Thriller/Suspense</td><td>PG-13</td><td>94999143</td><td>148208901</td></tr><tr><td>102 Dalmatians</td><td>2000-11-22</td><td>Comedy</td><td>G</td><td>66941559</td><td>104055039</td></tr><tr><td>The Emperor's New Groove</td><td>2000-12-15</td><td>Adventure</td><td>G</td><td>89296573</td><td>136789252</td></tr><tr><td>O Brother, Where Art Thou?</td><td>2000-12-22</td><td>Comedy</td><td>PG-13</td><td>45506619</td><td>67922002</td></tr></table>"
                    },
                    "metadata": {}
                }
            ],
            "execution_count": 16
        },
        {
            "cell_type": "markdown",
            "source": "## การใช้ insert into .... select เพื่อนำเอาแถวจากตารางอื่นมาเพิ่มในตารางที่กำหนด",
            "metadata": {}
        },
        {
            "cell_type": "code",
            "source": "insert into m2000 select * from m2001",
            "metadata": {},
            "outputs": [
                {
                    "output_type": "display_data",
                    "data": {
                        "text/html": "(14 rows affected)"
                    },
                    "metadata": {}
                },
                {
                    "output_type": "display_data",
                    "data": {
                        "text/html": "Total execution time: 00:00:00.094"
                    },
                    "metadata": {}
                }
            ],
            "execution_count": 17
        },
        {
            "cell_type": "code",
            "source": "select * from m2000",
            "metadata": {},
            "outputs": [
                {
                    "output_type": "display_data",
                    "data": {
                        "text/html": "(33 rows affected)"
                    },
                    "metadata": {}
                },
                {
                    "output_type": "display_data",
                    "data": {
                        "text/html": "Total execution time: 00:00:00.059"
                    },
                    "metadata": {}
                },
                {
                    "output_type": "execute_result",
                    "execution_count": 18,
                    "data": {
                        "application/vnd.dataresource+json": {
                            "schema": {
                                "fields": [
                                    {
                                        "name": "movie_title"
                                    },
                                    {
                                        "name": "release_date"
                                    },
                                    {
                                        "name": "genre"
                                    },
                                    {
                                        "name": "mpaa_rating"
                                    },
                                    {
                                        "name": "total_gross"
                                    },
                                    {
                                        "name": "inflation_adjusted_gross"
                                    }
                                ]
                            },
                            "data": [
                                {
                                    "0": "Fantasia 2000 (IMAX)",
                                    "1": "2000-01-01",
                                    "2": "Musical",
                                    "3": "G",
                                    "4": "60507228",
                                    "5": "94852354"
                                },
                                {
                                    "0": "Gun Shy",
                                    "1": "2000-02-04",
                                    "2": "Comedy",
                                    "3": "R",
                                    "4": "1638202",
                                    "5": "2562155"
                                },
                                {
                                    "0": "The Tigger Movie",
                                    "1": "2000-02-11",
                                    "2": "Adventure",
                                    "3": "G",
                                    "4": "45542421",
                                    "5": "71228678"
                                },
                                {
                                    "0": "Mission to Mars",
                                    "1": "2000-03-10",
                                    "2": "Adventure",
                                    "3": "PG",
                                    "4": "60874615",
                                    "5": "95208344"
                                },
                                {
                                    "0": "High Fidelity",
                                    "1": "2000-03-31",
                                    "2": "Comedy",
                                    "3": "R",
                                    "4": "27277055",
                                    "5": "42661516"
                                },
                                {
                                    "0": "Keeping the Faith",
                                    "1": "2000-04-14",
                                    "2": "Romantic Comedy",
                                    "3": "PG-13",
                                    "4": "37036404",
                                    "5": "57925202"
                                },
                                {
                                    "0": "Dinosaur",
                                    "1": "2000-05-19",
                                    "2": "Adventure",
                                    "3": "PG",
                                    "4": "137748063",
                                    "5": "215438985"
                                },
                                {
                                    "0": "Shanghai Noon",
                                    "1": "2000-05-26",
                                    "2": "Western",
                                    "3": "PG-13",
                                    "4": "56932305",
                                    "5": "89042541"
                                },
                                {
                                    "0": "Gone in 60 Seconds",
                                    "1": "2000-06-09",
                                    "2": "Action",
                                    "3": "PG-13",
                                    "4": "101643008",
                                    "5": "158970411"
                                },
                                {
                                    "0": "Fantasia 2000 (Theatrical Release)",
                                    "1": "2000-06-16",
                                    "2": "Musical",
                                    "3": "G",
                                    "4": "9103630",
                                    "5": "14238144"
                                },
                                {
                                    "0": "The Kid",
                                    "1": "2000-07-07",
                                    "2": "Comedy",
                                    "3": "PG",
                                    "4": "69688384",
                                    "5": "108993148"
                                },
                                {
                                    "0": "Coyote Ugly",
                                    "1": "2000-08-04",
                                    "2": "Drama",
                                    "3": "PG-13",
                                    "4": "60786269",
                                    "5": "95070168"
                                },
                                {
                                    "0": "The Crew",
                                    "1": "2000-08-25",
                                    "2": "Comedy",
                                    "3": "PG-13",
                                    "4": "13019253",
                                    "5": "20362201"
                                },
                                {
                                    "0": "Duets",
                                    "1": "2000-09-15",
                                    "2": "Drama",
                                    "3": "R",
                                    "4": "4734235",
                                    "5": "7404372"
                                },
                                {
                                    "0": "Remember the Titans",
                                    "1": "2000-09-29",
                                    "2": "Drama",
                                    "3": "PG",
                                    "4": "115654751",
                                    "5": "180742479"
                                },
                                {
                                    "0": "Unbreakable",
                                    "1": "2000-11-22",
                                    "2": "Thriller/Suspense",
                                    "3": "PG-13",
                                    "4": "94999143",
                                    "5": "148208901"
                                },
                                {
                                    "0": "102 Dalmatians",
                                    "1": "2000-11-22",
                                    "2": "Comedy",
                                    "3": "G",
                                    "4": "66941559",
                                    "5": "104055039"
                                },
                                {
                                    "0": "The Emperor's New Groove",
                                    "1": "2000-12-15",
                                    "2": "Adventure",
                                    "3": "G",
                                    "4": "89296573",
                                    "5": "136789252"
                                },
                                {
                                    "0": "O Brother, Where Art Thou?",
                                    "1": "2000-12-22",
                                    "2": "Comedy",
                                    "3": "PG-13",
                                    "4": "45506619",
                                    "5": "67922002"
                                },
                                {
                                    "0": "Double Take",
                                    "1": "2001-01-12",
                                    "2": "Action",
                                    "3": "PG-13",
                                    "4": "29823162",
                                    "5": "44418589"
                                },
                                {
                                    "0": "Recess: School's Out",
                                    "1": "2001-02-16",
                                    "2": "Comedy",
                                    "3": "G",
                                    "4": "36696761",
                                    "5": "54656124"
                                },
                                {
                                    "0": "Just Visiting",
                                    "1": "2001-04-06",
                                    "2": "Comedy",
                                    "3": "PG-13",
                                    "4": "4777007",
                                    "5": "7114869"
                                },
                                {
                                    "0": "Pearl Harbor",
                                    "1": "2001-05-25",
                                    "2": "Action",
                                    "3": "PG-13",
                                    "4": "198539855",
                                    "5": "295705112"
                                },
                                {
                                    "0": "Atlantis: The Lost Empire",
                                    "1": "2001-06-08",
                                    "2": "Adventure",
                                    "3": "PG",
                                    "4": "84052762",
                                    "5": "125188122"
                                },
                                {
                                    "0": "crazy/beautiful",
                                    "1": "2001-06-29",
                                    "2": "Drama",
                                    "3": "PG-13",
                                    "4": "16929123",
                                    "5": "25214223"
                                },
                                {
                                    "0": "The Princess Diaries",
                                    "1": "2001-08-03",
                                    "2": "Comedy",
                                    "3": "G",
                                    "4": "108244774",
                                    "5": "161218928"
                                },
                                {
                                    "0": "Bubble Boy",
                                    "1": "2001-08-24",
                                    "2": "Comedy",
                                    "3": "PG-13",
                                    "4": "5002310",
                                    "5": "7450434"
                                },
                                {
                                    "0": "Max Keeble's Big Move",
                                    "1": "2001-10-05",
                                    "2": "Comedy",
                                    "3": "PG",
                                    "4": "17292381",
                                    "5": "25749730"
                                },
                                {
                                    "0": "Corky Romano",
                                    "1": "2001-10-12",
                                    "2": "Comedy",
                                    "3": "PG-13",
                                    "4": "23978402",
                                    "5": "35705805"
                                },
                                {
                                    "0": "High Heels and Low Lifes",
                                    "1": "2001-10-26",
                                    "2": "NULL",
                                    "3": "R",
                                    "4": "226792",
                                    "5": "337782"
                                },
                                {
                                    "0": "Monsters, Inc.",
                                    "1": "2001-11-02",
                                    "2": "Adventure",
                                    "3": "G",
                                    "4": "289423425",
                                    "5": "416073179"
                                },
                                {
                                    "0": "Out Cold",
                                    "1": "2001-11-21",
                                    "2": "Comedy",
                                    "3": "PG-13",
                                    "4": "13906394",
                                    "5": "20700691"
                                },
                                {
                                    "0": "The Royal Tenenbaums",
                                    "1": "2001-12-14",
                                    "2": "Black Comedy",
                                    "3": "R",
                                    "4": "52353636",
                                    "5": "76758193"
                                }
                            ]
                        },
                        "text/html": "<table><tr><th>movie_title</th><th>release_date</th><th>genre</th><th>mpaa_rating</th><th>total_gross</th><th>inflation_adjusted_gross</th></tr><tr><td>Fantasia 2000 (IMAX)</td><td>2000-01-01</td><td>Musical</td><td>G</td><td>60507228</td><td>94852354</td></tr><tr><td>Gun Shy</td><td>2000-02-04</td><td>Comedy</td><td>R</td><td>1638202</td><td>2562155</td></tr><tr><td>The Tigger Movie</td><td>2000-02-11</td><td>Adventure</td><td>G</td><td>45542421</td><td>71228678</td></tr><tr><td>Mission to Mars</td><td>2000-03-10</td><td>Adventure</td><td>PG</td><td>60874615</td><td>95208344</td></tr><tr><td>High Fidelity</td><td>2000-03-31</td><td>Comedy</td><td>R</td><td>27277055</td><td>42661516</td></tr><tr><td>Keeping the Faith</td><td>2000-04-14</td><td>Romantic Comedy</td><td>PG-13</td><td>37036404</td><td>57925202</td></tr><tr><td>Dinosaur</td><td>2000-05-19</td><td>Adventure</td><td>PG</td><td>137748063</td><td>215438985</td></tr><tr><td>Shanghai Noon</td><td>2000-05-26</td><td>Western</td><td>PG-13</td><td>56932305</td><td>89042541</td></tr><tr><td>Gone in 60 Seconds</td><td>2000-06-09</td><td>Action</td><td>PG-13</td><td>101643008</td><td>158970411</td></tr><tr><td>Fantasia 2000 (Theatrical Release)</td><td>2000-06-16</td><td>Musical</td><td>G</td><td>9103630</td><td>14238144</td></tr><tr><td>The Kid</td><td>2000-07-07</td><td>Comedy</td><td>PG</td><td>69688384</td><td>108993148</td></tr><tr><td>Coyote Ugly</td><td>2000-08-04</td><td>Drama</td><td>PG-13</td><td>60786269</td><td>95070168</td></tr><tr><td>The Crew</td><td>2000-08-25</td><td>Comedy</td><td>PG-13</td><td>13019253</td><td>20362201</td></tr><tr><td>Duets</td><td>2000-09-15</td><td>Drama</td><td>R</td><td>4734235</td><td>7404372</td></tr><tr><td>Remember the Titans</td><td>2000-09-29</td><td>Drama</td><td>PG</td><td>115654751</td><td>180742479</td></tr><tr><td>Unbreakable</td><td>2000-11-22</td><td>Thriller/Suspense</td><td>PG-13</td><td>94999143</td><td>148208901</td></tr><tr><td>102 Dalmatians</td><td>2000-11-22</td><td>Comedy</td><td>G</td><td>66941559</td><td>104055039</td></tr><tr><td>The Emperor's New Groove</td><td>2000-12-15</td><td>Adventure</td><td>G</td><td>89296573</td><td>136789252</td></tr><tr><td>O Brother, Where Art Thou?</td><td>2000-12-22</td><td>Comedy</td><td>PG-13</td><td>45506619</td><td>67922002</td></tr><tr><td>Double Take</td><td>2001-01-12</td><td>Action</td><td>PG-13</td><td>29823162</td><td>44418589</td></tr><tr><td>Recess: School's Out</td><td>2001-02-16</td><td>Comedy</td><td>G</td><td>36696761</td><td>54656124</td></tr><tr><td>Just Visiting</td><td>2001-04-06</td><td>Comedy</td><td>PG-13</td><td>4777007</td><td>7114869</td></tr><tr><td>Pearl Harbor</td><td>2001-05-25</td><td>Action</td><td>PG-13</td><td>198539855</td><td>295705112</td></tr><tr><td>Atlantis: The Lost Empire</td><td>2001-06-08</td><td>Adventure</td><td>PG</td><td>84052762</td><td>125188122</td></tr><tr><td>crazy/beautiful</td><td>2001-06-29</td><td>Drama</td><td>PG-13</td><td>16929123</td><td>25214223</td></tr><tr><td>The Princess Diaries</td><td>2001-08-03</td><td>Comedy</td><td>G</td><td>108244774</td><td>161218928</td></tr><tr><td>Bubble Boy</td><td>2001-08-24</td><td>Comedy</td><td>PG-13</td><td>5002310</td><td>7450434</td></tr><tr><td>Max Keeble's Big Move</td><td>2001-10-05</td><td>Comedy</td><td>PG</td><td>17292381</td><td>25749730</td></tr><tr><td>Corky Romano</td><td>2001-10-12</td><td>Comedy</td><td>PG-13</td><td>23978402</td><td>35705805</td></tr><tr><td>High Heels and Low Lifes</td><td>2001-10-26</td><td>NULL</td><td>R</td><td>226792</td><td>337782</td></tr><tr><td>Monsters, Inc.</td><td>2001-11-02</td><td>Adventure</td><td>G</td><td>289423425</td><td>416073179</td></tr><tr><td>Out Cold</td><td>2001-11-21</td><td>Comedy</td><td>PG-13</td><td>13906394</td><td>20700691</td></tr><tr><td>The Royal Tenenbaums</td><td>2001-12-14</td><td>Black Comedy</td><td>R</td><td>52353636</td><td>76758193</td></tr></table>"
                    },
                    "metadata": {}
                }
            ],
            "execution_count": 18
        }
    ]
}